{
 "cells": [
  {
   "cell_type": "code",
   "execution_count": 1,
   "metadata": {
    "collapsed": true
   },
   "outputs": [],
   "source": [
    "%matplotlib inline\n",
    "import matplotlib.pyplot as plt"
   ]
  },
  {
   "cell_type": "code",
   "execution_count": 2,
   "metadata": {
    "collapsed": true
   },
   "outputs": [],
   "source": [
    "import numpy as np"
   ]
  },
  {
   "cell_type": "code",
   "execution_count": 3,
   "metadata": {
    "collapsed": true
   },
   "outputs": [],
   "source": [
    "import pandas as pd"
   ]
  },
  {
   "cell_type": "code",
   "execution_count": 4,
   "metadata": {
    "collapsed": true
   },
   "outputs": [],
   "source": [
    "from sqlalchemy import create_engine"
   ]
  },
  {
   "cell_type": "code",
   "execution_count": 5,
   "metadata": {
    "collapsed": false
   },
   "outputs": [],
   "source": [
    "# Uncomment these lines and change directories to write to hdf instead\n",
    "\n",
    "# dbname = '/Users/rbiswas/data/LSST/OpSimData/kraken_1042_sqlite.db'#enigma_1189_sqlite.db'\n",
    "# engine = create_engine('sqlite:///' + dbname)\n",
    "# Summary = pd.read_sql_table('Summary', engine, index_col='obsHistID')\n",
    "# Summary.to_hdf('/Users/rbiswas/data/LSST/OpSimData/kraken_1042.hdf', 'table')"
   ]
  },
  {
   "cell_type": "code",
   "execution_count": 6,
   "metadata": {
    "collapsed": true
   },
   "outputs": [],
   "source": [
    "df = pd.read_hdf('/Users/rbiswas/data/LSST/OpSimData/kraken_1042.hdf', 'table')"
   ]
  },
  {
   "cell_type": "code",
   "execution_count": 7,
   "metadata": {
    "collapsed": false
   },
   "outputs": [],
   "source": [
    "df = df.query('fieldID==1427 and propID == 152')"
   ]
  },
  {
   "cell_type": "code",
   "execution_count": 8,
   "metadata": {
    "collapsed": false
   },
   "outputs": [
    {
     "name": "stdout",
     "output_type": "stream",
     "text": [
      "59580.125716\n",
      "61401.1227295\n"
     ]
    }
   ],
   "source": [
    "print(df.expMJD.min())\n",
    "print((df.expMJD.max() + df.expMJD.min()) / 2.)"
   ]
  },
  {
   "cell_type": "code",
   "execution_count": 9,
   "metadata": {
    "collapsed": false
   },
   "outputs": [
    {
     "data": {
      "text/plain": [
       "<matplotlib.axes._subplots.AxesSubplot at 0x15184d290>"
      ]
     },
     "execution_count": 9,
     "metadata": {},
     "output_type": "execute_result"
    },
    {
     "data": {
      "image/png": "[encoded data removed]",
      "text/plain": [
       "<matplotlib.figure.Figure at 0x10f7fe050>"
      ]
     },
     "metadata": {},
     "output_type": "display_data"
    }
   ],
   "source": [
    "df.propID.hist()"
   ]
  },
  {
   "cell_type": "code",
   "execution_count": 10,
   "metadata": {
    "collapsed": true
   },
   "outputs": [],
   "source": [
    "import OpSimSummary.summarize_opsim as so"
   ]
  },
  {
   "cell_type": "code",
   "execution_count": 11,
   "metadata": {
    "collapsed": true
   },
   "outputs": [],
   "source": [
    "ds  = so.SummaryOpsim(summarydf=df)"
   ]
  },
  {
   "cell_type": "code",
   "execution_count": 12,
   "metadata": {
    "collapsed": false
   },
   "outputs": [
    {
     "data": {
      "text/plain": [
       "61401.122729499999"
      ]
     },
     "execution_count": 12,
     "metadata": {},
     "output_type": "execute_result"
    }
   ],
   "source": [
    "(df.expMJD.max() + df.expMJD.min()) / 2."
   ]
  },
  {
   "cell_type": "markdown",
   "metadata": {},
   "source": [
    "If I forget dithers and just look at how many observations per field: \n",
    "- Look at the number of unique nights with different bands:  For the full survey this number of visits is 1680, see  figure in Input 13\n",
    "- For half of the survey, the same quantity is 824, see figure 1nput 14\n",
    "- For a year the number is ~150. See figure on input 15 "
   ]
  },
  {
   "cell_type": "code",
   "execution_count": 13,
   "metadata": {
    "collapsed": false
   },
   "outputs": [],
   "source": [
    "full_survey = ds.cadence_plot(fieldID=1427, mjd_center=61404, mjd_range=[-1825, 1825], \n",
    "                              observedOnly=False, colorbar=True);\n",
    "plt.close()"
   ]
  },
  {
   "cell_type": "code",
   "execution_count": 14,
   "metadata": {
    "collapsed": false
   },
   "outputs": [
    {
     "data": {
      "image/png": "[encoded data removed]",
      "text/plain": [
       "<matplotlib.figure.Figure at 0x14d127c90>"
      ]
     },
     "execution_count": 14,
     "metadata": {},
     "output_type": "execute_result"
    }
   ],
   "source": [
    "full_survey[0]"
   ]
  },
  {
   "cell_type": "code",
   "execution_count": 15,
   "metadata": {
    "collapsed": false
   },
   "outputs": [
    {
     "data": {
      "image/png": "[encoded data removed]",
      "text/plain": [
       "<matplotlib.figure.Figure at 0x1527beb10>"
      ]
     },
     "metadata": {},
     "output_type": "display_data"
    }
   ],
   "source": [
    "half_survey = ds.cadence_plot(fieldID=1427, mjd_center=61404, mjd_range=[-1825, 1], \n",
    "                              observedOnly=False, colorbar=True);\n"
   ]
  },
  {
   "cell_type": "code",
   "execution_count": 16,
   "metadata": {
    "collapsed": false
   },
   "outputs": [
    {
     "data": {
      "image/png": "[encoded data removed]",
      "text/plain": [
       "<matplotlib.figure.Figure at 0x150b3d510>"
      ]
     },
     "metadata": {},
     "output_type": "display_data"
    }
   ],
   "source": [
    "second_year = ds.cadence_plot(fieldID=1427, mjd_center=60200, mjd_range=[-150, 150], \n",
    "                              observedOnly=False, colorbar=True);"
   ]
  },
  {
   "cell_type": "code",
   "execution_count": 17,
   "metadata": {
    "collapsed": false
   },
   "outputs": [
    {
     "data": {
      "image/png": "[encoded data removed]",
      "text/plain": [
       "<matplotlib.figure.Figure at 0x14b7d7bd0>"
      ]
     },
     "execution_count": 17,
     "metadata": {},
     "output_type": "execute_result"
    }
   ],
   "source": [
    "secondYearObs = ds.cadence_plot(fieldID=1427, mjd_center=60300, mjd_range=[-0, 30], observedOnly=False)\n",
    "plt.close()\n",
    "secondYearObs[0]"
   ]
  },
  {
   "cell_type": "markdown",
   "metadata": {},
   "source": [
    "##  List of obsHistIDs with unique nights"
   ]
  },
  {
   "cell_type": "markdown",
   "metadata": {},
   "source": [
    "#### Proposal :\n",
    "\n",
    "1. We want to select all the unique night and band combinations in the 10 years of Kraken. As we have seen above this is 1680 visits. \n",
    "2. We will give the phosim instance catalogs and seds for running phosim on the cluster, and we should run these in order of expMJD or night. If we run out of compute time at a 1000, then we will have a little more than half of the survey\n",
    "3. When we get more (phoSim) simulation time, we can finish the 10 years. If we have more time than than, I suggest we **fill in other observations in the 2nd year** as shown in the above figure around 60300. This is another 500 observations. After than we can fill in the rest of the second year and then other years. The priority for the the second year (and could have been elsewhere) is because I can make sure that there a few supernovae that are at high redshift and 'visible' at that time. I need to know this ahead of time, and that is why I putting this out now."
   ]
  },
  {
   "cell_type": "code",
   "execution_count": 18,
   "metadata": {
    "collapsed": false
   },
   "outputs": [],
   "source": [
    "df['obsID'] = df.index.values"
   ]
  },
  {
   "cell_type": "code",
   "execution_count": 19,
   "metadata": {
    "collapsed": false
   },
   "outputs": [],
   "source": [
    "uniqueObs = df.groupby(['night', 'filter'])"
   ]
  },
  {
   "cell_type": "code",
   "execution_count": 20,
   "metadata": {
    "collapsed": false
   },
   "outputs": [],
   "source": [
    "aa = uniqueObs['airmass'].agg({'myInds': lambda x: x.idxmin()}).myInds.astype(int).values"
   ]
  },
  {
   "cell_type": "code",
   "execution_count": 21,
   "metadata": {
    "collapsed": false
   },
   "outputs": [],
   "source": [
    "ourOpSim = df.ix[aa]"
   ]
  },
  {
   "cell_type": "markdown",
   "metadata": {},
   "source": [
    "####  How much does it help our airmass distribution by choosing the lowest airmass of the available ones"
   ]
  },
  {
   "cell_type": "code",
   "execution_count": 22,
   "metadata": {
    "collapsed": false
   },
   "outputs": [
    {
     "data": {
      "image/png": "[encoded data removed]",
      "text/plain": [
       "<matplotlib.figure.Figure at 0x14cff1810>"
      ]
     },
     "metadata": {},
     "output_type": "display_data"
    }
   ],
   "source": [
    "axs = df.hist(by='filter', column='airmass', histtype='step', lw=2, alpha=1, color='k', normed=True);\n",
    "axs = df.ix[aa].hist(by='filter', column='airmass', histtype='step', lw=2, alpha=1, color='r', ax=axs, normed=True)"
   ]
  },
  {
   "cell_type": "code",
   "execution_count": 23,
   "metadata": {
    "collapsed": false
   },
   "outputs": [
    {
     "data": {
      "text/plain": [
       "(23673, 23673)"
      ]
     },
     "execution_count": 23,
     "metadata": {},
     "output_type": "execute_result"
    }
   ],
   "source": [
    "df.obsID.unique().size, df.obsID.size"
   ]
  },
  {
   "cell_type": "code",
   "execution_count": 24,
   "metadata": {
    "collapsed": false
   },
   "outputs": [
    {
     "data": {
      "text/html": [
       "<div>\n",
       "<table border=\"1\" class=\"dataframe\">\n",
       "  <thead>\n",
       "    <tr style=\"text-align: right;\">\n",
       "      <th></th>\n",
       "      <th>sessionID</th>\n",
       "      <th>propID</th>\n",
       "      <th>fieldID</th>\n",
       "      <th>fieldRA</th>\n",
       "      <th>fieldDec</th>\n",
       "      <th>filter</th>\n",
       "      <th>expDate</th>\n",
       "      <th>expMJD</th>\n",
       "      <th>night</th>\n",
       "      <th>visitTime</th>\n",
       "      <th>...</th>\n",
       "      <th>darkBright</th>\n",
       "      <th>rawSeeing</th>\n",
       "      <th>wind</th>\n",
       "      <th>humidity</th>\n",
       "      <th>slewDist</th>\n",
       "      <th>slewTime</th>\n",
       "      <th>fiveSigmaDepth</th>\n",
       "      <th>ditheredRA</th>\n",
       "      <th>ditheredDec</th>\n",
       "      <th>obsID</th>\n",
       "    </tr>\n",
       "    <tr>\n",
       "      <th>obsHistID</th>\n",
       "      <th></th>\n",
       "      <th></th>\n",
       "      <th></th>\n",
       "      <th></th>\n",
       "      <th></th>\n",
       "      <th></th>\n",
       "      <th></th>\n",
       "      <th></th>\n",
       "      <th></th>\n",
       "      <th></th>\n",
       "      <th></th>\n",
       "      <th></th>\n",
       "      <th></th>\n",
       "      <th></th>\n",
       "      <th></th>\n",
       "      <th></th>\n",
       "      <th></th>\n",
       "      <th></th>\n",
       "      <th></th>\n",
       "      <th></th>\n",
       "      <th></th>\n",
       "    </tr>\n",
       "  </thead>\n",
       "  <tbody>\n",
       "    <tr>\n",
       "      <th>220</th>\n",
       "      <td>1042</td>\n",
       "      <td>152</td>\n",
       "      <td>1427</td>\n",
       "      <td>0.925184</td>\n",
       "      <td>-0.4789</td>\n",
       "      <td>g</td>\n",
       "      <td>11699</td>\n",
       "      <td>59580.135415</td>\n",
       "      <td>0</td>\n",
       "      <td>34</td>\n",
       "      <td>...</td>\n",
       "      <td>84.048697</td>\n",
       "      <td>0.869226</td>\n",
       "      <td>0</td>\n",
       "      <td>0</td>\n",
       "      <td>0.000000</td>\n",
       "      <td>120</td>\n",
       "      <td>24.357859</td>\n",
       "      <td>0.907976</td>\n",
       "      <td>-0.505351</td>\n",
       "      <td>220</td>\n",
       "    </tr>\n",
       "    <tr>\n",
       "      <th>230</th>\n",
       "      <td>1042</td>\n",
       "      <td>152</td>\n",
       "      <td>1427</td>\n",
       "      <td>0.925184</td>\n",
       "      <td>-0.4789</td>\n",
       "      <td>i</td>\n",
       "      <td>12177</td>\n",
       "      <td>59580.140948</td>\n",
       "      <td>0</td>\n",
       "      <td>34</td>\n",
       "      <td>...</td>\n",
       "      <td>84.905894</td>\n",
       "      <td>0.791241</td>\n",
       "      <td>0</td>\n",
       "      <td>0</td>\n",
       "      <td>0.000000</td>\n",
       "      <td>120</td>\n",
       "      <td>23.529519</td>\n",
       "      <td>0.907976</td>\n",
       "      <td>-0.505351</td>\n",
       "      <td>230</td>\n",
       "    </tr>\n",
       "    <tr>\n",
       "      <th>200</th>\n",
       "      <td>1042</td>\n",
       "      <td>152</td>\n",
       "      <td>1427</td>\n",
       "      <td>0.925184</td>\n",
       "      <td>-0.4789</td>\n",
       "      <td>r</td>\n",
       "      <td>10861</td>\n",
       "      <td>59580.125716</td>\n",
       "      <td>0</td>\n",
       "      <td>34</td>\n",
       "      <td>...</td>\n",
       "      <td>82.698160</td>\n",
       "      <td>0.744120</td>\n",
       "      <td>0</td>\n",
       "      <td>0</td>\n",
       "      <td>0.837387</td>\n",
       "      <td>140</td>\n",
       "      <td>24.234817</td>\n",
       "      <td>0.907976</td>\n",
       "      <td>-0.505351</td>\n",
       "      <td>200</td>\n",
       "    </tr>\n",
       "    <tr>\n",
       "      <th>276</th>\n",
       "      <td>1042</td>\n",
       "      <td>152</td>\n",
       "      <td>1427</td>\n",
       "      <td>0.925184</td>\n",
       "      <td>-0.4789</td>\n",
       "      <td>y</td>\n",
       "      <td>14069</td>\n",
       "      <td>59580.162846</td>\n",
       "      <td>0</td>\n",
       "      <td>34</td>\n",
       "      <td>...</td>\n",
       "      <td>89.102576</td>\n",
       "      <td>1.132846</td>\n",
       "      <td>0</td>\n",
       "      <td>0</td>\n",
       "      <td>0.000000</td>\n",
       "      <td>120</td>\n",
       "      <td>21.187902</td>\n",
       "      <td>0.907976</td>\n",
       "      <td>-0.505351</td>\n",
       "      <td>276</td>\n",
       "    </tr>\n",
       "    <tr>\n",
       "      <th>250</th>\n",
       "      <td>1042</td>\n",
       "      <td>152</td>\n",
       "      <td>1427</td>\n",
       "      <td>0.925184</td>\n",
       "      <td>-0.4789</td>\n",
       "      <td>z</td>\n",
       "      <td>13015</td>\n",
       "      <td>59580.150647</td>\n",
       "      <td>0</td>\n",
       "      <td>34</td>\n",
       "      <td>...</td>\n",
       "      <td>86.600272</td>\n",
       "      <td>0.928894</td>\n",
       "      <td>0</td>\n",
       "      <td>0</td>\n",
       "      <td>0.000000</td>\n",
       "      <td>120</td>\n",
       "      <td>22.841986</td>\n",
       "      <td>0.907976</td>\n",
       "      <td>-0.505351</td>\n",
       "      <td>250</td>\n",
       "    </tr>\n",
       "  </tbody>\n",
       "</table>\n",
       "<p>5 rows × 47 columns</p>\n",
       "</div>"
      ],
      "text/plain": [
       "           sessionID  propID  fieldID   fieldRA  fieldDec filter  expDate  \\\n",
       "obsHistID                                                                   \n",
       "220             1042     152     1427  0.925184   -0.4789      g    11699   \n",
       "230             1042     152     1427  0.925184   -0.4789      i    12177   \n",
       "200             1042     152     1427  0.925184   -0.4789      r    10861   \n",
       "276             1042     152     1427  0.925184   -0.4789      y    14069   \n",
       "250             1042     152     1427  0.925184   -0.4789      z    13015   \n",
       "\n",
       "                 expMJD  night  visitTime  ...    darkBright  rawSeeing  wind  \\\n",
       "obsHistID                                  ...                                  \n",
       "220        59580.135415      0         34  ...     84.048697   0.869226     0   \n",
       "230        59580.140948      0         34  ...     84.905894   0.791241     0   \n",
       "200        59580.125716      0         34  ...     82.698160   0.744120     0   \n",
       "276        59580.162846      0         34  ...     89.102576   1.132846     0   \n",
       "250        59580.150647      0         34  ...     86.600272   0.928894     0   \n",
       "\n",
       "           humidity  slewDist  slewTime  fiveSigmaDepth  ditheredRA  \\\n",
       "obsHistID                                                             \n",
       "220               0  0.000000       120       24.357859    0.907976   \n",
       "230               0  0.000000       120       23.529519    0.907976   \n",
       "200               0  0.837387       140       24.234817    0.907976   \n",
       "276               0  0.000000       120       21.187902    0.907976   \n",
       "250               0  0.000000       120       22.841986    0.907976   \n",
       "\n",
       "           ditheredDec  obsID  \n",
       "obsHistID                      \n",
       "220          -0.505351    220  \n",
       "230          -0.505351    230  \n",
       "200          -0.505351    200  \n",
       "276          -0.505351    276  \n",
       "250          -0.505351    250  \n",
       "\n",
       "[5 rows x 47 columns]"
      ]
     },
     "execution_count": 24,
     "metadata": {},
     "output_type": "execute_result"
    }
   ],
   "source": [
    "ourOpSim.head()"
   ]
  },
  {
   "cell_type": "markdown",
   "metadata": {},
   "source": [
    "Our culled opsim that we shall try out first is now 'ourOpSim' . We can write this our to a csv file, or a database. We can also view the list of obsHistIDs"
   ]
  },
  {
   "cell_type": "code",
   "execution_count": 25,
   "metadata": {
    "collapsed": false
   },
   "outputs": [
    {
     "data": {
      "text/plain": [
       "array([    220,     230,     200, ..., 2442742, 2442799, 2442775])"
      ]
     },
     "execution_count": 25,
     "metadata": {},
     "output_type": "execute_result"
    }
   ],
   "source": [
    "ourOpSim.obsID.values"
   ]
  },
  {
   "cell_type": "code",
   "execution_count": 34,
   "metadata": {
    "collapsed": true
   },
   "outputs": [],
   "source": [
    "ourOpSim.obsID.to_csv('FirstSet_obsHistIDs.csv')"
   ]
  },
  {
   "cell_type": "code",
   "execution_count": 35,
   "metadata": {
    "collapsed": true
   },
   "outputs": [],
   "source": [
    "ourOpSim.to_csv('SelectedKrakenVisits.csv')"
   ]
  },
  {
   "cell_type": "code",
   "execution_count": 26,
   "metadata": {
    "collapsed": false
   },
   "outputs": [],
   "source": [
    "xx = ourOpSim.groupby(['night', 'filter']).aggregate('count')"
   ]
  },
  {
   "cell_type": "code",
   "execution_count": 33,
   "metadata": {
    "collapsed": false
   },
   "outputs": [],
   "source": [
    "assert(all(xx.max() == 1))"
   ]
  },
  {
   "cell_type": "markdown",
   "metadata": {},
   "source": [
    "# Scratch"
   ]
  },
  {
   "cell_type": "markdown",
   "metadata": {},
   "source": [
    "###  Find the obsHistIDs corresponding to the lowest airmass of visits"
   ]
  },
  {
   "cell_type": "code",
   "execution_count": null,
   "metadata": {
    "collapsed": false
   },
   "outputs": [],
   "source": [
    "dff = uniqueObs['airmass'].agg({'myInds': lambda x: x.idxmin()})\n",
    "aa = dff.myInds.astype(int).values\n",
    "aa.sort()"
   ]
  },
  {
   "cell_type": "code",
   "execution_count": null,
   "metadata": {
    "collapsed": true
   },
   "outputs": [],
   "source": [
    "l = []\n",
    "for key in keys:\n",
    "    l.append(uniqueObs.get_group(key).airmass.idxmin())"
   ]
  },
  {
   "cell_type": "code",
   "execution_count": null,
   "metadata": {
    "collapsed": true
   },
   "outputs": [],
   "source": []
  }
 ],
 "metadata": {
  "kernelspec": {
   "display_name": "Python 2",
   "language": "python",
   "name": "python2"
  }
 },
 "nbformat": 4,
 "nbformat_minor": 0
}
