{
 "cells": [
  {
   "cell_type": "markdown",
   "metadata": {},
   "source": [
    "# Strong Lensing in Twinkles"
   ]
  },
  {
   "cell_type": "markdown",
   "metadata": {},
   "source": [
    "## Overview\n",
    "\n",
    "Strong Lensing in Twinkles simulations involves taking existing CATSIM instance catalogs and replacing specific AGN within those catalogs with a Strongly Lensed AGN system. This means adding images of the original AGN and a lens galaxy into the CATSIM instance catalogs. This is done using a piece of code in the Twinkles repository that is known as the sprinkler. This notebook will first discuss the sprinkler and then move onto verifying its outputs in instance catalogs."
   ]
  },
  {
   "cell_type": "markdown",
   "metadata": {},
   "source": [
    "## Sprinkler Code Review"
   ]
  },
  {
   "cell_type": "markdown",
   "metadata": {},
   "source": [
    "The sprinkler code can be found [here](https://github.com/DarkEnergyScienceCollaboration/Twinkles/blob/master/python/desc/twinkles/sprinkler.py). It involves a step inserted into the `final pass` method of the Instance Catalog class that allows manipulation of the array of catalog results to be manipulated before printing out. This step starts with the loading of an OM10 based catalog of strongly lensed AGN systems.\n",
    "\n",
    "### The OM10-Twinkles Catalog\n",
    "\n",
    "The catalog we are using started with the set of the 872 rung 4 lenses from the Time Delay Challenge 1 (see discussion in this [issue](https://github.com/DarkEnergyScienceCollaboration/Twinkles/issues/117) on why these were chosen). However, when looking through this catalog we learned that sizes were missing for the foreground lens galaxies and we have chosen to use CATSIM galaxies to add this information to the catalog as well as an SED for each of these foreground galaxies. This process was completed in this [issue](https://github.com/DarkEnergyScienceCollaboration/Twinkles/issues/310). In the process 11 galaxies were unable to be matched adequately to CATSIM galaxies so we end up with a final catalog in Twinkles of 861 galaxies.\n",
    "\n",
    "### Selecting Sprinkled Systems\n",
    "\n",
    "The next step after loading the lensing catalog is to go through the instance catalog AGNs one at a time and see if they match a lens system from our OM10-Twinkles catalog. The matching is done by taking the redshift and magnitude of the CATSIM AGN and selecting any available lens systems with a source AGN that has a redshift within 0.1 dex and an LSST magnorm value (magnitude in a simulated filter with one bin at 500nm) within .25 mags.\n",
    "\n",
    "Once the possible matches to a given instance catalog AGN are found there is a chance that it will be replaced that is set by the density parameter in the sprinkler class. In the current Twinkles run it is set at 1.0 so that 198 lens systems are sprinkled into the Twinkles instance catalogs.\n",
    "\n",
    "If the AGN is chosen to be sprinkled then we proceed with the sprinkler and if there are multiple matches from the OM10-Twinkles catalog we randomly choose one to use as we proceed. First, we remove any disc and bulge information for that galaxy from the instance catalog leaving only the AGN data and copy this AGN entry creating 2 or 4 entries in the catalog depending upon the number of images the OM10 system we are sprinkling in has in total. Next we use the OM10 data for each image to shift the location of the AGN in each image to the correct location and adjust the magnitude for each entry depending on the OM10 magnification parameter for each AGN image. At this point we also adjust the time delay for each image with OM10 info and give all the images the same source redshift from the OM10 entry. Once the new entries are ready they are appended to the instance catalog with a new instance catalog id tag that gives us the ID of the Bulge galaxy in the instance catalog to which it is associated and the ID number of the OM10-Twinkles catalog system that is used.\n",
    "\n",
    "The next step is to take the original entry in the instance catalog and add in the information for the foreground lens galaxy. Therefore, in this step the AGN and Disc data for the original galaxy are cleared and the redshift and magnitude for the lens galaxy from the OM10 system is added into the instance catalog. Here we also add in the radius of the lens galaxy and the sed file we want to use (the information added to the original OM10 systems in the process described in the last section). We also add in the OM10 position angles and ellipticities at this point.\n",
    "\n",
    "Once we have gone through this process for all AGN in the instance catalog then we return to the normal instance catalog processing to write the information out to file."
   ]
  },
  {
   "cell_type": "markdown",
   "metadata": {},
   "source": [
    "## Verifying Instance Catalog Output"
   ]
  },
  {
   "cell_type": "markdown",
   "metadata": {},
   "source": [
    "For the sections below I am using the output from an instance catalog created using Twinkles and removing the SNe entries at the bottom. I then split it up into the bulge+disk galaxy entries and the AGNs available for download [here](https://gist.github.com/jbkalmbach/3f7f2bbee5c2994a57ef55bb7f5f6419) and [here](https://gist.github.com/jbkalmbach/1105f16f8c55e82801deb8b4eb6b4ffb), respectively.\n",
    "\n",
    "### Loading datasets\n",
    "\n",
    "Before we begin we will load up the OM10-Twinkles catalog of lens systems and then the instance catalog information referenced above and add some columns to connect them all together."
   ]
  },
  {
   "cell_type": "code",
   "execution_count": 1,
   "metadata": {
    "collapsed": false
   },
   "outputs": [],
   "source": [
    "import numpy as np\n",
    "import matplotlib.pyplot as plt\n",
    "import pandas as pd\n",
    "from astropy.io import fits\n",
    "plt.style.use('ggplot')\n",
    "%matplotlib inline"
   ]
  },
  {
   "cell_type": "code",
   "execution_count": 2,
   "metadata": {
    "collapsed": false
   },
   "outputs": [],
   "source": [
    "om10_cat = fits.open('../../data/twinkles_lenses_v2.fits')[1].data\n",
    "galaxy_cat = pd.read_csv('phosim_galaxy_200.txt', delimiter=' ', usecols=(1, 2, 3, 4, 6), names=['id', 'ra', 'dec', 'r_mag', 'redshift'])\n",
    "agn_cat = pd.read_csv('phosim_agn_200.txt', delimiter=' ', usecols=(1, 2, 3, 4, 6), names=['id', 'ra', 'dec', 'r_mag', 'redshift'])"
   ]
  },
  {
   "cell_type": "markdown",
   "metadata": {},
   "source": [
    "Now, we will cut on id numbers larger than a certain size. During the sprinkling process as new id numbers are given to the sprinkled AGN all of their ids are larger than 1e11 while those unsprinkled are not. We will also take the information contained in these larger ids and add columns containing the bulge id number and the om10 catalog id number."
   ]
  },
  {
   "cell_type": "code",
   "execution_count": 3,
   "metadata": {
    "collapsed": false
   },
   "outputs": [],
   "source": [
    "sprinkled_agn = agn_cat.query('id > 1e11').reset_index(drop=True)"
   ]
  },
  {
   "cell_type": "code",
   "execution_count": 4,
   "metadata": {
    "collapsed": false
   },
   "outputs": [],
   "source": [
    "twinkles_id = []\n",
    "im_num = []\n",
    "lens_gal_id = []\n",
    "for id_num in sprinkled_agn['id']:\n",
    "    shift_id = np.right_shift(id_num, 10)\n",
    "    twinkles_id.append(int(str(shift_id)[-4:])/4)\n",
    "    im_num.append(int(str(shift_id)[-4:]) % 4)\n",
    "    lens_gal_id.append(np.left_shift(np.right_shift(id_num-28, 10)/10000, 10) + 26)"
   ]
  },
  {
   "cell_type": "code",
   "execution_count": 5,
   "metadata": {
    "collapsed": true
   },
   "outputs": [],
   "source": [
    "sprinkled_agn['twinkles_id'] = twinkles_id\n",
    "sprinkled_agn['image_num'] = im_num\n",
    "sprinkled_agn['lens_gal_id'] = lens_gal_id"
   ]
  },
  {
   "cell_type": "markdown",
   "metadata": {},
   "source": [
    "We now have a dataframe of sprinkled AGN that can be associated with the other two datasets for validation purposes."
   ]
  },
  {
   "cell_type": "code",
   "execution_count": 6,
   "metadata": {
    "collapsed": false
   },
   "outputs": [
    {
     "data": {
      "text/html": [
       "<div>\n",
       "<table border=\"1\" class=\"dataframe\">\n",
       "  <thead>\n",
       "    <tr style=\"text-align: right;\">\n",
       "      <th></th>\n",
       "      <th>id</th>\n",
       "      <th>ra</th>\n",
       "      <th>dec</th>\n",
       "      <th>r_mag</th>\n",
       "      <th>redshift</th>\n",
       "      <th>twinkles_id</th>\n",
       "      <th>image_num</th>\n",
       "      <th>lens_gal_id</th>\n",
       "    </tr>\n",
       "  </thead>\n",
       "  <tbody>\n",
       "    <tr>\n",
       "      <th>0</th>\n",
       "      <td>213934178332</td>\n",
       "      <td>53.052889</td>\n",
       "      <td>-27.703314</td>\n",
       "      <td>21.101460</td>\n",
       "      <td>0.48</td>\n",
       "      <td>24</td>\n",
       "      <td>0</td>\n",
       "      <td>21393434</td>\n",
       "    </tr>\n",
       "    <tr>\n",
       "      <th>1</th>\n",
       "      <td>213934179356</td>\n",
       "      <td>53.052407</td>\n",
       "      <td>-27.702922</td>\n",
       "      <td>22.611756</td>\n",
       "      <td>0.48</td>\n",
       "      <td>24</td>\n",
       "      <td>1</td>\n",
       "      <td>21393434</td>\n",
       "    </tr>\n",
       "    <tr>\n",
       "      <th>2</th>\n",
       "      <td>233595183132</td>\n",
       "      <td>53.083450</td>\n",
       "      <td>-27.707425</td>\n",
       "      <td>21.832304</td>\n",
       "      <td>0.66</td>\n",
       "      <td>74</td>\n",
       "      <td>0</td>\n",
       "      <td>23359514</td>\n",
       "    </tr>\n",
       "    <tr>\n",
       "      <th>3</th>\n",
       "      <td>233595184156</td>\n",
       "      <td>53.083715</td>\n",
       "      <td>-27.707304</td>\n",
       "      <td>21.552031</td>\n",
       "      <td>0.66</td>\n",
       "      <td>74</td>\n",
       "      <td>1</td>\n",
       "      <td>23359514</td>\n",
       "    </tr>\n",
       "    <tr>\n",
       "      <th>4</th>\n",
       "      <td>485837983772</td>\n",
       "      <td>52.785827</td>\n",
       "      <td>-27.304227</td>\n",
       "      <td>20.076901</td>\n",
       "      <td>0.75</td>\n",
       "      <td>289</td>\n",
       "      <td>0</td>\n",
       "      <td>48583706</td>\n",
       "    </tr>\n",
       "    <tr>\n",
       "      <th>5</th>\n",
       "      <td>485837984796</td>\n",
       "      <td>52.785950</td>\n",
       "      <td>-27.304012</td>\n",
       "      <td>21.977150</td>\n",
       "      <td>0.75</td>\n",
       "      <td>289</td>\n",
       "      <td>1</td>\n",
       "      <td>48583706</td>\n",
       "    </tr>\n",
       "    <tr>\n",
       "      <th>6</th>\n",
       "      <td>551311822876</td>\n",
       "      <td>52.969919</td>\n",
       "      <td>-27.422191</td>\n",
       "      <td>20.371156</td>\n",
       "      <td>0.69</td>\n",
       "      <td>113</td>\n",
       "      <td>0</td>\n",
       "      <td>55131162</td>\n",
       "    </tr>\n",
       "    <tr>\n",
       "      <th>7</th>\n",
       "      <td>551311823900</td>\n",
       "      <td>52.969891</td>\n",
       "      <td>-27.421739</td>\n",
       "      <td>22.261016</td>\n",
       "      <td>0.69</td>\n",
       "      <td>113</td>\n",
       "      <td>1</td>\n",
       "      <td>55131162</td>\n",
       "    </tr>\n",
       "    <tr>\n",
       "      <th>8</th>\n",
       "      <td>785592844316</td>\n",
       "      <td>52.900595</td>\n",
       "      <td>-27.281866</td>\n",
       "      <td>22.765362</td>\n",
       "      <td>0.62</td>\n",
       "      <td>128</td>\n",
       "      <td>0</td>\n",
       "      <td>78559258</td>\n",
       "    </tr>\n",
       "    <tr>\n",
       "      <th>9</th>\n",
       "      <td>785592845340</td>\n",
       "      <td>52.900625</td>\n",
       "      <td>-27.281634</td>\n",
       "      <td>23.634551</td>\n",
       "      <td>0.62</td>\n",
       "      <td>128</td>\n",
       "      <td>1</td>\n",
       "      <td>78559258</td>\n",
       "    </tr>\n",
       "    <tr>\n",
       "      <th>10</th>\n",
       "      <td>794901004316</td>\n",
       "      <td>53.128401</td>\n",
       "      <td>-27.501718</td>\n",
       "      <td>22.601017</td>\n",
       "      <td>0.62</td>\n",
       "      <td>128</td>\n",
       "      <td>0</td>\n",
       "      <td>79490074</td>\n",
       "    </tr>\n",
       "    <tr>\n",
       "      <th>11</th>\n",
       "      <td>794901005340</td>\n",
       "      <td>53.128431</td>\n",
       "      <td>-27.501486</td>\n",
       "      <td>23.507354</td>\n",
       "      <td>0.62</td>\n",
       "      <td>128</td>\n",
       "      <td>1</td>\n",
       "      <td>79490074</td>\n",
       "    </tr>\n",
       "    <tr>\n",
       "      <th>12</th>\n",
       "      <td>957522223132</td>\n",
       "      <td>52.853790</td>\n",
       "      <td>-27.230255</td>\n",
       "      <td>22.499183</td>\n",
       "      <td>0.66</td>\n",
       "      <td>74</td>\n",
       "      <td>0</td>\n",
       "      <td>95752218</td>\n",
       "    </tr>\n",
       "    <tr>\n",
       "      <th>13</th>\n",
       "      <td>957522224156</td>\n",
       "      <td>52.854056</td>\n",
       "      <td>-27.230134</td>\n",
       "      <td>22.126295</td>\n",
       "      <td>0.66</td>\n",
       "      <td>74</td>\n",
       "      <td>1</td>\n",
       "      <td>95752218</td>\n",
       "    </tr>\n",
       "    <tr>\n",
       "      <th>14</th>\n",
       "      <td>1072506978332</td>\n",
       "      <td>53.255213</td>\n",
       "      <td>-27.592626</td>\n",
       "      <td>21.508615</td>\n",
       "      <td>0.48</td>\n",
       "      <td>24</td>\n",
       "      <td>0</td>\n",
       "      <td>107250714</td>\n",
       "    </tr>\n",
       "    <tr>\n",
       "      <th>15</th>\n",
       "      <td>1072506979356</td>\n",
       "      <td>53.254731</td>\n",
       "      <td>-27.592234</td>\n",
       "      <td>22.991817</td>\n",
       "      <td>0.48</td>\n",
       "      <td>24</td>\n",
       "      <td>1</td>\n",
       "      <td>107250714</td>\n",
       "    </tr>\n",
       "    <tr>\n",
       "      <th>16</th>\n",
       "      <td>1257605247004</td>\n",
       "      <td>53.140401</td>\n",
       "      <td>-27.688755</td>\n",
       "      <td>23.305935</td>\n",
       "      <td>0.62</td>\n",
       "      <td>31</td>\n",
       "      <td>0</td>\n",
       "      <td>125760538</td>\n",
       "    </tr>\n",
       "    <tr>\n",
       "      <th>17</th>\n",
       "      <td>1257605248028</td>\n",
       "      <td>53.141013</td>\n",
       "      <td>-27.688467</td>\n",
       "      <td>22.744303</td>\n",
       "      <td>0.62</td>\n",
       "      <td>31</td>\n",
       "      <td>1</td>\n",
       "      <td>125760538</td>\n",
       "    </tr>\n",
       "    <tr>\n",
       "      <th>18</th>\n",
       "      <td>1257605249052</td>\n",
       "      <td>53.141039</td>\n",
       "      <td>-27.688153</td>\n",
       "      <td>22.502867</td>\n",
       "      <td>0.62</td>\n",
       "      <td>31</td>\n",
       "      <td>2</td>\n",
       "      <td>125760538</td>\n",
       "    </tr>\n",
       "    <tr>\n",
       "      <th>19</th>\n",
       "      <td>1257605250076</td>\n",
       "      <td>53.140470</td>\n",
       "      <td>-27.688057</td>\n",
       "      <td>23.598859</td>\n",
       "      <td>0.62</td>\n",
       "      <td>31</td>\n",
       "      <td>3</td>\n",
       "      <td>125760538</td>\n",
       "    </tr>\n",
       "  </tbody>\n",
       "</table>\n",
       "</div>"
      ],
      "text/plain": [
       "               id         ra        dec      r_mag  redshift  twinkles_id  \\\n",
       "0    213934178332  53.052889 -27.703314  21.101460      0.48           24   \n",
       "1    213934179356  53.052407 -27.702922  22.611756      0.48           24   \n",
       "2    233595183132  53.083450 -27.707425  21.832304      0.66           74   \n",
       "3    233595184156  53.083715 -27.707304  21.552031      0.66           74   \n",
       "4    485837983772  52.785827 -27.304227  20.076901      0.75          289   \n",
       "5    485837984796  52.785950 -27.304012  21.977150      0.75          289   \n",
       "6    551311822876  52.969919 -27.422191  20.371156      0.69          113   \n",
       "7    551311823900  52.969891 -27.421739  22.261016      0.69          113   \n",
       "8    785592844316  52.900595 -27.281866  22.765362      0.62          128   \n",
       "9    785592845340  52.900625 -27.281634  23.634551      0.62          128   \n",
       "10   794901004316  53.128401 -27.501718  22.601017      0.62          128   \n",
       "11   794901005340  53.128431 -27.501486  23.507354      0.62          128   \n",
       "12   957522223132  52.853790 -27.230255  22.499183      0.66           74   \n",
       "13   957522224156  52.854056 -27.230134  22.126295      0.66           74   \n",
       "14  1072506978332  53.255213 -27.592626  21.508615      0.48           24   \n",
       "15  1072506979356  53.254731 -27.592234  22.991817      0.48           24   \n",
       "16  1257605247004  53.140401 -27.688755  23.305935      0.62           31   \n",
       "17  1257605248028  53.141013 -27.688467  22.744303      0.62           31   \n",
       "18  1257605249052  53.141039 -27.688153  22.502867      0.62           31   \n",
       "19  1257605250076  53.140470 -27.688057  23.598859      0.62           31   \n",
       "\n",
       "    image_num  lens_gal_id  \n",
       "0           0     21393434  \n",
       "1           1     21393434  \n",
       "2           0     23359514  \n",
       "3           1     23359514  \n",
       "4           0     48583706  \n",
       "5           1     48583706  \n",
       "6           0     55131162  \n",
       "7           1     55131162  \n",
       "8           0     78559258  \n",
       "9           1     78559258  \n",
       "10          0     79490074  \n",
       "11          1     79490074  \n",
       "12          0     95752218  \n",
       "13          1     95752218  \n",
       "14          0    107250714  \n",
       "15          1    107250714  \n",
       "16          0    125760538  \n",
       "17          1    125760538  \n",
       "18          2    125760538  \n",
       "19          3    125760538  "
      ]
     },
     "execution_count": 6,
     "metadata": {},
     "output_type": "execute_result"
    }
   ],
   "source": [
    "sprinkled_agn[:20]"
   ]
  },
  {
   "cell_type": "markdown",
   "metadata": {
    "collapsed": true
   },
   "source": [
    "### Validating Image Positions\n",
    "\n",
    "Our first task is to verify that the image locations in the instance catalog are in the correct places when compared to the entries from the OM10 catalog. To do this we will find the relative ra and dec positions for each of the images in a lensed system relative to the lens galaxy from OM10 and compare the instance catalog values to the appropriate OM10 system."
   ]
  },
  {
   "cell_type": "code",
   "execution_count": 38,
   "metadata": {
    "collapsed": false
   },
   "outputs": [],
   "source": [
    "x_sep_inst = []\n",
    "y_sep_inst = []\n",
    "x_sep_om10 = []\n",
    "y_sep_om10 = []\n",
    "for agn_row in range(len(sprinkled_agn)):\n",
    "    lens_gal_current = sprinkled_agn['lens_gal_id'][agn_row]\n",
    "    twinkles_current = sprinkled_agn['twinkles_id'][agn_row]\n",
    "    im_num_current = sprinkled_agn['image_num'][agn_row]\n",
    "    om10_current = om10_cat[om10_cat['twinklesId'] == twinkles_current]\n",
    "    lens_ra = galaxy_cat.query('id == %i' % lens_gal_current)['ra'].values[0]\n",
    "    lens_dec = galaxy_cat.query('id == %i' % lens_gal_current)['dec'].values[0]\n",
    "    #x_sep_inst.append((sprinkled_agn['ra'][agn_row] - lens_ra)*3600.)\n",
    "    #y_sep_inst.append((sprinkled_agn['dec'][agn_row] - lens_dec)*3600)\n",
    "    x_sep_inst.append(np.radians(sprinkled_agn['ra'][agn_row]) - np.radians(lens_ra))\n",
    "    y_sep_inst.append(np.radians(sprinkled_agn['dec'][agn_row]) - np.radians(lens_dec))\n",
    "    #x_sep_om10.append(om10_current['XIMG'][0][im_num_current])\n",
    "    #y_sep_om10.append(om10_current['YIMG'][0][im_num_current])\n",
    "    x_sep_om10.append(np.radians(om10_current['XIMG'][0][im_num_current]/(np.cos(np.radians(lens_dec))*3600.)))\n",
    "    y_sep_om10.append(np.radians(om10_current['YIMG'][0][im_num_current]/3600.))"
   ]
  },
  {
   "cell_type": "code",
   "execution_count": 39,
   "metadata": {
    "collapsed": false
   },
   "outputs": [
    {
     "data": {
      "text/plain": [
       "<matplotlib.text.Text at 0x11dccb950>"
      ]
     },
     "execution_count": 39,
     "metadata": {},
     "output_type": "execute_result"
    },
    {
     "data": {
      "image/png": "[encoded data removed]",
      "text/plain": [
       "<matplotlib.figure.Figure at 0x11c889cd0>"
      ]
     },
     "metadata": {},
     "output_type": "display_data"
    }
   ],
   "source": [
    "fig = plt.figure(figsize=(12, 6))\n",
    "fig.add_subplot(1,2,1)\n",
    "p1 = plt.hist(100*(np.array(x_sep_inst) - np.array(x_sep_om10))/np.array(x_sep_om10))\n",
    "plt.xlabel('Percent Difference')\n",
    "plt.title('XIMG (ra)')\n",
    "fig.add_subplot(1,2,2)\n",
    "p2 = plt.hist(100*(np.array(y_sep_inst) - np.array(y_sep_om10))/np.array(y_sep_om10))\n",
    "plt.xlabel('Percent Difference')\n",
    "plt.title('YIMG (dec)')\n",
    "plt.suptitle('Difference between OM10 separations and Instance Catalog separations between images and lens galaxy')"
   ]
  },
  {
   "cell_type": "code",
   "execution_count": 46,
   "metadata": {
    "collapsed": false
   },
   "outputs": [
    {
     "data": {
      "image/png": "[encoded data removed]",
      "text/plain": [
       "<matplotlib.figure.Figure at 0x11ece9c50>"
      ]
     },
     "metadata": {},
     "output_type": "display_data"
    }
   ],
   "source": [
    "fig = plt.figure(figsize=(12, 6))\n",
    "fig.add_subplot(1,2,1)\n",
    "p1 = plt.hist((np.array(x_sep_inst) - np.array(x_sep_om10)))\n",
    "plt.xlabel('Difference (radians)')\n",
    "plt.title('XIMG (ra)')\n",
    "fig.add_subplot(1,2,2)\n",
    "p2 = plt.hist((np.array(y_sep_inst) - np.array(y_sep_om10)))\n",
    "plt.xlabel('Difference (radians)')\n",
    "plt.title('YIMG (dec)')\n",
    "plt.suptitle('Difference between OM10 separations and Instance Catalog separations between images and lens galaxy')\n",
    "plt.tight_layout()\n",
    "plt.subplots_adjust(top=.9)"
   ]
  },
  {
   "cell_type": "markdown",
   "metadata": {},
   "source": [
    "Overall, most differences in between the instance catalogs and the OM10 inputs seem to be within 20% and this may be due to rounding errors converting back and forth with such small values in numpy's radians and degrees methods. It seems overall that the positions in the instance catalog are accurate reproductions of the OM10 data they are based upon."
   ]
  },
  {
   "cell_type": "code",
   "execution_count": null,
   "metadata": {
    "collapsed": true
   },
   "outputs": [],
   "source": []
  }
 ],
 "metadata": {
  "kernelspec": {
   "display_name": "Python 2",
   "language": "python",
   "name": "python2"
  },
  "language_info": {
   "codemirror_mode": {
    "name": "ipython",
    "version": 2
   },
   "file_extension": ".py",
   "mimetype": "text/x-python",
   "name": "python",
   "nbconvert_exporter": "python",
   "pygments_lexer": "ipython2",
   "version": "2.7.12"
  }
 },
 "nbformat": 4,
 "nbformat_minor": 0
}
