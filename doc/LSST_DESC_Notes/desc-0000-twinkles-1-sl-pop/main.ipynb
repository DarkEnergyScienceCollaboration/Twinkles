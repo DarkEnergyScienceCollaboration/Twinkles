{
 "cells": [
  {
   "cell_type": "markdown",
   "metadata": {},
   "source": [
    "<!-- ![](./texmf/logos/header.png) -->\n",
    "<img src=\"./texmf/logos/header.png\",width=100%>"
   ]
  },
  {
   "cell_type": "markdown",
   "metadata": {},
   "source": [
    "# The Twinkles 1 Strong Lens Population\n",
    "\n",
    "*Bryce Kalmbach, Phil Marshall, Curtis McCully and others*\n",
    "\n",
    "The Twinkles 1 field is overloaded with supernovae and strongly lensed quasars. In this Note we describe the input lens population, and how the lens systems are 'sprinkled' into the PhoSim instance catalogs, having been matched by redshift and stellar mass."
   ]
  },
  {
   "cell_type": "markdown",
   "metadata": {},
   "source": [
    "## The OM10 Lensed Quasar Mock Catalog\n",
    "\n",
    "PJM: Brief description, with links.\n",
    "\n",
    "**JBK**: Selection of Twinkles subset.\n",
    "\n",
    "### The Twinkles-OM10 Catalog\n",
    "\n",
    "The lens system catalog used by Twinkles is found in the data folder of the repository and is labeled as [twinkles_lenses_v2.fits](https://github.com/LSSTDESC/Twinkles/blob/master/data/twinkles_lenses_v2.fits). We started by selecting the subset of 872 OM10 lenses that made up rung 4 in the [Strong Lens Time Delay Challenge](http://timedelaychallenge.org/index.html) ([Liao et al. 2015](https://arxiv.org/abs/1409.1254)). This set was chosen since it matches the LSST best (discussed in issue [#117](https://github.com/LSSTDESC/Twinkles/issues/117)).  **Question for PJM: What does matches LSST best mean?** However, the original OM10 catalog is incomplete and lacks sizes for the foreground lens galaxies. In addition, our image simulations require an SED for the lens galaxy of each system. Therefore, we decided to assign stellar masses to our OM10 lens galaxies based upon SL2S data and then use this information to assign an SED and radial size from an appropriate CATSIM galaxy.\n",
    "\n",
    "#### Matching CATSIM galaxies to lensed systems\n",
    "\n",
    "We performed the matching using code in a jupyter notebook [here](https://github.com/LSSTDESC/Twinkles/blob/master/examples/notebooks/MatchingLensGalaxies.ipynb). The process involved three main steps:\n",
    "\n",
    "1. Use SL2S data to generate a Gaussian Mixture Model (GMM) to estimate stellar mass of lens galaxies based upon redshift and velocity dispersion.\n",
    "    * We use the data from Table 3 of [Sonnenfeld et al. (2013)](https://arxiv.org/abs/1307.4759).\n",
    "    * Derive the GMM using the [XDGMM](https://github.com/tholoien/XDGMM) and [empriciSN](https://github.com/tholoien/empiriciSN) packages by Tom Holoien.\n",
    "2. Assign a stellar mass to the OM10 systems based upon this GMM and the OM10 redshifts and velocity dispersions.\n",
    "3. Use the updated OM10 catalog with stellar masses, redshifts and ellipticities to match against CATSIM galaxies and use best fit galaxies to add SED and radius information to OM10 catalog.\n",
    "    * Matched OM10 galaxies to CATSIM galaxies with a 20% error limit on the three matching parameters.\n",
    "    * 11 OM10 lens galaxies did not have matches within 20% in all three parameters to a CATSIM galaxy. These were not included in the final catalog.\n",
    "\n",
    "After the matching process we had a final catalog of 861 OM10 systems with additional size and SED information needed to generate images. This final catalog was then used as the input for `The Sprinkler`."
   ]
  },
  {
   "cell_type": "markdown",
   "metadata": {},
   "source": [
    "## `The Sprinkler` Concept and Code\n",
    "\n",
    "**JBK**: Introduce `The Sprinkler` concept, including input and output, and any principles involved. Note: This is mostly taken straight from previous documentation [here](https://github.com/LSSTDESC/Twinkles/blob/master/doc/SLSimDocumentation/strong_lensing_review.ipynb).\n",
    "\n",
    "`The Sprinkler` is the [code](https://github.com/LSSTDESC/Twinkles/blob/master/python/desc/twinkles/sprinkler.py) that matches OM10 lens systems to AGNs in an instance catalog and replaces the instance catalog AGN with one of our lensed systems in the final PhoSim input catalog. To do this we add a step in the CATSIM `final pass` method when creating instance catalogs for PhoSim input and manipulate the array of catalog results before they are printed to file. The first step is loading the OM10-Twinkles catalog we described in the previous section. We then go through the instance catalog AGNs one at a time and see if they match a lens system from our OM10-Twinkles catalog. The matching is done by taking the redshift and magnitude of the CATSIM AGN and selecting any available lens systems with a source AGN that has a redshift within 0.1 dex and an LSST magnorm value (magnitude in a simulated filter with one bin at 500nm) within .25 mags.\n",
    "\n",
    "Once the possible matches to a given instance catalog AGN are found there is a chance that it will be replaced that is set by the density parameter in the sprinkler class. In the current Twinkles run it is set at 1.0 so that 198 lens systems are sprinkled into the Twinkles instance catalogs.\n",
    "\n",
    "If the AGN is chosen to be sprinkled then we proceed with the sprinkler and if there are multiple matches from the OM10-Twinkles catalog we randomly choose one to use as we proceed. First, we remove any disc and bulge information for that galaxy from the instance catalog leaving only the AGN data and copy this AGN entry creating 2 or 4 entries in the catalog depending upon the number of images the OM10 system we are sprinkling in has in total. Next we use the OM10 data for each image to shift the location of the AGN in each image to the correct location and adjust the magnitude for each entry depending on the OM10 magnification parameter for each AGN image. At this point we also adjust the time delay for each image with OM10 info and give all the images the same source redshift from the OM10 entry. Once the new entries are ready they are appended to the instance catalog with a new instance catalog id tag that gives us the ID of the Bulge galaxy in the instance catalog to which it is associated and the ID number of the OM10-Twinkles catalog system that is used.\n",
    "\n",
    "The next step is to take the original entry in the instance catalog and add in the information for the foreground lens galaxy. Therefore, in this step the AGN and Disc data for the original galaxy are cleared and the redshift and magnitude for the lens galaxy from the OM10 system is added into the instance catalog. Here we also add in the radius of the lens galaxy and the sed file we want to use (the information added to the original OM10 systems in the process described in the last section). We also add in the OM10 position angles and ellipticities at this point.\n",
    "\n",
    "Once we have gone through this process for all AGN in the instance catalog then we return to the normal instance catalog processing to write the information out to file.\n",
    "\n",
    "**JBK**: Show Sprinkler operating on OM10 sample made in previous section and producing an example (or the actual!) instance catalog. Note: I am basically going to follow the example [here](../../../examples/notebooks/Sort_Objects_in_ICs.ipynb) to process the instance catalog before the results section. \n",
    "\n",
    "> The matching of lensed systems seemed to take place outside `the sprinkler` - why is this? Do we want to refactor so that `the sprinkler` handles everything? I think this might be helpful...\n",
    "\n",
    "Now we will use the sprinkler in the Twinkles code to generate a full instance catalog for the Twinkles field. To set up Twinkles you can follow the instructions [here](../../Setup/Getting_started_on_your_laptop.rst#gravitational-lens-sprinkling-setup). Below we will create an instance catalog using the LSST OpSim database `minion_1016` and for visit `230`."
   ]
  },
  {
   "cell_type": "code",
   "execution_count": 9,
   "metadata": {
    "collapsed": false
   },
   "outputs": [
    {
     "name": "stdout",
     "output_type": "stream",
     "text": [
      "will generate pointing for 230 and write to filename 230_test.txt\n",
      "{'mjd': 59580.139555000002, 'pointingRA': 53.009138473031555, 'rotSkyPos': 256.7507531819308, 'boundLength': 0.29999999999999999, 'skyBrightness': 21.232126999999998, 'OpsimMetaData': {'sunAlt': -0.57134799999999997, 'sunAz': 3.5626009999999999, 'rotSkyPos': 4.4811459999999999, 'slewDist': 0.75588900000000003, 'mieScatter': 1103.8354549999999, 'moonIllum': 6.9999999999999994e-05, 'visitExpTime': 30.0, 'lst': 1.4007689999999999, 'azimuth': 4.7159180000000003, 'moonDec': -0.41008299999999998, 'humidity': 0.0, 'ditheredRA': 0.90797615810743615, 'moonPhase': 3.8193649999999999, 'phaseAngle': 157.460083, 'index': 0, 'filtSkyBrightness': 21.232126999999998, 'rawSeeing': 0.86628499999999997, 'altitude': 1.1611579999999999, 'fieldRA': 0.92518400000000001, 'rotTelPos': 0.0, 'obsHistID': 230, 'moonAlt': -0.630629, 'solarElong': 111.110772, 'moonRA': 4.4750880000000004, 'FWHMeff': 1.1219680000000001, 'airmass': 1.0901989999999999, 'expMJD': 59580.139555000002, 'night': 0, 'darkBright': 84.646287000000001, 'expDate': 12057, 'moonBright': 0.0, 'finRank': 1.2222219999999999, 'dist2Moon': 2.169162, 'propID': 56, 'moonAZ': 3.065188, 'FWHMgeom': 0.97425799999999996, 'rScatter': 315520.930674, 'fieldDec': -0.47889999999999999, 'sessionID': 1016, 'ditheredDec': -0.50535099999999999, 'visitTime': 34.0, 'filter': u'r', 'fiveSigmaDepth': 24.070428, 'slewTime': 140.0, 'transparency': 0.0, 'vSkyBright': 21.512127, 'fieldID': 1427, 'wind': 0.0}, 'site': <lsst.sims.utils.Site.Site object at 0x10f803210>, 'boundType': 'circle', 'bandpass': u'r', 'pointingDec': -27.438948808815123}\n",
      "writing starCat \n"
     ]
    },
    {
     "name": "stderr",
     "output_type": "stream",
     "text": [
      "WARNING: ErfaWarning: ERFA function \"taiutc\" yielded 1 of \"dubious year (Note 4)\" [astropy._erfa.core]\n",
      "WARNING: ErfaWarning: ERFA function \"utcut1\" yielded 1 of \"dubious year (Note 3)\" [astropy._erfa.core]\n",
      "/Users/Bryce/lsst/DarwinX86/sqlalchemy/1.0.8.lsst3+3/lib/python/SQLAlchemy-1.0.8-py2.7-macosx-10.6-x86_64.egg/sqlalchemy/sql/elements.py:3779: SAWarning: Textual SQL expression 'ra between 52.671111 and ...' should be explicitly declared as text('ra between 52.671111 and ...') (this warning may be suppressed after 10 occurrences)\n",
      "  {\"expr\": util.ellipses_string(element)})\n",
      "/Users/Bryce/lsst/DarwinX86/sqlalchemy/1.0.8.lsst3+3/lib/python/SQLAlchemy-1.0.8-py2.7-macosx-10.6-x86_64.egg/sqlalchemy/sql/elements.py:3779: SAWarning: Textual SQL expression 'gmag > 11.0' should be explicitly declared as text('gmag > 11.0') (this warning may be suppressed after 10 occurrences)\n",
      "  {\"expr\": util.ellipses_string(element)})\n",
      "/Users/Bryce/lsst/DarwinX86/sqlalchemy/1.0.8.lsst3+3/lib/python/SQLAlchemy-1.0.8-py2.7-macosx-10.6-x86_64.egg/sqlalchemy/sql/sqltypes.py:565: SAWarning: Dialect sqlite+pysqlite does *not* support Decimal objects natively, and SQLAlchemy must convert from floating point - rounding errors and other issues may occur. Please consider storing Decimal numbers as strings or integers on this platform for lossless storage.\n",
      "  'storage.' % (dialect.name, dialect.driver))\n"
     ]
    },
    {
     "name": "stdout",
     "output_type": "stream",
     "text": [
      "writing galCat\n"
     ]
    },
    {
     "name": "stderr",
     "output_type": "stream",
     "text": [
      "/Users/Bryce/lsst/DarwinX86/sqlalchemy/1.0.8.lsst3+3/lib/python/SQLAlchemy-1.0.8-py2.7-macosx-10.6-x86_64.egg/sqlalchemy/sql/elements.py:3779: SAWarning: Textual SQL expression 'g_ab > 11.0' should be explicitly declared as text('g_ab > 11.0') (this warning may be suppressed after 10 occurrences)\n",
      "  {\"expr\": util.ellipses_string(element)})\n"
     ]
    },
    {
     "name": "stdout",
     "output_type": "stream",
     "text": [
      "Running sprinkler. Catalog Length:  10000\n",
      "Gone through  0  lines of catalog.\n",
      "Gone through  100  lines of catalog.\n"
     ]
    },
    {
     "name": "stderr",
     "output_type": "stream",
     "text": [
      "/Users/Bryce/miniconda2/lib/python2.7/site-packages/numpy/core/records.py:507: FutureWarning: Numpy has detected that you may be viewing or writing to an array returned by selecting multiple fields in a structured array. \n",
      "\n",
      "This code may break in numpy 1.13 because this will return a view instead of a copy -- see release notes for details.\n",
      "  return obj.view(dtype=(self.dtype.type, obj.dtype))\n"
     ]
    },
    {
     "name": "stdout",
     "output_type": "stream",
     "text": [
      "Running sprinkler. Catalog Length:  10000\n",
      "Gone through  0  lines of catalog.\n",
      "Gone through  100  lines of catalog.\n",
      "Running sprinkler. Catalog Length:  10000\n",
      "Gone through  0  lines of catalog.\n",
      "Gone through  100  lines of catalog.\n",
      "Running sprinkler. Catalog Length:  10000\n",
      "Gone through  0  lines of catalog.\n",
      "Gone through  100  lines of catalog.\n",
      "Running sprinkler. Catalog Length:  10000\n",
      "Gone through  0  lines of catalog.\n",
      "Gone through  100  lines of catalog.\n",
      "Running sprinkler. Catalog Length:  10000\n",
      "Gone through  0  lines of catalog.\n",
      "Gone through  100  lines of catalog.\n",
      "Running sprinkler. Catalog Length:  10000\n",
      "Gone through  0  lines of catalog.\n",
      "Gone through  100  lines of catalog.\n",
      "Running sprinkler. Catalog Length:  10000\n",
      "Gone through  0  lines of catalog.\n",
      "Gone through  100  lines of catalog.\n",
      "Running sprinkler. Catalog Length:  10000\n",
      "Gone through  0  lines of catalog.\n",
      "Gone through  100  lines of catalog.\n",
      "Running sprinkler. Catalog Length:  10000\n",
      "Gone through  0  lines of catalog.\n",
      "Gone through  100  lines of catalog.\n",
      "Running sprinkler. Catalog Length:  10000\n",
      "Gone through  0  lines of catalog.\n",
      "Gone through  100  lines of catalog.\n",
      "Running sprinkler. Catalog Length:  10000\n",
      "Gone through  0  lines of catalog.\n",
      "Gone through  100  lines of catalog.\n",
      "Running sprinkler. Catalog Length:  10000\n",
      "Gone through  0  lines of catalog.\n",
      "Gone through  100  lines of catalog.\n",
      "Running sprinkler. Catalog Length:  10000\n",
      "Gone through  0  lines of catalog.\n",
      "Gone through  100  lines of catalog.\n",
      "Running sprinkler. Catalog Length:  10000\n",
      "Gone through  0  lines of catalog.\n",
      "Gone through  100  lines of catalog.\n",
      "Running sprinkler. Catalog Length:  10000\n",
      "Gone through  0  lines of catalog.\n",
      "Gone through  100  lines of catalog.\n",
      "Running sprinkler. Catalog Length:  10000\n",
      "Gone through  0  lines of catalog.\n",
      "Gone through  100  lines of catalog.\n",
      "Running sprinkler. Catalog Length:  10000\n",
      "Gone through  0  lines of catalog.\n",
      "Gone through  100  lines of catalog.\n",
      "Running sprinkler. Catalog Length:  10000\n",
      "Gone through  0  lines of catalog.\n",
      "Gone through  100  lines of catalog.\n",
      "Running sprinkler. Catalog Length:  10000\n",
      "Gone through  0  lines of catalog.\n",
      "Gone through  100  lines of catalog.\n",
      "Running sprinkler. Catalog Length:  10000\n",
      "Gone through  0  lines of catalog.\n",
      "Gone through  100  lines of catalog.\n",
      "Running sprinkler. Catalog Length:  10000\n",
      "Gone through  0  lines of catalog.\n",
      "Gone through  100  lines of catalog.\n",
      "Running sprinkler. Catalog Length:  10000\n",
      "Gone through  0  lines of catalog.\n",
      "Gone through  100  lines of catalog.\n",
      "Running sprinkler. Catalog Length:  10000\n",
      "Gone through  0  lines of catalog.\n",
      "Gone through  100  lines of catalog.\n",
      "Running sprinkler. Catalog Length:  3471\n",
      "Gone through  0  lines of catalog.\n",
      "Gone through  100  lines of catalog.\n",
      "writing sne\n",
      "230 1414.03941798\n"
     ]
    }
   ],
   "source": [
    "%run ../../../bin/generatePhosimInput.py 230 --opsimDB minion_1016_sqlite.db --outfile 230_test.txt "
   ]
  },
  {
   "cell_type": "markdown",
   "metadata": {},
   "source": [
    "Now that we have an instance catalog let's go through it and find the sprinkled objects."
   ]
  },
  {
   "cell_type": "markdown",
   "metadata": {},
   "source": [
    "### Parsing the Instance Catalog\n",
    "\n",
    "First I will read in the instance catalog and separate out the sprinkled objects from the rest of the catalog."
   ]
  },
  {
   "cell_type": "code",
   "execution_count": 111,
   "metadata": {
    "collapsed": false
   },
   "outputs": [],
   "source": [
    "import pandas as pd\n",
    "import numpy as np\n",
    "import matplotlib as mpl\n",
    "import matplotlib.pyplot as plt\n",
    "%matplotlib inline"
   ]
  },
  {
   "cell_type": "code",
   "execution_count": 3,
   "metadata": {
    "collapsed": true
   },
   "outputs": [],
   "source": [
    "filename = '230_test.txt'"
   ]
  },
  {
   "cell_type": "code",
   "execution_count": 4,
   "metadata": {
    "collapsed": true
   },
   "outputs": [],
   "source": [
    "i = 0\n",
    "not_star_rows = []\n",
    "not_galaxy_rows = []\n",
    "not_agn_rows = []\n",
    "not_sne_rows = []\n",
    "with open(filename, 'r') as f:\n",
    "    for line in f:\n",
    "        new_str = line.split(' ')\n",
    "        #Skip through the header\n",
    "        if len(new_str) < 4:\n",
    "            not_star_rows.append(i)\n",
    "            not_galaxy_rows.append(i)\n",
    "            not_agn_rows.append(i)\n",
    "            not_sne_rows.append(i)\n",
    "            i+=1\n",
    "            continue\n",
    "        if new_str[5].startswith('starSED'):\n",
    "            #star_rows.append(i)\n",
    "            not_galaxy_rows.append(i)\n",
    "            not_agn_rows.append(i)\n",
    "            not_sne_rows.append(i)\n",
    "        elif new_str[5].startswith('galaxySED'):\n",
    "            #galaxy_rows.append(i)\n",
    "            not_star_rows.append(i)\n",
    "            not_agn_rows.append(i)\n",
    "            not_sne_rows.append(i)\n",
    "        elif new_str[5].startswith('agnSED'):\n",
    "            #agn_rows.append(i)\n",
    "            not_star_rows.append(i)\n",
    "            not_galaxy_rows.append(i)\n",
    "            not_sne_rows.append(i)\n",
    "        elif new_str[5].startswith('spectra_files'):\n",
    "            #sne_rows.append(i)\n",
    "            not_star_rows.append(i)\n",
    "            not_galaxy_rows.append(i)\n",
    "            not_agn_rows.append(i)\n",
    "        i += 1"
   ]
  },
  {
   "cell_type": "markdown",
   "metadata": {},
   "source": [
    "We'll focus on the galaxy and AGN objects since those are the types of objects we sprinkled in to the catalog."
   ]
  },
  {
   "cell_type": "code",
   "execution_count": 5,
   "metadata": {
    "collapsed": true
   },
   "outputs": [],
   "source": [
    "df_galaxy = pd.read_csv(filename, delimiter=' ', header=None, \n",
    "                        names=['prefix', 'uniqueId', 'raPhoSim', 'decPhoSim', \n",
    "                              'phoSimMagNorm', 'sedFilepath',\n",
    "                              'redshift', 'shear1', 'shear2', 'kappa', \n",
    "                              'raOffset', 'decOffset', 'spatialmodel', \n",
    "                              'majorAxis', 'minorAxis', 'positionAngle', 'sindex',\n",
    "                              'internalExtinctionModel', 'internalAv', 'internalRv',\n",
    "                              'galacticExtinctionModel', 'galacticAv', 'galacticRv'], \n",
    "                        skiprows=not_galaxy_rows)\n",
    "\n",
    "df_agn = pd.read_csv(filename, delimiter=' ', header=None, \n",
    "                     names=['prefix', 'uniqueId', 'raPhoSim', 'decPhoSim', \n",
    "                            'phoSimMagNorm', 'sedFilepath', 'redshift', \n",
    "                            'shear1', 'shear2', 'kappa', 'raOffset', 'decOffset',\n",
    "                            'spatialmodel', 'internalExtinctionModel',\n",
    "                            'galacticExtinctionModel', 'galacticAv', 'galacticRv'],\n",
    "                     skiprows = not_agn_rows)"
   ]
  },
  {
   "cell_type": "markdown",
   "metadata": {},
   "source": [
    "### Sort out sprinkled Strong Lensing Systems\n",
    "\n",
    "Now we will pick out the pieces of strongly lensed systems that were sprinkled into the instance catalogs for the Twinkles project."
   ]
  },
  {
   "cell_type": "markdown",
   "metadata": {},
   "source": [
    "#### Lensed AGN\n",
    "We start with the Lensed AGN. In Twinkles Instance Catalogs the lensed AGN have larger `uniqueId`s than normal since we added information about the systems into the `uniqueId`s. We use this to find them in the AGN dataframe."
   ]
  },
  {
   "cell_type": "code",
   "execution_count": 6,
   "metadata": {
    "collapsed": true
   },
   "outputs": [],
   "source": [
    "sprinkled_agn = df_agn[df_agn['uniqueId'] > 20000000000]"
   ]
  },
  {
   "cell_type": "markdown",
   "metadata": {},
   "source": [
    "Below we see a pair of lensed images from a double."
   ]
  },
  {
   "cell_type": "code",
   "execution_count": 7,
   "metadata": {
    "collapsed": false
   },
   "outputs": [
    {
     "data": {
      "text/html": [
       "<div>\n",
       "<table border=\"1\" class=\"dataframe\">\n",
       "  <thead>\n",
       "    <tr style=\"text-align: right;\">\n",
       "      <th></th>\n",
       "      <th>prefix</th>\n",
       "      <th>uniqueId</th>\n",
       "      <th>raPhoSim</th>\n",
       "      <th>decPhoSim</th>\n",
       "      <th>phoSimMagNorm</th>\n",
       "      <th>sedFilepath</th>\n",
       "      <th>redshift</th>\n",
       "      <th>shear1</th>\n",
       "      <th>shear2</th>\n",
       "      <th>kappa</th>\n",
       "      <th>raOffset</th>\n",
       "      <th>decOffset</th>\n",
       "      <th>spatialmodel</th>\n",
       "      <th>internalExtinctionModel</th>\n",
       "      <th>galacticExtinctionModel</th>\n",
       "      <th>galacticAv</th>\n",
       "      <th>galacticRv</th>\n",
       "    </tr>\n",
       "  </thead>\n",
       "  <tbody>\n",
       "    <tr>\n",
       "      <th>338</th>\n",
       "      <td>object</td>\n",
       "      <td>213934178332</td>\n",
       "      <td>53.052941</td>\n",
       "      <td>-27.703314</td>\n",
       "      <td>21.101459</td>\n",
       "      <td>agnSED/agn.spec.gz</td>\n",
       "      <td>0.48</td>\n",
       "      <td>0</td>\n",
       "      <td>0</td>\n",
       "      <td>0</td>\n",
       "      <td>0</td>\n",
       "      <td>0</td>\n",
       "      <td>point</td>\n",
       "      <td>none</td>\n",
       "      <td>CCM</td>\n",
       "      <td>0.029784</td>\n",
       "      <td>3.1</td>\n",
       "    </tr>\n",
       "    <tr>\n",
       "      <th>339</th>\n",
       "      <td>object</td>\n",
       "      <td>213934179356</td>\n",
       "      <td>53.052396</td>\n",
       "      <td>-27.702922</td>\n",
       "      <td>22.611757</td>\n",
       "      <td>agnSED/agn.spec.gz</td>\n",
       "      <td>0.48</td>\n",
       "      <td>0</td>\n",
       "      <td>0</td>\n",
       "      <td>0</td>\n",
       "      <td>0</td>\n",
       "      <td>0</td>\n",
       "      <td>point</td>\n",
       "      <td>none</td>\n",
       "      <td>CCM</td>\n",
       "      <td>0.029791</td>\n",
       "      <td>3.1</td>\n",
       "    </tr>\n",
       "  </tbody>\n",
       "</table>\n",
       "</div>"
      ],
      "text/plain": [
       "     prefix      uniqueId   raPhoSim  decPhoSim  phoSimMagNorm  \\\n",
       "338  object  213934178332  53.052941 -27.703314      21.101459   \n",
       "339  object  213934179356  53.052396 -27.702922      22.611757   \n",
       "\n",
       "            sedFilepath  redshift  shear1  shear2  kappa  raOffset  decOffset  \\\n",
       "338  agnSED/agn.spec.gz      0.48       0       0      0         0          0   \n",
       "339  agnSED/agn.spec.gz      0.48       0       0      0         0          0   \n",
       "\n",
       "    spatialmodel internalExtinctionModel galacticExtinctionModel  galacticAv  \\\n",
       "338        point                    none                     CCM    0.029784   \n",
       "339        point                    none                     CCM    0.029791   \n",
       "\n",
       "     galacticRv  \n",
       "338         3.1  \n",
       "339         3.1  "
      ]
     },
     "execution_count": 7,
     "metadata": {},
     "output_type": "execute_result"
    }
   ],
   "source": [
    "sprinkled_agn[:2]"
   ]
  },
  {
   "cell_type": "markdown",
   "metadata": {},
   "source": [
    "Now we will extract the extra information we have stored in the `uniqueId`. This information is the Twinkles System number in our custom OM10 catalog in the `data` directory in Twinkles and the Twinkles Image Number which identifies which image in that particular system refers to that line in the catalog."
   ]
  },
  {
   "cell_type": "code",
   "execution_count": 8,
   "metadata": {
    "collapsed": true
   },
   "outputs": [],
   "source": [
    "# This step undoes the step in CatSim that gives each component of a galaxy a different offset\n",
    "twinkles_nums = []\n",
    "for agn_id in sprinkled_agn['uniqueId']:\n",
    "    twinkles_ids = np.right_shift(agn_id-28, 10)\n",
    "    twinkles_nums.append(twinkles_ids)\n",
    "    \n",
    "#This parses the information added in the last 4 digits of the unshifted ID\n",
    "twinkles_system_num = []\n",
    "twinkles_img_num = []\n",
    "for lens_system in twinkles_nums:\n",
    "    lens_system = str(lens_system)\n",
    "    twinkles_id = lens_system[-4:]\n",
    "    twinkles_id = np.int(twinkles_id)\n",
    "    twinkles_base = np.int(np.floor(twinkles_id/4))\n",
    "    twinkles_img = twinkles_id % 4\n",
    "    twinkles_system_num.append(twinkles_base)\n",
    "    twinkles_img_num.append(twinkles_img)"
   ]
  },
  {
   "cell_type": "markdown",
   "metadata": {},
   "source": [
    "We once again look at the two images we showed earlier. We see that they are image 0 and image 1 from Twinkles System 24."
   ]
  },
  {
   "cell_type": "code",
   "execution_count": 9,
   "metadata": {
    "collapsed": false
   },
   "outputs": [
    {
     "name": "stdout",
     "output_type": "stream",
     "text": [
      "[24, 24] [0, 1]\n"
     ]
    }
   ],
   "source": [
    "print twinkles_system_num[:2], twinkles_img_num[:2]"
   ]
  },
  {
   "cell_type": "markdown",
   "metadata": {},
   "source": [
    "We now add this information into our sprinkled AGN dataframe and reset the indices."
   ]
  },
  {
   "cell_type": "code",
   "execution_count": 10,
   "metadata": {
    "collapsed": false
   },
   "outputs": [
    {
     "data": {
      "text/html": [
       "<div>\n",
       "<table border=\"1\" class=\"dataframe\">\n",
       "  <thead>\n",
       "    <tr style=\"text-align: right;\">\n",
       "      <th></th>\n",
       "      <th>uniqueId</th>\n",
       "      <th>raPhoSim</th>\n",
       "      <th>decPhoSim</th>\n",
       "      <th>twinkles_system</th>\n",
       "      <th>twinkles_img_num</th>\n",
       "    </tr>\n",
       "  </thead>\n",
       "  <tbody>\n",
       "    <tr>\n",
       "      <th>0</th>\n",
       "      <td>213934178332</td>\n",
       "      <td>53.052941</td>\n",
       "      <td>-27.703314</td>\n",
       "      <td>24</td>\n",
       "      <td>0</td>\n",
       "    </tr>\n",
       "    <tr>\n",
       "      <th>1</th>\n",
       "      <td>213934179356</td>\n",
       "      <td>53.052396</td>\n",
       "      <td>-27.702922</td>\n",
       "      <td>24</td>\n",
       "      <td>1</td>\n",
       "    </tr>\n",
       "  </tbody>\n",
       "</table>\n",
       "</div>"
      ],
      "text/plain": [
       "       uniqueId   raPhoSim  decPhoSim  twinkles_system  twinkles_img_num\n",
       "0  213934178332  53.052941 -27.703314               24                 0\n",
       "1  213934179356  53.052396 -27.702922               24                 1"
      ]
     },
     "execution_count": 10,
     "metadata": {},
     "output_type": "execute_result"
    }
   ],
   "source": [
    "sprinkled_agn = sprinkled_agn.reset_index(drop=True)\n",
    "sprinkled_agn['twinkles_system'] = twinkles_system_num\n",
    "sprinkled_agn['twinkles_img_num'] = twinkles_img_num\n",
    "sprinkled_agn.iloc[:2, [1, 2, 3, -2, -1]]"
   ]
  },
  {
   "cell_type": "markdown",
   "metadata": {},
   "source": [
    "The last step is to now add a column with the lens galaxy `uniqueId` for each system so that we can cross-reference between the lensed AGN and the lens galaxy dataframe we will create next. We start by finding the `uniqueId`s for the lens galaxies."
   ]
  },
  {
   "cell_type": "code",
   "execution_count": 11,
   "metadata": {
    "collapsed": true
   },
   "outputs": [],
   "source": [
    "#The lens galaxy ids do not have the extra 4 digits at the end so we remove them\n",
    "#and then do the shift back to the `uniqueID`.\n",
    "lens_gal_ids = np.left_shift((np.array(twinkles_nums))/10000, 10) + 26\n",
    "\n",
    "sprinkled_agn['lens_galaxy_uID'] = lens_gal_ids"
   ]
  },
  {
   "cell_type": "markdown",
   "metadata": {},
   "source": [
    "We now see that the same system has the same lens galaxy `uniqueId` as we expect."
   ]
  },
  {
   "cell_type": "code",
   "execution_count": 12,
   "metadata": {
    "collapsed": false
   },
   "outputs": [
    {
     "data": {
      "text/html": [
       "<div>\n",
       "<table border=\"1\" class=\"dataframe\">\n",
       "  <thead>\n",
       "    <tr style=\"text-align: right;\">\n",
       "      <th></th>\n",
       "      <th>uniqueId</th>\n",
       "      <th>raPhoSim</th>\n",
       "      <th>decPhoSim</th>\n",
       "      <th>twinkles_system</th>\n",
       "      <th>twinkles_img_num</th>\n",
       "      <th>lens_galaxy_uID</th>\n",
       "    </tr>\n",
       "  </thead>\n",
       "  <tbody>\n",
       "    <tr>\n",
       "      <th>0</th>\n",
       "      <td>213934178332</td>\n",
       "      <td>53.052941</td>\n",
       "      <td>-27.703314</td>\n",
       "      <td>24</td>\n",
       "      <td>0</td>\n",
       "      <td>21393434</td>\n",
       "    </tr>\n",
       "    <tr>\n",
       "      <th>1</th>\n",
       "      <td>213934179356</td>\n",
       "      <td>53.052396</td>\n",
       "      <td>-27.702922</td>\n",
       "      <td>24</td>\n",
       "      <td>1</td>\n",
       "      <td>21393434</td>\n",
       "    </tr>\n",
       "  </tbody>\n",
       "</table>\n",
       "</div>"
      ],
      "text/plain": [
       "       uniqueId   raPhoSim  decPhoSim  twinkles_system  twinkles_img_num  \\\n",
       "0  213934178332  53.052941 -27.703314               24                 0   \n",
       "1  213934179356  53.052396 -27.702922               24                 1   \n",
       "\n",
       "   lens_galaxy_uID  \n",
       "0         21393434  \n",
       "1         21393434  "
      ]
     },
     "execution_count": 12,
     "metadata": {},
     "output_type": "execute_result"
    }
   ],
   "source": [
    "sprinkled_agn.iloc[:2, [1, 2, 3, -3, -2, -1]]"
   ]
  },
  {
   "cell_type": "markdown",
   "metadata": {},
   "source": [
    "#### Lens Galaxies\n",
    "\n",
    "Now we will create a dataframe with the Lens Galaxies."
   ]
  },
  {
   "cell_type": "code",
   "execution_count": 13,
   "metadata": {
    "collapsed": true
   },
   "outputs": [],
   "source": [
    "lens_gal_locs = []\n",
    "for idx in lens_gal_ids:\n",
    "    lens_gal_locs.append(np.where(df_galaxy['uniqueId'] == idx)[0])\n",
    "\n",
    "lens_gals = df_galaxy.iloc[np.unique(lens_gal_locs)]\n",
    "lens_gals = lens_gals.reset_index(drop=True)"
   ]
  },
  {
   "cell_type": "markdown",
   "metadata": {},
   "source": [
    "We now have the lens galaxies in their own dataframe that can be joined on the lensed AGN dataframe by the `uniqueId`."
   ]
  },
  {
   "cell_type": "code",
   "execution_count": 14,
   "metadata": {
    "collapsed": false
   },
   "outputs": [
    {
     "data": {
      "text/html": [
       "<div>\n",
       "<table border=\"1\" class=\"dataframe\">\n",
       "  <thead>\n",
       "    <tr style=\"text-align: right;\">\n",
       "      <th></th>\n",
       "      <th>prefix</th>\n",
       "      <th>uniqueId</th>\n",
       "      <th>raPhoSim</th>\n",
       "      <th>decPhoSim</th>\n",
       "      <th>phoSimMagNorm</th>\n",
       "      <th>sedFilepath</th>\n",
       "      <th>redshift</th>\n",
       "      <th>shear1</th>\n",
       "      <th>shear2</th>\n",
       "      <th>kappa</th>\n",
       "      <th>...</th>\n",
       "      <th>majorAxis</th>\n",
       "      <th>minorAxis</th>\n",
       "      <th>positionAngle</th>\n",
       "      <th>sindex</th>\n",
       "      <th>internalExtinctionModel</th>\n",
       "      <th>internalAv</th>\n",
       "      <th>internalRv</th>\n",
       "      <th>galacticExtinctionModel</th>\n",
       "      <th>galacticAv</th>\n",
       "      <th>galacticRv</th>\n",
       "    </tr>\n",
       "  </thead>\n",
       "  <tbody>\n",
       "    <tr>\n",
       "      <th>0</th>\n",
       "      <td>object</td>\n",
       "      <td>21393434</td>\n",
       "      <td>53.052488</td>\n",
       "      <td>-27.702974</td>\n",
       "      <td>17.830105</td>\n",
       "      <td>galaxySED/Inst.25E09.02Z.spec.gz</td>\n",
       "      <td>0.184</td>\n",
       "      <td>0</td>\n",
       "      <td>0</td>\n",
       "      <td>0</td>\n",
       "      <td>...</td>\n",
       "      <td>1.612616</td>\n",
       "      <td>1.153254</td>\n",
       "      <td>56.84685</td>\n",
       "      <td>4</td>\n",
       "      <td>CCM</td>\n",
       "      <td>0.2</td>\n",
       "      <td>3.1</td>\n",
       "      <td>CCM</td>\n",
       "      <td>0.02979</td>\n",
       "      <td>3.1</td>\n",
       "    </tr>\n",
       "  </tbody>\n",
       "</table>\n",
       "<p>1 rows × 23 columns</p>\n",
       "</div>"
      ],
      "text/plain": [
       "   prefix  uniqueId   raPhoSim  decPhoSim  phoSimMagNorm  \\\n",
       "0  object  21393434  53.052488 -27.702974      17.830105   \n",
       "\n",
       "                        sedFilepath  redshift  shear1  shear2  kappa  \\\n",
       "0  galaxySED/Inst.25E09.02Z.spec.gz     0.184       0       0      0   \n",
       "\n",
       "      ...      majorAxis  minorAxis positionAngle  sindex  \\\n",
       "0     ...       1.612616   1.153254      56.84685       4   \n",
       "\n",
       "   internalExtinctionModel  internalAv  internalRv galacticExtinctionModel  \\\n",
       "0                      CCM         0.2         3.1                     CCM   \n",
       "\n",
       "   galacticAv  galacticRv  \n",
       "0     0.02979         3.1  \n",
       "\n",
       "[1 rows x 23 columns]"
      ]
     },
     "execution_count": 14,
     "metadata": {},
     "output_type": "execute_result"
    }
   ],
   "source": [
    "lens_gals[lens_gals['uniqueId'] == sprinkled_agn['lens_galaxy_uID'][0]]"
   ]
  },
  {
   "cell_type": "markdown",
   "metadata": {},
   "source": [
    "And we can check how many systems there are by checking the length of this dataframe and it will show that we have 198 lens systems in the Twinkles field!"
   ]
  },
  {
   "cell_type": "code",
   "execution_count": 15,
   "metadata": {
    "collapsed": false
   },
   "outputs": [
    {
     "data": {
      "text/plain": [
       "198"
      ]
     },
     "execution_count": 15,
     "metadata": {},
     "output_type": "execute_result"
    }
   ],
   "source": [
    "len(lens_gals)"
   ]
  },
  {
   "cell_type": "markdown",
   "metadata": {},
   "source": [
    "## Results\n",
    "\n",
    "JBK: Plots showing successful instance catalog generation: 1) Example system, showing sky positions of lensed quasar images and lens galaxy, compared to standard OM10 representation. 2) Distributions of lens galaxy and source quasar magnitude, to show that matching works well. etc."
   ]
  },
  {
   "cell_type": "markdown",
   "metadata": {},
   "source": [
    "### Compare catalog positions to OM10\n",
    "\n",
    "We want to show that the positions of the images in our lens systems in the catalogs are where they should be according to the OM10 systems we are using. Here we will use an example system from the catalog to show that we have lined up our catalog objects correctly."
   ]
  },
  {
   "cell_type": "code",
   "execution_count": 16,
   "metadata": {
    "collapsed": true
   },
   "outputs": [],
   "source": [
    "def offset_on_sky(ra, dec, ra0, dec0, units='degrees'):\n",
    "    \"\"\"\n",
    "    Subtract off a reference sky position and convert to simple cartesians in arcsec:\n",
    "    \n",
    "    Parameters\n",
    "    ----------\n",
    "    ra, dec : float, float\n",
    "        Feature positions (degrees)\n",
    "    ra0, dec0 : float, float\n",
    "        Reference position (degrees)\n",
    "    units : string\n",
    "        'degrees' or 'radians'\n",
    "    \n",
    "    Returns\n",
    "    -------\n",
    "    x, y : float, float\n",
    "        Offset position in righthanded cartesians, and units of arcsec\n",
    "    \"\"\"\n",
    "    if units == 'radians':\n",
    "        ra, dec = np.degrees(ra), np.degrees(dec)\n",
    "        \n",
    "    y = 3600.0 * (dec - dec0)\n",
    "    x = 3600.0 * (ra - ra0) * np.cos(np.radians(dec0))\n",
    "    return x, y"
   ]
  },
  {
   "cell_type": "code",
   "execution_count": 17,
   "metadata": {
    "collapsed": true
   },
   "outputs": [],
   "source": [
    "# Load Twinkles OM10 database\n",
    "from astropy.io import fits\n",
    "om10_db = fits.open('../../../data/twinkles_lenses_v2.fits')"
   ]
  },
  {
   "cell_type": "code",
   "execution_count": 18,
   "metadata": {
    "collapsed": false
   },
   "outputs": [
    {
     "data": {
      "text/html": [
       "<div>\n",
       "<table border=\"1\" class=\"dataframe\">\n",
       "  <thead>\n",
       "    <tr style=\"text-align: right;\">\n",
       "      <th></th>\n",
       "      <th>prefix</th>\n",
       "      <th>uniqueId</th>\n",
       "      <th>raPhoSim</th>\n",
       "      <th>decPhoSim</th>\n",
       "      <th>phoSimMagNorm</th>\n",
       "      <th>sedFilepath</th>\n",
       "      <th>redshift</th>\n",
       "      <th>shear1</th>\n",
       "      <th>shear2</th>\n",
       "      <th>kappa</th>\n",
       "      <th>raOffset</th>\n",
       "      <th>decOffset</th>\n",
       "      <th>spatialmodel</th>\n",
       "      <th>internalExtinctionModel</th>\n",
       "      <th>galacticExtinctionModel</th>\n",
       "      <th>galacticAv</th>\n",
       "      <th>galacticRv</th>\n",
       "      <th>twinkles_system</th>\n",
       "      <th>twinkles_img_num</th>\n",
       "      <th>lens_galaxy_uID</th>\n",
       "    </tr>\n",
       "  </thead>\n",
       "  <tbody>\n",
       "    <tr>\n",
       "      <th>16</th>\n",
       "      <td>object</td>\n",
       "      <td>1257605247004</td>\n",
       "      <td>53.140369</td>\n",
       "      <td>-27.688755</td>\n",
       "      <td>23.305929</td>\n",
       "      <td>agnSED/agn.spec.gz</td>\n",
       "      <td>0.62</td>\n",
       "      <td>0</td>\n",
       "      <td>0</td>\n",
       "      <td>0</td>\n",
       "      <td>0</td>\n",
       "      <td>0</td>\n",
       "      <td>point</td>\n",
       "      <td>none</td>\n",
       "      <td>CCM</td>\n",
       "      <td>0.029121</td>\n",
       "      <td>3.1</td>\n",
       "      <td>31</td>\n",
       "      <td>0</td>\n",
       "      <td>125760538</td>\n",
       "    </tr>\n",
       "    <tr>\n",
       "      <th>17</th>\n",
       "      <td>object</td>\n",
       "      <td>1257605248028</td>\n",
       "      <td>53.141059</td>\n",
       "      <td>-27.688468</td>\n",
       "      <td>22.744297</td>\n",
       "      <td>agnSED/agn.spec.gz</td>\n",
       "      <td>0.62</td>\n",
       "      <td>0</td>\n",
       "      <td>0</td>\n",
       "      <td>0</td>\n",
       "      <td>0</td>\n",
       "      <td>0</td>\n",
       "      <td>point</td>\n",
       "      <td>none</td>\n",
       "      <td>CCM</td>\n",
       "      <td>0.029120</td>\n",
       "      <td>3.1</td>\n",
       "      <td>31</td>\n",
       "      <td>1</td>\n",
       "      <td>125760538</td>\n",
       "    </tr>\n",
       "    <tr>\n",
       "      <th>18</th>\n",
       "      <td>object</td>\n",
       "      <td>1257605249052</td>\n",
       "      <td>53.141089</td>\n",
       "      <td>-27.688154</td>\n",
       "      <td>22.502861</td>\n",
       "      <td>agnSED/agn.spec.gz</td>\n",
       "      <td>0.62</td>\n",
       "      <td>0</td>\n",
       "      <td>0</td>\n",
       "      <td>0</td>\n",
       "      <td>0</td>\n",
       "      <td>0</td>\n",
       "      <td>point</td>\n",
       "      <td>none</td>\n",
       "      <td>CCM</td>\n",
       "      <td>0.029126</td>\n",
       "      <td>3.1</td>\n",
       "      <td>31</td>\n",
       "      <td>2</td>\n",
       "      <td>125760538</td>\n",
       "    </tr>\n",
       "    <tr>\n",
       "      <th>19</th>\n",
       "      <td>object</td>\n",
       "      <td>1257605250076</td>\n",
       "      <td>53.140447</td>\n",
       "      <td>-27.688057</td>\n",
       "      <td>23.598845</td>\n",
       "      <td>agnSED/agn.spec.gz</td>\n",
       "      <td>0.62</td>\n",
       "      <td>0</td>\n",
       "      <td>0</td>\n",
       "      <td>0</td>\n",
       "      <td>0</td>\n",
       "      <td>0</td>\n",
       "      <td>point</td>\n",
       "      <td>none</td>\n",
       "      <td>CCM</td>\n",
       "      <td>0.029134</td>\n",
       "      <td>3.1</td>\n",
       "      <td>31</td>\n",
       "      <td>3</td>\n",
       "      <td>125760538</td>\n",
       "    </tr>\n",
       "  </tbody>\n",
       "</table>\n",
       "</div>"
      ],
      "text/plain": [
       "    prefix       uniqueId   raPhoSim  decPhoSim  phoSimMagNorm  \\\n",
       "16  object  1257605247004  53.140369 -27.688755      23.305929   \n",
       "17  object  1257605248028  53.141059 -27.688468      22.744297   \n",
       "18  object  1257605249052  53.141089 -27.688154      22.502861   \n",
       "19  object  1257605250076  53.140447 -27.688057      23.598845   \n",
       "\n",
       "           sedFilepath  redshift  shear1  shear2  kappa  raOffset  decOffset  \\\n",
       "16  agnSED/agn.spec.gz      0.62       0       0      0         0          0   \n",
       "17  agnSED/agn.spec.gz      0.62       0       0      0         0          0   \n",
       "18  agnSED/agn.spec.gz      0.62       0       0      0         0          0   \n",
       "19  agnSED/agn.spec.gz      0.62       0       0      0         0          0   \n",
       "\n",
       "   spatialmodel internalExtinctionModel galacticExtinctionModel  galacticAv  \\\n",
       "16        point                    none                     CCM    0.029121   \n",
       "17        point                    none                     CCM    0.029120   \n",
       "18        point                    none                     CCM    0.029126   \n",
       "19        point                    none                     CCM    0.029134   \n",
       "\n",
       "    galacticRv  twinkles_system  twinkles_img_num  lens_galaxy_uID  \n",
       "16         3.1               31                 0        125760538  \n",
       "17         3.1               31                 1        125760538  \n",
       "18         3.1               31                 2        125760538  \n",
       "19         3.1               31                 3        125760538  "
      ]
     },
     "execution_count": 18,
     "metadata": {},
     "output_type": "execute_result"
    }
   ],
   "source": [
    "# We'll pick a Quad system for more fun\n",
    "sprinkled_agn[16:20]"
   ]
  },
  {
   "cell_type": "code",
   "execution_count": 19,
   "metadata": {
    "collapsed": false
   },
   "outputs": [],
   "source": [
    "# These are the example lens galaxy and lensed AGN images from above\n",
    "example_lensed_agn = sprinkled_agn.iloc[16:20, [1, 2, 3, -3, -2, -1]]\n",
    "example_lensed_agn = example_lensed_agn.reset_index(drop=True)\n",
    "example_lens_galaxy = lens_gals[lens_gals['uniqueId'] == example_lensed_agn['lens_galaxy_uID'][0]]\n",
    "example_lensed_agn['lens_ra'] = np.array([example_lens_galaxy['raPhoSim'].iloc[0]]*4)\n",
    "example_lensed_agn['lens_dec'] = np.array([example_lens_galaxy['decPhoSim'].iloc[0]]*4)"
   ]
  },
  {
   "cell_type": "code",
   "execution_count": 20,
   "metadata": {
    "collapsed": false
   },
   "outputs": [
    {
     "data": {
      "text/html": [
       "<div>\n",
       "<table border=\"1\" class=\"dataframe\">\n",
       "  <thead>\n",
       "    <tr style=\"text-align: right;\">\n",
       "      <th></th>\n",
       "      <th>uniqueId</th>\n",
       "      <th>raPhoSim</th>\n",
       "      <th>decPhoSim</th>\n",
       "      <th>twinkles_system</th>\n",
       "      <th>twinkles_img_num</th>\n",
       "      <th>lens_galaxy_uID</th>\n",
       "      <th>lens_ra</th>\n",
       "      <th>lens_dec</th>\n",
       "    </tr>\n",
       "  </thead>\n",
       "  <tbody>\n",
       "    <tr>\n",
       "      <th>0</th>\n",
       "      <td>1257605247004</td>\n",
       "      <td>53.140369</td>\n",
       "      <td>-27.688755</td>\n",
       "      <td>31</td>\n",
       "      <td>0</td>\n",
       "      <td>125760538</td>\n",
       "      <td>53.140651</td>\n",
       "      <td>-27.688312</td>\n",
       "    </tr>\n",
       "    <tr>\n",
       "      <th>1</th>\n",
       "      <td>1257605248028</td>\n",
       "      <td>53.141059</td>\n",
       "      <td>-27.688468</td>\n",
       "      <td>31</td>\n",
       "      <td>1</td>\n",
       "      <td>125760538</td>\n",
       "      <td>53.140651</td>\n",
       "      <td>-27.688312</td>\n",
       "    </tr>\n",
       "    <tr>\n",
       "      <th>2</th>\n",
       "      <td>1257605249052</td>\n",
       "      <td>53.141089</td>\n",
       "      <td>-27.688154</td>\n",
       "      <td>31</td>\n",
       "      <td>2</td>\n",
       "      <td>125760538</td>\n",
       "      <td>53.140651</td>\n",
       "      <td>-27.688312</td>\n",
       "    </tr>\n",
       "    <tr>\n",
       "      <th>3</th>\n",
       "      <td>1257605250076</td>\n",
       "      <td>53.140447</td>\n",
       "      <td>-27.688057</td>\n",
       "      <td>31</td>\n",
       "      <td>3</td>\n",
       "      <td>125760538</td>\n",
       "      <td>53.140651</td>\n",
       "      <td>-27.688312</td>\n",
       "    </tr>\n",
       "  </tbody>\n",
       "</table>\n",
       "</div>"
      ],
      "text/plain": [
       "        uniqueId   raPhoSim  decPhoSim  twinkles_system  twinkles_img_num  \\\n",
       "0  1257605247004  53.140369 -27.688755               31                 0   \n",
       "1  1257605248028  53.141059 -27.688468               31                 1   \n",
       "2  1257605249052  53.141089 -27.688154               31                 2   \n",
       "3  1257605250076  53.140447 -27.688057               31                 3   \n",
       "\n",
       "   lens_galaxy_uID    lens_ra   lens_dec  \n",
       "0        125760538  53.140651 -27.688312  \n",
       "1        125760538  53.140651 -27.688312  \n",
       "2        125760538  53.140651 -27.688312  \n",
       "3        125760538  53.140651 -27.688312  "
      ]
     },
     "execution_count": 20,
     "metadata": {},
     "output_type": "execute_result"
    }
   ],
   "source": [
    "example_lensed_agn"
   ]
  },
  {
   "cell_type": "code",
   "execution_count": 21,
   "metadata": {
    "collapsed": false
   },
   "outputs": [
    {
     "data": {
      "text/plain": [
       "FITS_rec([ (447252, 0, 4,  0.202,  281.8383,  0.3325666, -136.1489,  0.06078814,  54.97539,  0.62,  0.01993577, -0.2136398,  23.41,  22.30149,  3.152606, [-0.8915,  1.3049,  1.394 , -0.653 ], [-1.5949, -0.5538,  0.5766,  0.9183], [ 2.7759, -4.2353,  5.3534, -1.5119], [  0.   ,  17.956,  16.262,  31.911], [ 0.,  0.,  0.,  0.], [ 0.,  0.,  0.,  0.],  685.897339,  990.987244, -23.1394997,  17.0428391,  0.20200001,  1399.73,  890.815,  0.,  3673.45,  0.,  2.0383899,  0., 31, 'Inst.40E09.02Z.spec')], \n",
       "      dtype=(numpy.record, [('LENSID', '>i4'), ('FLAGTYPE', '>i2'), ('NIMG', '>i2'), ('ZLENS', '>f8'), ('VELDISP', '>f8'), ('ELLIP', '>f8'), ('PHIE', '>f8'), ('GAMMA', '>f8'), ('PHIG', '>f8'), ('ZSRC', '>f8'), ('XSRC', '>f8'), ('YSRC', '>f8'), ('MAGI_IN', '>f8'), ('MAGI', '>f8'), ('IMSEP', '>f8'), ('XIMG', '>f8', (4,)), ('YIMG', '>f8', (4,)), ('MAG', '>f8', (4,)), ('DELAY', '>f8', (4,)), ('KAPPA', '>f8', (4,)), ('FSTAR', '>f8', (4,)), ('DD', '>f8'), ('DDLUM', '>f8'), ('ABMAG_I', '>f8'), ('APMAG_I', '>f8'), ('KCORR', '>f8'), ('DS', '>f8'), ('DDS', '>f8'), ('SIGCRIT', '>f8'), ('DSLUM', '>f8'), ('L_I', '>f8'), ('REFF', '>f8'), ('REFF_T', '>f8'), ('twinklesId', '>i2'), ('lens_sed', 'S30')]))"
      ]
     },
     "execution_count": 21,
     "metadata": {},
     "output_type": "execute_result"
    }
   ],
   "source": [
    "# Match the lens system to its OM10 source\n",
    "twinkles_sys_num = example_lensed_agn['twinkles_system'].iloc[0]\n",
    "om10_sys = om10_db[1].data[om10_db[1].data['twinklesId'] == twinkles_sys_num]\n",
    "om10_sys"
   ]
  },
  {
   "cell_type": "code",
   "execution_count": 22,
   "metadata": {
    "collapsed": false
   },
   "outputs": [],
   "source": [
    "# Calculate the offsets from the lens galaxy position\n",
    "offset_x1, offset_y1 = offset_on_sky(example_lensed_agn['raPhoSim'].iloc[0], example_lensed_agn['decPhoSim'].iloc[0],\n",
    "                                     example_lensed_agn['lens_ra'].iloc[0], example_lensed_agn['lens_dec'].iloc[0])\n",
    "offset_x2, offset_y2 = offset_on_sky(example_lensed_agn['raPhoSim'].iloc[1], example_lensed_agn['decPhoSim'].iloc[1],\n",
    "                                     example_lensed_agn['lens_ra'].iloc[1], example_lensed_agn['lens_dec'].iloc[1])\n",
    "offset_x3, offset_y3 = offset_on_sky(example_lensed_agn['raPhoSim'].iloc[2], example_lensed_agn['decPhoSim'].iloc[2],\n",
    "                                     example_lensed_agn['lens_ra'].iloc[2], example_lensed_agn['lens_dec'].iloc[2])\n",
    "offset_x4, offset_y4 = offset_on_sky(example_lensed_agn['raPhoSim'].iloc[3], example_lensed_agn['decPhoSim'].iloc[3],\n",
    "                                     example_lensed_agn['lens_ra'].iloc[3], example_lensed_agn['lens_dec'].iloc[3])"
   ]
  },
  {
   "cell_type": "code",
   "execution_count": 23,
   "metadata": {
    "collapsed": false
   },
   "outputs": [
    {
     "name": "stderr",
     "output_type": "stream",
     "text": [
      "/Users/Bryce/miniconda2/lib/python2.7/site-packages/matplotlib/__init__.py:1401: UserWarning:  This call to matplotlib.use() has no effect\n",
      "because the backend has already been chosen;\n",
      "matplotlib.use() must be called *before* pylab, matplotlib.pyplot,\n",
      "or matplotlib.backends is imported for the first time.\n",
      "\n",
      "  warnings.warn(_use_error_msg)\n"
     ]
    }
   ],
   "source": [
    "# Let's use the OM10 tools here since it has a nice plotting method\n",
    "import om10\n",
    "db = om10.DB(catalog='../../../data/twinkles_lenses_v2.fits')\n",
    "lens = db.get_lens(om10_sys['LENSID'])"
   ]
  },
  {
   "cell_type": "markdown",
   "metadata": {},
   "source": [
    "Now that we have all the information ready. We'll first make a plot of the OM10 system from the OM10 data and then in the second plot we'll remake the same plot but overlay the positions of the catalog images on top."
   ]
  },
  {
   "cell_type": "code",
   "execution_count": 24,
   "metadata": {
    "collapsed": false
   },
   "outputs": [
    {
     "name": "stdout",
     "output_type": "stream",
     "text": [
      "om10.plot_lens: plotting image configuration of lens ID  447252\n",
      "om10.plot_lens: lens, image magnitudes: 17.0428391 [ 22.30149046  21.84278955  21.58842576  22.96119233]\n",
      "om10.plot_lens: figure saved to file: om10_qso_ID=447252.png\n"
     ]
    },
    {
     "data": {
      "image/png": "[encoded data removed]",
      "text/plain": [
       "<matplotlib.figure.Figure at 0x10dfd0990>"
      ]
     },
     "metadata": {},
     "output_type": "display_data"
    }
   ],
   "source": [
    "om10.plot_lens(lens)"
   ]
  },
  {
   "cell_type": "code",
   "execution_count": 25,
   "metadata": {
    "collapsed": false
   },
   "outputs": [
    {
     "name": "stdout",
     "output_type": "stream",
     "text": [
      "om10.plot_lens: plotting image configuration of lens ID  447252\n",
      "om10.plot_lens: lens, image magnitudes: 17.0428391 [ 22.30149046  21.84278955  21.58842576  22.96119233]\n",
      "om10.plot_lens: figure saved to file: om10_qso_ID=447252.png\n"
     ]
    },
    {
     "data": {
      "text/plain": [
       "<matplotlib.collections.PathCollection at 0x10eacfd50>"
      ]
     },
     "execution_count": 25,
     "metadata": {},
     "output_type": "execute_result"
    },
    {
     "data": {
      "image/png": "[encoded data removed]",
      "text/plain": [
       "<matplotlib.figure.Figure at 0x10e5ede50>"
      ]
     },
     "metadata": {},
     "output_type": "display_data"
    }
   ],
   "source": [
    "om10.plot_lens(lens)\n",
    "plt.scatter(offset_x1, offset_y1, c='r', marker='o', s=188, alpha=0.4, label='Catalog Image 1')\n",
    "plt.scatter(offset_x2, offset_y2, c='r', marker='o', s=188, alpha=0.4, label='Catalog Image 2')\n",
    "plt.scatter(offset_x3, offset_y3, c='r', marker='o', s=188, alpha=0.4, label='Catalog Image 3')\n",
    "plt.scatter(offset_x4, offset_y4, c='r', marker='o', s=188, alpha=0.4, label='Catalog Image 4')"
   ]
  },
  {
   "cell_type": "markdown",
   "metadata": {},
   "source": [
    "The blue crosses are the OM10 positions and the red circles are the image positions from the Twinkles instance catalog we created. Our catalog sources match the positions relative to the lens galaxy that the OM10 data gives."
   ]
  },
  {
   "cell_type": "markdown",
   "metadata": {},
   "source": [
    "### Comparing Magnitudes of Sources\n",
    "\n",
    "In order to compare magnitudes we first need to convert our catalog magnitudes which are in a delta function magnitude at 500 nm we call the `imsimband` to the I magnitude of OM10. When converting magnitudes in the `sprinkler` we assumed that I magnitude was comparable to the LSST *i* band. Here we will do the same and convert `imsimband` magnitudes from the catalog to LSST *i* magnitudes using the SEDs associated with the catalog objects."
   ]
  },
  {
   "cell_type": "code",
   "execution_count": 121,
   "metadata": {
    "collapsed": true
   },
   "outputs": [],
   "source": [
    "import re\n",
    "from lsst.utils import getPackageDir\n",
    "from lsst.sims.photUtils.Sed import Sed\n",
    "from lsst.sims.photUtils.BandpassDict import BandpassDict\n",
    "from lsst.sims.photUtils.Bandpass import Bandpass\n",
    "from future.utils import iteritems\n",
    "from lsst.sims.utils import SpecMap"
   ]
  },
  {
   "cell_type": "code",
   "execution_count": 69,
   "metadata": {
    "collapsed": false
   },
   "outputs": [],
   "source": [
    "agn_fname = str(getPackageDir('sims_sed_library') + '/agnSED/agn.spec.gz')\n",
    "bandpassDict = BandpassDict.loadTotalBandpassesFromFiles(bandpassNames=['i'])\n",
    "imsimband = Bandpass()\n",
    "imsimband.imsimBandpass()"
   ]
  },
  {
   "cell_type": "code",
   "execution_count": 128,
   "metadata": {
    "collapsed": false
   },
   "outputs": [
    {
     "data": {
      "text/plain": [
       "prefix                                 object\n",
       "uniqueId                         213934178332\n",
       "raPhoSim                              53.0529\n",
       "decPhoSim                            -27.7033\n",
       "phoSimMagNorm                         21.1015\n",
       "sedFilepath                agnSED/agn.spec.gz\n",
       "redshift                                 0.48\n",
       "shear1                                      0\n",
       "shear2                                      0\n",
       "kappa                                       0\n",
       "raOffset                                    0\n",
       "decOffset                                   0\n",
       "spatialmodel                            point\n",
       "internalExtinctionModel                  none\n",
       "galacticExtinctionModel                   CCM\n",
       "galacticAv                          0.0297841\n",
       "galacticRv                                3.1\n",
       "twinkles_system                            24\n",
       "twinkles_img_num                            0\n",
       "lens_galaxy_uID                      21393434\n",
       "Name: 0, dtype: object"
      ]
     },
     "execution_count": 128,
     "metadata": {},
     "output_type": "execute_result"
    }
   ],
   "source": [
    "sprinkled_agn.iloc[0]"
   ]
  },
  {
   "cell_type": "code",
   "execution_count": 130,
   "metadata": {
    "collapsed": false
   },
   "outputs": [
    {
     "name": "stderr",
     "output_type": "stream",
     "text": [
      "/Users/Bryce/miniconda2/lib/python2.7/site-packages/ipykernel/__main__.py:13: RuntimeWarning: divide by zero encountered in log10\n"
     ]
    }
   ],
   "source": [
    "catalog_agn_mags = []\n",
    "om10_agn_mags = []\n",
    "lens_gal_om10_sys = dict()\n",
    "for idx, spr_agn_row in sprinkled_agn.iterrows():\n",
    "\n",
    "    agn_sed = Sed()\n",
    "    agn_sed.readSED_flambda(agn_fname)\n",
    "    \n",
    "    fluxnorm = agn_sed.calcFluxNorm(spr_agn_row['phoSimMagNorm'], imsimband)\n",
    "    agn_sed.multiplyFluxNorm(fluxnorm)\n",
    "    catalog_agn_mags.append(bandpassDict.magDictForSed(agn_sed)['i'])\n",
    "    db_row = np.where(om10_db[1].data['twinklesId'] == spr_agn_row['twinkles_system'])[0][0]\n",
    "    mag_adjust = 2.5*np.log10(np.abs(om10_db[1].data[db_row]['MAG']))\n",
    "    om10_mag = om10_db[1].data[db_row]['MAGI_IN']-mag_adjust[spr_agn_row['twinkles_img_num']]\n",
    "    om10_agn_mags.append(om10_mag)\n",
    "    if spr_agn_row['lens_galaxy_uID'] not in lens_gal_om10_sys.keys():\n",
    "        lens_gal_om10_sys[str(spr_agn_row['lens_galaxy_uID'])] = db_row"
   ]
  },
  {
   "cell_type": "code",
   "execution_count": 115,
   "metadata": {
    "collapsed": false
   },
   "outputs": [
    {
     "data": {
      "text/plain": [
       "<matplotlib.legend.Legend at 0x110f2ad90>"
      ]
     },
     "execution_count": 115,
     "metadata": {},
     "output_type": "execute_result"
    },
    {
     "data": {
      "image/png": "[encoded data removed]",
      "text/plain": [
       "<matplotlib.figure.Figure at 0x1106d2f50>"
      ]
     },
     "metadata": {},
     "output_type": "display_data"
    }
   ],
   "source": [
    "fig = plt.figure(figsize=(12,12))\n",
    "mpl.rcParams.update({'font.size': 22})\n",
    "n, bins, p = plt.hist(catalog_agn_mags, histtype='step', label='Catalog AGN mags', lw=10)\n",
    "plt.hist(om10_agn_mags, bins=bins, histtype='step', label='OM10 AGN Mags', lw=10)\n",
    "plt.title('Comparing PhoSim input AGN i-band magnitudes to matched OM10 systems', size=24)\n",
    "plt.xlabel('i-band magnitude')\n",
    "plt.ylabel('Galaxy Counts')\n",
    "plt.legend()"
   ]
  },
  {
   "cell_type": "code",
   "execution_count": 125,
   "metadata": {
    "collapsed": false
   },
   "outputs": [],
   "source": [
    "specFileStart = 'Burst'\n",
    "for key, val in sorted(iteritems(SpecMap.subdir_map)):\n",
    "    if re.match(key, specFileStart):\n",
    "        galSpecDir = str(val)\n",
    "galDir = str(getPackageDir('sims_sed_library') + '/' + galSpecDir + '/')\n",
    "LRG_name = str(galDir + 'Burst.25E09.1Z.spec')"
   ]
  },
  {
   "cell_type": "code",
   "execution_count": 127,
   "metadata": {
    "collapsed": false
   },
   "outputs": [
    {
     "data": {
      "text/plain": [
       "prefix                                               object\n",
       "uniqueId                                           21393434\n",
       "raPhoSim                                            53.0525\n",
       "decPhoSim                                           -27.703\n",
       "phoSimMagNorm                                       17.8301\n",
       "sedFilepath                galaxySED/Inst.25E09.02Z.spec.gz\n",
       "redshift                                              0.184\n",
       "shear1                                                    0\n",
       "shear2                                                    0\n",
       "kappa                                                     0\n",
       "raOffset                                                  0\n",
       "decOffset                                                 0\n",
       "spatialmodel                                       sersic2d\n",
       "majorAxis                                           1.61262\n",
       "minorAxis                                           1.15325\n",
       "positionAngle                                       56.8469\n",
       "sindex                                                    4\n",
       "internalExtinctionModel                                 CCM\n",
       "internalAv                                              0.2\n",
       "internalRv                                              3.1\n",
       "galacticExtinctionModel                                 CCM\n",
       "galacticAv                                        0.0297898\n",
       "galacticRv                                              3.1\n",
       "Name: 0, dtype: object"
      ]
     },
     "execution_count": 127,
     "metadata": {},
     "output_type": "execute_result"
    }
   ],
   "source": [
    "lens_gals.iloc[0]\n"
   ]
  },
  {
   "cell_type": "code",
   "execution_count": 136,
   "metadata": {
    "collapsed": false
   },
   "outputs": [],
   "source": [
    "catalog_lens_gal_mags = []\n",
    "om10_lens_gal_mags = []\n",
    "for idx, lens_gal_row in lens_gals.iterrows():\n",
    "\n",
    "    lens_sed = Sed()\n",
    "    #lens_sed.readSED_flambda(LRG_name)\n",
    "    lens_sed.readSED_flambda(str(getPackageDir('sims_sed_library') + '/' + lens_gal_row['sedFilepath']))\n",
    "    \n",
    "    fluxnorm = lens_sed.calcFluxNorm(lens_gal_row['phoSimMagNorm'], imsimband)\n",
    "    lens_sed.multiplyFluxNorm(fluxnorm)\n",
    "    catalog_lens_gal_mags.append(bandpassDict.magDictForSed(lens_sed)['i'])\n",
    "    db_row = lens_gal_om10_sys[str(lens_gal_row['uniqueId'])]\n",
    "    om10_mag = om10_db[1].data[db_row]['APMAG_I']\n",
    "    om10_lens_gal_mags.append(om10_mag)"
   ]
  },
  {
   "cell_type": "code",
   "execution_count": 140,
   "metadata": {
    "collapsed": false
   },
   "outputs": [
    {
     "data": {
      "text/plain": [
       "<matplotlib.legend.Legend at 0x11c7302d0>"
      ]
     },
     "execution_count": 140,
     "metadata": {},
     "output_type": "execute_result"
    },
    {
     "data": {
      "image/png": "[encoded data removed]",
      "text/plain": [
       "<matplotlib.figure.Figure at 0x11be633d0>"
      ]
     },
     "metadata": {},
     "output_type": "display_data"
    }
   ],
   "source": [
    "fig = plt.figure(figsize=(12,12))\n",
    "mpl.rcParams.update({'font.size': 22})\n",
    "n, bins, p = plt.hist(catalog_lens_gal_mags, histtype='step', label='Catalog Lens Galaxy mags', lw=10)\n",
    "plt.hist(om10_lens_gal_mags, bins=bins, histtype='step', label='OM10 Lens Galaxy Mags', lw=10)\n",
    "plt.title('Comparing PhoSim input lens galaxy i-band magnitudes to matched OM10 systems', size=24)\n",
    "plt.xlabel('i-band magnitude')\n",
    "plt.ylabel('Galaxy Counts')\n",
    "plt.legend(loc=2)"
   ]
  },
  {
   "cell_type": "markdown",
   "metadata": {},
   "source": [
    "## DIscussion and Conclusions\n",
    "\n",
    "JBK and PJM to iterate on:\n",
    "\n",
    "`sprinkler` seems to work well, inserting lensed quasars into PhoSim inputs. Speed of operation? Is this the rate-limiting step? \n",
    "\n",
    "Scaling up to larger sky areas - any problems foreseen?\n",
    "\n",
    "Quasar host galaxies are ignored for now, but could be matched and inserted (Li and Wiesner in prep).\n",
    "\n",
    "Lensed supernovae? OM10 produced a mock SN catalog that could be used. "
   ]
  },
  {
   "cell_type": "code",
   "execution_count": null,
   "metadata": {
    "collapsed": true
   },
   "outputs": [],
   "source": []
  },
  {
   "cell_type": "code",
   "execution_count": null,
   "metadata": {
    "collapsed": true
   },
   "outputs": [],
   "source": []
  },
  {
   "cell_type": "code",
   "execution_count": null,
   "metadata": {
    "collapsed": true
   },
   "outputs": [],
   "source": []
  },
  {
   "cell_type": "markdown",
   "metadata": {},
   "source": [
    "# Appendix: LSST DESC Notes `ipynb` Reference"
   ]
  },
  {
   "cell_type": "markdown",
   "metadata": {},
   "source": [
    "## References\n",
    "\n",
    "[Liao K. et al., 2015, ApJ, 800, 26](https://arxiv.org/abs/1409.1254)\n",
    "\n",
    "[Sonnenfeld A. et al., 2013, ApJ, 777, 98](https://arxiv.org/abs/1307.4759)"
   ]
  },
  {
   "cell_type": "code",
   "execution_count": null,
   "metadata": {
    "collapsed": true
   },
   "outputs": [],
   "source": []
  }
 ],
 "metadata": {
  "anaconda-cloud": {},
  "kernelspec": {
   "display_name": "Python [default]",
   "language": "python",
   "name": "python2"
  },
  "language_info": {
   "codemirror_mode": {
    "name": "ipython",
    "version": 2
   },
   "file_extension": ".py",
   "mimetype": "text/x-python",
   "name": "python",
   "nbconvert_exporter": "python",
   "pygments_lexer": "ipython2",
   "version": "2.7.12"
  }
 },
 "nbformat": 4,
 "nbformat_minor": 0
}
