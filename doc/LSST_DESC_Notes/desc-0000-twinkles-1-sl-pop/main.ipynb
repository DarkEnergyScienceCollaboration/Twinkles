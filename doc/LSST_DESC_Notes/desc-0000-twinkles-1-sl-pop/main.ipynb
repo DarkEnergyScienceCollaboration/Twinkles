{
 "cells": [
  {
   "cell_type": "markdown",
   "metadata": {},
   "source": [
    "<!-- ![](./texmf/logos/header.png) -->\n",
    "<img src=\"./texmf/logos/header.png\",width=100%>"
   ]
  },
  {
   "cell_type": "markdown",
   "metadata": {},
   "source": [
    "# The Twinkles 1 Strong Lens Population\n",
    "\n",
    "*Bryce Kalmbach, Phil Marshall, Curtis McCully and others*\n",
    "\n",
    "The Twinkles 1 field is overloaded with supernovae and strongly lensed quasars. In this Note we describe the input lens population, and how the lens systems are 'sprinkled' into the PhoSim instance catalogs, having been matched by redshift and stellar mass."
   ]
  },
  {
   "cell_type": "markdown",
   "metadata": {},
   "source": [
    "## The OM10 Lensed Quasar Mock Catalog\n",
    "\n",
    "PJM: Brief description, with links.\n",
    "\n",
    "JBK: Selection of Twinkles subset.\n",
    "\n",
    "### The Twinkles-OM10 Catalog\n",
    "\n",
    "The lens system catalog used by Twinkles is found in the data folder of the repository and is labeled as [twinkles_lenses_v2.fits](https://github.com/LSSTDESC/Twinkles/blob/master/data/twinkles_lenses_v2.fits). We started by selecting the subset of 872 OM10 lenses that made up rung 4 in the [Strong Lens Time Delay Challenge](http://timedelaychallenge.org/index.html) ([Liao et al. 2015](https://arxiv.org/abs/1409.1254)). This set was chosen since it matches the LSST best (discussed in issue [#117](https://github.com/LSSTDESC/Twinkles/issues/117)).  **Question for PJM: What does matches LSST best mean?** However, the original OM10 catalog is incomplete and lacks sizes for the foreground lens galaxies. In addition, our image simulations require an SED for the lens galaxy of each system. Therefore, we decided to assign stellar masses to our OM10 lens galaxies based upon SL2S data and then use this information to assign an SED and radial size from an appropriate CATSIM galaxy.\n",
    "\n",
    "#### Matching CATSIM galaxies to lensed systems\n",
    "\n",
    "We performed the matching using code in a jupyter notebook [here](https://github.com/LSSTDESC/Twinkles/blob/master/examples/notebooks/MatchingLensGalaxies.ipynb). The process involved three main steps:\n",
    "\n",
    "1. Use SL2S data to generate a Gaussian Mixture Model (GMM) to estimate stellar mass of lens galaxies based upon redshift and velocity dispersion.\n",
    "    * We use the data from Table 3 of [Sonnenfeld et al. (2013)](https://arxiv.org/abs/1307.4759).\n",
    "    * Derive the GMM using the [XDGMM](https://github.com/tholoien/XDGMM) and [empriciSN](https://github.com/tholoien/empiriciSN) packages by Tom Holoien.\n",
    "2. Assign a stellar mass to the OM10 systems based upon this GMM and the OM10 redshifts and velocity dispersions.\n",
    "3. Use the updated OM10 catalog with stellar masses, redshifts and ellipticities to match against CATSIM galaxies and use best fit galaxies to add SED and radius information to OM10 catalog.\n",
    "    * Matched OM10 galaxies to CATSIM galaxies with a 20% error limit on the three matching parameters.\n",
    "    * 11 OM10 lens galaxies did not have matches within 20% in all three parameters to a CATSIM galaxy. These were not included in the final catalog.\n",
    "\n",
    "After the matching process we had a final catalog of 861 OM10 systems with additional size and SED information needed to generate images. This final catalog was then used as the input for `The Sprinkler`."
   ]
  },
  {
   "cell_type": "markdown",
   "metadata": {},
   "source": [
    "## `The Sprinkler` Concept and Code\n",
    "\n",
    "JBK: Introduce `The Sprinkler` concept, including input and output, and any principles involved.\n",
    "\n",
    "JBK: Show Sprinkler operating on OM10 sample made in previous section and producing an example (or the actual!) instance catalog.\n",
    "\n",
    "> The matching of lensed systems seemed to take place outside `the sprinkler` - why is this? Do we want to refactor so that `the sprinkler` handles everything? I think this might be helpful..."
   ]
  },
  {
   "cell_type": "markdown",
   "metadata": {},
   "source": [
    "## Results\n",
    "\n",
    "JBK: Plots showing successful instance catalog generation: 1) Example system, showing sky positions of lensed quasar images and lens galaxy, compared to standard OM10 representation. 2) Distributions of lens galaxy and source quasar magnitude, to show that matching works well. etc."
   ]
  },
  {
   "cell_type": "markdown",
   "metadata": {},
   "source": [
    "## DIscussion and Conclusions\n",
    "\n",
    "JBK and PJM to iterate on:\n",
    "\n",
    "`sprinkler` seems to work well, inserting lensed quasars into PhoSim inputs. Speed of operation? Is this the rate-limiting step? \n",
    "\n",
    "Scaling up to larger sky areas - any problems foreseen?\n",
    "\n",
    "Quasar host galaxies are ignored for now, but could be matched and inserted (Li and Wiesner in prep).\n",
    "\n",
    "Lensed supernovae? OM10 produced a mock SN catalog that could be used. "
   ]
  },
  {
   "cell_type": "code",
   "execution_count": null,
   "metadata": {
    "collapsed": true
   },
   "outputs": [],
   "source": []
  },
  {
   "cell_type": "code",
   "execution_count": null,
   "metadata": {
    "collapsed": true
   },
   "outputs": [],
   "source": []
  },
  {
   "cell_type": "code",
   "execution_count": null,
   "metadata": {
    "collapsed": true
   },
   "outputs": [],
   "source": []
  },
  {
   "cell_type": "markdown",
   "metadata": {},
   "source": [
    "# Appendix: LSST DESC Notes `ipynb` Reference\n",
    "\n",
    "You can delete all of this whenever you're ready."
   ]
  },
  {
   "cell_type": "markdown",
   "metadata": {},
   "source": [
    "## Tables\n",
    "\n",
    "Tables can be fiddly in `Markdown`. A good place to start is an online table generator like [this one](http://www.tablesgenerator.com/markdown_tables). Then, you'll need some patience. For more on table formatting, see the [`Markdown` cheat-sheet](https://github.com/adam-p/markdown-here/wiki/Markdown-Cheatsheet#tables).\n",
    "\n",
    "|   A   |   B   |      C         |  D  |\n",
    "|:-----:|:-----:|:--------------:|:---:|\n",
    "| (deg) | (kpc) | ($M_{\\odot}$)  |     |\n",
    "|  0.4  |  3.4  |  $10^{12.2}$   | R,S |\n",
    "|  9.6  |  8.2  |  $10^{10.4}$   |  S  |\n"
   ]
  },
  {
   "cell_type": "markdown",
   "metadata": {},
   "source": [
    "## References\n",
    "\n",
    "You can cite papers (or anything else) by providing hyperlinks. For\n",
    "example, you might have been impressed by the DESC White Paper [(LSST\n",
    "Dark Energy Science Collaboration\n",
    "2012)](http://arxiv.org/abs/1211.0310). It should be possible to convert\n",
    "these links to latex citations automatically later.\n",
    "\n",
    "[Liao K. et al., 2015, ApJ, 800, 26](https://arxiv.org/abs/1409.1254)\n",
    "[Sonnenfeld A. et al., 2013, ApJ, 777, 98](https://arxiv.org/abs/1307.4759)"
   ]
  },
  {
   "cell_type": "markdown",
   "metadata": {},
   "source": [
    "## Further Resources\n",
    "\n",
    "For a guide to writing `Markdown` documents, check out this [useful little cheatsheet](https://github.com/adam-p/markdown-here/wiki/Markdown-Cheatsheet)."
   ]
  },
  {
   "cell_type": "code",
   "execution_count": null,
   "metadata": {
    "collapsed": true
   },
   "outputs": [],
   "source": []
  }
 ],
 "metadata": {
  "anaconda-cloud": {},
  "kernelspec": {
   "display_name": "Python [default]",
   "language": "python",
   "name": "python2"
  },
  "language_info": {
   "codemirror_mode": {
    "name": "ipython",
    "version": 2
   },
   "file_extension": ".py",
   "mimetype": "text/x-python",
   "name": "python",
   "nbconvert_exporter": "python",
   "pygments_lexer": "ipython2",
   "version": "2.7.12"
  }
 },
 "nbformat": 4,
 "nbformat_minor": 0
}
