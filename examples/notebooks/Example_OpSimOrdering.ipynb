{
 "cells": [
  {
   "cell_type": "code",
   "execution_count": 1,
   "metadata": {
    "collapsed": true
   },
   "outputs": [],
   "source": [
    "import os\n",
    "import numpy as np"
   ]
  },
  {
   "cell_type": "code",
   "execution_count": 2,
   "metadata": {
    "collapsed": true
   },
   "outputs": [],
   "source": [
    "from sqlalchemy import create_engine"
   ]
  },
  {
   "cell_type": "code",
   "execution_count": 3,
   "metadata": {
    "collapsed": true
   },
   "outputs": [],
   "source": [
    "import pandas as pd"
   ]
  },
  {
   "cell_type": "code",
   "execution_count": 4,
   "metadata": {
    "collapsed": true
   },
   "outputs": [],
   "source": [
    "import numpy as np"
   ]
  },
  {
   "cell_type": "code",
   "execution_count": 5,
   "metadata": {
    "collapsed": false
   },
   "outputs": [],
   "source": [
    "from desc.twinkles import OpSimOrdering"
   ]
  },
  {
   "cell_type": "code",
   "execution_count": 6,
   "metadata": {
    "collapsed": true
   },
   "outputs": [],
   "source": [
    "from lsst.utils import getPackageDir\n",
    "twinklesDir = getPackageDir('Twinkles')"
   ]
  },
  {
   "cell_type": "code",
   "execution_count": 7,
   "metadata": {
    "collapsed": false
   },
   "outputs": [
    {
     "name": "stderr",
     "output_type": "stream",
     "text": [
      "/usr/local/miniconda/lib/python2.7/site-packages/IPython/html.py:14: ShimWarning: The `IPython.html` package has been deprecated. You should import from `notebook` instead. `IPython.html.widgets` has moved to `ipywidgets`.\n",
      "  \"`IPython.html.widgets` has moved to `ipywidgets`.\", ShimWarning)\n"
     ]
    }
   ],
   "source": [
    "%matplotlib inline\n",
    "import matplotlib.pyplot as plt\n",
    "import seaborn as sns\n",
    "sns.set_context('notebook')"
   ]
  },
  {
   "cell_type": "code",
   "execution_count": 8,
   "metadata": {
    "collapsed": false
   },
   "outputs": [],
   "source": [
    "opSimDBPath = os.path.join('/Users/rbiswas/data/LSST/OpSimData/minion_1016_sqlite.db')"
   ]
  },
  {
   "cell_type": "markdown",
   "metadata": {},
   "source": [
    "## The code to split Twinkles Observations"
   ]
  },
  {
   "cell_type": "code",
   "execution_count": 9,
   "metadata": {
    "collapsed": false
   },
   "outputs": [],
   "source": [
    "ops = OpSimOrdering(opSimDBPath, timeMax=100.)"
   ]
  },
  {
   "cell_type": "code",
   "execution_count": 10,
   "metadata": {
    "collapsed": false
   },
   "outputs": [],
   "source": [
    "xx = ops.Twinkles_WFD"
   ]
  },
  {
   "cell_type": "code",
   "execution_count": 11,
   "metadata": {
    "collapsed": true
   },
   "outputs": [],
   "source": [
    "first = ops.Twinkles_3p1"
   ]
  },
  {
   "cell_type": "code",
   "execution_count": 12,
   "metadata": {
    "collapsed": false
   },
   "outputs": [
    {
     "data": {
      "text/html": [
       "<div>\n",
       "<table border=\"1\" class=\"dataframe\">\n",
       "  <thead>\n",
       "    <tr style=\"text-align: right;\">\n",
       "      <th></th>\n",
       "      <th>obsHistID</th>\n",
       "      <th>expMJD</th>\n",
       "      <th>night</th>\n",
       "      <th>filter</th>\n",
       "      <th>predictedPhoSimTimes</th>\n",
       "    </tr>\n",
       "  </thead>\n",
       "  <tbody>\n",
       "    <tr>\n",
       "      <th>0</th>\n",
       "      <td>230</td>\n",
       "      <td>59580.139555</td>\n",
       "      <td>0</td>\n",
       "      <td>r</td>\n",
       "      <td>15.125699</td>\n",
       "    </tr>\n",
       "    <tr>\n",
       "      <th>1</th>\n",
       "      <td>250</td>\n",
       "      <td>59580.149254</td>\n",
       "      <td>0</td>\n",
       "      <td>g</td>\n",
       "      <td>11.765881</td>\n",
       "    </tr>\n",
       "    <tr>\n",
       "      <th>2</th>\n",
       "      <td>260</td>\n",
       "      <td>59580.154787</td>\n",
       "      <td>0</td>\n",
       "      <td>i</td>\n",
       "      <td>14.933507</td>\n",
       "    </tr>\n",
       "    <tr>\n",
       "      <th>3</th>\n",
       "      <td>280</td>\n",
       "      <td>59580.164486</td>\n",
       "      <td>0</td>\n",
       "      <td>z</td>\n",
       "      <td>17.603149</td>\n",
       "    </tr>\n",
       "    <tr>\n",
       "      <th>4</th>\n",
       "      <td>306</td>\n",
       "      <td>59580.176685</td>\n",
       "      <td>0</td>\n",
       "      <td>y</td>\n",
       "      <td>23.431979</td>\n",
       "    </tr>\n",
       "  </tbody>\n",
       "</table>\n",
       "</div>"
      ],
      "text/plain": [
       "   obsHistID        expMJD  night filter  predictedPhoSimTimes\n",
       "0        230  59580.139555      0      r             15.125699\n",
       "1        250  59580.149254      0      g             11.765881\n",
       "2        260  59580.154787      0      i             14.933507\n",
       "3        280  59580.164486      0      z             17.603149\n",
       "4        306  59580.176685      0      y             23.431979"
      ]
     },
     "execution_count": 12,
     "metadata": {},
     "output_type": "execute_result"
    }
   ],
   "source": [
    "first[['obsHistID', 'expMJD', 'night', 'filter', 'predictedPhoSimTimes']].head()"
   ]
  },
  {
   "cell_type": "code",
   "execution_count": 13,
   "metadata": {
    "collapsed": false
   },
   "outputs": [
    {
     "data": {
      "text/html": [
       "<div>\n",
       "<table border=\"1\" class=\"dataframe\">\n",
       "  <thead>\n",
       "    <tr style=\"text-align: right;\">\n",
       "      <th></th>\n",
       "      <th>obsHistID</th>\n",
       "      <th>sessionID</th>\n",
       "      <th>propID</th>\n",
       "      <th>fieldID</th>\n",
       "      <th>fieldRA</th>\n",
       "      <th>fieldDec</th>\n",
       "      <th>filter</th>\n",
       "      <th>expDate</th>\n",
       "      <th>expMJD</th>\n",
       "      <th>night</th>\n",
       "      <th>...</th>\n",
       "      <th>rawSeeing</th>\n",
       "      <th>wind</th>\n",
       "      <th>humidity</th>\n",
       "      <th>slewDist</th>\n",
       "      <th>slewTime</th>\n",
       "      <th>fiveSigmaDepth</th>\n",
       "      <th>ditheredRA</th>\n",
       "      <th>ditheredDec</th>\n",
       "      <th>year</th>\n",
       "      <th>predictedPhoSimTimes</th>\n",
       "    </tr>\n",
       "  </thead>\n",
       "  <tbody>\n",
       "    <tr>\n",
       "      <th>315</th>\n",
       "      <td>992293</td>\n",
       "      <td>1016</td>\n",
       "      <td>54</td>\n",
       "      <td>1427</td>\n",
       "      <td>0.925184</td>\n",
       "      <td>-0.4789</td>\n",
       "      <td>z</td>\n",
       "      <td>126248288</td>\n",
       "      <td>61041.207047</td>\n",
       "      <td>1461</td>\n",
       "      <td>...</td>\n",
       "      <td>0.782384</td>\n",
       "      <td>0.0</td>\n",
       "      <td>0.0</td>\n",
       "      <td>0.055663</td>\n",
       "      <td>4.473051</td>\n",
       "      <td>22.064037</td>\n",
       "      <td>0.944543</td>\n",
       "      <td>-0.468981</td>\n",
       "      <td>4</td>\n",
       "      <td>50.460755</td>\n",
       "    </tr>\n",
       "    <tr>\n",
       "      <th>10110</th>\n",
       "      <td>994171</td>\n",
       "      <td>1016</td>\n",
       "      <td>56</td>\n",
       "      <td>1427</td>\n",
       "      <td>0.925184</td>\n",
       "      <td>-0.4789</td>\n",
       "      <td>z</td>\n",
       "      <td>126497354</td>\n",
       "      <td>61044.089753</td>\n",
       "      <td>1464</td>\n",
       "      <td>...</td>\n",
       "      <td>0.817253</td>\n",
       "      <td>0.0</td>\n",
       "      <td>0.0</td>\n",
       "      <td>0.000000</td>\n",
       "      <td>2.000000</td>\n",
       "      <td>22.448782</td>\n",
       "      <td>0.899373</td>\n",
       "      <td>-0.465674</td>\n",
       "      <td>4</td>\n",
       "      <td>58.937639</td>\n",
       "    </tr>\n",
       "    <tr>\n",
       "      <th>10111</th>\n",
       "      <td>994172</td>\n",
       "      <td>1016</td>\n",
       "      <td>56</td>\n",
       "      <td>1427</td>\n",
       "      <td>0.925184</td>\n",
       "      <td>-0.4789</td>\n",
       "      <td>z</td>\n",
       "      <td>126497390</td>\n",
       "      <td>61044.090170</td>\n",
       "      <td>1464</td>\n",
       "      <td>...</td>\n",
       "      <td>0.817253</td>\n",
       "      <td>0.0</td>\n",
       "      <td>0.0</td>\n",
       "      <td>0.000000</td>\n",
       "      <td>2.000000</td>\n",
       "      <td>22.447518</td>\n",
       "      <td>0.899373</td>\n",
       "      <td>-0.465674</td>\n",
       "      <td>4</td>\n",
       "      <td>58.937639</td>\n",
       "    </tr>\n",
       "    <tr>\n",
       "      <th>10112</th>\n",
       "      <td>994173</td>\n",
       "      <td>1016</td>\n",
       "      <td>56</td>\n",
       "      <td>1427</td>\n",
       "      <td>0.925184</td>\n",
       "      <td>-0.4789</td>\n",
       "      <td>z</td>\n",
       "      <td>126497426</td>\n",
       "      <td>61044.090587</td>\n",
       "      <td>1464</td>\n",
       "      <td>...</td>\n",
       "      <td>0.817253</td>\n",
       "      <td>0.0</td>\n",
       "      <td>0.0</td>\n",
       "      <td>0.000000</td>\n",
       "      <td>2.000000</td>\n",
       "      <td>22.446253</td>\n",
       "      <td>0.899373</td>\n",
       "      <td>-0.465674</td>\n",
       "      <td>4</td>\n",
       "      <td>59.582655</td>\n",
       "    </tr>\n",
       "    <tr>\n",
       "      <th>10113</th>\n",
       "      <td>994174</td>\n",
       "      <td>1016</td>\n",
       "      <td>56</td>\n",
       "      <td>1427</td>\n",
       "      <td>0.925184</td>\n",
       "      <td>-0.4789</td>\n",
       "      <td>z</td>\n",
       "      <td>126497462</td>\n",
       "      <td>61044.091003</td>\n",
       "      <td>1464</td>\n",
       "      <td>...</td>\n",
       "      <td>0.817253</td>\n",
       "      <td>0.0</td>\n",
       "      <td>0.0</td>\n",
       "      <td>0.000000</td>\n",
       "      <td>2.000000</td>\n",
       "      <td>22.444987</td>\n",
       "      <td>0.899373</td>\n",
       "      <td>-0.465674</td>\n",
       "      <td>4</td>\n",
       "      <td>59.582655</td>\n",
       "    </tr>\n",
       "  </tbody>\n",
       "</table>\n",
       "<p>5 rows × 49 columns</p>\n",
       "</div>"
      ],
      "text/plain": [
       "       obsHistID  sessionID  propID  fieldID   fieldRA  fieldDec filter  \\\n",
       "315       992293       1016      54     1427  0.925184   -0.4789      z   \n",
       "10110     994171       1016      56     1427  0.925184   -0.4789      z   \n",
       "10111     994172       1016      56     1427  0.925184   -0.4789      z   \n",
       "10112     994173       1016      56     1427  0.925184   -0.4789      z   \n",
       "10113     994174       1016      56     1427  0.925184   -0.4789      z   \n",
       "\n",
       "         expDate        expMJD  night          ...           rawSeeing  wind  \\\n",
       "315    126248288  61041.207047   1461          ...            0.782384   0.0   \n",
       "10110  126497354  61044.089753   1464          ...            0.817253   0.0   \n",
       "10111  126497390  61044.090170   1464          ...            0.817253   0.0   \n",
       "10112  126497426  61044.090587   1464          ...            0.817253   0.0   \n",
       "10113  126497462  61044.091003   1464          ...            0.817253   0.0   \n",
       "\n",
       "       humidity  slewDist  slewTime  fiveSigmaDepth  ditheredRA  ditheredDec  \\\n",
       "315         0.0  0.055663  4.473051       22.064037    0.944543    -0.468981   \n",
       "10110       0.0  0.000000  2.000000       22.448782    0.899373    -0.465674   \n",
       "10111       0.0  0.000000  2.000000       22.447518    0.899373    -0.465674   \n",
       "10112       0.0  0.000000  2.000000       22.446253    0.899373    -0.465674   \n",
       "10113       0.0  0.000000  2.000000       22.444987    0.899373    -0.465674   \n",
       "\n",
       "       year  predictedPhoSimTimes  \n",
       "315       4             50.460755  \n",
       "10110     4             58.937639  \n",
       "10111     4             58.937639  \n",
       "10112     4             59.582655  \n",
       "10113     4             59.582655  \n",
       "\n",
       "[5 rows x 49 columns]"
      ]
     },
     "execution_count": 13,
     "metadata": {},
     "output_type": "execute_result"
    }
   ],
   "source": [
    "ops.Twinkles_3p2.head()"
   ]
  },
  {
   "cell_type": "code",
   "execution_count": 14,
   "metadata": {
    "collapsed": false
   },
   "outputs": [
    {
     "data": {
      "text/html": [
       "<div>\n",
       "<table border=\"1\" class=\"dataframe\">\n",
       "  <thead>\n",
       "    <tr style=\"text-align: right;\">\n",
       "      <th></th>\n",
       "      <th>obsHistID</th>\n",
       "      <th>sessionID</th>\n",
       "      <th>propID</th>\n",
       "      <th>fieldID</th>\n",
       "      <th>fieldRA</th>\n",
       "      <th>fieldDec</th>\n",
       "      <th>filter</th>\n",
       "      <th>expDate</th>\n",
       "      <th>expMJD</th>\n",
       "      <th>night</th>\n",
       "      <th>...</th>\n",
       "      <th>rawSeeing</th>\n",
       "      <th>wind</th>\n",
       "      <th>humidity</th>\n",
       "      <th>slewDist</th>\n",
       "      <th>slewTime</th>\n",
       "      <th>fiveSigmaDepth</th>\n",
       "      <th>ditheredRA</th>\n",
       "      <th>ditheredDec</th>\n",
       "      <th>year</th>\n",
       "      <th>predictedPhoSimTimes</th>\n",
       "    </tr>\n",
       "  </thead>\n",
       "  <tbody>\n",
       "    <tr>\n",
       "      <th>920</th>\n",
       "      <td>231</td>\n",
       "      <td>1016</td>\n",
       "      <td>56</td>\n",
       "      <td>1427</td>\n",
       "      <td>0.925184</td>\n",
       "      <td>-0.4789</td>\n",
       "      <td>r</td>\n",
       "      <td>12093</td>\n",
       "      <td>59580.139972</td>\n",
       "      <td>0</td>\n",
       "      <td>...</td>\n",
       "      <td>0.791241</td>\n",
       "      <td>0.0</td>\n",
       "      <td>0.0</td>\n",
       "      <td>0.0</td>\n",
       "      <td>2.0</td>\n",
       "      <td>24.143180</td>\n",
       "      <td>0.907976</td>\n",
       "      <td>-0.505351</td>\n",
       "      <td>0</td>\n",
       "      <td>15.125699</td>\n",
       "    </tr>\n",
       "    <tr>\n",
       "      <th>921</th>\n",
       "      <td>232</td>\n",
       "      <td>1016</td>\n",
       "      <td>56</td>\n",
       "      <td>1427</td>\n",
       "      <td>0.925184</td>\n",
       "      <td>-0.4789</td>\n",
       "      <td>r</td>\n",
       "      <td>12129</td>\n",
       "      <td>59580.140389</td>\n",
       "      <td>0</td>\n",
       "      <td>...</td>\n",
       "      <td>0.791241</td>\n",
       "      <td>0.0</td>\n",
       "      <td>0.0</td>\n",
       "      <td>0.0</td>\n",
       "      <td>2.0</td>\n",
       "      <td>24.141983</td>\n",
       "      <td>0.907976</td>\n",
       "      <td>-0.505351</td>\n",
       "      <td>0</td>\n",
       "      <td>15.125699</td>\n",
       "    </tr>\n",
       "    <tr>\n",
       "      <th>922</th>\n",
       "      <td>233</td>\n",
       "      <td>1016</td>\n",
       "      <td>56</td>\n",
       "      <td>1427</td>\n",
       "      <td>0.925184</td>\n",
       "      <td>-0.4789</td>\n",
       "      <td>r</td>\n",
       "      <td>12165</td>\n",
       "      <td>59580.140805</td>\n",
       "      <td>0</td>\n",
       "      <td>...</td>\n",
       "      <td>0.859965</td>\n",
       "      <td>0.0</td>\n",
       "      <td>0.0</td>\n",
       "      <td>0.0</td>\n",
       "      <td>2.0</td>\n",
       "      <td>24.068792</td>\n",
       "      <td>0.907976</td>\n",
       "      <td>-0.505351</td>\n",
       "      <td>0</td>\n",
       "      <td>15.149455</td>\n",
       "    </tr>\n",
       "    <tr>\n",
       "      <th>923</th>\n",
       "      <td>234</td>\n",
       "      <td>1016</td>\n",
       "      <td>56</td>\n",
       "      <td>1427</td>\n",
       "      <td>0.925184</td>\n",
       "      <td>-0.4789</td>\n",
       "      <td>r</td>\n",
       "      <td>12201</td>\n",
       "      <td>59580.141222</td>\n",
       "      <td>0</td>\n",
       "      <td>...</td>\n",
       "      <td>0.859965</td>\n",
       "      <td>0.0</td>\n",
       "      <td>0.0</td>\n",
       "      <td>0.0</td>\n",
       "      <td>2.0</td>\n",
       "      <td>24.067582</td>\n",
       "      <td>0.907976</td>\n",
       "      <td>-0.505351</td>\n",
       "      <td>0</td>\n",
       "      <td>15.149455</td>\n",
       "    </tr>\n",
       "    <tr>\n",
       "      <th>924</th>\n",
       "      <td>235</td>\n",
       "      <td>1016</td>\n",
       "      <td>56</td>\n",
       "      <td>1427</td>\n",
       "      <td>0.925184</td>\n",
       "      <td>-0.4789</td>\n",
       "      <td>r</td>\n",
       "      <td>12237</td>\n",
       "      <td>59580.141639</td>\n",
       "      <td>0</td>\n",
       "      <td>...</td>\n",
       "      <td>0.859965</td>\n",
       "      <td>0.0</td>\n",
       "      <td>0.0</td>\n",
       "      <td>0.0</td>\n",
       "      <td>2.0</td>\n",
       "      <td>24.066363</td>\n",
       "      <td>0.907976</td>\n",
       "      <td>-0.505351</td>\n",
       "      <td>0</td>\n",
       "      <td>15.149455</td>\n",
       "    </tr>\n",
       "  </tbody>\n",
       "</table>\n",
       "<p>5 rows × 49 columns</p>\n",
       "</div>"
      ],
      "text/plain": [
       "     obsHistID  sessionID  propID  fieldID   fieldRA  fieldDec filter  \\\n",
       "920        231       1016      56     1427  0.925184   -0.4789      r   \n",
       "921        232       1016      56     1427  0.925184   -0.4789      r   \n",
       "922        233       1016      56     1427  0.925184   -0.4789      r   \n",
       "923        234       1016      56     1427  0.925184   -0.4789      r   \n",
       "924        235       1016      56     1427  0.925184   -0.4789      r   \n",
       "\n",
       "     expDate        expMJD  night          ...           rawSeeing  wind  \\\n",
       "920    12093  59580.139972      0          ...            0.791241   0.0   \n",
       "921    12129  59580.140389      0          ...            0.791241   0.0   \n",
       "922    12165  59580.140805      0          ...            0.859965   0.0   \n",
       "923    12201  59580.141222      0          ...            0.859965   0.0   \n",
       "924    12237  59580.141639      0          ...            0.859965   0.0   \n",
       "\n",
       "     humidity  slewDist  slewTime  fiveSigmaDepth  ditheredRA  ditheredDec  \\\n",
       "920       0.0       0.0       2.0       24.143180    0.907976    -0.505351   \n",
       "921       0.0       0.0       2.0       24.141983    0.907976    -0.505351   \n",
       "922       0.0       0.0       2.0       24.068792    0.907976    -0.505351   \n",
       "923       0.0       0.0       2.0       24.067582    0.907976    -0.505351   \n",
       "924       0.0       0.0       2.0       24.066363    0.907976    -0.505351   \n",
       "\n",
       "     year  predictedPhoSimTimes  \n",
       "920     0             15.125699  \n",
       "921     0             15.125699  \n",
       "922     0             15.149455  \n",
       "923     0             15.149455  \n",
       "924     0             15.149455  \n",
       "\n",
       "[5 rows x 49 columns]"
      ]
     },
     "execution_count": 14,
     "metadata": {},
     "output_type": "execute_result"
    }
   ],
   "source": [
    "ops.Twinkles_3p3.head()"
   ]
  },
  {
   "cell_type": "code",
   "execution_count": 15,
   "metadata": {
    "collapsed": false
   },
   "outputs": [
    {
     "data": {
      "text/html": [
       "<div>\n",
       "<table border=\"1\" class=\"dataframe\">\n",
       "  <thead>\n",
       "    <tr style=\"text-align: right;\">\n",
       "      <th></th>\n",
       "      <th>obsHistID</th>\n",
       "      <th>predictedPhoSimTimes</th>\n",
       "    </tr>\n",
       "  </thead>\n",
       "  <tbody>\n",
       "    <tr>\n",
       "      <th>4634</th>\n",
       "      <td>472763</td>\n",
       "      <td>100.127699</td>\n",
       "    </tr>\n",
       "    <tr>\n",
       "      <th>14421</th>\n",
       "      <td>1460870</td>\n",
       "      <td>100.131329</td>\n",
       "    </tr>\n",
       "    <tr>\n",
       "      <th>14422</th>\n",
       "      <td>1460871</td>\n",
       "      <td>100.131329</td>\n",
       "    </tr>\n",
       "    <tr>\n",
       "      <th>13479</th>\n",
       "      <td>1433134</td>\n",
       "      <td>100.152245</td>\n",
       "    </tr>\n",
       "    <tr>\n",
       "      <th>10823</th>\n",
       "      <td>1176560</td>\n",
       "      <td>100.180116</td>\n",
       "    </tr>\n",
       "    <tr>\n",
       "      <th>10824</th>\n",
       "      <td>1176561</td>\n",
       "      <td>100.180116</td>\n",
       "    </tr>\n",
       "    <tr>\n",
       "      <th>9359</th>\n",
       "      <td>970417</td>\n",
       "      <td>100.346759</td>\n",
       "    </tr>\n",
       "    <tr>\n",
       "      <th>17173</th>\n",
       "      <td>1899524</td>\n",
       "      <td>100.482717</td>\n",
       "    </tr>\n",
       "    <tr>\n",
       "      <th>17175</th>\n",
       "      <td>1899526</td>\n",
       "      <td>100.482717</td>\n",
       "    </tr>\n",
       "    <tr>\n",
       "      <th>17176</th>\n",
       "      <td>1899527</td>\n",
       "      <td>100.482717</td>\n",
       "    </tr>\n",
       "    <tr>\n",
       "      <th>17177</th>\n",
       "      <td>1899528</td>\n",
       "      <td>100.482717</td>\n",
       "    </tr>\n",
       "    <tr>\n",
       "      <th>17178</th>\n",
       "      <td>1899529</td>\n",
       "      <td>100.482717</td>\n",
       "    </tr>\n",
       "    <tr>\n",
       "      <th>17179</th>\n",
       "      <td>1899530</td>\n",
       "      <td>100.482717</td>\n",
       "    </tr>\n",
       "    <tr>\n",
       "      <th>17180</th>\n",
       "      <td>1899531</td>\n",
       "      <td>100.482717</td>\n",
       "    </tr>\n",
       "    <tr>\n",
       "      <th>17181</th>\n",
       "      <td>1899532</td>\n",
       "      <td>100.482717</td>\n",
       "    </tr>\n",
       "    <tr>\n",
       "      <th>17182</th>\n",
       "      <td>1899533</td>\n",
       "      <td>100.482717</td>\n",
       "    </tr>\n",
       "    <tr>\n",
       "      <th>17174</th>\n",
       "      <td>1899525</td>\n",
       "      <td>100.482717</td>\n",
       "    </tr>\n",
       "    <tr>\n",
       "      <th>13480</th>\n",
       "      <td>1433135</td>\n",
       "      <td>100.598630</td>\n",
       "    </tr>\n",
       "    <tr>\n",
       "      <th>13481</th>\n",
       "      <td>1433136</td>\n",
       "      <td>100.598630</td>\n",
       "    </tr>\n",
       "    <tr>\n",
       "      <th>12017</th>\n",
       "      <td>1215976</td>\n",
       "      <td>100.659819</td>\n",
       "    </tr>\n",
       "    <tr>\n",
       "      <th>12018</th>\n",
       "      <td>1215977</td>\n",
       "      <td>100.893549</td>\n",
       "    </tr>\n",
       "    <tr>\n",
       "      <th>13482</th>\n",
       "      <td>1433137</td>\n",
       "      <td>100.942216</td>\n",
       "    </tr>\n",
       "    <tr>\n",
       "      <th>13483</th>\n",
       "      <td>1433138</td>\n",
       "      <td>100.942216</td>\n",
       "    </tr>\n",
       "    <tr>\n",
       "      <th>14983</th>\n",
       "      <td>1632323</td>\n",
       "      <td>101.017429</td>\n",
       "    </tr>\n",
       "    <tr>\n",
       "      <th>14975</th>\n",
       "      <td>1632315</td>\n",
       "      <td>101.017429</td>\n",
       "    </tr>\n",
       "    <tr>\n",
       "      <th>14981</th>\n",
       "      <td>1632321</td>\n",
       "      <td>101.017429</td>\n",
       "    </tr>\n",
       "    <tr>\n",
       "      <th>14980</th>\n",
       "      <td>1632320</td>\n",
       "      <td>101.017429</td>\n",
       "    </tr>\n",
       "    <tr>\n",
       "      <th>14979</th>\n",
       "      <td>1632319</td>\n",
       "      <td>101.017429</td>\n",
       "    </tr>\n",
       "    <tr>\n",
       "      <th>14978</th>\n",
       "      <td>1632318</td>\n",
       "      <td>101.017429</td>\n",
       "    </tr>\n",
       "    <tr>\n",
       "      <th>14977</th>\n",
       "      <td>1632317</td>\n",
       "      <td>101.017429</td>\n",
       "    </tr>\n",
       "    <tr>\n",
       "      <th>...</th>\n",
       "      <td>...</td>\n",
       "      <td>...</td>\n",
       "    </tr>\n",
       "    <tr>\n",
       "      <th>10803</th>\n",
       "      <td>1176540</td>\n",
       "      <td>482.649111</td>\n",
       "    </tr>\n",
       "    <tr>\n",
       "      <th>10804</th>\n",
       "      <td>1176541</td>\n",
       "      <td>482.649111</td>\n",
       "    </tr>\n",
       "    <tr>\n",
       "      <th>10085</th>\n",
       "      <td>994146</td>\n",
       "      <td>484.404499</td>\n",
       "    </tr>\n",
       "    <tr>\n",
       "      <th>10086</th>\n",
       "      <td>994147</td>\n",
       "      <td>484.404499</td>\n",
       "    </tr>\n",
       "    <tr>\n",
       "      <th>10087</th>\n",
       "      <td>994148</td>\n",
       "      <td>484.404499</td>\n",
       "    </tr>\n",
       "    <tr>\n",
       "      <th>10088</th>\n",
       "      <td>994149</td>\n",
       "      <td>484.404499</td>\n",
       "    </tr>\n",
       "    <tr>\n",
       "      <th>10083</th>\n",
       "      <td>994144</td>\n",
       "      <td>488.270495</td>\n",
       "    </tr>\n",
       "    <tr>\n",
       "      <th>10082</th>\n",
       "      <td>994143</td>\n",
       "      <td>488.270495</td>\n",
       "    </tr>\n",
       "    <tr>\n",
       "      <th>10081</th>\n",
       "      <td>994142</td>\n",
       "      <td>488.270495</td>\n",
       "    </tr>\n",
       "    <tr>\n",
       "      <th>10080</th>\n",
       "      <td>994141</td>\n",
       "      <td>488.270495</td>\n",
       "    </tr>\n",
       "    <tr>\n",
       "      <th>10084</th>\n",
       "      <td>994145</td>\n",
       "      <td>488.270495</td>\n",
       "    </tr>\n",
       "    <tr>\n",
       "      <th>13917</th>\n",
       "      <td>1446168</td>\n",
       "      <td>492.987777</td>\n",
       "    </tr>\n",
       "    <tr>\n",
       "      <th>13918</th>\n",
       "      <td>1446169</td>\n",
       "      <td>492.987777</td>\n",
       "    </tr>\n",
       "    <tr>\n",
       "      <th>13921</th>\n",
       "      <td>1446172</td>\n",
       "      <td>492.987777</td>\n",
       "    </tr>\n",
       "    <tr>\n",
       "      <th>13920</th>\n",
       "      <td>1446171</td>\n",
       "      <td>492.987777</td>\n",
       "    </tr>\n",
       "    <tr>\n",
       "      <th>13922</th>\n",
       "      <td>1446173</td>\n",
       "      <td>492.987777</td>\n",
       "    </tr>\n",
       "    <tr>\n",
       "      <th>13923</th>\n",
       "      <td>1446174</td>\n",
       "      <td>492.987777</td>\n",
       "    </tr>\n",
       "    <tr>\n",
       "      <th>13924</th>\n",
       "      <td>1446175</td>\n",
       "      <td>492.987777</td>\n",
       "    </tr>\n",
       "    <tr>\n",
       "      <th>13925</th>\n",
       "      <td>1446176</td>\n",
       "      <td>492.987777</td>\n",
       "    </tr>\n",
       "    <tr>\n",
       "      <th>13926</th>\n",
       "      <td>1446177</td>\n",
       "      <td>492.987777</td>\n",
       "    </tr>\n",
       "    <tr>\n",
       "      <th>13919</th>\n",
       "      <td>1446170</td>\n",
       "      <td>492.987777</td>\n",
       "    </tr>\n",
       "    <tr>\n",
       "      <th>10802</th>\n",
       "      <td>1176539</td>\n",
       "      <td>493.198797</td>\n",
       "    </tr>\n",
       "    <tr>\n",
       "      <th>10795</th>\n",
       "      <td>1176532</td>\n",
       "      <td>493.198797</td>\n",
       "    </tr>\n",
       "    <tr>\n",
       "      <th>10799</th>\n",
       "      <td>1176536</td>\n",
       "      <td>493.198797</td>\n",
       "    </tr>\n",
       "    <tr>\n",
       "      <th>10796</th>\n",
       "      <td>1176533</td>\n",
       "      <td>493.198797</td>\n",
       "    </tr>\n",
       "    <tr>\n",
       "      <th>10800</th>\n",
       "      <td>1176537</td>\n",
       "      <td>493.198797</td>\n",
       "    </tr>\n",
       "    <tr>\n",
       "      <th>10801</th>\n",
       "      <td>1176538</td>\n",
       "      <td>493.198797</td>\n",
       "    </tr>\n",
       "    <tr>\n",
       "      <th>10798</th>\n",
       "      <td>1176535</td>\n",
       "      <td>493.198797</td>\n",
       "    </tr>\n",
       "    <tr>\n",
       "      <th>10797</th>\n",
       "      <td>1176534</td>\n",
       "      <td>493.198797</td>\n",
       "    </tr>\n",
       "    <tr>\n",
       "      <th>10079</th>\n",
       "      <td>994140</td>\n",
       "      <td>493.563152</td>\n",
       "    </tr>\n",
       "  </tbody>\n",
       "</table>\n",
       "<p>2109 rows × 2 columns</p>\n",
       "</div>"
      ],
      "text/plain": [
       "       obsHistID  predictedPhoSimTimes\n",
       "4634      472763            100.127699\n",
       "14421    1460870            100.131329\n",
       "14422    1460871            100.131329\n",
       "13479    1433134            100.152245\n",
       "10823    1176560            100.180116\n",
       "10824    1176561            100.180116\n",
       "9359      970417            100.346759\n",
       "17173    1899524            100.482717\n",
       "17175    1899526            100.482717\n",
       "17176    1899527            100.482717\n",
       "17177    1899528            100.482717\n",
       "17178    1899529            100.482717\n",
       "17179    1899530            100.482717\n",
       "17180    1899531            100.482717\n",
       "17181    1899532            100.482717\n",
       "17182    1899533            100.482717\n",
       "17174    1899525            100.482717\n",
       "13480    1433135            100.598630\n",
       "13481    1433136            100.598630\n",
       "12017    1215976            100.659819\n",
       "12018    1215977            100.893549\n",
       "13482    1433137            100.942216\n",
       "13483    1433138            100.942216\n",
       "14983    1632323            101.017429\n",
       "14975    1632315            101.017429\n",
       "14981    1632321            101.017429\n",
       "14980    1632320            101.017429\n",
       "14979    1632319            101.017429\n",
       "14978    1632318            101.017429\n",
       "14977    1632317            101.017429\n",
       "...          ...                   ...\n",
       "10803    1176540            482.649111\n",
       "10804    1176541            482.649111\n",
       "10085     994146            484.404499\n",
       "10086     994147            484.404499\n",
       "10087     994148            484.404499\n",
       "10088     994149            484.404499\n",
       "10083     994144            488.270495\n",
       "10082     994143            488.270495\n",
       "10081     994142            488.270495\n",
       "10080     994141            488.270495\n",
       "10084     994145            488.270495\n",
       "13917    1446168            492.987777\n",
       "13918    1446169            492.987777\n",
       "13921    1446172            492.987777\n",
       "13920    1446171            492.987777\n",
       "13922    1446173            492.987777\n",
       "13923    1446174            492.987777\n",
       "13924    1446175            492.987777\n",
       "13925    1446176            492.987777\n",
       "13926    1446177            492.987777\n",
       "13919    1446170            492.987777\n",
       "10802    1176539            493.198797\n",
       "10795    1176532            493.198797\n",
       "10799    1176536            493.198797\n",
       "10796    1176533            493.198797\n",
       "10800    1176537            493.198797\n",
       "10801    1176538            493.198797\n",
       "10798    1176535            493.198797\n",
       "10797    1176534            493.198797\n",
       "10079     994140            493.563152\n",
       "\n",
       "[2109 rows x 2 columns]"
      ]
     },
     "execution_count": 15,
     "metadata": {},
     "output_type": "execute_result"
    }
   ],
   "source": [
    "ops.obsHistIDsPredictedToTakeTooLong.sort_values(by='predictedPhoSimTimes')"
   ]
  },
  {
   "cell_type": "code",
   "execution_count": 16,
   "metadata": {
    "collapsed": false
   },
   "outputs": [
    {
     "data": {
      "text/plain": [
       "2109"
      ]
     },
     "execution_count": 16,
     "metadata": {},
     "output_type": "execute_result"
    }
   ],
   "source": [
    "len(ops.obsHistIDsPredictedToTakeTooLong)"
   ]
  },
  {
   "cell_type": "markdown",
   "metadata": {},
   "source": [
    "### To Write this to a single csv file:"
   ]
  },
  {
   "cell_type": "code",
   "execution_count": 17,
   "metadata": {
    "collapsed": true
   },
   "outputs": [],
   "source": [
    "df = pd.concat([ops.Twinkles_3p1, ops.Twinkles_3p2, ops.Twinkles_3p3])\n",
    "TwinklesObsHistIDFileNames = os.path.join(twinklesDir, 'data', 'TwinklesObsHistIDs.csv')\n",
    "df.obsHistID.to_csv(TwinklesObsHistIDFileNames, index=False, )"
   ]
  },
  {
   "cell_type": "markdown",
   "metadata": {},
   "source": [
    "# Effects of the design: What can we expect for Twinkles 3?"
   ]
  },
  {
   "cell_type": "markdown",
   "metadata": {},
   "source": [
    "The suggested value for timeMax is 100.0 hours, while the max on the nfs farm is 120 hours. First let us look at the distribution of predicted phosim run times in the entire set (once the duplicates have been dropped)"
   ]
  },
  {
   "cell_type": "code",
   "execution_count": 18,
   "metadata": {
    "collapsed": false
   },
   "outputs": [
    {
     "data": {
      "text/plain": [
       "<matplotlib.text.Text at 0x11da43210>"
      ]
     },
     "execution_count": 18,
     "metadata": {},
     "output_type": "execute_result"
    },
    {
     "data": {
      "image/png": "[encoded data removed]",
      "text/plain": [
       "<matplotlib.figure.Figure at 0x11d76a4d0>"
      ]
     },
     "metadata": {},
     "output_type": "display_data"
    }
   ],
   "source": [
    "fig, ax = plt.subplots(1, 2)\n",
    "sns.distplot(ops.uniqueOpSimRecords.predictedPhoSimTimes, hist=True, rug=False,\n",
    "             hist_kws=dict(histtype='step', lw=2, color='k', alpha=1), kde=False, ax=ax[0])\n",
    "sns.distplot(ops.uniqueOpSimRecords.predictedPhoSimTimes, hist=True, rug=False,\n",
    "             hist_kws=dict(histtype='step', lw=2, color='k', alpha=1, \n",
    "                           cumulative=-1, normed=1), kde=False, ax=ax[1])\n",
    "ax[0].set_ylabel('PhoSim Runs')\n",
    "ax[1].set_ylabel('PhoSim Runs with RunTime greater than (normalized)')"
   ]
  },
  {
   "cell_type": "code",
   "execution_count": 19,
   "metadata": {
    "collapsed": false
   },
   "outputs": [
    {
     "name": "stdout",
     "output_type": "stream",
     "text": [
      "The number of visits that are too long is 2109, while the total number of unique runs is 24079. If we had selected timeMax=120.0 instead of the suggested 100. we might expect to get 1625 visits, getting us an additional gain of 484 visits\n"
     ]
    }
   ],
   "source": [
    "_s = 'The number of visits that are too long is {0}, while the total number of unique runs is {1}. If we had selected timeMax=120.0 instead of the suggested 100. we might expect to get 1625 visits, getting us an additional gain of {2} visits'\\\n",
    ".format(len(ops.obsHistIDsPredictedToTakeTooLong), \n",
    "len(ops.uniqueOpSimRecords), len(ops.obsHistIDsPredictedToTakeTooLong) - 1625)\n",
    "print(_s)"
   ]
  },
  {
   "cell_type": "markdown",
   "metadata": {},
   "source": [
    "## What will we get in Twinkles 3.1 ?"
   ]
  },
  {
   "cell_type": "code",
   "execution_count": 20,
   "metadata": {
    "collapsed": false
   },
   "outputs": [
    {
     "name": "stdout",
     "output_type": "stream",
     "text": [
      "Twinkles 3.1 will have 1508 visits of which 546 are WFD visits\n"
     ]
    }
   ],
   "source": [
    "_s = 'Twinkles 3.1 will have {0} visits of which {1} are WFD visits'.format(len(ops.Twinkles_3p1),\n",
    "                                                        len(ops.Twinkles_3p1.query('propID==54')))\n",
    "print(_s)"
   ]
  },
  {
   "cell_type": "code",
   "execution_count": 21,
   "metadata": {
    "collapsed": false
   },
   "outputs": [
    {
     "data": {
      "text/plain": [
       "array([[<matplotlib.axes._subplots.AxesSubplot object at 0x11de25d90>,\n",
       "        <matplotlib.axes._subplots.AxesSubplot object at 0x11e12ced0>],\n",
       "       [<matplotlib.axes._subplots.AxesSubplot object at 0x11e184ed0>,\n",
       "        <matplotlib.axes._subplots.AxesSubplot object at 0x11e51a490>],\n",
       "       [<matplotlib.axes._subplots.AxesSubplot object at 0x11e1bb050>,\n",
       "        <matplotlib.axes._subplots.AxesSubplot object at 0x11e7641d0>]], dtype=object)"
      ]
     },
     "execution_count": 21,
     "metadata": {},
     "output_type": "execute_result"
    },
    {
     "data": {
      "image/png": "[encoded data removed]",
      "text/plain": [
       "<matplotlib.figure.Figure at 0x11de5e1d0>"
      ]
     },
     "metadata": {},
     "output_type": "display_data"
    }
   ],
   "source": [
    "ops.Twinkles_3p1.hist(column='night', by='filter', histtype='step', lw=2, color='k',\n",
    "                      alpha=1)"
   ]
  },
  {
   "cell_type": "code",
   "execution_count": 22,
   "metadata": {
    "collapsed": false
   },
   "outputs": [
    {
     "data": {
      "text/plain": [
       "array([<matplotlib.axes._subplots.AxesSubplot object at 0x11e5ae9d0>,\n",
       "       <matplotlib.axes._subplots.AxesSubplot object at 0x11f15e850>], dtype=object)"
      ]
     },
     "execution_count": 22,
     "metadata": {},
     "output_type": "execute_result"
    },
    {
     "data": {
      "image/png": "[encoded data removed]",
      "text/plain": [
       "<matplotlib.figure.Figure at 0x105b46190>"
      ]
     },
     "metadata": {},
     "output_type": "display_data"
    }
   ],
   "source": [
    "ops.Twinkles_3p1.hist(column='night', by='propID', histtype='step', lw=2, color='k',\n",
    "                      alpha=1, bins=np.arange(0., 3650., 100.))"
   ]
  },
  {
   "cell_type": "code",
   "execution_count": 23,
   "metadata": {
    "collapsed": false
   },
   "outputs": [],
   "source": [
    "#grouped = ops.Twinkles_3p1.groupby('filter')\n",
    "#sns.jointplot(x='moonAlt', y='predictedPhoSimTimes', data=grouped.get_group('u'))\n",
    "#sns.jointplot(x='moonAlt', y='predictedPhoSimTimes', data=grouped.get_group('g'))\n",
    "#sns.jointplot(x='moonAlt', y='predictedPhoSimTimes', data=grouped.get_group('r'))\n",
    "#sns.jointplot(x='moonAlt', y='predictedPhoSimTimes', data=grouped.get_group('i'))\n",
    "#sns.jointplot(x='moonAlt', y='predictedPhoSimTimes', data=grouped.get_group('z'))\n",
    "#sns.jointplot(x='moonAlt', y='predictedPhoSimTimes', data=grouped.get_group('y'))"
   ]
  },
  {
   "cell_type": "markdown",
   "metadata": {},
   "source": [
    "## Scratch: Tests and Details about the code"
   ]
  },
  {
   "cell_type": "code",
   "execution_count": 24,
   "metadata": {
    "collapsed": false
   },
   "outputs": [
    {
     "data": {
      "text/plain": [
       "21970"
      ]
     },
     "execution_count": 24,
     "metadata": {},
     "output_type": "execute_result"
    }
   ],
   "source": [
    "ops.filteredOpSim.obsHistID.size"
   ]
  },
  {
   "cell_type": "code",
   "execution_count": 25,
   "metadata": {
    "collapsed": true
   },
   "outputs": [],
   "source": [
    "pts = ops.fullOpSimDF(opSimDBPath)"
   ]
  },
  {
   "cell_type": "code",
   "execution_count": 26,
   "metadata": {
    "collapsed": false
   },
   "outputs": [
    {
     "data": {
      "text/plain": [
       "True"
      ]
     },
     "execution_count": 26,
     "metadata": {},
     "output_type": "execute_result"
    }
   ],
   "source": [
    "## Everything in the OpSim query\n",
    "len(pts) == len(ops._opsimDF)"
   ]
  },
  {
   "cell_type": "code",
   "execution_count": 27,
   "metadata": {
    "collapsed": false
   },
   "outputs": [
    {
     "data": {
      "text/plain": [
       "True"
      ]
     },
     "execution_count": 27,
     "metadata": {},
     "output_type": "execute_result"
    }
   ],
   "source": [
    "## After dropping duplicates, this is the same as ops.uniqueOpSimRecords\n",
    "pts.drop_duplicates(subset='obsHistID', inplace=True)\n",
    "len(pts)== ops.uniqueOpSimRecords.obsHistID.size"
   ]
  },
  {
   "cell_type": "code",
   "execution_count": 28,
   "metadata": {
    "collapsed": false
   },
   "outputs": [
    {
     "data": {
      "text/plain": [
       "True"
      ]
     },
     "execution_count": 28,
     "metadata": {},
     "output_type": "execute_result"
    }
   ],
   "source": [
    "## In general ops.filteredOpSim has less or equal records compared to ops.uniqueOpSimRecords\n",
    "ops.uniqueOpSimRecords.obsHistID.size >= ops.filteredOpSim.obsHistID.size"
   ]
  },
  {
   "cell_type": "code",
   "execution_count": 29,
   "metadata": {
    "collapsed": false
   },
   "outputs": [],
   "source": [
    "n1 = ops.Twinkles_3p1.obsHistID.size"
   ]
  },
  {
   "cell_type": "code",
   "execution_count": 30,
   "metadata": {
    "collapsed": false
   },
   "outputs": [],
   "source": [
    "n2 = ops.Twinkles_3p2.obsHistID.size"
   ]
  },
  {
   "cell_type": "code",
   "execution_count": 31,
   "metadata": {
    "collapsed": false
   },
   "outputs": [],
   "source": [
    "n3 = ops.Twinkles_3p3.obsHistID.size"
   ]
  },
  {
   "cell_type": "code",
   "execution_count": 32,
   "metadata": {
    "collapsed": false
   },
   "outputs": [
    {
     "data": {
      "text/plain": [
       "True"
      ]
     },
     "execution_count": 32,
     "metadata": {},
     "output_type": "execute_result"
    }
   ],
   "source": [
    "n1 + n2 + n3  == len(ops.filteredOpSim)"
   ]
  },
  {
   "cell_type": "code",
   "execution_count": 33,
   "metadata": {
    "collapsed": true
   },
   "outputs": [],
   "source": [
    "v1 = ops.Twinkles_3p1.obsHistID.values.tolist()\n",
    "v2 = ops.Twinkles_3p2.obsHistID.values.tolist()\n",
    "v3 = ops.Twinkles_3p3.obsHistID.values.tolist()"
   ]
  },
  {
   "cell_type": "code",
   "execution_count": 34,
   "metadata": {
    "collapsed": false
   },
   "outputs": [
    {
     "ename": "SyntaxError",
     "evalue": "invalid syntax (<ipython-input-34-8b2e39063258>, line 1)",
     "output_type": "error",
     "traceback": [
      "\u001b[0;36m  File \u001b[0;32m\"<ipython-input-34-8b2e39063258>\"\u001b[0;36m, line \u001b[0;32m1\u001b[0m\n\u001b[0;31m    `ops.filteredOpSim.set_index('obsHistID').ix[v1].groupby(['night', 'filter']).groups.keys()\u001b[0m\n\u001b[0m                                                                                               ^\u001b[0m\n\u001b[0;31mSyntaxError\u001b[0m\u001b[0;31m:\u001b[0m invalid syntax\n"
     ]
    }
   ],
   "source": [
    "`ops.filteredOpSim.set_index('obsHistID').ix[v1].groupby(['night', 'filter']).groups.keys()"
   ]
  },
  {
   "cell_type": "code",
   "execution_count": null,
   "metadata": {
    "collapsed": false
   },
   "outputs": [],
   "source": [
    "ops.filteredOpSim.set_index('obsHistID').ix[v1].groupby(['night', 'filter']).expMJD.count().unique().tolist() == [1]"
   ]
  },
  {
   "cell_type": "code",
   "execution_count": null,
   "metadata": {
    "collapsed": false
   },
   "outputs": [],
   "source": [
    "np.unique(np.array(v1 + v2 + v3)).size == len(ops.filteredOpSim)"
   ]
  },
  {
   "cell_type": "code",
   "execution_count": null,
   "metadata": {
    "collapsed": true
   },
   "outputs": [],
   "source": [
    "obsHistIDValues = np.array(ops.Twinkles_3p1.obsHistID.tolist() + \\\n",
    "                           ops.Twinkles_3p2.obsHistID.tolist() + \\\n",
    "                           ops.Twinkles_3p3.obsHistID.tolist())"
   ]
  },
  {
   "cell_type": "code",
   "execution_count": null,
   "metadata": {
    "collapsed": true
   },
   "outputs": [],
   "source": [
    "fileName = os.path.join(twinklesDir, 'data', 'obsHistIDValues.csv')"
   ]
  },
  {
   "cell_type": "code",
   "execution_count": null,
   "metadata": {
    "collapsed": false
   },
   "outputs": [],
   "source": [
    "np.savetxt(fileName, obsHistIDValues)"
   ]
  },
  {
   "cell_type": "code",
   "execution_count": null,
   "metadata": {
    "collapsed": false
   },
   "outputs": [],
   "source": [
    "ops.filteredOpSim.set_index('obsHistID', inplace=True)"
   ]
  },
  {
   "cell_type": "code",
   "execution_count": null,
   "metadata": {
    "collapsed": false
   },
   "outputs": [],
   "source": [
    "ops.Twinkles_3p1[['obsHistID', 'propID', 'expMJD', 'night', 'filter']]"
   ]
  },
  {
   "cell_type": "code",
   "execution_count": null,
   "metadata": {
    "collapsed": false
   },
   "outputs": [],
   "source": [
    "ops.fullOpSimDF.ix[obsHistIDValues][['obsHistID', 'propID', 'expMJD', 'night', 'filter']]"
   ]
  },
  {
   "cell_type": "code",
   "execution_count": null,
   "metadata": {
    "collapsed": false
   },
   "outputs": [],
   "source": [
    "dir(ops)"
   ]
  },
  {
   "cell_type": "code",
   "execution_count": null,
   "metadata": {
    "collapsed": false
   },
   "outputs": [],
   "source": [
    "pts = ops.fullOpSimDF(opSimDBPath)"
   ]
  },
  {
   "cell_type": "code",
   "execution_count": null,
   "metadata": {
    "collapsed": false
   },
   "outputs": [],
   "source": [
    "ops.filteredOpSim.query('night==0').iloc[:21]"
   ]
  },
  {
   "cell_type": "code",
   "execution_count": null,
   "metadata": {
    "collapsed": false
   },
   "outputs": [],
   "source": [
    "pts.sort_values(by='expMJD').iloc[:21]"
   ]
  },
  {
   "cell_type": "code",
   "execution_count": null,
   "metadata": {
    "collapsed": false
   },
   "outputs": [],
   "source": [
    "ops.Twinkles_3p1.obsHistID.values"
   ]
  },
  {
   "cell_type": "code",
   "execution_count": null,
   "metadata": {
    "collapsed": true
   },
   "outputs": [],
   "source": []
  }
 ],
 "metadata": {
  "anaconda-cloud": {},
  "kernelspec": {
   "display_name": "Python [default]",
   "language": "python",
   "name": "python2"
  },
  "language_info": {
   "codemirror_mode": {
    "name": "ipython",
    "version": 2
   },
   "file_extension": ".py",
   "mimetype": "text/x-python",
   "name": "python",
   "nbconvert_exporter": "python",
   "pygments_lexer": "ipython2",
   "version": "2.7.12"
  }
 },
 "nbformat": 4,
 "nbformat_minor": 1
}
