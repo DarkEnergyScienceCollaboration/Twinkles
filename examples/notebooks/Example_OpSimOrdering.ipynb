{
 "cells": [
  {
   "cell_type": "markdown",
   "metadata": {},
   "source": [
    "## Example on using the functionality on `desc.twinkles.OpSimOrdering`\n",
    "\n",
    "This notebook demonstrates some of the different properties ofthe `OpSimOrdering` class that are used for the creating the intended sequence of visits in `bin/get_visits_Twinkles` in Twinkles 1 Run 3. This is arranged to get a useful sample quickly, and also on the basis of predictedPhoSim Times.\n",
    "\n",
    "The basic requirements are :\n",
    "    - setup Twinkles\n",
    "\n",
    "## What this shows \n",
    "1. Twinkles Run 3.1 : visits from different bands and nights across 10 years. WFD visit if such a viist is available. All visits must take less than 100 hours\n",
    "2. Twinkles Run 3.1b : Remaining WFD visits that do not take 100 hours\n",
    "3. Twinkels Run 3.2 : All DDF visits from DR4\n",
    "4. Twinkles 3p3: Remaining Twinkles visits that are not predicted to take 100 hours\n",
    "5. How does the ordering Twinkles Run 3 produce more interesting objects at intermediate times than a chronological run"
   ]
  },
  {
   "cell_type": "code",
   "execution_count": 1,
   "metadata": {
    "collapsed": true
   },
   "outputs": [],
   "source": [
    "import os\n",
    "import numpy as np"
   ]
  },
  {
   "cell_type": "code",
   "execution_count": 2,
   "metadata": {
    "collapsed": true
   },
   "outputs": [],
   "source": [
    "from sqlalchemy import create_engine"
   ]
  },
  {
   "cell_type": "code",
   "execution_count": 3,
   "metadata": {
    "collapsed": true
   },
   "outputs": [],
   "source": [
    "import pandas as pd"
   ]
  },
  {
   "cell_type": "code",
   "execution_count": 4,
   "metadata": {
    "collapsed": true
   },
   "outputs": [],
   "source": [
    "import numpy as np"
   ]
  },
  {
   "cell_type": "code",
   "execution_count": 5,
   "metadata": {
    "collapsed": false
   },
   "outputs": [],
   "source": [
    "from desc.twinkles import OpSimOrdering"
   ]
  },
  {
   "cell_type": "code",
   "execution_count": 6,
   "metadata": {
    "collapsed": true
   },
   "outputs": [],
   "source": [
    "from lsst.utils import getPackageDir\n",
    "twinklesDir = getPackageDir('Twinkles')"
   ]
  },
  {
   "cell_type": "code",
   "execution_count": 7,
   "metadata": {
    "collapsed": false
   },
   "outputs": [
    {
     "name": "stderr",
     "output_type": "stream",
     "text": [
      "/usr/local/miniconda/lib/python2.7/site-packages/IPython/html.py:14: ShimWarning: The `IPython.html` package has been deprecated. You should import from `notebook` instead. `IPython.html.widgets` has moved to `ipywidgets`.\n",
      "  \"`IPython.html.widgets` has moved to `ipywidgets`.\", ShimWarning)\n"
     ]
    }
   ],
   "source": [
    "%matplotlib inline\n",
    "import matplotlib.pyplot as plt\n",
    "import seaborn as sns\n",
    "sns.set_context('notebook')"
   ]
  },
  {
   "cell_type": "code",
   "execution_count": 8,
   "metadata": {
    "collapsed": false
   },
   "outputs": [],
   "source": [
    "opSimDBPath = os.path.join('/Users/rbiswas/data/LSST/OpSimData/minion_1016_sqlite.db')"
   ]
  },
  {
   "cell_type": "markdown",
   "metadata": {},
   "source": [
    "## The code to split Twinkles Observations"
   ]
  },
  {
   "cell_type": "code",
   "execution_count": 9,
   "metadata": {
    "collapsed": false
   },
   "outputs": [],
   "source": [
    "ops = OpSimOrdering(opSimDBPath, timeMax=100.)"
   ]
  },
  {
   "cell_type": "code",
   "execution_count": 10,
   "metadata": {
    "collapsed": true
   },
   "outputs": [],
   "source": [
    "#Twinkeles Run 3.1\n",
    "first = ops.Twinkles_3p1"
   ]
  },
  {
   "cell_type": "code",
   "execution_count": 11,
   "metadata": {
    "collapsed": false
   },
   "outputs": [
    {
     "data": {
      "text/html": [
       "<div>\n",
       "<table border=\"1\" class=\"dataframe\">\n",
       "  <thead>\n",
       "    <tr style=\"text-align: right;\">\n",
       "      <th></th>\n",
       "      <th>obsHistID</th>\n",
       "      <th>expMJD</th>\n",
       "      <th>night</th>\n",
       "      <th>filter</th>\n",
       "      <th>predictedPhoSimTimes</th>\n",
       "    </tr>\n",
       "  </thead>\n",
       "  <tbody>\n",
       "    <tr>\n",
       "      <th>0</th>\n",
       "      <td>230</td>\n",
       "      <td>59580.139555</td>\n",
       "      <td>0</td>\n",
       "      <td>r</td>\n",
       "      <td>15.125699</td>\n",
       "    </tr>\n",
       "    <tr>\n",
       "      <th>1</th>\n",
       "      <td>250</td>\n",
       "      <td>59580.149254</td>\n",
       "      <td>0</td>\n",
       "      <td>g</td>\n",
       "      <td>11.765881</td>\n",
       "    </tr>\n",
       "    <tr>\n",
       "      <th>2</th>\n",
       "      <td>260</td>\n",
       "      <td>59580.154787</td>\n",
       "      <td>0</td>\n",
       "      <td>i</td>\n",
       "      <td>14.933507</td>\n",
       "    </tr>\n",
       "    <tr>\n",
       "      <th>3</th>\n",
       "      <td>280</td>\n",
       "      <td>59580.164486</td>\n",
       "      <td>0</td>\n",
       "      <td>z</td>\n",
       "      <td>17.603149</td>\n",
       "    </tr>\n",
       "    <tr>\n",
       "      <th>4</th>\n",
       "      <td>306</td>\n",
       "      <td>59580.176685</td>\n",
       "      <td>0</td>\n",
       "      <td>y</td>\n",
       "      <td>23.431979</td>\n",
       "    </tr>\n",
       "  </tbody>\n",
       "</table>\n",
       "</div>"
      ],
      "text/plain": [
       "   obsHistID        expMJD  night filter  predictedPhoSimTimes\n",
       "0        230  59580.139555      0      r             15.125699\n",
       "1        250  59580.149254      0      g             11.765881\n",
       "2        260  59580.154787      0      i             14.933507\n",
       "3        280  59580.164486      0      z             17.603149\n",
       "4        306  59580.176685      0      y             23.431979"
      ]
     },
     "execution_count": 11,
     "metadata": {},
     "output_type": "execute_result"
    }
   ],
   "source": [
    "first[['obsHistID', 'expMJD', 'night', 'filter', 'predictedPhoSimTimes']].head()"
   ]
  },
  {
   "cell_type": "code",
   "execution_count": 12,
   "metadata": {
    "collapsed": false
   },
   "outputs": [
    {
     "data": {
      "text/html": [
       "<div>\n",
       "<table border=\"1\" class=\"dataframe\">\n",
       "  <thead>\n",
       "    <tr style=\"text-align: right;\">\n",
       "      <th></th>\n",
       "      <th>obsHistID</th>\n",
       "      <th>night</th>\n",
       "      <th>propID</th>\n",
       "      <th>predictedPhoSimTimes</th>\n",
       "    </tr>\n",
       "  </thead>\n",
       "  <tbody>\n",
       "    <tr>\n",
       "      <th>1</th>\n",
       "      <td>183811</td>\n",
       "      <td>243</td>\n",
       "      <td>54</td>\n",
       "      <td>11.869360</td>\n",
       "    </tr>\n",
       "    <tr>\n",
       "      <th>4</th>\n",
       "      <td>185736</td>\n",
       "      <td>245</td>\n",
       "      <td>54</td>\n",
       "      <td>12.568578</td>\n",
       "    </tr>\n",
       "    <tr>\n",
       "      <th>5</th>\n",
       "      <td>185785</td>\n",
       "      <td>245</td>\n",
       "      <td>54</td>\n",
       "      <td>11.018340</td>\n",
       "    </tr>\n",
       "    <tr>\n",
       "      <th>7</th>\n",
       "      <td>187525</td>\n",
       "      <td>247</td>\n",
       "      <td>54</td>\n",
       "      <td>36.685327</td>\n",
       "    </tr>\n",
       "    <tr>\n",
       "      <th>8</th>\n",
       "      <td>187546</td>\n",
       "      <td>247</td>\n",
       "      <td>54</td>\n",
       "      <td>37.839777</td>\n",
       "    </tr>\n",
       "  </tbody>\n",
       "</table>\n",
       "</div>"
      ],
      "text/plain": [
       "   obsHistID  night  propID  predictedPhoSimTimes\n",
       "1     183811    243      54             11.869360\n",
       "4     185736    245      54             12.568578\n",
       "5     185785    245      54             11.018340\n",
       "7     187525    247      54             36.685327\n",
       "8     187546    247      54             37.839777"
      ]
     },
     "execution_count": 12,
     "metadata": {},
     "output_type": "execute_result"
    }
   ],
   "source": [
    "# Twinkles Run 3.1b\n",
    "obs_3p1b = ops.Twinkles_3p1b[['obsHistID', 'night', 'propID', 'predictedPhoSimTimes']]\n",
    "obs_3p1b.head()"
   ]
  },
  {
   "cell_type": "code",
   "execution_count": 13,
   "metadata": {
    "collapsed": false
   },
   "outputs": [
    {
     "data": {
      "text/html": [
       "<div>\n",
       "<table border=\"1\" class=\"dataframe\">\n",
       "  <thead>\n",
       "    <tr style=\"text-align: right;\">\n",
       "      <th></th>\n",
       "      <th>obsHistID</th>\n",
       "      <th>sessionID</th>\n",
       "      <th>propID</th>\n",
       "      <th>fieldID</th>\n",
       "      <th>fieldRA</th>\n",
       "      <th>fieldDec</th>\n",
       "      <th>filter</th>\n",
       "      <th>expDate</th>\n",
       "      <th>expMJD</th>\n",
       "      <th>night</th>\n",
       "      <th>...</th>\n",
       "      <th>rawSeeing</th>\n",
       "      <th>wind</th>\n",
       "      <th>humidity</th>\n",
       "      <th>slewDist</th>\n",
       "      <th>slewTime</th>\n",
       "      <th>fiveSigmaDepth</th>\n",
       "      <th>ditheredRA</th>\n",
       "      <th>ditheredDec</th>\n",
       "      <th>year</th>\n",
       "      <th>predictedPhoSimTimes</th>\n",
       "    </tr>\n",
       "  </thead>\n",
       "  <tbody>\n",
       "    <tr>\n",
       "      <th>10110</th>\n",
       "      <td>994171</td>\n",
       "      <td>1016</td>\n",
       "      <td>56</td>\n",
       "      <td>1427</td>\n",
       "      <td>0.925184</td>\n",
       "      <td>-0.4789</td>\n",
       "      <td>z</td>\n",
       "      <td>126497354</td>\n",
       "      <td>61044.089753</td>\n",
       "      <td>1464</td>\n",
       "      <td>...</td>\n",
       "      <td>0.817253</td>\n",
       "      <td>0.0</td>\n",
       "      <td>0.0</td>\n",
       "      <td>0.0</td>\n",
       "      <td>2.0</td>\n",
       "      <td>22.448782</td>\n",
       "      <td>0.899373</td>\n",
       "      <td>-0.465674</td>\n",
       "      <td>4</td>\n",
       "      <td>58.937639</td>\n",
       "    </tr>\n",
       "    <tr>\n",
       "      <th>10111</th>\n",
       "      <td>994172</td>\n",
       "      <td>1016</td>\n",
       "      <td>56</td>\n",
       "      <td>1427</td>\n",
       "      <td>0.925184</td>\n",
       "      <td>-0.4789</td>\n",
       "      <td>z</td>\n",
       "      <td>126497390</td>\n",
       "      <td>61044.090170</td>\n",
       "      <td>1464</td>\n",
       "      <td>...</td>\n",
       "      <td>0.817253</td>\n",
       "      <td>0.0</td>\n",
       "      <td>0.0</td>\n",
       "      <td>0.0</td>\n",
       "      <td>2.0</td>\n",
       "      <td>22.447518</td>\n",
       "      <td>0.899373</td>\n",
       "      <td>-0.465674</td>\n",
       "      <td>4</td>\n",
       "      <td>58.937639</td>\n",
       "    </tr>\n",
       "    <tr>\n",
       "      <th>10112</th>\n",
       "      <td>994173</td>\n",
       "      <td>1016</td>\n",
       "      <td>56</td>\n",
       "      <td>1427</td>\n",
       "      <td>0.925184</td>\n",
       "      <td>-0.4789</td>\n",
       "      <td>z</td>\n",
       "      <td>126497426</td>\n",
       "      <td>61044.090587</td>\n",
       "      <td>1464</td>\n",
       "      <td>...</td>\n",
       "      <td>0.817253</td>\n",
       "      <td>0.0</td>\n",
       "      <td>0.0</td>\n",
       "      <td>0.0</td>\n",
       "      <td>2.0</td>\n",
       "      <td>22.446253</td>\n",
       "      <td>0.899373</td>\n",
       "      <td>-0.465674</td>\n",
       "      <td>4</td>\n",
       "      <td>59.582655</td>\n",
       "    </tr>\n",
       "    <tr>\n",
       "      <th>10113</th>\n",
       "      <td>994174</td>\n",
       "      <td>1016</td>\n",
       "      <td>56</td>\n",
       "      <td>1427</td>\n",
       "      <td>0.925184</td>\n",
       "      <td>-0.4789</td>\n",
       "      <td>z</td>\n",
       "      <td>126497462</td>\n",
       "      <td>61044.091003</td>\n",
       "      <td>1464</td>\n",
       "      <td>...</td>\n",
       "      <td>0.817253</td>\n",
       "      <td>0.0</td>\n",
       "      <td>0.0</td>\n",
       "      <td>0.0</td>\n",
       "      <td>2.0</td>\n",
       "      <td>22.444987</td>\n",
       "      <td>0.899373</td>\n",
       "      <td>-0.465674</td>\n",
       "      <td>4</td>\n",
       "      <td>59.582655</td>\n",
       "    </tr>\n",
       "    <tr>\n",
       "      <th>10114</th>\n",
       "      <td>994175</td>\n",
       "      <td>1016</td>\n",
       "      <td>56</td>\n",
       "      <td>1427</td>\n",
       "      <td>0.925184</td>\n",
       "      <td>-0.4789</td>\n",
       "      <td>z</td>\n",
       "      <td>126497498</td>\n",
       "      <td>61044.091420</td>\n",
       "      <td>1464</td>\n",
       "      <td>...</td>\n",
       "      <td>0.817253</td>\n",
       "      <td>0.0</td>\n",
       "      <td>0.0</td>\n",
       "      <td>0.0</td>\n",
       "      <td>2.0</td>\n",
       "      <td>22.443719</td>\n",
       "      <td>0.899373</td>\n",
       "      <td>-0.465674</td>\n",
       "      <td>4</td>\n",
       "      <td>59.582655</td>\n",
       "    </tr>\n",
       "  </tbody>\n",
       "</table>\n",
       "<p>5 rows × 49 columns</p>\n",
       "</div>"
      ],
      "text/plain": [
       "       obsHistID  sessionID  propID  fieldID   fieldRA  fieldDec filter  \\\n",
       "10110     994171       1016      56     1427  0.925184   -0.4789      z   \n",
       "10111     994172       1016      56     1427  0.925184   -0.4789      z   \n",
       "10112     994173       1016      56     1427  0.925184   -0.4789      z   \n",
       "10113     994174       1016      56     1427  0.925184   -0.4789      z   \n",
       "10114     994175       1016      56     1427  0.925184   -0.4789      z   \n",
       "\n",
       "         expDate        expMJD  night          ...           rawSeeing  wind  \\\n",
       "10110  126497354  61044.089753   1464          ...            0.817253   0.0   \n",
       "10111  126497390  61044.090170   1464          ...            0.817253   0.0   \n",
       "10112  126497426  61044.090587   1464          ...            0.817253   0.0   \n",
       "10113  126497462  61044.091003   1464          ...            0.817253   0.0   \n",
       "10114  126497498  61044.091420   1464          ...            0.817253   0.0   \n",
       "\n",
       "       humidity  slewDist  slewTime  fiveSigmaDepth  ditheredRA  ditheredDec  \\\n",
       "10110       0.0       0.0       2.0       22.448782    0.899373    -0.465674   \n",
       "10111       0.0       0.0       2.0       22.447518    0.899373    -0.465674   \n",
       "10112       0.0       0.0       2.0       22.446253    0.899373    -0.465674   \n",
       "10113       0.0       0.0       2.0       22.444987    0.899373    -0.465674   \n",
       "10114       0.0       0.0       2.0       22.443719    0.899373    -0.465674   \n",
       "\n",
       "       year  predictedPhoSimTimes  \n",
       "10110     4             58.937639  \n",
       "10111     4             58.937639  \n",
       "10112     4             59.582655  \n",
       "10113     4             59.582655  \n",
       "10114     4             59.582655  \n",
       "\n",
       "[5 rows x 49 columns]"
      ]
     },
     "execution_count": 13,
     "metadata": {},
     "output_type": "execute_result"
    }
   ],
   "source": [
    "# Twinkles 3.2\n",
    "ops.Twinkles_3p2.head()"
   ]
  },
  {
   "cell_type": "code",
   "execution_count": 14,
   "metadata": {
    "collapsed": false
   },
   "outputs": [
    {
     "data": {
      "text/html": [
       "<div>\n",
       "<table border=\"1\" class=\"dataframe\">\n",
       "  <thead>\n",
       "    <tr style=\"text-align: right;\">\n",
       "      <th></th>\n",
       "      <th>obsHistID</th>\n",
       "      <th>sessionID</th>\n",
       "      <th>propID</th>\n",
       "      <th>fieldID</th>\n",
       "      <th>fieldRA</th>\n",
       "      <th>fieldDec</th>\n",
       "      <th>filter</th>\n",
       "      <th>expDate</th>\n",
       "      <th>expMJD</th>\n",
       "      <th>night</th>\n",
       "      <th>...</th>\n",
       "      <th>rawSeeing</th>\n",
       "      <th>wind</th>\n",
       "      <th>humidity</th>\n",
       "      <th>slewDist</th>\n",
       "      <th>slewTime</th>\n",
       "      <th>fiveSigmaDepth</th>\n",
       "      <th>ditheredRA</th>\n",
       "      <th>ditheredDec</th>\n",
       "      <th>year</th>\n",
       "      <th>predictedPhoSimTimes</th>\n",
       "    </tr>\n",
       "  </thead>\n",
       "  <tbody>\n",
       "    <tr>\n",
       "      <th>920</th>\n",
       "      <td>231</td>\n",
       "      <td>1016</td>\n",
       "      <td>56</td>\n",
       "      <td>1427</td>\n",
       "      <td>0.925184</td>\n",
       "      <td>-0.4789</td>\n",
       "      <td>r</td>\n",
       "      <td>12093</td>\n",
       "      <td>59580.139972</td>\n",
       "      <td>0</td>\n",
       "      <td>...</td>\n",
       "      <td>0.791241</td>\n",
       "      <td>0.0</td>\n",
       "      <td>0.0</td>\n",
       "      <td>0.0</td>\n",
       "      <td>2.0</td>\n",
       "      <td>24.143180</td>\n",
       "      <td>0.907976</td>\n",
       "      <td>-0.505351</td>\n",
       "      <td>0</td>\n",
       "      <td>15.125699</td>\n",
       "    </tr>\n",
       "    <tr>\n",
       "      <th>921</th>\n",
       "      <td>232</td>\n",
       "      <td>1016</td>\n",
       "      <td>56</td>\n",
       "      <td>1427</td>\n",
       "      <td>0.925184</td>\n",
       "      <td>-0.4789</td>\n",
       "      <td>r</td>\n",
       "      <td>12129</td>\n",
       "      <td>59580.140389</td>\n",
       "      <td>0</td>\n",
       "      <td>...</td>\n",
       "      <td>0.791241</td>\n",
       "      <td>0.0</td>\n",
       "      <td>0.0</td>\n",
       "      <td>0.0</td>\n",
       "      <td>2.0</td>\n",
       "      <td>24.141983</td>\n",
       "      <td>0.907976</td>\n",
       "      <td>-0.505351</td>\n",
       "      <td>0</td>\n",
       "      <td>15.125699</td>\n",
       "    </tr>\n",
       "    <tr>\n",
       "      <th>922</th>\n",
       "      <td>233</td>\n",
       "      <td>1016</td>\n",
       "      <td>56</td>\n",
       "      <td>1427</td>\n",
       "      <td>0.925184</td>\n",
       "      <td>-0.4789</td>\n",
       "      <td>r</td>\n",
       "      <td>12165</td>\n",
       "      <td>59580.140805</td>\n",
       "      <td>0</td>\n",
       "      <td>...</td>\n",
       "      <td>0.859965</td>\n",
       "      <td>0.0</td>\n",
       "      <td>0.0</td>\n",
       "      <td>0.0</td>\n",
       "      <td>2.0</td>\n",
       "      <td>24.068792</td>\n",
       "      <td>0.907976</td>\n",
       "      <td>-0.505351</td>\n",
       "      <td>0</td>\n",
       "      <td>15.149455</td>\n",
       "    </tr>\n",
       "    <tr>\n",
       "      <th>923</th>\n",
       "      <td>234</td>\n",
       "      <td>1016</td>\n",
       "      <td>56</td>\n",
       "      <td>1427</td>\n",
       "      <td>0.925184</td>\n",
       "      <td>-0.4789</td>\n",
       "      <td>r</td>\n",
       "      <td>12201</td>\n",
       "      <td>59580.141222</td>\n",
       "      <td>0</td>\n",
       "      <td>...</td>\n",
       "      <td>0.859965</td>\n",
       "      <td>0.0</td>\n",
       "      <td>0.0</td>\n",
       "      <td>0.0</td>\n",
       "      <td>2.0</td>\n",
       "      <td>24.067582</td>\n",
       "      <td>0.907976</td>\n",
       "      <td>-0.505351</td>\n",
       "      <td>0</td>\n",
       "      <td>15.149455</td>\n",
       "    </tr>\n",
       "    <tr>\n",
       "      <th>924</th>\n",
       "      <td>235</td>\n",
       "      <td>1016</td>\n",
       "      <td>56</td>\n",
       "      <td>1427</td>\n",
       "      <td>0.925184</td>\n",
       "      <td>-0.4789</td>\n",
       "      <td>r</td>\n",
       "      <td>12237</td>\n",
       "      <td>59580.141639</td>\n",
       "      <td>0</td>\n",
       "      <td>...</td>\n",
       "      <td>0.859965</td>\n",
       "      <td>0.0</td>\n",
       "      <td>0.0</td>\n",
       "      <td>0.0</td>\n",
       "      <td>2.0</td>\n",
       "      <td>24.066363</td>\n",
       "      <td>0.907976</td>\n",
       "      <td>-0.505351</td>\n",
       "      <td>0</td>\n",
       "      <td>15.149455</td>\n",
       "    </tr>\n",
       "  </tbody>\n",
       "</table>\n",
       "<p>5 rows × 49 columns</p>\n",
       "</div>"
      ],
      "text/plain": [
       "     obsHistID  sessionID  propID  fieldID   fieldRA  fieldDec filter  \\\n",
       "920        231       1016      56     1427  0.925184   -0.4789      r   \n",
       "921        232       1016      56     1427  0.925184   -0.4789      r   \n",
       "922        233       1016      56     1427  0.925184   -0.4789      r   \n",
       "923        234       1016      56     1427  0.925184   -0.4789      r   \n",
       "924        235       1016      56     1427  0.925184   -0.4789      r   \n",
       "\n",
       "     expDate        expMJD  night          ...           rawSeeing  wind  \\\n",
       "920    12093  59580.139972      0          ...            0.791241   0.0   \n",
       "921    12129  59580.140389      0          ...            0.791241   0.0   \n",
       "922    12165  59580.140805      0          ...            0.859965   0.0   \n",
       "923    12201  59580.141222      0          ...            0.859965   0.0   \n",
       "924    12237  59580.141639      0          ...            0.859965   0.0   \n",
       "\n",
       "     humidity  slewDist  slewTime  fiveSigmaDepth  ditheredRA  ditheredDec  \\\n",
       "920       0.0       0.0       2.0       24.143180    0.907976    -0.505351   \n",
       "921       0.0       0.0       2.0       24.141983    0.907976    -0.505351   \n",
       "922       0.0       0.0       2.0       24.068792    0.907976    -0.505351   \n",
       "923       0.0       0.0       2.0       24.067582    0.907976    -0.505351   \n",
       "924       0.0       0.0       2.0       24.066363    0.907976    -0.505351   \n",
       "\n",
       "     year  predictedPhoSimTimes  \n",
       "920     0             15.125699  \n",
       "921     0             15.125699  \n",
       "922     0             15.149455  \n",
       "923     0             15.149455  \n",
       "924     0             15.149455  \n",
       "\n",
       "[5 rows x 49 columns]"
      ]
     },
     "execution_count": 14,
     "metadata": {},
     "output_type": "execute_result"
    }
   ],
   "source": [
    "ops.Twinkles_3p3.head()"
   ]
  },
  {
   "cell_type": "code",
   "execution_count": 16,
   "metadata": {
    "collapsed": false
   },
   "outputs": [
    {
     "data": {
      "text/plain": [
       "array([u'i', u'r', u'g'], dtype=object)"
      ]
     },
     "execution_count": 16,
     "metadata": {},
     "output_type": "execute_result"
    }
   ],
   "source": [
    "#obsHistIDs that have visits with extremely long phosim prediction times\n",
    "ops.obsHistIDsPredictedToTakeTooLong['filter'].unique()"
   ]
  },
  {
   "cell_type": "code",
   "execution_count": 17,
   "metadata": {
    "collapsed": false
   },
   "outputs": [
    {
     "data": {
      "image/png": "[encoded data removed]",
      "text/plain": [
       "<matplotlib.figure.Figure at 0x11c63a190>"
      ]
     },
     "metadata": {},
     "output_type": "display_data"
    }
   ],
   "source": [
    "fig, ax = plt.subplots(1, 3, sharex=True)\n",
    "ops.obsHistIDsPredictedToTakeTooLong\\\n",
    "    .sort_values(by='predictedPhoSimTimes')\\\n",
    "    .hist(column='predictedPhoSimTimes', histtype='step', lw=2, alpha=1, color='k',\n",
    "          by='filter', ax=ax, cumulative=-1)\n",
    "for axx in ax:\n",
    "    axx.set_xlabel('predictedPhoSomTimes (hrs)')"
   ]
  },
  {
   "cell_type": "code",
   "execution_count": 18,
   "metadata": {
    "collapsed": false
   },
   "outputs": [
    {
     "data": {
      "text/plain": [
       "2109"
      ]
     },
     "execution_count": 18,
     "metadata": {},
     "output_type": "execute_result"
    }
   ],
   "source": [
    "len(ops.obsHistIDsPredictedToTakeTooLong)"
   ]
  },
  {
   "cell_type": "markdown",
   "metadata": {},
   "source": [
    "### To Write this to a single csv file:"
   ]
  },
  {
   "cell_type": "code",
   "execution_count": null,
   "metadata": {
    "collapsed": true
   },
   "outputs": [],
   "source": [
    "df = pd.concat([ops.Twinkles_3p1, ops.Twinkles_3p2, ops.Twinkles_3p3])\n",
    "TwinklesObsHistIDFileNames = os.path.join(twinklesDir, 'data', 'TwinklesObsHistIDs.csv')\n",
    "df.obsHistID.to_csv(TwinklesObsHistIDFileNames, index=False, )"
   ]
  },
  {
   "cell_type": "markdown",
   "metadata": {},
   "source": [
    "# Effects of the design: What can we expect for Twinkles 3?"
   ]
  },
  {
   "cell_type": "markdown",
   "metadata": {},
   "source": [
    "The suggested value for timeMax is 100.0 hours, while the max on the nfs farm is 120 hours. First let us look at the distribution of predicted phosim run times in the entire set (once the duplicates have been dropped)"
   ]
  },
  {
   "cell_type": "code",
   "execution_count": 19,
   "metadata": {
    "collapsed": false
   },
   "outputs": [
    {
     "data": {
      "text/plain": [
       "<matplotlib.text.Text at 0x11e478c10>"
      ]
     },
     "execution_count": 19,
     "metadata": {},
     "output_type": "execute_result"
    },
    {
     "data": {
      "image/png": "[encoded data removed]",
      "text/plain": [
       "<matplotlib.figure.Figure at 0x11e1a2f10>"
      ]
     },
     "metadata": {},
     "output_type": "display_data"
    }
   ],
   "source": [
    "fig, ax = plt.subplots(1, 2)\n",
    "sns.distplot(ops.uniqueOpSimRecords.predictedPhoSimTimes, hist=True, rug=False,\n",
    "             hist_kws=dict(histtype='step', lw=2, color='k', alpha=1), kde=False, ax=ax[0])\n",
    "sns.distplot(ops.uniqueOpSimRecords.predictedPhoSimTimes, hist=True, rug=False,\n",
    "             hist_kws=dict(histtype='step', lw=2, color='k', alpha=1, \n",
    "                           cumulative=-1, normed=1), kde=False, ax=ax[1])\n",
    "ax[0].set_ylabel('PhoSim Runs')\n",
    "ax[1].set_ylabel('PhoSim Runs with RunTime greater than (normalized)')\n",
    "ax[0].set_xlabel('predicted PhoSim Run Times (hrs)')\n",
    "ax[1].set_xlabel('predicted PhoSim Run Times (hrs)')"
   ]
  },
  {
   "cell_type": "code",
   "execution_count": 20,
   "metadata": {
    "collapsed": false
   },
   "outputs": [
    {
     "name": "stdout",
     "output_type": "stream",
     "text": [
      "The number of visits that are too long is 2109, while the total number of unique runs is 24079. If we had selected timeMax=120.0 instead of the suggested 100. we might expect to get 1625 visits, getting us an additional gain of 484 visits\n"
     ]
    }
   ],
   "source": [
    "_s = 'The number of visits that are too long is {0}, while the total number of unique runs is {1}. If we had selected timeMax=120.0 instead of the suggested 100. we might expect to get 1625 visits, getting us an additional gain of {2} visits'\\\n",
    ".format(len(ops.obsHistIDsPredictedToTakeTooLong), \n",
    "len(ops.uniqueOpSimRecords), len(ops.obsHistIDsPredictedToTakeTooLong) - 1625)\n",
    "print(_s)"
   ]
  },
  {
   "cell_type": "markdown",
   "metadata": {},
   "source": [
    "## What will we get in Twinkles 3.1 ?"
   ]
  },
  {
   "cell_type": "code",
   "execution_count": 21,
   "metadata": {
    "collapsed": false
   },
   "outputs": [
    {
     "name": "stdout",
     "output_type": "stream",
     "text": [
      "Twinkles 3.1 will have 1508 visits of which 546 are WFD visits\n"
     ]
    }
   ],
   "source": [
    "_s = 'Twinkles 3.1 will have {0} visits of which {1} are WFD visits'.format(len(ops.Twinkles_3p1),\n",
    "                                                        len(ops.Twinkles_3p1.query('propID==54')))\n",
    "print(_s)"
   ]
  },
  {
   "cell_type": "code",
   "execution_count": 22,
   "metadata": {
    "collapsed": false
   },
   "outputs": [
    {
     "data": {
      "text/plain": [
       "array([[<matplotlib.axes._subplots.AxesSubplot object at 0x11e791990>,\n",
       "        <matplotlib.axes._subplots.AxesSubplot object at 0x11ea25e50>],\n",
       "       [<matplotlib.axes._subplots.AxesSubplot object at 0x11eac9210>,\n",
       "        <matplotlib.axes._subplots.AxesSubplot object at 0x11ed52790>],\n",
       "       [<matplotlib.axes._subplots.AxesSubplot object at 0x11eaf4cd0>,\n",
       "        <matplotlib.axes._subplots.AxesSubplot object at 0x11f15e4d0>]], dtype=object)"
      ]
     },
     "execution_count": 22,
     "metadata": {},
     "output_type": "execute_result"
    },
    {
     "data": {
      "image/png": "[encoded data removed]",
      "text/plain": [
       "<matplotlib.figure.Figure at 0x11e1e4450>"
      ]
     },
     "metadata": {},
     "output_type": "display_data"
    }
   ],
   "source": [
    "ops.Twinkles_3p1.hist(column='night', by='filter', histtype='step', lw=2, color='k',\n",
    "                      alpha=1)"
   ]
  },
  {
   "cell_type": "code",
   "execution_count": 23,
   "metadata": {
    "collapsed": false
   },
   "outputs": [
    {
     "data": {
      "text/plain": [
       "array([<matplotlib.axes._subplots.AxesSubplot object at 0x11f8e5e10>,\n",
       "       <matplotlib.axes._subplots.AxesSubplot object at 0x11fa43f90>], dtype=object)"
      ]
     },
     "execution_count": 23,
     "metadata": {},
     "output_type": "execute_result"
    },
    {
     "data": {
      "image/png": "[encoded data removed]",
      "text/plain": [
       "<matplotlib.figure.Figure at 0x11f89a490>"
      ]
     },
     "metadata": {},
     "output_type": "display_data"
    }
   ],
   "source": [
    "ops.Twinkles_3p1.hist(column='night', by='propID', histtype='step', lw=2, color='k',\n",
    "                      alpha=1, bins=np.arange(0., 3650., 100.))"
   ]
  },
  {
   "cell_type": "markdown",
   "metadata": {},
   "source": [
    "### Coverage : How does the Twinkles Run 3 design provide more objects during intermediate times compared to a simple chronological run"
   ]
  },
  {
   "cell_type": "code",
   "execution_count": 24,
   "metadata": {
    "collapsed": true
   },
   "outputs": [],
   "source": [
    "chronological = ops.filteredOpSim.copy().sort_values(by='expMJD')\n",
    "chronological['cpuHoursUsed'] = chronological.predictedPhoSimTimes.cumsum()"
   ]
  },
  {
   "cell_type": "code",
   "execution_count": 25,
   "metadata": {
    "collapsed": true
   },
   "outputs": [],
   "source": [
    "def chronologicalReturns(chronologicaldf, timeUsed):\n",
    "    \"\"\"\n",
    "    return the number of visits, unique combinations, and range in nights done in a certain amount of time \n",
    "    if the visits were chronological\n",
    "    \n",
    "    Parameters\n",
    "    ----------\n",
    "    chronological : `pd.DataFrame`\n",
    "        which must be ordered chronologically by `expMJD` and have the columns `night`, `filter`\n",
    "        and `cpuHoursUsed`\n",
    "    timeUsed : float\n",
    "        CPU Hours \n",
    "    \"\"\"\n",
    "    done = chronologicaldf.query('cpuHoursUsed < @timeUsed')\n",
    "    return [len(done), len(done.groupby(['night', 'filter']).groups.keys()),\n",
    "                done.night.max() - done.night.min()]"
   ]
  },
  {
   "cell_type": "code",
   "execution_count": 26,
   "metadata": {
    "collapsed": true
   },
   "outputs": [],
   "source": [
    "s_ = 'The Twinkles 3.1 design is meant to provide good coverage over unique combinations of'\n",
    "s_ += 'nights and filters. This is useful, because it provides us with good time sampling of'\n",
    "s_ += 'all astrophysical light curves, even though the effective signal to noise ratio on the'\n",
    "s_ += 'light curve is mlower than in a DDF field roughly by a factor ~5. Further, it allows coaddition of sky near bright transients'\n",
    "s_ += '(based on current OpSim). The total number of CPU hours used in Twinkles_3p1 is {0}'\n",
    "s_ += 'to produce {1} visits, each of which are unique combinations of `night` and `filter`. In the same time (assumed to be used serially), a chronological '\n",
    "s_ += 'ordering of visits would produce {2} visits but only {3} unique combinations.'\n",
    "s_ += 'Unlike Twinkles 3.1 which spans all 10 years, this time would be used in getting visits'\n",
    "s_ += 'spread over the first {4} nights'"
   ]
  },
  {
   "cell_type": "code",
   "execution_count": 27,
   "metadata": {
    "collapsed": false
   },
   "outputs": [
    {
     "name": "stdout",
     "output_type": "stream",
     "text": [
      "The Twinkles 3.1 design is meant to provide good coverage over unique combinations ofnights and filters. This is useful, because it provides us with good time sampling ofall astrophysical light curves, even though the effective signal to noise ratio on thelight curve is mlower than in a DDF field roughly by a factor ~5. Further, it allows coaddition of sky near bright transients(based on current OpSim). The total number of CPU hours used in Twinkles_3p1 is 39970.7541743to produce 1508 visits, each of which are unique combinations of `night` and `filter`. In the same time (assumed to be used serially), a chronological ordering of visits would produce 1802 visits but only 109 unique combinations.Unlike Twinkles 3.1 which spans all 10 years, this time would be used in getting visitsspread over the first 336 nights\n"
     ]
    }
   ],
   "source": [
    "cr = chronologicalReturns(chronological, ops.Twinkles_3p1.predictedPhoSimTimes.sum())\n",
    "print(s_.format(ops.Twinkles_3p1.predictedPhoSimTimes.sum(),\n",
    "                len(ops.Twinkles_3p1),\n",
    "                cr[0],\n",
    "                cr[1], \n",
    "                cr[2]))"
   ]
  },
  {
   "cell_type": "code",
   "execution_count": 28,
   "metadata": {
    "collapsed": false
   },
   "outputs": [],
   "source": [
    "timeSamples = np.linspace(0., ops.Twinkles_3p1.predictedPhoSimTimes.sum(), 100)"
   ]
  },
  {
   "cell_type": "code",
   "execution_count": 29,
   "metadata": {
    "collapsed": false
   },
   "outputs": [],
   "source": [
    "f = lambda x: [x] + chronologicalReturns(chronological, x)\n",
    "chronologicaltimes = np.array(map(f, timeSamples))"
   ]
  },
  {
   "cell_type": "code",
   "execution_count": 30,
   "metadata": {
    "collapsed": true
   },
   "outputs": [],
   "source": [
    "first = ops.Twinkles_3p1.copy()"
   ]
  },
  {
   "cell_type": "code",
   "execution_count": 31,
   "metadata": {
    "collapsed": true
   },
   "outputs": [],
   "source": [
    "first['cpuHoursUsed'] = first.predictedPhoSimTimes.cumsum()"
   ]
  },
  {
   "cell_type": "code",
   "execution_count": 32,
   "metadata": {
    "collapsed": false
   },
   "outputs": [],
   "source": [
    "g = lambda x: [x] + chronologicalReturns(first, x)\n",
    "Twinkles3p1times = np.array(map(g, timeSamples))"
   ]
  },
  {
   "cell_type": "code",
   "execution_count": 36,
   "metadata": {
    "collapsed": false
   },
   "outputs": [
    {
     "data": {
      "text/plain": [
       "<matplotlib.text.Text at 0x119a2cad0>"
      ]
     },
     "execution_count": 36,
     "metadata": {},
     "output_type": "execute_result"
    },
    {
     "data": {
      "image/png": "[encoded data removed]",
      "text/plain": [
       "<matplotlib.figure.Figure at 0x119a2c890>"
      ]
     },
     "metadata": {},
     "output_type": "display_data"
    }
   ],
   "source": [
    "fig, ax = plt.subplots(3, 1, sharex=True)\n",
    "for ii in range(3):\n",
    "    ax[ii].plot(timeSamples, chronologicaltimes[:, ii+1], 'r--', label='chronological')\n",
    "    ax[ii].plot(timeSamples, Twinkles3p1times[:, ii+1], 'k-', label='Twinkles 3')\n",
    "ax[0].set_ylabel('visits')\n",
    "ax[1].set_ylabel('unique comb')\n",
    "ax[2].set_ylabel('nights')\n",
    "ax[2].set_xlabel('CPU Hours Used')\n",
    "plt.legend()\n",
    "fig.suptitle('Numbers of objects done vs CPU Time used')"
   ]
  },
  {
   "cell_type": "code",
   "execution_count": 37,
   "metadata": {
    "collapsed": false
   },
   "outputs": [],
   "source": [
    "fig.savefig('TwinklesPredictedTimes.png')"
   ]
  },
  {
   "cell_type": "markdown",
   "metadata": {},
   "source": [
    "Plot describing the differences between Twinkles 3.1 and a chronological ordering of visits"
   ]
  },
  {
   "cell_type": "code",
   "execution_count": 23,
   "metadata": {
    "collapsed": false
   },
   "outputs": [],
   "source": [
    "#grouped = ops.Twinkles_3p1.groupby('filter')\n",
    "#sns.jointplot(x='moonAlt', y='predictedPhoSimTimes', data=grouped.get_group('u'))\n",
    "#sns.jointlot(x='moonAlt', y='predictedPhoSimTimes', data=grouped.get_group('g'))\n",
    "#sns.jointplot(x='moonAlt', y='predictedPhoSimTimes', data=grouped.get_group('r'))\n",
    "#sns.jointplot(x='moonAlt', y='predictedPhoSimTimes', data=grouped.get_group('i'))\n",
    "#sns.jointplot(x='moonAlt', y='predictedPhoSimTimes', data=grouped.get_group('z'))\n",
    "#sns.jointplot(x='moonAlt', y='predictedPhoSimTimes', data=grouped.get_group('y'))"
   ]
  },
  {
   "cell_type": "markdown",
   "metadata": {},
   "source": [
    "## Scratch: Tests and Details about the code"
   ]
  },
  {
   "cell_type": "code",
   "execution_count": 25,
   "metadata": {
    "collapsed": true
   },
   "outputs": [],
   "source": [
    "pts = ops.fullOpSimDF(opSimDBPath)"
   ]
  },
  {
   "cell_type": "code",
   "execution_count": 26,
   "metadata": {
    "collapsed": false
   },
   "outputs": [
    {
     "data": {
      "text/plain": [
       "True"
      ]
     },
     "execution_count": 26,
     "metadata": {},
     "output_type": "execute_result"
    }
   ],
   "source": [
    "## Everything in the OpSim query\n",
    "len(pts) == len(ops._opsimDF)"
   ]
  },
  {
   "cell_type": "code",
   "execution_count": 27,
   "metadata": {
    "collapsed": false
   },
   "outputs": [
    {
     "data": {
      "text/plain": [
       "True"
      ]
     },
     "execution_count": 27,
     "metadata": {},
     "output_type": "execute_result"
    }
   ],
   "source": [
    "## After dropping duplicates, this is the same as ops.uniqueOpSimRecords\n",
    "pts.drop_duplicates(subset='obsHistID', inplace=True)\n",
    "len(pts)== ops.uniqueOpSimRecords.obsHistID.size"
   ]
  },
  {
   "cell_type": "code",
   "execution_count": 28,
   "metadata": {
    "collapsed": false
   },
   "outputs": [
    {
     "data": {
      "text/plain": [
       "True"
      ]
     },
     "execution_count": 28,
     "metadata": {},
     "output_type": "execute_result"
    }
   ],
   "source": [
    "## In general ops.filteredOpSim has less or equal records compared to ops.uniqueOpSimRecords\n",
    "ops.uniqueOpSimRecords.obsHistID.size >= ops.filteredOpSim.obsHistID.size"
   ]
  },
  {
   "cell_type": "code",
   "execution_count": 29,
   "metadata": {
    "collapsed": false
   },
   "outputs": [],
   "source": [
    "n1 = ops.Twinkles_3p1.obsHistID.size"
   ]
  },
  {
   "cell_type": "code",
   "execution_count": 30,
   "metadata": {
    "collapsed": false
   },
   "outputs": [],
   "source": [
    "n2 = ops.Twinkles_3p2.obsHistID.size"
   ]
  },
  {
   "cell_type": "code",
   "execution_count": 31,
   "metadata": {
    "collapsed": false
   },
   "outputs": [],
   "source": [
    "n3 = ops.Twinkles_3p3.obsHistID.size"
   ]
  },
  {
   "cell_type": "code",
   "execution_count": 32,
   "metadata": {
    "collapsed": false
   },
   "outputs": [
    {
     "data": {
      "text/plain": [
       "True"
      ]
     },
     "execution_count": 32,
     "metadata": {},
     "output_type": "execute_result"
    }
   ],
   "source": [
    "n1 + n2 + n3  == len(ops.filteredOpSim)"
   ]
  },
  {
   "cell_type": "code",
   "execution_count": 33,
   "metadata": {
    "collapsed": true
   },
   "outputs": [],
   "source": [
    "v1 = ops.Twinkles_3p1.obsHistID.values.tolist()\n",
    "v2 = ops.Twinkles_3p2.obsHistID.values.tolist()\n",
    "v3 = ops.Twinkles_3p3.obsHistID.values.tolist()"
   ]
  },
  {
   "cell_type": "code",
   "execution_count": 34,
   "metadata": {
    "collapsed": false
   },
   "outputs": [
    {
     "ename": "SyntaxError",
     "evalue": "invalid syntax (<ipython-input-34-8b2e39063258>, line 1)",
     "output_type": "error",
     "traceback": [
      "\u001b[0;36m  File \u001b[0;32m\"<ipython-input-34-8b2e39063258>\"\u001b[0;36m, line \u001b[0;32m1\u001b[0m\n\u001b[0;31m    `ops.filteredOpSim.set_index('obsHistID').ix[v1].groupby(['night', 'filter']).groups.keys()\u001b[0m\n\u001b[0m                                                                                               ^\u001b[0m\n\u001b[0;31mSyntaxError\u001b[0m\u001b[0;31m:\u001b[0m invalid syntax\n"
     ]
    }
   ],
   "source": [
    "`ops.filteredOpSim.set_index('obsHistID').ix[v1].groupby(['night', 'filter']).groups.keys()"
   ]
  },
  {
   "cell_type": "code",
   "execution_count": null,
   "metadata": {
    "collapsed": false
   },
   "outputs": [],
   "source": [
    "ops.filteredOpSim.set_index('obsHistID').ix[v1].groupby(['night', 'filter']).expMJD.count().unique().tolist() == [1]"
   ]
  },
  {
   "cell_type": "code",
   "execution_count": null,
   "metadata": {
    "collapsed": false
   },
   "outputs": [],
   "source": [
    "np.unique(np.array(v1 + v2 + v3)).size == len(ops.filteredOpSim)"
   ]
  },
  {
   "cell_type": "code",
   "execution_count": null,
   "metadata": {
    "collapsed": true
   },
   "outputs": [],
   "source": [
    "obsHistIDValues = np.array(ops.Twinkles_3p1.obsHistID.tolist() + \\\n",
    "                           ops.Twinkles_3p2.obsHistID.tolist() + \\\n",
    "                           ops.Twinkles_3p3.obsHistID.tolist())"
   ]
  },
  {
   "cell_type": "code",
   "execution_count": null,
   "metadata": {
    "collapsed": true
   },
   "outputs": [],
   "source": [
    "fileName = os.path.join(twinklesDir, 'data', 'obsHistIDValues.csv')"
   ]
  },
  {
   "cell_type": "code",
   "execution_count": null,
   "metadata": {
    "collapsed": false
   },
   "outputs": [],
   "source": [
    "np.savetxt(fileName, obsHistIDValues)"
   ]
  },
  {
   "cell_type": "code",
   "execution_count": null,
   "metadata": {
    "collapsed": false
   },
   "outputs": [],
   "source": [
    "ops.filteredOpSim.set_index('obsHistID', inplace=True)"
   ]
  },
  {
   "cell_type": "code",
   "execution_count": null,
   "metadata": {
    "collapsed": false
   },
   "outputs": [],
   "source": [
    "ops.Twinkles_3p1[['obsHistID', 'propID', 'expMJD', 'night', 'filter']]"
   ]
  },
  {
   "cell_type": "code",
   "execution_count": null,
   "metadata": {
    "collapsed": false
   },
   "outputs": [],
   "source": [
    "ops.fullOpSimDF.ix[obsHistIDValues][['obsHistID', 'propID', 'expMJD', 'night', 'filter']]"
   ]
  },
  {
   "cell_type": "code",
   "execution_count": null,
   "metadata": {
    "collapsed": false
   },
   "outputs": [],
   "source": [
    "dir(ops)"
   ]
  },
  {
   "cell_type": "code",
   "execution_count": null,
   "metadata": {
    "collapsed": false
   },
   "outputs": [],
   "source": [
    "pts = ops.fullOpSimDF(opSimDBPath)"
   ]
  },
  {
   "cell_type": "code",
   "execution_count": null,
   "metadata": {
    "collapsed": false
   },
   "outputs": [],
   "source": [
    "ops.filteredOpSim.query('night==0').iloc[:21]"
   ]
  },
  {
   "cell_type": "code",
   "execution_count": null,
   "metadata": {
    "collapsed": false
   },
   "outputs": [],
   "source": [
    "pts.sort_values(by='expMJD').iloc[:21]"
   ]
  },
  {
   "cell_type": "code",
   "execution_count": null,
   "metadata": {
    "collapsed": false
   },
   "outputs": [],
   "source": [
    "ops.Twinkles_3p1.obsHistID.values"
   ]
  },
  {
   "cell_type": "code",
   "execution_count": null,
   "metadata": {
    "collapsed": true
   },
   "outputs": [],
   "source": []
  }
 ],
 "metadata": {
  "anaconda-cloud": {},
  "kernelspec": {
   "display_name": "Python [default]",
   "language": "python",
   "name": "python2"
  },
  "language_info": {
   "codemirror_mode": {
    "name": "ipython",
    "version": 2
   },
   "file_extension": ".py",
   "mimetype": "text/x-python",
   "name": "python",
   "nbconvert_exporter": "python",
   "pygments_lexer": "ipython2",
   "version": "2.7.12"
  }
 },
 "nbformat": 4,
 "nbformat_minor": 1
}
