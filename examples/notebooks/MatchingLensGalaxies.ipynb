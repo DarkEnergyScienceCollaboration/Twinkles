{
 "cells": [
  {
   "cell_type": "markdown",
   "metadata": {},
   "source": [
    "# Empirically Matching OM10 Lens Galaxies to SL2S\n",
    "\n",
    "_Phil Marshall & Bryce Kalmbach, September 2016_\n",
    "\n",
    "We need to be able to assign a stellar mass and size to each of our OM10 lens galaxies, so that we can, in turn, associate a suitable `CatSim` galaxy (with appropriate SED) with that object. To do this, we will follow Tom Holoien's \"empiriciSN\" approach, and model the intrinsic distribution of lens galaxy size, stellar mass, redshift and velocity dispersion with the \"extreme deconvolution\" algorithm.\n",
    "\n",
    "\n",
    "## Requirements\n",
    "\n",
    "You will need to have installed Tom Holoien's [`XDGMM`]() and [`empiriciSN`]() packages, as well as their dependencies. \n",
    "\n",
    "> By default, in `empiricSN` all the model fitting is done with the [`AstroML`](http://www.astroml.org/index.html) XDGMM algorithm rather than the [Bovy et al. (2011)](https://github.com/jobovy/extreme-deconvolution) algorithm - for this demo you do not need to have the Bovy et al. algorithm installed to run the code. However, we note that the Bovy et al. algorithm is, in general, significantly (i.e., several times) faster. We recommend you try each method on your dataset when using this class."
   ]
  },
  {
   "cell_type": "markdown",
   "metadata": {},
   "source": [
    "** _Warning: this notebook is incomplete, having been copied and hacked from the empiriciSN demo..._ **"
   ]
  },
  {
   "cell_type": "code",
   "execution_count": 1,
   "metadata": {
    "collapsed": false
   },
   "outputs": [],
   "source": [
    "%matplotlib inline\n",
    "import numpy as np\n",
    "from matplotlib import pyplot as plt\n",
    "import corner\n",
    "import urllib\n",
    "import os\n",
    "from sklearn.cross_validation import train_test_split\n",
    "from astroML.plotting import setup_text_plots\n",
    "\n",
    "import empiriciSN\n",
    "from MatchingLensGalaxies_utilities import *"
   ]
  },
  {
   "cell_type": "markdown",
   "metadata": {},
   "source": [
    "## Empirical Strong Lens Data\n",
    "\n",
    "We'll use the SL2S sample of galaxy-scale lenses to model the properties of OM10 lenses. The redshifts and velocity dispersions should cover *most* (but not all) of the LSST lensed quasar sample in OM10.\n",
    "\n",
    "The data is in Table 3 of [Sonnenfeld et al (2013)](https://arxiv.org/abs/1307.4759), and stored as a csv format file in the Twinkles data folder. (TBC!)"
   ]
  },
  {
   "cell_type": "code",
   "execution_count": 2,
   "metadata": {
    "collapsed": false
   },
   "outputs": [],
   "source": [
    "def get_sl2s_data():\n",
    "    filename = '../../data/SonnenfeldEtal2013_Table3.csv'\n",
    "    ! wc -l $filename\n",
    "\n",
    "    z = np.array([])\n",
    "    z_err = np.array([])\n",
    "    v_disp = np.array([])\n",
    "    v_disp_err = np.array([])\n",
    "    r_eff = np.array([])\n",
    "    r_eff_err = np.array([])\n",
    "    log_m = np.array([])\n",
    "    log_m_err = np.array([])\n",
    "    \n",
    "    infile = open(filename, 'r')\n",
    "    inlines = infile.readlines()\n",
    "    \n",
    "    for line1 in inlines:\n",
    "        if line1[0] == '#': continue\n",
    "        line = line1.split(',')\n",
    "        \n",
    "        #Params\n",
    "        z = np.append(z, float(line[1]))\n",
    "        v_disp = np.append(v_disp, float(line[2]))\n",
    "        r_eff = np.append(r_eff, float(line[3]))\n",
    "        log_m = np.append(log_m, float(line[4]))\n",
    "        \n",
    "        #Errors\n",
    "        z_err = np.append(z_err, float(line[5]))\n",
    "        v_disp_err = np.append(v_disp_err, float(line[6]))\n",
    "        r_eff_err = np.append(r_eff_err, float(line[7]))\n",
    "        log_m_err = np.append(log_m_err, float(line[8]))\n",
    "    \n",
    "    #Build final arrays\n",
    "    X = np.vstack([z, v_disp, r_eff, log_m]).T\n",
    "    Xerr = np.zeros(X.shape + X.shape[-1:])\n",
    "    diag = np.arange(X.shape[-1])\n",
    "    \n",
    "    Xerr[:, diag, diag] = np.vstack([z_err**2, v_disp_err**2,\n",
    "                                    r_eff_err**2, log_m_err**2]).T\n",
    "    \n",
    "    return X, Xerr\n",
    "\n",
    "# Here's what we did to get the csv file:\n",
    "# ! echo \"ID, zlens, vdisp, Reff, Mstar, zlens_err, vdisp_err, Reff_err, Mstar_err\" > SonnenfeldEtal2013_Table3.csv  \n",
    "# ! cat gammaptable.tex | sed s%'&'%%g | sed s%'\\$'%%g | sed s%'\\\\'%%g | sed s%'pm'%'  '%g | sed s%'disky'%%g | awk '{print $1\", \"$2\", \"$5\", \"$3\", \"$7\", 0.001, \"$6\", 0.01, \"$8}' >> SonnenfeldEtal2013_Table3.csv"
   ]
  },
  {
   "cell_type": "markdown",
   "metadata": {},
   "source": [
    "## Component Test\n",
    "\n",
    "We could fit our lens galaxy dataset directly, but one problem is that we don't know the optimal number of components (Gaussians) to use in the fit. Knowing the optimal number of components to fit allows us to obtain a good fit in the smallest amount of time without overfitting the data.\n",
    "\n",
    "### BIC\n",
    "One way to determine the optimal number of Gaussian components to use in the model is by fitting the model with different numbers of components and calculating the Bayesian information criterion (BIC) for each model. The BIC incorporates the number of components in the model, the sample size, and the likelihood of the data under the model, and the model with the lowest score is the optimal model to use.\n",
    "\n",
    "We can test for the model with the lowest BIC score for a given dataset using the `component_test` function, which will compute the BIC for a given dataset and range of n_components and return an array containing all the BIC scores as well as the optimal number of components and corresponding BIC value. The code below will read in all the SN and host parameters we want to use from our data files (using the `get_data` function) and use these data to test the performance of the model with n_components ranging from 1 to 8. (Larger numbers of components tend to run into errors occurring because too few observations map to a given Gaussian component. With a bigger dataset, this range could be increased.)\n",
    "\n",
    "<Note that due to the multiple fits and the large dataset, the BIC test will likely take a while to run, depending on your system.>"
   ]
  },
  {
   "cell_type": "code",
   "execution_count": 3,
   "metadata": {
    "collapsed": true
   },
   "outputs": [],
   "source": [
    "# Instantiate an empiriciSN worker object:\n",
    "empiricist = empiriciSN.Empiricist()"
   ]
  },
  {
   "cell_type": "code",
   "execution_count": 4,
   "metadata": {
    "collapsed": false
   },
   "outputs": [
    {
     "name": "stdout",
     "output_type": "stream",
     "text": [
      "      26 ../../data/SonnenfeldEtal2013_Table3.csv\r\n"
     ]
    }
   ],
   "source": [
    "# Define the range of component numbers and read in the dataset:\n",
    "component_range = np.array([1,2,3,4,5,6,7,8])\n",
    "X, Xerr = get_sl2s_data()"
   ]
  },
  {
   "cell_type": "code",
   "execution_count": 5,
   "metadata": {
    "collapsed": false,
    "scrolled": true
   },
   "outputs": [
    {
     "name": "stdout",
     "output_type": "stream",
     "text": [
      "N = 1 , BIC = 404.677168861\n",
      "N = 2 , BIC = 410.426768575\n",
      "N = 3 , BIC = 442.266672909\n",
      "N = 4 , BIC = 453.721342959\n",
      "N = 5 , BIC = 482.677168984\n",
      "N = 6 , BIC = 513.756618877\n",
      "N = 7 , BIC = 516.102288131\n",
      "N = 8 , BIC = 549.019699888\n"
     ]
    }
   ],
   "source": [
    "# Loop over component numbers, fitting XDGMM model and computing the BIC. \n",
    "\n",
    "bics, optimal_n_comp, lowest_bic = empiricist.component_test(X, Xerr, component_range)"
   ]
  },
  {
   "cell_type": "code",
   "execution_count": 6,
   "metadata": {
    "collapsed": false,
    "scrolled": false
   },
   "outputs": [
    {
     "data": {
      "text/plain": [
       "<matplotlib.figure.Figure at 0x103c38cd0>"
      ]
     },
     "metadata": {},
     "output_type": "display_data"
    },
    {
     "data": {
      "image/png": "[encoded data removed]",
      "text/plain": [
       "<matplotlib.figure.Figure at 0x10c6ce710>"
      ]
     },
     "metadata": {},
     "output_type": "display_data"
    }
   ],
   "source": [
    "plot_bic(component_range, bics, optimal_n_comp)"
   ]
  },
  {
   "cell_type": "markdown",
   "metadata": {},
   "source": [
    "> Based on the results of the above test, the model with 1 component has the lowest BIC score and is the optimal choice.\n",
    "\n",
    "\n",
    "## Fitting a Model\n",
    "\n",
    "Once we know how many components to use in the model, we can fit a model using that number of components using the `fit_model` function. Before fitting for this demo, we are going to split our lens galaxy dataset 65-35, with the larger subsample being used to fit the model and the smaller subsample providing a test sample that we can use to predict stellar masses and compare with our predicted sample."
   ]
  },
  {
   "cell_type": "code",
   "execution_count": 7,
   "metadata": {
    "collapsed": false
   },
   "outputs": [],
   "source": [
    "# Split the dataset 65/35:\n",
    "X_train, X_test, Xerr_train, Xerr_test = \\\n",
    "    train_test_split(X, Xerr, test_size=0.35, random_state=42)\n",
    "\n",
    "# Fit the model:\n",
    "empiricist.fit_model(X_train, Xerr_train, filename = 'demo_model.fit', n_components=1)\n",
    "#empiricist.read_model('demo_model.fit')"
   ]
  },
  {
   "cell_type": "markdown",
   "metadata": {},
   "source": [
    "Note how the `fit_model` function also saves the fit to a file for later re-use. If a model has already been fit, it can be read into an existing `Empiricist` worker, or a new `Empiricist` can be instantiated using the model, like this:"
   ]
  },
  {
   "cell_type": "code",
   "execution_count": 8,
   "metadata": {
    "collapsed": false
   },
   "outputs": [
    {
     "name": "stdout",
     "output_type": "stream",
     "text": [
      "[ 1.]\n",
      "[ 1.]\n"
     ]
    }
   ],
   "source": [
    "alternative = empiriciSN.Empiricist(model_file='demo_model.fit')\n",
    "\n",
    "# Print the weights array for each object---they should be the same...\n",
    "print empiricist.XDGMM.weights\n",
    "print alternative.XDGMM.weights"
   ]
  },
  {
   "cell_type": "markdown",
   "metadata": {},
   "source": [
    "## Predicting stellar masses of lens galaxies\n",
    "\n",
    "Our goal in this notebook is to predict the stellar masses of OM10 lens galaxies. Here we use the XDGMM model we just fit on the test data we separated off from the full dataset. We will use the model to predict stellar masses of lens galaxies based upon their redshift, velocity dispersion and radial size.\n",
    "\n",
    "<The \"test\" sample generated above gives us a set of 482 host properties that we can use to fit supernovae, and a set of supernova properties to compare with our model fits.>"
   ]
  },
  {
   "cell_type": "markdown",
   "metadata": {},
   "source": [
    "First, we adapt the \"get_logR\" function from empiriciSN to \"get_log_m\" changing the references and restrictions of that method (it only allows certain columns due to structure of SN dataset it uses) to suit our strong lensing dataset."
   ]
  },
  {
   "cell_type": "code",
   "execution_count": 9,
   "metadata": {
    "collapsed": false
   },
   "outputs": [],
   "source": [
    "#Write new conditioning function\n",
    "def get_log_m(cond_indices, m_index, X, model_file, Xerr=None):\n",
    "    \n",
    "    \"\"\"\n",
    "        Uses a subset of parameters in the given data to condition the\n",
    "        model and return a sample value for log(M/M_sun).\n",
    "\n",
    "        Parameters\n",
    "        ----------\n",
    "        cond_indices: array_like\n",
    "            Array of indices indicating which parameters to use to\n",
    "            condition the model. \n",
    "        m_index: int\n",
    "            Index of log(M/M_sun) in the list of parameters that were used\n",
    "            to fit the model.\n",
    "        X: array_like, shape = (n < n_features,)\n",
    "            Input data.\n",
    "        Xerr: array_like, shape = (X.shape,) (optional)\n",
    "            Error on input data. If none, no error used to condition.\n",
    "\n",
    "        Returns\n",
    "        -------\n",
    "        log_m: float\n",
    "            Sample value of log(M/M_sun) taken from the conditioned model.\n",
    "\n",
    "        Notes\n",
    "        -----\n",
    "        The fit_params array specifies a list of indices to use to\n",
    "        condition the model. The model will be conditioned and then\n",
    "        a mass will be drawn from the conditioned model.\n",
    "\n",
    "        This is so that the mass can be used to find CATSIM galaxies\n",
    "        to act as hosts for OM10 systems.\n",
    "\n",
    "        This does not make assumptions about what parameters are being\n",
    "        used in the model, but does assume that the model has been\n",
    "        fit already.\n",
    "    \"\"\"\n",
    "\n",
    "    if m_index in cond_indices:\n",
    "        raise ValueError(\"Cannot condition model on log(M/M_sun).\")\n",
    "\n",
    "    cond_data = np.array([])\n",
    "    if Xerr is not None: cond_err = np.array([])\n",
    "    m_cond_idx = m_index\n",
    "    n_features = empiricist.XDGMM.mu.shape[1]\n",
    "    j = 0\n",
    "\n",
    "    for i in range(n_features):\n",
    "        if i in cond_indices:\n",
    "            cond_data = np.append(cond_data,X[j])\n",
    "            if Xerr is not None: cond_err = np.append(cond_err, Xerr[j])\n",
    "            j += 1\n",
    "            if i < m_index: m_cond_idx -= 1\n",
    "        else:\n",
    "            cond_data = np.append(cond_data,np.nan)\n",
    "            if Xerr is not None: cond_err = np.append(cond_err, 0.0)\n",
    "\n",
    "    if Xerr is not None:\n",
    "        cond_XDGMM = empiricist.XDGMM.condition(cond_data, cond_err)\n",
    "    else: cond_XDGMM = empiricist.XDGMM.condition(cond_data)\n",
    "\n",
    "    sample = cond_XDGMM.sample()\n",
    "    log_m = sample[0][m_cond_idx]\n",
    "    return log_m"
   ]
  },
  {
   "cell_type": "markdown",
   "metadata": {},
   "source": [
    "With that ready to go, we now use it to get estimates on the stellar mass of our test data from the model we have trained above."
   ]
  },
  {
   "cell_type": "code",
   "execution_count": 10,
   "metadata": {
    "collapsed": false
   },
   "outputs": [
    {
     "name": "stdout",
     "output_type": "stream",
     "text": [
      "11.24 11.0627197691\n",
      "12.1 12.6407859065\n",
      "11.45 11.7476146494\n",
      "10.99 10.9755607515\n",
      "11.14 11.8033402031\n",
      "11.63 11.7689411067\n",
      "11.55 11.7048224725\n",
      "11.97 12.5164037916\n",
      "11.51 11.9771627646\n"
     ]
    }
   ],
   "source": [
    "# Get actual masses from dataset, for comparison:\n",
    "log_m_test = X_test[:,3]\n",
    "\n",
    "# Predict a mass for each galaxy:\n",
    "np.random.seed(0)\n",
    "cond_indices = np.array([0,1,2])\n",
    "sample_log_m = np.array([])\n",
    "\n",
    "model_file='demo_model.fit'\n",
    "\n",
    "for x, xerr in zip(X_test, Xerr_test):\n",
    "    log_m = get_log_m(cond_indices, 3, x[cond_indices], model_file, Xerr=xerr)\n",
    "    sample_log_m = np.append(sample_log_m,log_m)\n",
    "    print x[3], log_m"
   ]
  },
  {
   "cell_type": "markdown",
   "metadata": {},
   "source": [
    "Now we have a set of test masses in units of log(M/M_sun) and a set of masses sampled from the model. These should have the same distribution when plotted."
   ]
  },
  {
   "cell_type": "code",
   "execution_count": 11,
   "metadata": {
    "collapsed": false
   },
   "outputs": [
    {
     "data": {
      "image/png": "[encoded data removed]",
      "text/plain": [
       "<matplotlib.figure.Figure at 0x103c38890>"
      ]
     },
     "metadata": {},
     "output_type": "display_data"
    }
   ],
   "source": [
    "plt.hist(log_m_test, 10, range=(9.5, 14.5), histtype='step')\n",
    "plt.hist(sample_log_m, 10, range=(9.5, 14.5), color ='r', histtype='step')\n",
    "plt.xlabel('Log(M/M_{sun})')\n",
    "plt.show()"
   ]
  },
  {
   "cell_type": "code",
   "execution_count": null,
   "metadata": {
    "collapsed": false
   },
   "outputs": [],
   "source": [
    "#### Once above is correct we will bring in OM10 systems."
   ]
  },
  {
   "cell_type": "code",
   "execution_count": null,
   "metadata": {
    "collapsed": false
   },
   "outputs": [],
   "source": [
    "#plot_separation(log_m_test,sample_log_m)"
   ]
  },
  {
   "cell_type": "markdown",
   "metadata": {},
   "source": [
    "This predicted radial positions are in fairly good agreement with the training set. \n",
    "\n",
    "> With different training/test splits, the predicted distribution can be seen to move around a little within its width, as expected.\n",
    "\n",
    "\n",
    "### Calculating Local Surface Brightness\n",
    "\n",
    "Now that we have locations for each test SN, we can calculate the local surface brightness based on the appropriate surface brightness profile (Exponential or de Vaucouleurs) and the host magnitude and effective radius in each filter.\n",
    "\n",
    "In order to save space here, the actual surface brightness calculation is done in the `get_local_SB` function in the accompanying `demo_funcs` file."
   ]
  },
  {
   "cell_type": "code",
   "execution_count": null,
   "metadata": {
    "collapsed": false
   },
   "outputs": [],
   "source": [
    "local_SB = []\n",
    "local_SB_err = []\n",
    "\n",
    "for i in range(len(R_param_test)):\n",
    "    SB, SB_err = empiricist.get_local_SB(R_param_test[i],sample_logR[i])\n",
    "    local_SB.append(SB)\n",
    "    local_SB_err.append(SB_err)\n",
    "\n",
    "local_SB = np.array(local_SB)\n",
    "local_SB_err = np.array(local_SB_err)"
   ]
  },
  {
   "cell_type": "markdown",
   "metadata": {},
   "source": [
    "### Predicting Supernova Parameters\n",
    "\n",
    "Now that we have the local surface brightnesses and separations, we can generate supernova parameters using our full range of host parameters (redshift, separation, colors, and local surface brightnesses). \n",
    "\n",
    "First, let's plot the distributions of supernova parameters in our test sample."
   ]
  },
  {
   "cell_type": "code",
   "execution_count": null,
   "metadata": {
    "collapsed": false
   },
   "outputs": [],
   "source": [
    "setup_text_plots(fontsize=16, usetex=True)\n",
    "figure = corner.corner(X_test[:,0:3], labels=['$x_0$','$x_1$','c'],range=[(-0.0001,0.0003),(-4.7,5.0),(-0.5,0.5)])"
   ]
  },
  {
   "cell_type": "markdown",
   "metadata": {},
   "source": [
    "Next we will use our host properties to predict a supernova for each host, then plot those with the test sample. Ideally, these distributions should be the same as those from the test sample."
   ]
  },
  {
   "cell_type": "code",
   "execution_count": null,
   "metadata": {
    "collapsed": false
   },
   "outputs": [],
   "source": [
    "# Set up an array to contain the new supernova properties:\n",
    "n_Hosts = len(sample_logR)\n",
    "sample_SNe = np.zeros([n_Hosts,3])\n",
    "\n",
    "np.random.seed(10)\n",
    "\n",
    "# Loop over host galaxies, conditioning on each one's properties and drawing one supernova:\n",
    "for i in range(n_Hosts):\n",
    "    \n",
    "    x = np.append(X_test[i][3],sample_logR[i])\n",
    "    x = np.append(x,X_test[i][5:15])\n",
    "    x = np.append(x,local_SB[i])\n",
    "    x = np.append(np.array([np.nan,np.nan,np.nan]),x)\n",
    "    \n",
    "    xerr = np.append(np.array([0.0,0.0,0.0]),Xerr_test[i,3,3])\n",
    "    xerr = np.append(xerr,0.0)\n",
    "    for j in range(5,15):\n",
    "        xerr = np.append(xerr,Xerr_test[i,j,j])\n",
    "    xerr = np.append(xerr,local_SB_err[i])\n",
    "    \n",
    "    sample_SNe[i] = empiricist.get_SN(x, Xerr=xerr, n_SN=1)"
   ]
  },
  {
   "cell_type": "code",
   "execution_count": null,
   "metadata": {
    "collapsed": false
   },
   "outputs": [],
   "source": [
    "# Plot the SNe parameters:\n",
    "corner.corner(sample_SNe[:,0:3], labels=['$x_0$','$x_1$','c'], color='red',\n",
    "                                 fig=figure, range=[(-0.0001,0.0003),(-4.7,5.0),(-0.5,0.5)])"
   ]
  },
  {
   "cell_type": "markdown",
   "metadata": {},
   "source": [
    "Not too bad overall. Given a larger test sample, this would likely look a bit better, but we are dealing with fairly small sample sizes.\n",
    "\n",
    "Finally, let's take a look at the distribution of properties for a single radius in a single host galaxy. By sampling 1000 different supernovae at that position, we can see how the model has been conditioned to that host. We should see a significantly different distribution of supernova parameters from the previous plot, if supernova properties depend on either their positions within their hosts, or their host's properties, or both."
   ]
  },
  {
   "cell_type": "code",
   "execution_count": null,
   "metadata": {
    "collapsed": true
   },
   "outputs": [],
   "source": [
    "# Choose one (host galaxy, radial position) combination:\n",
    "i = 10\n",
    "\n",
    "np.random.seed(10)\n",
    "\n",
    "# Set up the conditioning data:\n",
    "x = np.append(X_test[i][3], sample_logR[i])\n",
    "x = np.append(x, X_test[i][5:15])\n",
    "x = np.append(x, local_SB[i])\n",
    "x = np.append(np.array([np.nan, np.nan, np.nan]), x)\n",
    "\n",
    "xerr = np.append(np.array([0.0,0.0,0.0]), Xerr_test[i,3,3])\n",
    "xerr = np.append(xerr, 0.0)\n",
    "for j in range(5,15):\n",
    "    xerr = np.append(xerr, Xerr_test[i,j,j])\n",
    "xerr = np.append(xerr, local_SB_err[i])\n",
    "\n",
    "# Draw a thousand SNe:\n",
    "sample_SNe = empiricist.get_SN(x, Xerr=xerr, n_SN=1000)"
   ]
  },
  {
   "cell_type": "code",
   "execution_count": null,
   "metadata": {
    "collapsed": false
   },
   "outputs": [],
   "source": [
    "# Plot the SNe parameters:\n",
    "corner.corner(sample_SNe[:,0:3], labels=['$x_0$','$x_1$','c'], color='blue',\n",
    "                                 fig=figure, range=[(-0.0001,0.0003),(-4.7,5.0),(-0.5,0.5)])"
   ]
  },
  {
   "cell_type": "markdown",
   "metadata": {},
   "source": [
    "As we can see, the distributions for the various properties can be quite different for a single position in a single host than what they are for the full sample: where the supernova happens, matters."
   ]
  }
 ],
 "metadata": {
  "anaconda-cloud": {},
  "kernelspec": {
   "display_name": "Python 2",
   "language": "python",
   "name": "python2"
  },
  "language_info": {
   "codemirror_mode": {
    "name": "ipython",
    "version": 2
   },
   "file_extension": ".py",
   "mimetype": "text/x-python",
   "name": "python",
   "nbconvert_exporter": "python",
   "pygments_lexer": "ipython2",
   "version": "2.7.12"
  }
 },
 "nbformat": 4,
 "nbformat_minor": 0
}
