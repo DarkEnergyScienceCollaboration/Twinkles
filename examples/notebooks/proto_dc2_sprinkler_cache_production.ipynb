{
 "cells": [
  {
   "cell_type": "markdown",
   "metadata": {},
   "source": [
    "This is a notebook to produce the cached AGN and SN galaxy_id lists for DC2 Run 1.1."
   ]
  },
  {
   "cell_type": "code",
   "execution_count": 1,
   "metadata": {},
   "outputs": [],
   "source": [
    "import pandas as pd\n",
    "from astropy.io import fits\n",
    "import numpy as np\n",
    "from desc.twinkles import sprinkler\n",
    "from lsst.sims.utils import SpecMap\n",
    "import matplotlib.pyplot as plt\n",
    "%matplotlib inline"
   ]
  },
  {
   "cell_type": "code",
   "execution_count": 2,
   "metadata": {},
   "outputs": [],
   "source": [
    "spr = sprinkler('descqa_compound_cat.txt', 1000.0, SpecMap)"
   ]
  },
  {
   "cell_type": "code",
   "execution_count": 3,
   "metadata": {},
   "outputs": [],
   "source": [
    "uddf_df = pd.read_csv('descqa_compound_cat.txt')"
   ]
  },
  {
   "cell_type": "code",
   "execution_count": 4,
   "metadata": {},
   "outputs": [
    {
     "name": "stderr",
     "output_type": "stream",
     "text": [
      "/global/common/software/lsst/common/miniconda/py3-4.2.12/lib/python3.6/site-packages/ipykernel/__main__.py:6: SettingWithCopyWarning: \n",
      "A value is trying to be set on a copy of a slice from a DataFrame.\n",
      "Try using .loc[row_indexer,col_indexer] = value instead\n",
      "\n",
      "See the caveats in the documentation: http://pandas.pydata.org/pandas-docs/stable/indexing.html#indexing-view-versus-copy\n"
     ]
    }
   ],
   "source": [
    "density_param = 0.76\n",
    "agn_obj = uddf_df.query('objid == 117')\n",
    "new_col = list(agn_obj.columns)\n",
    "new_col[6] = 'mag_norm'\n",
    "agn_obj.columns = new_col\n",
    "agn_obj['mag_norm'] = np.array(agn_obj['mag_norm'].values, dtype=np.float)\n",
    "agn_obj_bright = agn_obj.query('mag_norm < 30.')\n",
    "agn_obj_bright = agn_obj_bright.reset_index(drop=True)"
   ]
  },
  {
   "cell_type": "code",
   "execution_count": 5,
   "metadata": {},
   "outputs": [
    {
     "data": {
      "text/plain": [
       "['uniqueId',\n",
       " 'objid',\n",
       " 'galaxy_id',\n",
       " 'raJ2000',\n",
       " 'decJ2000',\n",
       " 'redshift',\n",
       " 'mag_norm']"
      ]
     },
     "execution_count": 5,
     "metadata": {},
     "output_type": "execute_result"
    }
   ],
   "source": [
    "list(agn_obj.columns)"
   ]
  },
  {
   "cell_type": "code",
   "execution_count": 10,
   "metadata": {},
   "outputs": [
    {
     "name": "stdout",
     "output_type": "stream",
     "text": [
      "1052571 94067 3157713\n"
     ]
    }
   ],
   "source": [
    "print(len(agn_obj), len(agn_obj_bright), len(np.unique(uddf_df['uniqueId'])), agn_ob)"
   ]
  },
  {
   "cell_type": "code",
   "execution_count": 34,
   "metadata": {},
   "outputs": [],
   "source": [
    "no_agn = agn_obj.iloc[np.where(np.isnan(agn_obj['mag_norm'].values))[0]]"
   ]
  },
  {
   "cell_type": "code",
   "execution_count": 88,
   "metadata": {},
   "outputs": [],
   "source": [
    "def find_agn_lens_candidates(galz, gal_mag):\n",
    "        # search the OM10 catalog for all sources +- 0.1 dex in redshift                                                                                               \n",
    "        # and within .25 mags of the CATSIM source                                                                                                                     \n",
    "    w = np.where((np.abs(np.log10(spr.lenscat['ZSRC']) - np.log10(galz)) <= 0.1) &\n",
    "                     (np.abs(np.array(spr.src_mag_norm) - gal_mag) <= .3))[0]\n",
    "    lens_candidates = spr.lenscat[w]\n",
    "\n",
    "    return lens_candidates"
   ]
  },
  {
   "cell_type": "code",
   "execution_count": 90,
   "metadata": {},
   "outputs": [
    {
     "name": "stdout",
     "output_type": "stream",
     "text": [
      "0\n",
      "5000\n",
      "10000\n",
      "15000\n",
      "20000\n",
      "25000\n",
      "30000\n",
      "35000\n",
      "40000\n",
      "45000\n",
      "50000\n",
      "55000\n",
      "60000\n",
      "65000\n",
      "70000\n",
      "75000\n",
      "80000\n",
      "85000\n",
      "90000\n"
     ]
    }
   ],
   "source": [
    "good_rows = []\n",
    "ra_list = []\n",
    "dec_list = []\n",
    "gal_ids = []\n",
    "sys_ids = []\n",
    "for idx, row in agn_obj_bright.iterrows():\n",
    "    if idx % 5000 == 0:\n",
    "        print(idx)\n",
    "    if not np.isnan(row['mag_norm']):\n",
    "        if (52.495 < row['raJ2000'] < 53.755) and (-28.65 < row['decJ2000'] < -27.55):\n",
    "            candidates = find_agn_lens_candidates(row['redshift'], row['mag_norm'])\n",
    "            np.random.seed(np.int(row['galaxy_id']))\n",
    "            pick_value = np.random.uniform()\n",
    "            if ((len(candidates) > 0) and (pick_value <= density_param)):\n",
    "                good_rows.append(idx)\n",
    "                candidates = candidates[np.argsort(candidates['twinklesId'])]\n",
    "                gal_ids.append(row['galaxy_id'])\n",
    "                newlens = np.random.choice(candidates)\n",
    "                sys_ids.append(newlens['twinklesId'])\n",
    "                ra_list.append(row['raJ2000'])\n",
    "                dec_list.append(row['decJ2000'])"
   ]
  },
  {
   "cell_type": "code",
   "execution_count": 91,
   "metadata": {},
   "outputs": [
    {
     "data": {
      "text/plain": [
       "1028"
      ]
     },
     "execution_count": 91,
     "metadata": {},
     "output_type": "execute_result"
    }
   ],
   "source": [
    "len(good_rows)"
   ]
  },
  {
   "cell_type": "code",
   "execution_count": 62,
   "metadata": {},
   "outputs": [],
   "source": [
    "import matplotlib as mpl\n",
    "mpl.rcParams['text.usetex'] = False"
   ]
  },
  {
   "cell_type": "code",
   "execution_count": 107,
   "metadata": {},
   "outputs": [
    {
     "name": "stderr",
     "output_type": "stream",
     "text": [
      "/global/common/software/lsst/common/miniconda/py3-4.2.12/lib/python3.6/site-packages/matplotlib/font_manager.py:1297: UserWarning: findfont: Font family ['serif'] not found. Falling back to DejaVu Sans\n",
      "  (prop.get_family(), self.defaultFamily[fontext]))\n"
     ]
    },
    {
     "data": {
      "image/png": "[encoded data removed]",
      "text/plain": [
       "<matplotlib.figure.Figure at 0x2b22eb179358>"
      ]
     },
     "metadata": {},
     "output_type": "display_data"
    }
   ],
   "source": [
    "plt.scatter(ra_list, dec_list, s=6)\n",
    "plt.plot((52.486, 53.764), (-27.533, -27.533))\n",
    "plt.plot((52.479, 53.771), (-28.667, -28.667))\n",
    "plt.plot((52.479, 52.486), (-28.667, -27.533))\n",
    "plt.plot((53.771, 53.764), (-28.667, -27.533))\n",
    "plt.xlabel(r'ra')\n",
    "plt.ylabel(r'dec')\n",
    "plt.title('AGN Cache Locations')\n",
    "plt.savefig('agn_cache.png')"
   ]
  },
  {
   "cell_type": "code",
   "execution_count": 94,
   "metadata": {},
   "outputs": [],
   "source": [
    "agn_cache = pd.DataFrame(np.array([gal_ids, sys_ids], dtype=np.int).T, columns=['galtileid', 'twinkles_system'])"
   ]
  },
  {
   "cell_type": "code",
   "execution_count": 95,
   "metadata": {},
   "outputs": [],
   "source": [
    "agn_cache.to_csv('dc2_agn_cache.csv', index=False)"
   ]
  },
  {
   "cell_type": "code",
   "execution_count": 25,
   "metadata": {},
   "outputs": [
    {
     "name": "stdout",
     "output_type": "stream",
     "text": [
      "1052571\n"
     ]
    }
   ],
   "source": [
    "bulge_obj = uddf_df.query('objid == 97')\n",
    "print(len(bulge_obj))\n",
    "bulge_obj = bulge_obj.reset_index(drop=True)"
   ]
  },
  {
   "cell_type": "code",
   "execution_count": 96,
   "metadata": {},
   "outputs": [],
   "source": [
    "sne_density = 0.055"
   ]
  },
  {
   "cell_type": "code",
   "execution_count": 89,
   "metadata": {},
   "outputs": [],
   "source": [
    "bulge_no_agn = pd.merge(bulge_obj, no_agn, on='galaxy_id',suffixes=('', '_y'))"
   ]
  },
  {
   "cell_type": "code",
   "execution_count": 90,
   "metadata": {},
   "outputs": [
    {
     "data": {
      "text/html": [
       "<div>\n",
       "<style>\n",
       "    .dataframe thead tr:only-child th {\n",
       "        text-align: right;\n",
       "    }\n",
       "\n",
       "    .dataframe thead th {\n",
       "        text-align: left;\n",
       "    }\n",
       "\n",
       "    .dataframe tbody tr th {\n",
       "        vertical-align: top;\n",
       "    }\n",
       "</style>\n",
       "<table border=\"1\" class=\"dataframe\">\n",
       "  <thead>\n",
       "    <tr style=\"text-align: right;\">\n",
       "      <th></th>\n",
       "      <th>uniqueId</th>\n",
       "      <th>objid</th>\n",
       "      <th>galaxy_id</th>\n",
       "      <th>raJ2000</th>\n",
       "      <th>decJ2000</th>\n",
       "      <th>redshift</th>\n",
       "      <th>minorAxis</th>\n",
       "      <th>uniqueId_y</th>\n",
       "      <th>objid_y</th>\n",
       "      <th>raJ2000_y</th>\n",
       "      <th>decJ2000_y</th>\n",
       "      <th>redshift_y</th>\n",
       "      <th>mag_norm</th>\n",
       "    </tr>\n",
       "  </thead>\n",
       "  <tbody>\n",
       "    <tr>\n",
       "      <th>0</th>\n",
       "      <td>5374049</td>\n",
       "      <td>97</td>\n",
       "      <td>5248</td>\n",
       "      <td>52.3605</td>\n",
       "      <td>-28.5893</td>\n",
       "      <td>0.6375</td>\n",
       "      <td>0.0000</td>\n",
       "      <td>5374069</td>\n",
       "      <td>117</td>\n",
       "      <td>52.3605</td>\n",
       "      <td>-28.5893</td>\n",
       "      <td>0.6375</td>\n",
       "      <td>NaN</td>\n",
       "    </tr>\n",
       "    <tr>\n",
       "      <th>1</th>\n",
       "      <td>5408865</td>\n",
       "      <td>97</td>\n",
       "      <td>5282</td>\n",
       "      <td>52.5210</td>\n",
       "      <td>-28.5538</td>\n",
       "      <td>0.6276</td>\n",
       "      <td>0.2201</td>\n",
       "      <td>5408885</td>\n",
       "      <td>117</td>\n",
       "      <td>52.5210</td>\n",
       "      <td>-28.5538</td>\n",
       "      <td>0.6276</td>\n",
       "      <td>NaN</td>\n",
       "    </tr>\n",
       "    <tr>\n",
       "      <th>2</th>\n",
       "      <td>5415009</td>\n",
       "      <td>97</td>\n",
       "      <td>5288</td>\n",
       "      <td>52.3631</td>\n",
       "      <td>-28.6025</td>\n",
       "      <td>0.6375</td>\n",
       "      <td>0.0000</td>\n",
       "      <td>5415029</td>\n",
       "      <td>117</td>\n",
       "      <td>52.3631</td>\n",
       "      <td>-28.6025</td>\n",
       "      <td>0.6375</td>\n",
       "      <td>NaN</td>\n",
       "    </tr>\n",
       "    <tr>\n",
       "      <th>3</th>\n",
       "      <td>5422177</td>\n",
       "      <td>97</td>\n",
       "      <td>5295</td>\n",
       "      <td>52.3586</td>\n",
       "      <td>-28.5956</td>\n",
       "      <td>0.6375</td>\n",
       "      <td>0.0000</td>\n",
       "      <td>5422197</td>\n",
       "      <td>117</td>\n",
       "      <td>52.3586</td>\n",
       "      <td>-28.5956</td>\n",
       "      <td>0.6375</td>\n",
       "      <td>NaN</td>\n",
       "    </tr>\n",
       "    <tr>\n",
       "      <th>4</th>\n",
       "      <td>5427297</td>\n",
       "      <td>97</td>\n",
       "      <td>5300</td>\n",
       "      <td>52.5165</td>\n",
       "      <td>-28.5499</td>\n",
       "      <td>0.6276</td>\n",
       "      <td>0.0000</td>\n",
       "      <td>5427317</td>\n",
       "      <td>117</td>\n",
       "      <td>52.5165</td>\n",
       "      <td>-28.5499</td>\n",
       "      <td>0.6276</td>\n",
       "      <td>NaN</td>\n",
       "    </tr>\n",
       "  </tbody>\n",
       "</table>\n",
       "</div>"
      ],
      "text/plain": [
       "   uniqueId  objid  galaxy_id  raJ2000  decJ2000  redshift minorAxis  \\\n",
       "0   5374049     97       5248  52.3605  -28.5893    0.6375    0.0000   \n",
       "1   5408865     97       5282  52.5210  -28.5538    0.6276    0.2201   \n",
       "2   5415009     97       5288  52.3631  -28.6025    0.6375    0.0000   \n",
       "3   5422177     97       5295  52.3586  -28.5956    0.6375    0.0000   \n",
       "4   5427297     97       5300  52.5165  -28.5499    0.6276    0.0000   \n",
       "\n",
       "   uniqueId_y  objid_y  raJ2000_y  decJ2000_y  redshift_y  mag_norm  \n",
       "0     5374069      117    52.3605    -28.5893      0.6375       NaN  \n",
       "1     5408885      117    52.5210    -28.5538      0.6276       NaN  \n",
       "2     5415029      117    52.3631    -28.6025      0.6375       NaN  \n",
       "3     5422197      117    52.3586    -28.5956      0.6375       NaN  \n",
       "4     5427317      117    52.5165    -28.5499      0.6276       NaN  "
      ]
     },
     "execution_count": 90,
     "metadata": {},
     "output_type": "execute_result"
    }
   ],
   "source": [
    "bulge_no_agn.head()"
   ]
  },
  {
   "cell_type": "code",
   "execution_count": 97,
   "metadata": {},
   "outputs": [
    {
     "name": "stdout",
     "output_type": "stream",
     "text": [
      "0 52.3605 -28.5893\n",
      "10000 53.9636 -28.0065\n",
      "20000 53.3187 -27.9654\n",
      "30000 53.2187 -28.114\n",
      "40000 53.1793 -27.8454\n"
     ]
    }
   ],
   "source": [
    "good_rows_sn = []\n",
    "gal_ids_sn = []\n",
    "sys_ids_sn = []\n",
    "used_systems = []\n",
    "ra_list_sn = []\n",
    "dec_list_sn = []\n",
    "total_unique_sys = len(np.unique(spr.sne_catalog['twinkles_sysno']))\n",
    "for idx, row in bulge_no_agn.iterrows():\n",
    "    if idx % 10000 == 0:\n",
    "        print(idx, row['raJ2000'], row['decJ2000'])\n",
    "    if (52.495 < row['raJ2000'] < 53.755) and (-28.65 < row['decJ2000'] < -27.55):\n",
    "        lens_sne_candidates = spr.find_sne_lens_candidates(row['redshift'])\n",
    "        candidate_sysno = np.unique(lens_sne_candidates['twinkles_sysno'])\n",
    "        num_candidates = len(candidate_sysno)\n",
    "        if num_candidates == 0:\n",
    "            continue\n",
    "        np.random.seed(np.int(row['galaxy_id']))\n",
    "        pick_value = np.random.uniform()\n",
    "        if pick_value <= sne_density:\n",
    "            used_already = np.array([sys_num in used_systems for sys_num in candidate_sysno])\n",
    "            unused_sysno = candidate_sysno[~used_already]\n",
    "            if len(unused_sysno) == 0:\n",
    "                continue\n",
    "            use_system = np.random.choice(unused_sysno)\n",
    "            good_rows_sn.append(idx)\n",
    "            gal_ids_sn.append(row['galaxy_id'])\n",
    "            sys_ids_sn.append(use_system)\n",
    "            ra_list_sn.append(row['raJ2000'])\n",
    "            dec_list_sn.append(row['decJ2000'])\n",
    "            used_systems.append(use_system)\n",
    "            if len(used_systems) == total_unique_sys:\n",
    "                break"
   ]
  },
  {
   "cell_type": "code",
   "execution_count": 98,
   "metadata": {},
   "outputs": [
    {
     "data": {
      "text/plain": [
       "(953, 953, 953)"
      ]
     },
     "execution_count": 98,
     "metadata": {},
     "output_type": "execute_result"
    }
   ],
   "source": [
    "len(good_rows_sn), len(ra_list_sn), total_unique_sys"
   ]
  },
  {
   "cell_type": "code",
   "execution_count": 99,
   "metadata": {},
   "outputs": [
    {
     "name": "stderr",
     "output_type": "stream",
     "text": [
      "/global/common/software/lsst/common/miniconda/py3-4.2.12/lib/python3.6/site-packages/matplotlib/font_manager.py:1297: UserWarning: findfont: Font family ['serif'] not found. Falling back to DejaVu Sans\n",
      "  (prop.get_family(), self.defaultFamily[fontext]))\n"
     ]
    },
    {
     "data": {
      "image/png": "[encoded data removed]",
      "text/plain": [
       "<matplotlib.figure.Figure at 0x2b7c7c47bef0>"
      ]
     },
     "metadata": {},
     "output_type": "display_data"
    }
   ],
   "source": [
    "plt.scatter(ra_list_sn, dec_list_sn, s=6)\n",
    "plt.plot((52.486, 53.764), (-27.533, -27.533))\n",
    "plt.plot((52.479, 53.771), (-28.667, -28.667))\n",
    "plt.plot((52.479, 52.486), (-28.667, -27.533))\n",
    "plt.plot((53.771, 53.764), (-28.667, -27.533))\n",
    "plt.xlabel('ra')\n",
    "plt.ylabel('dec')\n",
    "plt.title('SN Cache Locations')\n",
    "plt.savefig('sne_cache.png')"
   ]
  },
  {
   "cell_type": "code",
   "execution_count": 100,
   "metadata": {},
   "outputs": [],
   "source": [
    "sne_cache = pd.DataFrame(np.array([gal_ids_sn, sys_ids_sn], dtype=np.int).T, columns=['galtileid', 'twinkles_system'])"
   ]
  },
  {
   "cell_type": "code",
   "execution_count": 101,
   "metadata": {},
   "outputs": [],
   "source": [
    "sne_cache.to_csv('dc2_sne_cache.csv', index=False)"
   ]
  },
  {
   "cell_type": "code",
   "execution_count": 102,
   "metadata": {},
   "outputs": [
    {
     "data": {
      "text/plain": [
       "<matplotlib.text.Text at 0x2b7cb6ade1d0>"
      ]
     },
     "execution_count": 102,
     "metadata": {},
     "output_type": "execute_result"
    },
    {
     "name": "stderr",
     "output_type": "stream",
     "text": [
      "/global/common/software/lsst/common/miniconda/py3-4.2.12/lib/python3.6/site-packages/matplotlib/font_manager.py:1297: UserWarning: findfont: Font family ['serif'] not found. Falling back to DejaVu Sans\n",
      "  (prop.get_family(), self.defaultFamily[fontext]))\n"
     ]
    },
    {
     "data": {
      "image/png": "[encoded data removed]",
      "text/plain": [
       "<matplotlib.figure.Figure at 0x2b7c7b65e4e0>"
      ]
     },
     "metadata": {},
     "output_type": "display_data"
    }
   ],
   "source": [
    "plt.scatter(uddf_df['raJ2000'], uddf_df['decJ2000'])\n",
    "plt.plot((52.486, 53.764), (-27.533, -27.533), c='r')\n",
    "plt.plot((52.479, 53.771), (-28.667, -28.667), c='r')\n",
    "plt.plot((52.479, 52.486), (-28.667, -27.533), c='r')\n",
    "plt.plot((53.771, 53.764), (-28.667, -27.533), c='r')\n",
    "plt.xlabel('ra')\n",
    "plt.ylabel('dec')"
   ]
  },
  {
   "cell_type": "code",
   "execution_count": null,
   "metadata": {},
   "outputs": [],
   "source": []
  }
 ],
 "metadata": {
  "kernelspec": {
   "display_name": "lsst",
   "language": "python",
   "name": "lsst"
  },
  "language_info": {
   "codemirror_mode": {
    "name": "ipython",
    "version": 3
   },
   "file_extension": ".py",
   "mimetype": "text/x-python",
   "name": "python",
   "nbconvert_exporter": "python",
   "pygments_lexer": "ipython3",
   "version": "3.6.2"
  }
 },
 "nbformat": 4,
 "nbformat_minor": 2
}
