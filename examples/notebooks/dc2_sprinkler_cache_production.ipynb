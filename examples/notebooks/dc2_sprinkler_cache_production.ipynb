{
 "cells": [
  {
   "cell_type": "markdown",
   "metadata": {},
   "source": [
    "# Produce Cached `galaxy_ids` for DC2\n",
    "\n",
    "_Last Updated: Bryce Kalmbach, August 2018_\n",
    "\n",
    "This is a notebook to produce the cached AGN and SN galaxy_id lists for DC2 Run 2. In this notebook we match the source AGN and SNe galaxies to objects in the galaxy catalogs."
   ]
  },
  {
   "cell_type": "code",
   "execution_count": 21,
   "metadata": {},
   "outputs": [],
   "source": [
    "import pandas as pd\n",
    "from astropy.io import fits\n",
    "import numpy as np\n",
    "from desc.sims.GCRCatSimInterface import InstanceCatalogWriter\n",
    "from lsst.sims.utils import SpecMap\n",
    "import matplotlib.pyplot as plt\n",
    "from lsst.utils import getPackageDir\n",
    "from lsst.sims.photUtils import Sed, BandpassDict, Bandpass\n",
    "from lsst.sims.catUtils.matchSED import matchBase\n",
    "%matplotlib inline"
   ]
  },
  {
   "cell_type": "markdown",
   "metadata": {},
   "source": [
    "### Create an unsprinkled Instance Catalog \n",
    "\n",
    "This is to get the possible AGN and Bulge galaxies to replace with the sprinkler\n",
    "\n",
    "**NOTE: Just to show proof of concept for review I have used protoDC2 here even though I created new OM10 and GLSNe catalogs with cosmoDC2. That means that some issues due to redshift in protoDC2 being cutoff at z=1 are present but I have noted those below.**"
   ]
  },
  {
   "cell_type": "code",
   "execution_count": 2,
   "metadata": {},
   "outputs": [],
   "source": [
    "# First we need to create a catalog without sprinkling\n",
    "opsimDB = '/global/projecta/projectdirs/lsst/groups/SSim/DC2/minion_1016_desc_dithered_v4.db'\n",
    "agnDB = '/global/projecta/projectdirs/lsst/groups/SSim/DC2/agn_db_mbh_7.0_m_i_30.0_gcr_protodc2_v3.db'\n",
    "\n",
    "t_sky = InstanceCatalogWriter(opsimDB, 'proto-dc2_v3.0', min_mag=30, protoDC2_ra=55.064,\n",
    "                              protoDC2_dec=-29.783, sprinkler=False,\n",
    "                              agn_db_name=agnDB)"
   ]
  },
  {
   "cell_type": "code",
   "execution_count": 3,
   "metadata": {},
   "outputs": [
    {
     "name": "stderr",
     "output_type": "stream",
     "text": [
      "WARNING: ErfaWarning: ERFA function \"utcut1\" yielded 1 of \"dubious year (Note 3)\" [astropy._erfa.core]\n",
      "/global/common/software/lsst/cori-haswell-gcc/stack/w.2018.19_sim2.8.0/stack/miniconda3-4.3.21-10a4fa6/Linux64/sims_catUtils/2.8.0.sims/python/lsst/sims/catUtils/mixins/VariabilityMixin.py:852: RuntimeWarning: divide by zero encountered in true_divide\n",
      "  dd = _au_to_parsec/parallax\n",
      "/global/homes/b/brycek/DC2/gcr-catalogs/GCRCatalogs/alphaq.py:40: RuntimeWarning: divide by zero encountered in true_divide\n",
      "  Rv = np.log10(v) / np.log10(bv)\n",
      "/global/homes/b/brycek/DC2/gcr-catalogs/GCRCatalogs/alphaq.py:40: RuntimeWarning: invalid value encountered in true_divide\n",
      "  Rv = np.log10(v) / np.log10(bv)\n",
      "/global/homes/b/brycek/DC2/gcr-catalogs/GCRCatalogs/alphaq.py:47: RuntimeWarning: divide by zero encountered in log10\n",
      "  Av = -2.5*(np.log10(lum_v_dust/lum_v))\n",
      "/global/homes/b/brycek/DC2/gcr-catalogs/GCRCatalogs/alphaq.py:39: RuntimeWarning: divide by zero encountered in true_divide\n",
      "  bv = b/v\n",
      "/global/homes/b/brycek/DC2/gcr-catalogs/GCRCatalogs/alphaq.py:39: RuntimeWarning: invalid value encountered in true_divide\n",
      "  bv = b/v\n",
      "/global/homes/b/brycek/DC2/gcr-catalogs/GCRCatalogs/alphaq.py:40: RuntimeWarning: divide by zero encountered in log10\n",
      "  Rv = np.log10(v) / np.log10(bv)\n"
     ]
    }
   ],
   "source": [
    "uddf_visit = 197356 # Use a visit we know covers the uDDF field\n",
    "t_sky.write_catalog(uddf_visit, fov=1.4)"
   ]
  },
  {
   "cell_type": "markdown",
   "metadata": {},
   "source": [
    "### Load in the AGN and Bulge catalogs as dataframes"
   ]
  },
  {
   "cell_type": "code",
   "execution_count": 4,
   "metadata": {},
   "outputs": [],
   "source": [
    "base_columns = ['prefix', 'uniqueId', 'raPhoSim', 'decPhoSim',\n",
    "                        'phosimMagNorm', 'sedFilepath', 'redshift',\n",
    "                        'shear1', 'shear2', 'kappa', 'raOffset', 'decOffset',\n",
    "                        'spatialmodel']\n",
    "df_galaxy = pd.read_csv('bulge_gal_cat_197356.txt.gz',\n",
    "                                delimiter=' ', header=None,\n",
    "                                names=base_columns+['majorAxis', 'minorAxis',\n",
    "                                                    'positionAngle', 'sindex',\n",
    "                                                    'internalExtinctionModel',\n",
    "                                                    'internalAv', 'internalRv',\n",
    "                                                    'galacticExtinctionModel',\n",
    "                                                    'galacticAv', 'galacticRv'])\n",
    "df_agn = pd.read_csv('agn_gal_cat_197356.txt.gz',\n",
    "                                 delimiter=' ', header=None,\n",
    "                                 names=base_columns+['internalExtinctionModel',\n",
    "                                                     'galacticExtinctionModel',\n",
    "                                                     'galacticAv', 'galacticRv'])\n"
   ]
  },
  {
   "cell_type": "code",
   "execution_count": 5,
   "metadata": {},
   "outputs": [],
   "source": [
    "df_agn['galaxy_id'] = np.right_shift(df_agn['uniqueId'], 10)"
   ]
  },
  {
   "cell_type": "code",
   "execution_count": 6,
   "metadata": {},
   "outputs": [
    {
     "data": {
      "text/html": [
       "<div>\n",
       "<style>\n",
       "    .dataframe thead tr:only-child th {\n",
       "        text-align: right;\n",
       "    }\n",
       "\n",
       "    .dataframe thead th {\n",
       "        text-align: left;\n",
       "    }\n",
       "\n",
       "    .dataframe tbody tr th {\n",
       "        vertical-align: top;\n",
       "    }\n",
       "</style>\n",
       "<table border=\"1\" class=\"dataframe\">\n",
       "  <thead>\n",
       "    <tr style=\"text-align: right;\">\n",
       "      <th></th>\n",
       "      <th>prefix</th>\n",
       "      <th>uniqueId</th>\n",
       "      <th>raPhoSim</th>\n",
       "      <th>decPhoSim</th>\n",
       "      <th>phosimMagNorm</th>\n",
       "      <th>sedFilepath</th>\n",
       "      <th>redshift</th>\n",
       "      <th>shear1</th>\n",
       "      <th>shear2</th>\n",
       "      <th>kappa</th>\n",
       "      <th>raOffset</th>\n",
       "      <th>decOffset</th>\n",
       "      <th>spatialmodel</th>\n",
       "      <th>internalExtinctionModel</th>\n",
       "      <th>galacticExtinctionModel</th>\n",
       "      <th>galacticAv</th>\n",
       "      <th>galacticRv</th>\n",
       "      <th>galaxy_id</th>\n",
       "    </tr>\n",
       "  </thead>\n",
       "  <tbody>\n",
       "    <tr>\n",
       "      <th>0</th>\n",
       "      <td>object</td>\n",
       "      <td>31861</td>\n",
       "      <td>53.759628</td>\n",
       "      <td>-27.624302</td>\n",
       "      <td>22.602996</td>\n",
       "      <td>agnSED/agn.spec.gz</td>\n",
       "      <td>0.015663</td>\n",
       "      <td>-0.000000</td>\n",
       "      <td>0.000000</td>\n",
       "      <td>0.000000</td>\n",
       "      <td>0</td>\n",
       "      <td>0</td>\n",
       "      <td>point</td>\n",
       "      <td>none</td>\n",
       "      <td>CCM</td>\n",
       "      <td>0.028854</td>\n",
       "      <td>3.1</td>\n",
       "      <td>31</td>\n",
       "    </tr>\n",
       "    <tr>\n",
       "      <th>1</th>\n",
       "      <td>object</td>\n",
       "      <td>99445</td>\n",
       "      <td>54.571807</td>\n",
       "      <td>-28.040336</td>\n",
       "      <td>26.044621</td>\n",
       "      <td>agnSED/agn.spec.gz</td>\n",
       "      <td>0.023573</td>\n",
       "      <td>-0.000000</td>\n",
       "      <td>0.000000</td>\n",
       "      <td>0.000000</td>\n",
       "      <td>0</td>\n",
       "      <td>0</td>\n",
       "      <td>point</td>\n",
       "      <td>none</td>\n",
       "      <td>CCM</td>\n",
       "      <td>0.030606</td>\n",
       "      <td>3.1</td>\n",
       "      <td>97</td>\n",
       "    </tr>\n",
       "    <tr>\n",
       "      <th>2</th>\n",
       "      <td>object</td>\n",
       "      <td>101493</td>\n",
       "      <td>54.875131</td>\n",
       "      <td>-28.087258</td>\n",
       "      <td>26.163638</td>\n",
       "      <td>agnSED/agn.spec.gz</td>\n",
       "      <td>0.023740</td>\n",
       "      <td>-0.000000</td>\n",
       "      <td>0.000000</td>\n",
       "      <td>0.000000</td>\n",
       "      <td>0</td>\n",
       "      <td>0</td>\n",
       "      <td>point</td>\n",
       "      <td>none</td>\n",
       "      <td>CCM</td>\n",
       "      <td>0.041117</td>\n",
       "      <td>3.1</td>\n",
       "      <td>99</td>\n",
       "    </tr>\n",
       "    <tr>\n",
       "      <th>3</th>\n",
       "      <td>object</td>\n",
       "      <td>261237</td>\n",
       "      <td>54.876707</td>\n",
       "      <td>-28.084598</td>\n",
       "      <td>21.276648</td>\n",
       "      <td>agnSED/agn.spec.gz</td>\n",
       "      <td>0.024828</td>\n",
       "      <td>0.000013</td>\n",
       "      <td>-0.000007</td>\n",
       "      <td>0.000234</td>\n",
       "      <td>0</td>\n",
       "      <td>0</td>\n",
       "      <td>point</td>\n",
       "      <td>none</td>\n",
       "      <td>CCM</td>\n",
       "      <td>0.041269</td>\n",
       "      <td>3.1</td>\n",
       "      <td>255</td>\n",
       "    </tr>\n",
       "    <tr>\n",
       "      <th>4</th>\n",
       "      <td>object</td>\n",
       "      <td>263285</td>\n",
       "      <td>54.532179</td>\n",
       "      <td>-27.748710</td>\n",
       "      <td>21.732387</td>\n",
       "      <td>agnSED/agn.spec.gz</td>\n",
       "      <td>0.024660</td>\n",
       "      <td>0.000017</td>\n",
       "      <td>0.000012</td>\n",
       "      <td>0.000028</td>\n",
       "      <td>0</td>\n",
       "      <td>0</td>\n",
       "      <td>point</td>\n",
       "      <td>none</td>\n",
       "      <td>CCM</td>\n",
       "      <td>0.035498</td>\n",
       "      <td>3.1</td>\n",
       "      <td>257</td>\n",
       "    </tr>\n",
       "  </tbody>\n",
       "</table>\n",
       "</div>"
      ],
      "text/plain": [
       "   prefix  uniqueId   raPhoSim  decPhoSim  phosimMagNorm         sedFilepath  \\\n",
       "0  object     31861  53.759628 -27.624302      22.602996  agnSED/agn.spec.gz   \n",
       "1  object     99445  54.571807 -28.040336      26.044621  agnSED/agn.spec.gz   \n",
       "2  object    101493  54.875131 -28.087258      26.163638  agnSED/agn.spec.gz   \n",
       "3  object    261237  54.876707 -28.084598      21.276648  agnSED/agn.spec.gz   \n",
       "4  object    263285  54.532179 -27.748710      21.732387  agnSED/agn.spec.gz   \n",
       "\n",
       "   redshift    shear1    shear2     kappa  raOffset  decOffset spatialmodel  \\\n",
       "0  0.015663 -0.000000  0.000000  0.000000         0          0        point   \n",
       "1  0.023573 -0.000000  0.000000  0.000000         0          0        point   \n",
       "2  0.023740 -0.000000  0.000000  0.000000         0          0        point   \n",
       "3  0.024828  0.000013 -0.000007  0.000234         0          0        point   \n",
       "4  0.024660  0.000017  0.000012  0.000028         0          0        point   \n",
       "\n",
       "  internalExtinctionModel galacticExtinctionModel  galacticAv  galacticRv  \\\n",
       "0                    none                     CCM    0.028854         3.1   \n",
       "1                    none                     CCM    0.030606         3.1   \n",
       "2                    none                     CCM    0.041117         3.1   \n",
       "3                    none                     CCM    0.041269         3.1   \n",
       "4                    none                     CCM    0.035498         3.1   \n",
       "\n",
       "   galaxy_id  \n",
       "0         31  \n",
       "1         97  \n",
       "2         99  \n",
       "3        255  \n",
       "4        257  "
      ]
     },
     "execution_count": 6,
     "metadata": {},
     "output_type": "execute_result"
    }
   ],
   "source": [
    "df_agn.head()"
   ]
  },
  {
   "cell_type": "markdown",
   "metadata": {},
   "source": [
    "### Match the AGN catalog to Twinkles systems\n",
    "\n",
    "We will go through the AGN catalog and find AGN in the uDDF field that match our properties. We will then save the `galaxy_id` of these AGN and give the corresponding OM10 system a `twinklesId` in the catalog that identifies it with this AGN when the sprinkler runs."
   ]
  },
  {
   "cell_type": "code",
   "execution_count": 8,
   "metadata": {},
   "outputs": [],
   "source": [
    "# Load in OM10 lenses we are using in Twinkles\n",
    "\n",
    "from astropy.io import fits\n",
    "hdulist = fits.open('../../data/twinkles_lenses_cosmoDC2_v0.1.fits')\n",
    "twinkles_lenses = hdulist[1].data"
   ]
  },
  {
   "cell_type": "code",
   "execution_count": 46,
   "metadata": {},
   "outputs": [],
   "source": [
    "# Convert phosimMagNorm to i-band magnitudes for the uDDF AGN\n",
    "bpDict = BandpassDict.loadTotalBandpassesFromFiles(bandpassNames=['i'])\n",
    "bp = Bandpass()\n",
    "imsimBand = bp.imsimBandpass()\n",
    "agn_fname = str(getPackageDir('sims_sed_library') + '/agnSED/agn.spec.gz')\n",
    "\n",
    "src_iband = []\n",
    "src_mag_norm = df_agn['phosimMagNorm'].values\n",
    "src_z = df_agn['redshift'].values\n",
    "\n",
    "for src_mag, s_z in zip(src_mag_norm, src_z):\n",
    "    agn_sed = Sed()\n",
    "    agn_sed.readSED_flambda(agn_fname)\n",
    "    agn_sed.redshiftSED(s_z, dimming=True)\n",
    "    f_norm = agn_sed.calcFluxNorm(src_mag, bp)\n",
    "    agn_sed.multiplyFluxNorm(f_norm)\n",
    "    src_iband.append(agn_sed.calcMag(bpDict['i']))"
   ]
  },
  {
   "cell_type": "code",
   "execution_count": 50,
   "metadata": {},
   "outputs": [],
   "source": [
    "df_agn['i_magnitude'] = src_iband"
   ]
  },
  {
   "cell_type": "markdown",
   "metadata": {},
   "source": [
    "We want to match the AGN in the uDDF field to lensed systems based upon the redshift and magnitude of the source AGN. In this example we use 0.1 dex in redshift and 0.25 mags in the _i_-band. This doesn't get us to ~1000 systems like we want but that's ok for this example since `protoDC2` only went out to redshift=1.0. Hopefully with `cosmoDC2` these bounds will get us plenty of systems. **(Anytime you use a new catalog this may need to be played with to get the desired number of systems)**"
   ]
  },
  {
   "cell_type": "code",
   "execution_count": 62,
   "metadata": {},
   "outputs": [],
   "source": [
    "def find_agn_lens_candidates(galz, gal_mag):\n",
    "        # search the OM10 catalog for all sources +- 0.1 dex in redshift                                                                                               \n",
    "        # and within .25 mags of the AGN source                                                                                                                     \n",
    "    w = np.where((np.abs(np.log10(twinkles_lenses['ZSRC']) - np.log10(galz)) <= 0.1) &\n",
    "                     (np.abs(twinkles_lenses['MAGI_IN'] - gal_mag) <= .25))[0]\n",
    "    lens_candidates = twinkles_lenses[w]\n",
    "\n",
    "    return lens_candidates"
   ]
  },
  {
   "cell_type": "code",
   "execution_count": 93,
   "metadata": {},
   "outputs": [
    {
     "name": "stdout",
     "output_type": "stream",
     "text": [
      "0\n",
      "5000\n",
      "10000\n",
      "15000\n",
      "20000\n",
      "25000\n",
      "30000\n",
      "35000\n",
      "40000\n",
      "45000\n",
      "50000\n"
     ]
    }
   ],
   "source": [
    "%%time\n",
    "density_param = 1.0\n",
    "good_rows = []\n",
    "ra_list = []\n",
    "dec_list = []\n",
    "gal_ids = []\n",
    "catalog_row_num = []\n",
    "catalog_ids = []\n",
    "for idx, row in df_agn.iterrows():\n",
    "    if idx % 5000 == 0:\n",
    "        print(idx)\n",
    "    #if (52.495 < row['raJ2000'] < 53.755) and (-28.65 < row['decJ2000'] < -27.55):\n",
    "    if (52.495 < row['raPhoSim'] < 53.755) and (-28.65 < row['decPhoSim'] < -27.55):\n",
    "        candidates = find_agn_lens_candidates(row['redshift'], row['i_magnitude'])\n",
    "        np.random.seed(np.int(row['galaxy_id']))\n",
    "        keep_idx = []\n",
    "        if len(candidates) > 0:\n",
    "            for candidate_idx, candidate_sys in list(enumerate(candidates['LENSID'])):\n",
    "                if candidate_sys not in catalog_ids:\n",
    "                    keep_idx.append(candidate_idx)\n",
    "            if len(keep_idx) == 0:\n",
    "                continue\n",
    "            else:\n",
    "                candidates = candidates[keep_idx]\n",
    "        pick_value = np.random.uniform()\n",
    "        if ((len(candidates) > 0) and (pick_value <= density_param)):\n",
    "            good_rows.append(idx)\n",
    "            gal_ids.append(row['galaxy_id'])\n",
    "            newlens = np.random.choice(candidates)\n",
    "            catalog_ids.append(newlens['LENSID'])\n",
    "            catalog_row_num.append(np.where(twinkles_lenses['LENSID'] == newlens['LENSID'])[0][0])\n",
    "            ra_list.append(row['raPhoSim'])\n",
    "            dec_list.append(row['decPhoSim'])"
   ]
  },
  {
   "cell_type": "code",
   "execution_count": 98,
   "metadata": {},
   "outputs": [
    {
     "name": "stdout",
     "output_type": "stream",
     "text": [
      "[7807, 4792, 11303, 13727, 9525, 8954, 2492, 702, 10710, 4295] [244234, 281703, 668658, 762504, 881469, 1019131, 1020008, 1020550, 1136803, 1137428]\n"
     ]
    }
   ],
   "source": [
    "print(catalog_row_num[:10], gal_ids[:10])"
   ]
  },
  {
   "cell_type": "code",
   "execution_count": 95,
   "metadata": {},
   "outputs": [
    {
     "data": {
      "text/plain": [
       "(280, 280, 280, 280)"
      ]
     },
     "execution_count": 95,
     "metadata": {},
     "output_type": "execute_result"
    }
   ],
   "source": [
    "len(good_rows), len(np.unique(good_rows)), len(np.unique(catalog_ids)), len(np.unique(catalog_row_num))"
   ]
  },
  {
   "cell_type": "code",
   "execution_count": 96,
   "metadata": {},
   "outputs": [],
   "source": [
    "import matplotlib as mpl\n",
    "mpl.rcParams['text.usetex'] = False"
   ]
  },
  {
   "cell_type": "markdown",
   "metadata": {},
   "source": [
    "Check to see that our cached systems are distributed throughout the uDDF field."
   ]
  },
  {
   "cell_type": "code",
   "execution_count": 97,
   "metadata": {},
   "outputs": [
    {
     "data": {
      "text/plain": [
       "<matplotlib.text.Text at 0x2b2706380eb8>"
      ]
     },
     "execution_count": 97,
     "metadata": {},
     "output_type": "execute_result"
    },
    {
     "name": "stderr",
     "output_type": "stream",
     "text": [
      "/global/common/software/lsst/common/miniconda/py3-4.3.21-env/lib/python3.6/site-packages/matplotlib/font_manager.py:1297: UserWarning: findfont: Font family ['serif'] not found. Falling back to DejaVu Sans\n",
      "  (prop.get_family(), self.defaultFamily[fontext]))\n"
     ]
    },
    {
     "data": {
      "image/png": "[encoded data removed]",
      "text/plain": [
       "<matplotlib.figure.Figure at 0x2b26f28a1748>"
      ]
     },
     "metadata": {},
     "output_type": "display_data"
    }
   ],
   "source": [
    "plt.scatter(ra_list, dec_list, s=6)\n",
    "plt.plot((52.486, 53.764), (-27.533, -27.533))\n",
    "plt.plot((52.479, 53.771), (-28.667, -28.667))\n",
    "plt.plot((52.479, 52.486), (-28.667, -27.533))\n",
    "plt.plot((53.771, 53.764), (-28.667, -27.533))\n",
    "plt.xlabel(r'ra')\n",
    "plt.ylabel(r'dec')\n",
    "plt.title('AGN Cache Locations')\n",
    "#plt.savefig('agn_cache.png')"
   ]
  },
  {
   "cell_type": "code",
   "execution_count": 101,
   "metadata": {},
   "outputs": [],
   "source": [
    "catalog_row_sort = np.argsort(catalog_row_num)\n",
    "catalog_row_num = np.array(catalog_row_num)"
   ]
  },
  {
   "cell_type": "code",
   "execution_count": 113,
   "metadata": {},
   "outputs": [],
   "source": [
    "# Add in Twinkles ID Number to catalog for matched objects\n",
    "col_list = []\n",
    "for col in twinkles_lenses.columns:\n",
    "        col_list.append(fits.Column(name=col.name, format=col.format, array=twinkles_lenses[col.name][catalog_row_num[catalog_row_sort]]))\n",
    "col_list.append(fits.Column(name='twinklesId', format='I', array=np.arange(len(good_rows))))"
   ]
  },
  {
   "cell_type": "code",
   "execution_count": 115,
   "metadata": {},
   "outputs": [],
   "source": [
    "cols = fits.ColDefs(col_list)\n",
    "tbhdu = fits.BinTableHDU.from_columns(cols)\n",
    "tbhdu.writeto('../../data/cosmoDC2_v0.1_test_matched_AGN.fits')"
   ]
  },
  {
   "cell_type": "code",
   "execution_count": 117,
   "metadata": {},
   "outputs": [
    {
     "data": {
      "text/plain": [
       "FITS_rec([ ( 115074, 0, 2,  0.128,  113.5011,  0.2432515,  153.0029 ,  0.07510341,  122.0065 ,  1.06, -0.1656299 ,  0.1122722 ,  23.19,  23.11888,  0.6968272, [ 0.1132, -0.4384,  0.    ,  0.    ], [-0.0756,  0.3502,  0.    ,  0.    ], [ -1.0677,   1.8956,   0.    ,   0.    ], [  2.387,   0.   ,   0.   ,   0.   ], [ 0.,  0.,  0.,  0.], [ 0.,  0.,  0.,  0.],  471.641754,   600.109436, -20.6982002,  18.3209515,  0.12800001,  1673.38,  1415.12,  0.,  7101.16,  0.,  1.63989151,  0., 'galaxySED/Exp.62E09.1Z.spec.gz',  17.99147028, 0),\n",
       "          ( 284363, 0, 2,  0.174,  129.4196,  0.4736329, -134.9654 ,  0.08003578, -164.6348 ,  0.68,  0.1632614 ,  0.00989747,  21.03,  21.34235,  0.706072 , [-0.1602,  0.5356,  0.    ,  0.    ], [ 0.0663,  0.1863,  0.    ,  0.    ], [ -0.75  ,   1.8237,   0.    ,   0.    ], [  3.666,   0.   ,   0.   ,   0.   ], [ 0.,  0.,  0.,  0.], [ 0.,  0.,  0.,  0.],  609.13324 ,   839.553772, -21.0769806,  18.7172623,  0.17399999,  1456.65,  1030.98,  0.,  4111.25,  0.,  0.55577457,  0., 'galaxySED/Burst.80E09.04Z.spec',  18.73745446, 1),\n",
       "          ( 817516, 0, 2,  0.25 ,  233.3458,  0.1775058,   71.13763,  0.05893834,   48.87865,  1.11,  0.2602941 , -0.1269908 ,  23.27,  22.89511,  2.079193 , [-0.6921,  1.358 ,  0.    ,  0.    ], [ 0.3435, -0.0031,  0.    ,  0.    ], [ -1.4124,  11.7838,   0.    ,   0.    ], [ 23.571,   0.   ,   0.   ,   0.   ], [ 0.,  0.,  0.,  0.], [ 0.,  0.,  0.,  0.],  806.483154,  1260.12988 , -22.6802197,  18.0718575,  0.25      ,  1688.59,  1210.81,  0.,  7517.77,  0.,  1.84352124,  0., 'galaxySED/Exp.80E09.1Z.spec.gz',  18.1583654 , 2),\n",
       "          (1629866, 0, 2,  0.32 ,  221.3095,  0.4323568,  -72.07543,  0.02370612,  -63.62491,  0.99,  0.3886681 , -0.4733899 ,  22.53,  22.92223,  1.874444 , [ 0.8458, -0.2483,  0.    ,  0.    ], [-1.3387,  0.1833,  0.    ,  0.    ], [  1.7296,  -0.6968,   0.    ,   0.    ], [  0.   ,  66.236,   0.   ,   0.   ], [ 0.,  0.,  0.,  0.], [ 0.,  0.,  0.,  0.],  960.162354,  1672.98669 , -22.5937996,  18.8436623,  0.31999999,  1647.87,  1010.97,  0.,  6525.73,  0.,  1.29853201,  0., 'galaxySED/Inst.62E09.04Z.spec.',  18.70344259, 3),\n",
       "          (1688059, 0, 2,  0.324,  234.9633,  0.2564344,  -72.83701,  0.07668004, -179.6473 ,  1.18,  0.01522251,  0.13354   ,  23.23,  21.56738,  1.905742 , [-0.4043, -0.3059,  0.    ,  0.    ], [-0.793 ,  1.1102,  0.    ,  0.    ], [ -4.6243,   6.7243,   0.    ,   0.    ], [ 15.629,   0.   ,   0.   ,   0.   ], [ 0.,  0.,  0.,  0.], [ 0.,  0.,  0.,  0.],  968.22522 ,  1697.27551 , -22.7538395,  18.7189217,  0.324     ,  1706.27,  1118.23,  0.,  8108.88,  0.,  2.41962433,  0., 'galaxySED/Exp.80E09.1Z.spec.gz',  18.73889267, 4)],\n",
       "         dtype=(numpy.record, [('LENSID', '<i4'), ('FLAGTYPE', '<i2'), ('NIMG', '<i2'), ('ZLENS', '<f8'), ('VELDISP', '<f8'), ('ELLIP', '<f8'), ('PHIE', '<f8'), ('GAMMA', '<f8'), ('PHIG', '<f8'), ('ZSRC', '<f8'), ('XSRC', '<f8'), ('YSRC', '<f8'), ('MAGI_IN', '<f8'), ('MAGI', '<f8'), ('IMSEP', '<f8'), ('XIMG', '<f8', (4,)), ('YIMG', '<f8', (4,)), ('MAG', '<f8', (4,)), ('DELAY', '<f8', (4,)), ('KAPPA', '<f8', (4,)), ('FSTAR', '<f8', (4,)), ('DD', '<f8'), ('DDLUM', '<f8'), ('ABMAG_I', '<f8'), ('APMAG_I', '<f8'), ('KCORR', '<f8'), ('DS', '<f8'), ('DDS', '<f8'), ('SIGCRIT', '<f8'), ('DSLUM', '<f8'), ('L_I', '<f8'), ('REFF', '<f8'), ('REFF_T', '<f8'), ('lens_sed', 'S30'), ('sed_magNorm', '<f8'), ('twinklesId', '<i2')]))"
      ]
     },
     "execution_count": 117,
     "metadata": {},
     "output_type": "execute_result"
    }
   ],
   "source": [
    "tbhdu.data[:5]"
   ]
  },
  {
   "cell_type": "markdown",
   "metadata": {},
   "source": [
    "Save the cached `galaxy_id` info to file"
   ]
  },
  {
   "cell_type": "code",
   "execution_count": 108,
   "metadata": {},
   "outputs": [],
   "source": [
    "agn_cache = pd.DataFrame(np.array([np.array(gal_ids)[catalog_row_sort], np.arange(len(good_rows))], dtype=np.int).T,\n",
    "                         columns=['galtileid', 'twinkles_system'])"
   ]
  },
  {
   "cell_type": "code",
   "execution_count": 109,
   "metadata": {},
   "outputs": [
    {
     "data": {
      "text/html": [
       "<div>\n",
       "<style>\n",
       "    .dataframe thead tr:only-child th {\n",
       "        text-align: right;\n",
       "    }\n",
       "\n",
       "    .dataframe thead th {\n",
       "        text-align: left;\n",
       "    }\n",
       "\n",
       "    .dataframe tbody tr th {\n",
       "        vertical-align: top;\n",
       "    }\n",
       "</style>\n",
       "<table border=\"1\" class=\"dataframe\">\n",
       "  <thead>\n",
       "    <tr style=\"text-align: right;\">\n",
       "      <th></th>\n",
       "      <th>galtileid</th>\n",
       "      <th>twinkles_system</th>\n",
       "    </tr>\n",
       "  </thead>\n",
       "  <tbody>\n",
       "    <tr>\n",
       "      <th>0</th>\n",
       "      <td>7358147</td>\n",
       "      <td>0</td>\n",
       "    </tr>\n",
       "    <tr>\n",
       "      <th>1</th>\n",
       "      <td>2721181</td>\n",
       "      <td>1</td>\n",
       "    </tr>\n",
       "    <tr>\n",
       "      <th>2</th>\n",
       "      <td>7093431</td>\n",
       "      <td>2</td>\n",
       "    </tr>\n",
       "    <tr>\n",
       "      <th>3</th>\n",
       "      <td>6636773</td>\n",
       "      <td>3</td>\n",
       "    </tr>\n",
       "    <tr>\n",
       "      <th>4</th>\n",
       "      <td>9167952</td>\n",
       "      <td>4</td>\n",
       "    </tr>\n",
       "  </tbody>\n",
       "</table>\n",
       "</div>"
      ],
      "text/plain": [
       "   galtileid  twinkles_system\n",
       "0    7358147                0\n",
       "1    2721181                1\n",
       "2    7093431                2\n",
       "3    6636773                3\n",
       "4    9167952                4"
      ]
     },
     "execution_count": 109,
     "metadata": {},
     "output_type": "execute_result"
    }
   ],
   "source": [
    "agn_cache.head()"
   ]
  },
  {
   "cell_type": "code",
   "execution_count": 129,
   "metadata": {},
   "outputs": [
    {
     "name": "stdout",
     "output_type": "stream",
     "text": [
      "[ True]\n"
     ]
    }
   ],
   "source": [
    "#Check that galaxy_ids and twinkles_ids in FITS match up after sort\n",
    "g_id = np.where(np.array(gal_ids) == agn_cache['galtileid'].values[0])\n",
    "print(np.array(catalog_ids)[g_id] == tbhdu.data['LENSID'][0])"
   ]
  },
  {
   "cell_type": "code",
   "execution_count": 130,
   "metadata": {},
   "outputs": [],
   "source": [
    "agn_cache.to_csv('dc2_agn_cache.csv', index=False)"
   ]
  },
  {
   "cell_type": "markdown",
   "metadata": {},
   "source": [
    "### Match to GLSNe catalog\n",
    "\n",
    "Here we do the same as we did for the AGN and OM10 catalog except with a bulge galaxy catalog and the host galaxy information from the Gravitationally Lensed SNe catalog."
   ]
  },
  {
   "cell_type": "code",
   "execution_count": 141,
   "metadata": {},
   "outputs": [],
   "source": [
    "sne_catalog = pd.read_csv('../../data/cosmoDC2_v0.1_sne_cat.csv')"
   ]
  },
  {
   "cell_type": "code",
   "execution_count": 132,
   "metadata": {},
   "outputs": [],
   "source": [
    "df_galaxy['galaxy_id'] = np.right_shift(df_galaxy['uniqueId'], 10)"
   ]
  },
  {
   "cell_type": "code",
   "execution_count": 184,
   "metadata": {},
   "outputs": [],
   "source": [
    "use_gals_df = df_galaxy.query('raPhoSim > 52.495 and raPhoSim < 53.755 and decPhoSim > -28.65 and decPhoSim < -27.55')"
   ]
  },
  {
   "cell_type": "markdown",
   "metadata": {},
   "source": [
    "As we did before we match based upon a property in each catalog. Here we use the source redshift of the SNe in the lens catalog and the redshift of the potential host galaxies in the uDDF field. Since we have so many potential host galaxies we tighten up the redshift bounds to 0.01 in dex."
   ]
  },
  {
   "cell_type": "code",
   "execution_count": 221,
   "metadata": {},
   "outputs": [],
   "source": [
    "def find_sne_lens_candidates(galz):#, gal_mag):\n",
    "    # search the galaxy catalog for all possible host galaxies +- 0.01 dex in redshift\n",
    "\n",
    "    lens_candidates = use_gals_df.query(str('redshift < {}'.format(np.power(10, np.log10(galz)+0.01)) + ' and ' +\n",
    "                                            'redshift > {}'.format(np.power(10, np.log10(galz)-0.01))))\n",
    "    if len(lens_candidates) == 0:\n",
    "        print(galz)\n",
    "\n",
    "    return lens_candidates"
   ]
  },
  {
   "cell_type": "code",
   "execution_count": 224,
   "metadata": {},
   "outputs": [
    {
     "name": "stdout",
     "output_type": "stream",
     "text": [
      "0\n",
      "100\n",
      "200\n",
      "300\n",
      "400\n",
      "500\n",
      "600\n",
      "700\n",
      "800\n",
      "900\n",
      "1000\n",
      "1100\n",
      "1200\n",
      "1300\n",
      "1400\n",
      "1500\n",
      "1600\n",
      "1700\n",
      "1800\n",
      "1900\n",
      "2000\n",
      "2100\n",
      "CPU times: user 1min 4s, sys: 84.2 ms, total: 1min 4s\n",
      "Wall time: 1min 4s\n"
     ]
    }
   ],
   "source": [
    "%%time\n",
    "sne_density = 1.0\n",
    "good_rows_sn = []\n",
    "gal_ids_sn = []\n",
    "sys_ids_sn = []\n",
    "used_systems = []\n",
    "ra_list_sn = []\n",
    "dec_list_sn = []\n",
    "total_unique_sys = len(np.unique(sne_catalog['twinkles_sysno']))\n",
    "\n",
    "for idx, row in sne_catalog.iterrows():\n",
    "    \n",
    "        if idx % 100 == 0:\n",
    "            print(idx)\n",
    "    \n",
    "        if row['twinkles_sysno'] in sys_ids_sn:\n",
    "            continue\n",
    "    \n",
    "        lens_sne_candidates = find_sne_lens_candidates(row['zs'])\n",
    "        candidate_indices = lens_sne_candidates.index.values\n",
    "        keep_indices = []\n",
    "        for value in np.random.choice(candidate_indices, size=1000, replace=False):\n",
    "            if (value not in sys_ids_sn):\n",
    "                keep_indices.append(value)\n",
    "        \n",
    "        choices = np.random.choice(keep_indices, size=5, replace=False)\n",
    "        \n",
    "        for i in choices:\n",
    "            if df_galaxy['galaxy_id'].iloc[i] not in df_agn:\n",
    "                choice = i\n",
    "                continue\n",
    "        \n",
    "        sys_ids_sn.append(row['twinkles_sysno'])\n",
    "        gal_ids_sn.append(df_galaxy['galaxy_id'].iloc[choice])\n",
    "        ra_list_sn.append(df_galaxy['raPhoSim'].iloc[choice])\n",
    "        dec_list_sn.append(df_galaxy['decPhoSim'].iloc[choice])\n",
    "        good_rows_sn.append(choice)"
   ]
  },
  {
   "cell_type": "markdown",
   "metadata": {},
   "source": [
    "**The discrepancy below is due to protoDC2 only going out to z=1 in redshift.**"
   ]
  },
  {
   "cell_type": "code",
   "execution_count": 225,
   "metadata": {},
   "outputs": [
    {
     "data": {
      "text/plain": [
       "(930, 930, 966)"
      ]
     },
     "execution_count": 225,
     "metadata": {},
     "output_type": "execute_result"
    }
   ],
   "source": [
    "len(good_rows_sn), len(ra_list_sn), total_unique_sys"
   ]
  },
  {
   "cell_type": "markdown",
   "metadata": {},
   "source": [
    "Once again check to see that we are spread throught uDDF region."
   ]
  },
  {
   "cell_type": "code",
   "execution_count": 228,
   "metadata": {},
   "outputs": [
    {
     "data": {
      "text/plain": [
       "<matplotlib.text.Text at 0x2b26f088f518>"
      ]
     },
     "execution_count": 228,
     "metadata": {},
     "output_type": "execute_result"
    },
    {
     "name": "stderr",
     "output_type": "stream",
     "text": [
      "/global/common/software/lsst/common/miniconda/py3-4.3.21-env/lib/python3.6/site-packages/matplotlib/font_manager.py:1297: UserWarning: findfont: Font family ['serif'] not found. Falling back to DejaVu Sans\n",
      "  (prop.get_family(), self.defaultFamily[fontext]))\n"
     ]
    },
    {
     "data": {
      "image/png": "[encoded data removed]",
      "text/plain": [
       "<matplotlib.figure.Figure at 0x2b26f2a149b0>"
      ]
     },
     "metadata": {},
     "output_type": "display_data"
    }
   ],
   "source": [
    "plt.scatter(ra_list_sn, dec_list_sn, s=6)\n",
    "plt.plot((52.486, 53.764), (-27.533, -27.533))\n",
    "plt.plot((52.479, 53.771), (-28.667, -28.667))\n",
    "plt.plot((52.479, 52.486), (-28.667, -27.533))\n",
    "plt.plot((53.771, 53.764), (-28.667, -27.533))\n",
    "plt.xlabel('ra')\n",
    "plt.ylabel('dec')\n",
    "plt.title('SN Cache Locations')\n",
    "#plt.savefig('sne_cache.png')"
   ]
  },
  {
   "cell_type": "markdown",
   "metadata": {},
   "source": [
    "Save the cache of `galaxy_ids` and associated `twinklesId` values to file."
   ]
  },
  {
   "cell_type": "code",
   "execution_count": 229,
   "metadata": {},
   "outputs": [],
   "source": [
    "sne_cache = pd.DataFrame(np.array([gal_ids_sn, sys_ids_sn], dtype=np.int).T, columns=['galtileid', 'twinkles_system'])"
   ]
  },
  {
   "cell_type": "code",
   "execution_count": 230,
   "metadata": {},
   "outputs": [],
   "source": [
    "sne_cache.to_csv('dc2_sne_cache.csv', index=False)"
   ]
  },
  {
   "cell_type": "code",
   "execution_count": null,
   "metadata": {},
   "outputs": [],
   "source": []
  }
 ],
 "metadata": {
  "kernelspec": {
   "display_name": "lsst",
   "language": "python",
   "name": "lsst"
  },
  "language_info": {
   "codemirror_mode": {
    "name": "ipython",
    "version": 3
   },
   "file_extension": ".py",
   "mimetype": "text/x-python",
   "name": "python",
   "nbconvert_exporter": "python",
   "pygments_lexer": "ipython3",
   "version": "3.6.2"
  }
 },
 "nbformat": 4,
 "nbformat_minor": 2
}
