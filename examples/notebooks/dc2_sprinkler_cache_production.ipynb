{
 "cells": [
  {
   "cell_type": "markdown",
   "metadata": {},
   "source": [
    "# Produce Cached `galaxy_ids` for DC2\n",
    "\n",
    "_Last Updated: Bryce Kalmbach, December 2018_\n",
    "\n",
    "This is a notebook to produce the cached AGN and SN galaxy_id lists for DC2 Run 2. In this notebook we match the source AGN and SNe galaxies to objects in the galaxy catalogs."
   ]
  },
  {
   "cell_type": "code",
   "execution_count": 1,
   "metadata": {},
   "outputs": [
    {
     "name": "stderr",
     "output_type": "stream",
     "text": [
      "/global/common/software/lsst/common/miniconda/py3-4.3.21-env/lib/python3.6/site-packages/matplotlib/__init__.py:1405: UserWarning: \n",
      "This call to matplotlib.use() has no effect because the backend has already\n",
      "been chosen; matplotlib.use() must be called *before* pylab, matplotlib.pyplot,\n",
      "or matplotlib.backends is imported for the first time.\n",
      "\n",
      "  warnings.warn(_use_error_msg)\n",
      "/global/homes/b/brycek/DC2/sims_catalogs/python/lsst/sims/catalogs/db/dbConnection.py:555: UserWarning: Duplicate object type id 4 specified: \n",
      "Output object ids may not be unique.\n",
      "This may not be a problem if you do not want globally unique id values\n",
      "  'want globally unique id values')\n",
      "/global/homes/b/brycek/DC2/sims_catalogs/python/lsst/sims/catalogs/db/dbConnection.py:555: UserWarning: Duplicate object type id 28 specified: \n",
      "Output object ids may not be unique.\n",
      "This may not be a problem if you do not want globally unique id values\n",
      "  'want globally unique id values')\n"
     ]
    }
   ],
   "source": [
    "import pandas as pd\n",
    "from astropy.io import fits\n",
    "import numpy as np\n",
    "from desc.sims.GCRCatSimInterface import InstanceCatalogWriter\n",
    "from lsst.sims.utils import SpecMap\n",
    "import matplotlib.pyplot as plt\n",
    "from lsst.utils import getPackageDir\n",
    "from lsst.sims.photUtils import Sed, BandpassDict, Bandpass, getImsimFluxNorm\n",
    "from lsst.sims.catUtils.matchSED import matchBase\n",
    "import os\n",
    "import sqlite3\n",
    "%matplotlib inline"
   ]
  },
  {
   "cell_type": "markdown",
   "metadata": {},
   "source": [
    "## Point to locations for unlensed AGN and SNe information\n",
    "\n",
    "Even if you already have an unsprinkled instance catalog ready you need to specify the locations of DC2 unlensed AGN and SNe databases. The AGN database is needed to know the AGN properties to sprinkle and the SNe database is needed to avoid sprinkling with galaxies that will have unlensed SNe at some point in the survey."
   ]
  },
  {
   "cell_type": "code",
   "execution_count": 2,
   "metadata": {},
   "outputs": [],
   "source": [
    "catalog_version = 'cosmoDC2_v1.1.4'\n",
    "agnDB = '/global/projecta/projectdirs/lsst/groups/SSim/DC2/cosmoDC2_v1.1.4/agn_db_mbh7_mi30_sf4.db'\n",
    "sneDB = '/global/projecta/projectdirs/lsst/groups/SSim/DC2/cosmoDC2_v1.1.4/sne_cosmoDC2_v1.1.4_MS_DDF.db'\n",
    "sed_lookup_dir = '/global/projecta/projectdirs/lsst/groups/SSim/DC2/cosmoDC2_v1.1.4/sedLookup'"
   ]
  },
  {
   "cell_type": "markdown",
   "metadata": {},
   "source": [
    "### Create an unsprinkled Instance Catalog \n",
    "\n",
    "This is to get the possible AGN and Bulge galaxies to replace with the sprinkler. We use `cosmoDC2_v1.1.4_image_addon_knots`. Make sure to specify the correct database locations in the cell below."
   ]
  },
  {
   "cell_type": "code",
   "execution_count": 3,
   "metadata": {},
   "outputs": [],
   "source": [
    "# First we need to create a catalog without sprinkling\n",
    "opsimDB = '/global/projecta/projectdirs/lsst/groups/SSim/DC2/minion_1016_desc_dithered_v4.db'\n",
    "starDB = '/global/projecta/projectdirs/lsst/groups/SSim/DC2/dc2_stellar_db.db'"
   ]
  },
  {
   "cell_type": "code",
   "execution_count": 4,
   "metadata": {},
   "outputs": [],
   "source": [
    "t_sky = InstanceCatalogWriter(opsimDB, '%s_image_addon_knots' % catalog_version, min_mag=30, protoDC2_ra=0,\n",
    "                              protoDC2_dec=0, sprinkler=False,\n",
    "                              agn_db_name=agnDB, star_db_name=starDB,\n",
    "                              sed_lookup_dir=sed_lookup_dir)"
   ]
  },
  {
   "cell_type": "code",
   "execution_count": null,
   "metadata": {},
   "outputs": [],
   "source": [
    "uddf_visit = 197356 # Use a visit we know covers the uDDF field\n",
    "t_sky.write_catalog(uddf_visit, out_dir='.', fov=2.1)"
   ]
  },
  {
   "cell_type": "markdown",
   "metadata": {},
   "source": [
    "### Load in the galaxy catalogs as dataframes"
   ]
  },
  {
   "cell_type": "code",
   "execution_count": 4,
   "metadata": {},
   "outputs": [],
   "source": [
    "base_columns = ['prefix', 'uniqueId', 'raPhoSim', 'decPhoSim',\n",
    "                        'phosimMagNorm', 'sedFilepath', 'redshift',\n",
    "                        'shear1', 'shear2', 'kappa', 'raOffset', 'decOffset',\n",
    "                        'spatialmodel']"
   ]
  },
  {
   "cell_type": "code",
   "execution_count": 5,
   "metadata": {},
   "outputs": [],
   "source": [
    "df_galaxy = pd.read_csv(os.path.join(os.environ['SCRATCH'],\n",
    "                                     'bulge_gal_cat_197356.txt.gz'),\n",
    "                                delimiter=' ', header=None,\n",
    "                                names=base_columns+['majorAxis', 'minorAxis',\n",
    "                                                    'positionAngle', 'sindex',\n",
    "                                                    'internalExtinctionModel',\n",
    "                                                    'internalAv', 'internalRv',\n",
    "                                                    'galacticExtinctionModel',\n",
    "                                                    'galacticAv', 'galacticRv'])"
   ]
  },
  {
   "cell_type": "code",
   "execution_count": 6,
   "metadata": {},
   "outputs": [],
   "source": [
    "df_disk = pd.read_csv(os.path.join(os.environ['SCRATCH'],\n",
    "                                     'disk_gal_cat_197356.txt.gz'),\n",
    "                                delimiter=' ', header=None,\n",
    "                                names=base_columns+['majorAxis', 'minorAxis',\n",
    "                                                    'positionAngle', 'sindex',\n",
    "                                                    'internalExtinctionModel',\n",
    "                                                    'internalAv', 'internalRv',\n",
    "                                                    'galacticExtinctionModel',\n",
    "                                                    'galacticAv', 'galacticRv'])"
   ]
  },
  {
   "cell_type": "code",
   "execution_count": 7,
   "metadata": {},
   "outputs": [],
   "source": [
    "df_agn = pd.read_csv(os.path.join(os.environ['SCRATCH'],\n",
    "                                     'agn_gal_cat_197356.txt.gz'),\n",
    "                                 delimiter=' ', header=None,\n",
    "                                 names=base_columns+['internalExtinctionModel',\n",
    "                                                     'galacticExtinctionModel',\n",
    "                                                     'galacticAv', 'galacticRv'])"
   ]
  },
  {
   "cell_type": "markdown",
   "metadata": {},
   "source": [
    "We calculate the `galaxy_id` for each catalog so that we can join them together and also save it in the cache for the sprinkler."
   ]
  },
  {
   "cell_type": "code",
   "execution_count": 8,
   "metadata": {},
   "outputs": [],
   "source": [
    "df_agn['galaxy_id'] = np.right_shift(df_agn['uniqueId'], 10)"
   ]
  },
  {
   "cell_type": "code",
   "execution_count": 9,
   "metadata": {},
   "outputs": [
    {
     "data": {
      "text/html": [
       "<div>\n",
       "<style>\n",
       "    .dataframe thead tr:only-child th {\n",
       "        text-align: right;\n",
       "    }\n",
       "\n",
       "    .dataframe thead th {\n",
       "        text-align: left;\n",
       "    }\n",
       "\n",
       "    .dataframe tbody tr th {\n",
       "        vertical-align: top;\n",
       "    }\n",
       "</style>\n",
       "<table border=\"1\" class=\"dataframe\">\n",
       "  <thead>\n",
       "    <tr style=\"text-align: right;\">\n",
       "      <th></th>\n",
       "      <th>prefix</th>\n",
       "      <th>uniqueId</th>\n",
       "      <th>raPhoSim</th>\n",
       "      <th>decPhoSim</th>\n",
       "      <th>phosimMagNorm</th>\n",
       "      <th>sedFilepath</th>\n",
       "      <th>redshift</th>\n",
       "      <th>shear1</th>\n",
       "      <th>shear2</th>\n",
       "      <th>kappa</th>\n",
       "      <th>raOffset</th>\n",
       "      <th>decOffset</th>\n",
       "      <th>spatialmodel</th>\n",
       "      <th>internalExtinctionModel</th>\n",
       "      <th>galacticExtinctionModel</th>\n",
       "      <th>galacticAv</th>\n",
       "      <th>galacticRv</th>\n",
       "      <th>galaxy_id</th>\n",
       "    </tr>\n",
       "  </thead>\n",
       "  <tbody>\n",
       "    <tr>\n",
       "      <th>0</th>\n",
       "      <td>object</td>\n",
       "      <td>3392000069749</td>\n",
       "      <td>54.351016</td>\n",
       "      <td>-29.474949</td>\n",
       "      <td>21.245477</td>\n",
       "      <td>agnSED/agn.spec.gz</td>\n",
       "      <td>0.047309</td>\n",
       "      <td>-0.000002</td>\n",
       "      <td>-0.000048</td>\n",
       "      <td>0.000007</td>\n",
       "      <td>0</td>\n",
       "      <td>0</td>\n",
       "      <td>point</td>\n",
       "      <td>none</td>\n",
       "      <td>CCM</td>\n",
       "      <td>0.029307</td>\n",
       "      <td>3.1</td>\n",
       "      <td>3312500068</td>\n",
       "    </tr>\n",
       "    <tr>\n",
       "      <th>1</th>\n",
       "      <td>object</td>\n",
       "      <td>3392000201845</td>\n",
       "      <td>55.064013</td>\n",
       "      <td>-29.107730</td>\n",
       "      <td>19.310657</td>\n",
       "      <td>agnSED/agn.spec.gz</td>\n",
       "      <td>0.027914</td>\n",
       "      <td>-0.000015</td>\n",
       "      <td>0.000021</td>\n",
       "      <td>-0.000026</td>\n",
       "      <td>0</td>\n",
       "      <td>0</td>\n",
       "      <td>point</td>\n",
       "      <td>none</td>\n",
       "      <td>CCM</td>\n",
       "      <td>0.045022</td>\n",
       "      <td>3.1</td>\n",
       "      <td>3312500197</td>\n",
       "    </tr>\n",
       "    <tr>\n",
       "      <th>2</th>\n",
       "      <td>object</td>\n",
       "      <td>3392000248949</td>\n",
       "      <td>54.820543</td>\n",
       "      <td>-29.341426</td>\n",
       "      <td>20.232832</td>\n",
       "      <td>agnSED/agn.spec.gz</td>\n",
       "      <td>0.044629</td>\n",
       "      <td>-0.000012</td>\n",
       "      <td>0.000021</td>\n",
       "      <td>-0.000017</td>\n",
       "      <td>0</td>\n",
       "      <td>0</td>\n",
       "      <td>point</td>\n",
       "      <td>none</td>\n",
       "      <td>CCM</td>\n",
       "      <td>0.036800</td>\n",
       "      <td>3.1</td>\n",
       "      <td>3312500243</td>\n",
       "    </tr>\n",
       "    <tr>\n",
       "      <th>3</th>\n",
       "      <td>object</td>\n",
       "      <td>3392000249973</td>\n",
       "      <td>54.847392</td>\n",
       "      <td>-29.342723</td>\n",
       "      <td>22.711512</td>\n",
       "      <td>agnSED/agn.spec.gz</td>\n",
       "      <td>0.044629</td>\n",
       "      <td>-0.000008</td>\n",
       "      <td>0.000030</td>\n",
       "      <td>-0.000014</td>\n",
       "      <td>0</td>\n",
       "      <td>0</td>\n",
       "      <td>point</td>\n",
       "      <td>none</td>\n",
       "      <td>CCM</td>\n",
       "      <td>0.038021</td>\n",
       "      <td>3.1</td>\n",
       "      <td>3312500244</td>\n",
       "    </tr>\n",
       "    <tr>\n",
       "      <th>4</th>\n",
       "      <td>object</td>\n",
       "      <td>3392000252021</td>\n",
       "      <td>54.772554</td>\n",
       "      <td>-29.279037</td>\n",
       "      <td>23.265985</td>\n",
       "      <td>agnSED/agn.spec.gz</td>\n",
       "      <td>0.044629</td>\n",
       "      <td>-0.000055</td>\n",
       "      <td>0.000038</td>\n",
       "      <td>0.000025</td>\n",
       "      <td>0</td>\n",
       "      <td>0</td>\n",
       "      <td>point</td>\n",
       "      <td>none</td>\n",
       "      <td>CCM</td>\n",
       "      <td>0.035074</td>\n",
       "      <td>3.1</td>\n",
       "      <td>3312500246</td>\n",
       "    </tr>\n",
       "  </tbody>\n",
       "</table>\n",
       "</div>"
      ],
      "text/plain": [
       "   prefix       uniqueId   raPhoSim  decPhoSim  phosimMagNorm  \\\n",
       "0  object  3392000069749  54.351016 -29.474949      21.245477   \n",
       "1  object  3392000201845  55.064013 -29.107730      19.310657   \n",
       "2  object  3392000248949  54.820543 -29.341426      20.232832   \n",
       "3  object  3392000249973  54.847392 -29.342723      22.711512   \n",
       "4  object  3392000252021  54.772554 -29.279037      23.265985   \n",
       "\n",
       "          sedFilepath  redshift    shear1    shear2     kappa  raOffset  \\\n",
       "0  agnSED/agn.spec.gz  0.047309 -0.000002 -0.000048  0.000007         0   \n",
       "1  agnSED/agn.spec.gz  0.027914 -0.000015  0.000021 -0.000026         0   \n",
       "2  agnSED/agn.spec.gz  0.044629 -0.000012  0.000021 -0.000017         0   \n",
       "3  agnSED/agn.spec.gz  0.044629 -0.000008  0.000030 -0.000014         0   \n",
       "4  agnSED/agn.spec.gz  0.044629 -0.000055  0.000038  0.000025         0   \n",
       "\n",
       "   decOffset spatialmodel internalExtinctionModel galacticExtinctionModel  \\\n",
       "0          0        point                    none                     CCM   \n",
       "1          0        point                    none                     CCM   \n",
       "2          0        point                    none                     CCM   \n",
       "3          0        point                    none                     CCM   \n",
       "4          0        point                    none                     CCM   \n",
       "\n",
       "   galacticAv  galacticRv   galaxy_id  \n",
       "0    0.029307         3.1  3312500068  \n",
       "1    0.045022         3.1  3312500197  \n",
       "2    0.036800         3.1  3312500243  \n",
       "3    0.038021         3.1  3312500244  \n",
       "4    0.035074         3.1  3312500246  "
      ]
     },
     "execution_count": 9,
     "metadata": {},
     "output_type": "execute_result"
    }
   ],
   "source": [
    "df_agn.head()"
   ]
  },
  {
   "cell_type": "code",
   "execution_count": 10,
   "metadata": {},
   "outputs": [],
   "source": [
    "df_galaxy['galaxy_id'] = np.right_shift(df_galaxy['uniqueId'], 10)"
   ]
  },
  {
   "cell_type": "code",
   "execution_count": 11,
   "metadata": {},
   "outputs": [
    {
     "data": {
      "text/html": [
       "<div>\n",
       "<style>\n",
       "    .dataframe thead tr:only-child th {\n",
       "        text-align: right;\n",
       "    }\n",
       "\n",
       "    .dataframe thead th {\n",
       "        text-align: left;\n",
       "    }\n",
       "\n",
       "    .dataframe tbody tr th {\n",
       "        vertical-align: top;\n",
       "    }\n",
       "</style>\n",
       "<table border=\"1\" class=\"dataframe\">\n",
       "  <thead>\n",
       "    <tr style=\"text-align: right;\">\n",
       "      <th></th>\n",
       "      <th>prefix</th>\n",
       "      <th>uniqueId</th>\n",
       "      <th>raPhoSim</th>\n",
       "      <th>decPhoSim</th>\n",
       "      <th>phosimMagNorm</th>\n",
       "      <th>sedFilepath</th>\n",
       "      <th>redshift</th>\n",
       "      <th>shear1</th>\n",
       "      <th>shear2</th>\n",
       "      <th>kappa</th>\n",
       "      <th>...</th>\n",
       "      <th>minorAxis</th>\n",
       "      <th>positionAngle</th>\n",
       "      <th>sindex</th>\n",
       "      <th>internalExtinctionModel</th>\n",
       "      <th>internalAv</th>\n",
       "      <th>internalRv</th>\n",
       "      <th>galacticExtinctionModel</th>\n",
       "      <th>galacticAv</th>\n",
       "      <th>galacticRv</th>\n",
       "      <th>galaxy_id</th>\n",
       "    </tr>\n",
       "  </thead>\n",
       "  <tbody>\n",
       "    <tr>\n",
       "      <th>0</th>\n",
       "      <td>object</td>\n",
       "      <td>3392000025697</td>\n",
       "      <td>54.881856</td>\n",
       "      <td>-28.765553</td>\n",
       "      <td>21.346167</td>\n",
       "      <td>galaxySED/Burst.80E09.002Z.spec.gz</td>\n",
       "      <td>0.017818</td>\n",
       "      <td>-0.000000</td>\n",
       "      <td>-0.000000</td>\n",
       "      <td>0.000000</td>\n",
       "      <td>...</td>\n",
       "      <td>0.648529</td>\n",
       "      <td>80.872978</td>\n",
       "      <td>4</td>\n",
       "      <td>CCM</td>\n",
       "      <td>0.0</td>\n",
       "      <td>2.0</td>\n",
       "      <td>CCM</td>\n",
       "      <td>0.044331</td>\n",
       "      <td>3.1</td>\n",
       "      <td>3312500025</td>\n",
       "    </tr>\n",
       "    <tr>\n",
       "      <th>1</th>\n",
       "      <td>object</td>\n",
       "      <td>3392000033889</td>\n",
       "      <td>54.815604</td>\n",
       "      <td>-28.803041</td>\n",
       "      <td>22.967427</td>\n",
       "      <td>galaxySED/Exp.80E09.002Z.spec.gz</td>\n",
       "      <td>0.021390</td>\n",
       "      <td>-0.000000</td>\n",
       "      <td>-0.000000</td>\n",
       "      <td>0.000000</td>\n",
       "      <td>...</td>\n",
       "      <td>0.298480</td>\n",
       "      <td>88.921657</td>\n",
       "      <td>4</td>\n",
       "      <td>CCM</td>\n",
       "      <td>0.0</td>\n",
       "      <td>2.0</td>\n",
       "      <td>CCM</td>\n",
       "      <td>0.044144</td>\n",
       "      <td>3.1</td>\n",
       "      <td>3312500033</td>\n",
       "    </tr>\n",
       "    <tr>\n",
       "      <th>2</th>\n",
       "      <td>object</td>\n",
       "      <td>3392000037985</td>\n",
       "      <td>55.234418</td>\n",
       "      <td>-29.034768</td>\n",
       "      <td>23.699069</td>\n",
       "      <td>galaxySED/Exp.10E10.002Z.spec.gz</td>\n",
       "      <td>0.018474</td>\n",
       "      <td>-0.000000</td>\n",
       "      <td>-0.000000</td>\n",
       "      <td>0.000000</td>\n",
       "      <td>...</td>\n",
       "      <td>1.166655</td>\n",
       "      <td>129.902200</td>\n",
       "      <td>4</td>\n",
       "      <td>CCM</td>\n",
       "      <td>0.0</td>\n",
       "      <td>2.0</td>\n",
       "      <td>CCM</td>\n",
       "      <td>0.047380</td>\n",
       "      <td>3.1</td>\n",
       "      <td>3312500037</td>\n",
       "    </tr>\n",
       "    <tr>\n",
       "      <th>3</th>\n",
       "      <td>object</td>\n",
       "      <td>3392000069729</td>\n",
       "      <td>54.351016</td>\n",
       "      <td>-29.474949</td>\n",
       "      <td>15.274427</td>\n",
       "      <td>galaxySED/Exp.10E10.04Z.spec.gz</td>\n",
       "      <td>0.047309</td>\n",
       "      <td>-0.000002</td>\n",
       "      <td>-0.000048</td>\n",
       "      <td>0.000007</td>\n",
       "      <td>...</td>\n",
       "      <td>2.746652</td>\n",
       "      <td>58.996228</td>\n",
       "      <td>4</td>\n",
       "      <td>CCM</td>\n",
       "      <td>0.0</td>\n",
       "      <td>2.0</td>\n",
       "      <td>CCM</td>\n",
       "      <td>0.029307</td>\n",
       "      <td>3.1</td>\n",
       "      <td>3312500068</td>\n",
       "    </tr>\n",
       "    <tr>\n",
       "      <th>4</th>\n",
       "      <td>object</td>\n",
       "      <td>3392000070753</td>\n",
       "      <td>54.913149</td>\n",
       "      <td>-29.205063</td>\n",
       "      <td>21.510131</td>\n",
       "      <td>galaxySED/Burst.80E09.04Z.spec.gz</td>\n",
       "      <td>0.037030</td>\n",
       "      <td>-0.000018</td>\n",
       "      <td>0.000027</td>\n",
       "      <td>-0.000017</td>\n",
       "      <td>...</td>\n",
       "      <td>0.708551</td>\n",
       "      <td>129.172123</td>\n",
       "      <td>4</td>\n",
       "      <td>CCM</td>\n",
       "      <td>0.0</td>\n",
       "      <td>2.0</td>\n",
       "      <td>CCM</td>\n",
       "      <td>0.039536</td>\n",
       "      <td>3.1</td>\n",
       "      <td>3312500069</td>\n",
       "    </tr>\n",
       "  </tbody>\n",
       "</table>\n",
       "<p>5 rows × 24 columns</p>\n",
       "</div>"
      ],
      "text/plain": [
       "   prefix       uniqueId   raPhoSim  decPhoSim  phosimMagNorm  \\\n",
       "0  object  3392000025697  54.881856 -28.765553      21.346167   \n",
       "1  object  3392000033889  54.815604 -28.803041      22.967427   \n",
       "2  object  3392000037985  55.234418 -29.034768      23.699069   \n",
       "3  object  3392000069729  54.351016 -29.474949      15.274427   \n",
       "4  object  3392000070753  54.913149 -29.205063      21.510131   \n",
       "\n",
       "                          sedFilepath  redshift    shear1    shear2     kappa  \\\n",
       "0  galaxySED/Burst.80E09.002Z.spec.gz  0.017818 -0.000000 -0.000000  0.000000   \n",
       "1    galaxySED/Exp.80E09.002Z.spec.gz  0.021390 -0.000000 -0.000000  0.000000   \n",
       "2    galaxySED/Exp.10E10.002Z.spec.gz  0.018474 -0.000000 -0.000000  0.000000   \n",
       "3     galaxySED/Exp.10E10.04Z.spec.gz  0.047309 -0.000002 -0.000048  0.000007   \n",
       "4   galaxySED/Burst.80E09.04Z.spec.gz  0.037030 -0.000018  0.000027 -0.000017   \n",
       "\n",
       "      ...      minorAxis  positionAngle sindex  internalExtinctionModel  \\\n",
       "0     ...       0.648529      80.872978      4                      CCM   \n",
       "1     ...       0.298480      88.921657      4                      CCM   \n",
       "2     ...       1.166655     129.902200      4                      CCM   \n",
       "3     ...       2.746652      58.996228      4                      CCM   \n",
       "4     ...       0.708551     129.172123      4                      CCM   \n",
       "\n",
       "   internalAv  internalRv  galacticExtinctionModel galacticAv  galacticRv  \\\n",
       "0         0.0         2.0                      CCM   0.044331         3.1   \n",
       "1         0.0         2.0                      CCM   0.044144         3.1   \n",
       "2         0.0         2.0                      CCM   0.047380         3.1   \n",
       "3         0.0         2.0                      CCM   0.029307         3.1   \n",
       "4         0.0         2.0                      CCM   0.039536         3.1   \n",
       "\n",
       "    galaxy_id  \n",
       "0  3312500025  \n",
       "1  3312500033  \n",
       "2  3312500037  \n",
       "3  3312500068  \n",
       "4  3312500069  \n",
       "\n",
       "[5 rows x 24 columns]"
      ]
     },
     "execution_count": 11,
     "metadata": {},
     "output_type": "execute_result"
    }
   ],
   "source": [
    "df_galaxy.head()"
   ]
  },
  {
   "cell_type": "code",
   "execution_count": 12,
   "metadata": {},
   "outputs": [],
   "source": [
    "df_disk['galaxy_id'] = np.right_shift(df_disk['uniqueId'], 10)"
   ]
  },
  {
   "cell_type": "code",
   "execution_count": 13,
   "metadata": {},
   "outputs": [
    {
     "data": {
      "text/html": [
       "<div>\n",
       "<style>\n",
       "    .dataframe thead tr:only-child th {\n",
       "        text-align: right;\n",
       "    }\n",
       "\n",
       "    .dataframe thead th {\n",
       "        text-align: left;\n",
       "    }\n",
       "\n",
       "    .dataframe tbody tr th {\n",
       "        vertical-align: top;\n",
       "    }\n",
       "</style>\n",
       "<table border=\"1\" class=\"dataframe\">\n",
       "  <thead>\n",
       "    <tr style=\"text-align: right;\">\n",
       "      <th></th>\n",
       "      <th>prefix</th>\n",
       "      <th>uniqueId</th>\n",
       "      <th>raPhoSim</th>\n",
       "      <th>decPhoSim</th>\n",
       "      <th>phosimMagNorm</th>\n",
       "      <th>sedFilepath</th>\n",
       "      <th>redshift</th>\n",
       "      <th>shear1</th>\n",
       "      <th>shear2</th>\n",
       "      <th>kappa</th>\n",
       "      <th>...</th>\n",
       "      <th>minorAxis</th>\n",
       "      <th>positionAngle</th>\n",
       "      <th>sindex</th>\n",
       "      <th>internalExtinctionModel</th>\n",
       "      <th>internalAv</th>\n",
       "      <th>internalRv</th>\n",
       "      <th>galacticExtinctionModel</th>\n",
       "      <th>galacticAv</th>\n",
       "      <th>galacticRv</th>\n",
       "      <th>galaxy_id</th>\n",
       "    </tr>\n",
       "  </thead>\n",
       "  <tbody>\n",
       "    <tr>\n",
       "      <th>0</th>\n",
       "      <td>object</td>\n",
       "      <td>3392000009323</td>\n",
       "      <td>54.693652</td>\n",
       "      <td>-29.077189</td>\n",
       "      <td>18.192925</td>\n",
       "      <td>galaxySED/Exp.20E09.02Z.spec.gz</td>\n",
       "      <td>0.020022</td>\n",
       "      <td>-0.0</td>\n",
       "      <td>-0.0</td>\n",
       "      <td>0.0</td>\n",
       "      <td>...</td>\n",
       "      <td>2.121733</td>\n",
       "      <td>3.872094</td>\n",
       "      <td>1</td>\n",
       "      <td>CCM</td>\n",
       "      <td>0.1</td>\n",
       "      <td>4.0</td>\n",
       "      <td>CCM</td>\n",
       "      <td>0.041432</td>\n",
       "      <td>3.1</td>\n",
       "      <td>3312500009</td>\n",
       "    </tr>\n",
       "    <tr>\n",
       "      <th>1</th>\n",
       "      <td>object</td>\n",
       "      <td>3392000016491</td>\n",
       "      <td>54.877503</td>\n",
       "      <td>-28.839979</td>\n",
       "      <td>20.971618</td>\n",
       "      <td>galaxySED/Burst.20E09.0005Z.spec.gz</td>\n",
       "      <td>0.018648</td>\n",
       "      <td>-0.0</td>\n",
       "      <td>-0.0</td>\n",
       "      <td>0.0</td>\n",
       "      <td>...</td>\n",
       "      <td>2.155571</td>\n",
       "      <td>79.758104</td>\n",
       "      <td>1</td>\n",
       "      <td>CCM</td>\n",
       "      <td>0.1</td>\n",
       "      <td>3.5</td>\n",
       "      <td>CCM</td>\n",
       "      <td>0.046292</td>\n",
       "      <td>3.1</td>\n",
       "      <td>3312500016</td>\n",
       "    </tr>\n",
       "    <tr>\n",
       "      <th>2</th>\n",
       "      <td>object</td>\n",
       "      <td>3392000019563</td>\n",
       "      <td>54.994210</td>\n",
       "      <td>-28.802359</td>\n",
       "      <td>22.405348</td>\n",
       "      <td>galaxySED/Exp.50E09.0005Z.spec.gz</td>\n",
       "      <td>0.017085</td>\n",
       "      <td>-0.0</td>\n",
       "      <td>-0.0</td>\n",
       "      <td>0.0</td>\n",
       "      <td>...</td>\n",
       "      <td>0.557445</td>\n",
       "      <td>157.899908</td>\n",
       "      <td>1</td>\n",
       "      <td>CCM</td>\n",
       "      <td>0.2</td>\n",
       "      <td>2.1</td>\n",
       "      <td>CCM</td>\n",
       "      <td>0.045183</td>\n",
       "      <td>3.1</td>\n",
       "      <td>3312500019</td>\n",
       "    </tr>\n",
       "    <tr>\n",
       "      <th>3</th>\n",
       "      <td>object</td>\n",
       "      <td>3392000022635</td>\n",
       "      <td>54.562747</td>\n",
       "      <td>-29.058309</td>\n",
       "      <td>23.121197</td>\n",
       "      <td>galaxySED/Exp.50E09.002Z.spec.gz</td>\n",
       "      <td>0.020561</td>\n",
       "      <td>-0.0</td>\n",
       "      <td>-0.0</td>\n",
       "      <td>0.0</td>\n",
       "      <td>...</td>\n",
       "      <td>1.082256</td>\n",
       "      <td>93.739670</td>\n",
       "      <td>1</td>\n",
       "      <td>CCM</td>\n",
       "      <td>0.1</td>\n",
       "      <td>2.8</td>\n",
       "      <td>CCM</td>\n",
       "      <td>0.034288</td>\n",
       "      <td>3.1</td>\n",
       "      <td>3312500022</td>\n",
       "    </tr>\n",
       "    <tr>\n",
       "      <th>4</th>\n",
       "      <td>object</td>\n",
       "      <td>3392000025707</td>\n",
       "      <td>54.881856</td>\n",
       "      <td>-28.765553</td>\n",
       "      <td>23.794633</td>\n",
       "      <td>galaxySED/Exp.62E09.0005Z.spec.gz</td>\n",
       "      <td>0.017818</td>\n",
       "      <td>-0.0</td>\n",
       "      <td>-0.0</td>\n",
       "      <td>0.0</td>\n",
       "      <td>...</td>\n",
       "      <td>0.794547</td>\n",
       "      <td>80.872978</td>\n",
       "      <td>1</td>\n",
       "      <td>CCM</td>\n",
       "      <td>0.1</td>\n",
       "      <td>2.9</td>\n",
       "      <td>CCM</td>\n",
       "      <td>0.044331</td>\n",
       "      <td>3.1</td>\n",
       "      <td>3312500025</td>\n",
       "    </tr>\n",
       "  </tbody>\n",
       "</table>\n",
       "<p>5 rows × 24 columns</p>\n",
       "</div>"
      ],
      "text/plain": [
       "   prefix       uniqueId   raPhoSim  decPhoSim  phosimMagNorm  \\\n",
       "0  object  3392000009323  54.693652 -29.077189      18.192925   \n",
       "1  object  3392000016491  54.877503 -28.839979      20.971618   \n",
       "2  object  3392000019563  54.994210 -28.802359      22.405348   \n",
       "3  object  3392000022635  54.562747 -29.058309      23.121197   \n",
       "4  object  3392000025707  54.881856 -28.765553      23.794633   \n",
       "\n",
       "                           sedFilepath  redshift  shear1  shear2  kappa  \\\n",
       "0      galaxySED/Exp.20E09.02Z.spec.gz  0.020022    -0.0    -0.0    0.0   \n",
       "1  galaxySED/Burst.20E09.0005Z.spec.gz  0.018648    -0.0    -0.0    0.0   \n",
       "2    galaxySED/Exp.50E09.0005Z.spec.gz  0.017085    -0.0    -0.0    0.0   \n",
       "3     galaxySED/Exp.50E09.002Z.spec.gz  0.020561    -0.0    -0.0    0.0   \n",
       "4    galaxySED/Exp.62E09.0005Z.spec.gz  0.017818    -0.0    -0.0    0.0   \n",
       "\n",
       "      ...      minorAxis  positionAngle sindex  internalExtinctionModel  \\\n",
       "0     ...       2.121733       3.872094      1                      CCM   \n",
       "1     ...       2.155571      79.758104      1                      CCM   \n",
       "2     ...       0.557445     157.899908      1                      CCM   \n",
       "3     ...       1.082256      93.739670      1                      CCM   \n",
       "4     ...       0.794547      80.872978      1                      CCM   \n",
       "\n",
       "   internalAv  internalRv  galacticExtinctionModel galacticAv  galacticRv  \\\n",
       "0         0.1         4.0                      CCM   0.041432         3.1   \n",
       "1         0.1         3.5                      CCM   0.046292         3.1   \n",
       "2         0.2         2.1                      CCM   0.045183         3.1   \n",
       "3         0.1         2.8                      CCM   0.034288         3.1   \n",
       "4         0.1         2.9                      CCM   0.044331         3.1   \n",
       "\n",
       "    galaxy_id  \n",
       "0  3312500009  \n",
       "1  3312500016  \n",
       "2  3312500019  \n",
       "3  3312500022  \n",
       "4  3312500025  \n",
       "\n",
       "[5 rows x 24 columns]"
      ]
     },
     "execution_count": 13,
     "metadata": {},
     "output_type": "execute_result"
    }
   ],
   "source": [
    "df_disk.head()"
   ]
  },
  {
   "cell_type": "markdown",
   "metadata": {},
   "source": [
    "### Match the AGN catalog to Twinkles systems\n",
    "\n",
    "We will go through the AGN catalog and find AGN in the uDDF field that match our properties. We will then save the `galaxy_id` of these AGN and give the corresponding OM10 system a `twinklesId` in the catalog that identifies it with this AGN when the sprinkler runs."
   ]
  },
  {
   "cell_type": "code",
   "execution_count": 14,
   "metadata": {},
   "outputs": [],
   "source": [
    "# Load in OM10 lenses we are using in Twinkles\n",
    "\n",
    "from astropy.io import fits\n",
    "hdulist = fits.open('../../data/twinkles_lenses_%s.fits' % catalog_version)\n",
    "twinkles_lenses = hdulist[1].data"
   ]
  },
  {
   "cell_type": "code",
   "execution_count": 15,
   "metadata": {},
   "outputs": [],
   "source": [
    "# Only search within the DDF field\n",
    "df_agn = df_agn.query('raPhoSim < 53.755 and raPhoSim > 52.495 and decPhoSim < -27.55 and decPhoSim > -28.65')\n",
    "df_galaxy = df_galaxy.query('raPhoSim < 53.755 and raPhoSim > 52.495 and decPhoSim < -27.55 and decPhoSim > -28.65')\n",
    "df_disk = df_disk.query('raPhoSim < 53.755 and raPhoSim > 52.495 and decPhoSim < -27.55 and decPhoSim > -28.65')"
   ]
  },
  {
   "cell_type": "code",
   "execution_count": 16,
   "metadata": {},
   "outputs": [],
   "source": [
    "df_agn = df_agn.reset_index(drop=True)\n",
    "df_galaxy = df_galaxy.reset_index(drop=True)\n",
    "df_disk = df_disk.reset_index(drop=True)"
   ]
  },
  {
   "cell_type": "code",
   "execution_count": 19,
   "metadata": {},
   "outputs": [],
   "source": [
    "# Convert phosimMagNorm to i-band magnitudes for the uDDF AGN\n",
    "bpDict = BandpassDict.loadTotalBandpassesFromFiles(bandpassNames=['i'])\n",
    "bp = Bandpass()\n",
    "imsimBand = bp.imsimBandpass()\n",
    "agn_fname = str(getPackageDir('sims_sed_library') + '/agnSED/agn.spec.gz')\n",
    "\n",
    "src_iband = []\n",
    "src_mag_norm = df_agn['phosimMagNorm'].values\n",
    "src_z = df_agn['redshift'].values\n",
    "\n",
    "for src_mag, s_z in zip(src_mag_norm, src_z):\n",
    "    agn_sed = Sed()\n",
    "    agn_sed.readSED_flambda(agn_fname)\n",
    "    f_norm = getImsimFluxNorm(agn_sed, src_mag)\n",
    "    agn_sed.multiplyFluxNorm(f_norm)\n",
    "    agn_sed.redshiftSED(s_z, dimming=True)\n",
    "    src_iband.append(agn_sed.calcMag(bpDict['i']))"
   ]
  },
  {
   "cell_type": "code",
   "execution_count": 20,
   "metadata": {},
   "outputs": [],
   "source": [
    "df_agn['i_magnitude'] = src_iband"
   ]
  },
  {
   "cell_type": "markdown",
   "metadata": {},
   "source": [
    "We want to match the AGN in the uDDF field to lensed systems based upon the redshift and magnitude of the source AGN. In this example we use 0.1 dex in redshift and 0.25 mags in the _i_-band. **(Anytime you use a new catalog this may need to be played with to get the desired number of systems)**"
   ]
  },
  {
   "cell_type": "code",
   "execution_count": 21,
   "metadata": {},
   "outputs": [],
   "source": [
    "def find_agn_lens_candidates(galz, gal_mag):\n",
    "        # search the OM10 catalog for all sources +- 0.1 dex in redshift                                                                                               \n",
    "        # and within .25 mags of the AGN source                                                                                                                     \n",
    "    w = np.where((np.abs(np.log10(twinkles_lenses['ZSRC']) - np.log10(galz)) <= 0.1) &\n",
    "                     (np.abs(twinkles_lenses['MAGI_IN'] - gal_mag) <= .25))[0]\n",
    "    lens_candidates = twinkles_lenses[w]\n",
    "\n",
    "    return lens_candidates"
   ]
  },
  {
   "cell_type": "markdown",
   "metadata": {},
   "source": [
    "#### Avoid galaxies with unlensed SNe.\n",
    "\n",
    "First load up cached `galaxy_ids` and then to speed things up when comparing to possible sprinkled ids we use database merges to only find the ones that are in the uddf field."
   ]
  },
  {
   "cell_type": "code",
   "execution_count": 22,
   "metadata": {},
   "outputs": [],
   "source": [
    "conn = sqlite3.connect(sneDB) "
   ]
  },
  {
   "cell_type": "code",
   "execution_count": 23,
   "metadata": {},
   "outputs": [],
   "source": [
    "sne_query = conn.cursor()"
   ]
  },
  {
   "cell_type": "code",
   "execution_count": 24,
   "metadata": {},
   "outputs": [],
   "source": [
    "sne_unsprinkled_galids = sne_query.execute('select galaxy_id from sne_params').fetchall()"
   ]
  },
  {
   "cell_type": "code",
   "execution_count": 25,
   "metadata": {},
   "outputs": [],
   "source": [
    "sne_unsprinkled_galids = np.array(sne_unsprinkled_galids).flatten()"
   ]
  },
  {
   "cell_type": "code",
   "execution_count": 26,
   "metadata": {},
   "outputs": [],
   "source": [
    "ddf_galids = pd.DataFrame(df_agn['galaxy_id'])"
   ]
  },
  {
   "cell_type": "code",
   "execution_count": 27,
   "metadata": {},
   "outputs": [],
   "source": [
    "ddf_galids = ddf_galids.merge(pd.DataFrame(df_galaxy['galaxy_id']), how='outer', on='galaxy_id')"
   ]
  },
  {
   "cell_type": "code",
   "execution_count": 28,
   "metadata": {},
   "outputs": [],
   "source": [
    "ddf_galids = ddf_galids.merge(pd.DataFrame(df_disk['galaxy_id']), how='outer', on='galaxy_id')"
   ]
  },
  {
   "cell_type": "code",
   "execution_count": 29,
   "metadata": {},
   "outputs": [],
   "source": [
    "sne_avoid_galids = ddf_galids.merge(pd.DataFrame(sne_unsprinkled_galids, columns=['galaxy_id']), how='inner', on='galaxy_id')"
   ]
  },
  {
   "cell_type": "code",
   "execution_count": 30,
   "metadata": {},
   "outputs": [],
   "source": [
    "sne_avoid_galids = sne_avoid_galids.values"
   ]
  },
  {
   "cell_type": "markdown",
   "metadata": {},
   "source": [
    "#### Add weights to get final sprinkled distribution close to OM10"
   ]
  },
  {
   "cell_type": "code",
   "execution_count": 31,
   "metadata": {},
   "outputs": [],
   "source": [
    "import matplotlib as mpl\n",
    "mpl.rcParams['text.usetex'] = False"
   ]
  },
  {
   "cell_type": "code",
   "execution_count": 54,
   "metadata": {},
   "outputs": [],
   "source": [
    "n, bins = np.histogram(twinkles_lenses['MAGI_IN'], bins=20)"
   ]
  },
  {
   "cell_type": "code",
   "execution_count": 55,
   "metadata": {},
   "outputs": [],
   "source": [
    "bin_centers = 0.5*(bins[:-1] + bins[1:])\n",
    "n = n / np.max(n)"
   ]
  },
  {
   "cell_type": "code",
   "execution_count": 56,
   "metadata": {},
   "outputs": [
    {
     "data": {
      "text/plain": [
       "<matplotlib.legend.Legend at 0x2aec804337f0>"
      ]
     },
     "execution_count": 56,
     "metadata": {},
     "output_type": "execute_result"
    },
    {
     "name": "stderr",
     "output_type": "stream",
     "text": [
      "/global/common/software/lsst/common/miniconda/py3-4.3.21-env/lib/python3.6/site-packages/matplotlib/font_manager.py:1297: UserWarning: findfont: Font family ['serif'] not found. Falling back to DejaVu Sans\n",
      "  (prop.get_family(), self.defaultFamily[fontext]))\n"
     ]
    },
    {
     "data": {
      "image/png": "[encoded data removed]",
      "text/plain": [
       "<matplotlib.figure.Figure at 0x2aec80367be0>"
      ]
     },
     "metadata": {},
     "output_type": "display_data"
    }
   ],
   "source": [
    "mpl.rcParams['text.usetex'] = False\n",
    "n, bins, _ = plt.hist(twinkles_lenses['MAGI_IN'][np.where(twinkles_lenses['ZSRC'] <= (3. + np.log10(3.)*.1))],\n",
    "                      histtype='step', lw=4, normed=True, bins=20, label='OM10')\n",
    "plt.hist(df_agn['i_magnitude'].values, bins=bins, histtype='step', normed=True, label='DC2')\n",
    "plt.xlabel('i Magnitude')\n",
    "plt.ylabel('Counts')\n",
    "plt.legend(loc=2)"
   ]
  },
  {
   "cell_type": "code",
   "execution_count": 57,
   "metadata": {},
   "outputs": [
    {
     "data": {
      "text/plain": [
       "<matplotlib.legend.Legend at 0x2aec80584278>"
      ]
     },
     "execution_count": 57,
     "metadata": {},
     "output_type": "execute_result"
    },
    {
     "name": "stderr",
     "output_type": "stream",
     "text": [
      "/global/common/software/lsst/common/miniconda/py3-4.3.21-env/lib/python3.6/site-packages/matplotlib/font_manager.py:1297: UserWarning: findfont: Font family ['serif'] not found. Falling back to DejaVu Sans\n",
      "  (prop.get_family(), self.defaultFamily[fontext]))\n"
     ]
    },
    {
     "data": {
      "image/png": "[encoded data removed]",
      "text/plain": [
       "<matplotlib.figure.Figure at 0x2aec803885c0>"
      ]
     },
     "metadata": {},
     "output_type": "display_data"
    }
   ],
   "source": [
    "mpl.rcParams['text.usetex'] = False\n",
    "n_z, bins_z, _ = plt.hist(twinkles_lenses['ZSRC'][np.where(twinkles_lenses['ZSRC'] <= (3. + np.log10(3.)*.1))],\n",
    "                          histtype='step', lw=4, normed=True, bins=20, label='OM10')\n",
    "plt.hist(df_agn['redshift'].values, bins=bins_z, histtype='step', normed=True, label='DC2')\n",
    "plt.xlabel('Redshift')\n",
    "plt.ylabel('Counts')\n",
    "plt.legend(loc=2)"
   ]
  },
  {
   "cell_type": "code",
   "execution_count": 61,
   "metadata": {},
   "outputs": [
    {
     "data": {
      "text/plain": [
       "<matplotlib.text.Text at 0x2aec80a852b0>"
      ]
     },
     "execution_count": 61,
     "metadata": {},
     "output_type": "execute_result"
    },
    {
     "name": "stderr",
     "output_type": "stream",
     "text": [
      "/global/common/software/lsst/common/miniconda/py3-4.3.21-env/lib/python3.6/site-packages/matplotlib/font_manager.py:1297: UserWarning: findfont: Font family ['serif'] not found. Falling back to DejaVu Sans\n",
      "  (prop.get_family(), self.defaultFamily[fontext]))\n"
     ]
    },
    {
     "data": {
      "image/png": "[encoded data removed]",
      "text/plain": [
       "<matplotlib.figure.Figure at 0x2aec801bfc88>"
      ]
     },
     "metadata": {},
     "output_type": "display_data"
    }
   ],
   "source": [
    "n_zeros = np.zeros(22)\n",
    "n_zeros[1:-1] = n\n",
    "\n",
    "n_2 = np.zeros(22)\n",
    "n_2 += n_zeros\n",
    "n_2[2:-6] += 2. * n_zeros[8:]\n",
    "n_2[9] += 0.1\n",
    "n_2[10] += 0.2\n",
    "n_2[11] += 0.1\n",
    "#n_2[6:15] += 2. * (2. - np.linspace(0, 2, 9))\n",
    "n_2[6:15] += 1. * (1. - np.linspace(0, 1, 9))\n",
    "#n_2[6:11] += 2. * (2. - np.linspace(0, 2, 5))\n",
    "n_2 = n_2 / np.max(n_2)\n",
    "n_2[2:4] += .2\n",
    "n_2[4:10] = 1.0\n",
    "n_2[11:] *= .85\n",
    "\n",
    "plt.plot(bins, n_2[:-1])\n",
    "plt.xlabel('Source I Magnitude')\n",
    "plt.ylabel('Weight')"
   ]
  },
  {
   "cell_type": "code",
   "execution_count": 59,
   "metadata": {},
   "outputs": [
    {
     "name": "stdout",
     "output_type": "stream",
     "text": [
      "0.02\n"
     ]
    },
    {
     "data": {
      "text/plain": [
       "<matplotlib.text.Text at 0x2aec8069a518>"
      ]
     },
     "execution_count": 59,
     "metadata": {},
     "output_type": "execute_result"
    },
    {
     "name": "stderr",
     "output_type": "stream",
     "text": [
      "/global/common/software/lsst/common/miniconda/py3-4.3.21-env/lib/python3.6/site-packages/matplotlib/font_manager.py:1297: UserWarning: findfont: Font family ['serif'] not found. Falling back to DejaVu Sans\n",
      "  (prop.get_family(), self.defaultFamily[fontext]))\n"
     ]
    },
    {
     "data": {
      "image/png": "[encoded data removed]",
      "text/plain": [
       "<matplotlib.figure.Figure at 0x2aec805e0898>"
      ]
     },
     "metadata": {},
     "output_type": "display_data"
    }
   ],
   "source": [
    "n_redshift = np.zeros(22)\n",
    "n_redshift[1:-1] = n_z\n",
    "n_redshift = n_redshift / np.max(n_redshift)\n",
    "n_redshift[:8] += 0.1\n",
    "n_redshift[-8:] = 1.0\n",
    "n_redshift[:-8] -= 0.08\n",
    "n_redshift[5:-8] -= 0.05\n",
    "n_redshift[3] -= 0.01\n",
    "n_redshift[4] -= 0.03\n",
    "n_redshift[5] -= 0.01\n",
    "n_redshift[6] -= 0.04\n",
    "n_redshift[7] -= 0.05\n",
    "n_redshift[8] -= 0.03\n",
    "n_redshift[9] -=0.05\n",
    "n_redshift[10] -= 0.1\n",
    "n_redshift[11] -= 0.02\n",
    "#n_redshift[12] -= 0.\n",
    "#n_redshift = n_reds\n",
    "print(np.min(n_redshift))\n",
    "\n",
    "plt.plot(bins_z, n_redshift[:-1])\n",
    "plt.ylim(0, 1.05)\n",
    "plt.xlabel('Source Redshift')\n",
    "plt.ylabel('Weight')"
   ]
  },
  {
   "cell_type": "markdown",
   "metadata": {},
   "source": [
    "#### Sprinkle in the AGN"
   ]
  },
  {
   "cell_type": "code",
   "execution_count": 62,
   "metadata": {},
   "outputs": [
    {
     "name": "stdout",
     "output_type": "stream",
     "text": [
      "0 0\n",
      "5000 4\n",
      "10000 17\n",
      "15000 32\n",
      "20000 48\n",
      "25000 78\n",
      "30000 127\n",
      "35000 195\n",
      "40000 269\n",
      "45000 375\n",
      "50000 500\n",
      "55000 627\n",
      "60000 741\n",
      "65000 879\n",
      "70000 900\n",
      "75000 980\n",
      "CPU times: user 20min 43s, sys: 20.9 s, total: 21min 4s\n",
      "Wall time: 21min 4s\n"
     ]
    }
   ],
   "source": [
    "%%time\n",
    "density_param = 1.0\n",
    "good_rows = []\n",
    "ra_list = []\n",
    "dec_list = []\n",
    "gal_ids = []\n",
    "catalog_row_num = []\n",
    "catalog_ids = []\n",
    "\n",
    "for row_idx in range(len(df_agn)):\n",
    "    \n",
    "    row = df_agn.iloc[row_idx]\n",
    "    \n",
    "    if row_idx % 5000 == 0:\n",
    "        print(row_idx, len(catalog_ids))\n",
    "\n",
    "    if row.galaxy_id > 0:\n",
    "        candidates = find_agn_lens_candidates(row.redshift, row.i_magnitude)\n",
    "        np.random.seed(np.int(row.galaxy_id) % 4294967296)\n",
    "        keep_idx = []\n",
    "        if len(candidates) > 0:\n",
    "            for candidate_idx, candidate_sys in list(enumerate(candidates['LENSID'])):\n",
    "                if candidate_sys not in catalog_ids:\n",
    "                    keep_idx.append(candidate_idx)\n",
    "            if len(keep_idx) == 0:\n",
    "                continue\n",
    "            else:\n",
    "                candidates = candidates[keep_idx]\n",
    "        pick_value = np.random.uniform()\n",
    "        \n",
    "        bin_num = np.digitize(row['i_magnitude'], bins)\n",
    "        binz_num = np.digitize(row['redshift'], bins_z)\n",
    "\n",
    "        #density_param_mag = n_zeros[bin_num] * density_param\n",
    "        density_param_mag = n_2[bin_num] * n_redshift[binz_num] * density_param\n",
    "        \n",
    "        if ((len(candidates) > 0) and (pick_value <= density_param_mag)):\n",
    "            good_rows.append(row_idx)\n",
    "            gal_ids.append(row.galaxy_id)\n",
    "            newlens = np.random.choice(candidates)\n",
    "            catalog_ids.append(newlens['LENSID'])\n",
    "            catalog_row_num.append(np.where(twinkles_lenses['LENSID'] == newlens['LENSID'])[0][0])\n",
    "            ra_list.append(row.raPhoSim)\n",
    "            dec_list.append(row.decPhoSim)\n",
    "            #print(len(catalog_ids))"
   ]
  },
  {
   "cell_type": "markdown",
   "metadata": {},
   "source": [
    "#### Check performance of weights"
   ]
  },
  {
   "cell_type": "code",
   "execution_count": 63,
   "metadata": {},
   "outputs": [
    {
     "data": {
      "text/plain": [
       "<matplotlib.legend.Legend at 0x2aec8082afd0>"
      ]
     },
     "execution_count": 63,
     "metadata": {},
     "output_type": "execute_result"
    },
    {
     "name": "stderr",
     "output_type": "stream",
     "text": [
      "/global/common/software/lsst/common/miniconda/py3-4.3.21-env/lib/python3.6/site-packages/matplotlib/font_manager.py:1297: UserWarning: findfont: Font family ['serif'] not found. Falling back to DejaVu Sans\n",
      "  (prop.get_family(), self.defaultFamily[fontext]))\n"
     ]
    },
    {
     "data": {
      "image/png": "[encoded data removed]",
      "text/plain": [
       "<matplotlib.figure.Figure at 0x2aec806ec5f8>"
      ]
     },
     "metadata": {},
     "output_type": "display_data"
    }
   ],
   "source": [
    "mpl.rcParams['text.usetex'] = False\n",
    "n, bins, _ = plt.hist(twinkles_lenses['MAGI_IN'][np.where(twinkles_lenses['ZSRC'] <= (3. + np.log10(3.)*.1))],\n",
    "                      histtype='step', lw=4, normed=True, bins=10, label='OM10')\n",
    "plt.hist(df_agn['i_magnitude'].values[good_rows], normed=True, bins=bins, histtype='step', label='New Model Catalog')\n",
    "plt.hist(df_agn['i_magnitude'].values, bins=bins, histtype='step', normed=True, label='DC2')\n",
    "plt.xlabel('i Magnitude')\n",
    "plt.ylabel('Counts')\n",
    "plt.legend(loc=2)"
   ]
  },
  {
   "cell_type": "code",
   "execution_count": 64,
   "metadata": {},
   "outputs": [
    {
     "data": {
      "text/plain": [
       "<matplotlib.legend.Legend at 0x2aec809db240>"
      ]
     },
     "execution_count": 64,
     "metadata": {},
     "output_type": "execute_result"
    },
    {
     "name": "stderr",
     "output_type": "stream",
     "text": [
      "/global/common/software/lsst/common/miniconda/py3-4.3.21-env/lib/python3.6/site-packages/matplotlib/font_manager.py:1297: UserWarning: findfont: Font family ['serif'] not found. Falling back to DejaVu Sans\n",
      "  (prop.get_family(), self.defaultFamily[fontext]))\n"
     ]
    },
    {
     "data": {
      "image/png": "[encoded data removed]",
      "text/plain": [
       "<matplotlib.figure.Figure at 0x2aec8074f358>"
      ]
     },
     "metadata": {},
     "output_type": "display_data"
    }
   ],
   "source": [
    "mpl.rcParams['text.usetex'] = False\n",
    "n_z, bins_z, _ = plt.hist(twinkles_lenses['ZSRC'][np.where(twinkles_lenses['ZSRC'] <= (3. + np.log10(3.)*.1))],\n",
    "                          histtype='step', lw=4, normed=True, bins=10, label='OM10')\n",
    "plt.hist(df_agn['redshift'].values[good_rows], normed=True, bins=bins_z, histtype='step', label='New Model Catalog')\n",
    "plt.hist(df_agn['redshift'].values, bins=bins_z, histtype='step', normed=True, label='DC2')\n",
    "plt.xlabel('Redshift')\n",
    "plt.ylabel('Counts')\n",
    "plt.legend(loc=2)"
   ]
  },
  {
   "cell_type": "code",
   "execution_count": 65,
   "metadata": {},
   "outputs": [
    {
     "name": "stdout",
     "output_type": "stream",
     "text": [
      "1041\n"
     ]
    }
   ],
   "source": [
    "print(len(catalog_ids))"
   ]
  },
  {
   "cell_type": "code",
   "execution_count": 66,
   "metadata": {},
   "outputs": [
    {
     "data": {
      "text/plain": [
       "(1041, 1041, 1041, 1041)"
      ]
     },
     "execution_count": 66,
     "metadata": {},
     "output_type": "execute_result"
    }
   ],
   "source": [
    "len(good_rows), len(np.unique(good_rows)), len(np.unique(catalog_ids)), len(np.unique(catalog_row_num))"
   ]
  },
  {
   "cell_type": "markdown",
   "metadata": {},
   "source": [
    "Check to see that our cached systems are distributed throughout the uDDF field."
   ]
  },
  {
   "cell_type": "code",
   "execution_count": 67,
   "metadata": {},
   "outputs": [
    {
     "data": {
      "text/plain": [
       "<matplotlib.text.Text at 0x2aec809420f0>"
      ]
     },
     "execution_count": 67,
     "metadata": {},
     "output_type": "execute_result"
    },
    {
     "name": "stderr",
     "output_type": "stream",
     "text": [
      "/global/common/software/lsst/common/miniconda/py3-4.3.21-env/lib/python3.6/site-packages/matplotlib/font_manager.py:1297: UserWarning: findfont: Font family ['serif'] not found. Falling back to DejaVu Sans\n",
      "  (prop.get_family(), self.defaultFamily[fontext]))\n"
     ]
    },
    {
     "data": {
      "image/png": "[encoded data removed]",
      "text/plain": [
       "<matplotlib.figure.Figure at 0x2aec8083c4a8>"
      ]
     },
     "metadata": {},
     "output_type": "display_data"
    }
   ],
   "source": [
    "plt.scatter(ra_list, dec_list, s=6)\n",
    "plt.plot((52.486, 53.764), (-27.533, -27.533))\n",
    "plt.plot((52.479, 53.771), (-28.667, -28.667))\n",
    "plt.plot((52.479, 52.486), (-28.667, -27.533))\n",
    "plt.plot((53.771, 53.764), (-28.667, -27.533))\n",
    "plt.xlabel(r'ra')\n",
    "plt.ylabel(r'dec')\n",
    "plt.title('AGN Cache Locations')\n",
    "#plt.savefig('agn_cache.png')"
   ]
  },
  {
   "cell_type": "code",
   "execution_count": 68,
   "metadata": {},
   "outputs": [],
   "source": [
    "catalog_row_sort = np.argsort(catalog_row_num)\n",
    "catalog_row_num = np.array(catalog_row_num)"
   ]
  },
  {
   "cell_type": "code",
   "execution_count": 69,
   "metadata": {},
   "outputs": [],
   "source": [
    "# Add in Twinkles ID Number to catalog for matched objects\n",
    "col_list = []\n",
    "for col in twinkles_lenses.columns:\n",
    "        col_list.append(fits.Column(name=col.name, format=col.format, array=twinkles_lenses[col.name][catalog_row_num[catalog_row_sort]]))\n",
    "col_list.append(fits.Column(name='twinklesId', format='I', array=np.arange(len(good_rows))))"
   ]
  },
  {
   "cell_type": "markdown",
   "metadata": {},
   "source": [
    "Save this catalog of only the systems we need."
   ]
  },
  {
   "cell_type": "code",
   "execution_count": 74,
   "metadata": {},
   "outputs": [],
   "source": [
    "cols = fits.ColDefs(col_list)\n",
    "tbhdu = fits.BinTableHDU.from_columns(cols)\n",
    "tbhdu.writeto('../../data/%s_matched_AGN.fits' % catalog_version)"
   ]
  },
  {
   "cell_type": "code",
   "execution_count": 75,
   "metadata": {},
   "outputs": [
    {
     "data": {
      "text/plain": [
       "FITS_rec([ (180815, 0, 2,  0.148,  185.3532,  0.3160502, -152.0115,  0.1271122 ,  -74.08778,  1.84,  0.02119813, -0.4816578 ,  21.09,  21.32645,  1.877594 , [ 0.0523, -0.067 ,  0.    ,  0.    ], [-1.484 ,  0.3898,  0.    ,  0.    ], [ 2.4412, -0.8043,  0.    ,  0.    ], [  0.   ,  17.314,   0.   ,   0.   ], [ 0.,  0.,  0.,  0.], [ 0.,  0.,  0.,  0.],  533.239136,  702.757996, -21.9997215,  17.3823071,  0.148,  1739.41,  1523.86,  0.,  14029.4,  0.,  2.24242353,  0., 'galaxySED/Exp.10E10.04Z.spec.gz', [ 18.2765143 ,  18.19344297,  18.14308496,  18.13552231,  18.15852128,  18.08364284],  0.1,  4., 0),\n",
       "          (331285, 0, 2,  0.182,  250.0345,  0.1574301,   64.386 ,  0.07536626,  134.5435 ,  2.11,  0.08542685,  0.7838489 ,  22.77,  22.61355,  3.177474 , [-0.0927, -0.071 ,  0.    ,  0.    ], [-0.7931,  2.3843,  0.    ,  0.    ], [-1.155 ,  2.6649,  0.    ,  0.    ], [ 59.211,   0.   ,   0.   ,   0.   ], [ 0.,  0.,  0.,  0.], [ 0.,  0.,  0.,  0.],  631.576843,  882.391235, -22.8104191,  17.0998859,  0.182,  1715.29,  1475.25,  0.,  16590.5,  0.,  1.54745221,  0., 'galaxySED/Exp.10E10.04Z.spec.gz', [ 17.93347472,  17.9115184 ,  17.89440975,  17.88771172,  17.89797683,  17.87929318],  0. ,  2., 1),\n",
       "          (402741, 0, 2,  0.196,  143.2188,  0.1968031, -129.0862,  0.03295278,   19.85506,  2.4 ,  0.03347103, -0.09864847,  20.77,  19.99433,  0.9332131, [-0.0927, -0.1949,  0.    ,  0.    ], [-0.5962,  0.3314,  0.    ,  0.    ], [ 5.4241, -2.043 ,  0.    ,  0.    ], [  0.   ,   2.769,   0.   ,   0.   ], [ 0.,  0.,  0.,  0.], [ 0.,  0.,  0.,  0.],  669.863464,  958.18335 , -21.3592377,  18.7440052,  0.196,  1678.98,  1443.34,  0.,  19409. ,  0.,  1.06691802,  0., 'galaxySED/Exp.80E09.04Z.spec.gz', [ 19.37730414,  19.26724465,  19.22618074,  19.19281115,  19.17082884,  19.17611358],  0.3,  4., 2),\n",
       "          (431864, 0, 2,  0.2  ,  205.1162,  0.2784123,  -39.1588,  0.05159786,   75.38537,  2.16,  0.1176923 , -0.06849588,  24.49,  22.90721,  1.882717 , [ 0.8468, -0.8855,  0.    ,  0.    ], [-0.8346, -0.0972,  0.    ,  0.    ], [ 4.2965, -5.3298,  0.    ,  0.    ], [  0.   ,   8.204,   0.   ,   0.   ], [ 0.,  0.,  0.,  0.], [ 0.,  0.,  0.,  0.],  680.579895,  980.035156, -22.3044796,  17.8517303,  0.2  ,  1709.61,  1451.17,  0.,  17071.5,  0.,  1.33297384,  0., 'galaxySED/Exp.50E09.1Z.spec.gz', [ 18.37008331,  18.55835402,  18.58682931,  18.55513245,  18.52018132,  18.51841408],  0. ,  2., 3),\n",
       "          (433494, 0, 2,  0.2  ,  251.7677,  0.2994493, -172.1318,  0.03653422,  113.1897 ,  3.22,  0.1822529 , -0.3002279 ,  23.31,  22.57836,  3.051673 , [ 1.5629, -0.3751,  0.    ,  0.    ], [-1.2007,  1.1566,  0.    ,  0.    ], [ 4.6228, -1.9618,  0.    ,  0.    ], [  0.   ,  30.312,   0.   ,   0.   ], [ 0.,  0.,  0.,  0.], [ 0.,  0.,  0.,  0.],  680.579895,  980.035156, -22.8420391,  17.3141708,  0.2  ,  1554.16,  1360.63,  0.,  27677.1,  0.,  1.79089081,  0., 'galaxySED/Exp.62E09.1Z.spec.gz', [ 18.17430472,  18.12728488,  18.09243736,  18.06133885,  18.0582133 ,  18.05085614],  0. ,  2., 4)],\n",
       "         dtype=(numpy.record, [('LENSID', '<i4'), ('FLAGTYPE', '<i2'), ('NIMG', '<i2'), ('ZLENS', '<f8'), ('VELDISP', '<f8'), ('ELLIP', '<f8'), ('PHIE', '<f8'), ('GAMMA', '<f8'), ('PHIG', '<f8'), ('ZSRC', '<f8'), ('XSRC', '<f8'), ('YSRC', '<f8'), ('MAGI_IN', '<f8'), ('MAGI', '<f8'), ('IMSEP', '<f8'), ('XIMG', '<f8', (4,)), ('YIMG', '<f8', (4,)), ('MAG', '<f8', (4,)), ('DELAY', '<f8', (4,)), ('KAPPA', '<f8', (4,)), ('FSTAR', '<f8', (4,)), ('DD', '<f8'), ('DDLUM', '<f8'), ('ABMAG_I', '<f8'), ('APMAG_I', '<f8'), ('KCORR', '<f8'), ('DS', '<f8'), ('DDS', '<f8'), ('SIGCRIT', '<f8'), ('DSLUM', '<f8'), ('L_I', '<f8'), ('REFF', '<f8'), ('REFF_T', '<f8'), ('lens_sed', 'S40'), ('sed_magNorm', '<f8', (6,)), ('lens_av', '<f8'), ('lens_rv', '<f8'), ('twinklesId', '<i2')]))"
      ]
     },
     "execution_count": 75,
     "metadata": {},
     "output_type": "execute_result"
    }
   ],
   "source": [
    "tbhdu.data[:5]"
   ]
  },
  {
   "cell_type": "markdown",
   "metadata": {},
   "source": [
    "Save the cached `galaxy_id` info to file"
   ]
  },
  {
   "cell_type": "code",
   "execution_count": 76,
   "metadata": {},
   "outputs": [],
   "source": [
    "agn_cache = pd.DataFrame(np.array([np.array(gal_ids)[catalog_row_sort], np.arange(len(good_rows))], dtype=np.int).T,\n",
    "                         columns=['galtileid', 'twinkles_system'])"
   ]
  },
  {
   "cell_type": "code",
   "execution_count": 77,
   "metadata": {},
   "outputs": [
    {
     "data": {
      "text/html": [
       "<div>\n",
       "<style>\n",
       "    .dataframe thead tr:only-child th {\n",
       "        text-align: right;\n",
       "    }\n",
       "\n",
       "    .dataframe thead th {\n",
       "        text-align: left;\n",
       "    }\n",
       "\n",
       "    .dataframe tbody tr th {\n",
       "        vertical-align: top;\n",
       "    }\n",
       "</style>\n",
       "<table border=\"1\" class=\"dataframe\">\n",
       "  <thead>\n",
       "    <tr style=\"text-align: right;\">\n",
       "      <th></th>\n",
       "      <th>galtileid</th>\n",
       "      <th>twinkles_system</th>\n",
       "    </tr>\n",
       "  </thead>\n",
       "  <tbody>\n",
       "    <tr>\n",
       "      <th>0</th>\n",
       "      <td>2576147484</td>\n",
       "      <td>0</td>\n",
       "    </tr>\n",
       "    <tr>\n",
       "      <th>1</th>\n",
       "      <td>2575015432</td>\n",
       "      <td>1</td>\n",
       "    </tr>\n",
       "    <tr>\n",
       "      <th>2</th>\n",
       "      <td>2570933234</td>\n",
       "      <td>2</td>\n",
       "    </tr>\n",
       "    <tr>\n",
       "      <th>3</th>\n",
       "      <td>2575572017</td>\n",
       "      <td>3</td>\n",
       "    </tr>\n",
       "    <tr>\n",
       "      <th>4</th>\n",
       "      <td>2582033153</td>\n",
       "      <td>4</td>\n",
       "    </tr>\n",
       "  </tbody>\n",
       "</table>\n",
       "</div>"
      ],
      "text/plain": [
       "    galtileid  twinkles_system\n",
       "0  2576147484                0\n",
       "1  2575015432                1\n",
       "2  2570933234                2\n",
       "3  2575572017                3\n",
       "4  2582033153                4"
      ]
     },
     "execution_count": 77,
     "metadata": {},
     "output_type": "execute_result"
    }
   ],
   "source": [
    "agn_cache.head()"
   ]
  },
  {
   "cell_type": "code",
   "execution_count": 78,
   "metadata": {},
   "outputs": [
    {
     "data": {
      "text/html": [
       "<div>\n",
       "<style>\n",
       "    .dataframe thead tr:only-child th {\n",
       "        text-align: right;\n",
       "    }\n",
       "\n",
       "    .dataframe thead th {\n",
       "        text-align: left;\n",
       "    }\n",
       "\n",
       "    .dataframe tbody tr th {\n",
       "        vertical-align: top;\n",
       "    }\n",
       "</style>\n",
       "<table border=\"1\" class=\"dataframe\">\n",
       "  <thead>\n",
       "    <tr style=\"text-align: right;\">\n",
       "      <th></th>\n",
       "      <th>galtileid</th>\n",
       "      <th>twinkles_system</th>\n",
       "    </tr>\n",
       "  </thead>\n",
       "  <tbody>\n",
       "    <tr>\n",
       "      <th>1036</th>\n",
       "      <td>2578570748</td>\n",
       "      <td>1036</td>\n",
       "    </tr>\n",
       "    <tr>\n",
       "      <th>1037</th>\n",
       "      <td>2576135632</td>\n",
       "      <td>1037</td>\n",
       "    </tr>\n",
       "    <tr>\n",
       "      <th>1038</th>\n",
       "      <td>2577377768</td>\n",
       "      <td>1038</td>\n",
       "    </tr>\n",
       "    <tr>\n",
       "      <th>1039</th>\n",
       "      <td>2580429345</td>\n",
       "      <td>1039</td>\n",
       "    </tr>\n",
       "    <tr>\n",
       "      <th>1040</th>\n",
       "      <td>2581215070</td>\n",
       "      <td>1040</td>\n",
       "    </tr>\n",
       "  </tbody>\n",
       "</table>\n",
       "</div>"
      ],
      "text/plain": [
       "       galtileid  twinkles_system\n",
       "1036  2578570748             1036\n",
       "1037  2576135632             1037\n",
       "1038  2577377768             1038\n",
       "1039  2580429345             1039\n",
       "1040  2581215070             1040"
      ]
     },
     "execution_count": 78,
     "metadata": {},
     "output_type": "execute_result"
    }
   ],
   "source": [
    "agn_cache.tail()"
   ]
  },
  {
   "cell_type": "code",
   "execution_count": 79,
   "metadata": {},
   "outputs": [
    {
     "name": "stdout",
     "output_type": "stream",
     "text": [
      "[ True]\n"
     ]
    }
   ],
   "source": [
    "#Check that galaxy_ids and twinkles_ids in FITS match up after sort\n",
    "g_id = np.where(np.array(gal_ids) == agn_cache['galtileid'].values[0])\n",
    "print(np.array(catalog_ids)[g_id] == tbhdu.data['LENSID'][0])"
   ]
  },
  {
   "cell_type": "code",
   "execution_count": 80,
   "metadata": {},
   "outputs": [],
   "source": [
    "agn_cache.to_csv('../../data/%s_agn_cache.csv' % catalog_version, index=False)"
   ]
  },
  {
   "cell_type": "markdown",
   "metadata": {},
   "source": [
    "### Match to GLSNe catalog\n",
    "\n",
    "Here we do the same as we did for the AGN and OM10 catalog except with a bulge+disk galaxy catalog and the host galaxy information from the Gravitationally Lensed SNe catalog.\n",
    "\n",
    "We begin by loading the hdf5 tables for the lensed SNe catalog into dataframes."
   ]
  },
  {
   "cell_type": "code",
   "execution_count": 81,
   "metadata": {},
   "outputs": [],
   "source": [
    "sne_systems = pd.read_hdf('/global/cscratch1/sd/brycek/glsne_%s.h5' % catalog_version, key='system')\n",
    "sne_images = pd.read_hdf('/global/cscratch1/sd/brycek/glsne_%s.h5' % catalog_version, key='image')"
   ]
  },
  {
   "cell_type": "code",
   "execution_count": 82,
   "metadata": {},
   "outputs": [],
   "source": [
    "use_gals_df = df_galaxy.query('raPhoSim > 52.495 and raPhoSim < 53.755 and decPhoSim > -28.65 and decPhoSim < -27.55')"
   ]
  },
  {
   "cell_type": "code",
   "execution_count": 83,
   "metadata": {},
   "outputs": [
    {
     "data": {
      "text/plain": [
       "1799129"
      ]
     },
     "execution_count": 83,
     "metadata": {},
     "output_type": "execute_result"
    }
   ],
   "source": [
    "len(use_gals_df)"
   ]
  },
  {
   "cell_type": "code",
   "execution_count": 84,
   "metadata": {},
   "outputs": [],
   "source": [
    "use_gals_df = use_gals_df.merge(df_disk, on='galaxy_id', suffixes=('_bulge', '_disk'))"
   ]
  },
  {
   "cell_type": "markdown",
   "metadata": {},
   "source": [
    "Following from Table 3 in Mannucci et al. 2005 (https://www.aanda.org/articles/aa/pdf/2005/15/aa1411.pdf) we are going to use galaxy colors\n",
    "to scale the sn rate by color as a proxy for galaxy type, but we end up changing it from that a bit to give us good sample sizes of all types in the DDF region."
   ]
  },
  {
   "cell_type": "code",
   "execution_count": 85,
   "metadata": {},
   "outputs": [],
   "source": [
    "from lsst.utils import getPackageDir"
   ]
  },
  {
   "cell_type": "code",
   "execution_count": 86,
   "metadata": {},
   "outputs": [],
   "source": [
    "sims_sed_list = os.listdir(os.path.join(getPackageDir('SIMS_SED_LIBRARY'),\n",
    "                                        'galaxySED'))"
   ]
  },
  {
   "cell_type": "code",
   "execution_count": 87,
   "metadata": {},
   "outputs": [],
   "source": [
    "sims_sed_dict = {}\n",
    "for sed_name in sims_sed_list:\n",
    "    sed_obj = Sed()\n",
    "    sed_obj.readSED_flambda(os.path.join(getPackageDir('SIMS_SED_LIBRARY'),\n",
    "                                         'galaxySED', sed_name))\n",
    "    sims_sed_dict[os.path.join('galaxySED', sed_name)] = sed_obj"
   ]
  },
  {
   "cell_type": "code",
   "execution_count": 88,
   "metadata": {},
   "outputs": [],
   "source": [
    "# Filters from http://svo2.cab.inta-csic.es/svo/theory/fps3/index.php\n",
    "bp_B = Bandpass(wavelen_max = 2700.)\n",
    "bp_B.setBandpass(wavelen=np.array([360., 380., 400., 420., 460., 480.,\n",
    "                                   500., 520., 540., 560.]),\n",
    "                 sb=np.array([0.00, 0.11, 0.92, 0.94, 0.79, 0.58,\n",
    "                              0.36, 0.15, 0.04, 0.0]))\n",
    "bp_K = Bandpass(wavelen_max = 2700.)\n",
    "bp_K.setBandpass(wavelen=np.linspace(1800., 2600., 17),\n",
    "                 sb=np.array([0.00, 0.10, 0.48, 0.95, 1.00, 0.98,\n",
    "                              0.96, 0.95, 0.97, 0.96, 0.94, 0.95,\n",
    "                              0.95, 0.84, 0.46, 0.08, 0.00]))\n",
    "bp_dict = BandpassDict(bandpassNameList=['B', 'K'], bandpassList=[bp_B, bp_K])"
   ]
  },
  {
   "cell_type": "code",
   "execution_count": null,
   "metadata": {},
   "outputs": [],
   "source": [
    "from lsst.sims.photUtils import getImsimFluxNorm\n",
    "from copy import deepcopy\n",
    "bk_color = []\n",
    "i = 0\n",
    "for sed_name_bulge, redshift, magNorm_bulge, sed_name_disk, magNorm_disk in zip(use_gals_df['sedFilepath_bulge'].values,\n",
    "                                                                                use_gals_df['redshift_bulge'].values,\n",
    "                                                                                use_gals_df['phosimMagNorm_bulge'].values,\n",
    "                                                                                use_gals_df['sedFilepath_disk'].values,\n",
    "                                                                                use_gals_df['phosimMagNorm_disk'].values):\n",
    "    if i % 100000 == 0:\n",
    "        print(i)\n",
    "\n",
    "    sed_obj_bulge = deepcopy(sims_sed_dict[sed_name_bulge])\n",
    "    f_norm_b = getImsimFluxNorm(sed_obj_bulge, magNorm_bulge)\n",
    "    sed_obj_bulge.multiplyFluxNorm(f_norm_b)\n",
    "    sed_obj_bulge.redshiftSED(redshift)\n",
    "    \n",
    "    sed_obj_disk = deepcopy(sims_sed_dict[sed_name_disk])\n",
    "    f_norm_d = getImsimFluxNorm(sed_obj_disk, magNorm_disk)\n",
    "    sed_obj_disk.multiplyFluxNorm(f_norm_d)\n",
    "    sed_obj_disk.redshiftSED(redshift)\n",
    "    \n",
    "    sed_obj = Sed()\n",
    "    sed_obj.setSED(wavelen=sed_obj_bulge.wavelen, flambda=sed_obj_bulge.flambda+sed_obj_disk.flambda)\n",
    "    \n",
    "    \n",
    "    b_val, k_val = bp_dict.magListForSed(sed_obj)\n",
    "    bk_color.append(b_val - k_val)\n",
    "    i+=1"
   ]
  },
  {
   "cell_type": "code",
   "execution_count": null,
   "metadata": {},
   "outputs": [],
   "source": [
    "bk_color = np.array(bk_color)"
   ]
  },
  {
   "cell_type": "code",
   "execution_count": null,
   "metadata": {},
   "outputs": [],
   "source": [
    "# Save so if kernel resets we don't have to do it again.\n",
    "np.savetxt('bk_color.dat', bk_color)"
   ]
  },
  {
   "cell_type": "code",
   "execution_count": 89,
   "metadata": {},
   "outputs": [],
   "source": [
    "# Uncomment to load from file\n",
    "#bk_color = np.genfromtxt('bk_color.dat')"
   ]
  },
  {
   "cell_type": "code",
   "execution_count": 90,
   "metadata": {},
   "outputs": [],
   "source": [
    "use_gals_df['bk_color'] = bk_color"
   ]
  },
  {
   "cell_type": "code",
   "execution_count": 91,
   "metadata": {},
   "outputs": [],
   "source": [
    "use_gals_df = use_gals_df.reset_index(drop=True)"
   ]
  },
  {
   "cell_type": "markdown",
   "metadata": {},
   "source": [
    "As we did before we match based upon a property in each catalog. Here we use the source redshift of the SNe in the lens catalog and the redshift of the potential host galaxies in the uDDF field. Since we have so many potential host galaxies we tighten up the redshift bounds to 0.01 in dex. We also use the galaxy type from the colors to associate to proper types of host galaxies in the lensed SNe catalog."
   ]
  },
  {
   "cell_type": "code",
   "execution_count": 92,
   "metadata": {},
   "outputs": [],
   "source": [
    "def find_sne_lens_candidates(galz, gal_type):#, gal_mag):\n",
    "    # search the galaxy catalog for all possible host galaxies +- 0.05 dex in redshift\n",
    "\n",
    "    lens_candidates = sne_systems.query(str('zs < {}'.format(np.power(10, np.log10(galz)+0.01)) + ' and ' +\n",
    "                                            'zs > {}'.format(np.power(10, np.log10(galz)-0.01))))\n",
    "        \n",
    "    if gal_type == 't1':\n",
    "        lens_candidates = lens_candidates.query('host_type == \"kinney-starburst\"')\n",
    "    elif gal_type == 't4':\n",
    "        lens_candidates = lens_candidates.query('host_type == \"kinney-elliptical\"')\n",
    "    else:\n",
    "        lens_candidates = lens_candidates.query('host_type == \"kinney-sc\"')\n",
    "\n",
    "    return lens_candidates"
   ]
  },
  {
   "cell_type": "code",
   "execution_count": 93,
   "metadata": {},
   "outputs": [
    {
     "name": "stdout",
     "output_type": "stream",
     "text": [
      "271 0\n",
      "58475 50\n",
      "114990 100\n",
      "158482 150\n",
      "209430 200\n",
      "273460 250\n",
      "339681 300\n",
      "404020 350\n",
      "450681 400\n",
      "506795 450\n",
      "572161 500\n",
      "634838 550\n",
      "690250 600\n",
      "771999 650\n",
      "835457 700\n",
      "912207 750\n",
      "982165 800\n",
      "1060549 850\n",
      "1551077 900\n",
      "1605673 950\n",
      "1662697 1000\n"
     ]
    }
   ],
   "source": [
    "#%%time\n",
    "density_param = .0006\n",
    "good_rows_sn = []\n",
    "gal_ids_sn = []\n",
    "sys_ids_sn = []\n",
    "used_systems = []\n",
    "ra_list_sn = []\n",
    "dec_list_sn = []\n",
    "type_sn = []\n",
    "redshift_sn = []\n",
    "\n",
    "rd_state = np.random.RandomState(47)\n",
    "\n",
    "for row_idx in range(len(use_gals_df)):\n",
    "    \n",
    "    density_test = rd_state.uniform()\n",
    "    \n",
    "    gal_bk = use_gals_df['bk_color'].iloc[row_idx]\n",
    "    \n",
    "    if gal_bk < 2.6:\n",
    "        type_density_param = 1.2*density_param\n",
    "        gal_type = 't1'\n",
    "    elif ((2.6 <= gal_bk) and (gal_bk < 3.3)):\n",
    "        type_density_param = 3.*density_param\n",
    "        gal_type = 't2'\n",
    "    elif ((3.3 <= gal_bk) and (gal_bk < 4.1)):\n",
    "        type_density_param = 2.*density_param\n",
    "        gal_type = 't3'\n",
    "    else:\n",
    "        type_density_param = 3.*density_param\n",
    "        gal_type = 't4'\n",
    "    \n",
    "    if density_test > type_density_param:\n",
    "        continue\n",
    "    \n",
    "    row = use_gals_df.iloc[row_idx]\n",
    "    \n",
    "    gal_id = use_gals_df['galaxy_id'].iloc[row_idx]\n",
    "    if gal_id in df_agn['galaxy_id'].values:\n",
    "        continue\n",
    "    elif gal_id in sne_avoid_galids:\n",
    "        continue\n",
    "    \n",
    "    if len(good_rows_sn) % 50 == 0:\n",
    "        print(row_idx, len(good_rows_sn))\n",
    "\n",
    "    if row.galaxy_id > 0:\n",
    "        #print(gal_type)\n",
    "        candidates = find_sne_lens_candidates(row.redshift_bulge, gal_type)\n",
    "        #print(len(candidates))\n",
    "        np.random.seed(np.int(row.galaxy_id) % 4294967296)\n",
    "        keep_idx = []\n",
    "        for candidate_idx in range(len(candidates)):\n",
    "            if candidates.index[candidate_idx] in used_systems:\n",
    "                continue\n",
    "            else:\n",
    "                keep_idx.append(candidate_idx)\n",
    "        candidates = candidates.iloc[keep_idx]\n",
    "\n",
    "        if len(candidates) > 0:\n",
    "            choice = np.random.choice(np.arange(len(candidates)), p=candidates['weight']/np.sum(candidates['weight']))\n",
    "            used_systems.append(candidates.index[choice])\n",
    "            newlens = candidates.iloc[choice]\n",
    "            #print(len(catalog_ids))\n",
    "            sys_ids_sn.append(newlens.sysno)\n",
    "            gal_ids_sn.append(row.galaxy_id)\n",
    "            ra_list_sn.append(row.raPhoSim_bulge)\n",
    "            dec_list_sn.append(row.decPhoSim_bulge)\n",
    "            good_rows_sn.append(row_idx)\n",
    "            type_sn.append(gal_type)\n",
    "            redshift_sn.append(row.redshift_bulge)"
   ]
  },
  {
   "cell_type": "code",
   "execution_count": 94,
   "metadata": {},
   "outputs": [
    {
     "data": {
      "text/plain": [
       "(1024, 1024)"
      ]
     },
     "execution_count": 94,
     "metadata": {},
     "output_type": "execute_result"
    }
   ],
   "source": [
    "len(good_rows_sn), len(ra_list_sn)"
   ]
  },
  {
   "cell_type": "code",
   "execution_count": 95,
   "metadata": {},
   "outputs": [
    {
     "name": "stdout",
     "output_type": "stream",
     "text": [
      "672\n",
      "175\n",
      "100\n",
      "77\n"
     ]
    }
   ],
   "source": [
    "print(len(np.where(np.array(type_sn) == \"t1\")[0]))\n",
    "print(len(np.where(np.array(type_sn) == \"t2\")[0]))\n",
    "print(len(np.where(np.array(type_sn) == \"t3\")[0]))\n",
    "print(len(np.where(np.array(type_sn) == \"t4\")[0]))"
   ]
  },
  {
   "cell_type": "markdown",
   "metadata": {},
   "source": [
    "Once again check to see that we are spread throught uDDF region."
   ]
  },
  {
   "cell_type": "code",
   "execution_count": 96,
   "metadata": {},
   "outputs": [
    {
     "data": {
      "text/plain": [
       "<matplotlib.text.Text at 0x2aec86b2ff28>"
      ]
     },
     "execution_count": 96,
     "metadata": {},
     "output_type": "execute_result"
    },
    {
     "name": "stderr",
     "output_type": "stream",
     "text": [
      "/global/common/software/lsst/common/miniconda/py3-4.3.21-env/lib/python3.6/site-packages/matplotlib/font_manager.py:1297: UserWarning: findfont: Font family ['serif'] not found. Falling back to DejaVu Sans\n",
      "  (prop.get_family(), self.defaultFamily[fontext]))\n"
     ]
    },
    {
     "data": {
      "image/png": "[encoded data removed]",
      "text/plain": [
       "<matplotlib.figure.Figure at 0x2aec7e0235f8>"
      ]
     },
     "metadata": {},
     "output_type": "display_data"
    }
   ],
   "source": [
    "plt.scatter(ra_list_sn, dec_list_sn, s=6)\n",
    "plt.plot((52.486, 53.764), (-27.533, -27.533))\n",
    "plt.plot((52.479, 53.771), (-28.667, -28.667))\n",
    "plt.plot((52.479, 52.486), (-28.667, -27.533))\n",
    "plt.plot((53.771, 53.764), (-28.667, -27.533))\n",
    "plt.xlabel('ra')\n",
    "plt.ylabel('dec')\n",
    "plt.title('SN Cache Locations')\n",
    "#plt.savefig('sne_cache.png')"
   ]
  },
  {
   "cell_type": "markdown",
   "metadata": {},
   "source": [
    "Now we need to join the information in the systems and image dataframes and then save only the ones we are using to file."
   ]
  },
  {
   "cell_type": "code",
   "execution_count": 97,
   "metadata": {},
   "outputs": [],
   "source": [
    "keep_systems = sne_systems.iloc[used_systems]"
   ]
  },
  {
   "cell_type": "code",
   "execution_count": 98,
   "metadata": {},
   "outputs": [
    {
     "name": "stderr",
     "output_type": "stream",
     "text": [
      "/global/common/software/lsst/common/miniconda/py3-4.3.21-env/lib/python3.6/site-packages/ipykernel/__main__.py:1: SettingWithCopyWarning: \n",
      "A value is trying to be set on a copy of a slice from a DataFrame.\n",
      "Try using .loc[row_indexer,col_indexer] = value instead\n",
      "\n",
      "See the caveats in the documentation: http://pandas.pydata.org/pandas-docs/stable/indexing.html#indexing-view-versus-copy\n",
      "  if __name__ == '__main__':\n"
     ]
    }
   ],
   "source": [
    "keep_systems['twinkles_sysno'] = np.arange(len(keep_systems)) + 1100"
   ]
  },
  {
   "cell_type": "code",
   "execution_count": 99,
   "metadata": {},
   "outputs": [],
   "source": [
    "keep_catalog = keep_systems.merge(sne_images, on='sysno')"
   ]
  },
  {
   "cell_type": "code",
   "execution_count": 100,
   "metadata": {},
   "outputs": [],
   "source": [
    "t_start = keep_catalog['t0'] + keep_catalog['td']"
   ]
  },
  {
   "cell_type": "code",
   "execution_count": 101,
   "metadata": {},
   "outputs": [
    {
     "data": {
      "text/plain": [
       "<matplotlib.legend.Legend at 0x2aec8705f7f0>"
      ]
     },
     "execution_count": 101,
     "metadata": {},
     "output_type": "execute_result"
    },
    {
     "name": "stderr",
     "output_type": "stream",
     "text": [
      "/global/common/software/lsst/common/miniconda/py3-4.3.21-env/lib/python3.6/site-packages/matplotlib/font_manager.py:1297: UserWarning: findfont: Font family ['serif'] not found. Falling back to DejaVu Sans\n",
      "  (prop.get_family(), self.defaultFamily[fontext]))\n"
     ]
    },
    {
     "data": {
      "image/png": "[encoded data removed]",
      "text/plain": [
       "<matplotlib.figure.Figure at 0x2aec86aeb550>"
      ]
     },
     "metadata": {},
     "output_type": "display_data"
    }
   ],
   "source": [
    "fig = plt.figure(figsize=(10, 6))\n",
    "n, bins, _ = plt.hist(t_start, label='Lensed Images')\n",
    "plt.hist(np.unique(keep_catalog['t0']), bins=bins, label='First Image in Lens System')\n",
    "plt.xlabel('MJD')\n",
    "plt.ylabel('Lensed SNe')\n",
    "plt.legend(loc=2)"
   ]
  },
  {
   "cell_type": "code",
   "execution_count": 102,
   "metadata": {},
   "outputs": [],
   "source": [
    "keep_catalog['t_start'] = t_start"
   ]
  },
  {
   "cell_type": "code",
   "execution_count": 103,
   "metadata": {},
   "outputs": [],
   "source": [
    "keep_catalog.to_csv('../../data/%s_sne_cat.csv' % catalog_version, index=False)"
   ]
  },
  {
   "cell_type": "markdown",
   "metadata": {},
   "source": [
    "Save the cache of `galaxy_ids` and associated `twinklesId` values to file."
   ]
  },
  {
   "cell_type": "code",
   "execution_count": 104,
   "metadata": {},
   "outputs": [],
   "source": [
    "sne_cache = pd.DataFrame(np.array([gal_ids_sn, np.arange(len(keep_systems)) + 1100], dtype=np.int).T, columns=['galtileid', 'twinkles_system'])"
   ]
  },
  {
   "cell_type": "code",
   "execution_count": 105,
   "metadata": {},
   "outputs": [],
   "source": [
    "sne_cache.to_csv('../../data/%s_sne_cache.csv' % catalog_version, index=False)"
   ]
  },
  {
   "cell_type": "markdown",
   "metadata": {},
   "source": [
    "### Check that `galaxy_ids` will not clash when the sprinkler modifies them\n",
    "\n",
    "We need to make sure that we can adjust the `galaxy_id` values of the sprinkler galaxies so that we can record information in the id values, but we need to make sure the new id values don't clash with `cosmoDC2` id values. We check that below."
   ]
  },
  {
   "cell_type": "code",
   "execution_count": 52,
   "metadata": {},
   "outputs": [],
   "source": [
    "import GCRCatalogs\n",
    "import pandas as pd\n",
    "from GCR import GCRQuery"
   ]
  },
  {
   "cell_type": "code",
   "execution_count": 53,
   "metadata": {},
   "outputs": [],
   "source": [
    "catalog = GCRCatalogs.load_catalog('../../data/%s_image_addon_knots' % catalog_version)"
   ]
  },
  {
   "cell_type": "code",
   "execution_count": 54,
   "metadata": {},
   "outputs": [],
   "source": [
    "cosmo_ids = catalog.get_quantities(['galaxy_id'])"
   ]
  },
  {
   "cell_type": "code",
   "execution_count": 55,
   "metadata": {},
   "outputs": [],
   "source": [
    "smallest_id = np.min(cosmo_ids['galaxy_id'])\n",
    "largest_id = np.max(cosmo_ids['galaxy_id'])"
   ]
  },
  {
   "cell_type": "code",
   "execution_count": 56,
   "metadata": {},
   "outputs": [
    {
     "name": "stdout",
     "output_type": "stream",
     "text": [
      "12083345922 1250000000\n"
     ]
    }
   ],
   "source": [
    "print(largest_id, smallest_id)"
   ]
  },
  {
   "cell_type": "markdown",
   "metadata": {},
   "source": [
    "The highest `galaxy_id` in `cosmoDC2_v1.1.4_image_addon_knots` is < 1.5e10. Therefore, if we add 1.5e10 to all `galaxy_id` values that are sprinkled then we will be above this. After that we multiply by 10000 to get room to add in the twinkles system numbers in the last 4 digits. If these numbers are less that 2^63 then we will be ok when generating instance catalogs."
   ]
  },
  {
   "cell_type": "code",
   "execution_count": 57,
   "metadata": {},
   "outputs": [],
   "source": [
    "offset = np.int(1.5e10)"
   ]
  },
  {
   "cell_type": "code",
   "execution_count": 58,
   "metadata": {},
   "outputs": [
    {
     "data": {
      "text/plain": [
       "8.9460385746134958e+18"
      ]
     },
     "execution_count": 58,
     "metadata": {},
     "output_type": "execute_result"
    }
   ],
   "source": [
    "(2**63) - np.left_shift((largest_id + offset)*10000, 10)"
   ]
  },
  {
   "cell_type": "markdown",
   "metadata": {},
   "source": [
    "We are under the 2^63 limit. So, we can use this scheme to make sure there are no id clashes and add in the twinkles information as before."
   ]
  },
  {
   "cell_type": "code",
   "execution_count": null,
   "metadata": {},
   "outputs": [],
   "source": []
  }
 ],
 "metadata": {
  "kernelspec": {
   "display_name": "lsst",
   "language": "python",
   "name": "lsst"
  },
  "language_info": {
   "codemirror_mode": {
    "name": "ipython",
    "version": 3
   },
   "file_extension": ".py",
   "mimetype": "text/x-python",
   "name": "python",
   "nbconvert_exporter": "python",
   "pygments_lexer": "ipython3",
   "version": "3.6.2"
  }
 },
 "nbformat": 4,
 "nbformat_minor": 2
}
