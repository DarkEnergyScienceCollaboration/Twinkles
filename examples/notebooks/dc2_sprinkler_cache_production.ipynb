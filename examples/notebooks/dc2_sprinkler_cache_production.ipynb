{
 "cells": [
  {
   "cell_type": "markdown",
   "metadata": {},
   "source": [
    "# Produce Cached `galaxy_ids` for DC2\n",
    "\n",
    "_Last Updated: Bryce Kalmbach, September 2018_\n",
    "\n",
    "This is a notebook to produce the cached AGN and SN galaxy_id lists for DC2 Run 2. In this notebook we match the source AGN and SNe galaxies to objects in the galaxy catalogs."
   ]
  },
  {
   "cell_type": "code",
   "execution_count": 1,
   "metadata": {},
   "outputs": [
    {
     "name": "stderr",
     "output_type": "stream",
     "text": [
      "/global/common/software/lsst/common/miniconda/py3-4.3.21-env/lib/python3.6/site-packages/matplotlib/__init__.py:1405: UserWarning: \n",
      "This call to matplotlib.use() has no effect because the backend has already\n",
      "been chosen; matplotlib.use() must be called *before* pylab, matplotlib.pyplot,\n",
      "or matplotlib.backends is imported for the first time.\n",
      "\n",
      "  warnings.warn(_use_error_msg)\n",
      "/global/homes/d/danielsf/sims_catalogs/python/lsst/sims/catalogs/db/dbConnection.py:555: UserWarning: Duplicate object type id 4 specified: \n",
      "Output object ids may not be unique.\n",
      "This may not be a problem if you do not want globally unique id values\n",
      "  'want globally unique id values')\n",
      "/global/homes/d/danielsf/sims_catalogs/python/lsst/sims/catalogs/db/dbConnection.py:555: UserWarning: Duplicate object type id 28 specified: \n",
      "Output object ids may not be unique.\n",
      "This may not be a problem if you do not want globally unique id values\n",
      "  'want globally unique id values')\n"
     ]
    }
   ],
   "source": [
    "import pandas as pd\n",
    "from astropy.io import fits\n",
    "import numpy as np\n",
    "from desc.sims.GCRCatSimInterface import InstanceCatalogWriter\n",
    "from lsst.sims.utils import SpecMap\n",
    "import matplotlib.pyplot as plt\n",
    "from lsst.utils import getPackageDir\n",
    "from lsst.sims.photUtils import Sed, BandpassDict, Bandpass\n",
    "from lsst.sims.catUtils.matchSED import matchBase\n",
    "import os\n",
    "import sqlite3\n",
    "%matplotlib inline"
   ]
  },
  {
   "cell_type": "markdown",
   "metadata": {},
   "source": [
    "## Point to locations for unlensed AGN and SNe information\n",
    "\n",
    "Even if you already have an unsprinkled instance catalog ready you need to specify the locations of DC2 unlensed AGN and SNe databases. The AGN database is needed to know the AGN properties to sprinkle and the SNe database is needed to avoid sprinkling with galaxies that will have unlensed SNe at some point in the survey."
   ]
  },
  {
   "cell_type": "code",
   "execution_count": 2,
   "metadata": {},
   "outputs": [],
   "source": [
    "agnDB = '/global/projecta/projectdirs/lsst/groups/SSim/DC2/cosmoDC2_v1.1.4/agn_db_mbh7_mi30_sf4.db'\n",
    "sneDB = '/global/projecta/projectdirs/lsst/groups/SSim/DC2/cosmoDC2_v1.1.4/sne_cosmoDC2_v1.1.4_MS_DDF.db'\n",
    "assert os.path.isfile(agnDB)\n",
    "assert os.path.isfile(sneDB)"
   ]
  },
  {
   "cell_type": "markdown",
   "metadata": {},
   "source": [
    "### Create an unsprinkled Instance Catalog \n",
    "\n",
    "This is to get the possible AGN and Bulge galaxies to replace with the sprinkler. We use `cosmoDC2_v1.1.0_addon_knots`. Make sure to specify the correct database locations in the cell below."
   ]
  },
  {
   "cell_type": "code",
   "execution_count": 3,
   "metadata": {},
   "outputs": [],
   "source": [
    "# First we need to create a catalog without sprinkling\n",
    "opsimDB = '/global/projecta/projectdirs/lsst/groups/SSim/DC2/minion_1016_desc_dithered_v4.db'\n",
    "starDB = '/global/projecta/projectdirs/lsst/groups/SSim/DC2/dc2_stellar_db.db'"
   ]
  },
  {
   "cell_type": "code",
   "execution_count": 4,
   "metadata": {},
   "outputs": [],
   "source": [
    "t_sky = InstanceCatalogWriter(opsimDB, 'cosmoDC2_v1.1.4_image_addon_knots', min_mag=30, protoDC2_ra=0,\n",
    "                              protoDC2_dec=0, sprinkler=False,\n",
    "                              agn_db_name=agnDB, star_db_name=starDB,\n",
    "                              sed_lookup_dir='/global/projecta/projectdirs/lsst/groups/SSim/DC2/cosmoDC2_v1.1.4/sedLookup')"
   ]
  },
  {
   "cell_type": "code",
   "execution_count": 5,
   "metadata": {},
   "outputs": [
    {
     "name": "stderr",
     "output_type": "stream",
     "text": [
      "WARNING: ErfaWarning: ERFA function \"utcut1\" yielded 1 of \"dubious year (Note 3)\" [astropy._erfa.core]\n",
      "/global/homes/d/danielsf/sims_catUtils/python/lsst/sims/catUtils/mixins/VariabilityMixin.py:856: RuntimeWarning: divide by zero encountered in true_divide\n",
      "  dd = _au_to_parsec/parallax\n"
     ]
    },
    {
     "name": "stdout",
     "output_type": "stream",
     "text": [
      "all done with 197356\n"
     ]
    }
   ],
   "source": [
    "uddf_visit = 197356 # Use a visit we know covers the uDDF field\n",
    "t_sky.write_catalog(uddf_visit, out_dir=os.environ['SCRATCH'], fov=1.5)"
   ]
  },
  {
   "cell_type": "markdown",
   "metadata": {},
   "source": [
    "### Load in the galaxy catalogs as dataframes"
   ]
  },
  {
   "cell_type": "code",
   "execution_count": 6,
   "metadata": {},
   "outputs": [],
   "source": [
    "base_columns = ['prefix', 'uniqueId', 'raPhoSim', 'decPhoSim',\n",
    "                        'phosimMagNorm', 'sedFilepath', 'redshift',\n",
    "                        'shear1', 'shear2', 'kappa', 'raOffset', 'decOffset',\n",
    "                        'spatialmodel']"
   ]
  },
  {
   "cell_type": "code",
   "execution_count": 7,
   "metadata": {},
   "outputs": [],
   "source": [
    "df_galaxy = pd.read_csv(os.path.join(os.environ['SCRATCH'],\n",
    "                                     'bulge_gal_cat_197356.txt.gz'),\n",
    "                                delimiter=' ', header=None,\n",
    "                                names=base_columns+['majorAxis', 'minorAxis',\n",
    "                                                    'positionAngle', 'sindex',\n",
    "                                                    'internalExtinctionModel',\n",
    "                                                    'internalAv', 'internalRv',\n",
    "                                                    'galacticExtinctionModel',\n",
    "                                                    'galacticAv', 'galacticRv'])"
   ]
  },
  {
   "cell_type": "code",
   "execution_count": 8,
   "metadata": {},
   "outputs": [],
   "source": [
    "df_disk = pd.read_csv(os.path.join(os.environ['SCRATCH'],\n",
    "                                     'disk_gal_cat_197356.txt.gz'),\n",
    "                                delimiter=' ', header=None,\n",
    "                                names=base_columns+['majorAxis', 'minorAxis',\n",
    "                                                    'positionAngle', 'sindex',\n",
    "                                                    'internalExtinctionModel',\n",
    "                                                    'internalAv', 'internalRv',\n",
    "                                                    'galacticExtinctionModel',\n",
    "                                                    'galacticAv', 'galacticRv'])"
   ]
  },
  {
   "cell_type": "code",
   "execution_count": 9,
   "metadata": {},
   "outputs": [],
   "source": [
    "df_agn = pd.read_csv(os.path.join(os.environ['SCRATCH'],\n",
    "                                     'agn_gal_cat_197356.txt.gz'),\n",
    "                                 delimiter=' ', header=None,\n",
    "                                 names=base_columns+['internalExtinctionModel',\n",
    "                                                     'galacticExtinctionModel',\n",
    "                                                     'galacticAv', 'galacticRv'])"
   ]
  },
  {
   "cell_type": "markdown",
   "metadata": {},
   "source": [
    "We calculate the `galaxy_id` for each catalog so that we can join them together and also save it in the cache for the sprinkler."
   ]
  },
  {
   "cell_type": "code",
   "execution_count": 10,
   "metadata": {},
   "outputs": [],
   "source": [
    "df_agn['galaxy_id'] = np.right_shift(df_agn['uniqueId'], 10)"
   ]
  },
  {
   "cell_type": "code",
   "execution_count": 11,
   "metadata": {},
   "outputs": [
    {
     "data": {
      "text/html": [
       "<div>\n",
       "<style>\n",
       "    .dataframe thead tr:only-child th {\n",
       "        text-align: right;\n",
       "    }\n",
       "\n",
       "    .dataframe thead th {\n",
       "        text-align: left;\n",
       "    }\n",
       "\n",
       "    .dataframe tbody tr th {\n",
       "        vertical-align: top;\n",
       "    }\n",
       "</style>\n",
       "<table border=\"1\" class=\"dataframe\">\n",
       "  <thead>\n",
       "    <tr style=\"text-align: right;\">\n",
       "      <th></th>\n",
       "      <th>prefix</th>\n",
       "      <th>uniqueId</th>\n",
       "      <th>raPhoSim</th>\n",
       "      <th>decPhoSim</th>\n",
       "      <th>phosimMagNorm</th>\n",
       "      <th>sedFilepath</th>\n",
       "      <th>redshift</th>\n",
       "      <th>shear1</th>\n",
       "      <th>shear2</th>\n",
       "      <th>kappa</th>\n",
       "      <th>raOffset</th>\n",
       "      <th>decOffset</th>\n",
       "      <th>spatialmodel</th>\n",
       "      <th>internalExtinctionModel</th>\n",
       "      <th>galacticExtinctionModel</th>\n",
       "      <th>galacticAv</th>\n",
       "      <th>galacticRv</th>\n",
       "      <th>galaxy_id</th>\n",
       "    </tr>\n",
       "  </thead>\n",
       "  <tbody>\n",
       "    <tr>\n",
       "      <th>0</th>\n",
       "      <td>object</td>\n",
       "      <td>1344000087157</td>\n",
       "      <td>54.129332</td>\n",
       "      <td>-26.547373</td>\n",
       "      <td>20.715160</td>\n",
       "      <td>agnSED/agn.spec.gz</td>\n",
       "      <td>0.034863</td>\n",
       "      <td>-1.966811e-05</td>\n",
       "      <td>-0.000008</td>\n",
       "      <td>-0.000043</td>\n",
       "      <td>0</td>\n",
       "      <td>0</td>\n",
       "      <td>point</td>\n",
       "      <td>none</td>\n",
       "      <td>CCM</td>\n",
       "      <td>0.037487</td>\n",
       "      <td>3.1</td>\n",
       "      <td>1312500085</td>\n",
       "    </tr>\n",
       "    <tr>\n",
       "      <th>1</th>\n",
       "      <td>object</td>\n",
       "      <td>1344000093301</td>\n",
       "      <td>53.736770</td>\n",
       "      <td>-26.539267</td>\n",
       "      <td>20.598654</td>\n",
       "      <td>agnSED/agn.spec.gz</td>\n",
       "      <td>0.047179</td>\n",
       "      <td>-4.034774e-06</td>\n",
       "      <td>-0.000004</td>\n",
       "      <td>-0.000018</td>\n",
       "      <td>0</td>\n",
       "      <td>0</td>\n",
       "      <td>point</td>\n",
       "      <td>none</td>\n",
       "      <td>CCM</td>\n",
       "      <td>0.035472</td>\n",
       "      <td>3.1</td>\n",
       "      <td>1312500091</td>\n",
       "    </tr>\n",
       "    <tr>\n",
       "      <th>2</th>\n",
       "      <td>object</td>\n",
       "      <td>1344000118901</td>\n",
       "      <td>53.167155</td>\n",
       "      <td>-26.602102</td>\n",
       "      <td>23.968804</td>\n",
       "      <td>agnSED/agn.spec.gz</td>\n",
       "      <td>0.035631</td>\n",
       "      <td>8.140367e-07</td>\n",
       "      <td>0.000012</td>\n",
       "      <td>-0.000033</td>\n",
       "      <td>0</td>\n",
       "      <td>0</td>\n",
       "      <td>point</td>\n",
       "      <td>none</td>\n",
       "      <td>CCM</td>\n",
       "      <td>0.029849</td>\n",
       "      <td>3.1</td>\n",
       "      <td>1312500116</td>\n",
       "    </tr>\n",
       "    <tr>\n",
       "      <th>3</th>\n",
       "      <td>object</td>\n",
       "      <td>1344000122997</td>\n",
       "      <td>53.839760</td>\n",
       "      <td>-26.831988</td>\n",
       "      <td>22.260965</td>\n",
       "      <td>agnSED/agn.spec.gz</td>\n",
       "      <td>0.041929</td>\n",
       "      <td>-2.322976e-05</td>\n",
       "      <td>-0.000004</td>\n",
       "      <td>-0.000053</td>\n",
       "      <td>0</td>\n",
       "      <td>0</td>\n",
       "      <td>point</td>\n",
       "      <td>none</td>\n",
       "      <td>CCM</td>\n",
       "      <td>0.035422</td>\n",
       "      <td>3.1</td>\n",
       "      <td>1312500120</td>\n",
       "    </tr>\n",
       "    <tr>\n",
       "      <th>4</th>\n",
       "      <td>object</td>\n",
       "      <td>1344000579701</td>\n",
       "      <td>52.982573</td>\n",
       "      <td>-26.272642</td>\n",
       "      <td>22.113472</td>\n",
       "      <td>agnSED/agn.spec.gz</td>\n",
       "      <td>0.069013</td>\n",
       "      <td>2.388888e-04</td>\n",
       "      <td>-0.000159</td>\n",
       "      <td>-0.000136</td>\n",
       "      <td>0</td>\n",
       "      <td>0</td>\n",
       "      <td>point</td>\n",
       "      <td>none</td>\n",
       "      <td>CCM</td>\n",
       "      <td>0.034013</td>\n",
       "      <td>3.1</td>\n",
       "      <td>1312500566</td>\n",
       "    </tr>\n",
       "  </tbody>\n",
       "</table>\n",
       "</div>"
      ],
      "text/plain": [
       "   prefix       uniqueId   raPhoSim  decPhoSim  phosimMagNorm  \\\n",
       "0  object  1344000087157  54.129332 -26.547373      20.715160   \n",
       "1  object  1344000093301  53.736770 -26.539267      20.598654   \n",
       "2  object  1344000118901  53.167155 -26.602102      23.968804   \n",
       "3  object  1344000122997  53.839760 -26.831988      22.260965   \n",
       "4  object  1344000579701  52.982573 -26.272642      22.113472   \n",
       "\n",
       "          sedFilepath  redshift        shear1    shear2     kappa  raOffset  \\\n",
       "0  agnSED/agn.spec.gz  0.034863 -1.966811e-05 -0.000008 -0.000043         0   \n",
       "1  agnSED/agn.spec.gz  0.047179 -4.034774e-06 -0.000004 -0.000018         0   \n",
       "2  agnSED/agn.spec.gz  0.035631  8.140367e-07  0.000012 -0.000033         0   \n",
       "3  agnSED/agn.spec.gz  0.041929 -2.322976e-05 -0.000004 -0.000053         0   \n",
       "4  agnSED/agn.spec.gz  0.069013  2.388888e-04 -0.000159 -0.000136         0   \n",
       "\n",
       "   decOffset spatialmodel internalExtinctionModel galacticExtinctionModel  \\\n",
       "0          0        point                    none                     CCM   \n",
       "1          0        point                    none                     CCM   \n",
       "2          0        point                    none                     CCM   \n",
       "3          0        point                    none                     CCM   \n",
       "4          0        point                    none                     CCM   \n",
       "\n",
       "   galacticAv  galacticRv   galaxy_id  \n",
       "0    0.037487         3.1  1312500085  \n",
       "1    0.035472         3.1  1312500091  \n",
       "2    0.029849         3.1  1312500116  \n",
       "3    0.035422         3.1  1312500120  \n",
       "4    0.034013         3.1  1312500566  "
      ]
     },
     "execution_count": 11,
     "metadata": {},
     "output_type": "execute_result"
    }
   ],
   "source": [
    "df_agn.head()"
   ]
  },
  {
   "cell_type": "code",
   "execution_count": 12,
   "metadata": {},
   "outputs": [],
   "source": [
    "df_galaxy['galaxy_id'] = np.right_shift(df_galaxy['uniqueId'], 10)"
   ]
  },
  {
   "cell_type": "code",
   "execution_count": 13,
   "metadata": {},
   "outputs": [
    {
     "data": {
      "text/html": [
       "<div>\n",
       "<style>\n",
       "    .dataframe thead tr:only-child th {\n",
       "        text-align: right;\n",
       "    }\n",
       "\n",
       "    .dataframe thead th {\n",
       "        text-align: left;\n",
       "    }\n",
       "\n",
       "    .dataframe tbody tr th {\n",
       "        vertical-align: top;\n",
       "    }\n",
       "</style>\n",
       "<table border=\"1\" class=\"dataframe\">\n",
       "  <thead>\n",
       "    <tr style=\"text-align: right;\">\n",
       "      <th></th>\n",
       "      <th>prefix</th>\n",
       "      <th>uniqueId</th>\n",
       "      <th>raPhoSim</th>\n",
       "      <th>decPhoSim</th>\n",
       "      <th>phosimMagNorm</th>\n",
       "      <th>sedFilepath</th>\n",
       "      <th>redshift</th>\n",
       "      <th>shear1</th>\n",
       "      <th>shear2</th>\n",
       "      <th>kappa</th>\n",
       "      <th>...</th>\n",
       "      <th>minorAxis</th>\n",
       "      <th>positionAngle</th>\n",
       "      <th>sindex</th>\n",
       "      <th>internalExtinctionModel</th>\n",
       "      <th>internalAv</th>\n",
       "      <th>internalRv</th>\n",
       "      <th>galacticExtinctionModel</th>\n",
       "      <th>galacticAv</th>\n",
       "      <th>galacticRv</th>\n",
       "      <th>galaxy_id</th>\n",
       "    </tr>\n",
       "  </thead>\n",
       "  <tbody>\n",
       "    <tr>\n",
       "      <th>0</th>\n",
       "      <td>object</td>\n",
       "      <td>1344000063585</td>\n",
       "      <td>52.871940</td>\n",
       "      <td>-26.612869</td>\n",
       "      <td>21.891768</td>\n",
       "      <td>galaxySED/Inst.40E09.002Z.spec.gz</td>\n",
       "      <td>0.040747</td>\n",
       "      <td>-3.637350e-06</td>\n",
       "      <td>7.870029e-06</td>\n",
       "      <td>-0.000034</td>\n",
       "      <td>...</td>\n",
       "      <td>0.399131</td>\n",
       "      <td>102.888481</td>\n",
       "      <td>4</td>\n",
       "      <td>CCM</td>\n",
       "      <td>0.0</td>\n",
       "      <td>2.0</td>\n",
       "      <td>CCM</td>\n",
       "      <td>0.032753</td>\n",
       "      <td>3.1</td>\n",
       "      <td>1312500062</td>\n",
       "    </tr>\n",
       "    <tr>\n",
       "      <th>1</th>\n",
       "      <td>object</td>\n",
       "      <td>1344000064609</td>\n",
       "      <td>53.524389</td>\n",
       "      <td>-26.777568</td>\n",
       "      <td>19.464167</td>\n",
       "      <td>galaxySED/Exp.50E09.04Z.spec.gz</td>\n",
       "      <td>0.047217</td>\n",
       "      <td>6.460591e-07</td>\n",
       "      <td>2.487866e-06</td>\n",
       "      <td>-0.000014</td>\n",
       "      <td>...</td>\n",
       "      <td>2.027042</td>\n",
       "      <td>51.359441</td>\n",
       "      <td>4</td>\n",
       "      <td>CCM</td>\n",
       "      <td>0.1</td>\n",
       "      <td>4.0</td>\n",
       "      <td>CCM</td>\n",
       "      <td>0.027568</td>\n",
       "      <td>3.1</td>\n",
       "      <td>1312500063</td>\n",
       "    </tr>\n",
       "    <tr>\n",
       "      <th>2</th>\n",
       "      <td>object</td>\n",
       "      <td>1344000065633</td>\n",
       "      <td>52.856460</td>\n",
       "      <td>-26.529207</td>\n",
       "      <td>19.979710</td>\n",
       "      <td>galaxySED/Burst.50E09.0005Z.spec.gz</td>\n",
       "      <td>0.039386</td>\n",
       "      <td>3.550765e-06</td>\n",
       "      <td>9.230252e-07</td>\n",
       "      <td>-0.000011</td>\n",
       "      <td>...</td>\n",
       "      <td>0.636589</td>\n",
       "      <td>45.145847</td>\n",
       "      <td>4</td>\n",
       "      <td>CCM</td>\n",
       "      <td>0.1</td>\n",
       "      <td>3.2</td>\n",
       "      <td>CCM</td>\n",
       "      <td>0.044842</td>\n",
       "      <td>3.1</td>\n",
       "      <td>1312500064</td>\n",
       "    </tr>\n",
       "    <tr>\n",
       "      <th>3</th>\n",
       "      <td>object</td>\n",
       "      <td>1344000066657</td>\n",
       "      <td>53.141430</td>\n",
       "      <td>-26.219154</td>\n",
       "      <td>19.789442</td>\n",
       "      <td>galaxySED/Inst.50E08.25Z.spec.gz</td>\n",
       "      <td>0.047168</td>\n",
       "      <td>-1.070414e-05</td>\n",
       "      <td>-1.294571e-05</td>\n",
       "      <td>-0.000017</td>\n",
       "      <td>...</td>\n",
       "      <td>0.979636</td>\n",
       "      <td>89.408847</td>\n",
       "      <td>4</td>\n",
       "      <td>CCM</td>\n",
       "      <td>0.0</td>\n",
       "      <td>2.0</td>\n",
       "      <td>CCM</td>\n",
       "      <td>0.034134</td>\n",
       "      <td>3.1</td>\n",
       "      <td>1312500065</td>\n",
       "    </tr>\n",
       "    <tr>\n",
       "      <th>4</th>\n",
       "      <td>object</td>\n",
       "      <td>1344000082017</td>\n",
       "      <td>53.747638</td>\n",
       "      <td>-26.303373</td>\n",
       "      <td>19.744180</td>\n",
       "      <td>galaxySED/Inst.16E09.04Z.spec.gz</td>\n",
       "      <td>0.041702</td>\n",
       "      <td>-1.047741e-05</td>\n",
       "      <td>1.404744e-05</td>\n",
       "      <td>-0.000029</td>\n",
       "      <td>...</td>\n",
       "      <td>0.810064</td>\n",
       "      <td>94.870050</td>\n",
       "      <td>4</td>\n",
       "      <td>CCM</td>\n",
       "      <td>0.0</td>\n",
       "      <td>2.0</td>\n",
       "      <td>CCM</td>\n",
       "      <td>0.033553</td>\n",
       "      <td>3.1</td>\n",
       "      <td>1312500080</td>\n",
       "    </tr>\n",
       "  </tbody>\n",
       "</table>\n",
       "<p>5 rows × 24 columns</p>\n",
       "</div>"
      ],
      "text/plain": [
       "   prefix       uniqueId   raPhoSim  decPhoSim  phosimMagNorm  \\\n",
       "0  object  1344000063585  52.871940 -26.612869      21.891768   \n",
       "1  object  1344000064609  53.524389 -26.777568      19.464167   \n",
       "2  object  1344000065633  52.856460 -26.529207      19.979710   \n",
       "3  object  1344000066657  53.141430 -26.219154      19.789442   \n",
       "4  object  1344000082017  53.747638 -26.303373      19.744180   \n",
       "\n",
       "                           sedFilepath  redshift        shear1        shear2  \\\n",
       "0    galaxySED/Inst.40E09.002Z.spec.gz  0.040747 -3.637350e-06  7.870029e-06   \n",
       "1      galaxySED/Exp.50E09.04Z.spec.gz  0.047217  6.460591e-07  2.487866e-06   \n",
       "2  galaxySED/Burst.50E09.0005Z.spec.gz  0.039386  3.550765e-06  9.230252e-07   \n",
       "3     galaxySED/Inst.50E08.25Z.spec.gz  0.047168 -1.070414e-05 -1.294571e-05   \n",
       "4     galaxySED/Inst.16E09.04Z.spec.gz  0.041702 -1.047741e-05  1.404744e-05   \n",
       "\n",
       "      kappa     ...      minorAxis  positionAngle sindex  \\\n",
       "0 -0.000034     ...       0.399131     102.888481      4   \n",
       "1 -0.000014     ...       2.027042      51.359441      4   \n",
       "2 -0.000011     ...       0.636589      45.145847      4   \n",
       "3 -0.000017     ...       0.979636      89.408847      4   \n",
       "4 -0.000029     ...       0.810064      94.870050      4   \n",
       "\n",
       "   internalExtinctionModel  internalAv  internalRv  galacticExtinctionModel  \\\n",
       "0                      CCM         0.0         2.0                      CCM   \n",
       "1                      CCM         0.1         4.0                      CCM   \n",
       "2                      CCM         0.1         3.2                      CCM   \n",
       "3                      CCM         0.0         2.0                      CCM   \n",
       "4                      CCM         0.0         2.0                      CCM   \n",
       "\n",
       "  galacticAv  galacticRv   galaxy_id  \n",
       "0   0.032753         3.1  1312500062  \n",
       "1   0.027568         3.1  1312500063  \n",
       "2   0.044842         3.1  1312500064  \n",
       "3   0.034134         3.1  1312500065  \n",
       "4   0.033553         3.1  1312500080  \n",
       "\n",
       "[5 rows x 24 columns]"
      ]
     },
     "execution_count": 13,
     "metadata": {},
     "output_type": "execute_result"
    }
   ],
   "source": [
    "df_galaxy.head()"
   ]
  },
  {
   "cell_type": "code",
   "execution_count": 14,
   "metadata": {},
   "outputs": [],
   "source": [
    "df_disk['galaxy_id'] = np.right_shift(df_disk['uniqueId'], 10)"
   ]
  },
  {
   "cell_type": "code",
   "execution_count": 15,
   "metadata": {},
   "outputs": [
    {
     "data": {
      "text/html": [
       "<div>\n",
       "<style>\n",
       "    .dataframe thead tr:only-child th {\n",
       "        text-align: right;\n",
       "    }\n",
       "\n",
       "    .dataframe thead th {\n",
       "        text-align: left;\n",
       "    }\n",
       "\n",
       "    .dataframe tbody tr th {\n",
       "        vertical-align: top;\n",
       "    }\n",
       "</style>\n",
       "<table border=\"1\" class=\"dataframe\">\n",
       "  <thead>\n",
       "    <tr style=\"text-align: right;\">\n",
       "      <th></th>\n",
       "      <th>prefix</th>\n",
       "      <th>uniqueId</th>\n",
       "      <th>raPhoSim</th>\n",
       "      <th>decPhoSim</th>\n",
       "      <th>phosimMagNorm</th>\n",
       "      <th>sedFilepath</th>\n",
       "      <th>redshift</th>\n",
       "      <th>shear1</th>\n",
       "      <th>shear2</th>\n",
       "      <th>kappa</th>\n",
       "      <th>...</th>\n",
       "      <th>minorAxis</th>\n",
       "      <th>positionAngle</th>\n",
       "      <th>sindex</th>\n",
       "      <th>internalExtinctionModel</th>\n",
       "      <th>internalAv</th>\n",
       "      <th>internalRv</th>\n",
       "      <th>galacticExtinctionModel</th>\n",
       "      <th>galacticAv</th>\n",
       "      <th>galacticRv</th>\n",
       "      <th>galaxy_id</th>\n",
       "    </tr>\n",
       "  </thead>\n",
       "  <tbody>\n",
       "    <tr>\n",
       "      <th>0</th>\n",
       "      <td>object</td>\n",
       "      <td>1344000063595</td>\n",
       "      <td>52.871940</td>\n",
       "      <td>-26.612869</td>\n",
       "      <td>21.436947</td>\n",
       "      <td>galaxySED/Burst.12E09.02Z.spec.gz</td>\n",
       "      <td>0.040747</td>\n",
       "      <td>-3.637350e-06</td>\n",
       "      <td>7.870029e-06</td>\n",
       "      <td>-0.000034</td>\n",
       "      <td>...</td>\n",
       "      <td>0.336616</td>\n",
       "      <td>102.888481</td>\n",
       "      <td>1</td>\n",
       "      <td>CCM</td>\n",
       "      <td>0.1</td>\n",
       "      <td>2.9</td>\n",
       "      <td>CCM</td>\n",
       "      <td>0.032753</td>\n",
       "      <td>3.1</td>\n",
       "      <td>1312500062</td>\n",
       "    </tr>\n",
       "    <tr>\n",
       "      <th>1</th>\n",
       "      <td>object</td>\n",
       "      <td>1344000064619</td>\n",
       "      <td>53.524389</td>\n",
       "      <td>-26.777568</td>\n",
       "      <td>19.135369</td>\n",
       "      <td>galaxySED/Const.12E10.1Z.spec.gz</td>\n",
       "      <td>0.047217</td>\n",
       "      <td>6.460591e-07</td>\n",
       "      <td>2.487866e-06</td>\n",
       "      <td>-0.000014</td>\n",
       "      <td>...</td>\n",
       "      <td>2.320681</td>\n",
       "      <td>51.359441</td>\n",
       "      <td>1</td>\n",
       "      <td>CCM</td>\n",
       "      <td>0.6</td>\n",
       "      <td>4.0</td>\n",
       "      <td>CCM</td>\n",
       "      <td>0.027568</td>\n",
       "      <td>3.1</td>\n",
       "      <td>1312500063</td>\n",
       "    </tr>\n",
       "    <tr>\n",
       "      <th>2</th>\n",
       "      <td>object</td>\n",
       "      <td>1344000065643</td>\n",
       "      <td>52.856460</td>\n",
       "      <td>-26.529207</td>\n",
       "      <td>20.269053</td>\n",
       "      <td>galaxySED/Exp.32E09.0005Z.spec.gz</td>\n",
       "      <td>0.039386</td>\n",
       "      <td>3.550765e-06</td>\n",
       "      <td>9.230252e-07</td>\n",
       "      <td>-0.000011</td>\n",
       "      <td>...</td>\n",
       "      <td>0.377544</td>\n",
       "      <td>45.145847</td>\n",
       "      <td>1</td>\n",
       "      <td>CCM</td>\n",
       "      <td>0.1</td>\n",
       "      <td>2.0</td>\n",
       "      <td>CCM</td>\n",
       "      <td>0.044842</td>\n",
       "      <td>3.1</td>\n",
       "      <td>1312500064</td>\n",
       "    </tr>\n",
       "    <tr>\n",
       "      <th>3</th>\n",
       "      <td>object</td>\n",
       "      <td>1344000066667</td>\n",
       "      <td>53.141430</td>\n",
       "      <td>-26.219154</td>\n",
       "      <td>20.026764</td>\n",
       "      <td>galaxySED/Inst.12E09.0005Z.spec.gz</td>\n",
       "      <td>0.047168</td>\n",
       "      <td>-1.070414e-05</td>\n",
       "      <td>-1.294571e-05</td>\n",
       "      <td>-0.000017</td>\n",
       "      <td>...</td>\n",
       "      <td>1.710494</td>\n",
       "      <td>89.408847</td>\n",
       "      <td>1</td>\n",
       "      <td>CCM</td>\n",
       "      <td>0.0</td>\n",
       "      <td>2.0</td>\n",
       "      <td>CCM</td>\n",
       "      <td>0.034134</td>\n",
       "      <td>3.1</td>\n",
       "      <td>1312500065</td>\n",
       "    </tr>\n",
       "    <tr>\n",
       "      <th>4</th>\n",
       "      <td>object</td>\n",
       "      <td>1344000072811</td>\n",
       "      <td>53.255325</td>\n",
       "      <td>-27.066992</td>\n",
       "      <td>19.076449</td>\n",
       "      <td>galaxySED/Const.10E10.02Z.spec.gz</td>\n",
       "      <td>0.046909</td>\n",
       "      <td>-1.844177e-05</td>\n",
       "      <td>-4.740302e-06</td>\n",
       "      <td>-0.000045</td>\n",
       "      <td>...</td>\n",
       "      <td>0.729402</td>\n",
       "      <td>153.561163</td>\n",
       "      <td>1</td>\n",
       "      <td>CCM</td>\n",
       "      <td>0.4</td>\n",
       "      <td>4.0</td>\n",
       "      <td>CCM</td>\n",
       "      <td>0.028639</td>\n",
       "      <td>3.1</td>\n",
       "      <td>1312500071</td>\n",
       "    </tr>\n",
       "  </tbody>\n",
       "</table>\n",
       "<p>5 rows × 24 columns</p>\n",
       "</div>"
      ],
      "text/plain": [
       "   prefix       uniqueId   raPhoSim  decPhoSim  phosimMagNorm  \\\n",
       "0  object  1344000063595  52.871940 -26.612869      21.436947   \n",
       "1  object  1344000064619  53.524389 -26.777568      19.135369   \n",
       "2  object  1344000065643  52.856460 -26.529207      20.269053   \n",
       "3  object  1344000066667  53.141430 -26.219154      20.026764   \n",
       "4  object  1344000072811  53.255325 -27.066992      19.076449   \n",
       "\n",
       "                          sedFilepath  redshift        shear1        shear2  \\\n",
       "0   galaxySED/Burst.12E09.02Z.spec.gz  0.040747 -3.637350e-06  7.870029e-06   \n",
       "1    galaxySED/Const.12E10.1Z.spec.gz  0.047217  6.460591e-07  2.487866e-06   \n",
       "2   galaxySED/Exp.32E09.0005Z.spec.gz  0.039386  3.550765e-06  9.230252e-07   \n",
       "3  galaxySED/Inst.12E09.0005Z.spec.gz  0.047168 -1.070414e-05 -1.294571e-05   \n",
       "4   galaxySED/Const.10E10.02Z.spec.gz  0.046909 -1.844177e-05 -4.740302e-06   \n",
       "\n",
       "      kappa     ...      minorAxis  positionAngle sindex  \\\n",
       "0 -0.000034     ...       0.336616     102.888481      1   \n",
       "1 -0.000014     ...       2.320681      51.359441      1   \n",
       "2 -0.000011     ...       0.377544      45.145847      1   \n",
       "3 -0.000017     ...       1.710494      89.408847      1   \n",
       "4 -0.000045     ...       0.729402     153.561163      1   \n",
       "\n",
       "   internalExtinctionModel  internalAv  internalRv  galacticExtinctionModel  \\\n",
       "0                      CCM         0.1         2.9                      CCM   \n",
       "1                      CCM         0.6         4.0                      CCM   \n",
       "2                      CCM         0.1         2.0                      CCM   \n",
       "3                      CCM         0.0         2.0                      CCM   \n",
       "4                      CCM         0.4         4.0                      CCM   \n",
       "\n",
       "  galacticAv  galacticRv   galaxy_id  \n",
       "0   0.032753         3.1  1312500062  \n",
       "1   0.027568         3.1  1312500063  \n",
       "2   0.044842         3.1  1312500064  \n",
       "3   0.034134         3.1  1312500065  \n",
       "4   0.028639         3.1  1312500071  \n",
       "\n",
       "[5 rows x 24 columns]"
      ]
     },
     "execution_count": 15,
     "metadata": {},
     "output_type": "execute_result"
    }
   ],
   "source": [
    "df_disk.head()"
   ]
  },
  {
   "cell_type": "markdown",
   "metadata": {},
   "source": [
    "### Match the AGN catalog to Twinkles systems\n",
    "\n",
    "We will go through the AGN catalog and find AGN in the uDDF field that match our properties. We will then save the `galaxy_id` of these AGN and give the corresponding OM10 system a `twinklesId` in the catalog that identifies it with this AGN when the sprinkler runs."
   ]
  },
  {
   "cell_type": "code",
   "execution_count": 16,
   "metadata": {},
   "outputs": [],
   "source": [
    "# Load in OM10 lenses we are using in Twinkles\n",
    "\n",
    "from astropy.io import fits\n",
    "hdulist = fits.open('../../data/twinkles_lenses_cosmoDC2_v1.1.4.fits')\n",
    "twinkles_lenses = hdulist[1].data"
   ]
  },
  {
   "cell_type": "code",
   "execution_count": 17,
   "metadata": {},
   "outputs": [],
   "source": [
    "# Convert phosimMagNorm to i-band magnitudes for the uDDF AGN\n",
    "bpDict = BandpassDict.loadTotalBandpassesFromFiles(bandpassNames=['i'])\n",
    "bp = Bandpass()\n",
    "imsimBand = bp.imsimBandpass()\n",
    "agn_fname = str(getPackageDir('sims_sed_library') + '/agnSED/agn.spec.gz')\n",
    "\n",
    "src_iband = []\n",
    "src_mag_norm = df_agn['phosimMagNorm'].values\n",
    "src_z = df_agn['redshift'].values\n",
    "\n",
    "for src_mag, s_z in zip(src_mag_norm, src_z):\n",
    "    agn_sed = Sed()\n",
    "    agn_sed.readSED_flambda(agn_fname)\n",
    "    agn_sed.redshiftSED(s_z, dimming=True)\n",
    "    f_norm = agn_sed.calcFluxNorm(src_mag, bp)\n",
    "    agn_sed.multiplyFluxNorm(f_norm)\n",
    "    src_iband.append(agn_sed.calcMag(bpDict['i']))"
   ]
  },
  {
   "cell_type": "code",
   "execution_count": 18,
   "metadata": {},
   "outputs": [],
   "source": [
    "df_agn['i_magnitude'] = src_iband"
   ]
  },
  {
   "cell_type": "markdown",
   "metadata": {},
   "source": [
    "We want to match the AGN in the uDDF field to lensed systems based upon the redshift and magnitude of the source AGN. In this example we use 0.1 dex in redshift and 0.25 mags in the _i_-band. **(Anytime you use a new catalog this may need to be played with to get the desired number of systems)**"
   ]
  },
  {
   "cell_type": "code",
   "execution_count": 19,
   "metadata": {},
   "outputs": [],
   "source": [
    "def find_agn_lens_candidates(galz, gal_mag):\n",
    "        # search the OM10 catalog for all sources +- 0.1 dex in redshift                                                                                               \n",
    "        # and within .25 mags of the AGN source                                                                                                                     \n",
    "    w = np.where((np.abs(np.log10(twinkles_lenses['ZSRC']) - np.log10(galz)) <= 0.1) &\n",
    "                     (np.abs(twinkles_lenses['MAGI_IN'] - gal_mag) <= .25))[0]\n",
    "    lens_candidates = twinkles_lenses[w]\n",
    "\n",
    "    return lens_candidates"
   ]
  },
  {
   "cell_type": "code",
   "execution_count": 20,
   "metadata": {},
   "outputs": [],
   "source": [
    "# Only search within the DDF field\n",
    "df_agn = df_agn.query('raPhoSim < 53.755 and raPhoSim > 52.495 and decPhoSim < -27.55 and decPhoSim > -28.65')\n",
    "df_galaxy = df_galaxy.query('raPhoSim < 53.755 and raPhoSim > 52.495 and decPhoSim < -27.55 and decPhoSim > -28.65')\n",
    "df_disk = df_disk.query('raPhoSim < 53.755 and raPhoSim > 52.495 and decPhoSim < -27.55 and decPhoSim > -28.65')"
   ]
  },
  {
   "cell_type": "code",
   "execution_count": 21,
   "metadata": {},
   "outputs": [],
   "source": [
    "df_agn = df_agn.reset_index(drop=True)\n",
    "df_galaxy = df_galaxy.reset_index(drop=True)\n",
    "df_disk = df_disk.reset_index(drop=True)"
   ]
  },
  {
   "cell_type": "markdown",
   "metadata": {},
   "source": [
    "#### Avoid galaxies with unlensed SNe.\n",
    "\n",
    "First load up cached `galaxy_ids` and then to speed things up when comparing to possible sprinkled ids we use database merges to only find the ones that are in the uddf field."
   ]
  },
  {
   "cell_type": "code",
   "execution_count": 22,
   "metadata": {},
   "outputs": [],
   "source": [
    "conn = sqlite3.connect(sneDB) "
   ]
  },
  {
   "cell_type": "code",
   "execution_count": 23,
   "metadata": {},
   "outputs": [],
   "source": [
    "sne_query = conn.cursor()"
   ]
  },
  {
   "cell_type": "code",
   "execution_count": 24,
   "metadata": {},
   "outputs": [],
   "source": [
    "sne_unsprinkled_galids = sne_query.execute('select galaxy_id from sne_params').fetchall()"
   ]
  },
  {
   "cell_type": "code",
   "execution_count": 25,
   "metadata": {},
   "outputs": [],
   "source": [
    "sne_unsprinkled_galids = np.array(sne_unsprinkled_galids).flatten()"
   ]
  },
  {
   "cell_type": "code",
   "execution_count": 26,
   "metadata": {},
   "outputs": [],
   "source": [
    "ddf_galids = pd.DataFrame(df_agn['galaxy_id'])"
   ]
  },
  {
   "cell_type": "code",
   "execution_count": 27,
   "metadata": {},
   "outputs": [],
   "source": [
    "ddf_galids = ddf_galids.merge(pd.DataFrame(df_galaxy['galaxy_id']), how='outer', on='galaxy_id')"
   ]
  },
  {
   "cell_type": "code",
   "execution_count": 28,
   "metadata": {},
   "outputs": [],
   "source": [
    "ddf_galids = ddf_galids.merge(pd.DataFrame(df_disk['galaxy_id']), how='outer', on='galaxy_id')"
   ]
  },
  {
   "cell_type": "code",
   "execution_count": 29,
   "metadata": {},
   "outputs": [],
   "source": [
    "sne_avoid_galids = ddf_galids.merge(pd.DataFrame(sne_unsprinkled_galids, columns=['galaxy_id']), how='inner', on='galaxy_id')"
   ]
  },
  {
   "cell_type": "code",
   "execution_count": 30,
   "metadata": {},
   "outputs": [],
   "source": [
    "sne_avoid_galids = sne_avoid_galids.values"
   ]
  },
  {
   "cell_type": "markdown",
   "metadata": {},
   "source": [
    "#### Sprinkle in the AGN"
   ]
  },
  {
   "cell_type": "code",
   "execution_count": 31,
   "metadata": {},
   "outputs": [
    {
     "name": "stdout",
     "output_type": "stream",
     "text": [
      "0 0\n"
     ]
    },
    {
     "name": "stderr",
     "output_type": "stream",
     "text": [
      "/global/common/software/lsst/common/miniconda/py3-4.3.21-env/lib/python3.6/site-packages/ipykernel/__main__.py:4: RuntimeWarning: divide by zero encountered in log10\n"
     ]
    },
    {
     "name": "stdout",
     "output_type": "stream",
     "text": [
      "5000 28\n",
      "10000 77\n",
      "15000 131\n",
      "20000 188\n",
      "25000 259\n",
      "30000 326\n",
      "35000 423\n",
      "40000 505\n",
      "45000 587\n",
      "50000 668\n",
      "55000 722\n",
      "60000 803\n",
      "65000 888\n",
      "70000 913\n",
      "75000 962\n",
      "CPU times: user 17min 11s, sys: 2.41 s, total: 17min 14s\n",
      "Wall time: 17min 14s\n"
     ]
    }
   ],
   "source": [
    "%%time\n",
    "density_param = 0.08\n",
    "good_rows = []\n",
    "ra_list = []\n",
    "dec_list = []\n",
    "gal_ids = []\n",
    "catalog_row_num = []\n",
    "catalog_ids = []\n",
    "\n",
    "for row_idx in range(len(df_agn)):\n",
    "    \n",
    "    row = df_agn.iloc[row_idx]\n",
    "\n",
    "    if row_idx % 5000 == 0:\n",
    "        print(row_idx, len(catalog_ids))\n",
    "        \n",
    "    if row.galaxy_id in sne_avoid_galids:\n",
    "        continue\n",
    "\n",
    "    if row.galaxy_id > 0:\n",
    "        candidates = find_agn_lens_candidates(row.redshift, row.i_magnitude)\n",
    "        np.random.seed(np.int(row.galaxy_id) % 4294967296)\n",
    "        keep_idx = []\n",
    "        if len(candidates) > 0:\n",
    "            for candidate_idx, candidate_sys in list(enumerate(candidates['LENSID'])):\n",
    "                if candidate_sys not in catalog_ids:\n",
    "                    keep_idx.append(candidate_idx)\n",
    "            if len(keep_idx) == 0:\n",
    "                continue\n",
    "            else:\n",
    "                candidates = candidates[keep_idx]\n",
    "        pick_value = np.random.uniform()\n",
    "        if ((len(candidates) > 0) and (pick_value <= density_param)):\n",
    "            good_rows.append(row_idx)\n",
    "            gal_ids.append(row.galaxy_id)\n",
    "            newlens = np.random.choice(candidates)\n",
    "            catalog_ids.append(newlens['LENSID'])\n",
    "            catalog_row_num.append(np.where(twinkles_lenses['LENSID'] == newlens['LENSID'])[0][0])\n",
    "            ra_list.append(row.raPhoSim)\n",
    "            dec_list.append(row.decPhoSim)\n",
    "            #print(len(catalog_ids))"
   ]
  },
  {
   "cell_type": "code",
   "execution_count": 32,
   "metadata": {},
   "outputs": [
    {
     "name": "stdout",
     "output_type": "stream",
     "text": [
      "991\n"
     ]
    }
   ],
   "source": [
    "print(len(catalog_ids))"
   ]
  },
  {
   "cell_type": "code",
   "execution_count": 33,
   "metadata": {},
   "outputs": [
    {
     "data": {
      "text/plain": [
       "(991, 991, 991, 991)"
      ]
     },
     "execution_count": 33,
     "metadata": {},
     "output_type": "execute_result"
    }
   ],
   "source": [
    "len(good_rows), len(np.unique(good_rows)), len(np.unique(catalog_ids)), len(np.unique(catalog_row_num))"
   ]
  },
  {
   "cell_type": "code",
   "execution_count": 34,
   "metadata": {},
   "outputs": [],
   "source": [
    "import matplotlib as mpl\n",
    "mpl.rcParams['text.usetex'] = False"
   ]
  },
  {
   "cell_type": "markdown",
   "metadata": {},
   "source": [
    "Check to see that our cached systems are distributed throughout the uDDF field."
   ]
  },
  {
   "cell_type": "code",
   "execution_count": 35,
   "metadata": {},
   "outputs": [
    {
     "data": {
      "text/plain": [
       "<matplotlib.text.Text at 0x2aba99135978>"
      ]
     },
     "execution_count": 35,
     "metadata": {},
     "output_type": "execute_result"
    },
    {
     "name": "stderr",
     "output_type": "stream",
     "text": [
      "/global/common/software/lsst/common/miniconda/py3-4.3.21-env/lib/python3.6/site-packages/matplotlib/font_manager.py:1297: UserWarning: findfont: Font family ['serif'] not found. Falling back to DejaVu Sans\n",
      "  (prop.get_family(), self.defaultFamily[fontext]))\n"
     ]
    },
    {
     "data": {
      "image/png": "[encoded data removed]",
      "text/plain": [
       "<matplotlib.figure.Figure at 0x2aba99138cf8>"
      ]
     },
     "metadata": {},
     "output_type": "display_data"
    }
   ],
   "source": [
    "plt.scatter(ra_list, dec_list, s=6)\n",
    "plt.plot((52.486, 53.764), (-27.533, -27.533))\n",
    "plt.plot((52.479, 53.771), (-28.667, -28.667))\n",
    "plt.plot((52.479, 52.486), (-28.667, -27.533))\n",
    "plt.plot((53.771, 53.764), (-28.667, -27.533))\n",
    "plt.xlabel(r'ra')\n",
    "plt.ylabel(r'dec')\n",
    "plt.title('AGN Cache Locations')\n",
    "#plt.savefig('agn_cache.png')"
   ]
  },
  {
   "cell_type": "code",
   "execution_count": 36,
   "metadata": {},
   "outputs": [],
   "source": [
    "#this is where scott first ran up to\n",
    "\n",
    "catalog_row_sort = np.argsort(catalog_row_num)\n",
    "catalog_row_num = np.array(catalog_row_num)"
   ]
  },
  {
   "cell_type": "code",
   "execution_count": 37,
   "metadata": {},
   "outputs": [
    {
     "name": "stdout",
     "output_type": "stream",
     "text": [
      "ColDefs(\n",
      "    name = 'LENSID'; format = 'J'\n",
      "    name = 'FLAGTYPE'; format = 'I'\n",
      "    name = 'NIMG'; format = 'I'\n",
      "    name = 'ZLENS'; format = 'D'\n",
      "    name = 'VELDISP'; format = 'D'\n",
      "    name = 'ELLIP'; format = 'D'\n",
      "    name = 'PHIE'; format = 'D'\n",
      "    name = 'GAMMA'; format = 'D'\n",
      "    name = 'PHIG'; format = 'D'\n",
      "    name = 'ZSRC'; format = 'D'\n",
      "    name = 'XSRC'; format = 'D'\n",
      "    name = 'YSRC'; format = 'D'\n",
      "    name = 'MAGI_IN'; format = 'D'\n",
      "    name = 'MAGI'; format = 'D'\n",
      "    name = 'IMSEP'; format = 'D'\n",
      "    name = 'XIMG'; format = '4D'\n",
      "    name = 'YIMG'; format = '4D'\n",
      "    name = 'MAG'; format = '4D'\n",
      "    name = 'DELAY'; format = '4D'\n",
      "    name = 'KAPPA'; format = '4D'\n",
      "    name = 'FSTAR'; format = '4D'\n",
      "    name = 'DD'; format = 'D'\n",
      "    name = 'DDLUM'; format = 'D'\n",
      "    name = 'ABMAG_I'; format = 'D'\n",
      "    name = 'APMAG_I'; format = 'D'\n",
      "    name = 'KCORR'; format = 'D'\n",
      "    name = 'DS'; format = 'D'\n",
      "    name = 'DDS'; format = 'D'\n",
      "    name = 'SIGCRIT'; format = 'D'\n",
      "    name = 'DSLUM'; format = 'D'\n",
      "    name = 'L_I'; format = 'D'\n",
      "    name = 'REFF'; format = 'D'\n",
      "    name = 'REFF_T'; format = 'D'\n",
      "    name = 'lens_sed'; format = '30A'\n",
      "    name = 'sed_magNorm'; format = 'D'\n",
      ")\n"
     ]
    }
   ],
   "source": [
    "print(twinkles_lenses.columns)"
   ]
  },
  {
   "cell_type": "code",
   "execution_count": 42,
   "metadata": {},
   "outputs": [],
   "source": [
    "# Add in Twinkles ID Number to catalog for matched objects\n",
    "col_list = []\n",
    "for col in twinkles_lenses.columns:\n",
    "        col_format = col.format\n",
    "        if col.name == 'lens_sed':\n",
    "            col_format = '40A'\n",
    "        col_list.append(fits.Column(name=col.name, format=col_format, array=twinkles_lenses[col.name][catalog_row_num[catalog_row_sort]]))\n",
    "col_list.append(fits.Column(name='twinklesId', format='I', array=np.arange(len(good_rows))))"
   ]
  },
  {
   "cell_type": "code",
   "execution_count": 43,
   "metadata": {},
   "outputs": [
    {
     "data": {
      "text/plain": [
       "[name = 'LENSID'; format = 'J',\n",
       " name = 'FLAGTYPE'; format = 'I',\n",
       " name = 'NIMG'; format = 'I',\n",
       " name = 'ZLENS'; format = 'D',\n",
       " name = 'VELDISP'; format = 'D',\n",
       " name = 'ELLIP'; format = 'D',\n",
       " name = 'PHIE'; format = 'D',\n",
       " name = 'GAMMA'; format = 'D',\n",
       " name = 'PHIG'; format = 'D',\n",
       " name = 'ZSRC'; format = 'D',\n",
       " name = 'XSRC'; format = 'D',\n",
       " name = 'YSRC'; format = 'D',\n",
       " name = 'MAGI_IN'; format = 'D',\n",
       " name = 'MAGI'; format = 'D',\n",
       " name = 'IMSEP'; format = 'D',\n",
       " name = 'XIMG'; format = '4D',\n",
       " name = 'YIMG'; format = '4D',\n",
       " name = 'MAG'; format = '4D',\n",
       " name = 'DELAY'; format = '4D',\n",
       " name = 'KAPPA'; format = '4D',\n",
       " name = 'FSTAR'; format = '4D',\n",
       " name = 'DD'; format = 'D',\n",
       " name = 'DDLUM'; format = 'D',\n",
       " name = 'ABMAG_I'; format = 'D',\n",
       " name = 'APMAG_I'; format = 'D',\n",
       " name = 'KCORR'; format = 'D',\n",
       " name = 'DS'; format = 'D',\n",
       " name = 'DDS'; format = 'D',\n",
       " name = 'SIGCRIT'; format = 'D',\n",
       " name = 'DSLUM'; format = 'D',\n",
       " name = 'L_I'; format = 'D',\n",
       " name = 'REFF'; format = 'D',\n",
       " name = 'REFF_T'; format = 'D',\n",
       " name = 'lens_sed'; format = '40A',\n",
       " name = 'sed_magNorm'; format = 'D',\n",
       " name = 'twinklesId'; format = 'I']"
      ]
     },
     "execution_count": 43,
     "metadata": {},
     "output_type": "execute_result"
    }
   ],
   "source": [
    "col_list"
   ]
  },
  {
   "cell_type": "markdown",
   "metadata": {},
   "source": [
    "Save this catalog of only the systems we need."
   ]
  },
  {
   "cell_type": "code",
   "execution_count": 44,
   "metadata": {},
   "outputs": [],
   "source": [
    "cols = fits.ColDefs(col_list)\n",
    "tbhdu = fits.BinTableHDU.from_columns(cols)\n",
    "tbhdu.writeto('../../data/cosmoDC2_v1.1.4_matched_AGN.fits')"
   ]
  },
  {
   "cell_type": "code",
   "execution_count": 45,
   "metadata": {},
   "outputs": [
    {
     "data": {
      "text/plain": [
       "FITS_rec([ (431864, 0, 2,  0.2  ,  205.1162,  0.2784123 ,  -39.1588 ,  0.05159786,   75.38537,  2.16,  0.1176923 , -0.06849588,  24.49,  22.90721,  1.882717, [ 0.8468, -0.8855,  0.    ,  0.    ], [-0.8346, -0.0972,  0.    ,  0.    ], [ 4.2965, -5.3298,  0.    ,  0.    ], [  0.   ,   8.204,   0.   ,   0.   ], [ 0.,  0.,  0.,  0.], [ 0.,  0.,  0.,  0.],  680.579895,   980.035156, -22.3044796,  17.8517303,  0.2       ,  1709.61,  1451.17 ,  0.,  17071.5 ,  0.,  2.04867339,  0., 'galaxySED/Exp.50E09.1Z.spec.gz',  18.49433104, 0),\n",
       "          (446063, 0, 2,  0.202,  263.0268,  0.06264275,  -46.85597,  0.04434961,  114.9769 ,  1.25,  0.2783159 ,  0.4742334 ,  23.23,  22.79915,  3.094686, [-0.5863,  0.6371,  0.    ,  0.    ], [-0.8146,  2.028 ,  0.    ,  0.    ], [-1.4871,  4.1535,  0.    ,  0.    ], [ 49.484,   0.   ,   0.   ,   0.   ], [ 0.,  0.,  0.,  0.], [ 0.,  0.,  0.,  0.],  685.897339,   990.987244, -22.9583015,  17.2240372,  0.20200001,  1720.14,  1353.71 ,  0.,   8708.21,  0.,  2.00801373,  0., 'galaxySED/Inst.12E10.04Z.spec.',  17.49804288, 1),\n",
       "          (630751, 0, 2,  0.228,  287.7398,  0.1047753 ,  156.5082 ,  0.07016704, -137.0641 ,  2.54,  0.02263871, -0.2636531 ,  24.51,  23.0421 ,  3.866974, [-0.3589, -0.8938,  0.    ,  0.    ], [ 1.6666, -2.1632,  0.    ,  0.    ], [-3.8651,  8.5347,  0.    ,  0.    ], [ 33.235,   0.   ,   0.   ,   0.   ], [ 0.,  0.,  0.,  0.], [ 0.,  0.,  0.,  0.],  752.863586,  1135.3064  , -23.2133579,  17.2902069,  0.228     ,  1659.21,  1398.04 ,  0.,  20792.6 ,  0.,  1.24999595,  0., 'galaxySED/Exp.10E10.1Z.spec.gz',  17.99167507, 2),\n",
       "          (795168, 0, 2,  0.248,  183.2314,  0.1859529 ,   45.83859,  0.05534196,  158.1142 ,  1.37,  0.1990186 ,  0.04827928,  24.29,  22.93303,  1.532471, [-0.5542,  0.9524,  0.    ,  0.    ], [-0.0721,  0.2083,  0.    ,  0.    ], [-3.9858,  3.4897,  0.    ,  0.    ], [ 11.3  ,   0.   ,   0.   ,   0.   ], [ 0.,  0.,  0.,  0.], [ 0.,  0.,  0.,  0.],  801.717834,  1248.67883 , -22.0445213,  18.6857319,  0.248     ,  1736.45,  1314.28 ,  0.,   9753.47,  0.,  0.74260741,  0., 'galaxySED/Inst.12E10.04Z.spec.',  17.82497693, 3),\n",
       "          (893616, 0, 2,  0.258,  237.684 ,  0.2642204 ,  -95.13717,  0.1022537 ,   11.49713,  0.72, -0.4204412 , -0.08266283,  23.45,  23.25613,  2.067801, [-1.4526,  0.5565,  0.    ,  0.    ], [-0.4458,  0.0434,  0.    ,  0.    ], [ 2.8625, -1.1955,  0.    ,  0.    ], [  0.   ,  42.66 ,   0.   ,   0.   ], [ 0.,  0.,  0.,  0.], [ 0.,  0.,  0.,  0.],  825.314453,  1306.11304 , -22.734539 ,  18.1033649,  0.25799999,  1490.32,   886.691,  0.,   4408.96,  0.,  3.48167825,  0., 'galaxySED/Exp.80E09.1Z.spec.gz',  18.40897398, 4)],\n",
       "         dtype=(numpy.record, [('LENSID', '<i4'), ('FLAGTYPE', '<i2'), ('NIMG', '<i2'), ('ZLENS', '<f8'), ('VELDISP', '<f8'), ('ELLIP', '<f8'), ('PHIE', '<f8'), ('GAMMA', '<f8'), ('PHIG', '<f8'), ('ZSRC', '<f8'), ('XSRC', '<f8'), ('YSRC', '<f8'), ('MAGI_IN', '<f8'), ('MAGI', '<f8'), ('IMSEP', '<f8'), ('XIMG', '<f8', (4,)), ('YIMG', '<f8', (4,)), ('MAG', '<f8', (4,)), ('DELAY', '<f8', (4,)), ('KAPPA', '<f8', (4,)), ('FSTAR', '<f8', (4,)), ('DD', '<f8'), ('DDLUM', '<f8'), ('ABMAG_I', '<f8'), ('APMAG_I', '<f8'), ('KCORR', '<f8'), ('DS', '<f8'), ('DDS', '<f8'), ('SIGCRIT', '<f8'), ('DSLUM', '<f8'), ('L_I', '<f8'), ('REFF', '<f8'), ('REFF_T', '<f8'), ('lens_sed', 'S40'), ('sed_magNorm', '<f8'), ('twinklesId', '<i2')]))"
      ]
     },
     "execution_count": 45,
     "metadata": {},
     "output_type": "execute_result"
    }
   ],
   "source": [
    "tbhdu.data[:5]"
   ]
  },
  {
   "cell_type": "markdown",
   "metadata": {},
   "source": [
    "Save the cached `galaxy_id` info to file"
   ]
  },
  {
   "cell_type": "code",
   "execution_count": 46,
   "metadata": {},
   "outputs": [],
   "source": [
    "agn_cache = pd.DataFrame(np.array([np.array(gal_ids)[catalog_row_sort], np.arange(len(good_rows))], dtype=np.int).T,\n",
    "                         columns=['galtileid', 'twinkles_system'])"
   ]
  },
  {
   "cell_type": "code",
   "execution_count": 47,
   "metadata": {},
   "outputs": [
    {
     "data": {
      "text/html": [
       "<div>\n",
       "<style>\n",
       "    .dataframe thead tr:only-child th {\n",
       "        text-align: right;\n",
       "    }\n",
       "\n",
       "    .dataframe thead th {\n",
       "        text-align: left;\n",
       "    }\n",
       "\n",
       "    .dataframe tbody tr th {\n",
       "        vertical-align: top;\n",
       "    }\n",
       "</style>\n",
       "<table border=\"1\" class=\"dataframe\">\n",
       "  <thead>\n",
       "    <tr style=\"text-align: right;\">\n",
       "      <th></th>\n",
       "      <th>galtileid</th>\n",
       "      <th>twinkles_system</th>\n",
       "    </tr>\n",
       "  </thead>\n",
       "  <tbody>\n",
       "    <tr>\n",
       "      <th>0</th>\n",
       "      <td>2570959574</td>\n",
       "      <td>0</td>\n",
       "    </tr>\n",
       "    <tr>\n",
       "      <th>1</th>\n",
       "      <td>2567306461</td>\n",
       "      <td>1</td>\n",
       "    </tr>\n",
       "    <tr>\n",
       "      <th>2</th>\n",
       "      <td>2576173859</td>\n",
       "      <td>2</td>\n",
       "    </tr>\n",
       "    <tr>\n",
       "      <th>3</th>\n",
       "      <td>2566168960</td>\n",
       "      <td>3</td>\n",
       "    </tr>\n",
       "    <tr>\n",
       "      <th>4</th>\n",
       "      <td>2563255171</td>\n",
       "      <td>4</td>\n",
       "    </tr>\n",
       "  </tbody>\n",
       "</table>\n",
       "</div>"
      ],
      "text/plain": [
       "    galtileid  twinkles_system\n",
       "0  2570959574                0\n",
       "1  2567306461                1\n",
       "2  2576173859                2\n",
       "3  2566168960                3\n",
       "4  2563255171                4"
      ]
     },
     "execution_count": 47,
     "metadata": {},
     "output_type": "execute_result"
    }
   ],
   "source": [
    "agn_cache.head()"
   ]
  },
  {
   "cell_type": "code",
   "execution_count": 48,
   "metadata": {},
   "outputs": [
    {
     "data": {
      "text/html": [
       "<div>\n",
       "<style>\n",
       "    .dataframe thead tr:only-child th {\n",
       "        text-align: right;\n",
       "    }\n",
       "\n",
       "    .dataframe thead th {\n",
       "        text-align: left;\n",
       "    }\n",
       "\n",
       "    .dataframe tbody tr th {\n",
       "        vertical-align: top;\n",
       "    }\n",
       "</style>\n",
       "<table border=\"1\" class=\"dataframe\">\n",
       "  <thead>\n",
       "    <tr style=\"text-align: right;\">\n",
       "      <th></th>\n",
       "      <th>galtileid</th>\n",
       "      <th>twinkles_system</th>\n",
       "    </tr>\n",
       "  </thead>\n",
       "  <tbody>\n",
       "    <tr>\n",
       "      <th>986</th>\n",
       "      <td>2567258264</td>\n",
       "      <td>986</td>\n",
       "    </tr>\n",
       "    <tr>\n",
       "      <th>987</th>\n",
       "      <td>2567645011</td>\n",
       "      <td>987</td>\n",
       "    </tr>\n",
       "    <tr>\n",
       "      <th>988</th>\n",
       "      <td>2569857679</td>\n",
       "      <td>988</td>\n",
       "    </tr>\n",
       "    <tr>\n",
       "      <th>989</th>\n",
       "      <td>2579224734</td>\n",
       "      <td>989</td>\n",
       "    </tr>\n",
       "    <tr>\n",
       "      <th>990</th>\n",
       "      <td>2577934627</td>\n",
       "      <td>990</td>\n",
       "    </tr>\n",
       "  </tbody>\n",
       "</table>\n",
       "</div>"
      ],
      "text/plain": [
       "      galtileid  twinkles_system\n",
       "986  2567258264              986\n",
       "987  2567645011              987\n",
       "988  2569857679              988\n",
       "989  2579224734              989\n",
       "990  2577934627              990"
      ]
     },
     "execution_count": 48,
     "metadata": {},
     "output_type": "execute_result"
    }
   ],
   "source": [
    "agn_cache.tail()"
   ]
  },
  {
   "cell_type": "code",
   "execution_count": 49,
   "metadata": {},
   "outputs": [
    {
     "name": "stdout",
     "output_type": "stream",
     "text": [
      "[ True]\n"
     ]
    }
   ],
   "source": [
    "#Check that galaxy_ids and twinkles_ids in FITS match up after sort\n",
    "g_id = np.where(np.array(gal_ids) == agn_cache['galtileid'].values[0])\n",
    "print(np.array(catalog_ids)[g_id] == tbhdu.data['LENSID'][0])"
   ]
  },
  {
   "cell_type": "code",
   "execution_count": 50,
   "metadata": {},
   "outputs": [],
   "source": [
    "agn_cache.to_csv('cosmoDC2_v1.1.4_agn_cache.csv', index=False)"
   ]
  },
  {
   "cell_type": "markdown",
   "metadata": {},
   "source": [
    "### Match to GLSNe catalog\n",
    "\n",
    "Here we do the same as we did for the AGN and OM10 catalog except with a bulge+disk galaxy catalog and the host galaxy information from the Gravitationally Lensed SNe catalog.\n",
    "\n",
    "We begin by loading the hdf5 tables for the lensed SNe catalog into dataframes."
   ]
  },
  {
   "cell_type": "code",
   "execution_count": 51,
   "metadata": {},
   "outputs": [],
   "source": [
    "sne_systems = pd.read_hdf('/global/cscratch1/sd/brycek/glsne_dc2_v2_with_seds.h5', key='system')\n",
    "sne_images = pd.read_hdf('/global/cscratch1/sd/brycek/glsne_dc2_v2_with_seds.h5', key='image')"
   ]
  },
  {
   "cell_type": "code",
   "execution_count": 52,
   "metadata": {},
   "outputs": [],
   "source": [
    "use_gals_df = df_galaxy.query('raPhoSim > 52.495 and raPhoSim < 53.755 and decPhoSim > -28.65 and decPhoSim < -27.55')"
   ]
  },
  {
   "cell_type": "code",
   "execution_count": 53,
   "metadata": {},
   "outputs": [
    {
     "data": {
      "text/plain": [
       "1799129"
      ]
     },
     "execution_count": 53,
     "metadata": {},
     "output_type": "execute_result"
    }
   ],
   "source": [
    "len(use_gals_df)"
   ]
  },
  {
   "cell_type": "code",
   "execution_count": 54,
   "metadata": {},
   "outputs": [],
   "source": [
    "use_gals_df = use_gals_df.merge(df_disk, on='galaxy_id', suffixes=('_bulge', '_disk'))"
   ]
  },
  {
   "cell_type": "markdown",
   "metadata": {},
   "source": [
    "Following from Table 3 in Mannucci et al. 2005 (https://www.aanda.org/articles/aa/pdf/2005/15/aa1411.pdf) we are going to use galaxy colors\n",
    "to scale the sn rate by color as a proxy for galaxy type, but we end up changing it from that a bit to give us good sample sizes of all types in the DDF region."
   ]
  },
  {
   "cell_type": "code",
   "execution_count": 55,
   "metadata": {},
   "outputs": [],
   "source": [
    "from lsst.utils import getPackageDir"
   ]
  },
  {
   "cell_type": "code",
   "execution_count": 56,
   "metadata": {},
   "outputs": [],
   "source": [
    "sims_sed_list = os.listdir(os.path.join(getPackageDir('SIMS_SED_LIBRARY'),\n",
    "                                        'galaxySED'))"
   ]
  },
  {
   "cell_type": "code",
   "execution_count": 57,
   "metadata": {},
   "outputs": [],
   "source": [
    "sims_sed_dict = {}\n",
    "for sed_name in sims_sed_list:\n",
    "    sed_obj = Sed()\n",
    "    sed_obj.readSED_flambda(os.path.join(getPackageDir('SIMS_SED_LIBRARY'),\n",
    "                                         'galaxySED', sed_name))\n",
    "    sims_sed_dict[os.path.join('galaxySED', sed_name)] = sed_obj"
   ]
  },
  {
   "cell_type": "code",
   "execution_count": 58,
   "metadata": {},
   "outputs": [],
   "source": [
    "# Filters from http://svo2.cab.inta-csic.es/svo/theory/fps3/index.php\n",
    "bp_B = Bandpass(wavelen_max = 2700.)\n",
    "bp_B.setBandpass(wavelen=np.array([360., 380., 400., 420., 460., 480.,\n",
    "                                   500., 520., 540., 560.]),\n",
    "                 sb=np.array([0.00, 0.11, 0.92, 0.94, 0.79, 0.58,\n",
    "                              0.36, 0.15, 0.04, 0.0]))\n",
    "bp_K = Bandpass(wavelen_max = 2700.)\n",
    "bp_K.setBandpass(wavelen=np.linspace(1800., 2600., 17),\n",
    "                 sb=np.array([0.00, 0.10, 0.48, 0.95, 1.00, 0.98,\n",
    "                              0.96, 0.95, 0.97, 0.96, 0.94, 0.95,\n",
    "                              0.95, 0.84, 0.46, 0.08, 0.00]))\n",
    "bp_dict = BandpassDict(bandpassNameList=['B', 'K'], bandpassList=[bp_B, bp_K])"
   ]
  },
  {
   "cell_type": "code",
   "execution_count": 59,
   "metadata": {},
   "outputs": [
    {
     "name": "stdout",
     "output_type": "stream",
     "text": [
      "0\n",
      "100000\n",
      "200000\n",
      "300000\n",
      "400000\n",
      "500000\n",
      "600000\n",
      "700000\n",
      "800000\n",
      "900000\n",
      "1000000\n",
      "1100000\n",
      "1200000\n",
      "1300000\n",
      "1400000\n",
      "1500000\n",
      "1600000\n",
      "1700000\n"
     ]
    }
   ],
   "source": [
    "from lsst.sims.photUtils import getImsimFluxNorm\n",
    "from copy import deepcopy\n",
    "bk_color = []\n",
    "i = 0\n",
    "for sed_name_bulge, redshift, magNorm_bulge, sed_name_disk, magNorm_disk in zip(use_gals_df['sedFilepath_bulge'].values,\n",
    "                                                                                use_gals_df['redshift_bulge'].values,\n",
    "                                                                                use_gals_df['phosimMagNorm_bulge'].values,\n",
    "                                                                                use_gals_df['sedFilepath_disk'].values,\n",
    "                                                                                use_gals_df['phosimMagNorm_disk'].values):\n",
    "    if i % 100000 == 0:\n",
    "        print(i)\n",
    "\n",
    "    sed_obj_bulge = deepcopy(sims_sed_dict[sed_name_bulge])\n",
    "    f_norm_b = getImsimFluxNorm(sed_obj_bulge, magNorm_bulge)\n",
    "    sed_obj_bulge.multiplyFluxNorm(f_norm_b)\n",
    "    sed_obj_bulge.redshiftSED(redshift)\n",
    "    \n",
    "    sed_obj_disk = deepcopy(sims_sed_dict[sed_name_disk])\n",
    "    f_norm_d = getImsimFluxNorm(sed_obj_disk, magNorm_disk)\n",
    "    sed_obj_disk.multiplyFluxNorm(f_norm_d)\n",
    "    sed_obj_disk.redshiftSED(redshift)\n",
    "    \n",
    "    sed_obj = Sed()\n",
    "    sed_obj.setSED(wavelen=sed_obj_bulge.wavelen, flambda=sed_obj_bulge.flambda+sed_obj_disk.flambda)\n",
    "    \n",
    "    \n",
    "    b_val, k_val = bp_dict.magListForSed(sed_obj)\n",
    "    bk_color.append(b_val - k_val)\n",
    "    i+=1"
   ]
  },
  {
   "cell_type": "code",
   "execution_count": 60,
   "metadata": {},
   "outputs": [],
   "source": [
    "bk_color = np.array(bk_color)"
   ]
  },
  {
   "cell_type": "code",
   "execution_count": 61,
   "metadata": {},
   "outputs": [],
   "source": [
    "# Save so if kernel resets we don't have to do it again.\n",
    "np.savetxt('bk_color.dat', bk_color)"
   ]
  },
  {
   "cell_type": "code",
   "execution_count": 62,
   "metadata": {},
   "outputs": [],
   "source": [
    "# Uncomment to load from file\n",
    "#bk_color = np.genfromtxt('bk_color.dat')"
   ]
  },
  {
   "cell_type": "code",
   "execution_count": 63,
   "metadata": {},
   "outputs": [],
   "source": [
    "use_gals_df['bk_color'] = bk_color"
   ]
  },
  {
   "cell_type": "code",
   "execution_count": 64,
   "metadata": {},
   "outputs": [],
   "source": [
    "use_gals_df = use_gals_df.reset_index(drop=True)"
   ]
  },
  {
   "cell_type": "markdown",
   "metadata": {},
   "source": [
    "As we did before we match based upon a property in each catalog. Here we use the source redshift of the SNe in the lens catalog and the redshift of the potential host galaxies in the uDDF field. Since we have so many potential host galaxies we tighten up the redshift bounds to 0.01 in dex. We also use the galaxy type from the colors to associate to proper types of host galaxies in the lensed SNe catalog."
   ]
  },
  {
   "cell_type": "code",
   "execution_count": 65,
   "metadata": {},
   "outputs": [],
   "source": [
    "def find_sne_lens_candidates(galz, gal_type):#, gal_mag):\n",
    "    # search the galaxy catalog for all possible host galaxies +- 0.05 dex in redshift\n",
    "\n",
    "    lens_candidates = sne_systems.query(str('zs < {}'.format(np.power(10, np.log10(galz)+0.01)) + ' and ' +\n",
    "                                            'zs > {}'.format(np.power(10, np.log10(galz)-0.01))))\n",
    "        \n",
    "    if gal_type == 't1':\n",
    "        lens_candidates = lens_candidates.query('host_type == \"kinney-starburst\"')\n",
    "    elif gal_type == 't4':\n",
    "        lens_candidates = lens_candidates.query('host_type == \"kinney-elliptical\"')\n",
    "    else:\n",
    "        lens_candidates = lens_candidates.query('host_type == \"kinney-sc\"')\n",
    "\n",
    "    return lens_candidates"
   ]
  },
  {
   "cell_type": "code",
   "execution_count": 66,
   "metadata": {},
   "outputs": [
    {
     "name": "stdout",
     "output_type": "stream",
     "text": [
      "271 0\n",
      "72897 50\n",
      "132954 100\n",
      "189460 150\n",
      "260983 200\n",
      "336047 250\n",
      "407645 300\n",
      "463420 350\n",
      "539579 400\n",
      "611656 450\n",
      "689162 500\n",
      "779432 550\n",
      "855267 600\n",
      "950664 650\n",
      "1043958 700\n",
      "1547433 750\n",
      "1619232 800\n",
      "1717832 850\n",
      "1721333 850\n",
      "1721950 850\n",
      "1722291 850\n",
      "1726210 850\n",
      "1727534 850\n",
      "1728816 850\n",
      "1730012 850\n",
      "1732389 850\n",
      "1732445 850\n",
      "1734246 850\n",
      "1735636 850\n",
      "1735914 850\n",
      "1738488 850\n",
      "1741608 850\n",
      "1744195 850\n",
      "1745009 850\n",
      "1746916 850\n",
      "1749538 850\n",
      "1749761 850\n",
      "1754285 850\n",
      "1761807 850\n",
      "1764246 850\n",
      "1764837 850\n",
      "1765968 850\n",
      "1766497 850\n",
      "1769049 850\n",
      "1769729 850\n",
      "1770494 850\n",
      "1771050 850\n",
      "1772099 850\n",
      "1772416 850\n",
      "1776306 850\n",
      "1777550 850\n",
      "1778351 850\n",
      "1778821 850\n",
      "1780062 850\n",
      "1780576 850\n",
      "1784765 850\n",
      "1787179 850\n",
      "1788966 850\n",
      "1789552 850\n",
      "1789624 850\n",
      "1790573 850\n",
      "1793063 850\n",
      "1793597 850\n",
      "1793674 850\n",
      "1794869 850\n"
     ]
    }
   ],
   "source": [
    "#%%time\n",
    "density_param = .0005\n",
    "good_rows_sn = []\n",
    "gal_ids_sn = []\n",
    "sys_ids_sn = []\n",
    "used_systems = []\n",
    "ra_list_sn = []\n",
    "dec_list_sn = []\n",
    "type_sn = []\n",
    "redshift_sn = []\n",
    "\n",
    "rd_state = np.random.RandomState(47)\n",
    "\n",
    "for row_idx in range(len(use_gals_df)):\n",
    "    \n",
    "    density_test = rd_state.uniform()\n",
    "    \n",
    "    gal_bk = use_gals_df['bk_color'].iloc[row_idx]\n",
    "    \n",
    "    if gal_bk < 2.6:\n",
    "        type_density_param = 1.2*density_param\n",
    "        gal_type = 't1'\n",
    "    elif ((2.6 <= gal_bk) and (gal_bk < 3.3)):\n",
    "        type_density_param = 3.*density_param\n",
    "        gal_type = 't2'\n",
    "    elif ((3.3 <= gal_bk) and (gal_bk < 4.1)):\n",
    "        type_density_param = 2.*density_param\n",
    "        gal_type = 't3'\n",
    "    else:\n",
    "        type_density_param = 3.*density_param\n",
    "        gal_type = 't4'\n",
    "    \n",
    "    if density_test > type_density_param:\n",
    "        continue\n",
    "    \n",
    "    row = use_gals_df.iloc[row_idx]\n",
    "    \n",
    "    gal_id = use_gals_df['galaxy_id'].iloc[row_idx]\n",
    "    if gal_id in df_agn['galaxy_id'].values:\n",
    "        continue\n",
    "    elif gal_id in sne_avoid_galids:\n",
    "        continue\n",
    "    \n",
    "    if len(good_rows_sn) % 50 == 0:\n",
    "        print(row_idx, len(good_rows_sn))\n",
    "\n",
    "    if row.galaxy_id > 0:\n",
    "        #print(gal_type)\n",
    "        candidates = find_sne_lens_candidates(row.redshift_bulge, gal_type)\n",
    "        #print(len(candidates))\n",
    "        np.random.seed(np.int(row.galaxy_id) % 4294967296)\n",
    "        keep_idx = []\n",
    "        for candidate_idx in range(len(candidates)):\n",
    "            if candidates.index[candidate_idx] in used_systems:\n",
    "                continue\n",
    "            else:\n",
    "                keep_idx.append(candidate_idx)\n",
    "        candidates = candidates.iloc[keep_idx]\n",
    "\n",
    "        if len(candidates) > 0:\n",
    "            choice = np.random.choice(np.arange(len(candidates)), p=candidates['weight']/np.sum(candidates['weight']))\n",
    "            used_systems.append(candidates.index[choice])\n",
    "            newlens = candidates.iloc[choice]\n",
    "            #print(len(catalog_ids))\n",
    "            sys_ids_sn.append(newlens.sysno)\n",
    "            gal_ids_sn.append(row.galaxy_id)\n",
    "            ra_list_sn.append(row.raPhoSim_bulge)\n",
    "            dec_list_sn.append(row.decPhoSim_bulge)\n",
    "            good_rows_sn.append(row_idx)\n",
    "            type_sn.append(gal_type)\n",
    "            redshift_sn.append(row.redshift_bulge)"
   ]
  },
  {
   "cell_type": "code",
   "execution_count": 67,
   "metadata": {},
   "outputs": [
    {
     "data": {
      "text/plain": [
       "(850, 850)"
      ]
     },
     "execution_count": 67,
     "metadata": {},
     "output_type": "execute_result"
    }
   ],
   "source": [
    "len(good_rows_sn), len(ra_list_sn)"
   ]
  },
  {
   "cell_type": "code",
   "execution_count": 68,
   "metadata": {},
   "outputs": [
    {
     "name": "stdout",
     "output_type": "stream",
     "text": [
      "579\n",
      "138\n",
      "82\n",
      "51\n"
     ]
    }
   ],
   "source": [
    "print(len(np.where(np.array(type_sn) == \"t1\")[0]))\n",
    "print(len(np.where(np.array(type_sn) == \"t2\")[0]))\n",
    "print(len(np.where(np.array(type_sn) == \"t3\")[0]))\n",
    "print(len(np.where(np.array(type_sn) == \"t4\")[0]))"
   ]
  },
  {
   "cell_type": "markdown",
   "metadata": {},
   "source": [
    "Once again check to see that we are spread throught uDDF region."
   ]
  },
  {
   "cell_type": "code",
   "execution_count": 69,
   "metadata": {},
   "outputs": [
    {
     "data": {
      "text/plain": [
       "<matplotlib.text.Text at 0x2aba86c3cd30>"
      ]
     },
     "execution_count": 69,
     "metadata": {},
     "output_type": "execute_result"
    },
    {
     "name": "stderr",
     "output_type": "stream",
     "text": [
      "/global/common/software/lsst/common/miniconda/py3-4.3.21-env/lib/python3.6/site-packages/matplotlib/font_manager.py:1297: UserWarning: findfont: Font family ['serif'] not found. Falling back to DejaVu Sans\n",
      "  (prop.get_family(), self.defaultFamily[fontext]))\n"
     ]
    },
    {
     "data": {
      "image/png": "[encoded data removed]",
      "text/plain": [
       "<matplotlib.figure.Figure at 0x2aba85d37f98>"
      ]
     },
     "metadata": {},
     "output_type": "display_data"
    }
   ],
   "source": [
    "plt.scatter(ra_list_sn, dec_list_sn, s=6)\n",
    "plt.plot((52.486, 53.764), (-27.533, -27.533))\n",
    "plt.plot((52.479, 53.771), (-28.667, -28.667))\n",
    "plt.plot((52.479, 52.486), (-28.667, -27.533))\n",
    "plt.plot((53.771, 53.764), (-28.667, -27.533))\n",
    "plt.xlabel('ra')\n",
    "plt.ylabel('dec')\n",
    "plt.title('SN Cache Locations')\n",
    "#plt.savefig('sne_cache.png')"
   ]
  },
  {
   "cell_type": "markdown",
   "metadata": {},
   "source": [
    "Now we need to join the information in the systems and image dataframes and then save only the ones we are using to file."
   ]
  },
  {
   "cell_type": "code",
   "execution_count": 70,
   "metadata": {},
   "outputs": [],
   "source": [
    "keep_systems = sne_systems.iloc[used_systems]"
   ]
  },
  {
   "cell_type": "code",
   "execution_count": 71,
   "metadata": {},
   "outputs": [
    {
     "name": "stderr",
     "output_type": "stream",
     "text": [
      "/global/common/software/lsst/common/miniconda/py3-4.3.21-env/lib/python3.6/site-packages/ipykernel/__main__.py:1: SettingWithCopyWarning: \n",
      "A value is trying to be set on a copy of a slice from a DataFrame.\n",
      "Try using .loc[row_indexer,col_indexer] = value instead\n",
      "\n",
      "See the caveats in the documentation: http://pandas.pydata.org/pandas-docs/stable/indexing.html#indexing-view-versus-copy\n",
      "  if __name__ == '__main__':\n"
     ]
    }
   ],
   "source": [
    "keep_systems['twinkles_sysno'] = np.arange(len(keep_systems)) + 1100"
   ]
  },
  {
   "cell_type": "code",
   "execution_count": 72,
   "metadata": {},
   "outputs": [],
   "source": [
    "keep_catalog = keep_systems.merge(sne_images, on='sysno')"
   ]
  },
  {
   "cell_type": "code",
   "execution_count": 73,
   "metadata": {},
   "outputs": [],
   "source": [
    "t_start = keep_catalog['t0'] + keep_catalog['td']"
   ]
  },
  {
   "cell_type": "code",
   "execution_count": 74,
   "metadata": {},
   "outputs": [],
   "source": [
    "keep_catalog['t_start'] = t_start"
   ]
  },
  {
   "cell_type": "code",
   "execution_count": 75,
   "metadata": {},
   "outputs": [],
   "source": [
    "keep_catalog.to_csv('cosmoDC2_v1.1.4_sne_cat.csv', index=False)"
   ]
  },
  {
   "cell_type": "markdown",
   "metadata": {},
   "source": [
    "Save the cache of `galaxy_ids` and associated `twinklesId` values to file."
   ]
  },
  {
   "cell_type": "code",
   "execution_count": 76,
   "metadata": {},
   "outputs": [],
   "source": [
    "sne_cache = pd.DataFrame(np.array([gal_ids_sn, np.arange(len(keep_systems)) + 1100], dtype=np.int).T, columns=['galtileid', 'twinkles_system'])"
   ]
  },
  {
   "cell_type": "code",
   "execution_count": 77,
   "metadata": {},
   "outputs": [],
   "source": [
    "sne_cache.to_csv('cosmoDC2_v1.1.4_sne_cache.csv', index=False)"
   ]
  },
  {
   "cell_type": "markdown",
   "metadata": {},
   "source": [
    "### Check that `galaxy_ids` will not clash when the sprinkler modifies them\n",
    "\n",
    "We need to make sure that we can adjust the `galaxy_id` values of the sprinkler galaxies so that we can record information in the id values, but we need to make sure the new id values don't clash with `cosmoDC2` id values. We check that below."
   ]
  },
  {
   "cell_type": "code",
   "execution_count": 78,
   "metadata": {},
   "outputs": [],
   "source": [
    "import GCRCatalogs\n",
    "import pandas as pd\n",
    "from GCR import GCRQuery"
   ]
  },
  {
   "cell_type": "code",
   "execution_count": 79,
   "metadata": {},
   "outputs": [],
   "source": [
    "catalog = GCRCatalogs.load_catalog('cosmoDC2_v1.1.4_image')"
   ]
  },
  {
   "cell_type": "code",
   "execution_count": 80,
   "metadata": {},
   "outputs": [],
   "source": [
    "cosmo_ids = catalog.get_quantities(['galaxy_id'])"
   ]
  },
  {
   "cell_type": "code",
   "execution_count": 81,
   "metadata": {},
   "outputs": [],
   "source": [
    "smallest_id = np.min(cosmo_ids['galaxy_id'])\n",
    "largest_id = np.max(cosmo_ids['galaxy_id'])"
   ]
  },
  {
   "cell_type": "code",
   "execution_count": 82,
   "metadata": {},
   "outputs": [
    {
     "name": "stdout",
     "output_type": "stream",
     "text": [
      "12083345922 1250000000\n"
     ]
    }
   ],
   "source": [
    "print(largest_id, smallest_id)"
   ]
  },
  {
   "cell_type": "markdown",
   "metadata": {},
   "source": [
    "The highest `galaxy_id` in `cosmoDC2_v1.0_image` is ~1.44e10. Therefore, if we add 1.5e10 to all `galaxy_id` values that are sprinkled then we will be above this. After that we multiply by 10000 to get room to add in the twinkles system numbers in the last 4 digits. If these numbers are less that 2^63 then we will be ok when generating instance catalogs."
   ]
  },
  {
   "cell_type": "code",
   "execution_count": 83,
   "metadata": {},
   "outputs": [],
   "source": [
    "offset = np.int(1.5e10)"
   ]
  },
  {
   "cell_type": "code",
   "execution_count": 84,
   "metadata": {},
   "outputs": [
    {
     "data": {
      "text/plain": [
       "8.9460385746134958e+18"
      ]
     },
     "execution_count": 84,
     "metadata": {},
     "output_type": "execute_result"
    }
   ],
   "source": [
    "(2**63) - np.left_shift((largest_id + offset)*10000, 10)"
   ]
  },
  {
   "cell_type": "markdown",
   "metadata": {},
   "source": [
    "We are under the 2^63 limit. So, we can use this scheme to make sure there are no id clashes and add in the twinkles information as before."
   ]
  },
  {
   "cell_type": "code",
   "execution_count": null,
   "metadata": {},
   "outputs": [],
   "source": []
  }
 ],
 "metadata": {
  "kernelspec": {
   "display_name": "twinkles_gen",
   "language": "python",
   "name": "twinkles_gen"
  },
  "language_info": {
   "codemirror_mode": {
    "name": "ipython",
    "version": 3
   },
   "file_extension": ".py",
   "mimetype": "text/x-python",
   "name": "python",
   "nbconvert_exporter": "python",
   "pygments_lexer": "ipython3",
   "version": "3.6.2"
  }
 },
 "nbformat": 4,
 "nbformat_minor": 2
}
