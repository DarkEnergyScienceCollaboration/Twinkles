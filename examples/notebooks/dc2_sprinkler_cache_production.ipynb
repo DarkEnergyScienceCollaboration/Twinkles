{
 "cells": [
  {
   "cell_type": "markdown",
   "metadata": {},
   "source": [
    "# Produce Cached `galaxy_ids` for DC2\n",
    "\n",
    "_Last Updated: Bryce Kalmbach, September 2018_\n",
    "\n",
    "This is a notebook to produce the cached AGN and SN galaxy_id lists for DC2 Run 2. In this notebook we match the source AGN and SNe galaxies to objects in the galaxy catalogs."
   ]
  },
  {
   "cell_type": "code",
   "execution_count": 1,
   "metadata": {},
   "outputs": [
    {
     "name": "stderr",
     "output_type": "stream",
     "text": [
      "/global/common/software/lsst/common/miniconda/py3-4.3.21-env/lib/python3.6/site-packages/matplotlib/__init__.py:1405: UserWarning: \n",
      "This call to matplotlib.use() has no effect because the backend has already\n",
      "been chosen; matplotlib.use() must be called *before* pylab, matplotlib.pyplot,\n",
      "or matplotlib.backends is imported for the first time.\n",
      "\n",
      "  warnings.warn(_use_error_msg)\n",
      "/global/homes/b/brycek/DC2/sims_catalogs/python/lsst/sims/catalogs/db/dbConnection.py:555: UserWarning: Duplicate object type id 4 specified: \n",
      "Output object ids may not be unique.\n",
      "This may not be a problem if you do not want globally unique id values\n",
      "  'want globally unique id values')\n",
      "/global/homes/b/brycek/DC2/sims_catalogs/python/lsst/sims/catalogs/db/dbConnection.py:555: UserWarning: Duplicate object type id 28 specified: \n",
      "Output object ids may not be unique.\n",
      "This may not be a problem if you do not want globally unique id values\n",
      "  'want globally unique id values')\n"
     ]
    }
   ],
   "source": [
    "import pandas as pd\n",
    "from astropy.io import fits\n",
    "import numpy as np\n",
    "from desc.sims.GCRCatSimInterface import InstanceCatalogWriter\n",
    "from lsst.sims.utils import SpecMap\n",
    "import matplotlib.pyplot as plt\n",
    "from lsst.utils import getPackageDir\n",
    "from lsst.sims.photUtils import Sed, BandpassDict, Bandpass\n",
    "from lsst.sims.catUtils.matchSED import matchBase\n",
    "import os\n",
    "%matplotlib inline"
   ]
  },
  {
   "cell_type": "markdown",
   "metadata": {},
   "source": [
    "### Create an unsprinkled Instance Catalog \n",
    "\n",
    "This is to get the possible AGN and Bulge galaxies to replace with the sprinkler. We use `cosmoDC2_v1.0_image`."
   ]
  },
  {
   "cell_type": "code",
   "execution_count": null,
   "metadata": {},
   "outputs": [],
   "source": [
    "# First we need to create a catalog without sprinkling\n",
    "opsimDB = '/global/projecta/projectdirs/lsst/groups/SSim/DC2/minion_1016_desc_dithered_v4.db'\n",
    "agnDB = '/global/projecta/projectdirs/lsst/groups/SSim/DC2/agn_db_mbh_7.0_m_i_30.0_cosmodc2_180912.db'\n",
    "\n",
    "t_sky = InstanceCatalogWriter(opsimDB, 'cosmoDC2_v1.0_image_addon_knots', min_mag=30, protoDC2_ra=0,\n",
    "                              protoDC2_dec=0, sprinkler=False,\n",
    "                              agn_db_name=agnDB)"
   ]
  },
  {
   "cell_type": "code",
   "execution_count": null,
   "metadata": {},
   "outputs": [
    {
     "name": "stderr",
     "output_type": "stream",
     "text": [
      "WARNING: ErfaWarning: ERFA function \"utcut1\" yielded 1 of \"dubious year (Note 3)\" [astropy._erfa.core]\n",
      "/global/common/software/lsst/cori-haswell-gcc/stack/w.2018.19_sim2.8.0/stack/miniconda3-4.3.21-10a4fa6/Linux64/sims_catUtils/2.8.0.sims/python/lsst/sims/catUtils/mixins/VariabilityMixin.py:852: RuntimeWarning: divide by zero encountered in true_divide\n",
      "  dd = _au_to_parsec/parallax\n"
     ]
    }
   ],
   "source": [
    "uddf_visit = 197356 # Use a visit we know covers the uDDF field\n",
    "t_sky.write_catalog(uddf_visit, fov=1.4)"
   ]
  },
  {
   "cell_type": "markdown",
   "metadata": {},
   "source": [
    "### Load in the galaxy catalogs as dataframes"
   ]
  },
  {
   "cell_type": "code",
   "execution_count": 2,
   "metadata": {},
   "outputs": [],
   "source": [
    "base_columns = ['prefix', 'uniqueId', 'raPhoSim', 'decPhoSim',\n",
    "                        'phosimMagNorm', 'sedFilepath', 'redshift',\n",
    "                        'shear1', 'shear2', 'kappa', 'raOffset', 'decOffset',\n",
    "                        'spatialmodel']\n",
    "df_galaxy = pd.read_csv(os.path.join(os.environ['SCRATCH'],\n",
    "                                     'bulge_gal_cat_197356.txt.gz'),\n",
    "                                delimiter=' ', header=None,\n",
    "                                names=base_columns+['majorAxis', 'minorAxis',\n",
    "                                                    'positionAngle', 'sindex',\n",
    "                                                    'internalExtinctionModel',\n",
    "                                                    'internalAv', 'internalRv',\n",
    "                                                    'galacticExtinctionModel',\n",
    "                                                    'galacticAv', 'galacticRv'])\n",
    "df_disk = pd.read_csv(os.path.join(os.environ['SCRATCH'],\n",
    "                                     'disk_gal_cat_197356.txt.gz'),\n",
    "                                delimiter=' ', header=None,\n",
    "                                names=base_columns+['majorAxis', 'minorAxis',\n",
    "                                                    'positionAngle', 'sindex',\n",
    "                                                    'internalExtinctionModel',\n",
    "                                                    'internalAv', 'internalRv',\n",
    "                                                    'galacticExtinctionModel',\n",
    "                                                    'galacticAv', 'galacticRv'])\n",
    "df_agn = pd.read_csv(os.path.join(os.environ['SCRATCH'],\n",
    "                                     'agn_gal_cat_197356.txt.gz'),\n",
    "                                 delimiter=' ', header=None,\n",
    "                                 names=base_columns+['internalExtinctionModel',\n",
    "                                                     'galacticExtinctionModel',\n",
    "                                                     'galacticAv', 'galacticRv'])"
   ]
  },
  {
   "cell_type": "markdown",
   "metadata": {},
   "source": [
    "We calculate the `galaxy_id` for each catalog so that we can join them together and also save it in the cache for the sprinkler."
   ]
  },
  {
   "cell_type": "code",
   "execution_count": 3,
   "metadata": {},
   "outputs": [],
   "source": [
    "df_agn['galaxy_id'] = np.right_shift(df_agn['uniqueId'], 10)"
   ]
  },
  {
   "cell_type": "code",
   "execution_count": 4,
   "metadata": {},
   "outputs": [
    {
     "data": {
      "text/html": [
       "<div>\n",
       "<style>\n",
       "    .dataframe thead tr:only-child th {\n",
       "        text-align: right;\n",
       "    }\n",
       "\n",
       "    .dataframe thead th {\n",
       "        text-align: left;\n",
       "    }\n",
       "\n",
       "    .dataframe tbody tr th {\n",
       "        vertical-align: top;\n",
       "    }\n",
       "</style>\n",
       "<table border=\"1\" class=\"dataframe\">\n",
       "  <thead>\n",
       "    <tr style=\"text-align: right;\">\n",
       "      <th></th>\n",
       "      <th>prefix</th>\n",
       "      <th>uniqueId</th>\n",
       "      <th>raPhoSim</th>\n",
       "      <th>decPhoSim</th>\n",
       "      <th>phosimMagNorm</th>\n",
       "      <th>sedFilepath</th>\n",
       "      <th>redshift</th>\n",
       "      <th>shear1</th>\n",
       "      <th>shear2</th>\n",
       "      <th>kappa</th>\n",
       "      <th>raOffset</th>\n",
       "      <th>decOffset</th>\n",
       "      <th>spatialmodel</th>\n",
       "      <th>internalExtinctionModel</th>\n",
       "      <th>galacticExtinctionModel</th>\n",
       "      <th>galacticAv</th>\n",
       "      <th>galacticRv</th>\n",
       "      <th>galaxy_id</th>\n",
       "    </tr>\n",
       "  </thead>\n",
       "  <tbody>\n",
       "    <tr>\n",
       "      <th>0</th>\n",
       "      <td>object</td>\n",
       "      <td>2624000071797</td>\n",
       "      <td>53.349798</td>\n",
       "      <td>-28.554964</td>\n",
       "      <td>22.705837</td>\n",
       "      <td>agnSED/agn.spec.gz</td>\n",
       "      <td>0.047118</td>\n",
       "      <td>0.000005</td>\n",
       "      <td>0.000002</td>\n",
       "      <td>-0.000014</td>\n",
       "      <td>0</td>\n",
       "      <td>0</td>\n",
       "      <td>point</td>\n",
       "      <td>none</td>\n",
       "      <td>CCM</td>\n",
       "      <td>0.020457</td>\n",
       "      <td>3.1</td>\n",
       "      <td>2562500070</td>\n",
       "    </tr>\n",
       "    <tr>\n",
       "      <th>1</th>\n",
       "      <td>object</td>\n",
       "      <td>2624000083061</td>\n",
       "      <td>53.833428</td>\n",
       "      <td>-27.997008</td>\n",
       "      <td>23.011965</td>\n",
       "      <td>agnSED/agn.spec.gz</td>\n",
       "      <td>0.047681</td>\n",
       "      <td>-0.000008</td>\n",
       "      <td>-0.000018</td>\n",
       "      <td>-0.000026</td>\n",
       "      <td>0</td>\n",
       "      <td>0</td>\n",
       "      <td>point</td>\n",
       "      <td>none</td>\n",
       "      <td>CCM</td>\n",
       "      <td>0.030825</td>\n",
       "      <td>3.1</td>\n",
       "      <td>2562500081</td>\n",
       "    </tr>\n",
       "    <tr>\n",
       "      <th>2</th>\n",
       "      <td>object</td>\n",
       "      <td>2624000093301</td>\n",
       "      <td>52.522117</td>\n",
       "      <td>-28.319685</td>\n",
       "      <td>24.403659</td>\n",
       "      <td>agnSED/agn.spec.gz</td>\n",
       "      <td>0.048877</td>\n",
       "      <td>-0.000004</td>\n",
       "      <td>-0.000012</td>\n",
       "      <td>-0.000019</td>\n",
       "      <td>0</td>\n",
       "      <td>0</td>\n",
       "      <td>point</td>\n",
       "      <td>none</td>\n",
       "      <td>CCM</td>\n",
       "      <td>0.026697</td>\n",
       "      <td>3.1</td>\n",
       "      <td>2562500091</td>\n",
       "    </tr>\n",
       "    <tr>\n",
       "      <th>3</th>\n",
       "      <td>object</td>\n",
       "      <td>2624000120949</td>\n",
       "      <td>53.993377</td>\n",
       "      <td>-28.493004</td>\n",
       "      <td>20.841246</td>\n",
       "      <td>agnSED/agn.spec.gz</td>\n",
       "      <td>0.044360</td>\n",
       "      <td>-0.000014</td>\n",
       "      <td>0.000010</td>\n",
       "      <td>-0.000026</td>\n",
       "      <td>0</td>\n",
       "      <td>0</td>\n",
       "      <td>point</td>\n",
       "      <td>none</td>\n",
       "      <td>CCM</td>\n",
       "      <td>0.034091</td>\n",
       "      <td>3.1</td>\n",
       "      <td>2562500118</td>\n",
       "    </tr>\n",
       "    <tr>\n",
       "      <th>4</th>\n",
       "      <td>object</td>\n",
       "      <td>2624000216181</td>\n",
       "      <td>54.208142</td>\n",
       "      <td>-28.425526</td>\n",
       "      <td>22.778801</td>\n",
       "      <td>agnSED/agn.spec.gz</td>\n",
       "      <td>0.042932</td>\n",
       "      <td>-0.000003</td>\n",
       "      <td>0.000003</td>\n",
       "      <td>-0.000019</td>\n",
       "      <td>0</td>\n",
       "      <td>0</td>\n",
       "      <td>point</td>\n",
       "      <td>none</td>\n",
       "      <td>CCM</td>\n",
       "      <td>0.031863</td>\n",
       "      <td>3.1</td>\n",
       "      <td>2562500211</td>\n",
       "    </tr>\n",
       "  </tbody>\n",
       "</table>\n",
       "</div>"
      ],
      "text/plain": [
       "   prefix       uniqueId   raPhoSim  decPhoSim  phosimMagNorm  \\\n",
       "0  object  2624000071797  53.349798 -28.554964      22.705837   \n",
       "1  object  2624000083061  53.833428 -27.997008      23.011965   \n",
       "2  object  2624000093301  52.522117 -28.319685      24.403659   \n",
       "3  object  2624000120949  53.993377 -28.493004      20.841246   \n",
       "4  object  2624000216181  54.208142 -28.425526      22.778801   \n",
       "\n",
       "          sedFilepath  redshift    shear1    shear2     kappa  raOffset  \\\n",
       "0  agnSED/agn.spec.gz  0.047118  0.000005  0.000002 -0.000014         0   \n",
       "1  agnSED/agn.spec.gz  0.047681 -0.000008 -0.000018 -0.000026         0   \n",
       "2  agnSED/agn.spec.gz  0.048877 -0.000004 -0.000012 -0.000019         0   \n",
       "3  agnSED/agn.spec.gz  0.044360 -0.000014  0.000010 -0.000026         0   \n",
       "4  agnSED/agn.spec.gz  0.042932 -0.000003  0.000003 -0.000019         0   \n",
       "\n",
       "   decOffset spatialmodel internalExtinctionModel galacticExtinctionModel  \\\n",
       "0          0        point                    none                     CCM   \n",
       "1          0        point                    none                     CCM   \n",
       "2          0        point                    none                     CCM   \n",
       "3          0        point                    none                     CCM   \n",
       "4          0        point                    none                     CCM   \n",
       "\n",
       "   galacticAv  galacticRv   galaxy_id  \n",
       "0    0.020457         3.1  2562500070  \n",
       "1    0.030825         3.1  2562500081  \n",
       "2    0.026697         3.1  2562500091  \n",
       "3    0.034091         3.1  2562500118  \n",
       "4    0.031863         3.1  2562500211  "
      ]
     },
     "execution_count": 4,
     "metadata": {},
     "output_type": "execute_result"
    }
   ],
   "source": [
    "df_agn.head()"
   ]
  },
  {
   "cell_type": "code",
   "execution_count": 5,
   "metadata": {},
   "outputs": [],
   "source": [
    "df_galaxy['galaxy_id'] = np.right_shift(df_galaxy['uniqueId'], 10)"
   ]
  },
  {
   "cell_type": "code",
   "execution_count": 6,
   "metadata": {},
   "outputs": [
    {
     "data": {
      "text/html": [
       "<div>\n",
       "<style>\n",
       "    .dataframe thead tr:only-child th {\n",
       "        text-align: right;\n",
       "    }\n",
       "\n",
       "    .dataframe thead th {\n",
       "        text-align: left;\n",
       "    }\n",
       "\n",
       "    .dataframe tbody tr th {\n",
       "        vertical-align: top;\n",
       "    }\n",
       "</style>\n",
       "<table border=\"1\" class=\"dataframe\">\n",
       "  <thead>\n",
       "    <tr style=\"text-align: right;\">\n",
       "      <th></th>\n",
       "      <th>prefix</th>\n",
       "      <th>uniqueId</th>\n",
       "      <th>raPhoSim</th>\n",
       "      <th>decPhoSim</th>\n",
       "      <th>phosimMagNorm</th>\n",
       "      <th>sedFilepath</th>\n",
       "      <th>redshift</th>\n",
       "      <th>shear1</th>\n",
       "      <th>shear2</th>\n",
       "      <th>kappa</th>\n",
       "      <th>...</th>\n",
       "      <th>minorAxis</th>\n",
       "      <th>positionAngle</th>\n",
       "      <th>sindex</th>\n",
       "      <th>internalExtinctionModel</th>\n",
       "      <th>internalAv</th>\n",
       "      <th>internalRv</th>\n",
       "      <th>galacticExtinctionModel</th>\n",
       "      <th>galacticAv</th>\n",
       "      <th>galacticRv</th>\n",
       "      <th>galaxy_id</th>\n",
       "    </tr>\n",
       "  </thead>\n",
       "  <tbody>\n",
       "    <tr>\n",
       "      <th>0</th>\n",
       "      <td>object</td>\n",
       "      <td>2624000015457</td>\n",
       "      <td>54.128901</td>\n",
       "      <td>-28.112305</td>\n",
       "      <td>20.729031</td>\n",
       "      <td>galaxySED/Inst.62E09.02Z.spec.gz</td>\n",
       "      <td>0.020068</td>\n",
       "      <td>-0.0</td>\n",
       "      <td>-0.0</td>\n",
       "      <td>0.0</td>\n",
       "      <td>...</td>\n",
       "      <td>0.820732</td>\n",
       "      <td>119.560977</td>\n",
       "      <td>4</td>\n",
       "      <td>CCM</td>\n",
       "      <td>0.0</td>\n",
       "      <td>2.0</td>\n",
       "      <td>CCM</td>\n",
       "      <td>0.032702</td>\n",
       "      <td>3.1</td>\n",
       "      <td>2562500015</td>\n",
       "    </tr>\n",
       "    <tr>\n",
       "      <th>1</th>\n",
       "      <td>object</td>\n",
       "      <td>2624000020577</td>\n",
       "      <td>53.493264</td>\n",
       "      <td>-27.925766</td>\n",
       "      <td>21.189665</td>\n",
       "      <td>galaxySED/Inst.25E09.02Z.spec.gz</td>\n",
       "      <td>0.021270</td>\n",
       "      <td>-0.0</td>\n",
       "      <td>-0.0</td>\n",
       "      <td>0.0</td>\n",
       "      <td>...</td>\n",
       "      <td>0.618218</td>\n",
       "      <td>95.434331</td>\n",
       "      <td>4</td>\n",
       "      <td>CCM</td>\n",
       "      <td>0.0</td>\n",
       "      <td>2.0</td>\n",
       "      <td>CCM</td>\n",
       "      <td>0.021368</td>\n",
       "      <td>3.1</td>\n",
       "      <td>2562500020</td>\n",
       "    </tr>\n",
       "    <tr>\n",
       "      <th>2</th>\n",
       "      <td>object</td>\n",
       "      <td>2624000026721</td>\n",
       "      <td>52.925348</td>\n",
       "      <td>-28.628385</td>\n",
       "      <td>21.910570</td>\n",
       "      <td>galaxySED/Exp.80E09.02Z.spec.gz</td>\n",
       "      <td>0.019366</td>\n",
       "      <td>-0.0</td>\n",
       "      <td>-0.0</td>\n",
       "      <td>0.0</td>\n",
       "      <td>...</td>\n",
       "      <td>0.325353</td>\n",
       "      <td>29.593816</td>\n",
       "      <td>4</td>\n",
       "      <td>CCM</td>\n",
       "      <td>0.0</td>\n",
       "      <td>2.0</td>\n",
       "      <td>CCM</td>\n",
       "      <td>0.030184</td>\n",
       "      <td>3.1</td>\n",
       "      <td>2562500026</td>\n",
       "    </tr>\n",
       "    <tr>\n",
       "      <th>3</th>\n",
       "      <td>object</td>\n",
       "      <td>2624000030817</td>\n",
       "      <td>53.387651</td>\n",
       "      <td>-27.752752</td>\n",
       "      <td>20.989436</td>\n",
       "      <td>galaxySED/Inst.40E09.0005Z.spec.gz</td>\n",
       "      <td>0.017884</td>\n",
       "      <td>-0.0</td>\n",
       "      <td>-0.0</td>\n",
       "      <td>0.0</td>\n",
       "      <td>...</td>\n",
       "      <td>0.440540</td>\n",
       "      <td>28.999509</td>\n",
       "      <td>4</td>\n",
       "      <td>CCM</td>\n",
       "      <td>0.0</td>\n",
       "      <td>2.0</td>\n",
       "      <td>CCM</td>\n",
       "      <td>0.022445</td>\n",
       "      <td>3.1</td>\n",
       "      <td>2562500030</td>\n",
       "    </tr>\n",
       "    <tr>\n",
       "      <th>4</th>\n",
       "      <td>object</td>\n",
       "      <td>2624000034913</td>\n",
       "      <td>53.329267</td>\n",
       "      <td>-28.122075</td>\n",
       "      <td>21.725222</td>\n",
       "      <td>galaxySED/Inst.32E09.0005Z.spec.gz</td>\n",
       "      <td>0.022079</td>\n",
       "      <td>-0.0</td>\n",
       "      <td>-0.0</td>\n",
       "      <td>0.0</td>\n",
       "      <td>...</td>\n",
       "      <td>0.411478</td>\n",
       "      <td>151.776670</td>\n",
       "      <td>4</td>\n",
       "      <td>CCM</td>\n",
       "      <td>0.0</td>\n",
       "      <td>2.0</td>\n",
       "      <td>CCM</td>\n",
       "      <td>0.026089</td>\n",
       "      <td>3.1</td>\n",
       "      <td>2562500034</td>\n",
       "    </tr>\n",
       "  </tbody>\n",
       "</table>\n",
       "<p>5 rows × 24 columns</p>\n",
       "</div>"
      ],
      "text/plain": [
       "   prefix       uniqueId   raPhoSim  decPhoSim  phosimMagNorm  \\\n",
       "0  object  2624000015457  54.128901 -28.112305      20.729031   \n",
       "1  object  2624000020577  53.493264 -27.925766      21.189665   \n",
       "2  object  2624000026721  52.925348 -28.628385      21.910570   \n",
       "3  object  2624000030817  53.387651 -27.752752      20.989436   \n",
       "4  object  2624000034913  53.329267 -28.122075      21.725222   \n",
       "\n",
       "                          sedFilepath  redshift  shear1  shear2  kappa  \\\n",
       "0    galaxySED/Inst.62E09.02Z.spec.gz  0.020068    -0.0    -0.0    0.0   \n",
       "1    galaxySED/Inst.25E09.02Z.spec.gz  0.021270    -0.0    -0.0    0.0   \n",
       "2     galaxySED/Exp.80E09.02Z.spec.gz  0.019366    -0.0    -0.0    0.0   \n",
       "3  galaxySED/Inst.40E09.0005Z.spec.gz  0.017884    -0.0    -0.0    0.0   \n",
       "4  galaxySED/Inst.32E09.0005Z.spec.gz  0.022079    -0.0    -0.0    0.0   \n",
       "\n",
       "      ...      minorAxis  positionAngle sindex  internalExtinctionModel  \\\n",
       "0     ...       0.820732     119.560977      4                      CCM   \n",
       "1     ...       0.618218      95.434331      4                      CCM   \n",
       "2     ...       0.325353      29.593816      4                      CCM   \n",
       "3     ...       0.440540      28.999509      4                      CCM   \n",
       "4     ...       0.411478     151.776670      4                      CCM   \n",
       "\n",
       "   internalAv  internalRv  galacticExtinctionModel galacticAv  galacticRv  \\\n",
       "0         0.0         2.0                      CCM   0.032702         3.1   \n",
       "1         0.0         2.0                      CCM   0.021368         3.1   \n",
       "2         0.0         2.0                      CCM   0.030184         3.1   \n",
       "3         0.0         2.0                      CCM   0.022445         3.1   \n",
       "4         0.0         2.0                      CCM   0.026089         3.1   \n",
       "\n",
       "    galaxy_id  \n",
       "0  2562500015  \n",
       "1  2562500020  \n",
       "2  2562500026  \n",
       "3  2562500030  \n",
       "4  2562500034  \n",
       "\n",
       "[5 rows x 24 columns]"
      ]
     },
     "execution_count": 6,
     "metadata": {},
     "output_type": "execute_result"
    }
   ],
   "source": [
    "df_galaxy.head()"
   ]
  },
  {
   "cell_type": "code",
   "execution_count": 7,
   "metadata": {},
   "outputs": [],
   "source": [
    "df_disk['galaxy_id'] = np.right_shift(df_disk['uniqueId'], 10)"
   ]
  },
  {
   "cell_type": "code",
   "execution_count": 8,
   "metadata": {},
   "outputs": [
    {
     "data": {
      "text/html": [
       "<div>\n",
       "<style>\n",
       "    .dataframe thead tr:only-child th {\n",
       "        text-align: right;\n",
       "    }\n",
       "\n",
       "    .dataframe thead th {\n",
       "        text-align: left;\n",
       "    }\n",
       "\n",
       "    .dataframe tbody tr th {\n",
       "        vertical-align: top;\n",
       "    }\n",
       "</style>\n",
       "<table border=\"1\" class=\"dataframe\">\n",
       "  <thead>\n",
       "    <tr style=\"text-align: right;\">\n",
       "      <th></th>\n",
       "      <th>prefix</th>\n",
       "      <th>uniqueId</th>\n",
       "      <th>raPhoSim</th>\n",
       "      <th>decPhoSim</th>\n",
       "      <th>phosimMagNorm</th>\n",
       "      <th>sedFilepath</th>\n",
       "      <th>redshift</th>\n",
       "      <th>shear1</th>\n",
       "      <th>shear2</th>\n",
       "      <th>kappa</th>\n",
       "      <th>...</th>\n",
       "      <th>minorAxis</th>\n",
       "      <th>positionAngle</th>\n",
       "      <th>sindex</th>\n",
       "      <th>internalExtinctionModel</th>\n",
       "      <th>internalAv</th>\n",
       "      <th>internalRv</th>\n",
       "      <th>galacticExtinctionModel</th>\n",
       "      <th>galacticAv</th>\n",
       "      <th>galacticRv</th>\n",
       "      <th>galaxy_id</th>\n",
       "    </tr>\n",
       "  </thead>\n",
       "  <tbody>\n",
       "    <tr>\n",
       "      <th>0</th>\n",
       "      <td>object</td>\n",
       "      <td>2624000000107</td>\n",
       "      <td>52.858186</td>\n",
       "      <td>-27.842471</td>\n",
       "      <td>17.868629</td>\n",
       "      <td>galaxySED/Burst.50E09.0005Z.spec.gz</td>\n",
       "      <td>0.022208</td>\n",
       "      <td>-0.0</td>\n",
       "      <td>-0.0</td>\n",
       "      <td>0.0</td>\n",
       "      <td>...</td>\n",
       "      <td>1.298832</td>\n",
       "      <td>169.290615</td>\n",
       "      <td>1</td>\n",
       "      <td>CCM</td>\n",
       "      <td>0.1</td>\n",
       "      <td>2.8</td>\n",
       "      <td>CCM</td>\n",
       "      <td>0.023106</td>\n",
       "      <td>3.1</td>\n",
       "      <td>2562500000</td>\n",
       "    </tr>\n",
       "    <tr>\n",
       "      <th>1</th>\n",
       "      <td>object</td>\n",
       "      <td>2624000006251</td>\n",
       "      <td>52.992274</td>\n",
       "      <td>-28.605817</td>\n",
       "      <td>21.256434</td>\n",
       "      <td>galaxySED/Burst.20E09.0005Z.spec.gz</td>\n",
       "      <td>0.021026</td>\n",
       "      <td>-0.0</td>\n",
       "      <td>-0.0</td>\n",
       "      <td>0.0</td>\n",
       "      <td>...</td>\n",
       "      <td>0.835587</td>\n",
       "      <td>67.781191</td>\n",
       "      <td>1</td>\n",
       "      <td>CCM</td>\n",
       "      <td>0.1</td>\n",
       "      <td>3.4</td>\n",
       "      <td>CCM</td>\n",
       "      <td>0.028443</td>\n",
       "      <td>3.1</td>\n",
       "      <td>2562500006</td>\n",
       "    </tr>\n",
       "    <tr>\n",
       "      <th>2</th>\n",
       "      <td>object</td>\n",
       "      <td>2624000007275</td>\n",
       "      <td>52.625511</td>\n",
       "      <td>-28.261916</td>\n",
       "      <td>18.804901</td>\n",
       "      <td>galaxySED/Exp.16E09.02Z.spec.gz</td>\n",
       "      <td>0.017854</td>\n",
       "      <td>-0.0</td>\n",
       "      <td>-0.0</td>\n",
       "      <td>0.0</td>\n",
       "      <td>...</td>\n",
       "      <td>4.781946</td>\n",
       "      <td>4.371048</td>\n",
       "      <td>1</td>\n",
       "      <td>CCM</td>\n",
       "      <td>0.1</td>\n",
       "      <td>4.0</td>\n",
       "      <td>CCM</td>\n",
       "      <td>0.024487</td>\n",
       "      <td>3.1</td>\n",
       "      <td>2562500007</td>\n",
       "    </tr>\n",
       "    <tr>\n",
       "      <th>3</th>\n",
       "      <td>object</td>\n",
       "      <td>2624000008299</td>\n",
       "      <td>53.748818</td>\n",
       "      <td>-28.632551</td>\n",
       "      <td>20.638686</td>\n",
       "      <td>galaxySED/Burst.20E09.0005Z.spec.gz</td>\n",
       "      <td>0.017479</td>\n",
       "      <td>-0.0</td>\n",
       "      <td>-0.0</td>\n",
       "      <td>0.0</td>\n",
       "      <td>...</td>\n",
       "      <td>2.454897</td>\n",
       "      <td>92.899542</td>\n",
       "      <td>1</td>\n",
       "      <td>CCM</td>\n",
       "      <td>0.1</td>\n",
       "      <td>2.6</td>\n",
       "      <td>CCM</td>\n",
       "      <td>0.024976</td>\n",
       "      <td>3.1</td>\n",
       "      <td>2562500008</td>\n",
       "    </tr>\n",
       "    <tr>\n",
       "      <th>4</th>\n",
       "      <td>object</td>\n",
       "      <td>2624000010347</td>\n",
       "      <td>53.521613</td>\n",
       "      <td>-27.754008</td>\n",
       "      <td>22.351235</td>\n",
       "      <td>galaxySED/Exp.62E09.002Z.spec.gz</td>\n",
       "      <td>0.018099</td>\n",
       "      <td>-0.0</td>\n",
       "      <td>-0.0</td>\n",
       "      <td>0.0</td>\n",
       "      <td>...</td>\n",
       "      <td>0.610922</td>\n",
       "      <td>37.998686</td>\n",
       "      <td>1</td>\n",
       "      <td>CCM</td>\n",
       "      <td>0.1</td>\n",
       "      <td>4.0</td>\n",
       "      <td>CCM</td>\n",
       "      <td>0.023067</td>\n",
       "      <td>3.1</td>\n",
       "      <td>2562500010</td>\n",
       "    </tr>\n",
       "  </tbody>\n",
       "</table>\n",
       "<p>5 rows × 24 columns</p>\n",
       "</div>"
      ],
      "text/plain": [
       "   prefix       uniqueId   raPhoSim  decPhoSim  phosimMagNorm  \\\n",
       "0  object  2624000000107  52.858186 -27.842471      17.868629   \n",
       "1  object  2624000006251  52.992274 -28.605817      21.256434   \n",
       "2  object  2624000007275  52.625511 -28.261916      18.804901   \n",
       "3  object  2624000008299  53.748818 -28.632551      20.638686   \n",
       "4  object  2624000010347  53.521613 -27.754008      22.351235   \n",
       "\n",
       "                           sedFilepath  redshift  shear1  shear2  kappa  \\\n",
       "0  galaxySED/Burst.50E09.0005Z.spec.gz  0.022208    -0.0    -0.0    0.0   \n",
       "1  galaxySED/Burst.20E09.0005Z.spec.gz  0.021026    -0.0    -0.0    0.0   \n",
       "2      galaxySED/Exp.16E09.02Z.spec.gz  0.017854    -0.0    -0.0    0.0   \n",
       "3  galaxySED/Burst.20E09.0005Z.spec.gz  0.017479    -0.0    -0.0    0.0   \n",
       "4     galaxySED/Exp.62E09.002Z.spec.gz  0.018099    -0.0    -0.0    0.0   \n",
       "\n",
       "      ...      minorAxis  positionAngle sindex  internalExtinctionModel  \\\n",
       "0     ...       1.298832     169.290615      1                      CCM   \n",
       "1     ...       0.835587      67.781191      1                      CCM   \n",
       "2     ...       4.781946       4.371048      1                      CCM   \n",
       "3     ...       2.454897      92.899542      1                      CCM   \n",
       "4     ...       0.610922      37.998686      1                      CCM   \n",
       "\n",
       "   internalAv  internalRv  galacticExtinctionModel galacticAv  galacticRv  \\\n",
       "0         0.1         2.8                      CCM   0.023106         3.1   \n",
       "1         0.1         3.4                      CCM   0.028443         3.1   \n",
       "2         0.1         4.0                      CCM   0.024487         3.1   \n",
       "3         0.1         2.6                      CCM   0.024976         3.1   \n",
       "4         0.1         4.0                      CCM   0.023067         3.1   \n",
       "\n",
       "    galaxy_id  \n",
       "0  2562500000  \n",
       "1  2562500006  \n",
       "2  2562500007  \n",
       "3  2562500008  \n",
       "4  2562500010  \n",
       "\n",
       "[5 rows x 24 columns]"
      ]
     },
     "execution_count": 8,
     "metadata": {},
     "output_type": "execute_result"
    }
   ],
   "source": [
    "df_disk.head()"
   ]
  },
  {
   "cell_type": "markdown",
   "metadata": {},
   "source": [
    "### Match the AGN catalog to Twinkles systems\n",
    "\n",
    "We will go through the AGN catalog and find AGN in the uDDF field that match our properties. We will then save the `galaxy_id` of these AGN and give the corresponding OM10 system a `twinklesId` in the catalog that identifies it with this AGN when the sprinkler runs."
   ]
  },
  {
   "cell_type": "code",
   "execution_count": 9,
   "metadata": {},
   "outputs": [],
   "source": [
    "# Load in OM10 lenses we are using in Twinkles\n",
    "\n",
    "from astropy.io import fits\n",
    "hdulist = fits.open('../../data/twinkles_lenses_cosmoDC2_v1.0.fits')\n",
    "twinkles_lenses = hdulist[1].data"
   ]
  },
  {
   "cell_type": "code",
   "execution_count": 10,
   "metadata": {},
   "outputs": [],
   "source": [
    "# Convert phosimMagNorm to i-band magnitudes for the uDDF AGN\n",
    "bpDict = BandpassDict.loadTotalBandpassesFromFiles(bandpassNames=['i'])\n",
    "bp = Bandpass()\n",
    "imsimBand = bp.imsimBandpass()\n",
    "agn_fname = str(getPackageDir('sims_sed_library') + '/agnSED/agn.spec.gz')\n",
    "\n",
    "src_iband = []\n",
    "src_mag_norm = df_agn['phosimMagNorm'].values\n",
    "src_z = df_agn['redshift'].values\n",
    "\n",
    "for src_mag, s_z in zip(src_mag_norm, src_z):\n",
    "    agn_sed = Sed()\n",
    "    agn_sed.readSED_flambda(agn_fname)\n",
    "    agn_sed.redshiftSED(s_z, dimming=True)\n",
    "    f_norm = agn_sed.calcFluxNorm(src_mag, bp)\n",
    "    agn_sed.multiplyFluxNorm(f_norm)\n",
    "    src_iband.append(agn_sed.calcMag(bpDict['i']))"
   ]
  },
  {
   "cell_type": "code",
   "execution_count": 11,
   "metadata": {},
   "outputs": [],
   "source": [
    "df_agn['i_magnitude'] = src_iband"
   ]
  },
  {
   "cell_type": "markdown",
   "metadata": {},
   "source": [
    "We want to match the AGN in the uDDF field to lensed systems based upon the redshift and magnitude of the source AGN. In this example we use 0.1 dex in redshift and 0.25 mags in the _i_-band. **(Anytime you use a new catalog this may need to be played with to get the desired number of systems)**"
   ]
  },
  {
   "cell_type": "code",
   "execution_count": 12,
   "metadata": {},
   "outputs": [],
   "source": [
    "def find_agn_lens_candidates(galz, gal_mag):\n",
    "        # search the OM10 catalog for all sources +- 0.1 dex in redshift                                                                                               \n",
    "        # and within .25 mags of the AGN source                                                                                                                     \n",
    "    w = np.where((np.abs(np.log10(twinkles_lenses['ZSRC']) - np.log10(galz)) <= 0.1) &\n",
    "                     (np.abs(twinkles_lenses['MAGI_IN'] - gal_mag) <= .25))[0]\n",
    "    lens_candidates = twinkles_lenses[w]\n",
    "\n",
    "    return lens_candidates"
   ]
  },
  {
   "cell_type": "code",
   "execution_count": 13,
   "metadata": {},
   "outputs": [],
   "source": [
    "# Only search within the DDF field\n",
    "df_agn = df_agn.query('raPhoSim < 53.755 and raPhoSim > 52.495 and decPhoSim < -27.55 and decPhoSim > -28.65')"
   ]
  },
  {
   "cell_type": "code",
   "execution_count": 14,
   "metadata": {},
   "outputs": [],
   "source": [
    "df_agn = df_agn.reset_index(drop=True)"
   ]
  },
  {
   "cell_type": "markdown",
   "metadata": {},
   "source": [
    "Plot up the distribution of AGN magnitudes in OM10"
   ]
  },
  {
   "cell_type": "code",
   "execution_count": 15,
   "metadata": {},
   "outputs": [
    {
     "data": {
      "text/plain": [
       "array([ 22.55,  22.51,  19.99, ...,  20.99,  23.57,  23.81])"
      ]
     },
     "execution_count": 15,
     "metadata": {},
     "output_type": "execute_result"
    }
   ],
   "source": [
    "twinkles_lenses['MAGI_IN']"
   ]
  },
  {
   "cell_type": "code",
   "execution_count": 16,
   "metadata": {},
   "outputs": [
    {
     "data": {
      "text/plain": [
       "(array([  1.00000000e+00,   2.00000000e+00,   7.00000000e+00,\n",
       "          2.10000000e+01,   3.40000000e+01,   1.14000000e+02,\n",
       "          2.68000000e+02,   5.43000000e+02,   9.43000000e+02,\n",
       "          1.49400000e+03,   2.21200000e+03,   2.51300000e+03,\n",
       "          2.47200000e+03,   2.14300000e+03,   1.46500000e+03,\n",
       "          6.45000000e+02,   1.96000000e+02,   5.40000000e+01,\n",
       "          1.30000000e+01,   3.00000000e+00]),\n",
       " array([ 15.73 ,  16.292,  16.854,  17.416,  17.978,  18.54 ,  19.102,\n",
       "         19.664,  20.226,  20.788,  21.35 ,  21.912,  22.474,  23.036,\n",
       "         23.598,  24.16 ,  24.722,  25.284,  25.846,  26.408,  26.97 ]),\n",
       " <a list of 20 Patch objects>)"
      ]
     },
     "execution_count": 16,
     "metadata": {},
     "output_type": "execute_result"
    },
    {
     "name": "stderr",
     "output_type": "stream",
     "text": [
      "/global/common/software/lsst/common/miniconda/py3-4.3.21-env/lib/python3.6/site-packages/matplotlib/font_manager.py:1297: UserWarning: findfont: Font family ['serif'] not found. Falling back to DejaVu Sans\n",
      "  (prop.get_family(), self.defaultFamily[fontext]))\n"
     ]
    },
    {
     "data": {
      "image/png": "[encoded data removed]",
      "text/plain": [
       "<matplotlib.figure.Figure at 0x2aea04ead5c0>"
      ]
     },
     "metadata": {},
     "output_type": "display_data"
    }
   ],
   "source": [
    "import matplotlib as mpl\n",
    "mpl.rcParams['text.usetex'] = False\n",
    "plt.hist(twinkles_lenses['MAGI_IN'], bins=20)"
   ]
  },
  {
   "cell_type": "code",
   "execution_count": 17,
   "metadata": {},
   "outputs": [],
   "source": [
    "n, bins = np.histogram(twinkles_lenses['MAGI_IN'], bins=20)"
   ]
  },
  {
   "cell_type": "code",
   "execution_count": 18,
   "metadata": {},
   "outputs": [],
   "source": [
    "bin_centers = 0.5*(bins[:-1] + bins[1:])\n",
    "n = n / np.max(n)"
   ]
  },
  {
   "cell_type": "code",
   "execution_count": 19,
   "metadata": {},
   "outputs": [
    {
     "data": {
      "text/plain": [
       "[<matplotlib.lines.Line2D at 0x2aea9ed1aa90>]"
      ]
     },
     "execution_count": 19,
     "metadata": {},
     "output_type": "execute_result"
    },
    {
     "name": "stderr",
     "output_type": "stream",
     "text": [
      "/global/common/software/lsst/common/miniconda/py3-4.3.21-env/lib/python3.6/site-packages/matplotlib/font_manager.py:1297: UserWarning: findfont: Font family ['serif'] not found. Falling back to DejaVu Sans\n",
      "  (prop.get_family(), self.defaultFamily[fontext]))\n"
     ]
    },
    {
     "data": {
      "image/png": "[encoded data removed]",
      "text/plain": [
       "<matplotlib.figure.Figure at 0x2aea9ea62208>"
      ]
     },
     "metadata": {},
     "output_type": "display_data"
    }
   ],
   "source": [
    "plt.plot(bin_centers, n)"
   ]
  },
  {
   "cell_type": "code",
   "execution_count": 42,
   "metadata": {},
   "outputs": [
    {
     "data": {
      "text/plain": [
       "<matplotlib.legend.Legend at 0x2aea9a2efac8>"
      ]
     },
     "execution_count": 42,
     "metadata": {},
     "output_type": "execute_result"
    },
    {
     "name": "stderr",
     "output_type": "stream",
     "text": [
      "/global/common/software/lsst/common/miniconda/py3-4.3.21-env/lib/python3.6/site-packages/matplotlib/font_manager.py:1297: UserWarning: findfont: Font family ['serif'] not found. Falling back to DejaVu Sans\n",
      "  (prop.get_family(), self.defaultFamily[fontext]))\n"
     ]
    },
    {
     "data": {
      "image/png": "[encoded data removed]",
      "text/plain": [
       "<matplotlib.figure.Figure at 0x2aea9a3950f0>"
      ]
     },
     "metadata": {},
     "output_type": "display_data"
    }
   ],
   "source": [
    "mpl.rcParams['text.usetex'] = False\n",
    "n, bins, _ = plt.hist(twinkles_lenses['MAGI_IN'][np.where(twinkles_lenses['ZSRC'] <= 3.)], histtype='step', lw=4, normed=True, bins=20, label='OM10')\n",
    "plt.hist(df_agn['i_magnitude'].values[good_rows], normed=True, bins=bins, histtype='step', label='New Model Catalog')\n",
    "plt.hist(df_agn['i_magnitude'].values, bins=bins, histtype='step', normed=True, label='DC2')\n",
    "#plt.hist(hdu_2[1].data['MAGI_IN'], bins=bins, histtype='step', normed=True)\n",
    "plt.xlabel('i Magnitude')\n",
    "plt.ylabel('Counts')\n",
    "plt.legend(loc=2)"
   ]
  },
  {
   "cell_type": "code",
   "execution_count": 41,
   "metadata": {},
   "outputs": [
    {
     "data": {
      "text/plain": [
       "<matplotlib.legend.Legend at 0x2aea9a1f3ba8>"
      ]
     },
     "execution_count": 41,
     "metadata": {},
     "output_type": "execute_result"
    },
    {
     "name": "stderr",
     "output_type": "stream",
     "text": [
      "/global/common/software/lsst/common/miniconda/py3-4.3.21-env/lib/python3.6/site-packages/matplotlib/font_manager.py:1297: UserWarning: findfont: Font family ['serif'] not found. Falling back to DejaVu Sans\n",
      "  (prop.get_family(), self.defaultFamily[fontext]))\n"
     ]
    },
    {
     "data": {
      "image/png": "[encoded data removed]",
      "text/plain": [
       "<matplotlib.figure.Figure at 0x2aea9a201390>"
      ]
     },
     "metadata": {},
     "output_type": "display_data"
    }
   ],
   "source": [
    "mpl.rcParams['text.usetex'] = False\n",
    "n_z, bins_z, _ = plt.hist(twinkles_lenses['ZSRC'][np.where(twinkles_lenses['ZSRC'] <= 3.)], histtype='step', lw=4, normed=True, bins=20, label='OM10')\n",
    "plt.hist(df_agn['redshift'].values[good_rows], normed=True, bins=bins_z, histtype='step', label='New Model Catalog')\n",
    "plt.hist(df_agn['redshift'].values, bins=bins_z, histtype='step', normed=True, label='DC2')\n",
    "#plt.hist(hdu_2[1].data['ZSRC'], bins=bins_z, histtype='step', normed=True)\n",
    "plt.xlabel('Redshift')\n",
    "plt.ylabel('Counts')\n",
    "plt.legend(loc=2)"
   ]
  },
  {
   "cell_type": "code",
   "execution_count": 30,
   "metadata": {},
   "outputs": [
    {
     "data": {
      "text/plain": [
       "(0.3010299956639812, 0.47712125471966244)"
      ]
     },
     "execution_count": 30,
     "metadata": {},
     "output_type": "execute_result"
    }
   ],
   "source": [
    "np.log10(2.), np.log10(3.)"
   ]
  },
  {
   "cell_type": "code",
   "execution_count": 31,
   "metadata": {},
   "outputs": [],
   "source": [
    "n_zeros = np.zeros(22)\n",
    "n_zeros[1:-1] = n"
   ]
  },
  {
   "cell_type": "code",
   "execution_count": 32,
   "metadata": {},
   "outputs": [],
   "source": [
    "n_2 = np.zeros(22)\n",
    "n_2 += n_zeros\n",
    "n_2[2:-6] += 2. * n_zeros[8:]\n",
    "n_2[9] += 0.1\n",
    "n_2[10] += 0.2\n",
    "n_2[11] += 0.1\n",
    "#n_2[6:15] += 2. * (2. - np.linspace(0, 2, 9))\n",
    "n_2[6:15] += 1. * (1. - np.linspace(0, 1, 9))\n",
    "#n_2[6:11] += 2. * (2. - np.linspace(0, 2, 5))\n",
    "n_2 = n_2 / np.max(n_2)"
   ]
  },
  {
   "cell_type": "code",
   "execution_count": 33,
   "metadata": {},
   "outputs": [
    {
     "data": {
      "text/plain": [
       "[<matplotlib.lines.Line2D at 0x2aea9aad0278>]"
      ]
     },
     "execution_count": 33,
     "metadata": {},
     "output_type": "execute_result"
    },
    {
     "name": "stderr",
     "output_type": "stream",
     "text": [
      "/global/common/software/lsst/common/miniconda/py3-4.3.21-env/lib/python3.6/site-packages/matplotlib/font_manager.py:1297: UserWarning: findfont: Font family ['serif'] not found. Falling back to DejaVu Sans\n",
      "  (prop.get_family(), self.defaultFamily[fontext]))\n"
     ]
    },
    {
     "data": {
      "image/png": "[encoded data removed]",
      "text/plain": [
       "<matplotlib.figure.Figure at 0x2aea9ea7abe0>"
      ]
     },
     "metadata": {},
     "output_type": "display_data"
    }
   ],
   "source": [
    "plt.plot(bins, n_2[:-1])"
   ]
  },
  {
   "cell_type": "code",
   "execution_count": 34,
   "metadata": {},
   "outputs": [],
   "source": [
    "n_redshift = np.zeros(22)\n",
    "n_redshift[1:-1] = n_z\n",
    "n_redshift = n_redshift / np.max(n_redshift)\n",
    "n_redshift[:8] += 0.1\n",
    "n_redshift[-8:] = 1.0\n",
    "#n_redshift = n_reds"
   ]
  },
  {
   "cell_type": "code",
   "execution_count": 35,
   "metadata": {},
   "outputs": [
    {
     "data": {
      "text/plain": [
       "(0, 1.05)"
      ]
     },
     "execution_count": 35,
     "metadata": {},
     "output_type": "execute_result"
    },
    {
     "name": "stderr",
     "output_type": "stream",
     "text": [
      "/global/common/software/lsst/common/miniconda/py3-4.3.21-env/lib/python3.6/site-packages/matplotlib/font_manager.py:1297: UserWarning: findfont: Font family ['serif'] not found. Falling back to DejaVu Sans\n",
      "  (prop.get_family(), self.defaultFamily[fontext]))\n"
     ]
    },
    {
     "data": {
      "image/png": "[encoded data removed]",
      "text/plain": [
       "<matplotlib.figure.Figure at 0x2aea9aaaf438>"
      ]
     },
     "metadata": {},
     "output_type": "display_data"
    }
   ],
   "source": [
    "plt.plot(bins_z, n_redshift[:-1])\n",
    "plt.ylim(0, 1.05)"
   ]
  },
  {
   "cell_type": "code",
   "execution_count": 36,
   "metadata": {},
   "outputs": [
    {
     "name": "stdout",
     "output_type": "stream",
     "text": [
      "0 0\n",
      "5000 18\n",
      "10000 50\n",
      "15000 82\n",
      "20000 120\n",
      "25000 174\n",
      "30000 244\n",
      "35000 332\n",
      "40000 419\n",
      "45000 506\n",
      "50000 592\n",
      "55000 677\n",
      "60000 770\n",
      "65000 831\n",
      "70000 897\n",
      "CPU times: user 18min 17s, sys: 816 ms, total: 18min 17s\n",
      "Wall time: 18min 17s\n"
     ]
    }
   ],
   "source": [
    "%%time\n",
    "density_param = 1.0\n",
    "good_rows = []\n",
    "ra_list = []\n",
    "dec_list = []\n",
    "gal_ids = []\n",
    "catalog_row_num = []\n",
    "catalog_ids = []\n",
    "\n",
    "for row_idx in range(len(df_agn)):\n",
    "    \n",
    "    row = df_agn.iloc[row_idx]\n",
    "    \n",
    "    if row_idx % 5000 == 0:\n",
    "        print(row_idx, len(catalog_ids))\n",
    "\n",
    "    if row.galaxy_id > 0:\n",
    "        candidates = find_agn_lens_candidates(row.redshift, row.i_magnitude)\n",
    "        np.random.seed(np.int(row.galaxy_id) % 4294967296)\n",
    "        keep_idx = []\n",
    "        if len(candidates) > 0:\n",
    "            for candidate_idx, candidate_sys in list(enumerate(candidates['LENSID'])):\n",
    "                if candidate_sys not in catalog_ids:\n",
    "                    keep_idx.append(candidate_idx)\n",
    "            if len(keep_idx) == 0:\n",
    "                continue\n",
    "            else:\n",
    "                candidates = candidates[keep_idx]\n",
    "        pick_value = np.random.uniform()\n",
    "        \n",
    "        bin_num = np.digitize(row['i_magnitude'], bins)\n",
    "        binz_num = np.digitize(row['redshift'], bins_z)\n",
    "\n",
    "        #density_param_mag = n_zeros[bin_num] * density_param\n",
    "        density_param_mag = n_2[bin_num] * n_redshift[binz_num] * density_param\n",
    "        \n",
    "        if ((len(candidates) > 0) and (pick_value <= density_param_mag)):\n",
    "            good_rows.append(row_idx)\n",
    "            gal_ids.append(row.galaxy_id)\n",
    "            newlens = np.random.choice(candidates)\n",
    "            catalog_ids.append(newlens['LENSID'])\n",
    "            catalog_row_num.append(np.where(twinkles_lenses['LENSID'] == newlens['LENSID'])[0][0])\n",
    "            ra_list.append(row.raPhoSim)\n",
    "            dec_list.append(row.decPhoSim)\n",
    "            #print(len(catalog_ids))"
   ]
  },
  {
   "cell_type": "code",
   "execution_count": 37,
   "metadata": {},
   "outputs": [
    {
     "name": "stdout",
     "output_type": "stream",
     "text": [
      "985\n"
     ]
    }
   ],
   "source": [
    "print(len(catalog_ids))"
   ]
  },
  {
   "cell_type": "code",
   "execution_count": 224,
   "metadata": {},
   "outputs": [],
   "source": [
    "hdu_2 = fits.open('../../data/cosmoDC2_v1.0_matched_AGN_mag_weighted.fits')"
   ]
  },
  {
   "cell_type": "code",
   "execution_count": 38,
   "metadata": {},
   "outputs": [
    {
     "data": {
      "text/plain": [
       "(985, 985, 985, 985)"
      ]
     },
     "execution_count": 38,
     "metadata": {},
     "output_type": "execute_result"
    }
   ],
   "source": [
    "len(good_rows), len(np.unique(good_rows)), len(np.unique(catalog_ids)), len(np.unique(catalog_row_num))"
   ]
  },
  {
   "cell_type": "code",
   "execution_count": 43,
   "metadata": {},
   "outputs": [],
   "source": [
    "import matplotlib as mpl\n",
    "mpl.rcParams['text.usetex'] = False"
   ]
  },
  {
   "cell_type": "markdown",
   "metadata": {},
   "source": [
    "Check to see that our cached systems are distributed throughout the uDDF field."
   ]
  },
  {
   "cell_type": "code",
   "execution_count": 44,
   "metadata": {},
   "outputs": [
    {
     "data": {
      "text/plain": [
       "<matplotlib.text.Text at 0x2aea9a4cecf8>"
      ]
     },
     "execution_count": 44,
     "metadata": {},
     "output_type": "execute_result"
    },
    {
     "name": "stderr",
     "output_type": "stream",
     "text": [
      "/global/common/software/lsst/common/miniconda/py3-4.3.21-env/lib/python3.6/site-packages/matplotlib/font_manager.py:1297: UserWarning: findfont: Font family ['serif'] not found. Falling back to DejaVu Sans\n",
      "  (prop.get_family(), self.defaultFamily[fontext]))\n"
     ]
    },
    {
     "data": {
      "image/png": "[encoded data removed]",
      "text/plain": [
       "<matplotlib.figure.Figure at 0x2aea9a3cd128>"
      ]
     },
     "metadata": {},
     "output_type": "display_data"
    }
   ],
   "source": [
    "plt.scatter(ra_list, dec_list, s=6)\n",
    "plt.plot((52.486, 53.764), (-27.533, -27.533))\n",
    "plt.plot((52.479, 53.771), (-28.667, -28.667))\n",
    "plt.plot((52.479, 52.486), (-28.667, -27.533))\n",
    "plt.plot((53.771, 53.764), (-28.667, -27.533))\n",
    "plt.xlabel(r'ra')\n",
    "plt.ylabel(r'dec')\n",
    "plt.title('AGN Cache Locations')\n",
    "#plt.savefig('agn_cache.png')"
   ]
  },
  {
   "cell_type": "code",
   "execution_count": 45,
   "metadata": {},
   "outputs": [],
   "source": [
    "catalog_row_sort = np.argsort(catalog_row_num)\n",
    "catalog_row_num = np.array(catalog_row_num)"
   ]
  },
  {
   "cell_type": "code",
   "execution_count": 46,
   "metadata": {},
   "outputs": [],
   "source": [
    "# Add in Twinkles ID Number to catalog for matched objects\n",
    "col_list = []\n",
    "for col in twinkles_lenses.columns:\n",
    "        col_list.append(fits.Column(name=col.name, format=col.format, array=twinkles_lenses[col.name][catalog_row_num[catalog_row_sort]]))\n",
    "col_list.append(fits.Column(name='twinklesId', format='I', array=np.arange(len(good_rows))))"
   ]
  },
  {
   "cell_type": "markdown",
   "metadata": {},
   "source": [
    "Save this catalog of only the systems we need."
   ]
  },
  {
   "cell_type": "code",
   "execution_count": 47,
   "metadata": {},
   "outputs": [],
   "source": [
    "cols = fits.ColDefs(col_list)\n",
    "tbhdu = fits.BinTableHDU.from_columns(cols)\n",
    "tbhdu.writeto('../../data/cosmoDC2_v1.0_matched_AGN_redshift_mag_weighted.fits')"
   ]
  },
  {
   "cell_type": "code",
   "execution_count": 48,
   "metadata": {},
   "outputs": [
    {
     "data": {
      "text/plain": [
       "FITS_rec([ (125027, 0, 2,  0.13 ,  247.1724,  0.1890702, -145.5595 ,  0.1368733 ,  111.1937 ,  2.08,  0.2226522 ,  0.4874033 ,  22.71,  21.87704,  3.266804, [-0.5457,  0.3142,  0.    ,  0.    ], [-0.909 ,  2.2426,  0.    ,  0.    ], [-2.1537,  3.0505,  0.    ,  0.    ], [  29.453,    0.   ,    0.   ,    0.   ], [ 0.,  0.,  0.,  0.], [ 0.,  0.,  0.,  0.],  477.932434,   610.271912, -22.7412186,  16.3163967,  0.13      ,  1718.51,  1543.17 ,  0.,  16302.5 ,  0.,  1.73698866,  0., 'galaxySED/Inst.12E10.04Z.spec.',  16.41099794, 0),\n",
       "          (431864, 0, 2,  0.2  ,  205.1162,  0.2784123,  -39.1588 ,  0.05159786,   75.38537,  2.16,  0.1176923 , -0.06849588,  24.49,  22.90721,  1.882717, [ 0.8468, -0.8855,  0.    ,  0.    ], [-0.8346, -0.0972,  0.    ,  0.    ], [ 4.2965, -5.3298,  0.    ,  0.    ], [   0.   ,    8.204,    0.   ,    0.   ], [ 0.,  0.,  0.,  0.], [ 0.,  0.,  0.,  0.],  680.579895,   980.035156, -22.3044796,  17.8517303,  0.2       ,  1709.61,  1451.17 ,  0.,  17071.5 ,  0.,  1.4750948 ,  0., 'galaxySED/Exp.10E10.04Z.spec.g',  18.24029085, 1),\n",
       "          (630751, 0, 2,  0.228,  287.7398,  0.1047753,  156.5082 ,  0.07016704, -137.0641 ,  2.54,  0.02263871, -0.2636531 ,  24.51,  23.0421 ,  3.866974, [-0.3589, -0.8938,  0.    ,  0.    ], [ 1.6666, -2.1632,  0.    ,  0.    ], [-3.8651,  8.5347,  0.    ,  0.    ], [  33.235,    0.   ,    0.   ,    0.   ], [ 0.,  0.,  0.,  0.], [ 0.,  0.,  0.,  0.],  752.863586,  1135.3064  , -23.2133579,  17.2902069,  0.228     ,  1659.21,  1398.04 ,  0.,  20792.6 ,  0.,  3.06201005,  0., 'galaxySED/Inst.12E10.04Z.spec.',  17.45371802, 2),\n",
       "          (836416, 0, 2,  0.252,  242.1029,  0.3792704,  107.3563 ,  0.04905365, -131.8847 ,  2.46, -0.5154375 ,  1.134855  ,  21.79,  23.25006,  2.912501, [-0.8623,  0.1137,  0.    ,  0.    ], [ 2.5306, -0.2135,  0.    ,  0.    ], [ 1.7552, -0.2606,  0.    ,  0.    ], [   0.   ,  122.027,    0.   ,    0.   ], [ 0.,  0.,  0.,  0.], [ 0.,  0.,  0.,  0.],  811.226501,  1271.60071 , -22.7783585,  17.9953976,  0.252     ,  1670.61,  1377.07 ,  0.,  19999.9 ,  0.,  0.86049891,  0., 'galaxySED/Exp.80E09.1Z.spec.gz',  18.10843589, 3),\n",
       "          (893616, 0, 2,  0.258,  237.684 ,  0.2642204,  -95.13717,  0.1022537 ,   11.49713,  0.72, -0.4204412 , -0.08266283,  23.45,  23.25613,  2.067801, [-1.4526,  0.5565,  0.    ,  0.    ], [-0.4458,  0.0434,  0.    ,  0.    ], [ 2.8625, -1.1955,  0.    ,  0.    ], [   0.   ,   42.66 ,    0.   ,    0.   ], [ 0.,  0.,  0.,  0.], [ 0.,  0.,  0.,  0.],  825.314453,  1306.11304 , -22.734539 ,  18.1033649,  0.25799999,  1490.32,   886.691,  0.,   4408.96,  0.,  3.27706814,  0., 'galaxySED/Exp.80E09.1Z.spec.gz',  17.54048831, 4)],\n",
       "         dtype=(numpy.record, [('LENSID', '<i4'), ('FLAGTYPE', '<i2'), ('NIMG', '<i2'), ('ZLENS', '<f8'), ('VELDISP', '<f8'), ('ELLIP', '<f8'), ('PHIE', '<f8'), ('GAMMA', '<f8'), ('PHIG', '<f8'), ('ZSRC', '<f8'), ('XSRC', '<f8'), ('YSRC', '<f8'), ('MAGI_IN', '<f8'), ('MAGI', '<f8'), ('IMSEP', '<f8'), ('XIMG', '<f8', (4,)), ('YIMG', '<f8', (4,)), ('MAG', '<f8', (4,)), ('DELAY', '<f8', (4,)), ('KAPPA', '<f8', (4,)), ('FSTAR', '<f8', (4,)), ('DD', '<f8'), ('DDLUM', '<f8'), ('ABMAG_I', '<f8'), ('APMAG_I', '<f8'), ('KCORR', '<f8'), ('DS', '<f8'), ('DDS', '<f8'), ('SIGCRIT', '<f8'), ('DSLUM', '<f8'), ('L_I', '<f8'), ('REFF', '<f8'), ('REFF_T', '<f8'), ('lens_sed', 'S30'), ('sed_magNorm', '<f8'), ('twinklesId', '<i2')]))"
      ]
     },
     "execution_count": 48,
     "metadata": {},
     "output_type": "execute_result"
    }
   ],
   "source": [
    "tbhdu.data[:5]"
   ]
  },
  {
   "cell_type": "markdown",
   "metadata": {},
   "source": [
    "Save the cached `galaxy_id` info to file"
   ]
  },
  {
   "cell_type": "code",
   "execution_count": 29,
   "metadata": {},
   "outputs": [],
   "source": [
    "agn_cache = pd.DataFrame(np.array([np.array(gal_ids)[catalog_row_sort], np.arange(len(good_rows))], dtype=np.int).T,\n",
    "                         columns=['galtileid', 'twinkles_system'])"
   ]
  },
  {
   "cell_type": "code",
   "execution_count": 30,
   "metadata": {},
   "outputs": [
    {
     "data": {
      "text/html": [
       "<div>\n",
       "<style>\n",
       "    .dataframe thead tr:only-child th {\n",
       "        text-align: right;\n",
       "    }\n",
       "\n",
       "    .dataframe thead th {\n",
       "        text-align: left;\n",
       "    }\n",
       "\n",
       "    .dataframe tbody tr th {\n",
       "        vertical-align: top;\n",
       "    }\n",
       "</style>\n",
       "<table border=\"1\" class=\"dataframe\">\n",
       "  <thead>\n",
       "    <tr style=\"text-align: right;\">\n",
       "      <th></th>\n",
       "      <th>galtileid</th>\n",
       "      <th>twinkles_system</th>\n",
       "    </tr>\n",
       "  </thead>\n",
       "  <tbody>\n",
       "    <tr>\n",
       "      <th>0</th>\n",
       "      <td>1028678380</td>\n",
       "      <td>0</td>\n",
       "    </tr>\n",
       "    <tr>\n",
       "      <th>1</th>\n",
       "      <td>1113068765</td>\n",
       "      <td>1</td>\n",
       "    </tr>\n",
       "    <tr>\n",
       "      <th>2</th>\n",
       "      <td>1228448378</td>\n",
       "      <td>2</td>\n",
       "    </tr>\n",
       "    <tr>\n",
       "      <th>3</th>\n",
       "      <td>1303476147</td>\n",
       "      <td>3</td>\n",
       "    </tr>\n",
       "    <tr>\n",
       "      <th>4</th>\n",
       "      <td>1048007228</td>\n",
       "      <td>4</td>\n",
       "    </tr>\n",
       "  </tbody>\n",
       "</table>\n",
       "</div>"
      ],
      "text/plain": [
       "    galtileid  twinkles_system\n",
       "0  1028678380                0\n",
       "1  1113068765                1\n",
       "2  1228448378                2\n",
       "3  1303476147                3\n",
       "4  1048007228                4"
      ]
     },
     "execution_count": 30,
     "metadata": {},
     "output_type": "execute_result"
    }
   ],
   "source": [
    "agn_cache.head()"
   ]
  },
  {
   "cell_type": "code",
   "execution_count": 31,
   "metadata": {},
   "outputs": [
    {
     "data": {
      "text/html": [
       "<div>\n",
       "<style>\n",
       "    .dataframe thead tr:only-child th {\n",
       "        text-align: right;\n",
       "    }\n",
       "\n",
       "    .dataframe thead th {\n",
       "        text-align: left;\n",
       "    }\n",
       "\n",
       "    .dataframe tbody tr th {\n",
       "        vertical-align: top;\n",
       "    }\n",
       "</style>\n",
       "<table border=\"1\" class=\"dataframe\">\n",
       "  <thead>\n",
       "    <tr style=\"text-align: right;\">\n",
       "      <th></th>\n",
       "      <th>galtileid</th>\n",
       "      <th>twinkles_system</th>\n",
       "    </tr>\n",
       "  </thead>\n",
       "  <tbody>\n",
       "    <tr>\n",
       "      <th>1036</th>\n",
       "      <td>1079462499</td>\n",
       "      <td>1036</td>\n",
       "    </tr>\n",
       "    <tr>\n",
       "      <th>1037</th>\n",
       "      <td>1218556515</td>\n",
       "      <td>1037</td>\n",
       "    </tr>\n",
       "    <tr>\n",
       "      <th>1038</th>\n",
       "      <td>1105952313</td>\n",
       "      <td>1038</td>\n",
       "    </tr>\n",
       "    <tr>\n",
       "      <th>1039</th>\n",
       "      <td>1319006173</td>\n",
       "      <td>1039</td>\n",
       "    </tr>\n",
       "    <tr>\n",
       "      <th>1040</th>\n",
       "      <td>1318934270</td>\n",
       "      <td>1040</td>\n",
       "    </tr>\n",
       "  </tbody>\n",
       "</table>\n",
       "</div>"
      ],
      "text/plain": [
       "       galtileid  twinkles_system\n",
       "1036  1079462499             1036\n",
       "1037  1218556515             1037\n",
       "1038  1105952313             1038\n",
       "1039  1319006173             1039\n",
       "1040  1318934270             1040"
      ]
     },
     "execution_count": 31,
     "metadata": {},
     "output_type": "execute_result"
    }
   ],
   "source": [
    "agn_cache.tail()"
   ]
  },
  {
   "cell_type": "code",
   "execution_count": 32,
   "metadata": {},
   "outputs": [
    {
     "name": "stdout",
     "output_type": "stream",
     "text": [
      "[ True]\n"
     ]
    }
   ],
   "source": [
    "#Check that galaxy_ids and twinkles_ids in FITS match up after sort\n",
    "g_id = np.where(np.array(gal_ids) == agn_cache['galtileid'].values[0])\n",
    "print(np.array(catalog_ids)[g_id] == tbhdu.data['LENSID'][0])"
   ]
  },
  {
   "cell_type": "code",
   "execution_count": 33,
   "metadata": {},
   "outputs": [],
   "source": [
    "agn_cache.to_csv('cosmoDC2_v1.0_agn_cache.csv', index=False)"
   ]
  },
  {
   "cell_type": "markdown",
   "metadata": {},
   "source": [
    "### Match to GLSNe catalog\n",
    "\n",
    "Here we do the same as we did for the AGN and OM10 catalog except with a bulge+disk galaxy catalog and the host galaxy information from the Gravitationally Lensed SNe catalog.\n",
    "\n",
    "We begin by loading the hdf5 tables for the lensed SNe catalog into dataframes."
   ]
  },
  {
   "cell_type": "code",
   "execution_count": 8,
   "metadata": {},
   "outputs": [],
   "source": [
    "sne_systems = pd.read_hdf('/global/cscratch1/sd/brycek/glsne_dc2_v2_with_seds.h5', key='system')\n",
    "sne_images = pd.read_hdf('/global/cscratch1/sd/brycek/glsne_dc2_v2_with_seds.h5', key='image')"
   ]
  },
  {
   "cell_type": "code",
   "execution_count": 213,
   "metadata": {},
   "outputs": [],
   "source": [
    "use_gals_df = df_galaxy.query('raPhoSim > 52.495 and raPhoSim < 53.755 and decPhoSim > -28.65 and decPhoSim < -27.55')"
   ]
  },
  {
   "cell_type": "code",
   "execution_count": 214,
   "metadata": {},
   "outputs": [
    {
     "data": {
      "text/plain": [
       "4324372"
      ]
     },
     "execution_count": 214,
     "metadata": {},
     "output_type": "execute_result"
    }
   ],
   "source": [
    "len(use_gals_df)"
   ]
  },
  {
   "cell_type": "code",
   "execution_count": 215,
   "metadata": {},
   "outputs": [],
   "source": [
    "use_gals_df = use_gals_df.merge(df_disk, on='galaxy_id', suffixes=('_bulge', '_disk'))"
   ]
  },
  {
   "cell_type": "markdown",
   "metadata": {},
   "source": [
    "Following from Table 3 in Mannucci et al. 2005 (https://www.aanda.org/articles/aa/pdf/2005/15/aa1411.pdf) we are going to use galaxy colors\n",
    "to scale the sn rate by color as a proxy for galaxy type, but we end up changing it from that a bit to give us good sample sizes of all types in the DDF region."
   ]
  },
  {
   "cell_type": "code",
   "execution_count": 11,
   "metadata": {},
   "outputs": [],
   "source": [
    "from lsst.utils import getPackageDir"
   ]
  },
  {
   "cell_type": "code",
   "execution_count": 14,
   "metadata": {},
   "outputs": [],
   "source": [
    "sims_sed_list = os.listdir(os.path.join(getPackageDir('SIMS_SED_LIBRARY'),\n",
    "                                        'galaxySED'))"
   ]
  },
  {
   "cell_type": "code",
   "execution_count": 18,
   "metadata": {},
   "outputs": [],
   "source": [
    "sims_sed_dict = {}\n",
    "for sed_name in sims_sed_list:\n",
    "    sed_obj = Sed()\n",
    "    sed_obj.readSED_flambda(os.path.join(getPackageDir('SIMS_SED_LIBRARY'),\n",
    "                                         'galaxySED', sed_name))\n",
    "    sims_sed_dict[os.path.join('galaxySED', sed_name)] = sed_obj"
   ]
  },
  {
   "cell_type": "code",
   "execution_count": 27,
   "metadata": {},
   "outputs": [],
   "source": [
    "# Filters from http://svo2.cab.inta-csic.es/svo/theory/fps3/index.php\n",
    "bp_B = Bandpass(wavelen_max = 2700.)\n",
    "bp_B.setBandpass(wavelen=np.array([360., 380., 400., 420., 460., 480.,\n",
    "                                   500., 520., 540., 560.]),\n",
    "                 sb=np.array([0.00, 0.11, 0.92, 0.94, 0.79, 0.58,\n",
    "                              0.36, 0.15, 0.04, 0.0]))\n",
    "bp_K = Bandpass(wavelen_max = 2700.)\n",
    "bp_K.setBandpass(wavelen=np.linspace(1800., 2600., 17),\n",
    "                 sb=np.array([0.00, 0.10, 0.48, 0.95, 1.00, 0.98,\n",
    "                              0.96, 0.95, 0.97, 0.96, 0.94, 0.95,\n",
    "                              0.95, 0.84, 0.46, 0.08, 0.00]))\n",
    "bp_dict = BandpassDict(bandpassNameList=['B', 'K'], bandpassList=[bp_B, bp_K])"
   ]
  },
  {
   "cell_type": "code",
   "execution_count": 217,
   "metadata": {},
   "outputs": [
    {
     "name": "stdout",
     "output_type": "stream",
     "text": [
      "0\n",
      "100000\n",
      "200000\n",
      "300000\n",
      "400000\n",
      "500000\n",
      "600000\n",
      "700000\n",
      "800000\n",
      "900000\n",
      "1000000\n",
      "1100000\n",
      "1200000\n",
      "1300000\n",
      "1400000\n",
      "1500000\n",
      "1600000\n",
      "1700000\n",
      "1800000\n",
      "1900000\n",
      "2000000\n",
      "2100000\n",
      "2200000\n",
      "2300000\n",
      "2400000\n",
      "2500000\n",
      "2600000\n",
      "2700000\n",
      "2800000\n",
      "2900000\n",
      "3000000\n",
      "3100000\n",
      "3200000\n",
      "3300000\n",
      "3400000\n",
      "3500000\n",
      "3600000\n",
      "3700000\n",
      "3800000\n",
      "3900000\n",
      "4000000\n",
      "4100000\n",
      "4200000\n",
      "4300000\n"
     ]
    }
   ],
   "source": [
    "from lsst.sims.photUtils import getImsimFluxNorm\n",
    "from copy import deepcopy\n",
    "bk_color = []\n",
    "i = 0\n",
    "for sed_name_bulge, redshift, magNorm_bulge, sed_name_disk, magNorm_disk in zip(use_gals_df['sedFilepath_bulge'].values,\n",
    "                                                                                use_gals_df['redshift_bulge'].values,\n",
    "                                                                                use_gals_df['phosimMagNorm_bulge'].values,\n",
    "                                                                                use_gals_df['sedFilepath_disk'].values,\n",
    "                                                                                use_gals_df['phosimMagNorm_disk'].values):\n",
    "    if i % 100000 == 0:\n",
    "        print(i)\n",
    "    sed_obj_bulge = deepcopy(sims_sed_dict[sed_name_bulge])\n",
    "    f_norm_b = getImsimFluxNorm(sed_obj_bulge, magNorm_bulge)\n",
    "    sed_obj_bulge.multiplyFluxNorm(f_norm_b)\n",
    "    sed_obj_bulge.redshiftSED(redshift)\n",
    "    \n",
    "    sed_obj_disk = deepcopy(sims_sed_dict[sed_name_disk])\n",
    "    f_norm_d = getImsimFluxNorm(sed_obj_disk, magNorm_disk)\n",
    "    sed_obj_disk.multiplyFluxNorm(f_norm_d)\n",
    "    sed_obj_disk.redshiftSED(redshift)\n",
    "    \n",
    "    sed_obj = Sed()\n",
    "    sed_obj.setSED(wavelen=sed_obj_bulge.wavelen, flambda=sed_obj_bulge.flambda+sed_obj_disk.flambda)\n",
    "    \n",
    "    \n",
    "    b_val, k_val = bp_dict.magListForSed(sed_obj)\n",
    "    bk_color.append(b_val - k_val)\n",
    "    i+=1"
   ]
  },
  {
   "cell_type": "code",
   "execution_count": 218,
   "metadata": {},
   "outputs": [],
   "source": [
    "bk_color = np.array(bk_color)"
   ]
  },
  {
   "cell_type": "code",
   "execution_count": 219,
   "metadata": {},
   "outputs": [],
   "source": [
    "# Save so if kernel resets we don't have to do it again.\n",
    "np.savetxt('bk_color.dat', bk_color)"
   ]
  },
  {
   "cell_type": "code",
   "execution_count": 220,
   "metadata": {},
   "outputs": [],
   "source": [
    "use_gals_df['bk_color'] = bk_color"
   ]
  },
  {
   "cell_type": "code",
   "execution_count": 221,
   "metadata": {},
   "outputs": [],
   "source": [
    "use_gals_df = use_gals_df.reset_index(drop=True)"
   ]
  },
  {
   "cell_type": "markdown",
   "metadata": {},
   "source": [
    "As we did before we match based upon a property in each catalog. Here we use the source redshift of the SNe in the lens catalog and the redshift of the potential host galaxies in the uDDF field. Since we have so many potential host galaxies we tighten up the redshift bounds to 0.01 in dex. We also use the galaxy type from the colors to associate to proper types of host galaxies in the lensed SNe catalog."
   ]
  },
  {
   "cell_type": "code",
   "execution_count": 225,
   "metadata": {},
   "outputs": [],
   "source": [
    "def find_sne_lens_candidates(galz, gal_type):#, gal_mag):\n",
    "    # search the galaxy catalog for all possible host galaxies +- 0.05 dex in redshift\n",
    "\n",
    "    lens_candidates = sne_systems.query(str('zs < {}'.format(np.power(10, np.log10(galz)+0.01)) + ' and ' +\n",
    "                                            'zs > {}'.format(np.power(10, np.log10(galz)-0.01))))\n",
    "        \n",
    "    if gal_type == 't1':\n",
    "        lens_candidates = lens_candidates.query('host_type == \"kinney-starburst\"')\n",
    "    elif gal_type == 't4':\n",
    "        lens_candidates = lens_candidates.query('host_type == \"kinney-elliptical\"')\n",
    "    else:\n",
    "        lens_candidates = lens_candidates.query('host_type == \"kinney-sc\"')\n",
    "\n",
    "    return lens_candidates"
   ]
  },
  {
   "cell_type": "code",
   "execution_count": 320,
   "metadata": {},
   "outputs": [
    {
     "name": "stdout",
     "output_type": "stream",
     "text": [
      "271 0\n",
      "81103 50\n",
      "180222 100\n",
      "296965 150\n",
      "405287 200\n",
      "503453 250\n",
      "606671 300\n",
      "710585 350\n",
      "822453 400\n",
      "942899 450\n",
      "1058365 500\n",
      "1153459 550\n",
      "1225654 600\n",
      "1311951 650\n",
      "1404239 700\n",
      "1493878 750\n",
      "1595286 800\n",
      "1691695 850\n",
      "1808264 900\n",
      "1927038 950\n"
     ]
    }
   ],
   "source": [
    "#%%time\n",
    "density_param = .0003\n",
    "good_rows_sn = []\n",
    "gal_ids_sn = []\n",
    "sys_ids_sn = []\n",
    "used_systems = []\n",
    "ra_list_sn = []\n",
    "dec_list_sn = []\n",
    "type_sn = []\n",
    "redshift_sn = []\n",
    "\n",
    "rd_state = np.random.RandomState(47)\n",
    "\n",
    "for row_idx in range(len(use_gals_df)):\n",
    "    \n",
    "    density_test = rd_state.uniform()\n",
    "    \n",
    "    gal_bk = use_gals_df['bk_color'].iloc[row_idx]\n",
    "    \n",
    "    if gal_bk < 2.6:\n",
    "        type_density_param = 1.2*density_param\n",
    "        gal_type = 't1'\n",
    "    elif ((2.6 <= gal_bk) and (gal_bk < 3.3)):\n",
    "        type_density_param = 3.*density_param\n",
    "        gal_type = 't2'\n",
    "    elif ((3.3 <= gal_bk) and (gal_bk < 4.1)):\n",
    "        type_density_param = 2.*density_param\n",
    "        gal_type = 't3'\n",
    "    else:\n",
    "        type_density_param = 3.*density_param\n",
    "        gal_type = 't4'\n",
    "    \n",
    "    if density_test > type_density_param:\n",
    "        continue\n",
    "    \n",
    "    row = use_gals_df.iloc[row_idx]\n",
    "    \n",
    "    gal_id = use_gals_df['galaxy_id'].iloc\n",
    "    if gal_id in df_agn['galaxy_id'].values:\n",
    "        continue\n",
    "    \n",
    "    if len(good_rows_sn) % 50 == 0:\n",
    "        print(row_idx, len(good_rows_sn))\n",
    "\n",
    "    if row.galaxy_id > 0:\n",
    "        #print(gal_type)\n",
    "        candidates = find_sne_lens_candidates(row.redshift_bulge, gal_type)\n",
    "        #print(len(candidates))\n",
    "        np.random.seed(np.int(row.galaxy_id) % 4294967296)\n",
    "        keep_idx = []\n",
    "        for candidate_idx in range(len(candidates)):\n",
    "            if candidates.index[candidate_idx] in used_systems:\n",
    "                continue\n",
    "            else:\n",
    "                keep_idx.append(candidate_idx)\n",
    "        candidates = candidates.iloc[keep_idx]\n",
    "\n",
    "        if len(candidates) > 0:\n",
    "            choice = np.random.choice(np.arange(len(candidates)), p=candidates['weight']/np.sum(candidates['weight']))\n",
    "            used_systems.append(candidates.index[choice])\n",
    "            newlens = candidates.iloc[choice]\n",
    "            #print(len(catalog_ids))\n",
    "            sys_ids_sn.append(newlens.sysno)\n",
    "            gal_ids_sn.append(row.galaxy_id)\n",
    "            ra_list_sn.append(row.raPhoSim_bulge)\n",
    "            dec_list_sn.append(row.decPhoSim_bulge)\n",
    "            good_rows_sn.append(row_idx)\n",
    "            type_sn.append(gal_type)\n",
    "            redshift_sn.append(row.redshift_bulge)"
   ]
  },
  {
   "cell_type": "code",
   "execution_count": 321,
   "metadata": {},
   "outputs": [
    {
     "data": {
      "text/plain": [
       "(978, 978)"
      ]
     },
     "execution_count": 321,
     "metadata": {},
     "output_type": "execute_result"
    }
   ],
   "source": [
    "len(good_rows_sn), len(ra_list_sn)"
   ]
  },
  {
   "cell_type": "code",
   "execution_count": 322,
   "metadata": {},
   "outputs": [
    {
     "name": "stdout",
     "output_type": "stream",
     "text": [
      "480\n",
      "143\n",
      "115\n",
      "240\n"
     ]
    }
   ],
   "source": [
    "print(len(np.where(np.array(type_sn) == \"t1\")[0]))\n",
    "print(len(np.where(np.array(type_sn) == \"t2\")[0]))\n",
    "print(len(np.where(np.array(type_sn) == \"t3\")[0]))\n",
    "print(len(np.where(np.array(type_sn) == \"t4\")[0]))"
   ]
  },
  {
   "cell_type": "markdown",
   "metadata": {},
   "source": [
    "Once again check to see that we are spread throught uDDF region."
   ]
  },
  {
   "cell_type": "code",
   "execution_count": 323,
   "metadata": {},
   "outputs": [
    {
     "data": {
      "text/plain": [
       "<matplotlib.text.Text at 0x2b5c01306198>"
      ]
     },
     "execution_count": 323,
     "metadata": {},
     "output_type": "execute_result"
    },
    {
     "name": "stderr",
     "output_type": "stream",
     "text": [
      "/global/common/software/lsst/common/miniconda/py3-4.3.21-env/lib/python3.6/site-packages/matplotlib/font_manager.py:1297: UserWarning: findfont: Font family ['serif'] not found. Falling back to DejaVu Sans\n",
      "  (prop.get_family(), self.defaultFamily[fontext]))\n"
     ]
    },
    {
     "data": {
      "image/png": "[encoded data removed]",
      "text/plain": [
       "<matplotlib.figure.Figure at 0x2b5c16234da0>"
      ]
     },
     "metadata": {},
     "output_type": "display_data"
    }
   ],
   "source": [
    "plt.scatter(ra_list_sn, dec_list_sn, s=6)\n",
    "plt.plot((52.486, 53.764), (-27.533, -27.533))\n",
    "plt.plot((52.479, 53.771), (-28.667, -28.667))\n",
    "plt.plot((52.479, 52.486), (-28.667, -27.533))\n",
    "plt.plot((53.771, 53.764), (-28.667, -27.533))\n",
    "plt.xlabel('ra')\n",
    "plt.ylabel('dec')\n",
    "plt.title('SN Cache Locations')\n",
    "#plt.savefig('sne_cache.png')"
   ]
  },
  {
   "cell_type": "markdown",
   "metadata": {},
   "source": [
    "Now we need to join the information in the systems and image dataframes and then save only the ones we are using to file."
   ]
  },
  {
   "cell_type": "code",
   "execution_count": 328,
   "metadata": {},
   "outputs": [],
   "source": [
    "keep_systems = sne_systems.iloc[used_systems]"
   ]
  },
  {
   "cell_type": "code",
   "execution_count": 329,
   "metadata": {},
   "outputs": [
    {
     "name": "stderr",
     "output_type": "stream",
     "text": [
      "/global/common/software/lsst/common/miniconda/py3-4.3.21-env/lib/python3.6/site-packages/ipykernel/__main__.py:1: SettingWithCopyWarning: \n",
      "A value is trying to be set on a copy of a slice from a DataFrame.\n",
      "Try using .loc[row_indexer,col_indexer] = value instead\n",
      "\n",
      "See the caveats in the documentation: http://pandas.pydata.org/pandas-docs/stable/indexing.html#indexing-view-versus-copy\n",
      "  if __name__ == '__main__':\n"
     ]
    }
   ],
   "source": [
    "keep_systems['twinkles_sysno'] = np.arange(len(keep_systems)) + 1100"
   ]
  },
  {
   "cell_type": "code",
   "execution_count": 330,
   "metadata": {},
   "outputs": [],
   "source": [
    "keep_catalog = keep_systems.merge(sne_images, on='sysno')"
   ]
  },
  {
   "cell_type": "code",
   "execution_count": 333,
   "metadata": {},
   "outputs": [],
   "source": [
    "t_start = keep_catalog['t0'] + keep_catalog['td']"
   ]
  },
  {
   "cell_type": "code",
   "execution_count": 334,
   "metadata": {},
   "outputs": [],
   "source": [
    "keep_catalog['t_start'] = t_start"
   ]
  },
  {
   "cell_type": "code",
   "execution_count": 338,
   "metadata": {},
   "outputs": [],
   "source": [
    "keep_catalog.to_csv('cosmoDC2_v1.0_sne_cat.csv', index=False)"
   ]
  },
  {
   "cell_type": "markdown",
   "metadata": {},
   "source": [
    "Save the cache of `galaxy_ids` and associated `twinklesId` values to file."
   ]
  },
  {
   "cell_type": "code",
   "execution_count": 336,
   "metadata": {},
   "outputs": [],
   "source": [
    "sne_cache = pd.DataFrame(np.array([gal_ids_sn, np.arange(len(keep_systems)) + 1100], dtype=np.int).T, columns=['galtileid', 'twinkles_system'])"
   ]
  },
  {
   "cell_type": "code",
   "execution_count": 339,
   "metadata": {},
   "outputs": [],
   "source": [
    "sne_cache.to_csv('cosmoDC2_v1.0_sne_cache.csv', index=False)"
   ]
  },
  {
   "cell_type": "markdown",
   "metadata": {},
   "source": [
    "### Check that `galaxy_ids` will not clash when the sprinkler modifies them\n",
    "\n",
    "We need to make sure that we can adjust the `galaxy_id` values of the sprinkler galaxies so that we can record information in the id values, but we need to make sure the new id values don't clash with `cosmoDC2` id values. We check that below."
   ]
  },
  {
   "cell_type": "code",
   "execution_count": 261,
   "metadata": {},
   "outputs": [],
   "source": [
    "import GCRCatalogs\n",
    "import pandas as pd\n",
    "from GCR import GCRQuery"
   ]
  },
  {
   "cell_type": "code",
   "execution_count": 262,
   "metadata": {},
   "outputs": [],
   "source": [
    "catalog = GCRCatalogs.load_catalog('cosmoDC2_v1.0_image')"
   ]
  },
  {
   "cell_type": "code",
   "execution_count": 265,
   "metadata": {},
   "outputs": [],
   "source": [
    "cosmo_ids = catalog.get_quantities(['galaxy_id'])"
   ]
  },
  {
   "cell_type": "code",
   "execution_count": 286,
   "metadata": {},
   "outputs": [],
   "source": [
    "smallest_id = np.min(cosmo_ids['galaxy_id'])\n",
    "largest_id = np.max(cosmo_ids['galaxy_id'])"
   ]
  },
  {
   "cell_type": "code",
   "execution_count": 287,
   "metadata": {},
   "outputs": [
    {
     "name": "stdout",
     "output_type": "stream",
     "text": [
      "14345538432 1000000000\n"
     ]
    }
   ],
   "source": [
    "print(largest_id, smallest_id)"
   ]
  },
  {
   "cell_type": "markdown",
   "metadata": {},
   "source": [
    "The highest `galaxy_id` in `cosmoDC2_v1.0_image` is ~1.44e10. Therefore, if we add 1.5e10 to all `galaxy_id` values that are sprinkled then we will be above this. After that we multiply by 10000 to get room to add in the twinkles system numbers in the last 4 digits. If these numbers are less that 2^63 then we will be ok when generating instance catalogs."
   ]
  },
  {
   "cell_type": "code",
   "execution_count": 298,
   "metadata": {},
   "outputs": [],
   "source": [
    "offset = np.int(1.5e10)"
   ]
  },
  {
   "cell_type": "code",
   "execution_count": 304,
   "metadata": {},
   "outputs": [
    {
     "data": {
      "text/plain": [
       "8.9228737233110958e+18"
      ]
     },
     "execution_count": 304,
     "metadata": {},
     "output_type": "execute_result"
    }
   ],
   "source": [
    "(2**63) - np.left_shift((largest_id + offset)*10000, 10)"
   ]
  },
  {
   "cell_type": "markdown",
   "metadata": {},
   "source": [
    "We are under the 2^63 limit. So, we can use this scheme to make sure there are no id clashes and add in the twinkles information as before."
   ]
  },
  {
   "cell_type": "code",
   "execution_count": null,
   "metadata": {},
   "outputs": [],
   "source": []
  }
 ],
 "metadata": {
  "kernelspec": {
   "display_name": "lsst",
   "language": "python",
   "name": "lsst"
  },
  "language_info": {
   "codemirror_mode": {
    "name": "ipython",
    "version": 3
   },
   "file_extension": ".py",
   "mimetype": "text/x-python",
   "name": "python",
   "nbconvert_exporter": "python",
   "pygments_lexer": "ipython3",
   "version": "3.6.2"
  }
 },
 "nbformat": 4,
 "nbformat_minor": 2
}
