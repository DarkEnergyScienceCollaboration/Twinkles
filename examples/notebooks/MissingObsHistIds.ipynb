{
 "cells": [
  {
   "cell_type": "code",
   "execution_count": 1,
   "metadata": {
    "collapsed": true
   },
   "outputs": [],
   "source": [
    "import os\n",
    "import numpy as np"
   ]
  },
  {
   "cell_type": "code",
   "execution_count": 2,
   "metadata": {
    "collapsed": true
   },
   "outputs": [],
   "source": [
    "from lsst.utils import getPackageDir"
   ]
  },
  {
   "cell_type": "code",
   "execution_count": 3,
   "metadata": {
    "collapsed": false
   },
   "outputs": [],
   "source": [
    "twinklesDir = getPackageDir('twinkles')\n",
    "runMetaDataFile = os.path.join(twinklesDir, 'data/run1_metadata_v6.csv')\n",
    "#InputVisitsFile = os.path.join(twinklesDir, 'data/SelectedKrakenVisits.csv')"
   ]
  },
  {
   "cell_type": "code",
   "execution_count": 4,
   "metadata": {
    "collapsed": true
   },
   "outputs": [],
   "source": [
    "import pandas as pd"
   ]
  },
  {
   "cell_type": "code",
   "execution_count": 5,
   "metadata": {
    "collapsed": false
   },
   "outputs": [
    {
     "data": {
      "text/plain": [
       "'/Users/rbiswas/doc/projects/DESC/Twinkles/data/run1_metadata_v6.csv'"
      ]
     },
     "execution_count": 5,
     "metadata": {},
     "output_type": "execute_result"
    }
   ],
   "source": [
    "runMetaDataFile"
   ]
  },
  {
   "cell_type": "code",
   "execution_count": 6,
   "metadata": {
    "collapsed": false
   },
   "outputs": [
    {
     "name": "stderr",
     "output_type": "stream",
     "text": [
      "/Users/rbiswas/src/LSST/sims_catalogs_generation/python/lsst/sims/catalogs/generation/db/dbConnection.py:438: UserWarning: Duplicate object type id 25 specified: \n",
      "Output object ids may not be unique.\n",
      "This may not be a problem if you do not want globally unique id values\n",
      "  'want globally unique id values')\n",
      "/Users/rbiswas/src/LSST/sims_catalogs_generation/python/lsst/sims/catalogs/generation/db/dbConnection.py:438: UserWarning: Duplicate object type id 40 specified: \n",
      "Output object ids may not be unique.\n",
      "This may not be a problem if you do not want globally unique id values\n",
      "  'want globally unique id values')\n"
     ]
    }
   ],
   "source": [
    "from desc.monitor.dbConnection import dbInterface"
   ]
  },
  {
   "cell_type": "code",
   "execution_count": 7,
   "metadata": {
    "collapsed": false
   },
   "outputs": [],
   "source": [
    "dbConn = dbInterface(database='DESC_Twinkles_Level_2',\n",
    "                     host='127.0.0.1', port='3307',\n",
    "                     driver='mysql')"
   ]
  },
  {
   "cell_type": "code",
   "execution_count": 8,
   "metadata": {
    "collapsed": false
   },
   "outputs": [
    {
     "name": "stdout",
     "output_type": "stream",
     "text": [
      "['CcdVisit', 'ForcedSource', 'Object']\n"
     ]
    }
   ],
   "source": [
    "# Find the tables on the database\n",
    "tables = dbConn._dbo.get_table_names()\n",
    "print(tables)"
   ]
  },
  {
   "cell_type": "code",
   "execution_count": 9,
   "metadata": {
    "collapsed": false
   },
   "outputs": [],
   "source": [
    "# Find the columns in the table CcdVisit\n",
    "colNames = dbConn._dbo.get_column_names('CcdVisit')\n",
    "#print(colNames)"
   ]
  },
  {
   "cell_type": "code",
   "execution_count": 10,
   "metadata": {
    "collapsed": false
   },
   "outputs": [],
   "source": [
    "obsHistIDsSuccess = set(dbConn._dbo.execute_arbitrary('SELECT visitId from CcdVisit')['visitId'])\n",
    "# print(obsHistIDsSuccess)"
   ]
  },
  {
   "cell_type": "code",
   "execution_count": 11,
   "metadata": {
    "collapsed": true
   },
   "outputs": [],
   "source": [
    "# From https://github.com/DarkEnergyScienceCollaboration/Twinkles/issues/229 provided by @tony-johnson\n",
    "DMFailures = set([681808, 1417225, 1957025, 2166623])"
   ]
  },
  {
   "cell_type": "code",
   "execution_count": 12,
   "metadata": {
    "collapsed": false
   },
   "outputs": [],
   "source": [
    "# PhoSim Failures (See Run1CPUTimes.ipynb notebook for detail. This is part of @sethdigel 's investigation)\n",
    "run1meta = pd.read_csv(runMetaDataFile,index_col=0,usecols=[\"obshistid\",\"expmjd\",\"filter\",\"rotskypos\",\"altitude\",\\\n",
    "                                                \"rawseeing\",\"airmass\",\"sunalt\",\"moonalt\",\"moonphase\",\"dist2moon\",\"cputime\",\\\n",
    "                                                \"runlimit\", \"hostname\"])\n",
    "phoSimFailedObsHistIDs = set(run1meta.query('runlimit==1').index.values) "
   ]
  },
  {
   "cell_type": "markdown",
   "metadata": {},
   "source": [
    "## Sanity Checks "
   ]
  },
  {
   "cell_type": "code",
   "execution_count": 13,
   "metadata": {
    "collapsed": false
   },
   "outputs": [
    {
     "name": "stdout",
     "output_type": "stream",
     "text": [
      "Total number of Observations = 1227\n"
     ]
    }
   ],
   "source": [
    "print('Total number of Observations = {}'.format(len(run1meta)))"
   ]
  },
  {
   "cell_type": "code",
   "execution_count": 14,
   "metadata": {
    "collapsed": true
   },
   "outputs": [],
   "source": [
    "InputVisits = set(run1meta.index.values)"
   ]
  },
  {
   "cell_type": "code",
   "execution_count": 15,
   "metadata": {
    "collapsed": false
   },
   "outputs": [],
   "source": [
    "failures = InputVisits -  obsHistIDsSuccess"
   ]
  },
  {
   "cell_type": "markdown",
   "metadata": {},
   "source": [
    "#####  Number of failures should = number of inputs - number of success"
   ]
  },
  {
   "cell_type": "code",
   "execution_count": 16,
   "metadata": {
    "collapsed": false
   },
   "outputs": [],
   "source": [
    "assert len(failures) == len(InputVisits) -len(obsHistIDsSuccess)"
   ]
  },
  {
   "cell_type": "markdown",
   "metadata": {},
   "source": [
    "#####  Failures consist of DM failures and phosim Failures"
   ]
  },
  {
   "cell_type": "code",
   "execution_count": 17,
   "metadata": {
    "collapsed": false
   },
   "outputs": [
    {
     "data": {
      "text/plain": [
       "True"
      ]
     },
     "execution_count": 17,
     "metadata": {},
     "output_type": "execute_result"
    }
   ],
   "source": [
    "failures == phoSimFailedObsHistIDs.union(DMFailures)"
   ]
  },
  {
   "cell_type": "code",
   "execution_count": 18,
   "metadata": {
    "collapsed": false
   },
   "outputs": [
    {
     "data": {
      "text/plain": [
       "set()"
      ]
     },
     "execution_count": 18,
     "metadata": {},
     "output_type": "execute_result"
    }
   ],
   "source": [
    "failures - phoSimFailedObsHistIDs - DMFailures"
   ]
  },
  {
   "cell_type": "markdown",
   "metadata": {},
   "source": [
    "#####  Missing light curve points are all phosim failures"
   ]
  },
  {
   "cell_type": "code",
   "execution_count": 19,
   "metadata": {
    "collapsed": false
   },
   "outputs": [],
   "source": [
    "missingObs = set([709569, 726636, 732065])"
   ]
  },
  {
   "cell_type": "code",
   "execution_count": 20,
   "metadata": {
    "collapsed": false
   },
   "outputs": [
    {
     "data": {
      "text/plain": [
       "True"
      ]
     },
     "execution_count": 20,
     "metadata": {},
     "output_type": "execute_result"
    }
   ],
   "source": [
    "missingObs.intersection(phoSimFailedObsHistIDs) == missingObs"
   ]
  },
  {
   "cell_type": "code",
   "execution_count": 23,
   "metadata": {
    "collapsed": false
   },
   "outputs": [
    {
     "data": {
      "text/html": [
       "<div>\n",
       "<table border=\"1\" class=\"dataframe\">\n",
       "  <thead>\n",
       "    <tr style=\"text-align: right;\">\n",
       "      <th></th>\n",
       "      <th>expmjd</th>\n",
       "      <th>filter</th>\n",
       "      <th>rotskypos</th>\n",
       "      <th>altitude</th>\n",
       "      <th>rawseeing</th>\n",
       "      <th>airmass</th>\n",
       "      <th>moonalt</th>\n",
       "      <th>moonphase</th>\n",
       "      <th>dist2moon</th>\n",
       "      <th>sunalt</th>\n",
       "      <th>cputime</th>\n",
       "      <th>hostname</th>\n",
       "      <th>runlimit</th>\n",
       "    </tr>\n",
       "    <tr>\n",
       "      <th>obshistid</th>\n",
       "      <th></th>\n",
       "      <th></th>\n",
       "      <th></th>\n",
       "      <th></th>\n",
       "      <th></th>\n",
       "      <th></th>\n",
       "      <th></th>\n",
       "      <th></th>\n",
       "      <th></th>\n",
       "      <th></th>\n",
       "      <th></th>\n",
       "      <th></th>\n",
       "      <th></th>\n",
       "    </tr>\n",
       "  </thead>\n",
       "  <tbody>\n",
       "    <tr>\n",
       "      <th>200</th>\n",
       "      <td>59580.12500</td>\n",
       "      <td>2</td>\n",
       "      <td>256.415741</td>\n",
       "      <td>70.843140</td>\n",
       "      <td>0.744120</td>\n",
       "      <td>1.058624</td>\n",
       "      <td>-36.291664</td>\n",
       "      <td>3.884229</td>\n",
       "      <td>124.437035</td>\n",
       "      <td>-30.809488</td>\n",
       "      <td>30202.13</td>\n",
       "      <td>3</td>\n",
       "      <td>0</td>\n",
       "    </tr>\n",
       "    <tr>\n",
       "      <th>220</th>\n",
       "      <td>59580.13672</td>\n",
       "      <td>1</td>\n",
       "      <td>256.719421</td>\n",
       "      <td>67.748306</td>\n",
       "      <td>0.869226</td>\n",
       "      <td>1.080465</td>\n",
       "      <td>-36.219700</td>\n",
       "      <td>3.838714</td>\n",
       "      <td>124.329948</td>\n",
       "      <td>-32.225323</td>\n",
       "      <td>25589.48</td>\n",
       "      <td>3</td>\n",
       "      <td>0</td>\n",
       "    </tr>\n",
       "    <tr>\n",
       "      <th>230</th>\n",
       "      <td>59580.14062</td>\n",
       "      <td>3</td>\n",
       "      <td>256.751892</td>\n",
       "      <td>66.023071</td>\n",
       "      <td>0.791241</td>\n",
       "      <td>1.094442</td>\n",
       "      <td>-36.095425</td>\n",
       "      <td>3.812869</td>\n",
       "      <td>124.268242</td>\n",
       "      <td>-32.939915</td>\n",
       "      <td>28681.54</td>\n",
       "      <td>3</td>\n",
       "      <td>0</td>\n",
       "    </tr>\n",
       "    <tr>\n",
       "      <th>250</th>\n",
       "      <td>59580.15234</td>\n",
       "      <td>4</td>\n",
       "      <td>256.638519</td>\n",
       "      <td>62.998943</td>\n",
       "      <td>0.928894</td>\n",
       "      <td>1.122339</td>\n",
       "      <td>-35.733200</td>\n",
       "      <td>3.767761</td>\n",
       "      <td>124.158920</td>\n",
       "      <td>-34.057011</td>\n",
       "      <td>40600.57</td>\n",
       "      <td>3</td>\n",
       "      <td>0</td>\n",
       "    </tr>\n",
       "    <tr>\n",
       "      <th>276</th>\n",
       "      <td>59580.16406</td>\n",
       "      <td>5</td>\n",
       "      <td>256.267395</td>\n",
       "      <td>59.199089</td>\n",
       "      <td>1.132846</td>\n",
       "      <td>1.164212</td>\n",
       "      <td>-35.021816</td>\n",
       "      <td>3.711396</td>\n",
       "      <td>124.019577</td>\n",
       "      <td>-35.202927</td>\n",
       "      <td>66684.06</td>\n",
       "      <td>3</td>\n",
       "      <td>0</td>\n",
       "    </tr>\n",
       "  </tbody>\n",
       "</table>\n",
       "</div>"
      ],
      "text/plain": [
       "                expmjd  filter   rotskypos   altitude  rawseeing   airmass  \\\n",
       "obshistid                                                                    \n",
       "200        59580.12500       2  256.415741  70.843140   0.744120  1.058624   \n",
       "220        59580.13672       1  256.719421  67.748306   0.869226  1.080465   \n",
       "230        59580.14062       3  256.751892  66.023071   0.791241  1.094442   \n",
       "250        59580.15234       4  256.638519  62.998943   0.928894  1.122339   \n",
       "276        59580.16406       5  256.267395  59.199089   1.132846  1.164212   \n",
       "\n",
       "             moonalt  moonphase   dist2moon     sunalt   cputime  hostname  \\\n",
       "obshistid                                                                    \n",
       "200       -36.291664   3.884229  124.437035 -30.809488  30202.13         3   \n",
       "220       -36.219700   3.838714  124.329948 -32.225323  25589.48         3   \n",
       "230       -36.095425   3.812869  124.268242 -32.939915  28681.54         3   \n",
       "250       -35.733200   3.767761  124.158920 -34.057011  40600.57         3   \n",
       "276       -35.021816   3.711396  124.019577 -35.202927  66684.06         3   \n",
       "\n",
       "           runlimit  \n",
       "obshistid            \n",
       "200               0  \n",
       "220               0  \n",
       "230               0  \n",
       "250               0  \n",
       "276               0  "
      ]
     },
     "execution_count": 23,
     "metadata": {},
     "output_type": "execute_result"
    }
   ],
   "source": [
    "run1meta.head()"
   ]
  },
  {
   "cell_type": "code",
   "execution_count": 24,
   "metadata": {
    "collapsed": false
   },
   "outputs": [
    {
     "data": {
      "text/html": [
       "<div>\n",
       "<table border=\"1\" class=\"dataframe\">\n",
       "  <thead>\n",
       "    <tr style=\"text-align: right;\">\n",
       "      <th></th>\n",
       "      <th>expmjd</th>\n",
       "      <th>filter</th>\n",
       "      <th>rotskypos</th>\n",
       "      <th>altitude</th>\n",
       "      <th>rawseeing</th>\n",
       "      <th>airmass</th>\n",
       "      <th>moonalt</th>\n",
       "      <th>moonphase</th>\n",
       "      <th>dist2moon</th>\n",
       "      <th>sunalt</th>\n",
       "      <th>cputime</th>\n",
       "      <th>hostname</th>\n",
       "      <th>runlimit</th>\n",
       "    </tr>\n",
       "    <tr>\n",
       "      <th>obshistid</th>\n",
       "      <th></th>\n",
       "      <th></th>\n",
       "      <th></th>\n",
       "      <th></th>\n",
       "      <th></th>\n",
       "      <th></th>\n",
       "      <th></th>\n",
       "      <th></th>\n",
       "      <th></th>\n",
       "      <th></th>\n",
       "      <th></th>\n",
       "      <th></th>\n",
       "      <th></th>\n",
       "    </tr>\n",
       "  </thead>\n",
       "  <tbody>\n",
       "    <tr>\n",
       "      <th>709569</th>\n",
       "      <td>60627.28906</td>\n",
       "      <td>1</td>\n",
       "      <td>256.526154</td>\n",
       "      <td>61.586487</td>\n",
       "      <td>0.789843</td>\n",
       "      <td>1.136965</td>\n",
       "      <td>10.604475</td>\n",
       "      <td>90.610908</td>\n",
       "      <td>52.176231</td>\n",
       "      <td>-30.269590</td>\n",
       "      <td>427379.28</td>\n",
       "      <td>4</td>\n",
       "      <td>1</td>\n",
       "    </tr>\n",
       "    <tr>\n",
       "      <th>726636</th>\n",
       "      <td>60654.07031</td>\n",
       "      <td>1</td>\n",
       "      <td>98.571197</td>\n",
       "      <td>72.598625</td>\n",
       "      <td>0.694619</td>\n",
       "      <td>1.047963</td>\n",
       "      <td>47.175110</td>\n",
       "      <td>66.521378</td>\n",
       "      <td>54.930840</td>\n",
       "      <td>-22.024441</td>\n",
       "      <td>427991.56</td>\n",
       "      <td>4</td>\n",
       "      <td>1</td>\n",
       "    </tr>\n",
       "    <tr>\n",
       "      <th>732065</th>\n",
       "      <td>60662.15234</td>\n",
       "      <td>1</td>\n",
       "      <td>255.388199</td>\n",
       "      <td>74.614113</td>\n",
       "      <td>0.453555</td>\n",
       "      <td>1.037172</td>\n",
       "      <td>13.664585</td>\n",
       "      <td>90.242516</td>\n",
       "      <td>87.642433</td>\n",
       "      <td>-34.176361</td>\n",
       "      <td>430691.41</td>\n",
       "      <td>4</td>\n",
       "      <td>1</td>\n",
       "    </tr>\n",
       "  </tbody>\n",
       "</table>\n",
       "</div>"
      ],
      "text/plain": [
       "                expmjd  filter   rotskypos   altitude  rawseeing   airmass  \\\n",
       "obshistid                                                                    \n",
       "709569     60627.28906       1  256.526154  61.586487   0.789843  1.136965   \n",
       "726636     60654.07031       1   98.571197  72.598625   0.694619  1.047963   \n",
       "732065     60662.15234       1  255.388199  74.614113   0.453555  1.037172   \n",
       "\n",
       "             moonalt  moonphase  dist2moon     sunalt    cputime  hostname  \\\n",
       "obshistid                                                                    \n",
       "709569     10.604475  90.610908  52.176231 -30.269590  427379.28         4   \n",
       "726636     47.175110  66.521378  54.930840 -22.024441  427991.56         4   \n",
       "732065     13.664585  90.242516  87.642433 -34.176361  430691.41         4   \n",
       "\n",
       "           runlimit  \n",
       "obshistid            \n",
       "709569            1  \n",
       "726636            1  \n",
       "732065            1  "
      ]
     },
     "execution_count": 24,
     "metadata": {},
     "output_type": "execute_result"
    }
   ],
   "source": [
    "run1meta.ix[[709569, 726636, 732065]]"
   ]
  },
  {
   "cell_type": "code",
   "execution_count": 28,
   "metadata": {
    "collapsed": false
   },
   "outputs": [],
   "source": [
    "obs = pd.read_csv(os.path.join(twinklesDir, 'data/SelectedKrakenVisits.csv'), index_col='obsHistID')"
   ]
  },
  {
   "cell_type": "code",
   "execution_count": 30,
   "metadata": {
    "collapsed": false
   },
   "outputs": [
    {
     "data": {
      "text/html": [
       "<div>\n",
       "<table border=\"1\" class=\"dataframe\">\n",
       "  <thead>\n",
       "    <tr style=\"text-align: right;\">\n",
       "      <th></th>\n",
       "      <th>moonPhase</th>\n",
       "      <th>filtSkyBrightness</th>\n",
       "    </tr>\n",
       "    <tr>\n",
       "      <th>obsHistID</th>\n",
       "      <th></th>\n",
       "      <th></th>\n",
       "    </tr>\n",
       "  </thead>\n",
       "  <tbody>\n",
       "    <tr>\n",
       "      <th>709569</th>\n",
       "      <td>90.610909</td>\n",
       "      <td>19.287629</td>\n",
       "    </tr>\n",
       "    <tr>\n",
       "      <th>726636</th>\n",
       "      <td>66.521378</td>\n",
       "      <td>20.071838</td>\n",
       "    </tr>\n",
       "    <tr>\n",
       "      <th>732065</th>\n",
       "      <td>90.242514</td>\n",
       "      <td>19.732872</td>\n",
       "    </tr>\n",
       "  </tbody>\n",
       "</table>\n",
       "</div>"
      ],
      "text/plain": [
       "           moonPhase  filtSkyBrightness\n",
       "obsHistID                              \n",
       "709569     90.610909          19.287629\n",
       "726636     66.521378          20.071838\n",
       "732065     90.242514          19.732872"
      ]
     },
     "execution_count": 30,
     "metadata": {},
     "output_type": "execute_result"
    }
   ],
   "source": [
    "obs.ix[[709569, 726636, 732065]][['moonPhase', 'filtSkyBrightness']]"
   ]
  },
  {
   "cell_type": "code",
   "execution_count": null,
   "metadata": {
    "collapsed": true
   },
   "outputs": [],
   "source": []
  }
 ],
 "metadata": {
  "kernelspec": {
   "display_name": "Python 2",
   "language": "python",
   "name": "python2"
  },
  "language_info": {
   "codemirror_mode": {
    "name": "ipython",
    "version": 2
   },
   "file_extension": ".py",
   "mimetype": "text/x-python",
   "name": "python",
   "nbconvert_exporter": "python",
   "pygments_lexer": "ipython2",
   "version": "2.7.11"
  }
 },
 "nbformat": 4,
 "nbformat_minor": 0
}
