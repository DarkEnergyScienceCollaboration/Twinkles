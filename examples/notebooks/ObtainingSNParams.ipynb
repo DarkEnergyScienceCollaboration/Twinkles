{
 "cells": [
  {
   "cell_type": "markdown",
   "metadata": {},
   "source": [
    "This document shows how the SN parameters were chosen for Twinkles run 3. \n",
    "\n",
    "## The inputs are: \n",
    "- `TwinklesGalaxies`: All galaxies in catsim in spatial circular patch of the sky which encompasses the Twinkles CCD are downloaded into a csv file. In practice this is a 0.3 degrees patch around the field RA and field DEC of the OpSim field with fieldID 1427 as found in the OpSim database describing the current baseline cadence for LSST called `Minion_1016`. This is assumed to be in the file `Twinkles/data` and is a 48 MB file and can be downloaded [here](http://lsst.astro.washington.edu/simdata/SN_data/TWINKLES/CatSimGals_radp3.csv). You can use the script `Twinkles/examples/download_galaxies.py` to obtain a similar file.\n",
    "- The Twinkles Code and Dependencies\n",
    "- `SNSims` which depends on LSST catsim code. The version of this code used was [SNSims](https://github.com/rbiswas4/SNsims/releases/tag/v1.1.0)\n",
    "\n",
    "## Basic Method:\n",
    "- __Veto AGN Hosts__ Galaxies that are AGN lenses have been listed in the Twinkles repository. We veto these galaxies from the set obtained from `TwinklesGalaxies`\n",
    "- __Expected Number of SN__ `SNSims` was used to find the expected number of SNIa in the Twinkles spatial region during the 10 years of LSST survey duration. This is based on an emperically observed `rate`. In order to get a good number of observations, we have increased the rate by a factor of 100, which corresponds to changing the constant multiplier in the rate $\\alpha = 2.6e-3$ . This gives us the expected number of SNIa in redshift bins of equal size of $\\Delta z_{\\rm{bin}} = 0.05 .$ We only consider SNIa to a redshift of 1.2, which is about as high as people have investigated and somewhat higher than the highest redshift at which LSST is often expected to have a useful sample  ($z\\sim 0.9$).\n",
    "- __Host Selection and SN Redshifts__  We select a number CatSim galaxies in each redshift bin, such that the number is drawn from a Poisson distribution with mean equal to expected number of SNIa in that redshift bin during the ten years in the Twinkles Spatial region, and are randomly selected to be SNIa hosts. The redshifts of these galaxies are taken as the redshift of the SNIa, and this defines the exact redshift distribution of the sample. Each selected galaxy is assigned a single SNIa.\n",
    "- __Angular Position of SN (separation from host)__ \n",
    "    - __Host Components__ These CatSim galaxies have (a) only bulges (b) only disks or (c) bulges and disks with each of the two components having an appropriate sersic index of 1, or 4. If the galaxy has a single component, the SN is assumed to be in that component. If it has both components (c), the SN are chosen to be in disks or bulges with equal probability.\n",
    "    - __Radial Position Relative to Host Center__ The sersic index is used to define a light profile, and the SN radial position is assumed to follow this profile. Thus, radial samples are drawn from the profile of the appropriate host component\n",
    "    - __Angular Position Relative to Host Center__ The ratio between the semi-major and semi-minor axes of the host component is used to sample the non-uniform angular distribution due to ellipticity and the position angle of the host component is used to rotate the sampled position appropriately\n",
    "- __SN parameters__ The SALT2 parameters of the SN are chosen by randomly sampling independent normal distributions in `x1` and `c`. Finally, the amplitude is sampled by assuming a normal distribution of the standardized absolute magnitude with a 'coherent' dispersion of 0.15 mags about a mean of -19.3 mags in the rest frame (energy counting) Bessell B Band. The actual values of `x0` corresponding to this are found by using the Tripp Relation with $\\alpha_{\\rm{Tripp}}=0.11$ and $\\beta_{\\rm{Tripp}}=3.11$. In this method there are (unfortunately) no correlations between the host properties and the SN properties are dropped.  \n",
    "- __SNIDs__ Since no two SN have the same host, we choose the galaxy ids as the SN id. Further since we are only doing a single tile, we do not use the `galtileid` which is a unique id for each galaxy across the LSST sky, but only use the `id` which is unique only on a particular tile.\n",
    "- __Hostless Twins__ In order to be able to study our abilty to do forced photometry on transients like supernovae, and the impact that host galaxies have on it, we place each SN in the SN sample described above at a spatial position in the Twinkles spatial region drawn with equal probabilty with the exact same SN parameters. The snid of these Twin supernovae are exactly $10^8$ greater then their snid in the former sample which is sufficient to ensure that there are no clashes on ids. This ensures that at most times, we will observe an identical supernova somewhere else in the field, so SN and observing conditions will be the same while the local environment (galaxy background, possible MW extinction, though everyting is too close for that to vary much) and spatially varying quantities will be different. \n",
    "\n",
    "## Notes: \n",
    "- The SN are selected using random number generators in a reproducible way, however the downloaded file for galaxies is not ordered. Therefore, if you do not download the linked file, you are should obtain a statistically equivalent SN set, but not an identical SN parameter set. "
   ]
  },
  {
   "cell_type": "code",
   "execution_count": 1,
   "metadata": {
    "collapsed": true
   },
   "outputs": [],
   "source": [
    "import os"
   ]
  },
  {
   "cell_type": "code",
   "execution_count": 2,
   "metadata": {
    "collapsed": false
   },
   "outputs": [
    {
     "name": "stderr",
     "output_type": "stream",
     "text": [
      "/usr/local/miniconda/lib/python2.7/site-packages/IPython/html.py:14: ShimWarning: The `IPython.html` package has been deprecated. You should import from `notebook` instead. `IPython.html.widgets` has moved to `ipywidgets`.\n",
      "  \"`IPython.html.widgets` has moved to `ipywidgets`.\", ShimWarning)\n"
     ]
    }
   ],
   "source": [
    "import numpy as np\n",
    "import pandas as pd\n",
    "%matplotlib inline\n",
    "import matplotlib.pyplot as plt\n",
    "import seaborn as sns\n",
    "sns.set()"
   ]
  },
  {
   "cell_type": "code",
   "execution_count": 3,
   "metadata": {
    "collapsed": true
   },
   "outputs": [],
   "source": [
    "from copy import deepcopy"
   ]
  },
  {
   "cell_type": "code",
   "execution_count": 4,
   "metadata": {
    "collapsed": true
   },
   "outputs": [],
   "source": [
    "import opsimsummary as oss"
   ]
  },
  {
   "cell_type": "code",
   "execution_count": 5,
   "metadata": {
    "collapsed": true
   },
   "outputs": [],
   "source": [
    "from lsst.utils import getPackageDir"
   ]
  },
  {
   "cell_type": "code",
   "execution_count": 6,
   "metadata": {
    "collapsed": false
   },
   "outputs": [
    {
     "name": "stderr",
     "output_type": "stream",
     "text": [
      "/Users/rbiswas/src/LSST_el_Capitan/sims_catalogs/python/lsst/sims/catalogs/db/dbConnection.py:439: UserWarning: Duplicate object type id 25 specified: \n",
      "Output object ids may not be unique.\n",
      "This may not be a problem if you do not want globally unique id values\n",
      "  'want globally unique id values')\n",
      "/Users/rbiswas/src/LSST_el_Capitan/sims_catalogs/python/lsst/sims/catalogs/db/dbConnection.py:439: UserWarning: Duplicate object type id 40 specified: \n",
      "Output object ids may not be unique.\n",
      "This may not be a problem if you do not want globally unique id values\n",
      "  'want globally unique id values')\n",
      "/Users/rbiswas/src/LSST_el_Capitan/sims_catalogs/python/lsst/sims/catalogs/db/dbConnection.py:424: UserWarning: duplicate object identifier galaxyDisk specified. This will override previous definition on line 344 of /Users/rbiswas/src/LSST_el_Capitan/sims_catUtils/python/lsst/sims/catUtils/baseCatalogModels/GalaxyModels.py\n",
      "  (srcline, srcfile))\n",
      "/Users/rbiswas/src/LSST_el_Capitan/sims_catalogs/python/lsst/sims/catalogs/db/dbConnection.py:439: UserWarning: Duplicate object type id 27 specified: \n",
      "Output object ids may not be unique.\n",
      "This may not be a problem if you do not want globally unique id values\n",
      "  'want globally unique id values')\n",
      "/Users/rbiswas/src/LSST_el_Capitan/sims_catalogs/python/lsst/sims/catalogs/db/dbConnection.py:424: UserWarning: duplicate object identifier galaxyBulge specified. This will override previous definition on line 302 of /Users/rbiswas/src/LSST_el_Capitan/sims_catUtils/python/lsst/sims/catUtils/baseCatalogModels/GalaxyModels.py\n",
      "  (srcline, srcfile))\n",
      "/Users/rbiswas/src/LSST_el_Capitan/sims_catalogs/python/lsst/sims/catalogs/db/dbConnection.py:439: UserWarning: Duplicate object type id 26 specified: \n",
      "Output object ids may not be unique.\n",
      "This may not be a problem if you do not want globally unique id values\n",
      "  'want globally unique id values')\n",
      "/Users/rbiswas/src/LSST_el_Capitan/sims_catalogs/python/lsst/sims/catalogs/db/dbConnection.py:424: UserWarning: duplicate object identifier galaxyAgn specified. This will override previous definition on line 386 of /Users/rbiswas/src/LSST_el_Capitan/sims_catUtils/python/lsst/sims/catUtils/baseCatalogModels/GalaxyModels.py\n",
      "  (srcline, srcfile))\n",
      "/Users/rbiswas/src/LSST_el_Capitan/sims_catalogs/python/lsst/sims/catalogs/db/dbConnection.py:439: UserWarning: Duplicate object type id 28 specified: \n",
      "Output object ids may not be unique.\n",
      "This may not be a problem if you do not want globally unique id values\n",
      "  'want globally unique id values')\n",
      "/Users/rbiswas/src/LSST_el_Capitan/sims_catalogs/python/lsst/sims/catalogs/db/dbConnection.py:439: UserWarning: Duplicate object type id 66 specified: \n",
      "Output object ids may not be unique.\n",
      "This may not be a problem if you do not want globally unique id values\n",
      "  'want globally unique id values')\n"
     ]
    }
   ],
   "source": [
    "from desc.twinkles import read_catsimInstCat"
   ]
  },
  {
   "cell_type": "code",
   "execution_count": 36,
   "metadata": {
    "collapsed": true
   },
   "outputs": [],
   "source": [
    "import healpy as hp"
   ]
  },
  {
   "cell_type": "code",
   "execution_count": 34,
   "metadata": {
    "collapsed": false
   },
   "outputs": [],
   "source": [
    "from snsims import TwinklesSim, SimpleSALTDist, CatSimPositionSampling, Tiling"
   ]
  },
  {
   "cell_type": "code",
   "execution_count": 8,
   "metadata": {
    "collapsed": true
   },
   "outputs": [],
   "source": [
    "varlist = ['id', 'galtileid', 'snid', 'snra', 'sndec', 't0', 'x0', 'x1', 'c', 'z']"
   ]
  },
  {
   "cell_type": "markdown",
   "metadata": {},
   "source": [
    "## Veto Agn Hosts"
   ]
  },
  {
   "cell_type": "code",
   "execution_count": 9,
   "metadata": {
    "collapsed": true
   },
   "outputs": [],
   "source": [
    "twinklesdir = getPackageDir('Twinkles')"
   ]
  },
  {
   "cell_type": "markdown",
   "metadata": {},
   "source": [
    "The file `agn_host_id.txt` has an `id` column which is hard to match against the supernova. The file `galtileid_catalog.csv` has both `id` and `galtileid` columns.  The `galtileid` column is not the `galtileid` of the `GalaxyTiled` database object, and has been mangled for the use of `PhoSim` which does not work correctly for large integers. Indeed, the `galtileid` \n",
    "variable in the agns is the same as the `id` variable in the `GalaxyTiled` database object, and instance catalogs that use it as an underlying `db_obj`.\n",
    "\n",
    "Our strategy here is to use these two files to obtain the mangled `galtileid` or the `id` of the usual instance catalogs derived from using `GalaxyTiled` as the underlying db_obj. We will then use the `id` column of such an instance catalog to find the galaxies that are lensing AGN, and will veto these as candidate hosts for SN."
   ]
  },
  {
   "cell_type": "code",
   "execution_count": 10,
   "metadata": {
    "collapsed": false
   },
   "outputs": [],
   "source": [
    "agngaltileIdFile = os.path.join(twinklesdir, 'data', 'agn_hosts.csv')\n",
    "agn_df = pd.read_csv(agngaltileIdFile)"
   ]
  },
  {
   "cell_type": "code",
   "execution_count": 11,
   "metadata": {
    "collapsed": false
   },
   "outputs": [
    {
     "data": {
      "text/html": [
       "<div>\n",
       "<table border=\"1\" class=\"dataframe\">\n",
       "  <thead>\n",
       "    <tr style=\"text-align: right;\">\n",
       "      <th></th>\n",
       "      <th>Unnamed: 0</th>\n",
       "      <th>galtileid</th>\n",
       "      <th>uniqueid</th>\n",
       "      <th>ra</th>\n",
       "      <th>dec</th>\n",
       "      <th>redshift</th>\n",
       "    </tr>\n",
       "  </thead>\n",
       "  <tbody>\n",
       "    <tr>\n",
       "      <th>0</th>\n",
       "      <td>181</td>\n",
       "      <td>483573</td>\n",
       "      <td>495178778</td>\n",
       "      <td>53.257016</td>\n",
       "      <td>-27.270674</td>\n",
       "      <td>0.494</td>\n",
       "    </tr>\n",
       "    <tr>\n",
       "      <th>1</th>\n",
       "      <td>268</td>\n",
       "      <td>10291163</td>\n",
       "      <td>10538150938</td>\n",
       "      <td>53.236345</td>\n",
       "      <td>-27.290742</td>\n",
       "      <td>0.808</td>\n",
       "    </tr>\n",
       "    <tr>\n",
       "      <th>2</th>\n",
       "      <td>563</td>\n",
       "      <td>12809797</td>\n",
       "      <td>13117232154</td>\n",
       "      <td>53.263454</td>\n",
       "      <td>-27.278359</td>\n",
       "      <td>0.364</td>\n",
       "    </tr>\n",
       "    <tr>\n",
       "      <th>3</th>\n",
       "      <td>811</td>\n",
       "      <td>6916769</td>\n",
       "      <td>7082771482</td>\n",
       "      <td>53.166742</td>\n",
       "      <td>-27.684328</td>\n",
       "      <td>0.376</td>\n",
       "    </tr>\n",
       "    <tr>\n",
       "      <th>4</th>\n",
       "      <td>943</td>\n",
       "      <td>8253557</td>\n",
       "      <td>8451642394</td>\n",
       "      <td>53.180439</td>\n",
       "      <td>-27.672666</td>\n",
       "      <td>0.580</td>\n",
       "    </tr>\n",
       "  </tbody>\n",
       "</table>\n",
       "</div>"
      ],
      "text/plain": [
       "   Unnamed: 0  galtileid     uniqueid         ra        dec  redshift\n",
       "0         181     483573    495178778  53.257016 -27.270674     0.494\n",
       "1         268   10291163  10538150938  53.236345 -27.290742     0.808\n",
       "2         563   12809797  13117232154  53.263454 -27.278359     0.364\n",
       "3         811    6916769   7082771482  53.166742 -27.684328     0.376\n",
       "4         943    8253557   8451642394  53.180439 -27.672666     0.580"
      ]
     },
     "execution_count": 11,
     "metadata": {},
     "output_type": "execute_result"
    }
   ],
   "source": [
    "agn_df.head()"
   ]
  },
  {
   "cell_type": "code",
   "execution_count": 12,
   "metadata": {
    "collapsed": false
   },
   "outputs": [
    {
     "data": {
      "text/plain": [
       "198"
      ]
     },
     "execution_count": 12,
     "metadata": {},
     "output_type": "execute_result"
    }
   ],
   "source": [
    "agn_df.galtileid.size"
   ]
  },
  {
   "cell_type": "code",
   "execution_count": 13,
   "metadata": {
    "collapsed": false
   },
   "outputs": [
    {
     "name": "stdout",
     "output_type": "stream",
     "text": [
      "243476\n"
     ]
    }
   ],
   "source": [
    "galFile = os.path.join(twinklesdir, 'data', 'CatSimGals_radp3.csv')\n",
    "os.path.exists(galFile)\n",
    "gals = read_catsimInstCat(galFile)\n",
    "print(len(gals))"
   ]
  },
  {
   "cell_type": "code",
   "execution_count": 14,
   "metadata": {
    "collapsed": false
   },
   "outputs": [
    {
     "data": {
      "text/plain": [
       "243476"
      ]
     },
     "execution_count": 14,
     "metadata": {},
     "output_type": "execute_result"
    }
   ],
   "source": [
    "gals.id.unique().size"
   ]
  },
  {
   "cell_type": "code",
   "execution_count": 15,
   "metadata": {
    "collapsed": false
   },
   "outputs": [
    {
     "data": {
      "text/plain": [
       "Index([u'id', u'galtileid', u'raJ2000', u'decJ2000', u'redshift', u'a_d',\n",
       "       u'b_d', u'pa_disk', u'sindexDisk', u'DiskHalfLightRadius', u'a_b',\n",
       "       u'b_b', u'pa_bulge', u'sindexBulge', u'BulgeHalfLightRadius',\n",
       "       u'mass_stellar', u'mass_gas', u'mass_halo', u'mass_bulge',\n",
       "       u'sedFilenameDisk', u'sedFilenameBulge', u'log10BulgeToTotLSSTrFlux'],\n",
       "      dtype='object')"
      ]
     },
     "execution_count": 15,
     "metadata": {},
     "output_type": "execute_result"
    }
   ],
   "source": [
    "gals.columns"
   ]
  },
  {
   "cell_type": "code",
   "execution_count": 16,
   "metadata": {
    "collapsed": false
   },
   "outputs": [],
   "source": [
    "agntups = tuple(agn_df.galtileid.tolist())\n",
    "gals = gals.query('id not in @agntups')"
   ]
  },
  {
   "cell_type": "code",
   "execution_count": 17,
   "metadata": {
    "collapsed": false
   },
   "outputs": [
    {
     "data": {
      "text/plain": [
       "243278"
      ]
     },
     "execution_count": 17,
     "metadata": {},
     "output_type": "execute_result"
    }
   ],
   "source": [
    "len(gals)"
   ]
  },
  {
   "cell_type": "markdown",
   "metadata": {},
   "source": [
    "gals is a dataframe containing information about galaxies which are not AGN hosts"
   ]
  },
  {
   "cell_type": "markdown",
   "metadata": {},
   "source": [
    "## SN Parameters"
   ]
  },
  {
   "cell_type": "code",
   "execution_count": 18,
   "metadata": {
    "collapsed": true
   },
   "outputs": [],
   "source": [
    "from astropy.cosmology import FlatLambdaCDM"
   ]
  },
  {
   "cell_type": "code",
   "execution_count": 19,
   "metadata": {
    "collapsed": true
   },
   "outputs": [],
   "source": [
    "cosmo = FlatLambdaCDM(H0=73.0, Om0=0.25)"
   ]
  },
  {
   "cell_type": "code",
   "execution_count": 20,
   "metadata": {
    "collapsed": true
   },
   "outputs": [],
   "source": [
    "# in degrees\n",
    "TwinklesArea = np.pi * 0.3**2"
   ]
  },
  {
   "cell_type": "markdown",
   "metadata": {},
   "source": [
    "`TwinklesSim` is a class representing the distribution of SN parameters and positions given a power law equation for SN rates, a sample of catsim galaxies, and the time duration and time interval of observation. Thus it performs all the functionality required for sampling the parameters of the hosted SNIa and the sample of AGN-less catsim galaxies. The actual calls required to do this are given below, but here,  we will summarize the codes used to perform the operations. \n",
    "\n",
    "__Expected Number of SN__: The  class `PowerLawRates` deals with calculating the expected number of SN in a spatial area in uniform redshift bins. \n",
    "__Host Selection and SN Redshifts__: The class `TwinklesRates` inherits from `PowerLawRates` and has the additional functionality of assigning hosts in the correct redshift bins statistically, in order to obtain the realization of SNIa redshifts. \n",
    "__Angular Position of SN (separation from host)__ `TwinklesSim` inherits from `TwinklesRates` and uses the host matching there along with sampling of the angular positions with functionality in `CatSimPositionSampling`.\n"
   ]
  },
  {
   "cell_type": "code",
   "execution_count": 22,
   "metadata": {
    "collapsed": false
   },
   "outputs": [
    {
     "name": "stderr",
     "output_type": "stream",
     "text": [
      "/Users/rbiswas/.local/lib/python2.7/site-packages/snsims/paramDistribution.py:351: SettingWithCopyWarning: \n",
      "A value is trying to be set on a copy of a slice from a DataFrame.\n",
      "Try using .loc[row_indexer,col_indexer] = value instead\n",
      "\n",
      "See the caveats in the documentation: http://pandas.pydata.org/pandas-docs/stable/indexing.html#indexing-view-versus-copy\n",
      "  galsdf['probHist'] = galsdf.redshiftBin.apply(self.probHost)\n",
      "/Users/rbiswas/.local/lib/python2.7/site-packages/snsims/paramDistribution.py:352: SettingWithCopyWarning: \n",
      "A value is trying to be set on a copy of a slice from a DataFrame.\n",
      "Try using .loc[row_indexer,col_indexer] = value instead\n",
      "\n",
      "See the caveats in the documentation: http://pandas.pydata.org/pandas-docs/stable/indexing.html#indexing-view-versus-copy\n",
      "  galsdf['hostAssignmentRandom'] = self.rng.uniform(size=len(galsdf))\n",
      "/usr/local/miniconda/lib/python2.7/site-packages/pandas/core/generic.py:2701: SettingWithCopyWarning: \n",
      "A value is trying to be set on a copy of a slice from a DataFrame.\n",
      "Try using .loc[row_indexer,col_indexer] = value instead\n",
      "\n",
      "See the caveats in the documentation: http://pandas.pydata.org/pandas-docs/stable/indexing.html#indexing-view-versus-copy\n",
      "  self[name] = value\n",
      "/Users/rbiswas/.local/lib/python2.7/site-packages/snsims/paramDistribution.py:365: SettingWithCopyWarning: \n",
      "A value is trying to be set on a copy of a slice from a DataFrame.\n",
      "Try using .loc[row_indexer,col_indexer] = value instead\n",
      "\n",
      "See the caveats in the documentation: http://pandas.pydata.org/pandas-docs/stable/indexing.html#indexing-view-versus-copy\n",
      "  df['snid'] = df.id\n"
     ]
    }
   ],
   "source": [
    "tsim = TwinklesSim(catsimgaldf=gals, rng=np.random.RandomState(0), fieldArea=TwinklesArea,\n",
    "                   cosmo=cosmo, numBins=24\n",
    "                    )"
   ]
  },
  {
   "cell_type": "code",
   "execution_count": 23,
   "metadata": {
    "collapsed": false
   },
   "outputs": [
    {
     "data": {
      "text/html": [
       "<div>\n",
       "<table border=\"1\" class=\"dataframe\">\n",
       "  <thead>\n",
       "    <tr style=\"text-align: right;\">\n",
       "      <th></th>\n",
       "      <th>M</th>\n",
       "      <th>Mabs</th>\n",
       "      <th>c</th>\n",
       "      <th>mB</th>\n",
       "      <th>t0</th>\n",
       "      <th>x0</th>\n",
       "      <th>x1</th>\n",
       "      <th>z</th>\n",
       "      <th>id</th>\n",
       "      <th>galtileid</th>\n",
       "      <th>...</th>\n",
       "      <th>bulgeRadialPos</th>\n",
       "      <th>diskRadialPos</th>\n",
       "      <th>bulgeAngle</th>\n",
       "      <th>diskAngle</th>\n",
       "      <th>DeltaRaDisk</th>\n",
       "      <th>DeltaRaBulge</th>\n",
       "      <th>DeltaDecDisk</th>\n",
       "      <th>DeltaDecBulge</th>\n",
       "      <th>snra</th>\n",
       "      <th>sndec</th>\n",
       "    </tr>\n",
       "    <tr>\n",
       "      <th>snid</th>\n",
       "      <th></th>\n",
       "      <th></th>\n",
       "      <th></th>\n",
       "      <th></th>\n",
       "      <th></th>\n",
       "      <th></th>\n",
       "      <th></th>\n",
       "      <th></th>\n",
       "      <th></th>\n",
       "      <th></th>\n",
       "      <th></th>\n",
       "      <th></th>\n",
       "      <th></th>\n",
       "      <th></th>\n",
       "      <th></th>\n",
       "      <th></th>\n",
       "      <th></th>\n",
       "      <th></th>\n",
       "      <th></th>\n",
       "      <th></th>\n",
       "      <th></th>\n",
       "    </tr>\n",
       "  </thead>\n",
       "  <tbody>\n",
       "    <tr>\n",
       "      <th>8206769</th>\n",
       "      <td>0.165184</td>\n",
       "      <td>-19.369516</td>\n",
       "      <td>-0.025170</td>\n",
       "      <td>23.845774</td>\n",
       "      <td>62728.871253</td>\n",
       "      <td>0.000005</td>\n",
       "      <td>-0.783170</td>\n",
       "      <td>0.7286</td>\n",
       "      <td>8206769</td>\n",
       "      <td>60008206769</td>\n",
       "      <td>...</td>\n",
       "      <td>0.0</td>\n",
       "      <td>0.123480</td>\n",
       "      <td>NaN</td>\n",
       "      <td>-52.791583</td>\n",
       "      <td>-0.090504</td>\n",
       "      <td>NaN</td>\n",
       "      <td>-0.084002</td>\n",
       "      <td>NaN</td>\n",
       "      <td>53.208652</td>\n",
       "      <td>-27.291327</td>\n",
       "    </tr>\n",
       "    <tr>\n",
       "      <th>14159772</th>\n",
       "      <td>0.278276</td>\n",
       "      <td>-19.075427</td>\n",
       "      <td>-0.057076</td>\n",
       "      <td>25.395252</td>\n",
       "      <td>59590.365909</td>\n",
       "      <td>0.000001</td>\n",
       "      <td>-0.900533</td>\n",
       "      <td>1.1552</td>\n",
       "      <td>14159772</td>\n",
       "      <td>60014159772</td>\n",
       "      <td>...</td>\n",
       "      <td>0.0</td>\n",
       "      <td>0.016072</td>\n",
       "      <td>NaN</td>\n",
       "      <td>7.428601</td>\n",
       "      <td>-0.008900</td>\n",
       "      <td>NaN</td>\n",
       "      <td>0.013383</td>\n",
       "      <td>NaN</td>\n",
       "      <td>53.208376</td>\n",
       "      <td>-27.290750</td>\n",
       "    </tr>\n",
       "    <tr>\n",
       "      <th>2864869</th>\n",
       "      <td>0.736539</td>\n",
       "      <td>-18.621764</td>\n",
       "      <td>-0.225481</td>\n",
       "      <td>25.143418</td>\n",
       "      <td>63213.231719</td>\n",
       "      <td>0.000001</td>\n",
       "      <td>-0.259369</td>\n",
       "      <td>0.8922</td>\n",
       "      <td>2864869</td>\n",
       "      <td>60002864869</td>\n",
       "      <td>...</td>\n",
       "      <td>0.0</td>\n",
       "      <td>0.882331</td>\n",
       "      <td>NaN</td>\n",
       "      <td>58.315735</td>\n",
       "      <td>-0.549376</td>\n",
       "      <td>NaN</td>\n",
       "      <td>-0.690431</td>\n",
       "      <td>NaN</td>\n",
       "      <td>53.204026</td>\n",
       "      <td>-27.294257</td>\n",
       "    </tr>\n",
       "    <tr>\n",
       "      <th>8718460</th>\n",
       "      <td>-0.298495</td>\n",
       "      <td>-19.570323</td>\n",
       "      <td>0.060792</td>\n",
       "      <td>24.868692</td>\n",
       "      <td>61181.541954</td>\n",
       "      <td>0.000002</td>\n",
       "      <td>0.978256</td>\n",
       "      <td>1.1419</td>\n",
       "      <td>8718460</td>\n",
       "      <td>60008718460</td>\n",
       "      <td>...</td>\n",
       "      <td>0.0</td>\n",
       "      <td>0.206793</td>\n",
       "      <td>NaN</td>\n",
       "      <td>96.831652</td>\n",
       "      <td>0.061494</td>\n",
       "      <td>NaN</td>\n",
       "      <td>0.197439</td>\n",
       "      <td>NaN</td>\n",
       "      <td>53.207674</td>\n",
       "      <td>-27.286143</td>\n",
       "    </tr>\n",
       "    <tr>\n",
       "      <th>7898978</th>\n",
       "      <td>0.033437</td>\n",
       "      <td>-19.219225</td>\n",
       "      <td>0.013896</td>\n",
       "      <td>24.592289</td>\n",
       "      <td>59843.885293</td>\n",
       "      <td>0.000002</td>\n",
       "      <td>-0.700624</td>\n",
       "      <td>0.9075</td>\n",
       "      <td>7898978</td>\n",
       "      <td>60007898978</td>\n",
       "      <td>...</td>\n",
       "      <td>0.0</td>\n",
       "      <td>0.099051</td>\n",
       "      <td>NaN</td>\n",
       "      <td>156.324302</td>\n",
       "      <td>0.089029</td>\n",
       "      <td>NaN</td>\n",
       "      <td>0.043416</td>\n",
       "      <td>NaN</td>\n",
       "      <td>53.204129</td>\n",
       "      <td>-27.288226</td>\n",
       "    </tr>\n",
       "  </tbody>\n",
       "</table>\n",
       "<p>5 rows × 44 columns</p>\n",
       "</div>"
      ],
      "text/plain": [
       "                 M       Mabs         c         mB            t0        x0  \\\n",
       "snid                                                                         \n",
       "8206769   0.165184 -19.369516 -0.025170  23.845774  62728.871253  0.000005   \n",
       "14159772  0.278276 -19.075427 -0.057076  25.395252  59590.365909  0.000001   \n",
       "2864869   0.736539 -18.621764 -0.225481  25.143418  63213.231719  0.000001   \n",
       "8718460  -0.298495 -19.570323  0.060792  24.868692  61181.541954  0.000002   \n",
       "7898978   0.033437 -19.219225  0.013896  24.592289  59843.885293  0.000002   \n",
       "\n",
       "                x1       z        id    galtileid    ...      bulgeRadialPos  \\\n",
       "snid                                                 ...                       \n",
       "8206769  -0.783170  0.7286   8206769  60008206769    ...                 0.0   \n",
       "14159772 -0.900533  1.1552  14159772  60014159772    ...                 0.0   \n",
       "2864869  -0.259369  0.8922   2864869  60002864869    ...                 0.0   \n",
       "8718460   0.978256  1.1419   8718460  60008718460    ...                 0.0   \n",
       "7898978  -0.700624  0.9075   7898978  60007898978    ...                 0.0   \n",
       "\n",
       "          diskRadialPos  bulgeAngle   diskAngle  DeltaRaDisk  DeltaRaBulge  \\\n",
       "snid                                                                         \n",
       "8206769        0.123480         NaN  -52.791583    -0.090504           NaN   \n",
       "14159772       0.016072         NaN    7.428601    -0.008900           NaN   \n",
       "2864869        0.882331         NaN   58.315735    -0.549376           NaN   \n",
       "8718460        0.206793         NaN   96.831652     0.061494           NaN   \n",
       "7898978        0.099051         NaN  156.324302     0.089029           NaN   \n",
       "\n",
       "          DeltaDecDisk  DeltaDecBulge       snra      sndec  \n",
       "snid                                                         \n",
       "8206769      -0.084002            NaN  53.208652 -27.291327  \n",
       "14159772      0.013383            NaN  53.208376 -27.290750  \n",
       "2864869      -0.690431            NaN  53.204026 -27.294257  \n",
       "8718460       0.197439            NaN  53.207674 -27.286143  \n",
       "7898978       0.043416            NaN  53.204129 -27.288226  \n",
       "\n",
       "[5 rows x 44 columns]"
      ]
     },
     "execution_count": 23,
     "metadata": {},
     "output_type": "execute_result"
    }
   ],
   "source": [
    "tsim.snparamdf.head()"
   ]
  },
  {
   "cell_type": "code",
   "execution_count": 24,
   "metadata": {
    "collapsed": true
   },
   "outputs": [],
   "source": [
    "tsim.snparamdf.reset_index().to_csv('snparams.csv', index=False)"
   ]
  },
  {
   "cell_type": "code",
   "execution_count": 25,
   "metadata": {
    "collapsed": false,
    "scrolled": true
   },
   "outputs": [
    {
     "name": "stdout",
     "output_type": "stream",
     "text": [
      "snid,M,Mabs,c,mB,t0,x0,x1,z,id,galtileid,raJ2000,decJ2000,redshift,a_d,b_d,pa_disk,sindexDisk,DiskHalfLightRadius,a_b,b_b,pa_bulge,sindexBulge,BulgeHalfLightRadius,mass_stellar,mass_gas,mass_halo,mass_bulge,sedFilenameDisk,sedFilenameBulge,log10BulgeToTotLSSTrFlux,redshiftBin,probHist,hostAssignmentRandom,isinDisk,bulgeRadialPos,diskRadialPos,bulgeAngle,diskAngle,DeltaRaDisk,DeltaRaBulge,DeltaDecDisk,DeltaDecBulge,snra,sndec\r\n",
      "8206769,0.165183538224,-19.3695159684,-0.0251703394203,23.8457738737,62728.8712531,4.59792198492e-06,-0.783169749492,0.7286,8206769,60008206769,0.9286666,-0.4763231,0.7286,0.5034,0.2882,174.3423,1,0.5034,0.0,0.0,0.0,4,0.0,0.0065,0.0992,1.8934,0.0, Exp.20E09.0005Z.spec, None,-1000.0,14,0.572420443587,0.138182951349,1,0.0,0.123480106327,,-52.7915832681,-0.0905041674894,,-0.0840019781049,,53.2086516147,-27.2913266485\r\n",
      "14159772,0.278276486695,-19.0754267365,-0.0570757582693,25.3952522307,59590.3659091,1.10382247296e-06,-0.900532779362,1.1552,14159772,60014159772,0.9286614,-0.4763135,1.1552,0.1327,0.0336,333.8026,1,0.1327,0.0,0.0,0.0,4,0.0,0.0032,0.0349,1.7213,0.0, Burst.12E07.04Z.spec, None,-1000.0,23,0.927236646271,0.19658236168,1,0.0,0.0160724940339,,7.42860104775,-0.00890045658551,,0.0133830839884,,53.2083763444,-27.2907495576\r\n",
      "2864869,0.736539456591,-18.6217644779,-0.225480533471,25.1434175507,63213.231719,1.38570732199e-06,-0.259368922661,0.8922,2864869,60002864869,0.9285881,-0.4763713,0.8922,0.2488,0.0775,276.825,1,0.2488,0.0,0.0,0.0,4,0.0,0.2096,0.1799,9.5533,0.0, Exp.16E09.02Z.spec, None,-1000.0,17,0.77749560461,0.0971012757931,1,0.0,0.882330962092,,58.3157353636,-0.549375586969,,-0.690430583845,,53.2040264317,-27.2942567574\r\n",
      "8718460,-0.298495487957,-19.5703225484,0.0607921573632,24.8686923861,61181.541954,1.7803248928e-06,0.978255580335,1.1419,8718460,60008718460,0.9286488,-0.476234,1.1419,0.3603,0.3453,114.1313,1,0.3603,0.0,0.0,0.0,4,0.0,0.0419,0.1672,1.7213,0.0, Burst.12E09.02Z.spec, None,-1000.0,22,0.847908147216,0.837944907499,1,0.0,0.206793488393,,96.8316519963,0.0614939746088,,0.197438694102,,53.2076739715,-27.2861434166\r\n",
      "7898978,0.033436666822,-19.2192245862,0.0138955427337,24.5922889065,59843.8852934,2.31118898225e-06,-0.70062428187,0.9075,7898978,60007898978,0.9285868,-0.4762696,0.9075,0.2687,0.2505,220.3275,1,0.2687,0.0,0.0,0.0,4,0.0,0.0188,0.0704,0.6025,0.0, Burst.12E09.02Z.spec, None,-1000.0,18,0.839523064894,0.096098407894,1,0.0,0.0990508851224,,156.324302343,0.0890287690031,,0.0434160815059,,53.2041292818,-27.2882259304\r\n",
      "2654618,-0.26002081604,-19.595770339,0.0852891659243,24.7469902917,62517.0925188,1.99906761434e-06,-0.0707924087456,1.1024,2654618,60002654618,0.9286333,-0.4762694,1.1024,0.5404,0.3348,60.321,1,0.5404,0.1575,0.1492,60.321,4,0.1575,0.2759,0.5753,10.2418,0.0227, Const.32E09.02Z.spec, Burst.32E09.02Z.spec,-1.5358,22,0.847908147216,0.468651201648,0,0.101256451132,0.493361358325,144.215581013,155.498574483,-0.0,0.30731666964,-0.0,0.0107694452254,53.206854171,-27.2882235397\r\n",
      "2485645,0.134517484937,-19.0283781365,-0.0378608705683,24.2796194083,61520.2450358,3.07614646054e-06,-0.142130466844,0.754,2485645,60002485645,0.9287444,-0.4763555,0.754,0.453,0.303,142.6673,1,0.453,0.0,0.0,0.0,4,0.0,0.0976,0.2257,7.0574,0.0, Const.10E10.02Z.spec, None,-1000.0,15,0.653794685529,0.0391877922543,1,0.0,0.013053669863,,14.7075411458,0.0102920741474,,-0.00802941508686,,53.2131372253,-27.2931619282\r\n",
      "734644,0.621268524396,-18.5289273355,-0.181897507398,24.8097849338,62106.4116043,1.88709714029e-06,-0.455548646958,0.7626,734644,60000734644,0.9288688,-0.4763519,0.7626,0.4265,0.1046,256.136,1,0.4265,0.1659,0.1387,256.136,4,0.1659,2.5517,0.1856,32.705,0.0812, Inst.16E09.04Z.spec, Burst.62E09.02Z.spec,-1.3995,15,0.653794685529,0.282806962576,1,0.275523278924,0.404177530909,9.41428207472,186.240994345,0.379548687098,-0.0,0.138932611771,-0.0,53.2203673916,-27.2929148406\r\n",
      "3631521,-0.558466131827,-19.7771445201,0.112999898096,24.203062449,60938.222374,3.27334293117e-06,1.85133138006,0.9654,3631521,60003631521,0.9288712,-0.4762978,0.9654,0.138,0.0839,80.6103,1,0.138,0.0,0.0,0.0,4,0.0,0.1521,0.0749,7.832,0.0, Const.10E10.04Z.spec, None,-1000.0,19,0.651607298002,0.120196561213,1,0.0,0.030792153774,,-86.633488298,0.00679900532217,,-0.0300321537801,,53.2204013599,-27.2898620736\r\n"
     ]
    }
   ],
   "source": [
    "!head snparams.csv"
   ]
  },
  {
   "cell_type": "code",
   "execution_count": 26,
   "metadata": {
    "collapsed": true
   },
   "outputs": [],
   "source": [
    "tsim.snparamdf.reset_index()[varlist].to_csv('HostedSN.csv', index=False)"
   ]
  },
  {
   "cell_type": "code",
   "execution_count": 27,
   "metadata": {
    "collapsed": false
   },
   "outputs": [
    {
     "data": {
      "text/html": [
       "<div>\n",
       "<table border=\"1\" class=\"dataframe\">\n",
       "  <thead>\n",
       "    <tr style=\"text-align: right;\">\n",
       "      <th></th>\n",
       "      <th>M</th>\n",
       "      <th>Mabs</th>\n",
       "      <th>c</th>\n",
       "      <th>mB</th>\n",
       "      <th>t0</th>\n",
       "      <th>x0</th>\n",
       "      <th>x1</th>\n",
       "      <th>z</th>\n",
       "      <th>id</th>\n",
       "      <th>galtileid</th>\n",
       "      <th>...</th>\n",
       "      <th>bulgeRadialPos</th>\n",
       "      <th>diskRadialPos</th>\n",
       "      <th>bulgeAngle</th>\n",
       "      <th>diskAngle</th>\n",
       "      <th>DeltaRaDisk</th>\n",
       "      <th>DeltaRaBulge</th>\n",
       "      <th>DeltaDecDisk</th>\n",
       "      <th>DeltaDecBulge</th>\n",
       "      <th>snra</th>\n",
       "      <th>sndec</th>\n",
       "    </tr>\n",
       "    <tr>\n",
       "      <th>snid</th>\n",
       "      <th></th>\n",
       "      <th></th>\n",
       "      <th></th>\n",
       "      <th></th>\n",
       "      <th></th>\n",
       "      <th></th>\n",
       "      <th></th>\n",
       "      <th></th>\n",
       "      <th></th>\n",
       "      <th></th>\n",
       "      <th></th>\n",
       "      <th></th>\n",
       "      <th></th>\n",
       "      <th></th>\n",
       "      <th></th>\n",
       "      <th></th>\n",
       "      <th></th>\n",
       "      <th></th>\n",
       "      <th></th>\n",
       "      <th></th>\n",
       "      <th></th>\n",
       "    </tr>\n",
       "  </thead>\n",
       "  <tbody>\n",
       "    <tr>\n",
       "      <th>8206769</th>\n",
       "      <td>0.165184</td>\n",
       "      <td>-19.369516</td>\n",
       "      <td>-0.025170</td>\n",
       "      <td>23.845774</td>\n",
       "      <td>62728.871253</td>\n",
       "      <td>0.000005</td>\n",
       "      <td>-0.783170</td>\n",
       "      <td>0.7286</td>\n",
       "      <td>8206769</td>\n",
       "      <td>60008206769</td>\n",
       "      <td>...</td>\n",
       "      <td>0.0</td>\n",
       "      <td>0.123480</td>\n",
       "      <td>NaN</td>\n",
       "      <td>-52.791583</td>\n",
       "      <td>-0.090504</td>\n",
       "      <td>NaN</td>\n",
       "      <td>-0.084002</td>\n",
       "      <td>NaN</td>\n",
       "      <td>53.208652</td>\n",
       "      <td>-27.291327</td>\n",
       "    </tr>\n",
       "    <tr>\n",
       "      <th>14159772</th>\n",
       "      <td>0.278276</td>\n",
       "      <td>-19.075427</td>\n",
       "      <td>-0.057076</td>\n",
       "      <td>25.395252</td>\n",
       "      <td>59590.365909</td>\n",
       "      <td>0.000001</td>\n",
       "      <td>-0.900533</td>\n",
       "      <td>1.1552</td>\n",
       "      <td>14159772</td>\n",
       "      <td>60014159772</td>\n",
       "      <td>...</td>\n",
       "      <td>0.0</td>\n",
       "      <td>0.016072</td>\n",
       "      <td>NaN</td>\n",
       "      <td>7.428601</td>\n",
       "      <td>-0.008900</td>\n",
       "      <td>NaN</td>\n",
       "      <td>0.013383</td>\n",
       "      <td>NaN</td>\n",
       "      <td>53.208376</td>\n",
       "      <td>-27.290750</td>\n",
       "    </tr>\n",
       "    <tr>\n",
       "      <th>2864869</th>\n",
       "      <td>0.736539</td>\n",
       "      <td>-18.621764</td>\n",
       "      <td>-0.225481</td>\n",
       "      <td>25.143418</td>\n",
       "      <td>63213.231719</td>\n",
       "      <td>0.000001</td>\n",
       "      <td>-0.259369</td>\n",
       "      <td>0.8922</td>\n",
       "      <td>2864869</td>\n",
       "      <td>60002864869</td>\n",
       "      <td>...</td>\n",
       "      <td>0.0</td>\n",
       "      <td>0.882331</td>\n",
       "      <td>NaN</td>\n",
       "      <td>58.315735</td>\n",
       "      <td>-0.549376</td>\n",
       "      <td>NaN</td>\n",
       "      <td>-0.690431</td>\n",
       "      <td>NaN</td>\n",
       "      <td>53.204026</td>\n",
       "      <td>-27.294257</td>\n",
       "    </tr>\n",
       "    <tr>\n",
       "      <th>8718460</th>\n",
       "      <td>-0.298495</td>\n",
       "      <td>-19.570323</td>\n",
       "      <td>0.060792</td>\n",
       "      <td>24.868692</td>\n",
       "      <td>61181.541954</td>\n",
       "      <td>0.000002</td>\n",
       "      <td>0.978256</td>\n",
       "      <td>1.1419</td>\n",
       "      <td>8718460</td>\n",
       "      <td>60008718460</td>\n",
       "      <td>...</td>\n",
       "      <td>0.0</td>\n",
       "      <td>0.206793</td>\n",
       "      <td>NaN</td>\n",
       "      <td>96.831652</td>\n",
       "      <td>0.061494</td>\n",
       "      <td>NaN</td>\n",
       "      <td>0.197439</td>\n",
       "      <td>NaN</td>\n",
       "      <td>53.207674</td>\n",
       "      <td>-27.286143</td>\n",
       "    </tr>\n",
       "    <tr>\n",
       "      <th>7898978</th>\n",
       "      <td>0.033437</td>\n",
       "      <td>-19.219225</td>\n",
       "      <td>0.013896</td>\n",
       "      <td>24.592289</td>\n",
       "      <td>59843.885293</td>\n",
       "      <td>0.000002</td>\n",
       "      <td>-0.700624</td>\n",
       "      <td>0.9075</td>\n",
       "      <td>7898978</td>\n",
       "      <td>60007898978</td>\n",
       "      <td>...</td>\n",
       "      <td>0.0</td>\n",
       "      <td>0.099051</td>\n",
       "      <td>NaN</td>\n",
       "      <td>156.324302</td>\n",
       "      <td>0.089029</td>\n",
       "      <td>NaN</td>\n",
       "      <td>0.043416</td>\n",
       "      <td>NaN</td>\n",
       "      <td>53.204129</td>\n",
       "      <td>-27.288226</td>\n",
       "    </tr>\n",
       "  </tbody>\n",
       "</table>\n",
       "<p>5 rows × 44 columns</p>\n",
       "</div>"
      ],
      "text/plain": [
       "                 M       Mabs         c         mB            t0        x0  \\\n",
       "snid                                                                         \n",
       "8206769   0.165184 -19.369516 -0.025170  23.845774  62728.871253  0.000005   \n",
       "14159772  0.278276 -19.075427 -0.057076  25.395252  59590.365909  0.000001   \n",
       "2864869   0.736539 -18.621764 -0.225481  25.143418  63213.231719  0.000001   \n",
       "8718460  -0.298495 -19.570323  0.060792  24.868692  61181.541954  0.000002   \n",
       "7898978   0.033437 -19.219225  0.013896  24.592289  59843.885293  0.000002   \n",
       "\n",
       "                x1       z        id    galtileid    ...      bulgeRadialPos  \\\n",
       "snid                                                 ...                       \n",
       "8206769  -0.783170  0.7286   8206769  60008206769    ...                 0.0   \n",
       "14159772 -0.900533  1.1552  14159772  60014159772    ...                 0.0   \n",
       "2864869  -0.259369  0.8922   2864869  60002864869    ...                 0.0   \n",
       "8718460   0.978256  1.1419   8718460  60008718460    ...                 0.0   \n",
       "7898978  -0.700624  0.9075   7898978  60007898978    ...                 0.0   \n",
       "\n",
       "          diskRadialPos  bulgeAngle   diskAngle  DeltaRaDisk  DeltaRaBulge  \\\n",
       "snid                                                                         \n",
       "8206769        0.123480         NaN  -52.791583    -0.090504           NaN   \n",
       "14159772       0.016072         NaN    7.428601    -0.008900           NaN   \n",
       "2864869        0.882331         NaN   58.315735    -0.549376           NaN   \n",
       "8718460        0.206793         NaN   96.831652     0.061494           NaN   \n",
       "7898978        0.099051         NaN  156.324302     0.089029           NaN   \n",
       "\n",
       "          DeltaDecDisk  DeltaDecBulge       snra      sndec  \n",
       "snid                                                         \n",
       "8206769      -0.084002            NaN  53.208652 -27.291327  \n",
       "14159772      0.013383            NaN  53.208376 -27.290750  \n",
       "2864869      -0.690431            NaN  53.204026 -27.294257  \n",
       "8718460       0.197439            NaN  53.207674 -27.286143  \n",
       "7898978       0.043416            NaN  53.204129 -27.288226  \n",
       "\n",
       "[5 rows x 44 columns]"
      ]
     },
     "execution_count": 27,
     "metadata": {},
     "output_type": "execute_result"
    }
   ],
   "source": [
    "tsim.snparamdf.head()"
   ]
  },
  {
   "cell_type": "code",
   "execution_count": null,
   "metadata": {
    "collapsed": true
   },
   "outputs": [],
   "source": []
  },
  {
   "cell_type": "code",
   "execution_count": 28,
   "metadata": {
    "collapsed": true
   },
   "outputs": [],
   "source": [
    "from sqlalchemy import create_engine\n",
    "engine = create_engine('sqlite:////Users/rbiswas/data/LSST/OpSimData/minion_1016_sqlite.db')\n",
    "pts = pd.read_sql_query('SELECT * FROM Summary WHERE FieldID == 1427', engine)\n",
    "pts.drop_duplicates(subset='obsHistID', inplace=True)"
   ]
  },
  {
   "cell_type": "code",
   "execution_count": 29,
   "metadata": {
    "collapsed": false
   },
   "outputs": [
    {
     "data": {
      "text/html": [
       "<div>\n",
       "<table border=\"1\" class=\"dataframe\">\n",
       "  <thead>\n",
       "    <tr style=\"text-align: right;\">\n",
       "      <th></th>\n",
       "      <th>obsHistID</th>\n",
       "      <th>sessionID</th>\n",
       "      <th>propID</th>\n",
       "      <th>fieldID</th>\n",
       "      <th>fieldRA</th>\n",
       "      <th>fieldDec</th>\n",
       "      <th>filter</th>\n",
       "      <th>expDate</th>\n",
       "      <th>expMJD</th>\n",
       "      <th>night</th>\n",
       "      <th>...</th>\n",
       "      <th>moonBright</th>\n",
       "      <th>darkBright</th>\n",
       "      <th>rawSeeing</th>\n",
       "      <th>wind</th>\n",
       "      <th>humidity</th>\n",
       "      <th>slewDist</th>\n",
       "      <th>slewTime</th>\n",
       "      <th>fiveSigmaDepth</th>\n",
       "      <th>ditheredRA</th>\n",
       "      <th>ditheredDec</th>\n",
       "    </tr>\n",
       "  </thead>\n",
       "  <tbody>\n",
       "    <tr>\n",
       "      <th>0</th>\n",
       "      <td>230</td>\n",
       "      <td>1016</td>\n",
       "      <td>56</td>\n",
       "      <td>1427</td>\n",
       "      <td>0.925184</td>\n",
       "      <td>-0.4789</td>\n",
       "      <td>r</td>\n",
       "      <td>12057</td>\n",
       "      <td>59580.139555</td>\n",
       "      <td>0</td>\n",
       "      <td>...</td>\n",
       "      <td>0.0</td>\n",
       "      <td>84.646287</td>\n",
       "      <td>0.866285</td>\n",
       "      <td>0.0</td>\n",
       "      <td>0.0</td>\n",
       "      <td>0.755889</td>\n",
       "      <td>140.0</td>\n",
       "      <td>24.070428</td>\n",
       "      <td>0.907976</td>\n",
       "      <td>-0.505351</td>\n",
       "    </tr>\n",
       "    <tr>\n",
       "      <th>1</th>\n",
       "      <td>231</td>\n",
       "      <td>1016</td>\n",
       "      <td>56</td>\n",
       "      <td>1427</td>\n",
       "      <td>0.925184</td>\n",
       "      <td>-0.4789</td>\n",
       "      <td>r</td>\n",
       "      <td>12093</td>\n",
       "      <td>59580.139972</td>\n",
       "      <td>0</td>\n",
       "      <td>...</td>\n",
       "      <td>0.0</td>\n",
       "      <td>84.969264</td>\n",
       "      <td>0.791241</td>\n",
       "      <td>0.0</td>\n",
       "      <td>0.0</td>\n",
       "      <td>0.000000</td>\n",
       "      <td>2.0</td>\n",
       "      <td>24.143180</td>\n",
       "      <td>0.907976</td>\n",
       "      <td>-0.505351</td>\n",
       "    </tr>\n",
       "    <tr>\n",
       "      <th>2</th>\n",
       "      <td>232</td>\n",
       "      <td>1016</td>\n",
       "      <td>56</td>\n",
       "      <td>1427</td>\n",
       "      <td>0.925184</td>\n",
       "      <td>-0.4789</td>\n",
       "      <td>r</td>\n",
       "      <td>12129</td>\n",
       "      <td>59580.140389</td>\n",
       "      <td>0</td>\n",
       "      <td>...</td>\n",
       "      <td>0.0</td>\n",
       "      <td>85.037385</td>\n",
       "      <td>0.791241</td>\n",
       "      <td>0.0</td>\n",
       "      <td>0.0</td>\n",
       "      <td>0.000000</td>\n",
       "      <td>2.0</td>\n",
       "      <td>24.141983</td>\n",
       "      <td>0.907976</td>\n",
       "      <td>-0.505351</td>\n",
       "    </tr>\n",
       "    <tr>\n",
       "      <th>3</th>\n",
       "      <td>233</td>\n",
       "      <td>1016</td>\n",
       "      <td>56</td>\n",
       "      <td>1427</td>\n",
       "      <td>0.925184</td>\n",
       "      <td>-0.4789</td>\n",
       "      <td>r</td>\n",
       "      <td>12165</td>\n",
       "      <td>59580.140805</td>\n",
       "      <td>0</td>\n",
       "      <td>...</td>\n",
       "      <td>0.0</td>\n",
       "      <td>85.105955</td>\n",
       "      <td>0.859965</td>\n",
       "      <td>0.0</td>\n",
       "      <td>0.0</td>\n",
       "      <td>0.000000</td>\n",
       "      <td>2.0</td>\n",
       "      <td>24.068792</td>\n",
       "      <td>0.907976</td>\n",
       "      <td>-0.505351</td>\n",
       "    </tr>\n",
       "    <tr>\n",
       "      <th>4</th>\n",
       "      <td>234</td>\n",
       "      <td>1016</td>\n",
       "      <td>56</td>\n",
       "      <td>1427</td>\n",
       "      <td>0.925184</td>\n",
       "      <td>-0.4789</td>\n",
       "      <td>r</td>\n",
       "      <td>12201</td>\n",
       "      <td>59580.141222</td>\n",
       "      <td>0</td>\n",
       "      <td>...</td>\n",
       "      <td>0.0</td>\n",
       "      <td>85.174974</td>\n",
       "      <td>0.859965</td>\n",
       "      <td>0.0</td>\n",
       "      <td>0.0</td>\n",
       "      <td>0.000000</td>\n",
       "      <td>2.0</td>\n",
       "      <td>24.067582</td>\n",
       "      <td>0.907976</td>\n",
       "      <td>-0.505351</td>\n",
       "    </tr>\n",
       "  </tbody>\n",
       "</table>\n",
       "<p>5 rows × 47 columns</p>\n",
       "</div>"
      ],
      "text/plain": [
       "   obsHistID  sessionID  propID  fieldID   fieldRA  fieldDec filter  expDate  \\\n",
       "0        230       1016      56     1427  0.925184   -0.4789      r    12057   \n",
       "1        231       1016      56     1427  0.925184   -0.4789      r    12093   \n",
       "2        232       1016      56     1427  0.925184   -0.4789      r    12129   \n",
       "3        233       1016      56     1427  0.925184   -0.4789      r    12165   \n",
       "4        234       1016      56     1427  0.925184   -0.4789      r    12201   \n",
       "\n",
       "         expMJD  night     ...       moonBright  darkBright  rawSeeing  wind  \\\n",
       "0  59580.139555      0     ...              0.0   84.646287   0.866285   0.0   \n",
       "1  59580.139972      0     ...              0.0   84.969264   0.791241   0.0   \n",
       "2  59580.140389      0     ...              0.0   85.037385   0.791241   0.0   \n",
       "3  59580.140805      0     ...              0.0   85.105955   0.859965   0.0   \n",
       "4  59580.141222      0     ...              0.0   85.174974   0.859965   0.0   \n",
       "\n",
       "   humidity  slewDist  slewTime  fiveSigmaDepth  ditheredRA  ditheredDec  \n",
       "0       0.0  0.755889     140.0       24.070428    0.907976    -0.505351  \n",
       "1       0.0  0.000000       2.0       24.143180    0.907976    -0.505351  \n",
       "2       0.0  0.000000       2.0       24.141983    0.907976    -0.505351  \n",
       "3       0.0  0.000000       2.0       24.068792    0.907976    -0.505351  \n",
       "4       0.0  0.000000       2.0       24.067582    0.907976    -0.505351  \n",
       "\n",
       "[5 rows x 47 columns]"
      ]
     },
     "execution_count": 29,
     "metadata": {},
     "output_type": "execute_result"
    }
   ],
   "source": [
    "pts.head()"
   ]
  },
  {
   "cell_type": "code",
   "execution_count": 30,
   "metadata": {
    "collapsed": false
   },
   "outputs": [],
   "source": [
    "class TwinSN(object):\n",
    "    def __init__(self, rng, snparamsDF, pointings, radius):\n",
    "        self.theta_c = - np.degrees(pointings.iloc[0].fieldDec) + 90.0\n",
    "        self.phi_c = np.degrees(pointings.iloc[0].fieldRA)\n",
    "        self.numSN = len(snparamsDF)\n",
    "        self.snParams = snparamsDF.copy().reset_index()\n",
    "        self.radius = radius\n",
    "        self.rng = rng\n",
    "        self._positions = None\n",
    "        self.varlist = ['id', 'galtileid', 'snid', 'snra', 'sndec', 't0', 'x0', 'x1', 'c', 'z']\n",
    "    def randomPositions(self, radius=None):\n",
    "        \"\"\"\n",
    "        Random positions on a sphere within angular radius set by parameter\n",
    "        or self.radius if radius is None of self.theta_c and self.phi_c\n",
    "        radius : float, units of degrees\n",
    "            max angular radius within which the points are being sampled\n",
    "        \"\"\"\n",
    "        if radius is None:\n",
    "            radius == self.radius\n",
    "        pos = Tiling.samplePatchOnSphere(phi=self.phi_c, \n",
    "                                         theta=self.theta_c,\n",
    "                                         delta=radius, size=2*self.numSN,\n",
    "                                         rng=self.rng )\n",
    "        positions = pd.DataFrame(dict(phi=pos[0], theta=pos[1]))\n",
    "        ang_c = hp.ang2vec(np.radians(self.theta_c), np.radians(self.phi_c))\n",
    "        angs = hp.ang2vec(positions.theta.apply(np.radians).values, \n",
    "                                positions.phi.apply(np.radians).values)\n",
    "        positions['vec'] = angs.tolist()\n",
    "        positions['cosRadius'] = np.dot(angs, ang_c)\n",
    "        positions['radius'] = np.degrees(np.arccos(positions.cosRadius))\n",
    "        positions['inreg'] = positions.cosRadius > np.cos(np.radians(radius))\n",
    "        return positions\n",
    "    @property\n",
    "    def selectedPositions(self):\n",
    "        if self._positions is None:\n",
    "            rand = self.randomPositions(self.radius)\n",
    "            self._positions = rand.query('inreg == True').iloc[:self.numSN]\n",
    "        return self._positions\n",
    "    \n",
    "    @property\n",
    "    def snra(self):\n",
    "        return self.selectedPositions.phi.values\n",
    "    \n",
    "    @property\n",
    "    def sndec(self):\n",
    "        return -self.selectedPositions.theta.values + 90.0\n",
    "    @property\n",
    "    def snids(self):\n",
    "        return self.snParams.reset_index().snid.values + np.int(1.0e8)\n",
    "\n",
    "    def writeFile(self, filename='hostLessSN.csv'):\n",
    "        self.snParams.snra = self.snra\n",
    "        self.snParams.sndec = self.sndec\n",
    "        self.snParams.snid = self.snids\n",
    "        self.snParams[self.varlist].to_csv(filename, index=False)"
   ]
  },
  {
   "cell_type": "code",
   "execution_count": 31,
   "metadata": {
    "collapsed": false
   },
   "outputs": [],
   "source": [
    "tsn = TwinSN(rng=np.random.RandomState(600), snparamsDF=tsim.snparamdf, pointings=pts.iloc[:5], \n",
    "            radius=0.3)"
   ]
  },
  {
   "cell_type": "code",
   "execution_count": 32,
   "metadata": {
    "collapsed": false
   },
   "outputs": [
    {
     "data": {
      "text/html": [
       "<div>\n",
       "<table border=\"1\" class=\"dataframe\">\n",
       "  <thead>\n",
       "    <tr style=\"text-align: right;\">\n",
       "      <th></th>\n",
       "      <th>snid</th>\n",
       "      <th>M</th>\n",
       "      <th>Mabs</th>\n",
       "      <th>c</th>\n",
       "      <th>mB</th>\n",
       "      <th>t0</th>\n",
       "      <th>x0</th>\n",
       "      <th>x1</th>\n",
       "      <th>z</th>\n",
       "      <th>id</th>\n",
       "      <th>...</th>\n",
       "      <th>bulgeRadialPos</th>\n",
       "      <th>diskRadialPos</th>\n",
       "      <th>bulgeAngle</th>\n",
       "      <th>diskAngle</th>\n",
       "      <th>DeltaRaDisk</th>\n",
       "      <th>DeltaRaBulge</th>\n",
       "      <th>DeltaDecDisk</th>\n",
       "      <th>DeltaDecBulge</th>\n",
       "      <th>snra</th>\n",
       "      <th>sndec</th>\n",
       "    </tr>\n",
       "  </thead>\n",
       "  <tbody>\n",
       "    <tr>\n",
       "      <th>0</th>\n",
       "      <td>8206769</td>\n",
       "      <td>0.165184</td>\n",
       "      <td>-19.369516</td>\n",
       "      <td>-0.025170</td>\n",
       "      <td>23.845774</td>\n",
       "      <td>62728.871253</td>\n",
       "      <td>0.000005</td>\n",
       "      <td>-0.783170</td>\n",
       "      <td>0.7286</td>\n",
       "      <td>8206769</td>\n",
       "      <td>...</td>\n",
       "      <td>0.0</td>\n",
       "      <td>0.123480</td>\n",
       "      <td>NaN</td>\n",
       "      <td>-52.791583</td>\n",
       "      <td>-0.090504</td>\n",
       "      <td>NaN</td>\n",
       "      <td>-0.084002</td>\n",
       "      <td>NaN</td>\n",
       "      <td>53.208652</td>\n",
       "      <td>-27.291327</td>\n",
       "    </tr>\n",
       "    <tr>\n",
       "      <th>1</th>\n",
       "      <td>14159772</td>\n",
       "      <td>0.278276</td>\n",
       "      <td>-19.075427</td>\n",
       "      <td>-0.057076</td>\n",
       "      <td>25.395252</td>\n",
       "      <td>59590.365909</td>\n",
       "      <td>0.000001</td>\n",
       "      <td>-0.900533</td>\n",
       "      <td>1.1552</td>\n",
       "      <td>14159772</td>\n",
       "      <td>...</td>\n",
       "      <td>0.0</td>\n",
       "      <td>0.016072</td>\n",
       "      <td>NaN</td>\n",
       "      <td>7.428601</td>\n",
       "      <td>-0.008900</td>\n",
       "      <td>NaN</td>\n",
       "      <td>0.013383</td>\n",
       "      <td>NaN</td>\n",
       "      <td>53.208376</td>\n",
       "      <td>-27.290750</td>\n",
       "    </tr>\n",
       "    <tr>\n",
       "      <th>2</th>\n",
       "      <td>2864869</td>\n",
       "      <td>0.736539</td>\n",
       "      <td>-18.621764</td>\n",
       "      <td>-0.225481</td>\n",
       "      <td>25.143418</td>\n",
       "      <td>63213.231719</td>\n",
       "      <td>0.000001</td>\n",
       "      <td>-0.259369</td>\n",
       "      <td>0.8922</td>\n",
       "      <td>2864869</td>\n",
       "      <td>...</td>\n",
       "      <td>0.0</td>\n",
       "      <td>0.882331</td>\n",
       "      <td>NaN</td>\n",
       "      <td>58.315735</td>\n",
       "      <td>-0.549376</td>\n",
       "      <td>NaN</td>\n",
       "      <td>-0.690431</td>\n",
       "      <td>NaN</td>\n",
       "      <td>53.204026</td>\n",
       "      <td>-27.294257</td>\n",
       "    </tr>\n",
       "    <tr>\n",
       "      <th>3</th>\n",
       "      <td>8718460</td>\n",
       "      <td>-0.298495</td>\n",
       "      <td>-19.570323</td>\n",
       "      <td>0.060792</td>\n",
       "      <td>24.868692</td>\n",
       "      <td>61181.541954</td>\n",
       "      <td>0.000002</td>\n",
       "      <td>0.978256</td>\n",
       "      <td>1.1419</td>\n",
       "      <td>8718460</td>\n",
       "      <td>...</td>\n",
       "      <td>0.0</td>\n",
       "      <td>0.206793</td>\n",
       "      <td>NaN</td>\n",
       "      <td>96.831652</td>\n",
       "      <td>0.061494</td>\n",
       "      <td>NaN</td>\n",
       "      <td>0.197439</td>\n",
       "      <td>NaN</td>\n",
       "      <td>53.207674</td>\n",
       "      <td>-27.286143</td>\n",
       "    </tr>\n",
       "    <tr>\n",
       "      <th>4</th>\n",
       "      <td>7898978</td>\n",
       "      <td>0.033437</td>\n",
       "      <td>-19.219225</td>\n",
       "      <td>0.013896</td>\n",
       "      <td>24.592289</td>\n",
       "      <td>59843.885293</td>\n",
       "      <td>0.000002</td>\n",
       "      <td>-0.700624</td>\n",
       "      <td>0.9075</td>\n",
       "      <td>7898978</td>\n",
       "      <td>...</td>\n",
       "      <td>0.0</td>\n",
       "      <td>0.099051</td>\n",
       "      <td>NaN</td>\n",
       "      <td>156.324302</td>\n",
       "      <td>0.089029</td>\n",
       "      <td>NaN</td>\n",
       "      <td>0.043416</td>\n",
       "      <td>NaN</td>\n",
       "      <td>53.204129</td>\n",
       "      <td>-27.288226</td>\n",
       "    </tr>\n",
       "  </tbody>\n",
       "</table>\n",
       "<p>5 rows × 45 columns</p>\n",
       "</div>"
      ],
      "text/plain": [
       "       snid         M       Mabs         c         mB            t0        x0  \\\n",
       "0   8206769  0.165184 -19.369516 -0.025170  23.845774  62728.871253  0.000005   \n",
       "1  14159772  0.278276 -19.075427 -0.057076  25.395252  59590.365909  0.000001   \n",
       "2   2864869  0.736539 -18.621764 -0.225481  25.143418  63213.231719  0.000001   \n",
       "3   8718460 -0.298495 -19.570323  0.060792  24.868692  61181.541954  0.000002   \n",
       "4   7898978  0.033437 -19.219225  0.013896  24.592289  59843.885293  0.000002   \n",
       "\n",
       "         x1       z        id    ...      bulgeRadialPos  diskRadialPos  \\\n",
       "0 -0.783170  0.7286   8206769    ...                 0.0       0.123480   \n",
       "1 -0.900533  1.1552  14159772    ...                 0.0       0.016072   \n",
       "2 -0.259369  0.8922   2864869    ...                 0.0       0.882331   \n",
       "3  0.978256  1.1419   8718460    ...                 0.0       0.206793   \n",
       "4 -0.700624  0.9075   7898978    ...                 0.0       0.099051   \n",
       "\n",
       "   bulgeAngle   diskAngle  DeltaRaDisk  DeltaRaBulge  DeltaDecDisk  \\\n",
       "0         NaN  -52.791583    -0.090504           NaN     -0.084002   \n",
       "1         NaN    7.428601    -0.008900           NaN      0.013383   \n",
       "2         NaN   58.315735    -0.549376           NaN     -0.690431   \n",
       "3         NaN   96.831652     0.061494           NaN      0.197439   \n",
       "4         NaN  156.324302     0.089029           NaN      0.043416   \n",
       "\n",
       "   DeltaDecBulge       snra      sndec  \n",
       "0            NaN  53.208652 -27.291327  \n",
       "1            NaN  53.208376 -27.290750  \n",
       "2            NaN  53.204026 -27.294257  \n",
       "3            NaN  53.207674 -27.286143  \n",
       "4            NaN  53.204129 -27.288226  \n",
       "\n",
       "[5 rows x 45 columns]"
      ]
     },
     "execution_count": 32,
     "metadata": {},
     "output_type": "execute_result"
    }
   ],
   "source": [
    "tsn.snParams.head()"
   ]
  },
  {
   "cell_type": "code",
   "execution_count": 37,
   "metadata": {
    "collapsed": false
   },
   "outputs": [],
   "source": [
    "tsn.writeFile()"
   ]
  },
  {
   "cell_type": "code",
   "execution_count": 38,
   "metadata": {
    "collapsed": false
   },
   "outputs": [
    {
     "name": "stdout",
     "output_type": "stream",
     "text": [
      "id,galtileid,snid,snra,sndec,t0,x0,x1,c,z\r\n",
      "8206769,60008206769,108206769,53.073083396,-27.6826882565,62728.8712531,4.59792198492e-06,-0.783169749492,-0.0251703394203,0.7286\r\n",
      "14159772,60014159772,114159772,53.0030879645,-27.6786437027,59590.3659091,1.10382247296e-06,-0.900532779362,-0.0570757582693,1.1552\r\n",
      "2864869,60002864869,102864869,52.8665611188,-27.5702914454,63213.231719,1.38570732199e-06,-0.259368922661,-0.225480533471,0.8922\r\n",
      "8718460,60008718460,108718460,53.0035349868,-27.4658180211,61181.541954,1.7803248928e-06,0.978255580335,0.0607921573632,1.1419\r\n",
      "7898978,60007898978,107898978,53.2039930689,-27.4107822763,59843.8852934,2.31118898225e-06,-0.70062428187,0.0138955427337,0.9075\r\n",
      "2654618,60002654618,102654618,53.2156478827,-27.3933047274,62517.0925188,1.99906761434e-06,-0.0707924087456,0.0852891659243,1.1024\r\n",
      "2485645,60002485645,102485645,52.8582473381,-27.5880295478,61520.2450358,3.07614646054e-06,-0.142130466844,-0.0378608705683,0.754\r\n",
      "734644,60000734644,100734644,53.0445462823,-27.7035403681,62106.4116043,1.88709714029e-06,-0.455548646958,-0.181897507398,0.7626\r\n",
      "3631521,60003631521,103631521,53.0767741982,-27.4480746476,60938.222374,3.27334293117e-06,1.85133138006,0.112999898096,0.9654\r\n"
     ]
    }
   ],
   "source": [
    "!head hostLessSN.csv"
   ]
  },
  {
   "cell_type": "markdown",
   "metadata": {},
   "source": [
    "## Statistics"
   ]
  },
  {
   "cell_type": "code",
   "execution_count": 41,
   "metadata": {
    "collapsed": false
   },
   "outputs": [],
   "source": [
    "df = pd.concat([tsn.snParams[tsn.varlist], tsim.snparamdf.reset_index()[varlist]])"
   ]
  },
  {
   "cell_type": "code",
   "execution_count": 44,
   "metadata": {
    "collapsed": false
   },
   "outputs": [
    {
     "data": {
      "text/plain": [
       "59263.0"
      ]
     },
     "execution_count": 44,
     "metadata": {},
     "output_type": "execute_result"
    }
   ],
   "source": [
    "len(df)/2.0"
   ]
  },
  {
   "cell_type": "code",
   "execution_count": 45,
   "metadata": {
    "collapsed": false
   },
   "outputs": [
    {
     "data": {
      "text/plain": [
       "True"
      ]
     },
     "execution_count": 45,
     "metadata": {},
     "output_type": "execute_result"
    }
   ],
   "source": [
    "df.snid.unique().size == len(df)"
   ]
  },
  {
   "cell_type": "code",
   "execution_count": 46,
   "metadata": {
    "collapsed": true
   },
   "outputs": [],
   "source": [
    "df.rem = df.snid - df.id"
   ]
  },
  {
   "cell_type": "code",
   "execution_count": 47,
   "metadata": {
    "collapsed": false
   },
   "outputs": [
    {
     "data": {
      "text/plain": [
       "array([100000000,         0])"
      ]
     },
     "execution_count": 47,
     "metadata": {},
     "output_type": "execute_result"
    }
   ],
   "source": [
    "df.rem.unique()"
   ]
  },
  {
   "cell_type": "code",
   "execution_count": 48,
   "metadata": {
    "collapsed": false
   },
   "outputs": [
    {
     "data": {
      "text/plain": [
       "count    118526.000000\n",
       "mean         53.009794\n",
       "std           0.163720\n",
       "min          52.671219\n",
       "25%          52.877115\n",
       "50%          53.010570\n",
       "75%          53.142580\n",
       "max          53.347177\n",
       "Name: snra, dtype: float64"
      ]
     },
     "execution_count": 48,
     "metadata": {},
     "output_type": "execute_result"
    }
   ],
   "source": [
    "df.snra.describe()"
   ]
  },
  {
   "cell_type": "code",
   "execution_count": 49,
   "metadata": {
    "collapsed": false
   },
   "outputs": [
    {
     "data": {
      "text/plain": [
       "count    118526.000000\n",
       "mean        -27.438723\n",
       "std           0.151069\n",
       "min         -27.738737\n",
       "25%         -27.561898\n",
       "50%         -27.439129\n",
       "75%         -27.314991\n",
       "max         -27.139242\n",
       "Name: sndec, dtype: float64"
      ]
     },
     "execution_count": 49,
     "metadata": {},
     "output_type": "execute_result"
    }
   ],
   "source": [
    "df.sndec.describe()"
   ]
  },
  {
   "cell_type": "code",
   "execution_count": 50,
   "metadata": {
    "collapsed": true
   },
   "outputs": [],
   "source": [
    "binsize = 128 * 0.2 /3600."
   ]
  },
  {
   "cell_type": "code",
   "execution_count": 59,
   "metadata": {
    "collapsed": true
   },
   "outputs": [],
   "source": [
    "df['raind'] = (df.snra - 52.65 ) // binsize\n",
    "df['decind'] = (df.snra - -27.75 ) // binsize\n",
    "df['t0ind']  = (df.t0 - 59580.) // 50.0"
   ]
  },
  {
   "cell_type": "code",
   "execution_count": 60,
   "metadata": {
    "collapsed": true
   },
   "outputs": [],
   "source": [
    "df.raind = df.raind.astype(int)\n",
    "df.decind = df.decind.astype(int)\n",
    "df.t0ind = df.t0ind.astype(int)"
   ]
  },
  {
   "cell_type": "code",
   "execution_count": 61,
   "metadata": {
    "collapsed": false
   },
   "outputs": [
    {
     "data": {
      "text/plain": [
       "Index([u'id', u'galtileid', u'snid', u'snra', u'sndec', u't0', u'x0', u'x1',\n",
       "       u'c', u'z', u'raind', u'decind', u't0ind'],\n",
       "      dtype='object')"
      ]
     },
     "execution_count": 61,
     "metadata": {},
     "output_type": "execute_result"
    }
   ],
   "source": [
    "df.columns"
   ]
  },
  {
   "cell_type": "code",
   "execution_count": 80,
   "metadata": {
    "collapsed": false
   },
   "outputs": [],
   "source": [
    "grouped = df.groupby(['raind', 'decind', 't0ind'])"
   ]
  },
  {
   "cell_type": "code",
   "execution_count": 81,
   "metadata": {
    "collapsed": false
   },
   "outputs": [],
   "source": [
    "counts = grouped.z.count()"
   ]
  },
  {
   "cell_type": "code",
   "execution_count": 85,
   "metadata": {
    "collapsed": false
   },
   "outputs": [
    {
     "name": "stderr",
     "output_type": "stream",
     "text": [
      "/usr/local/miniconda/lib/python2.7/site-packages/ipykernel/__main__.py:1: FutureWarning: sort is deprecated, use sort_values(inplace=True) for INPLACE sorting\n",
      "  if __name__ == '__main__':\n"
     ]
    }
   ],
   "source": [
    "counts.sort()"
   ]
  },
  {
   "cell_type": "code",
   "execution_count": 87,
   "metadata": {
    "collapsed": false
   },
   "outputs": [
    {
     "data": {
      "text/plain": [
       "raind  decind   t0ind\n",
       "2.0    11309.0  2.0      False\n",
       "94.0   11401.0  18.0     False\n",
       "                15.0     False\n",
       "                13.0     False\n",
       "                12.0     False\n",
       "                11.0     False\n",
       "                10.0     False\n",
       "       11400.0  44.0     False\n",
       "       11401.0  8.0      False\n",
       "                5.0      False\n",
       "       11400.0  45.0     False\n",
       "       11401.0  4.0      False\n",
       "       11400.0  70.0     False\n",
       "                67.0     False\n",
       "                52.0     False\n",
       "       11401.0  7.0      False\n",
       "92.0   11399.0  26.0     False\n",
       "93.0   11400.0  44.0     False\n",
       "                36.0     False\n",
       "       11399.0  1.0      False\n",
       "92.0   11399.0  70.0     False\n",
       "94.0   11401.0  2.0      False\n",
       "       11400.0  42.0     False\n",
       "93.0   11400.0  47.0     False\n",
       "                62.0     False\n",
       "89.0   11395.0  40.0     False\n",
       "88.0   11395.0  54.0     False\n",
       "                27.0     False\n",
       "89.0   11396.0  20.0     False\n",
       "94.0   11401.0  22.0     False\n",
       "                         ...  \n",
       "23.0   11329.0  45.0     False\n",
       "56.0   11362.0  57.0     False\n",
       "66.0   11372.0  60.0     False\n",
       "44.0   11350.0  66.0     False\n",
       "62.0   11368.0  26.0     False\n",
       "67.0   11373.0  9.0      False\n",
       "42.0   11348.0  46.0     False\n",
       "73.0   11379.0  13.0     False\n",
       "34.0   11340.0  6.0      False\n",
       "41.0   11347.0  70.0     False\n",
       "44.0   11350.0  21.0     False\n",
       "45.0   11351.0  63.0     False\n",
       "51.0   11357.0  7.0      False\n",
       "40.0   11346.0  29.0     False\n",
       "48.0   11354.0  9.0      False\n",
       "51.0   11357.0  50.0     False\n",
       "60.0   11366.0  7.0      False\n",
       "68.0   11374.0  43.0     False\n",
       "49.0   11355.0  57.0     False\n",
       "50.0   11356.0  31.0     False\n",
       "54.0   11360.0  44.0     False\n",
       "49.0   11355.0  28.0     False\n",
       "58.0   11364.0  17.0     False\n",
       "57.0   11363.0  30.0     False\n",
       "52.0   11358.0  9.0      False\n",
       "37.0   11343.0  39.0     False\n",
       "48.0   11354.0  1.0      False\n",
       "                20.0     False\n",
       "57.0   11363.0  8.0      False\n",
       "51.0   11357.0  19.0     False\n",
       "Name: z, dtype: bool"
      ]
     },
     "execution_count": 87,
     "metadata": {},
     "output_type": "execute_result"
    }
   ],
   "source": [
    "counts.query"
   ]
  },
  {
   "cell_type": "code",
   "execution_count": 83,
   "metadata": {
    "collapsed": false
   },
   "outputs": [
    {
     "data": {
      "text/plain": [
       "13336"
      ]
     },
     "execution_count": 83,
     "metadata": {},
     "output_type": "execute_result"
    }
   ],
   "source": [
    "np.bincount(counts).sum()"
   ]
  },
  {
   "cell_type": "code",
   "execution_count": 84,
   "metadata": {
    "collapsed": false
   },
   "outputs": [
    {
     "data": {
      "text/plain": [
       "<Container object of 3 artists>"
      ]
     },
     "execution_count": 84,
     "metadata": {},
     "output_type": "execute_result"
    },
    {
     "data": {
      "image/png": "[encoded data removed]",
      "text/plain": [
       "<matplotlib.figure.Figure at 0x11b4c5ed0>"
      ]
     },
     "metadata": {},
     "output_type": "display_data"
    }
   ],
   "source": [
    "plt.stem(counts.unique())"
   ]
  },
  {
   "cell_type": "code",
   "execution_count": 91,
   "metadata": {
    "collapsed": false
   },
   "outputs": [
    {
     "data": {
      "text/plain": [
       "<matplotlib.text.Text at 0x139821b50>"
      ]
     },
     "execution_count": 91,
     "metadata": {},
     "output_type": "execute_result"
    },
    {
     "data": {
      "image/png": "[encoded data removed]",
      "text/plain": [
       "<matplotlib.figure.Figure at 0x139563610>"
      ]
     },
     "metadata": {},
     "output_type": "display_data"
    }
   ],
   "source": [
    "fig, ax = plt.subplots()\n",
    "df.z.hist(bins=np.arange(0.,1.8, 0.05), histtype='step', lw=2, ax=ax)\n",
    "ax.set_xlabel('z')\n",
    "ax.set_ylabel('numbers of SN')"
   ]
  },
  {
   "cell_type": "code",
   "execution_count": 96,
   "metadata": {
    "collapsed": false
   },
   "outputs": [
    {
     "data": {
      "text/plain": [
       "[<matplotlib.lines.Line2D at 0x13a34db90>]"
      ]
     },
     "execution_count": 96,
     "metadata": {},
     "output_type": "execute_result"
    },
    {
     "data": {
      "image/png": "[encoded data removed]",
      "text/plain": [
       "<matplotlib.figure.Figure at 0x13a34db50>"
      ]
     },
     "metadata": {},
     "output_type": "display_data"
    }
   ],
   "source": [
    "fig, ax = plt.subplots()\n",
    "ax.plot(df.z, -2.5 * np.log10(df.x0) - cosmo.distmod(df.z) +29.7, 'o')"
   ]
  },
  {
   "cell_type": "code",
   "execution_count": 97,
   "metadata": {
    "collapsed": true
   },
   "outputs": [],
   "source": [
    "import analyzeSN as ans"
   ]
  },
  {
   "cell_type": "code",
   "execution_count": 98,
   "metadata": {
    "collapsed": true
   },
   "outputs": [],
   "source": [
    "import sncosmo"
   ]
  }
 ],
 "metadata": {
  "anaconda-cloud": {},
  "kernelspec": {
   "display_name": "Python [default]",
   "language": "python",
   "name": "python2"
  },
  "language_info": {
   "codemirror_mode": {
    "name": "ipython",
    "version": 2
   },
   "file_extension": ".py",
   "mimetype": "text/x-python",
   "name": "python",
   "nbconvert_exporter": "python",
   "pygments_lexer": "ipython2",
   "version": "2.7.12"
  }
 },
 "nbformat": 4,
 "nbformat_minor": 1
}
