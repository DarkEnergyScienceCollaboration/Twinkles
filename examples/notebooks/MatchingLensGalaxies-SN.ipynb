{
 "cells": [
  {
   "cell_type": "markdown",
   "metadata": {},
   "source": [
    "# Matching Gravitationally Lensed SNe (GLSNe) Lens Galaxies to CosmoDC2 galaxies\n",
    "\n",
    "Last updated: _Bryce Kalmbach, December 2018_\n",
    "\n",
    "Danny Goldstein's latest strongly lensed SNe catalog has all the properties needed to replace galaxies from DC2 with the sprinkler except for SEDs and CatSim magNorm values for the lens galaxies. This notebook matches the lensed SNe lens galaxies to a DC2 galaxy then uses `sims_GCRCatSimInterface` and the given 'i-band' magnitude from the lens catalog to calculate an appropriate magNorm value and SED.\n",
    "\n",
    "\n",
    "## Requirements\n",
    "\n",
    "You will need `gcrCatalogs`, `GCR`, `pandas`, `numpy` and `matplotlib`"
   ]
  },
  {
   "cell_type": "code",
   "execution_count": 1,
   "metadata": {
    "collapsed": false
   },
   "outputs": [],
   "source": [
    "import numpy as np\n",
    "import pandas as pd\n",
    "import matplotlib as mpl\n",
    "mpl.rcParams['text.usetex'] = False\n",
    "from matplotlib import pyplot as plt\n",
    "import os\n",
    "from lsst.sims.photUtils import Sed, Bandpass, BandpassDict, getImsimFluxNorm\n",
    "\n",
    "%matplotlib inline"
   ]
  },
  {
   "cell_type": "markdown",
   "metadata": {},
   "source": [
    "Set the `gcr-catalog` version you need below and all names of outputs will be consistent."
   ]
  },
  {
   "cell_type": "code",
   "execution_count": 2,
   "metadata": {},
   "outputs": [],
   "source": [
    "catalog_version = 'cosmoDC2_v1.1.4'"
   ]
  },
  {
   "cell_type": "markdown",
   "metadata": {},
   "source": [
    "#### Load up the input lensed SNe catalogs"
   ]
  },
  {
   "cell_type": "code",
   "execution_count": 3,
   "metadata": {},
   "outputs": [],
   "source": [
    "dc2_df_system = pd.read_hdf('/global/cscratch1/sd/brycek/glsne_dc2_v2.h5', key='system')\n",
    "dc2_df_image = pd.read_hdf('/global/cscratch1/sd/brycek/glsne_dc2_v2.h5', key='image')"
   ]
  },
  {
   "cell_type": "code",
   "execution_count": 4,
   "metadata": {},
   "outputs": [],
   "source": [
    "import GCRCatalogs\n",
    "import pandas as pd\n",
    "from GCR import GCRQuery"
   ]
  },
  {
   "cell_type": "markdown",
   "metadata": {},
   "source": [
    "#### Choose an area of the DC2 catalog to use for matching galaxies"
   ]
  },
  {
   "cell_type": "code",
   "execution_count": 5,
   "metadata": {},
   "outputs": [],
   "source": [
    "# _small version of cosmoDC2 catalog will work for this\n",
    "catalog = GCRCatalogs.load_catalog('%s_small' % catalog_version)"
   ]
  },
  {
   "cell_type": "code",
   "execution_count": 6,
   "metadata": {},
   "outputs": [
    {
     "data": {
      "text/plain": [
       "t0                               62307.9\n",
       "sigma                             197.67\n",
       "gamma                           0.128101\n",
       "e                               0.570391\n",
       "theta_e                          132.165\n",
       "theta_gamma                       135.21\n",
       "zs                              0.435736\n",
       "zl                              0.152485\n",
       "snx                            -0.136216\n",
       "sny                             0.144903\n",
       "MB                              -19.3306\n",
       "transient_amplitude          7.78584e-10\n",
       "sysno                               2237\n",
       "sntype                                1a\n",
       "ebvhost                        0.0735387\n",
       "ra                               132.817\n",
       "dec                             -34.6162\n",
       "ebvmw                           0.283343\n",
       "weight                       0.000133177\n",
       "host_n                                 1\n",
       "host_ellip                          0.84\n",
       "host_reff                       0.810876\n",
       "host_theta                       5.70672\n",
       "host_amplitude               4.93238e-17\n",
       "host_type                      kinney-sc\n",
       "host_x                          -1.27503\n",
       "host_y                         -0.985977\n",
       "lensgal_n                              4\n",
       "lensgal_ellip                   0.570391\n",
       "lensgal_reff                     1.87389\n",
       "lensgal_theta                    132.165\n",
       "lensgal_amplitude             3.1839e-16\n",
       "lensgal_type           kinney-elliptical\n",
       "lensgal_x                              0\n",
       "lensgal_y                              0\n",
       "t_found                            62310\n",
       "lensgal_mi                       17.0636\n",
       "x0                           1.48994e-05\n",
       "x1                                     0\n",
       "c                                      0\n",
       "Name: 0, dtype: object"
      ]
     },
     "execution_count": 6,
     "metadata": {},
     "output_type": "execute_result"
    }
   ],
   "source": [
    "# Example lens catalog row.\n",
    "dc2_df_system.iloc[0]"
   ]
  },
  {
   "cell_type": "markdown",
   "metadata": {},
   "source": [
    "#### Get all the galaxies from the catalog that are within the redshift range and i-band magnitude range of the lens galaxies"
   ]
  },
  {
   "cell_type": "code",
   "execution_count": 8,
   "metadata": {},
   "outputs": [
    {
     "name": "stdout",
     "output_type": "stream",
     "text": [
      "0.011915068367 1.25738633782 26.4773769233 9.67143111596\n",
      "   ellipticity_true   galaxy_id  glsne_ellipticity  mag_true_i_lsst  \\\n",
      "0          0.075315  9687500004           0.136040        13.786592   \n",
      "1          0.005007  9687500020           0.008057        22.904373   \n",
      "2          0.105313  9687500071           0.187517        17.511059   \n",
      "3          0.002713  9687500132           0.005073        13.714972   \n",
      "4          0.002707  9687500358           0.004682        23.878742   \n",
      "5          0.003827  9687500572           0.007427        24.735893   \n",
      "6          0.042247  9687500594           0.078499        24.607769   \n",
      "7          0.103312  9687500672           0.184048        23.320194   \n",
      "8          0.043307  9687500787           0.072587        23.734764   \n",
      "9          0.004769  9687500849           0.008816        23.580084   \n",
      "\n",
      "   redshift_true  size_bulge_true  size_minor_bulge_true  \n",
      "0       0.021042         6.417689               5.544625  \n",
      "1       0.019712         0.292345               0.289990  \n",
      "2       0.047006         1.264354               1.027265  \n",
      "3       0.042616         6.765470               6.731152  \n",
      "4       0.030751         0.139221               0.138569  \n",
      "5       0.042705         0.231954               0.230232  \n",
      "6       0.047629         0.113339               0.104442  \n",
      "7       0.059404         0.225350               0.183875  \n",
      "8       0.052336         0.082933               0.076913  \n",
      "9       0.065349         0.135745               0.134548  \n",
      "CPU times: user 9.37 s, sys: 11.7 s, total: 21.1 s\n",
      "Wall time: 57.8 s\n"
     ]
    }
   ],
   "source": [
    "%%time\n",
    "z_cat_min = np.power(10, np.log10(np.min(dc2_df_system['zl'])) - .1)\n",
    "z_cat_max = np.power(10, np.log10(np.max(dc2_df_system['zl'])) + .1)\n",
    "\n",
    "i_gal_dim = np.max(-2.5*np.log10(np.power(10, -0.4*dc2_df_system['lensgal_mi'])*.9))\n",
    "i_gal_bright = np.min(-2.5*np.log10(np.power(10, -0.4*dc2_df_system['lensgal_mi'])*1.1))\n",
    "\n",
    "print(z_cat_min, z_cat_max, i_gal_dim, i_gal_bright)\n",
    "\n",
    "data = catalog.get_quantities(['galaxy_id', 'redshift_true', 'ellipticity_true', 'mag_true_i_lsst',\n",
    "                               'size_minor_bulge_true', 'size_bulge_true'],\n",
    "                              filters=['mag_true_i_lsst > %f' % i_gal_bright,\n",
    "                                       'mag_true_i_lsst < %f' % i_gal_dim,\n",
    "                                       'redshift_true > %f' % z_cat_min, 'redshift_true < %f' % z_cat_max,\n",
    "                                       'stellar_mass_bulge/stellar_mass > 0.99'])\n",
    "\n",
    "data['glsne_ellipticity'] = (1-(data['size_minor_bulge_true']/data['size_bulge_true']))\n",
    "\n",
    "\n",
    "data_df = pd.DataFrame(data)\n",
    "print(data_df.head(10))"
   ]
  },
  {
   "cell_type": "code",
   "execution_count": 9,
   "metadata": {},
   "outputs": [],
   "source": [
    "data_df.to_csv('sn_matching_checkpoint_1.csv', index=False)"
   ]
  },
  {
   "cell_type": "code",
   "execution_count": 10,
   "metadata": {},
   "outputs": [],
   "source": [
    "#data_df = pd.read_csv('sn_matching_checkpoint_1.csv')"
   ]
  },
  {
   "cell_type": "markdown",
   "metadata": {},
   "source": [
    "#### Use this set of DC2 galaxies to then match to each lens galaxy in the catalog based upon redshift and i-band apparent magnitude"
   ]
  },
  {
   "cell_type": "code",
   "execution_count": 11,
   "metadata": {},
   "outputs": [
    {
     "name": "stdout",
     "output_type": "stream",
     "text": [
      "0\n",
      "10000\n",
      "20000\n",
      "30000\n",
      "40000\n",
      "50000\n",
      "60000\n",
      "70000\n",
      "80000\n",
      "90000\n",
      "100000\n",
      "110000\n",
      "120000\n",
      "130000\n",
      "140000\n",
      "150000\n",
      "160000\n",
      "170000\n",
      "180000\n",
      "190000\n",
      "Total Match Failures:  20578  Percentage Match Failures:  0.10455291409874047\n",
      "CPU times: user 1h 6min 25s, sys: 15 s, total: 1h 6min 40s\n",
      "Wall time: 46min 1s\n"
     ]
    }
   ],
   "source": [
    "%%time\n",
    "gcr_glsn_match = []\n",
    "err = 0\n",
    "np.random.seed(10)\n",
    "i = 0\n",
    "\n",
    "row_num = -1\n",
    "keep_rows = []\n",
    "num_match_total = []\n",
    "\n",
    "for zsrc, i_mag_star in zip(dc2_df_system['zl'].values,\n",
    "                            dc2_df_system['lensgal_mi'].values):\n",
    "\n",
    "    row_num += 1\n",
    "    #print(zsrc, m_star, ellip)\n",
    "    if row_num % 10000 == 0:\n",
    "        print(row_num)\n",
    "\n",
    "    z_min, z_max = np.power(10, np.log10(zsrc) - .1), np.power(10, np.log10(zsrc) + .1)\n",
    "    i_mag_dim, i_mag_bright = -2.5*np.log10(np.power(10, -0.4*i_mag_star)*.9),\\\n",
    "                              -2.5*np.log10(np.power(10, -0.4*i_mag_star)*1.1)\n",
    "    #ellip_min, ellip_max = ellip*.9, ellip*1.1\n",
    "    #r_major = r_eff / np.sqrt(1 - ellip)\n",
    "    #r_major_max, r_major_min = r_major*1.1, r_major*.9\n",
    "    \n",
    "    \n",
    "    #print(z_min, z_max, i_mag_min, i_mag_max, ellip_min, ellip_max)\n",
    "    \n",
    "    data_subset = data_df.query('redshift_true > %f and redshift_true < %f ' % (z_min, z_max)\n",
    "                                + 'and mag_true_i_lsst > %f and mag_true_i_lsst < %f ' % (i_mag_bright, i_mag_dim)\n",
    "                                #+ 'and glsne_ellipticity > %f and glsne_ellipticity < %f' % (ellip_min, ellip_max)\n",
    "                                #+ 'and size_bulge_true > %f and size_bulge_true < %f' % (r_major_min, r_major_max)\n",
    "                               )\n",
    "    \n",
    "    num_matches = len(data_subset['redshift_true'])\n",
    "\n",
    "    num_match_total.append(num_matches)\n",
    "    \n",
    "    if num_matches == 0:\n",
    "        err += 1\n",
    "        continue\n",
    "    elif num_matches == 1:\n",
    "        gcr_data = [data_subset['redshift_true'].values[0], \n",
    "                    data_subset['galaxy_id'].values[0]]\n",
    "        gcr_glsn_match.append(gcr_data)\n",
    "        keep_rows.append(row_num)\n",
    "    elif num_matches > 1:\n",
    "        use_idx = np.random.choice(num_matches)\n",
    "        gcr_data = [data_subset['redshift_true'].values[use_idx],\n",
    "                    data_subset['galaxy_id'].values[use_idx]]\n",
    "        gcr_glsn_match.append(gcr_data)\n",
    "        keep_rows.append(row_num)\n",
    "        \n",
    "print(\"Total Match Failures: \", err, \" Percentage Match Failures: \", np.float(err)/len(dc2_df_system))"
   ]
  },
  {
   "cell_type": "code",
   "execution_count": 12,
   "metadata": {},
   "outputs": [],
   "source": [
    "gcr_glsn_match = np.array(gcr_glsn_match)\n",
    "keep_rows = np.array(keep_rows)"
   ]
  },
  {
   "cell_type": "code",
   "execution_count": 13,
   "metadata": {},
   "outputs": [
    {
     "data": {
      "text/plain": [
       "(array([ 37711.,  38163.,  25932.,  22771.,  14709.,   9800.,   7630.,\n",
       "          5778.,   3581.,   2762.,   2280.,   1528.,    981.,    651.,\n",
       "           511.,    417.,    295.,    226.,    151.,    127.]),\n",
       " array([ 0.01500018,  0.06418905,  0.11337791,  0.16256678,  0.21175564,\n",
       "         0.2609445 ,  0.31013337,  0.35932223,  0.4085111 ,  0.45769996,\n",
       "         0.50688883,  0.55607769,  0.60526655,  0.65445542,  0.70364428,\n",
       "         0.75283315,  0.80202201,  0.85121088,  0.90039974,  0.94958861,\n",
       "         0.99877747]),\n",
       " <a list of 20 Patch objects>)"
      ]
     },
     "execution_count": 13,
     "metadata": {},
     "output_type": "execute_result"
    },
    {
     "data": {
      "image/png": "[encoded data removed]",
      "text/plain": [
       "<matplotlib.figure.Figure at 0x2abb8aae1e10>"
      ]
     },
     "metadata": {},
     "output_type": "display_data"
    }
   ],
   "source": [
    "n, bins, _ = plt.hist(dc2_df_system['zl'], alpha=0.4, bins=20)\n",
    "plt.hist(gcr_glsn_match[:,0], alpha=0.4, bins=bins)"
   ]
  },
  {
   "cell_type": "code",
   "execution_count": 14,
   "metadata": {},
   "outputs": [],
   "source": [
    "np.savetxt('gcr_glsn_match.txt', gcr_glsn_match)\n",
    "np.savetxt('keep_rows_sn.txt', keep_rows)"
   ]
  },
  {
   "cell_type": "markdown",
   "metadata": {},
   "source": [
    "It seems we are missing mostly very low redshift systems. This is most likely a result of our percentage bounds on redshift. However, we still have nearly 40000 systems in this low redshift range and will have enough to match."
   ]
  },
  {
   "cell_type": "markdown",
   "metadata": {},
   "source": [
    "## Matching to SEDs using `sims_GCRCatSimInterface`\n",
    "\n",
    "Our goal is to add SEDs and magNorm values into the lensing catalogs for the lens galaxies. Here we get the top hat filters out of cosmoDC2 and use the code in `sims_GCRCatSimInterface` to match these values to a CATSIM SED file in the same way the galaxies are matched for Instance Catalog production in DC2. We also use the code to calculate the magnitude normalization for PhoSim."
   ]
  },
  {
   "cell_type": "code",
   "execution_count": 7,
   "metadata": {},
   "outputs": [],
   "source": [
    "import sys\n",
    "sys.path.append('/global/homes/b/brycek/DC2/sims_GCRCatSimInterface/workspace/sed_cache/')"
   ]
  },
  {
   "cell_type": "code",
   "execution_count": 8,
   "metadata": {},
   "outputs": [],
   "source": [
    "from SedFitter import sed_from_galacticus_mags"
   ]
  },
  {
   "cell_type": "code",
   "execution_count": 9,
   "metadata": {},
   "outputs": [],
   "source": [
    "H0 = catalog.cosmology.H0.value\n",
    "Om0 = catalog.cosmology.Om0"
   ]
  },
  {
   "cell_type": "code",
   "execution_count": 10,
   "metadata": {},
   "outputs": [],
   "source": [
    "sed_label = []\n",
    "sed_min_wave = []\n",
    "sed_wave_width = []\n",
    "for quant_label in sorted(catalog.list_all_quantities()):\n",
    "    if (quant_label.startswith('sed') and quant_label.endswith('bulge')):\n",
    "        sed_label.append(quant_label)\n",
    "        label_split = quant_label.split('_')\n",
    "        sed_min_wave.append(int(label_split[1])/10)\n",
    "        sed_wave_width.append(int(label_split[2])/10)\n",
    "bin_order = np.argsort(sed_min_wave)\n",
    "sed_label = np.array(sed_label)[bin_order]\n",
    "sed_min_wave = np.array(sed_min_wave)[bin_order]\n",
    "sed_wave_width = np.array(sed_wave_width)[bin_order]"
   ]
  },
  {
   "cell_type": "markdown",
   "metadata": {},
   "source": [
    "Check to see that our bins are now in order when we call them."
   ]
  },
  {
   "cell_type": "code",
   "execution_count": 11,
   "metadata": {},
   "outputs": [
    {
     "name": "stdout",
     "output_type": "stream",
     "text": [
      "('sed_1000_246_bulge', 100.0, 24.600000000000001)\n",
      "('sed_1246_306_bulge', 124.59999999999999, 30.600000000000001)\n",
      "('sed_1552_381_bulge', 155.19999999999999, 38.100000000000001)\n",
      "('sed_1933_474_bulge', 193.30000000000001, 47.399999999999999)\n",
      "('sed_2407_591_bulge', 240.69999999999999, 59.100000000000001)\n",
      "('sed_2998_186_bulge', 299.80000000000001, 18.600000000000001)\n",
      "('sed_3184_197_bulge', 318.39999999999998, 19.699999999999999)\n",
      "('sed_3381_209_bulge', 338.10000000000002, 20.899999999999999)\n",
      "('sed_3590_222_bulge', 359.0, 22.199999999999999)\n",
      "('sed_3812_236_bulge', 381.19999999999999, 23.600000000000001)\n",
      "('sed_4048_251_bulge', 404.80000000000001, 25.100000000000001)\n",
      "('sed_4299_266_bulge', 429.89999999999998, 26.600000000000001)\n",
      "('sed_4565_283_bulge', 456.5, 28.300000000000001)\n",
      "('sed_4848_300_bulge', 484.80000000000001, 30.0)\n",
      "('sed_5148_319_bulge', 514.79999999999995, 31.899999999999999)\n",
      "('sed_5467_339_bulge', 546.70000000000005, 33.899999999999999)\n",
      "('sed_5806_360_bulge', 580.60000000000002, 36.0)\n",
      "('sed_6166_382_bulge', 616.60000000000002, 38.200000000000003)\n",
      "('sed_6548_406_bulge', 654.79999999999995, 40.600000000000001)\n",
      "('sed_6954_431_bulge', 695.39999999999998, 43.100000000000001)\n",
      "('sed_7385_458_bulge', 738.5, 45.799999999999997)\n",
      "('sed_7843_486_bulge', 784.29999999999995, 48.600000000000001)\n",
      "('sed_8329_517_bulge', 832.89999999999998, 51.700000000000003)\n",
      "('sed_8846_549_bulge', 884.60000000000002, 54.899999999999999)\n",
      "('sed_9395_583_bulge', 939.5, 58.299999999999997)\n",
      "('sed_9978_1489_bulge', 997.79999999999995, 148.90000000000001)\n",
      "('sed_11467_1710_bulge', 1146.7, 171.0)\n",
      "('sed_13177_1966_bulge', 1317.7, 196.59999999999999)\n",
      "('sed_15143_2259_bulge', 1514.3, 225.90000000000001)\n",
      "('sed_17402_2596_bulge', 1740.2, 259.60000000000002)\n"
     ]
    }
   ],
   "source": [
    "for i in zip(sed_label, sed_min_wave, sed_wave_width):\n",
    "    print(i)"
   ]
  },
  {
   "cell_type": "code",
   "execution_count": 20,
   "metadata": {},
   "outputs": [],
   "source": [
    "del(data)\n",
    "del(data_df)"
   ]
  },
  {
   "cell_type": "code",
   "execution_count": 21,
   "metadata": {},
   "outputs": [
    {
     "name": "stdout",
     "output_type": "stream",
     "text": [
      "CPU times: user 1min 40s, sys: 58.7 s, total: 2min 39s\n",
      "Wall time: 5min 4s\n"
     ]
    }
   ],
   "source": [
    "%%time\n",
    "columns = ['galaxy_id', 'redshift_true', 'mag_u_lsst', 'mag_g_lsst', 'mag_r_lsst',\n",
    "           'mag_i_lsst', 'mag_z_lsst', 'mag_y_lsst']\n",
    "for sed_bin in sed_label:\n",
    "    columns.append(sed_bin)\n",
    "data = catalog.get_quantities(columns,\n",
    "                              filters=['mag_true_i_lsst > %f' % i_gal_bright,\n",
    "                                       'mag_true_i_lsst < %f' % i_gal_dim,\n",
    "                                       'redshift_true > %f' % z_cat_min, 'redshift_true < %f' % z_cat_max,\n",
    "                                       'stellar_mass_bulge/stellar_mass > 0.99'])\n",
    "data_df = pd.DataFrame(data)"
   ]
  },
  {
   "cell_type": "code",
   "execution_count": 22,
   "metadata": {},
   "outputs": [],
   "source": [
    "data_df.to_csv('sn_matching_checkpoint_2.csv', index=False)"
   ]
  },
  {
   "cell_type": "code",
   "execution_count": 7,
   "metadata": {},
   "outputs": [],
   "source": [
    "# _small version of cosmoDC2 catalog will work for this\n",
    "# catalog = GCRCatalogs.load_catalog('%s_small' % catalog_version)\n",
    "data_df = pd.read_csv('sn_matching_checkpoint_2.csv')\n",
    "gcr_glsn_match = np.genfromtxt('gcr_glsn_match.txt')\n",
    "keep_rows = np.genfromtxt('keep_rows_sn.txt')"
   ]
  },
  {
   "cell_type": "code",
   "execution_count": 8,
   "metadata": {},
   "outputs": [],
   "source": [
    "keep_rows = np.array(keep_rows, dtype=int)"
   ]
  },
  {
   "cell_type": "code",
   "execution_count": 24,
   "metadata": {},
   "outputs": [
    {
     "name": "stdout",
     "output_type": "stream",
     "text": [
      "0\n",
      "10000\n",
      "20000\n",
      "30000\n",
      "40000\n",
      "50000\n",
      "60000\n",
      "70000\n",
      "80000\n",
      "90000\n",
      "100000\n",
      "110000\n",
      "120000\n",
      "130000\n",
      "140000\n",
      "150000\n",
      "160000\n",
      "170000\n",
      "CPU times: user 28min 55s, sys: 11.3 s, total: 29min 6s\n",
      "Wall time: 25min 9s\n"
     ]
    }
   ],
   "source": [
    "%%time\n",
    "sed_name_list = []\n",
    "magNorm_list = []\n",
    "i = 0\n",
    "lsst_mags = []\n",
    "mag_30_list = []\n",
    "redshift_list = []\n",
    "for gal_id, gal_z in zip(gcr_glsn_match[:, 1], \n",
    "                         gcr_glsn_match[:, 0]):\n",
    "    \n",
    "    if i % 10000 == 0:\n",
    "        print(i)\n",
    "    i+=1\n",
    "    #print(int(gal_id))\n",
    "    data_subset = data_df.query(str('galaxy_id == %i' % int(gal_id))) ## Galaxy Ids are not unique in cosmoDC2_v0.1\n",
    "    #print(data_subset)\n",
    "    mag_array = []\n",
    "    lsst_mag_array = [data_subset['mag_%s_lsst' % band_name].values[0] for band_name in ['u', 'g', 'r', 'i', 'z', 'y']]\n",
    "    for sed_bin in sed_label:\n",
    "        mag_array.append(-2.5*np.log10(data_subset[sed_bin].values[0]))\n",
    "    mag_array = np.array(mag_array)\n",
    "    lsst_mag_array = np.array(lsst_mag_array)\n",
    "    lsst_mags.append(lsst_mag_array)\n",
    "    mag_30_list.append(mag_array)\n",
    "    redshift_list.append(gal_z)\n",
    "    \n",
    "mag_30_list = np.array(mag_30_list).T\n",
    "lsst_mags = np.array(lsst_mags).T\n",
    "redshift_list = np.array(redshift_list)"
   ]
  },
  {
   "cell_type": "code",
   "execution_count": 25,
   "metadata": {},
   "outputs": [
    {
     "data": {
      "text/plain": [
       "(array([-15.3492415 , -15.41242957, -15.4982686 , -16.49474859,\n",
       "        -18.03196669, -19.25693393, -19.66323853, -19.91014838,\n",
       "        -20.26050568, -20.53956747, -21.1000371 , -21.45802498,\n",
       "        -21.80329084, -21.89667463, -22.05390215, -22.26704359,\n",
       "        -22.41313934, -22.50439644, -22.61101961, -22.69651651,\n",
       "        -22.85008192, -22.94445992, -23.01997185, -23.13748121,\n",
       "        -23.20623159, -23.27495813, -23.33341837, -23.38315487,\n",
       "        -23.53788614, -23.4309411 ]),\n",
       " array([ 20.43146993,  18.72356702,  17.61556722,  17.15545751,\n",
       "         16.90777875,  16.71117116]))"
      ]
     },
     "execution_count": 25,
     "metadata": {},
     "output_type": "execute_result"
    }
   ],
   "source": [
    "mag_30_list[:,0], lsst_mags[:,0]"
   ]
  },
  {
   "cell_type": "code",
   "execution_count": 26,
   "metadata": {},
   "outputs": [
    {
     "name": "stdout",
     "output_type": "stream",
     "text": [
      "(30, 176241) (6, 176241) (176241,)\n"
     ]
    }
   ],
   "source": [
    "print(np.shape(mag_30_list), np.shape(lsst_mags), np.shape(redshift_list))"
   ]
  },
  {
   "cell_type": "code",
   "execution_count": 27,
   "metadata": {},
   "outputs": [
    {
     "name": "stdout",
     "output_type": "stream",
     "text": [
      "176241 176241\n"
     ]
    }
   ],
   "source": [
    "sed_name, magNorm, av, rv = sed_from_galacticus_mags(mag_30_list, redshift_list,\n",
    "                                                     H0, Om0, sed_min_wave, sed_wave_width, lsst_mags)\n",
    "sed_name_list = sed_name\n",
    "magNorm_list = magNorm\n",
    "print(len(sed_name_list), len(keep_rows))"
   ]
  },
  {
   "cell_type": "code",
   "execution_count": 30,
   "metadata": {},
   "outputs": [],
   "source": [
    "sed_name_array = np.array(sed_name_list)\n",
    "magNorm_array = np.array(magNorm_list)\n",
    "av_array = np.array(av)\n",
    "rv_array = np.array(rv)"
   ]
  },
  {
   "cell_type": "code",
   "execution_count": 31,
   "metadata": {},
   "outputs": [],
   "source": [
    "np.savetxt('sed_name_list_sn.txt', sed_name_array, fmt='%s')\n",
    "np.savetxt('magNorm_list_sn.txt', magNorm_array)\n",
    "np.savetxt('av_list_sn.txt', av_array)\n",
    "np.savetxt('rv_list_sn.txt', rv_array)"
   ]
  },
  {
   "cell_type": "code",
   "execution_count": 9,
   "metadata": {},
   "outputs": [],
   "source": [
    "sed_name_array = np.genfromtxt('sed_name_list_sn.txt', dtype=np.str)\n",
    "magNorm_array = np.genfromtxt('magNorm_list_sn.txt')\n",
    "av_array = np.genfromtxt('av_list_sn.txt')\n",
    "rv_array = np.genfromtxt('rv_list_sn.txt')\n",
    "redshift_list = gcr_glsn_match[:,0]"
   ]
  },
  {
   "cell_type": "code",
   "execution_count": 10,
   "metadata": {},
   "outputs": [],
   "source": [
    "test_bandpassDict = BandpassDict.loadTotalBandpassesFromFiles()"
   ]
  },
  {
   "cell_type": "code",
   "execution_count": 11,
   "metadata": {},
   "outputs": [],
   "source": [
    "imsimband = Bandpass()\n",
    "imsimband.imsimBandpass()"
   ]
  },
  {
   "cell_type": "code",
   "execution_count": 13,
   "metadata": {},
   "outputs": [
    {
     "name": "stdout",
     "output_type": "stream",
     "text": [
      "0 0\n",
      "10000 11175\n",
      "20000 22364\n",
      "30000 33457\n",
      "40000 44654\n",
      "50000 55834\n",
      "60000 67027\n",
      "70000 78113\n",
      "80000 89351\n",
      "90000 100541\n",
      "100000 111636\n",
      "110000 122832\n",
      "120000 133938\n",
      "130000 145110\n",
      "140000 156280\n",
      "150000 167539\n",
      "160000 178714\n",
      "170000 189842\n"
     ]
    }
   ],
   "source": [
    "mag_norm_glsne = []\n",
    "test_sed = Sed()\n",
    "test_sed.readSED_flambda(os.path.join(str(os.environ['SIMS_SED_LIBRARY_DIR']), sed_name_array[0]))\n",
    "a, b = test_sed.setupCCM_ab()\n",
    "\n",
    "# We need to adjust the magNorms of the galaxies so that,\n",
    "# in the i-band, they match the OM10 APMAG_I.\n",
    "# We do this be calculating the i-magnitudes of the galaxies as they\n",
    "# will be simulated, finding the difference between that magnitude\n",
    "# and APMAG_I, and adding that difference to *all* of the magNorms\n",
    "# of the galaxy (this way, the cosmoDC2 validated colors of the\n",
    "# galaxies are preserved)\n",
    "\n",
    "for i, idx in list(enumerate(keep_rows)):\n",
    "    if i % 10000 == 0:\n",
    "        print(i, idx)\n",
    "    test_sed = Sed()\n",
    "    test_sed.readSED_flambda(os.path.join(str(os.environ['SIMS_SED_LIBRARY_DIR']), sed_name_array[i]))\n",
    "    fnorm = getImsimFluxNorm(test_sed, magNorm_array[3,i])\n",
    "    test_sed.multiplyFluxNorm(fnorm)\n",
    "    test_sed.addDust(a, b, A_v=av_array[i], R_v=rv_array[i])\n",
    "    test_sed.redshiftSED(redshift_list[i], dimming=True)\n",
    "    i_mag = test_sed.calcMag(test_bandpassDict['i'])\n",
    "    d_mag = twinkles_lenses['APMAG_I'][idx]-i_mag\n",
    "    mag_norm_glsne.append(magNorm_array[:,i] + d_mag)\n",
    "    \n",
    "#     # Double check colors are maintained\n",
    "#     test_sed = Sed()\n",
    "#     test_sed.readSED_flambda(os.path.join(str(os.environ['SIMS_SED_LIBRARY_DIR']), sed_name_array[i]))\n",
    "#     print(magNorm_array[3,i])\n",
    "#     fn_1 = test_sed.calcFluxNorm(magNorm_array[3,i], imsimband)\n",
    "#     test_sed.multiplyFluxNorm(fn_1)\n",
    "#     i_orig = test_sed.calcMag(test_bandpassDict['i'])\n",
    "#     fn_2 = test_sed.calcFluxNorm(magNorm_array[2,i], imsimband)\n",
    "#     test_sed.multiplyFluxNorm(fn_2)\n",
    "#     r_orig = test_sed.calcMag(test_bandpassDict['r'])\n",
    "#     print(r_orig, i_orig, r_orig-i_orig)\n",
    "#     fn_3 = test_sed.calcFluxNorm(mag_norm_glsne[-1][2], imsimband)\n",
    "#     test_sed.multiplyFluxNorm(fn_3)\n",
    "#     r_new = test_sed.calcMag(test_bandpassDict['r'])\n",
    "#     print(dc2_df_system['lensgal_mi'].iloc[idx], r_new, r_new - dc2_df_system['lensgal_mi'].iloc[idx])\n",
    "    \n",
    "#    print(mag_norm_glsne[-1])"
   ]
  },
  {
   "cell_type": "code",
   "execution_count": 14,
   "metadata": {},
   "outputs": [],
   "source": [
    "mag_norm_glsne = np.array(mag_norm_glsne)"
   ]
  },
  {
   "cell_type": "code",
   "execution_count": 15,
   "metadata": {},
   "outputs": [],
   "source": [
    "sed_metals = []\n",
    "sed_ages = []\n",
    "sed_metals_dict = {'0005Z':'.005', '002Z':'.02', '02Z':'.2', '04Z':'.4', '1Z':'1.0', '25Z':'2.5'}\n",
    "for sed_template in sed_name_array:\n",
    "    sed_info = sed_template.split('/')[1].split('.')\n",
    "    sed_age_info = sed_info[1].split('E')\n",
    "    sed_ages.append(np.power(10, int(sed_age_info[1]))*int(sed_age_info[0]))\n",
    "    sed_metals.append(sed_metals_dict[sed_info[2]])"
   ]
  },
  {
   "cell_type": "code",
   "execution_count": 16,
   "metadata": {},
   "outputs": [
    {
     "data": {
      "text/plain": [
       "<matplotlib.text.Text at 0x2ad2d5961550>"
      ]
     },
     "execution_count": 16,
     "metadata": {},
     "output_type": "execute_result"
    },
    {
     "data": {
      "image/png": "[encoded data removed]",
      "text/plain": [
       "<matplotlib.figure.Figure at 0x2ad2dcfb0a90>"
      ]
     },
     "metadata": {},
     "output_type": "display_data"
    }
   ],
   "source": [
    "fig = plt.figure(figsize=(12, 6))\n",
    "mpl.rcParams['text.usetex'] = False\n",
    "fig.add_subplot(1,2,1)\n",
    "plt.hist(np.log10(sed_ages))\n",
    "plt.xlabel('Log10(Galaxy Age (years))')\n",
    "plt.ylabel('Counts')\n",
    "fig.add_subplot(1,2,2)\n",
    "names, counts = np.unique(sed_metals, return_counts=True)\n",
    "x = np.arange(len(names), dtype=int)\n",
    "plt.bar(x, counts)\n",
    "plt.xticks(x, names)\n",
    "plt.xlabel('Metallicity (Z_sun)')\n",
    "plt.ylabel('Counts')\n",
    "plt.tight_layout()\n",
    "plt.subplots_adjust(top=0.9)\n",
    "plt.suptitle('Age and Metallicity of matched SED templates')"
   ]
  },
  {
   "cell_type": "markdown",
   "metadata": {},
   "source": [
    "We want our lens galaxies to be large, red ellipticals and it looks like we are getting older, redder galaxies which looks like we are succeeding."
   ]
  },
  {
   "cell_type": "markdown",
   "metadata": {},
   "source": [
    "## Adding new info to Twinkles GLSNe catalog"
   ]
  },
  {
   "cell_type": "markdown",
   "metadata": {},
   "source": [
    "We will take all the columns currently in the Twinkles GLSNe catalog and add in our new SED filenames and SED magnitude normalizations for PhoSim."
   ]
  },
  {
   "cell_type": "code",
   "execution_count": 17,
   "metadata": {},
   "outputs": [
    {
     "data": {
      "text/plain": [
       "<matplotlib.text.Text at 0x2ad2d5e5e898>"
      ]
     },
     "execution_count": 17,
     "metadata": {},
     "output_type": "execute_result"
    },
    {
     "data": {
      "image/png": "[encoded data removed]",
      "text/plain": [
       "<matplotlib.figure.Figure at 0x2ad2d5e50b70>"
      ]
     },
     "metadata": {},
     "output_type": "display_data"
    }
   ],
   "source": [
    "# Double check the distribution of t0\n",
    "mpl.rcParams['text.usetex'] = False\n",
    "plt.hist(dc2_df_system['t0'])\n",
    "plt.xlabel('Start Date (MJD)')\n",
    "plt.ylabel('Count')"
   ]
  },
  {
   "cell_type": "markdown",
   "metadata": {},
   "source": [
    "In the final catalog we produce we only want to include the systems we were able to match to a `gcr` galaxy."
   ]
  },
  {
   "cell_type": "code",
   "execution_count": 18,
   "metadata": {},
   "outputs": [
    {
     "name": "stdout",
     "output_type": "stream",
     "text": [
      "176241 176241\n"
     ]
    }
   ],
   "source": [
    "results_dict = {}\n",
    "print(len(keep_rows), len(gcr_glsn_match[:, 0]))\n",
    "for keep_idx in range(len(keep_rows)):\n",
    "    results_dict[str(dc2_df_system['sysno'].iloc[keep_rows[keep_idx]])] = {'z':gcr_glsn_match[:, 0][keep_idx],\n",
    "                                                                           'sed_name':sed_name_array[keep_idx],\n",
    "                                                                           'magNorm':mag_norm_glsne[keep_idx],\n",
    "                                                                           'lens_av':av_array[keep_idx],\n",
    "                                                                           'lens_rv':rv_array[keep_idx]}"
   ]
  },
  {
   "cell_type": "code",
   "execution_count": 19,
   "metadata": {},
   "outputs": [],
   "source": [
    "keep_systems = dc2_df_system['sysno'].iloc[keep_rows].values"
   ]
  },
  {
   "cell_type": "code",
   "execution_count": 20,
   "metadata": {},
   "outputs": [],
   "source": [
    "final_df_z = []\n",
    "final_df_lens_sed = []\n",
    "final_df_magNorm_u = []\n",
    "final_df_magNorm_g = []\n",
    "final_df_magNorm_r = []\n",
    "final_df_magNorm_i = []\n",
    "final_df_magNorm_z = []\n",
    "final_df_magNorm_y = []\n",
    "final_df_lens_av = []\n",
    "final_df_lens_rv = []\n",
    "\n",
    "keep_in_df = []\n",
    "\n",
    "for idx, twinkles_sys in enumerate(dc2_df_system['sysno']):\n",
    "    if twinkles_sys in keep_systems:\n",
    "        keep_in_df.append(idx)\n",
    "        final_df_z.append(results_dict[str(twinkles_sys)]['z'])\n",
    "        final_df_lens_sed.append(results_dict[str(twinkles_sys)]['sed_name'])\n",
    "        final_df_magNorm_u.append(results_dict[str(twinkles_sys)]['magNorm'][0])\n",
    "        final_df_magNorm_g.append(results_dict[str(twinkles_sys)]['magNorm'][1])\n",
    "        final_df_magNorm_r.append(results_dict[str(twinkles_sys)]['magNorm'][2])\n",
    "        final_df_magNorm_i.append(results_dict[str(twinkles_sys)]['magNorm'][3])\n",
    "        final_df_magNorm_z.append(results_dict[str(twinkles_sys)]['magNorm'][4])\n",
    "        final_df_magNorm_y.append(results_dict[str(twinkles_sys)]['magNorm'][5])\n",
    "        final_df_lens_av.append(results_dict[str(twinkles_sys)]['lens_av'])\n",
    "        final_df_lens_rv.append(results_dict[str(twinkles_sys)]['lens_rv'])"
   ]
  },
  {
   "cell_type": "code",
   "execution_count": 21,
   "metadata": {},
   "outputs": [],
   "source": [
    "final_df = dc2_df_system.iloc[keep_in_df]\n",
    "final_df = final_df.reset_index(drop=True)"
   ]
  },
  {
   "cell_type": "code",
   "execution_count": 22,
   "metadata": {},
   "outputs": [],
   "source": [
    "final_df['lensgal_magnorm_u'] = final_df_magNorm_u\n",
    "final_df['lensgal_magnorm_g'] = final_df_magNorm_g\n",
    "final_df['lensgal_magnorm_r'] = final_df_magNorm_r\n",
    "final_df['lensgal_magnorm_i'] = final_df_magNorm_i\n",
    "final_df['lensgal_magnorm_z'] = final_df_magNorm_z\n",
    "final_df['lensgal_magnorm_y'] = final_df_magNorm_y\n",
    "final_df['lensgal_sed'] = final_df_lens_sed\n",
    "final_df['lens_av'] = final_df_lens_av\n",
    "final_df['lens_rv'] = final_df_lens_rv"
   ]
  },
  {
   "cell_type": "code",
   "execution_count": 23,
   "metadata": {},
   "outputs": [
    {
     "data": {
      "text/html": [
       "<div>\n",
       "<style>\n",
       "    .dataframe thead tr:only-child th {\n",
       "        text-align: right;\n",
       "    }\n",
       "\n",
       "    .dataframe thead th {\n",
       "        text-align: left;\n",
       "    }\n",
       "\n",
       "    .dataframe tbody tr th {\n",
       "        vertical-align: top;\n",
       "    }\n",
       "</style>\n",
       "<table border=\"1\" class=\"dataframe\">\n",
       "  <thead>\n",
       "    <tr style=\"text-align: right;\">\n",
       "      <th></th>\n",
       "      <th>t0</th>\n",
       "      <th>sigma</th>\n",
       "      <th>gamma</th>\n",
       "      <th>e</th>\n",
       "      <th>theta_e</th>\n",
       "      <th>theta_gamma</th>\n",
       "      <th>zs</th>\n",
       "      <th>zl</th>\n",
       "      <th>snx</th>\n",
       "      <th>sny</th>\n",
       "      <th>...</th>\n",
       "      <th>c</th>\n",
       "      <th>lensgal_magnorm_u</th>\n",
       "      <th>lensgal_magnorm_g</th>\n",
       "      <th>lensgal_magnorm_r</th>\n",
       "      <th>lensgal_magnorm_i</th>\n",
       "      <th>lensgal_magnorm_z</th>\n",
       "      <th>lensgal_magnorm_y</th>\n",
       "      <th>lensgal_sed</th>\n",
       "      <th>lens_av</th>\n",
       "      <th>lens_rv</th>\n",
       "    </tr>\n",
       "  </thead>\n",
       "  <tbody>\n",
       "    <tr>\n",
       "      <th>0</th>\n",
       "      <td>62307.945863</td>\n",
       "      <td>197.670149</td>\n",
       "      <td>0.128101</td>\n",
       "      <td>0.570391</td>\n",
       "      <td>132.165475</td>\n",
       "      <td>135.210348</td>\n",
       "      <td>0.435736</td>\n",
       "      <td>0.152485</td>\n",
       "      <td>-0.136216</td>\n",
       "      <td>0.144903</td>\n",
       "      <td>...</td>\n",
       "      <td>0.0</td>\n",
       "      <td>18.568357</td>\n",
       "      <td>18.489772</td>\n",
       "      <td>18.449071</td>\n",
       "      <td>18.428598</td>\n",
       "      <td>18.437409</td>\n",
       "      <td>18.412254</td>\n",
       "      <td>galaxySED/Inst.80E09.04Z.spec.gz</td>\n",
       "      <td>0.0</td>\n",
       "      <td>2.0</td>\n",
       "    </tr>\n",
       "    <tr>\n",
       "      <th>1</th>\n",
       "      <td>62986.222880</td>\n",
       "      <td>270.972759</td>\n",
       "      <td>0.040137</td>\n",
       "      <td>0.785929</td>\n",
       "      <td>349.848750</td>\n",
       "      <td>76.941654</td>\n",
       "      <td>0.812597</td>\n",
       "      <td>0.106528</td>\n",
       "      <td>0.229110</td>\n",
       "      <td>-0.578431</td>\n",
       "      <td>...</td>\n",
       "      <td>0.0</td>\n",
       "      <td>18.010708</td>\n",
       "      <td>17.961398</td>\n",
       "      <td>17.978776</td>\n",
       "      <td>17.961486</td>\n",
       "      <td>17.974092</td>\n",
       "      <td>17.935220</td>\n",
       "      <td>galaxySED/Burst.10E10.04Z.spec.gz</td>\n",
       "      <td>0.0</td>\n",
       "      <td>2.0</td>\n",
       "    </tr>\n",
       "    <tr>\n",
       "      <th>2</th>\n",
       "      <td>60175.070270</td>\n",
       "      <td>168.759862</td>\n",
       "      <td>0.145709</td>\n",
       "      <td>0.704465</td>\n",
       "      <td>246.352212</td>\n",
       "      <td>103.154255</td>\n",
       "      <td>0.377906</td>\n",
       "      <td>0.036807</td>\n",
       "      <td>0.074938</td>\n",
       "      <td>-0.416329</td>\n",
       "      <td>...</td>\n",
       "      <td>0.0</td>\n",
       "      <td>14.668730</td>\n",
       "      <td>14.562881</td>\n",
       "      <td>14.505285</td>\n",
       "      <td>14.474775</td>\n",
       "      <td>14.435758</td>\n",
       "      <td>14.395874</td>\n",
       "      <td>galaxySED/Exp.40E09.1Z.spec.gz</td>\n",
       "      <td>0.1</td>\n",
       "      <td>4.0</td>\n",
       "    </tr>\n",
       "    <tr>\n",
       "      <th>3</th>\n",
       "      <td>59748.557028</td>\n",
       "      <td>132.459490</td>\n",
       "      <td>0.017375</td>\n",
       "      <td>0.598633</td>\n",
       "      <td>58.483556</td>\n",
       "      <td>133.326378</td>\n",
       "      <td>0.760426</td>\n",
       "      <td>0.034289</td>\n",
       "      <td>0.012960</td>\n",
       "      <td>0.362303</td>\n",
       "      <td>...</td>\n",
       "      <td>0.0</td>\n",
       "      <td>15.903391</td>\n",
       "      <td>15.855821</td>\n",
       "      <td>15.879587</td>\n",
       "      <td>15.844640</td>\n",
       "      <td>15.817776</td>\n",
       "      <td>15.771233</td>\n",
       "      <td>galaxySED/Exp.40E09.04Z.spec.gz</td>\n",
       "      <td>0.0</td>\n",
       "      <td>2.0</td>\n",
       "    </tr>\n",
       "    <tr>\n",
       "      <th>4</th>\n",
       "      <td>61949.847395</td>\n",
       "      <td>118.022925</td>\n",
       "      <td>0.040725</td>\n",
       "      <td>0.593290</td>\n",
       "      <td>160.205181</td>\n",
       "      <td>318.665928</td>\n",
       "      <td>0.608011</td>\n",
       "      <td>0.062039</td>\n",
       "      <td>0.052200</td>\n",
       "      <td>0.120958</td>\n",
       "      <td>...</td>\n",
       "      <td>0.0</td>\n",
       "      <td>17.659442</td>\n",
       "      <td>17.603941</td>\n",
       "      <td>17.601493</td>\n",
       "      <td>17.589991</td>\n",
       "      <td>17.596770</td>\n",
       "      <td>17.538705</td>\n",
       "      <td>galaxySED/Exp.10E10.04Z.spec.gz</td>\n",
       "      <td>0.0</td>\n",
       "      <td>2.0</td>\n",
       "    </tr>\n",
       "  </tbody>\n",
       "</table>\n",
       "<p>5 rows × 49 columns</p>\n",
       "</div>"
      ],
      "text/plain": [
       "             t0       sigma     gamma         e     theta_e  theta_gamma  \\\n",
       "0  62307.945863  197.670149  0.128101  0.570391  132.165475   135.210348   \n",
       "1  62986.222880  270.972759  0.040137  0.785929  349.848750    76.941654   \n",
       "2  60175.070270  168.759862  0.145709  0.704465  246.352212   103.154255   \n",
       "3  59748.557028  132.459490  0.017375  0.598633   58.483556   133.326378   \n",
       "4  61949.847395  118.022925  0.040725  0.593290  160.205181   318.665928   \n",
       "\n",
       "         zs        zl       snx       sny   ...       c  lensgal_magnorm_u  \\\n",
       "0  0.435736  0.152485 -0.136216  0.144903   ...     0.0          18.568357   \n",
       "1  0.812597  0.106528  0.229110 -0.578431   ...     0.0          18.010708   \n",
       "2  0.377906  0.036807  0.074938 -0.416329   ...     0.0          14.668730   \n",
       "3  0.760426  0.034289  0.012960  0.362303   ...     0.0          15.903391   \n",
       "4  0.608011  0.062039  0.052200  0.120958   ...     0.0          17.659442   \n",
       "\n",
       "   lensgal_magnorm_g lensgal_magnorm_r  lensgal_magnorm_i  lensgal_magnorm_z  \\\n",
       "0          18.489772         18.449071          18.428598          18.437409   \n",
       "1          17.961398         17.978776          17.961486          17.974092   \n",
       "2          14.562881         14.505285          14.474775          14.435758   \n",
       "3          15.855821         15.879587          15.844640          15.817776   \n",
       "4          17.603941         17.601493          17.589991          17.596770   \n",
       "\n",
       "   lensgal_magnorm_y                        lensgal_sed  lens_av  lens_rv  \n",
       "0          18.412254   galaxySED/Inst.80E09.04Z.spec.gz      0.0      2.0  \n",
       "1          17.935220  galaxySED/Burst.10E10.04Z.spec.gz      0.0      2.0  \n",
       "2          14.395874     galaxySED/Exp.40E09.1Z.spec.gz      0.1      4.0  \n",
       "3          15.771233    galaxySED/Exp.40E09.04Z.spec.gz      0.0      2.0  \n",
       "4          17.538705    galaxySED/Exp.10E10.04Z.spec.gz      0.0      2.0  \n",
       "\n",
       "[5 rows x 49 columns]"
      ]
     },
     "execution_count": 23,
     "metadata": {},
     "output_type": "execute_result"
    }
   ],
   "source": [
    "final_df.head()"
   ]
  },
  {
   "cell_type": "markdown",
   "metadata": {},
   "source": [
    "Great! Looks like everything is in our new catalog and we can now save it to file."
   ]
  },
  {
   "cell_type": "code",
   "execution_count": 24,
   "metadata": {},
   "outputs": [],
   "source": [
    "final_df.to_hdf('/global/cscratch1/sd/brycek/glsne_%s.h5' % catalog_version, key='system', format='table')"
   ]
  },
  {
   "cell_type": "code",
   "execution_count": 25,
   "metadata": {},
   "outputs": [],
   "source": [
    "dc2_df_image.to_hdf('/global/cscratch1/sd/brycek/glsne_%s.h5' % catalog_version, mode='a', key='image', format='table')"
   ]
  },
  {
   "cell_type": "code",
   "execution_count": null,
   "metadata": {},
   "outputs": [],
   "source": []
  }
 ],
 "metadata": {
  "anaconda-cloud": {},
  "kernelspec": {
   "display_name": "lsst",
   "language": "python",
   "name": "lsst"
  },
  "language_info": {
   "codemirror_mode": {
    "name": "ipython",
    "version": 3
   },
   "file_extension": ".py",
   "mimetype": "text/x-python",
   "name": "python",
   "nbconvert_exporter": "python",
   "pygments_lexer": "ipython3",
   "version": "3.6.2"
  }
 },
 "nbformat": 4,
 "nbformat_minor": 2
}
