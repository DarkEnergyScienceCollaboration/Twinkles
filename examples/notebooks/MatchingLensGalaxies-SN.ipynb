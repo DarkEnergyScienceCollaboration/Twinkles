{
 "cells": [
  {
   "cell_type": "markdown",
   "metadata": {},
   "source": [
    "# Matching Gravitationally Lensed SNe (GLSNe) Lens Galaxies to CosmoDC2 galaxies\n",
    "\n",
    "Last updated: _Bryce Kalmbach, December 2018_\n",
    "\n",
    "Danny Goldstein's latest strongly lensed SNe catalog has all the properties needed to replace galaxies from DC2 with the sprinkler except for SEDs and CatSim magNorm values for the lens galaxies. This notebook matches the lensed SNe lens galaxies to a DC2 galaxy then uses `sims_GCRCatSimInterface` and the given 'i-band' magnitude from the lens catalog to calculate an appropriate magNorm value and SED.\n",
    "\n",
    "\n",
    "## Requirements\n",
    "\n",
    "You will need `gcrCatalogs`, `GCR`, `pandas`, `numpy` and `matplotlib`"
   ]
  },
  {
   "cell_type": "code",
   "execution_count": 1,
   "metadata": {
    "collapsed": false
   },
   "outputs": [],
   "source": [
    "import numpy as np\n",
    "import pandas as pd\n",
    "import matplotlib as mpl\n",
    "mpl.rcParams['text.usetex'] = False\n",
    "from matplotlib import pyplot as plt\n",
    "import os\n",
    "from lsst.sims.photUtils import Sed, Bandpass, BandpassDict\n",
    "\n",
    "%matplotlib inline"
   ]
  },
  {
   "cell_type": "markdown",
   "metadata": {},
   "source": [
    "#### Load up the input lensed SNe catalogs"
   ]
  },
  {
   "cell_type": "code",
   "execution_count": 2,
   "metadata": {},
   "outputs": [],
   "source": [
    "dc2_df_system = pd.read_hdf('/global/cscratch1/sd/brycek/glsne_dc2_v2.h5', key='system')\n",
    "dc2_df_image = pd.read_hdf('/global/cscratch1/sd/brycek/glsne_dc2_v2.h5', key='image')"
   ]
  },
  {
   "cell_type": "code",
   "execution_count": 3,
   "metadata": {},
   "outputs": [],
   "source": [
    "import GCRCatalogs\n",
    "import pandas as pd\n",
    "from GCR import GCRQuery"
   ]
  },
  {
   "cell_type": "markdown",
   "metadata": {},
   "source": [
    "#### Choose an area of the DC2 catalog to use for matching galaxies"
   ]
  },
  {
   "cell_type": "code",
   "execution_count": 4,
   "metadata": {},
   "outputs": [],
   "source": [
    "catalog = GCRCatalogs.load_catalog('cosmoDC2_v1.0_10194_10452')"
   ]
  },
  {
   "cell_type": "code",
   "execution_count": 5,
   "metadata": {},
   "outputs": [
    {
     "data": {
      "text/plain": [
       "t0                               62307.9\n",
       "sigma                             197.67\n",
       "gamma                           0.128101\n",
       "e                               0.570391\n",
       "theta_e                          132.165\n",
       "theta_gamma                       135.21\n",
       "zs                              0.435736\n",
       "zl                              0.152485\n",
       "snx                            -0.136216\n",
       "sny                             0.144903\n",
       "MB                              -19.3306\n",
       "transient_amplitude          7.78584e-10\n",
       "sysno                               2237\n",
       "sntype                                1a\n",
       "ebvhost                        0.0735387\n",
       "ra                               132.817\n",
       "dec                             -34.6162\n",
       "ebvmw                           0.283343\n",
       "weight                       0.000133177\n",
       "host_n                                 1\n",
       "host_ellip                          0.84\n",
       "host_reff                       0.810876\n",
       "host_theta                       5.70672\n",
       "host_amplitude               4.93238e-17\n",
       "host_type                      kinney-sc\n",
       "host_x                          -1.27503\n",
       "host_y                         -0.985977\n",
       "lensgal_n                              4\n",
       "lensgal_ellip                   0.570391\n",
       "lensgal_reff                     1.87389\n",
       "lensgal_theta                    132.165\n",
       "lensgal_amplitude             3.1839e-16\n",
       "lensgal_type           kinney-elliptical\n",
       "lensgal_x                              0\n",
       "lensgal_y                              0\n",
       "t_found                            62310\n",
       "lensgal_mi                       17.0636\n",
       "x0                           1.48994e-05\n",
       "x1                                     0\n",
       "c                                      0\n",
       "Name: 0, dtype: object"
      ]
     },
     "execution_count": 5,
     "metadata": {},
     "output_type": "execute_result"
    }
   ],
   "source": [
    "# Example lens catalog row.\n",
    "dc2_df_system.iloc[0]"
   ]
  },
  {
   "cell_type": "markdown",
   "metadata": {},
   "source": [
    "#### Get all the galaxies from the catalog that are within the redshift range and i-band magnitude range of the lens galaxies"
   ]
  },
  {
   "cell_type": "code",
   "execution_count": 6,
   "metadata": {},
   "outputs": [
    {
     "name": "stdout",
     "output_type": "stream",
     "text": [
      "0.011915068367 1.25738633782 26.4773769233 9.67143111596\n",
      "   ellipticity_true   galaxy_id  glsne_ellipticity  mag_true_i_lsst  \\\n",
      "0          0.105070  6000000125           0.187972        14.337171   \n",
      "1          0.260718  6000000798           0.405843        13.872838   \n",
      "2          0.024329  6000001056           0.043976        16.248610   \n",
      "3          0.042866  6000001342           0.079657        14.812760   \n",
      "4          0.197311  6000001548           0.298066        16.810287   \n",
      "5          0.287196  6000001898           0.444674        15.766129   \n",
      "6          0.008977  6000002102           0.017794        16.222540   \n",
      "7          0.004133  6000005327           0.008101        24.895262   \n",
      "8          0.130662  6000006654           0.225599        21.406273   \n",
      "9          0.160738  6000007652           0.275020        23.113390   \n",
      "\n",
      "   redshift_true  size_bulge_true  size_minor_bulge_true  \n",
      "0       0.018053         3.953189               3.210100  \n",
      "1       0.029891         6.196536               3.681715  \n",
      "2       0.049421         1.806601               1.727153  \n",
      "3       0.048038         3.059338               2.815640  \n",
      "4       0.024740         2.040533               1.432319  \n",
      "5       0.049568         2.256828               1.253275  \n",
      "6       0.048155         3.105705               3.050443  \n",
      "7       0.041693         0.137772               0.136656  \n",
      "8       0.031599         0.409716               0.317284  \n",
      "9       0.042197         0.453566               0.328827  \n",
      "CPU times: user 16.1 s, sys: 17.5 s, total: 33.6 s\n",
      "Wall time: 1min 46s\n"
     ]
    }
   ],
   "source": [
    "%%time\n",
    "z_cat_min = np.power(10, np.log10(np.min(dc2_df_system['zl'])) - .1)\n",
    "z_cat_max = np.power(10, np.log10(np.max(dc2_df_system['zl'])) + .1)\n",
    "\n",
    "i_gal_dim = np.max(-2.5*np.log10(np.power(10, -0.4*dc2_df_system['lensgal_mi'])*.9))\n",
    "i_gal_bright = np.min(-2.5*np.log10(np.power(10, -0.4*dc2_df_system['lensgal_mi'])*1.1))\n",
    "\n",
    "print(z_cat_min, z_cat_max, i_gal_dim, i_gal_bright)\n",
    "\n",
    "data = catalog.get_quantities(['galaxy_id', 'redshift_true', 'ellipticity_true', 'mag_true_i_lsst',\n",
    "                               'size_minor_bulge_true', 'size_bulge_true'],\n",
    "                              filters=['mag_true_i_lsst > %f' % i_gal_bright,\n",
    "                                       'mag_true_i_lsst < %f' % i_gal_dim,\n",
    "                                       'redshift_true > %f' % z_cat_min, 'redshift_true < %f' % z_cat_max,\n",
    "                                       'stellar_mass_bulge/stellar_mass > 0.99'])\n",
    "\n",
    "data['glsne_ellipticity'] = (1-(data['size_minor_bulge_true']/data['size_bulge_true']))\n",
    "\n",
    "\n",
    "data_df = pd.DataFrame(data)\n",
    "print(data_df.head(10))"
   ]
  },
  {
   "cell_type": "markdown",
   "metadata": {},
   "source": [
    "#### Use this set of DC2 galaxies to then match to each lens galaxy in the catalog based upon redshift and i-band apparent magnitude"
   ]
  },
  {
   "cell_type": "code",
   "execution_count": 7,
   "metadata": {},
   "outputs": [
    {
     "name": "stdout",
     "output_type": "stream",
     "text": [
      "0\n",
      "10000\n",
      "20000\n",
      "30000\n",
      "40000\n",
      "50000\n",
      "60000\n",
      "70000\n",
      "80000\n",
      "90000\n",
      "100000\n",
      "110000\n",
      "120000\n",
      "130000\n",
      "140000\n",
      "150000\n",
      "160000\n",
      "170000\n",
      "180000\n",
      "190000\n",
      "Total Match Failures:  13359  Percentage Match Failures:  0.06787454463237798\n",
      "CPU times: user 1h 46min 7s, sys: 29.4 s, total: 1h 46min 37s\n",
      "Wall time: 1h 13min 24s\n"
     ]
    }
   ],
   "source": [
    "%%time\n",
    "gcr_glsn_match = []\n",
    "err = 0\n",
    "np.random.seed(10)\n",
    "i = 0\n",
    "\n",
    "row_num = -1\n",
    "keep_rows = []\n",
    "num_match_total = []\n",
    "\n",
    "for zsrc, i_mag_star in zip(dc2_df_system['zl'].values,\n",
    "                            dc2_df_system['lensgal_mi'].values):\n",
    "\n",
    "    row_num += 1\n",
    "    #print(zsrc, m_star, ellip)\n",
    "    if row_num % 10000 == 0:\n",
    "        print(row_num)\n",
    "\n",
    "    z_min, z_max = np.power(10, np.log10(zsrc) - .1), np.power(10, np.log10(zsrc) + .1)\n",
    "    i_mag_dim, i_mag_bright = -2.5*np.log10(np.power(10, -0.4*i_mag_star)*.9),\\\n",
    "                              -2.5*np.log10(np.power(10, -0.4*i_mag_star)*1.1)\n",
    "    #ellip_min, ellip_max = ellip*.9, ellip*1.1\n",
    "    #r_major = r_eff / np.sqrt(1 - ellip)\n",
    "    #r_major_max, r_major_min = r_major*1.1, r_major*.9\n",
    "    \n",
    "    \n",
    "    #print(z_min, z_max, i_mag_min, i_mag_max, ellip_min, ellip_max)\n",
    "    \n",
    "    data_subset = data_df.query('redshift_true > %f and redshift_true < %f ' % (z_min, z_max)\n",
    "                                + 'and mag_true_i_lsst > %f and mag_true_i_lsst < %f ' % (i_mag_bright, i_mag_dim)\n",
    "                                #+ 'and glsne_ellipticity > %f and glsne_ellipticity < %f' % (ellip_min, ellip_max)\n",
    "                                #+ 'and size_bulge_true > %f and size_bulge_true < %f' % (r_major_min, r_major_max)\n",
    "                               )\n",
    "    \n",
    "    num_matches = len(data_subset['redshift_true'])\n",
    "\n",
    "    num_match_total.append(num_matches)\n",
    "    \n",
    "    if num_matches == 0:\n",
    "        err += 1\n",
    "        continue\n",
    "    elif num_matches == 1:\n",
    "        gcr_data = [data_subset['redshift_true'].values[0], \n",
    "                    data_subset['galaxy_id'].values[0]]\n",
    "        gcr_glsn_match.append(gcr_data)\n",
    "        keep_rows.append(row_num)\n",
    "    elif num_matches > 1:\n",
    "        use_idx = np.random.choice(num_matches)\n",
    "        gcr_data = [data_subset['redshift_true'].values[use_idx],\n",
    "                    data_subset['galaxy_id'].values[use_idx]]\n",
    "        gcr_glsn_match.append(gcr_data)\n",
    "        keep_rows.append(row_num)\n",
    "        \n",
    "print(\"Total Match Failures: \", err, \" Percentage Match Failures: \", np.float(err)/len(dc2_df_system))"
   ]
  },
  {
   "cell_type": "code",
   "execution_count": 8,
   "metadata": {},
   "outputs": [],
   "source": [
    "gcr_glsn_match = np.array(gcr_glsn_match)"
   ]
  },
  {
   "cell_type": "code",
   "execution_count": 9,
   "metadata": {},
   "outputs": [
    {
     "data": {
      "text/plain": [
       "(array([ 41263.,  38925.,  30657.,  18788.,  16507.,  10575.,   6967.,\n",
       "          5401.,   4214.,   3026.,   2201.,   1417.,    956.,    650.,\n",
       "           483.,    403.,    263.,    221.,    164.,    135.]),\n",
       " array([ 0.01500018,  0.06418905,  0.11337791,  0.16256678,  0.21175564,\n",
       "         0.2609445 ,  0.31013337,  0.35932223,  0.4085111 ,  0.45769996,\n",
       "         0.50688883,  0.55607769,  0.60526655,  0.65445542,  0.70364428,\n",
       "         0.75283315,  0.80202201,  0.85121088,  0.90039974,  0.94958861,\n",
       "         0.99877747]),\n",
       " <a list of 20 Patch objects>)"
      ]
     },
     "execution_count": 9,
     "metadata": {},
     "output_type": "execute_result"
    },
    {
     "data": {
      "image/png": "[encoded data removed]",
      "text/plain": [
       "<matplotlib.figure.Figure at 0x2b2dd5079ac8>"
      ]
     },
     "metadata": {},
     "output_type": "display_data"
    }
   ],
   "source": [
    "n, bins, _ = plt.hist(dc2_df_system['zl'], alpha=0.4, bins=20)\n",
    "plt.hist(gcr_glsn_match[:,0], alpha=0.4, bins=bins)"
   ]
  },
  {
   "cell_type": "code",
   "execution_count": 11,
   "metadata": {},
   "outputs": [],
   "source": [
    "np.savetxt('gcr_glsn_match.txt', gcr_glsn_match)"
   ]
  },
  {
   "cell_type": "markdown",
   "metadata": {},
   "source": [
    "It seems we are missing mostly very low redshift systems. This is most likely a result of our percentage bounds on redshift. However, we still have over 40000 systems in this low redshift range and will have enough to match."
   ]
  },
  {
   "cell_type": "markdown",
   "metadata": {},
   "source": [
    "## Matching to SEDs using `sims_GCRCatSimInterface`\n",
    "\n",
    "Our goal is to add SEDs and magNorm values into the lensing catalogs for the lens galaxies. Here we get the top hat filters out of cosmoDC2 and use the code in `sims_GCRCatSimInterface` to match these values to a CATSIM SED file in the same way the galaxies are matched for Instance Catalog production in DC2. We also use the code to calculate the magnitude normalization for PhoSim."
   ]
  },
  {
   "cell_type": "code",
   "execution_count": 12,
   "metadata": {},
   "outputs": [
    {
     "name": "stderr",
     "output_type": "stream",
     "text": [
      "/global/common/software/lsst/common/miniconda/py3-4.3.21-env/lib/python3.6/site-packages/matplotlib/__init__.py:1405: UserWarning: \n",
      "This call to matplotlib.use() has no effect because the backend has already\n",
      "been chosen; matplotlib.use() must be called *before* pylab, matplotlib.pyplot,\n",
      "or matplotlib.backends is imported for the first time.\n",
      "\n",
      "  warnings.warn(_use_error_msg)\n",
      "/global/homes/b/brycek/DC2/sims_catalogs/python/lsst/sims/catalogs/db/dbConnection.py:553: UserWarning: Duplicate object type id 4 specified: \n",
      "Output object ids may not be unique.\n",
      "This may not be a problem if you do not want globally unique id values\n",
      "  'want globally unique id values')\n",
      "/global/homes/b/brycek/DC2/sims_catalogs/python/lsst/sims/catalogs/db/dbConnection.py:553: UserWarning: Duplicate object type id 28 specified: \n",
      "Output object ids may not be unique.\n",
      "This may not be a problem if you do not want globally unique id values\n",
      "  'want globally unique id values')\n"
     ]
    }
   ],
   "source": [
    "from desc.sims.GCRCatSimInterface import sed_from_galacticus_mags"
   ]
  },
  {
   "cell_type": "code",
   "execution_count": 13,
   "metadata": {},
   "outputs": [],
   "source": [
    "H0 = catalog.cosmology.H0.value\n",
    "Om0 = catalog.cosmology.Om0"
   ]
  },
  {
   "cell_type": "code",
   "execution_count": 14,
   "metadata": {},
   "outputs": [],
   "source": [
    "sed_label = []\n",
    "sed_min_wave = []\n",
    "sed_wave_width = []\n",
    "for quant_label in sorted(catalog.list_all_quantities()):\n",
    "    if (quant_label.startswith('sed') and quant_label.endswith('bulge')):\n",
    "        sed_label.append(quant_label)\n",
    "        label_split = quant_label.split('_')\n",
    "        sed_min_wave.append(int(label_split[1])/10)\n",
    "        sed_wave_width.append(int(label_split[2])/10)\n",
    "bin_order = np.argsort(sed_min_wave)\n",
    "sed_label = np.array(sed_label)[bin_order]\n",
    "sed_min_wave = np.array(sed_min_wave)[bin_order]\n",
    "sed_wave_width = np.array(sed_wave_width)[bin_order]"
   ]
  },
  {
   "cell_type": "markdown",
   "metadata": {},
   "source": [
    "Check to see that our bins are now in order when we call them."
   ]
  },
  {
   "cell_type": "code",
   "execution_count": 15,
   "metadata": {},
   "outputs": [
    {
     "name": "stdout",
     "output_type": "stream",
     "text": [
      "('sed_1000_246_bulge', 100.0, 24.600000000000001)\n",
      "('sed_1246_306_bulge', 124.59999999999999, 30.600000000000001)\n",
      "('sed_1552_381_bulge', 155.19999999999999, 38.100000000000001)\n",
      "('sed_1933_474_bulge', 193.30000000000001, 47.399999999999999)\n",
      "('sed_2407_591_bulge', 240.69999999999999, 59.100000000000001)\n",
      "('sed_2998_186_bulge', 299.80000000000001, 18.600000000000001)\n",
      "('sed_3184_197_bulge', 318.39999999999998, 19.699999999999999)\n",
      "('sed_3381_209_bulge', 338.10000000000002, 20.899999999999999)\n",
      "('sed_3590_222_bulge', 359.0, 22.199999999999999)\n",
      "('sed_3812_236_bulge', 381.19999999999999, 23.600000000000001)\n",
      "('sed_4048_251_bulge', 404.80000000000001, 25.100000000000001)\n",
      "('sed_4299_266_bulge', 429.89999999999998, 26.600000000000001)\n",
      "('sed_4565_283_bulge', 456.5, 28.300000000000001)\n",
      "('sed_4848_300_bulge', 484.80000000000001, 30.0)\n",
      "('sed_5148_319_bulge', 514.79999999999995, 31.899999999999999)\n",
      "('sed_5467_339_bulge', 546.70000000000005, 33.899999999999999)\n",
      "('sed_5806_360_bulge', 580.60000000000002, 36.0)\n",
      "('sed_6166_382_bulge', 616.60000000000002, 38.200000000000003)\n",
      "('sed_6548_406_bulge', 654.79999999999995, 40.600000000000001)\n",
      "('sed_6954_431_bulge', 695.39999999999998, 43.100000000000001)\n",
      "('sed_7385_458_bulge', 738.5, 45.799999999999997)\n",
      "('sed_7843_486_bulge', 784.29999999999995, 48.600000000000001)\n",
      "('sed_8329_517_bulge', 832.89999999999998, 51.700000000000003)\n",
      "('sed_8846_549_bulge', 884.60000000000002, 54.899999999999999)\n",
      "('sed_9395_583_bulge', 939.5, 58.299999999999997)\n",
      "('sed_9978_1489_bulge', 997.79999999999995, 148.90000000000001)\n",
      "('sed_11467_1710_bulge', 1146.7, 171.0)\n",
      "('sed_13177_1966_bulge', 1317.7, 196.59999999999999)\n",
      "('sed_15143_2259_bulge', 1514.3, 225.90000000000001)\n",
      "('sed_17402_2596_bulge', 1740.2, 259.60000000000002)\n"
     ]
    }
   ],
   "source": [
    "for i in zip(sed_label, sed_min_wave, sed_wave_width):\n",
    "    print(i)"
   ]
  },
  {
   "cell_type": "code",
   "execution_count": 16,
   "metadata": {},
   "outputs": [],
   "source": [
    "del(data)\n",
    "del(data_df)"
   ]
  },
  {
   "cell_type": "code",
   "execution_count": 18,
   "metadata": {},
   "outputs": [
    {
     "name": "stdout",
     "output_type": "stream",
     "text": [
      "CPU times: user 57.3 s, sys: 55.6 s, total: 1min 52s\n",
      "Wall time: 5min 20s\n"
     ]
    }
   ],
   "source": [
    "%%time\n",
    "columns = ['galaxy_id', 'redshift_true']\n",
    "for sed_bin in sed_label:\n",
    "    columns.append(sed_bin)\n",
    "data = catalog.get_quantities(columns,\n",
    "                              filters=['mag_true_i_lsst > %f' % i_gal_bright,\n",
    "                                       'mag_true_i_lsst < %f' % i_gal_dim,\n",
    "                                       'redshift_true > %f' % z_cat_min, 'redshift_true < %f' % z_cat_max,\n",
    "                                       'stellar_mass_bulge/stellar_mass > 0.99'])\n",
    "data_df = pd.DataFrame(data)"
   ]
  },
  {
   "cell_type": "code",
   "execution_count": 19,
   "metadata": {},
   "outputs": [],
   "source": [
    "gcr_z = []\n",
    "gcr_gal_id = []\n",
    "for row in gcr_glsn_match:\n",
    "    gcr_z.append(row[0])\n",
    "    gcr_gal_id.append(row[1])"
   ]
  },
  {
   "cell_type": "code",
   "execution_count": 20,
   "metadata": {},
   "outputs": [
    {
     "name": "stdout",
     "output_type": "stream",
     "text": [
      "0\n",
      "10000\n",
      "20000\n",
      "30000\n",
      "40000\n",
      "50000\n",
      "60000\n",
      "70000\n",
      "80000\n",
      "90000\n",
      "100000\n",
      "110000\n",
      "120000\n",
      "130000\n",
      "140000\n",
      "150000\n",
      "160000\n",
      "170000\n",
      "180000\n",
      "183460 183460\n",
      "CPU times: user 1h 14min 1s, sys: 14.4 s, total: 1h 14min 15s\n",
      "Wall time: 56min 55s\n"
     ]
    }
   ],
   "source": [
    "%%time\n",
    "sed_name_list = []\n",
    "magNorm_list = []\n",
    "i = 0\n",
    "for gal_id, gal_z in zip(gcr_gal_id, gcr_z):\n",
    "    \n",
    "    if i % 10000 == 0:\n",
    "        print(i)\n",
    "    i+=1\n",
    "    \n",
    "    data_subset = data_df.query(str('galaxy_id == %i' % gal_id + ' and ' + 'redshift_true == {}'.format(gal_z))) ## Galaxy Ids are not unique in cosmoDC2_v0.1\n",
    "    mag_array = []\n",
    "    for sed_bin in sed_label:\n",
    "        mag_array.append(-2.5*np.log10(data_subset[sed_bin].values[0]))\n",
    "    mag_array = np.array(mag_array)\n",
    "    sed_name, magNorm = sed_from_galacticus_mags(np.array([mag_array]).T, np.array([gal_z]), H0, Om0, sed_min_wave, sed_wave_width)\n",
    "    sed_name_list.append(sed_name)\n",
    "    magNorm_list.append(magNorm)\n",
    "print(len(sed_name_list), len(keep_rows))"
   ]
  },
  {
   "cell_type": "code",
   "execution_count": 21,
   "metadata": {},
   "outputs": [],
   "source": [
    "sed_name_array = np.array(sed_name_list)\n",
    "magNorm_array = np.array(magNorm_list)"
   ]
  },
  {
   "cell_type": "code",
   "execution_count": 26,
   "metadata": {},
   "outputs": [],
   "source": [
    "np.savetxt('sed_name_list.txt', sed_name_array, fmt='%s')\n",
    "np.savetxt('magNorm_list.txt', magNorm_array)"
   ]
  },
  {
   "cell_type": "code",
   "execution_count": 72,
   "metadata": {},
   "outputs": [],
   "source": [
    "test_bandpassDict = BandpassDict.loadTotalBandpassesFromFiles()"
   ]
  },
  {
   "cell_type": "code",
   "execution_count": 74,
   "metadata": {},
   "outputs": [],
   "source": [
    "imsimband = Bandpass()\n",
    "imsimband.imsimBandpass()"
   ]
  },
  {
   "cell_type": "code",
   "execution_count": 79,
   "metadata": {},
   "outputs": [
    {
     "name": "stdout",
     "output_type": "stream",
     "text": [
      "0 0\n",
      "10000 10728\n",
      "20000 21485\n",
      "30000 32199\n",
      "40000 42923\n",
      "50000 53649\n",
      "60000 64396\n",
      "70000 75131\n",
      "80000 85862\n",
      "90000 96584\n",
      "100000 107277\n",
      "110000 118011\n",
      "120000 128730\n",
      "130000 139431\n",
      "140000 150172\n",
      "150000 160931\n",
      "160000 171687\n",
      "170000 182376\n",
      "180000 193128\n"
     ]
    }
   ],
   "source": [
    "mag_norm_glsne = []\n",
    "for i, idx in list(enumerate(keep_rows)):\n",
    "    if i % 10000 == 0:\n",
    "        print(i, idx)\n",
    "    test_sed = Sed()\n",
    "    test_sed.readSED_flambda(os.path.join(str(os.environ['SIMS_SED_LIBRARY_DIR']), sed_name_array[i][0]))\n",
    "    fnorm = test_sed.calcFluxNorm(dc2_df_system['lensgal_mi'].iloc[idx], test_bandpassDict['i'])\n",
    "    test_sed.multiplyFluxNorm(fnorm)\n",
    "    mag_norm_glsne.append(test_sed.calcMag(imsimband))"
   ]
  },
  {
   "cell_type": "code",
   "execution_count": 80,
   "metadata": {},
   "outputs": [],
   "source": [
    "mag_norm_glsne = np.array(mag_norm_glsne)"
   ]
  },
  {
   "cell_type": "code",
   "execution_count": 81,
   "metadata": {},
   "outputs": [],
   "source": [
    "sed_metals = []\n",
    "sed_ages = []\n",
    "sed_metals_dict = {'0005Z':'.005', '002Z':'.02', '02Z':'.2', '04Z':'.4', '1Z':'1.0', '25Z':'2.5'}\n",
    "for sed_template in sed_name_array:\n",
    "    sed_info = sed_template[0].split('/')[1].split('.')\n",
    "    sed_age_info = sed_info[1].split('E')\n",
    "    sed_ages.append(np.power(10, int(sed_age_info[1]))*int(sed_age_info[0]))\n",
    "    sed_metals.append(sed_metals_dict[sed_info[2]])"
   ]
  },
  {
   "cell_type": "code",
   "execution_count": 82,
   "metadata": {},
   "outputs": [
    {
     "name": "stderr",
     "output_type": "stream",
     "text": [
      "/global/common/software/lsst/common/miniconda/py3-4.3.21-env/lib/python3.6/site-packages/matplotlib/font_manager.py:1297: UserWarning: findfont: Font family ['serif'] not found. Falling back to DejaVu Sans\n",
      "  (prop.get_family(), self.defaultFamily[fontext]))\n"
     ]
    },
    {
     "data": {
      "text/plain": [
       "<matplotlib.text.Text at 0x2b2de078af60>"
      ]
     },
     "execution_count": 82,
     "metadata": {},
     "output_type": "execute_result"
    },
    {
     "data": {
      "image/png": "[encoded data removed]",
      "text/plain": [
       "<matplotlib.figure.Figure at 0x2b2e4f943cf8>"
      ]
     },
     "metadata": {},
     "output_type": "display_data"
    }
   ],
   "source": [
    "fig = plt.figure(figsize=(12, 6))\n",
    "mpl.rcParams['text.usetex'] = False\n",
    "fig.add_subplot(1,2,1)\n",
    "plt.hist(np.log10(sed_ages))\n",
    "plt.xlabel('Log10(Galaxy Age (years))')\n",
    "plt.ylabel('Counts')\n",
    "fig.add_subplot(1,2,2)\n",
    "names, counts = np.unique(sed_metals, return_counts=True)\n",
    "x = np.arange(len(names), dtype=int)\n",
    "plt.bar(x, counts)\n",
    "plt.xticks(x, names)\n",
    "plt.xlabel('Metallicity (Z_sun)')\n",
    "plt.ylabel('Counts')\n",
    "plt.tight_layout()\n",
    "plt.subplots_adjust(top=0.9)\n",
    "plt.suptitle('Age and Metallicity of matched SED templates')"
   ]
  },
  {
   "cell_type": "markdown",
   "metadata": {},
   "source": [
    "We want our lens galaxies to be large, red ellipticals and it looks like we are getting older, redder galaxies which looks like we are succeeding."
   ]
  },
  {
   "cell_type": "markdown",
   "metadata": {},
   "source": [
    "## Adding new info to Twinkles GLSNe catalog"
   ]
  },
  {
   "cell_type": "markdown",
   "metadata": {},
   "source": [
    "We will take all the columns currently in the Twinkles GLSNe catalog and add in our new SED filenames and SED magnitude normalizations for PhoSim."
   ]
  },
  {
   "cell_type": "code",
   "execution_count": 29,
   "metadata": {},
   "outputs": [
    {
     "data": {
      "text/plain": [
       "<matplotlib.text.Text at 0x2b2de06d79b0>"
      ]
     },
     "execution_count": 29,
     "metadata": {},
     "output_type": "execute_result"
    },
    {
     "name": "stderr",
     "output_type": "stream",
     "text": [
      "/global/common/software/lsst/common/miniconda/py3-4.3.21-env/lib/python3.6/site-packages/matplotlib/font_manager.py:1297: UserWarning: findfont: Font family ['serif'] not found. Falling back to DejaVu Sans\n",
      "  (prop.get_family(), self.defaultFamily[fontext]))\n"
     ]
    },
    {
     "data": {
      "image/png": "[encoded data removed]",
      "text/plain": [
       "<matplotlib.figure.Figure at 0x2b2de04bf828>"
      ]
     },
     "metadata": {},
     "output_type": "display_data"
    }
   ],
   "source": [
    "# Double check the distribution of t0\n",
    "mpl.rcParams['text.usetex'] = False\n",
    "plt.hist(dc2_df_system['t0'])\n",
    "plt.xlabel('Start Date (MJD)')\n",
    "plt.ylabel('Count')"
   ]
  },
  {
   "cell_type": "markdown",
   "metadata": {},
   "source": [
    "In the final catalog we produce we only want to include the systems we were able to match to a `gcr` galaxy."
   ]
  },
  {
   "cell_type": "code",
   "execution_count": 83,
   "metadata": {},
   "outputs": [
    {
     "name": "stdout",
     "output_type": "stream",
     "text": [
      "183460 183460\n"
     ]
    }
   ],
   "source": [
    "results_dict = {}\n",
    "print(len(keep_rows), len(gcr_z))\n",
    "for keep_idx in range(len(keep_rows)):\n",
    "    results_dict[str(dc2_df_system['sysno'].iloc[keep_rows[keep_idx]])] = {'z':gcr_z[keep_idx],\n",
    "                                                                           'sed_name':sed_name_array[keep_idx],\n",
    "                                                                           'magNorm':mag_norm_glsne[keep_idx]}"
   ]
  },
  {
   "cell_type": "code",
   "execution_count": 84,
   "metadata": {},
   "outputs": [],
   "source": [
    "keep_systems = dc2_df_system['sysno'].iloc[keep_rows].values"
   ]
  },
  {
   "cell_type": "code",
   "execution_count": 87,
   "metadata": {},
   "outputs": [],
   "source": [
    "final_df_z = []\n",
    "final_df_lens_sed = []\n",
    "final_df_magNorm = []\n",
    "\n",
    "keep_in_df = []\n",
    "\n",
    "for idx, twinkles_sys in enumerate(dc2_df_system['sysno']):\n",
    "    if twinkles_sys in keep_systems:\n",
    "        keep_in_df.append(idx)\n",
    "        final_df_z.append(results_dict[str(twinkles_sys)]['z'])\n",
    "        final_df_lens_sed.append(results_dict[str(twinkles_sys)]['sed_name'][0])\n",
    "        final_df_magNorm.append(results_dict[str(twinkles_sys)]['magNorm'])"
   ]
  },
  {
   "cell_type": "code",
   "execution_count": 90,
   "metadata": {},
   "outputs": [],
   "source": [
    "final_df = dc2_df_system.iloc[keep_in_df]\n",
    "final_df = final_df.reset_index(drop=True)"
   ]
  },
  {
   "cell_type": "code",
   "execution_count": 91,
   "metadata": {},
   "outputs": [],
   "source": [
    "final_df['lensgal_magnorm'] = final_df_magNorm\n",
    "final_df['lensgal_sed'] = final_df_lens_sed"
   ]
  },
  {
   "cell_type": "code",
   "execution_count": 92,
   "metadata": {},
   "outputs": [
    {
     "data": {
      "text/html": [
       "<div>\n",
       "<style>\n",
       "    .dataframe thead tr:only-child th {\n",
       "        text-align: right;\n",
       "    }\n",
       "\n",
       "    .dataframe thead th {\n",
       "        text-align: left;\n",
       "    }\n",
       "\n",
       "    .dataframe tbody tr th {\n",
       "        vertical-align: top;\n",
       "    }\n",
       "</style>\n",
       "<table border=\"1\" class=\"dataframe\">\n",
       "  <thead>\n",
       "    <tr style=\"text-align: right;\">\n",
       "      <th></th>\n",
       "      <th>t0</th>\n",
       "      <th>sigma</th>\n",
       "      <th>gamma</th>\n",
       "      <th>e</th>\n",
       "      <th>theta_e</th>\n",
       "      <th>theta_gamma</th>\n",
       "      <th>zs</th>\n",
       "      <th>zl</th>\n",
       "      <th>snx</th>\n",
       "      <th>sny</th>\n",
       "      <th>...</th>\n",
       "      <th>lensgal_type</th>\n",
       "      <th>lensgal_x</th>\n",
       "      <th>lensgal_y</th>\n",
       "      <th>t_found</th>\n",
       "      <th>lensgal_mi</th>\n",
       "      <th>x0</th>\n",
       "      <th>x1</th>\n",
       "      <th>c</th>\n",
       "      <th>lensgal_magnorm</th>\n",
       "      <th>lensgal_sed</th>\n",
       "    </tr>\n",
       "  </thead>\n",
       "  <tbody>\n",
       "    <tr>\n",
       "      <th>0</th>\n",
       "      <td>62307.945863</td>\n",
       "      <td>197.670149</td>\n",
       "      <td>0.128101</td>\n",
       "      <td>0.570391</td>\n",
       "      <td>132.165475</td>\n",
       "      <td>135.210348</td>\n",
       "      <td>0.435736</td>\n",
       "      <td>0.152485</td>\n",
       "      <td>-0.136216</td>\n",
       "      <td>0.144903</td>\n",
       "      <td>...</td>\n",
       "      <td>kinney-elliptical</td>\n",
       "      <td>0.0</td>\n",
       "      <td>0.0</td>\n",
       "      <td>62309.959876</td>\n",
       "      <td>17.063607</td>\n",
       "      <td>0.000015</td>\n",
       "      <td>0.0</td>\n",
       "      <td>0.0</td>\n",
       "      <td>17.926420</td>\n",
       "      <td>galaxySED/Exp.80E09.04Z.spec.gz</td>\n",
       "    </tr>\n",
       "    <tr>\n",
       "      <th>1</th>\n",
       "      <td>62986.222880</td>\n",
       "      <td>270.972759</td>\n",
       "      <td>0.040137</td>\n",
       "      <td>0.785929</td>\n",
       "      <td>349.848750</td>\n",
       "      <td>76.941654</td>\n",
       "      <td>0.812597</td>\n",
       "      <td>0.106528</td>\n",
       "      <td>0.229110</td>\n",
       "      <td>-0.578431</td>\n",
       "      <td>...</td>\n",
       "      <td>kinney-elliptical</td>\n",
       "      <td>0.0</td>\n",
       "      <td>0.0</td>\n",
       "      <td>63001.066591</td>\n",
       "      <td>16.819399</td>\n",
       "      <td>0.000003</td>\n",
       "      <td>0.0</td>\n",
       "      <td>0.0</td>\n",
       "      <td>17.612719</td>\n",
       "      <td>galaxySED/Exp.80E09.02Z.spec.gz</td>\n",
       "    </tr>\n",
       "    <tr>\n",
       "      <th>2</th>\n",
       "      <td>60175.070270</td>\n",
       "      <td>168.759862</td>\n",
       "      <td>0.145709</td>\n",
       "      <td>0.704465</td>\n",
       "      <td>246.352212</td>\n",
       "      <td>103.154255</td>\n",
       "      <td>0.377906</td>\n",
       "      <td>0.036807</td>\n",
       "      <td>0.074938</td>\n",
       "      <td>-0.416329</td>\n",
       "      <td>...</td>\n",
       "      <td>kinney-elliptical</td>\n",
       "      <td>0.0</td>\n",
       "      <td>0.0</td>\n",
       "      <td>60180.306487</td>\n",
       "      <td>13.786878</td>\n",
       "      <td>0.000019</td>\n",
       "      <td>0.0</td>\n",
       "      <td>0.0</td>\n",
       "      <td>14.727646</td>\n",
       "      <td>galaxySED/Burst.12E10.04Z.spec.gz</td>\n",
       "    </tr>\n",
       "    <tr>\n",
       "      <th>3</th>\n",
       "      <td>61949.847395</td>\n",
       "      <td>118.022925</td>\n",
       "      <td>0.040725</td>\n",
       "      <td>0.593290</td>\n",
       "      <td>160.205181</td>\n",
       "      <td>318.665928</td>\n",
       "      <td>0.608011</td>\n",
       "      <td>0.062039</td>\n",
       "      <td>0.052200</td>\n",
       "      <td>0.120958</td>\n",
       "      <td>...</td>\n",
       "      <td>kinney-elliptical</td>\n",
       "      <td>0.0</td>\n",
       "      <td>0.0</td>\n",
       "      <td>61964.966613</td>\n",
       "      <td>16.656477</td>\n",
       "      <td>0.000006</td>\n",
       "      <td>0.0</td>\n",
       "      <td>0.0</td>\n",
       "      <td>16.816777</td>\n",
       "      <td>galaxySED/Inst.80E08.002Z.spec.gz</td>\n",
       "    </tr>\n",
       "    <tr>\n",
       "      <th>4</th>\n",
       "      <td>61115.635658</td>\n",
       "      <td>228.924462</td>\n",
       "      <td>0.078453</td>\n",
       "      <td>0.467754</td>\n",
       "      <td>193.369376</td>\n",
       "      <td>81.474409</td>\n",
       "      <td>0.223768</td>\n",
       "      <td>0.055731</td>\n",
       "      <td>-0.121008</td>\n",
       "      <td>0.485098</td>\n",
       "      <td>...</td>\n",
       "      <td>kinney-elliptical</td>\n",
       "      <td>0.0</td>\n",
       "      <td>0.0</td>\n",
       "      <td>61151.090221</td>\n",
       "      <td>14.858030</td>\n",
       "      <td>0.000065</td>\n",
       "      <td>0.0</td>\n",
       "      <td>0.0</td>\n",
       "      <td>15.798799</td>\n",
       "      <td>galaxySED/Burst.12E10.04Z.spec.gz</td>\n",
       "    </tr>\n",
       "  </tbody>\n",
       "</table>\n",
       "<p>5 rows × 42 columns</p>\n",
       "</div>"
      ],
      "text/plain": [
       "             t0       sigma     gamma         e     theta_e  theta_gamma  \\\n",
       "0  62307.945863  197.670149  0.128101  0.570391  132.165475   135.210348   \n",
       "1  62986.222880  270.972759  0.040137  0.785929  349.848750    76.941654   \n",
       "2  60175.070270  168.759862  0.145709  0.704465  246.352212   103.154255   \n",
       "3  61949.847395  118.022925  0.040725  0.593290  160.205181   318.665928   \n",
       "4  61115.635658  228.924462  0.078453  0.467754  193.369376    81.474409   \n",
       "\n",
       "         zs        zl       snx       sny                ...                  \\\n",
       "0  0.435736  0.152485 -0.136216  0.144903                ...                   \n",
       "1  0.812597  0.106528  0.229110 -0.578431                ...                   \n",
       "2  0.377906  0.036807  0.074938 -0.416329                ...                   \n",
       "3  0.608011  0.062039  0.052200  0.120958                ...                   \n",
       "4  0.223768  0.055731 -0.121008  0.485098                ...                   \n",
       "\n",
       "        lensgal_type  lensgal_x  lensgal_y       t_found  lensgal_mi  \\\n",
       "0  kinney-elliptical        0.0        0.0  62309.959876   17.063607   \n",
       "1  kinney-elliptical        0.0        0.0  63001.066591   16.819399   \n",
       "2  kinney-elliptical        0.0        0.0  60180.306487   13.786878   \n",
       "3  kinney-elliptical        0.0        0.0  61964.966613   16.656477   \n",
       "4  kinney-elliptical        0.0        0.0  61151.090221   14.858030   \n",
       "\n",
       "         x0   x1    c  lensgal_magnorm                        lensgal_sed  \n",
       "0  0.000015  0.0  0.0        17.926420    galaxySED/Exp.80E09.04Z.spec.gz  \n",
       "1  0.000003  0.0  0.0        17.612719    galaxySED/Exp.80E09.02Z.spec.gz  \n",
       "2  0.000019  0.0  0.0        14.727646  galaxySED/Burst.12E10.04Z.spec.gz  \n",
       "3  0.000006  0.0  0.0        16.816777  galaxySED/Inst.80E08.002Z.spec.gz  \n",
       "4  0.000065  0.0  0.0        15.798799  galaxySED/Burst.12E10.04Z.spec.gz  \n",
       "\n",
       "[5 rows x 42 columns]"
      ]
     },
     "execution_count": 92,
     "metadata": {},
     "output_type": "execute_result"
    }
   ],
   "source": [
    "final_df.head()"
   ]
  },
  {
   "cell_type": "markdown",
   "metadata": {},
   "source": [
    "Great! Looks like everything is in our new catalog and we can now save it to file."
   ]
  },
  {
   "cell_type": "code",
   "execution_count": 94,
   "metadata": {},
   "outputs": [],
   "source": [
    "final_df.to_hdf('/global/cscratch1/sd/brycek/glsne_dc2_v2_with_seds.h5', key='system', format='table')"
   ]
  },
  {
   "cell_type": "code",
   "execution_count": 95,
   "metadata": {},
   "outputs": [],
   "source": [
    "dc2_df_image.to_hdf('/global/cscratch1/sd/brycek/glsne_dc2_v2_with_seds.h5', mode='a', key='image', format='table')"
   ]
  },
  {
   "cell_type": "code",
   "execution_count": null,
   "metadata": {},
   "outputs": [],
   "source": []
  }
 ],
 "metadata": {
  "anaconda-cloud": {},
  "kernelspec": {
   "display_name": "lsst",
   "language": "python",
   "name": "lsst"
  },
  "language_info": {
   "codemirror_mode": {
    "name": "ipython",
    "version": 3
   },
   "file_extension": ".py",
   "mimetype": "text/x-python",
   "name": "python",
   "nbconvert_exporter": "python",
   "pygments_lexer": "ipython3",
   "version": "3.6.2"
  }
 },
 "nbformat": 4,
 "nbformat_minor": 2
}
