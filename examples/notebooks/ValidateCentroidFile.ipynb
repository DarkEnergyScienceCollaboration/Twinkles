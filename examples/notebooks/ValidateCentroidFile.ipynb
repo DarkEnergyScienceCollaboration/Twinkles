{
 "cells": [
  {
   "cell_type": "markdown",
   "metadata": {},
   "source": [
    "### Validate PhoSim centroid file\n",
    "\n",
    "This notebook will read in a PhoSim InstanceCatalog and the corresponding centroid file, use CatSim to calculate the pixel positions of each source in the InstanceCatalog, and then compare those predicted positions with the pixel positions reported by PhoSim.  Note: since CatSim does not rigorously treat atmospheric refraction, we should expect there to be some offset between the CatSim- and PhoSim-reported pixel positions."
   ]
  },
  {
   "cell_type": "code",
   "execution_count": null,
   "metadata": {
    "collapsed": false
   },
   "outputs": [],
   "source": [
    "%matplotlib inline\n",
    "import matplotlib\n",
    "matplotlib.use('Agg')\n",
    "import matplotlib.pyplot as plt\n",
    "from matplotlib.colors import LogNorm"
   ]
  },
  {
   "cell_type": "code",
   "execution_count": null,
   "metadata": {
    "collapsed": true
   },
   "outputs": [],
   "source": [
    "import os\n",
    "data_dir = os.path.join(\"/Users\", \"danielsf\", \"physics\",\n",
    "                        \"lsst_160212\", \"Development\",\n",
    "                        \"Twinkles\", \"workspace\")\n",
    "\n",
    "cat_name = os.path.join(data_dir,\n",
    "                       \"phosim_231488_cat.txt\")\n",
    "\n",
    "centroid_name = os.path.join(data_dir,\n",
    "                             \"centroid_lsst_e_231488_f5_R22_S11_E000.txt\")"
   ]
  },
  {
   "cell_type": "code",
   "execution_count": null,
   "metadata": {
    "collapsed": false
   },
   "outputs": [],
   "source": [
    "from desc.twinkles import getPredictedCentroids\n",
    "catsim_data = getPredictedCentroids(cat_name)"
   ]
  },
  {
   "cell_type": "code",
   "execution_count": null,
   "metadata": {
    "collapsed": false
   },
   "outputs": [],
   "source": [
    "import pandas as pd\n",
    "import numpy as np\n",
    "\n",
    "dtype = np.dtype([('id',long), ('nphot', int), ('x',float), ('y',float)])\n",
    "_phosim_data = np.genfromtxt(centroid_name, dtype=dtype, skip_header=1)\n",
    "phosim_data = pd.DataFrame({'id': _phosim_data['id'],\n",
    "                            'nphot': _phosim_data['nphot'],\n",
    "                            'x': _phosim_data['x'],\n",
    "                            'y': _phosim_data['y']})\n"
   ]
  },
  {
   "cell_type": "markdown",
   "metadata": {},
   "source": [
    "Make sure that any sources which appear in the PhoSim centroid file, but not in the CatSim-predicted centroid file have `id==0` (this is actually paranoid, since we have calculated the pixel positions of all of the objects in the catalog as if they did land on the Twinkles chip)"
   ]
  },
  {
   "cell_type": "code",
   "execution_count": null,
   "metadata": {
    "collapsed": false
   },
   "outputs": [],
   "source": [
    "just_phosim = phosim_data[np.logical_not(phosim_data.id.isin(catsim_data.id.values).values)]\n",
    "print len(just_phosim)\n",
    "try:\n",
    "    assert just_phosim.id.max() == 0\n",
    "except:\n",
    "    print 'a source with non-zero ID appears in PhoSim centroid file, but not CatSim centroid file'\n",
    "    raise\n"
   ]
  },
  {
   "cell_type": "markdown",
   "metadata": {},
   "source": [
    "Find all of the CatSim sources that appeared in the PhoSim centroid file"
   ]
  },
  {
   "cell_type": "code",
   "execution_count": null,
   "metadata": {
    "collapsed": true
   },
   "outputs": [],
   "source": [
    "catsim_phosim = catsim_data.merge(phosim_data, left_on='id', right_on='id',\n",
    "                                  how='left', suffixes=('_catsim', '_phosim'))\n",
    "\n",
    "catsim_phosim['dx'] = pandas.Series(catsim_phosim['x_catsim']-catsim_phosim['x_phosim'], index=catsim_phosim.index)\n",
    "catsim_phosim['dy'] = pandas.Series(catsim_phosim['y_catsim']-catsim_phosim['y_phosim'], index=catsim_phosim.index)\n",
    "\n",
    "# select points that actually showed up with non-NaN positions on the PhoSim image\n",
    "overlap = np.logical_not(np.logical_or(catsim_phosim['x_phosim'].isnull(),\n",
    "                                    catsim_phosim['y_phosim'].isnull()))\n",
    "\n",
    "overlap = catsim_phosim[overlap]\n",
    "\n",
    "bright_sources = overlap.query('nphot>0')\n",
    "bright_sources = bright_sources.sort_values(by='nphot')\n"
   ]
  },
  {
   "cell_type": "markdown",
   "metadata": {},
   "source": [
    "Plot the displacement between CatSim and PhoSim position in pixels.  The color bar indicates the number of photons in each source.  We will do three plots, at different degrees of resolution for the InstanceCatalog."
   ]
  },
  {
   "cell_type": "code",
   "execution_count": null,
   "metadata": {
    "collapsed": false
   },
   "outputs": [],
   "source": [
    "for i_fig, limit in enumerate(((-20, 20), (-50, 50), (-200,200))):\n",
    "    plt.figure()\n",
    "    plt.scatter(bright_sources.dx,bright_sources.dy,c=bright_sources.nphot,\n",
    "                s=10,edgecolor='',cmap=plt.cm.gist_ncar,norm=LogNorm())\n",
    "\n",
    "    ticks = np.arange(limit[0],limit[1],(limit[1]-limit[0])/6)\n",
    "    tick_labels = ['%.2e' % vv if ix%2==0 else '' for ix, vv in enumerate(ticks)]\n",
    "\n",
    "    plt.xlim(limit)\n",
    "    plt.ylim(limit)\n",
    "    plt.xticks(ticks, tick_labels, fontsize=10)\n",
    "    plt.yticks(ticks, tick_labels, fontsize=10)\n",
    "    plt.minorticks_on()\n",
    "    plt.tick_params(axis='both', length=10)\n",
    "\n",
    "    cb = plt.colorbar()\n",
    "    cb.set_label('photons in source')\n",
    "    plt.xlabel('dx (pixels)')\n",
    "    plt.ylabel('dy (pixels)')\n",
    "\n",
    "plt.figure()\n",
    "plt.scatter(bright_sources.dx,bright_sources.dy,c=bright_sources.nphot,\n",
    "            s=10,edgecolor='',cmap=plt.cm.gist_ncar,norm=LogNorm())\n",
    "\n",
    "plt.minorticks_on()\n",
    "plt.tick_params(axis='both', length=10)\n",
    "\n",
    "cb = plt.colorbar()\n",
    "cb.set_label('photons in source')\n",
    "plt.xlabel('dx (pixels)')\n",
    "plt.ylabel('dy (pixels)')\n"
   ]
  },
  {
   "cell_type": "markdown",
   "metadata": {},
   "source": [
    "Now plot the maximum absolute displacement in x and y as a function of the number of photons (i.e. for each unique value of `nphot`, plot the maximum of the absolute value of `dx` and `dy` for all sources with `nphot` greater than or equal to that unique value).  Again: show the same plot at different resolutions."
   ]
  },
  {
   "cell_type": "code",
   "execution_count": null,
   "metadata": {
    "collapsed": false
   },
   "outputs": [],
   "source": [
    "nphot_unique = np.unique(bright_sources.nphot)\n",
    "sorted_dex = np.argsort(-1.0*nphot_unique)\n",
    "nphot_unique = nphot_unique[sorted_dex]\n",
    "\n",
    "dx_of_nphot = np.array([np.abs(bright_sources.query('nphot>=%e' % nn).dx).max() for nn in nphot_unique[1:]])\n",
    "dy_of_nphot = np.array([np.abs(bright_sources.query('nphot>=%e' % nn).dy).max() for nn in nphot_unique[1:]])\n",
    "\n",
    "true_max = max(dx_of_nphot.max(), dy_of_nphot.max())\n",
    "\n",
    "plt.figsize = (30, 30)\n",
    "for ymax in (true_max, 200, 100, 50):\n",
    "    plt.figure()\n",
    "    plt.semilogx(nphot_unique[1:], dx_of_nphot, label='dx')\n",
    "    plt.semilogx(nphot_unique[1:], dy_of_nphot, label='dy')\n",
    "    plt.xlabel('minimum number of photons')\n",
    "    plt.ylabel('max pixel displacement')\n",
    "    plt.legend(loc=0)\n",
    "    plt.ylim(0,ymax)\n"
   ]
  },
  {
   "cell_type": "markdown",
   "metadata": {},
   "source": [
    "Calculate the weighted mean, mean, and median displacements in `x` and `y`"
   ]
  },
  {
   "cell_type": "code",
   "execution_count": null,
   "metadata": {
    "collapsed": false
   },
   "outputs": [],
   "source": [
    "nphot_sum = bright_sources.nphot.sum()\n",
    "weighted_dx = (bright_sources.dx*bright_sources.nphot).sum()/nphot_sum\n",
    "weighted_dy = (bright_sources.dy*bright_sources.nphot).sum()/nphot_sum\n",
    "\n",
    "print 'weighted dx (dy): ',weighted_dx, weighted_dy\n",
    "print 'mean dx (dy): ',bright_sources.dx.mean(),bright_sources.dy.mean()\n",
    "print 'median dx (dy): ',bright_sources.dx.median(),bright_sources.dy.median()\n"
   ]
  },
  {
   "cell_type": "code",
   "execution_count": null,
   "metadata": {
    "collapsed": true
   },
   "outputs": [],
   "source": []
  }
 ],
 "metadata": {
  "kernelspec": {
   "display_name": "Python 2",
   "language": "python",
   "name": "python2"
  },
  "language_info": {
   "codemirror_mode": {
    "name": "ipython",
    "version": 2
   },
   "file_extension": ".py",
   "mimetype": "text/x-python",
   "name": "python",
   "nbconvert_exporter": "python",
   "pygments_lexer": "ipython2",
   "version": "2.7.12"
  }
 },
 "nbformat": 4,
 "nbformat_minor": 0
}
