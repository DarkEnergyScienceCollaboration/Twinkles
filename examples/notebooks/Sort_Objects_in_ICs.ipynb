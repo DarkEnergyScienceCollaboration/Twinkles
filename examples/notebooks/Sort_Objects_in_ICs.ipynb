{
 "cells": [
  {
   "cell_type": "markdown",
   "metadata": {},
   "source": [
    "# Sorting Objects in Instance Catalogs\n",
    "\n",
    "_Bryce Kalmbach_\n",
    "\n",
    "This notebook provides a series of commands that take a Twinkles Phosim Instance Catalog and creates different pandas dataframes for different types of objects in the catalog. It first separates the full sets of objects in the Instance Catalogs before picking out the sprinkled strongly lensed systems for further analysis. The complete object dataframes contain:\n",
    "   * Stars: All stars in the Instance Catalog\n",
    "   * Galaxies: All bulge and disk components of galaxies in the Instance Catalog\n",
    "   * AGN: All AGN in the Instance Catalog\n",
    "   * SNe: The supernovae that are present in the Instance Catalog\n",
    "   \n",
    "Then there are sprinkled strongly lensed systems dataframes containing:\n",
    "   * Sprinkled AGN galaxies: The images of the lensed AGNs\n",
    "   * Lens Galaxies: These are the foreground galaxies in the lens system.\n",
    "   * **(Not Default)** Sprinkled AGN Host galaxies: While these were turned off in Run 1 of Twinkles the original motivation for this notebook was to find these objects in a catalog to help development of lensed hosts at the DESC 2017 SLAC Collaboration Meeting Hack Day.\n",
    "   \n",
    "## Requirements\n",
    "    \n",
    "If you already have an instance catalog from Twinkles on hand all you need now are:\n",
    "   * Pandas\n",
    "   * Numpy"
   ]
  },
  {
   "cell_type": "code",
   "execution_count": 1,
   "metadata": {
    "collapsed": true
   },
   "outputs": [],
   "source": [
    "import pandas as pd\n",
    "import numpy as np"
   ]
  },
  {
   "cell_type": "markdown",
   "metadata": {},
   "source": [
    "### Parsing the Instance Catalog\n",
    "Here we run through the instance catalog and store which rows belong to which class of object. This is necessary since the catalog objects do not all have the same number of properties so we cannot just import them all and then sort within a dataframe."
   ]
  },
  {
   "cell_type": "code",
   "execution_count": 2,
   "metadata": {
    "collapsed": true
   },
   "outputs": [],
   "source": [
    "filename = 'twinkles_phosim_input_230.txt'"
   ]
  },
  {
   "cell_type": "code",
   "execution_count": 3,
   "metadata": {
    "collapsed": false
   },
   "outputs": [],
   "source": [
    "i = 0\n",
    "not_star_rows = []\n",
    "not_galaxy_rows = []\n",
    "not_agn_rows = []\n",
    "not_sne_rows = []\n",
    "with open(filename, 'r') as f:\n",
    "    for line in f:\n",
    "        new_str = line.split(' ')\n",
    "        #Skip through the header\n",
    "        if len(new_str) < 4:\n",
    "            not_star_rows.append(i)\n",
    "            not_galaxy_rows.append(i)\n",
    "            not_agn_rows.append(i)\n",
    "            not_sne_rows.append(i)\n",
    "            i+=1\n",
    "            continue\n",
    "        if new_str[5].startswith('starSED'):\n",
    "            #star_rows.append(i)\n",
    "            not_galaxy_rows.append(i)\n",
    "            not_agn_rows.append(i)\n",
    "            not_sne_rows.append(i)\n",
    "        elif new_str[5].startswith('galaxySED'):\n",
    "            #galaxy_rows.append(i)\n",
    "            not_star_rows.append(i)\n",
    "            not_agn_rows.append(i)\n",
    "            not_sne_rows.append(i)\n",
    "        elif new_str[5].startswith('agnSED'):\n",
    "            #agn_rows.append(i)\n",
    "            not_star_rows.append(i)\n",
    "            not_galaxy_rows.append(i)\n",
    "            not_sne_rows.append(i)\n",
    "        elif new_str[5].startswith('spectra_files'):\n",
    "            #sne_rows.append(i)\n",
    "            not_star_rows.append(i)\n",
    "            not_galaxy_rows.append(i)\n",
    "            not_agn_rows.append(i)\n",
    "        i += 1"
   ]
  },
  {
   "cell_type": "markdown",
   "metadata": {},
   "source": [
    "### Populating Dataframes\n",
    "Now we load the dataframes for the overall sets of objects."
   ]
  },
  {
   "cell_type": "code",
   "execution_count": 4,
   "metadata": {
    "collapsed": true
   },
   "outputs": [],
   "source": [
    "df_star = pd.read_csv(filename, delimiter=' ', header=None,\n",
    "                      names = ['prefix', 'uniqueId', 'raPhosim', 'decPhoSim', \n",
    "                               'phoSimMagNorm', 'sedFilepath', 'redshift', \n",
    "                               'shear1', 'shear2', 'kappa', 'raOffset', 'decOffset',\n",
    "                               'spatialmodel', 'internalExtinctionModel',\n",
    "                               'galacticExtinctionModel', 'galacticAv', 'galacticRv'],\n",
    "                      skiprows=not_star_rows)"
   ]
  },
  {
   "cell_type": "code",
   "execution_count": 5,
   "metadata": {
    "collapsed": false
   },
   "outputs": [
    {
     "data": {
      "text/html": [
       "<div>\n",
       "<table border=\"1\" class=\"dataframe\">\n",
       "  <thead>\n",
       "    <tr style=\"text-align: right;\">\n",
       "      <th></th>\n",
       "      <th>prefix</th>\n",
       "      <th>uniqueId</th>\n",
       "      <th>raPhosim</th>\n",
       "      <th>decPhoSim</th>\n",
       "      <th>phoSimMagNorm</th>\n",
       "      <th>sedFilepath</th>\n",
       "      <th>redshift</th>\n",
       "      <th>shear1</th>\n",
       "      <th>shear2</th>\n",
       "      <th>kappa</th>\n",
       "      <th>raOffset</th>\n",
       "      <th>decOffset</th>\n",
       "      <th>spatialmodel</th>\n",
       "      <th>internalExtinctionModel</th>\n",
       "      <th>galacticExtinctionModel</th>\n",
       "      <th>galacticAv</th>\n",
       "      <th>galacticRv</th>\n",
       "    </tr>\n",
       "  </thead>\n",
       "  <tbody>\n",
       "    <tr>\n",
       "      <th>0</th>\n",
       "      <td>object</td>\n",
       "      <td>16285577220</td>\n",
       "      <td>52.904543</td>\n",
       "      <td>-27.188795</td>\n",
       "      <td>25.270918</td>\n",
       "      <td>starSED/wDs/bergeron_5000_90.dat_5100.gz</td>\n",
       "      <td>0</td>\n",
       "      <td>0</td>\n",
       "      <td>0</td>\n",
       "      <td>0</td>\n",
       "      <td>0</td>\n",
       "      <td>0</td>\n",
       "      <td>point</td>\n",
       "      <td>none</td>\n",
       "      <td>CCM</td>\n",
       "      <td>0.024576</td>\n",
       "      <td>3.1</td>\n",
       "    </tr>\n",
       "    <tr>\n",
       "      <th>1</th>\n",
       "      <td>object</td>\n",
       "      <td>16288599044</td>\n",
       "      <td>52.965934</td>\n",
       "      <td>-27.207791</td>\n",
       "      <td>24.626965</td>\n",
       "      <td>starSED/wDs/bergeron_4500_80.dat_4700.gz</td>\n",
       "      <td>0</td>\n",
       "      <td>0</td>\n",
       "      <td>0</td>\n",
       "      <td>0</td>\n",
       "      <td>0</td>\n",
       "      <td>0</td>\n",
       "      <td>point</td>\n",
       "      <td>none</td>\n",
       "      <td>CCM</td>\n",
       "      <td>0.023116</td>\n",
       "      <td>3.1</td>\n",
       "    </tr>\n",
       "    <tr>\n",
       "      <th>2</th>\n",
       "      <td>object</td>\n",
       "      <td>16291377156</td>\n",
       "      <td>52.780645</td>\n",
       "      <td>-27.258553</td>\n",
       "      <td>22.887791</td>\n",
       "      <td>starSED/wDs/bergeron_5500_80.dat_5700.gz</td>\n",
       "      <td>0</td>\n",
       "      <td>0</td>\n",
       "      <td>0</td>\n",
       "      <td>0</td>\n",
       "      <td>0</td>\n",
       "      <td>0</td>\n",
       "      <td>point</td>\n",
       "      <td>none</td>\n",
       "      <td>CCM</td>\n",
       "      <td>0.034913</td>\n",
       "      <td>3.1</td>\n",
       "    </tr>\n",
       "  </tbody>\n",
       "</table>\n",
       "</div>"
      ],
      "text/plain": [
       "   prefix     uniqueId   raPhosim  decPhoSim  phoSimMagNorm  \\\n",
       "0  object  16285577220  52.904543 -27.188795      25.270918   \n",
       "1  object  16288599044  52.965934 -27.207791      24.626965   \n",
       "2  object  16291377156  52.780645 -27.258553      22.887791   \n",
       "\n",
       "                                sedFilepath  redshift  shear1  shear2  kappa  \\\n",
       "0  starSED/wDs/bergeron_5000_90.dat_5100.gz         0       0       0      0   \n",
       "1  starSED/wDs/bergeron_4500_80.dat_4700.gz         0       0       0      0   \n",
       "2  starSED/wDs/bergeron_5500_80.dat_5700.gz         0       0       0      0   \n",
       "\n",
       "   raOffset  decOffset spatialmodel internalExtinctionModel  \\\n",
       "0         0          0        point                    none   \n",
       "1         0          0        point                    none   \n",
       "2         0          0        point                    none   \n",
       "\n",
       "  galacticExtinctionModel  galacticAv  galacticRv  \n",
       "0                     CCM    0.024576         3.1  \n",
       "1                     CCM    0.023116         3.1  \n",
       "2                     CCM    0.034913         3.1  "
      ]
     },
     "execution_count": 5,
     "metadata": {},
     "output_type": "execute_result"
    }
   ],
   "source": [
    "df_star[:3]"
   ]
  },
  {
   "cell_type": "code",
   "execution_count": 6,
   "metadata": {
    "collapsed": false
   },
   "outputs": [],
   "source": [
    "df_galaxy = pd.read_csv(filename, delimiter=' ', header=None, \n",
    "                        names=['prefix', 'uniqueId', 'raPhoSim', 'decPhoSim', \n",
    "                              'phoSimMagNorm', 'sedFilepath',\n",
    "                              'redshift', 'shear1', 'shear2', 'kappa', \n",
    "                              'raOffset', 'decOffset', 'spatialmodel', \n",
    "                              'majorAxis', 'minorAxis', 'positionAngle', 'sindex',\n",
    "                              'internalExtinctionModel', 'internalAv', 'internalRv',\n",
    "                              'galacticExtinctionModel', 'galacticAv', 'galacticRv'], \n",
    "                        skiprows=not_galaxy_rows)"
   ]
  },
  {
   "cell_type": "code",
   "execution_count": 7,
   "metadata": {
    "collapsed": false
   },
   "outputs": [
    {
     "data": {
      "text/html": [
       "<div>\n",
       "<table border=\"1\" class=\"dataframe\">\n",
       "  <thead>\n",
       "    <tr style=\"text-align: right;\">\n",
       "      <th></th>\n",
       "      <th>prefix</th>\n",
       "      <th>uniqueId</th>\n",
       "      <th>raPhoSim</th>\n",
       "      <th>decPhoSim</th>\n",
       "      <th>phoSimMagNorm</th>\n",
       "      <th>sedFilepath</th>\n",
       "      <th>redshift</th>\n",
       "      <th>shear1</th>\n",
       "      <th>shear2</th>\n",
       "      <th>kappa</th>\n",
       "      <th>...</th>\n",
       "      <th>majorAxis</th>\n",
       "      <th>minorAxis</th>\n",
       "      <th>positionAngle</th>\n",
       "      <th>sindex</th>\n",
       "      <th>internalExtinctionModel</th>\n",
       "      <th>internalAv</th>\n",
       "      <th>internalRv</th>\n",
       "      <th>galacticExtinctionModel</th>\n",
       "      <th>galacticAv</th>\n",
       "      <th>galacticRv</th>\n",
       "    </tr>\n",
       "  </thead>\n",
       "  <tbody>\n",
       "    <tr>\n",
       "      <th>0</th>\n",
       "      <td>object</td>\n",
       "      <td>140314</td>\n",
       "      <td>53.012914</td>\n",
       "      <td>-27.540978</td>\n",
       "      <td>17.560391</td>\n",
       "      <td>galaxySED/Inst.32E09.02Z.spec.gz</td>\n",
       "      <td>0.104306</td>\n",
       "      <td>0</td>\n",
       "      <td>0</td>\n",
       "      <td>0</td>\n",
       "      <td>...</td>\n",
       "      <td>0.000016</td>\n",
       "      <td>0.000014</td>\n",
       "      <td>2.348059</td>\n",
       "      <td>4</td>\n",
       "      <td>CCM</td>\n",
       "      <td>0.5</td>\n",
       "      <td>3.1</td>\n",
       "      <td>CCM</td>\n",
       "      <td>0.027387</td>\n",
       "      <td>3.1</td>\n",
       "    </tr>\n",
       "    <tr>\n",
       "      <th>1</th>\n",
       "      <td>object</td>\n",
       "      <td>145434</td>\n",
       "      <td>53.071411</td>\n",
       "      <td>-27.316559</td>\n",
       "      <td>15.659390</td>\n",
       "      <td>galaxySED/Inst.25E09.02Z.spec.gz</td>\n",
       "      <td>0.079068</td>\n",
       "      <td>0</td>\n",
       "      <td>0</td>\n",
       "      <td>0</td>\n",
       "      <td>...</td>\n",
       "      <td>0.000024</td>\n",
       "      <td>0.000024</td>\n",
       "      <td>3.151106</td>\n",
       "      <td>4</td>\n",
       "      <td>CCM</td>\n",
       "      <td>0.6</td>\n",
       "      <td>3.1</td>\n",
       "      <td>CCM</td>\n",
       "      <td>0.021410</td>\n",
       "      <td>3.1</td>\n",
       "    </tr>\n",
       "    <tr>\n",
       "      <th>2</th>\n",
       "      <td>object</td>\n",
       "      <td>148506</td>\n",
       "      <td>53.173385</td>\n",
       "      <td>-27.282062</td>\n",
       "      <td>16.810310</td>\n",
       "      <td>galaxySED/Burst.32E09.02Z.spec.gz</td>\n",
       "      <td>0.079037</td>\n",
       "      <td>0</td>\n",
       "      <td>0</td>\n",
       "      <td>0</td>\n",
       "      <td>...</td>\n",
       "      <td>0.000008</td>\n",
       "      <td>0.000007</td>\n",
       "      <td>4.081670</td>\n",
       "      <td>4</td>\n",
       "      <td>CCM</td>\n",
       "      <td>0.6</td>\n",
       "      <td>3.1</td>\n",
       "      <td>CCM</td>\n",
       "      <td>0.018425</td>\n",
       "      <td>3.1</td>\n",
       "    </tr>\n",
       "  </tbody>\n",
       "</table>\n",
       "<p>3 rows × 23 columns</p>\n",
       "</div>"
      ],
      "text/plain": [
       "   prefix  uniqueId   raPhoSim  decPhoSim  phoSimMagNorm  \\\n",
       "0  object    140314  53.012914 -27.540978      17.560391   \n",
       "1  object    145434  53.071411 -27.316559      15.659390   \n",
       "2  object    148506  53.173385 -27.282062      16.810310   \n",
       "\n",
       "                         sedFilepath  redshift  shear1  shear2  kappa  \\\n",
       "0   galaxySED/Inst.32E09.02Z.spec.gz  0.104306       0       0      0   \n",
       "1   galaxySED/Inst.25E09.02Z.spec.gz  0.079068       0       0      0   \n",
       "2  galaxySED/Burst.32E09.02Z.spec.gz  0.079037       0       0      0   \n",
       "\n",
       "      ...      majorAxis  minorAxis positionAngle  sindex  \\\n",
       "0     ...       0.000016   0.000014      2.348059       4   \n",
       "1     ...       0.000024   0.000024      3.151106       4   \n",
       "2     ...       0.000008   0.000007      4.081670       4   \n",
       "\n",
       "   internalExtinctionModel  internalAv  internalRv galacticExtinctionModel  \\\n",
       "0                      CCM         0.5         3.1                     CCM   \n",
       "1                      CCM         0.6         3.1                     CCM   \n",
       "2                      CCM         0.6         3.1                     CCM   \n",
       "\n",
       "   galacticAv  galacticRv  \n",
       "0    0.027387         3.1  \n",
       "1    0.021410         3.1  \n",
       "2    0.018425         3.1  \n",
       "\n",
       "[3 rows x 23 columns]"
      ]
     },
     "execution_count": 7,
     "metadata": {},
     "output_type": "execute_result"
    }
   ],
   "source": [
    "df_galaxy[:3]"
   ]
  },
  {
   "cell_type": "code",
   "execution_count": 8,
   "metadata": {
    "collapsed": false
   },
   "outputs": [],
   "source": [
    "df_agn = pd.read_csv(filename, delimiter=' ', header=None, \n",
    "                     names=['prefix', 'uniqueId', 'raPhoSim', 'decPhoSim', \n",
    "                            'phoSimMagNorm', 'sedFilepath', 'redshift', \n",
    "                            'shear1', 'shear2', 'kappa', 'raOffset', 'decOffset',\n",
    "                            'spatialmodel', 'internalExtinctionModel',\n",
    "                            'galacticExtinctionModel', 'galacticAv', 'galacticRv'],\n",
    "                     skiprows = not_agn_rows)"
   ]
  },
  {
   "cell_type": "code",
   "execution_count": 9,
   "metadata": {
    "collapsed": false
   },
   "outputs": [
    {
     "data": {
      "text/html": [
       "<div>\n",
       "<table border=\"1\" class=\"dataframe\">\n",
       "  <thead>\n",
       "    <tr style=\"text-align: right;\">\n",
       "      <th></th>\n",
       "      <th>prefix</th>\n",
       "      <th>uniqueId</th>\n",
       "      <th>raPhoSim</th>\n",
       "      <th>decPhoSim</th>\n",
       "      <th>phoSimMagNorm</th>\n",
       "      <th>sedFilepath</th>\n",
       "      <th>redshift</th>\n",
       "      <th>shear1</th>\n",
       "      <th>shear2</th>\n",
       "      <th>kappa</th>\n",
       "      <th>raOffset</th>\n",
       "      <th>decOffset</th>\n",
       "      <th>spatialmodel</th>\n",
       "      <th>internalExtinctionModel</th>\n",
       "      <th>galacticExtinctionModel</th>\n",
       "      <th>galacticAv</th>\n",
       "      <th>galacticRv</th>\n",
       "    </tr>\n",
       "  </thead>\n",
       "  <tbody>\n",
       "    <tr>\n",
       "      <th>0</th>\n",
       "      <td>object</td>\n",
       "      <td>3560476</td>\n",
       "      <td>52.900385</td>\n",
       "      <td>-27.306074</td>\n",
       "      <td>22.408952</td>\n",
       "      <td>agnSED/agn.spec.gz</td>\n",
       "      <td>0.203887</td>\n",
       "      <td>0</td>\n",
       "      <td>0</td>\n",
       "      <td>0</td>\n",
       "      <td>0</td>\n",
       "      <td>0</td>\n",
       "      <td>point</td>\n",
       "      <td>none</td>\n",
       "      <td>CCM</td>\n",
       "      <td>0.027625</td>\n",
       "      <td>3.1</td>\n",
       "    </tr>\n",
       "    <tr>\n",
       "      <th>1</th>\n",
       "      <td>object</td>\n",
       "      <td>9830428</td>\n",
       "      <td>53.104649</td>\n",
       "      <td>-27.402024</td>\n",
       "      <td>22.291993</td>\n",
       "      <td>agnSED/agn.spec.gz</td>\n",
       "      <td>0.153405</td>\n",
       "      <td>0</td>\n",
       "      <td>0</td>\n",
       "      <td>0</td>\n",
       "      <td>0</td>\n",
       "      <td>0</td>\n",
       "      <td>point</td>\n",
       "      <td>none</td>\n",
       "      <td>CCM</td>\n",
       "      <td>0.023402</td>\n",
       "      <td>3.1</td>\n",
       "    </tr>\n",
       "    <tr>\n",
       "      <th>2</th>\n",
       "      <td>object</td>\n",
       "      <td>14275612</td>\n",
       "      <td>52.768229</td>\n",
       "      <td>-27.536270</td>\n",
       "      <td>25.283909</td>\n",
       "      <td>agnSED/agn.spec.gz</td>\n",
       "      <td>0.303009</td>\n",
       "      <td>0</td>\n",
       "      <td>0</td>\n",
       "      <td>0</td>\n",
       "      <td>0</td>\n",
       "      <td>0</td>\n",
       "      <td>point</td>\n",
       "      <td>none</td>\n",
       "      <td>CCM</td>\n",
       "      <td>0.030570</td>\n",
       "      <td>3.1</td>\n",
       "    </tr>\n",
       "  </tbody>\n",
       "</table>\n",
       "</div>"
      ],
      "text/plain": [
       "   prefix  uniqueId   raPhoSim  decPhoSim  phoSimMagNorm         sedFilepath  \\\n",
       "0  object   3560476  52.900385 -27.306074      22.408952  agnSED/agn.spec.gz   \n",
       "1  object   9830428  53.104649 -27.402024      22.291993  agnSED/agn.spec.gz   \n",
       "2  object  14275612  52.768229 -27.536270      25.283909  agnSED/agn.spec.gz   \n",
       "\n",
       "   redshift  shear1  shear2  kappa  raOffset  decOffset spatialmodel  \\\n",
       "0  0.203887       0       0      0         0          0        point   \n",
       "1  0.153405       0       0      0         0          0        point   \n",
       "2  0.303009       0       0      0         0          0        point   \n",
       "\n",
       "  internalExtinctionModel galacticExtinctionModel  galacticAv  galacticRv  \n",
       "0                    none                     CCM    0.027625         3.1  \n",
       "1                    none                     CCM    0.023402         3.1  \n",
       "2                    none                     CCM    0.030570         3.1  "
      ]
     },
     "execution_count": 9,
     "metadata": {},
     "output_type": "execute_result"
    }
   ],
   "source": [
    "df_agn[:3]"
   ]
  },
  {
   "cell_type": "code",
   "execution_count": 10,
   "metadata": {
    "collapsed": true
   },
   "outputs": [],
   "source": [
    "df_sne = pd.read_csv(filename, delimiter=' ', header=None, \n",
    "                     names=['prefix', 'uniqueId', 'raPhoSim', 'decPhoSim',\n",
    "                            'phoSimMagNorm', 'shorterFileNames', 'redshift',\n",
    "                            'shear1', 'shear2', 'kappa', 'raOffset', 'decOffset',\n",
    "                            'spatialmodel', 'internalExtinctionModel',\n",
    "                            'galacticExtinctionModel', 'galacticAv', 'galacticRv'],\n",
    "                     skiprows = not_sne_rows)"
   ]
  },
  {
   "cell_type": "code",
   "execution_count": 11,
   "metadata": {
    "collapsed": false
   },
   "outputs": [
    {
     "data": {
      "text/html": [
       "<div>\n",
       "<table border=\"1\" class=\"dataframe\">\n",
       "  <thead>\n",
       "    <tr style=\"text-align: right;\">\n",
       "      <th></th>\n",
       "      <th>prefix</th>\n",
       "      <th>uniqueId</th>\n",
       "      <th>raPhoSim</th>\n",
       "      <th>decPhoSim</th>\n",
       "      <th>phoSimMagNorm</th>\n",
       "      <th>shorterFileNames</th>\n",
       "      <th>redshift</th>\n",
       "      <th>shear1</th>\n",
       "      <th>shear2</th>\n",
       "      <th>kappa</th>\n",
       "      <th>raOffset</th>\n",
       "      <th>decOffset</th>\n",
       "      <th>spatialmodel</th>\n",
       "      <th>internalExtinctionModel</th>\n",
       "      <th>galacticExtinctionModel</th>\n",
       "      <th>galacticAv</th>\n",
       "      <th>galacticRv</th>\n",
       "    </tr>\n",
       "  </thead>\n",
       "  <tbody>\n",
       "    <tr>\n",
       "      <th>0</th>\n",
       "      <td>object</td>\n",
       "      <td>49307690</td>\n",
       "      <td>52.979646</td>\n",
       "      <td>-27.228909</td>\n",
       "      <td>25.950800</td>\n",
       "      <td>spectra_files/specFile_48152_59580.1396_r.dat</td>\n",
       "      <td>0.5446</td>\n",
       "      <td>0</td>\n",
       "      <td>0</td>\n",
       "      <td>0</td>\n",
       "      <td>0</td>\n",
       "      <td>0</td>\n",
       "      <td>point</td>\n",
       "      <td>none</td>\n",
       "      <td>CCM</td>\n",
       "      <td>0.023483</td>\n",
       "      <td>3.1</td>\n",
       "    </tr>\n",
       "    <tr>\n",
       "      <th>1</th>\n",
       "      <td>object</td>\n",
       "      <td>58179626</td>\n",
       "      <td>52.729770</td>\n",
       "      <td>-27.305787</td>\n",
       "      <td>24.247278</td>\n",
       "      <td>spectra_files/specFile_56816_59580.1396_r.dat</td>\n",
       "      <td>0.9345</td>\n",
       "      <td>0</td>\n",
       "      <td>0</td>\n",
       "      <td>0</td>\n",
       "      <td>0</td>\n",
       "      <td>0</td>\n",
       "      <td>point</td>\n",
       "      <td>none</td>\n",
       "      <td>CCM</td>\n",
       "      <td>0.033048</td>\n",
       "      <td>3.1</td>\n",
       "    </tr>\n",
       "    <tr>\n",
       "      <th>2</th>\n",
       "      <td>object</td>\n",
       "      <td>68080682</td>\n",
       "      <td>53.196934</td>\n",
       "      <td>-27.564026</td>\n",
       "      <td>22.229699</td>\n",
       "      <td>spectra_files/specFile_66485_59580.1396_r.dat</td>\n",
       "      <td>0.3143</td>\n",
       "      <td>0</td>\n",
       "      <td>0</td>\n",
       "      <td>0</td>\n",
       "      <td>0</td>\n",
       "      <td>0</td>\n",
       "      <td>point</td>\n",
       "      <td>none</td>\n",
       "      <td>CCM</td>\n",
       "      <td>0.027329</td>\n",
       "      <td>3.1</td>\n",
       "    </tr>\n",
       "  </tbody>\n",
       "</table>\n",
       "</div>"
      ],
      "text/plain": [
       "   prefix  uniqueId   raPhoSim  decPhoSim  phoSimMagNorm  \\\n",
       "0  object  49307690  52.979646 -27.228909      25.950800   \n",
       "1  object  58179626  52.729770 -27.305787      24.247278   \n",
       "2  object  68080682  53.196934 -27.564026      22.229699   \n",
       "\n",
       "                                shorterFileNames  redshift  shear1  shear2  \\\n",
       "0  spectra_files/specFile_48152_59580.1396_r.dat    0.5446       0       0   \n",
       "1  spectra_files/specFile_56816_59580.1396_r.dat    0.9345       0       0   \n",
       "2  spectra_files/specFile_66485_59580.1396_r.dat    0.3143       0       0   \n",
       "\n",
       "   kappa  raOffset  decOffset spatialmodel internalExtinctionModel  \\\n",
       "0      0         0          0        point                    none   \n",
       "1      0         0          0        point                    none   \n",
       "2      0         0          0        point                    none   \n",
       "\n",
       "  galacticExtinctionModel  galacticAv  galacticRv  \n",
       "0                     CCM    0.023483         3.1  \n",
       "1                     CCM    0.033048         3.1  \n",
       "2                     CCM    0.027329         3.1  "
      ]
     },
     "execution_count": 11,
     "metadata": {},
     "output_type": "execute_result"
    }
   ],
   "source": [
    "df_sne[:3]"
   ]
  },
  {
   "cell_type": "markdown",
   "metadata": {},
   "source": [
    "### Sort out sprinkled Strong Lensing Systems\n",
    "Now we will pick out the pieces of strongly lensed systems that were sprinkled into the instance catalogs for the Twinkles project."
   ]
  },
  {
   "cell_type": "markdown",
   "metadata": {},
   "source": [
    "#### Lensed AGN\n",
    "We start with the Lensed AGN. In Twinkles Instance Catalogs the lensed AGN have larger `uniqueId`s than normal since we added information about the systems into the `uniqueId`s. We use this to find them in the AGN dataframe."
   ]
  },
  {
   "cell_type": "code",
   "execution_count": 12,
   "metadata": {
    "collapsed": false
   },
   "outputs": [],
   "source": [
    "sprinkled_agn = df_agn[df_agn['uniqueId'] > 20000000000]"
   ]
  },
  {
   "cell_type": "markdown",
   "metadata": {},
   "source": [
    "Below we see a pair of lensed images from a double."
   ]
  },
  {
   "cell_type": "code",
   "execution_count": 13,
   "metadata": {
    "collapsed": false
   },
   "outputs": [
    {
     "data": {
      "text/html": [
       "<div>\n",
       "<table border=\"1\" class=\"dataframe\">\n",
       "  <thead>\n",
       "    <tr style=\"text-align: right;\">\n",
       "      <th></th>\n",
       "      <th>prefix</th>\n",
       "      <th>uniqueId</th>\n",
       "      <th>raPhoSim</th>\n",
       "      <th>decPhoSim</th>\n",
       "      <th>phoSimMagNorm</th>\n",
       "      <th>sedFilepath</th>\n",
       "      <th>redshift</th>\n",
       "      <th>shear1</th>\n",
       "      <th>shear2</th>\n",
       "      <th>kappa</th>\n",
       "      <th>raOffset</th>\n",
       "      <th>decOffset</th>\n",
       "      <th>spatialmodel</th>\n",
       "      <th>internalExtinctionModel</th>\n",
       "      <th>galacticExtinctionModel</th>\n",
       "      <th>galacticAv</th>\n",
       "      <th>galacticRv</th>\n",
       "    </tr>\n",
       "  </thead>\n",
       "  <tbody>\n",
       "    <tr>\n",
       "      <th>338</th>\n",
       "      <td>object</td>\n",
       "      <td>213934178332</td>\n",
       "      <td>53.054049</td>\n",
       "      <td>-27.703151</td>\n",
       "      <td>21.101459</td>\n",
       "      <td>agnSED/agn.spec.gz</td>\n",
       "      <td>0.48</td>\n",
       "      <td>0</td>\n",
       "      <td>0</td>\n",
       "      <td>0</td>\n",
       "      <td>0</td>\n",
       "      <td>0</td>\n",
       "      <td>point</td>\n",
       "      <td>none</td>\n",
       "      <td>CCM</td>\n",
       "      <td>0.029784</td>\n",
       "      <td>3.1</td>\n",
       "    </tr>\n",
       "    <tr>\n",
       "      <th>339</th>\n",
       "      <td>object</td>\n",
       "      <td>213934179356</td>\n",
       "      <td>53.053503</td>\n",
       "      <td>-27.702761</td>\n",
       "      <td>22.611757</td>\n",
       "      <td>agnSED/agn.spec.gz</td>\n",
       "      <td>0.48</td>\n",
       "      <td>0</td>\n",
       "      <td>0</td>\n",
       "      <td>0</td>\n",
       "      <td>0</td>\n",
       "      <td>0</td>\n",
       "      <td>point</td>\n",
       "      <td>none</td>\n",
       "      <td>CCM</td>\n",
       "      <td>0.029791</td>\n",
       "      <td>3.1</td>\n",
       "    </tr>\n",
       "  </tbody>\n",
       "</table>\n",
       "</div>"
      ],
      "text/plain": [
       "     prefix      uniqueId   raPhoSim  decPhoSim  phoSimMagNorm  \\\n",
       "338  object  213934178332  53.054049 -27.703151      21.101459   \n",
       "339  object  213934179356  53.053503 -27.702761      22.611757   \n",
       "\n",
       "            sedFilepath  redshift  shear1  shear2  kappa  raOffset  decOffset  \\\n",
       "338  agnSED/agn.spec.gz      0.48       0       0      0         0          0   \n",
       "339  agnSED/agn.spec.gz      0.48       0       0      0         0          0   \n",
       "\n",
       "    spatialmodel internalExtinctionModel galacticExtinctionModel  galacticAv  \\\n",
       "338        point                    none                     CCM    0.029784   \n",
       "339        point                    none                     CCM    0.029791   \n",
       "\n",
       "     galacticRv  \n",
       "338         3.1  \n",
       "339         3.1  "
      ]
     },
     "execution_count": 13,
     "metadata": {},
     "output_type": "execute_result"
    }
   ],
   "source": [
    "sprinkled_agn[:2]"
   ]
  },
  {
   "cell_type": "markdown",
   "metadata": {},
   "source": [
    "Now we will extract the extra information we have stored in the `uniqueId`. This information is the Twinkles System number in our custom OM10 catalog in the `data` directory in Twinkles and the Twinkles Image Number which identifies which image in that particular system refers to that line in the catalog."
   ]
  },
  {
   "cell_type": "code",
   "execution_count": 14,
   "metadata": {
    "collapsed": true
   },
   "outputs": [],
   "source": [
    "# This step undoes the step in CatSim that gives each component of a galaxy a different offset\n",
    "twinkles_nums = []\n",
    "for agn_id in sprinkled_agn['uniqueId']:\n",
    "    twinkles_ids = np.right_shift(agn_id-28, 10)\n",
    "    twinkles_nums.append(twinkles_ids)"
   ]
  },
  {
   "cell_type": "code",
   "execution_count": 15,
   "metadata": {
    "collapsed": false
   },
   "outputs": [],
   "source": [
    "#This parses the information added in the last 4 digits of the unshifted ID\n",
    "twinkles_system_num = []\n",
    "twinkles_img_num = []\n",
    "for lens_system in twinkles_nums:\n",
    "    lens_system = str(lens_system)\n",
    "    twinkles_id = lens_system[-4:]\n",
    "    twinkles_id = np.int(twinkles_id)\n",
    "    twinkles_base = np.int(np.floor(twinkles_id/4))\n",
    "    twinkles_img = twinkles_id % 4\n",
    "    twinkles_system_num.append(twinkles_base)\n",
    "    twinkles_img_num.append(twinkles_img)"
   ]
  },
  {
   "cell_type": "markdown",
   "metadata": {},
   "source": [
    "We once again look at the two images we showed earlier. We see that they are image 0 and image 1 from Twinkles System 24."
   ]
  },
  {
   "cell_type": "code",
   "execution_count": 16,
   "metadata": {
    "collapsed": false
   },
   "outputs": [
    {
     "name": "stdout",
     "output_type": "stream",
     "text": [
      "[24, 24] [0, 1]\n"
     ]
    }
   ],
   "source": [
    "print twinkles_system_num[:2], twinkles_img_num[:2]"
   ]
  },
  {
   "cell_type": "markdown",
   "metadata": {},
   "source": [
    "We now add this information into our sprinkled AGN dataframe and reset the indices."
   ]
  },
  {
   "cell_type": "code",
   "execution_count": 17,
   "metadata": {
    "collapsed": false
   },
   "outputs": [],
   "source": [
    "sprinkled_agn = sprinkled_agn.reset_index(drop=True)\n",
    "sprinkled_agn['twinkles_system'] = twinkles_system_num\n",
    "sprinkled_agn['twinkles_img_num'] = twinkles_img_num"
   ]
  },
  {
   "cell_type": "code",
   "execution_count": 18,
   "metadata": {
    "collapsed": false
   },
   "outputs": [
    {
     "data": {
      "text/html": [
       "<div>\n",
       "<table border=\"1\" class=\"dataframe\">\n",
       "  <thead>\n",
       "    <tr style=\"text-align: right;\">\n",
       "      <th></th>\n",
       "      <th>uniqueId</th>\n",
       "      <th>raPhoSim</th>\n",
       "      <th>decPhoSim</th>\n",
       "      <th>twinkles_system</th>\n",
       "      <th>twinkles_img_num</th>\n",
       "    </tr>\n",
       "  </thead>\n",
       "  <tbody>\n",
       "    <tr>\n",
       "      <th>0</th>\n",
       "      <td>213934178332</td>\n",
       "      <td>53.054049</td>\n",
       "      <td>-27.703151</td>\n",
       "      <td>24</td>\n",
       "      <td>0</td>\n",
       "    </tr>\n",
       "    <tr>\n",
       "      <th>1</th>\n",
       "      <td>213934179356</td>\n",
       "      <td>53.053503</td>\n",
       "      <td>-27.702761</td>\n",
       "      <td>24</td>\n",
       "      <td>1</td>\n",
       "    </tr>\n",
       "  </tbody>\n",
       "</table>\n",
       "</div>"
      ],
      "text/plain": [
       "       uniqueId   raPhoSim  decPhoSim  twinkles_system  twinkles_img_num\n",
       "0  213934178332  53.054049 -27.703151               24                 0\n",
       "1  213934179356  53.053503 -27.702761               24                 1"
      ]
     },
     "execution_count": 18,
     "metadata": {},
     "output_type": "execute_result"
    }
   ],
   "source": [
    "sprinkled_agn.iloc[:2, [1, 2, 3, -2, -1]]"
   ]
  },
  {
   "cell_type": "markdown",
   "metadata": {},
   "source": [
    "The last step is to now add a column with the lens galaxy `uniqueId` for each system so that we can cross-reference between the lensed AGN and the lens galaxy dataframe we will create next. We start by finding the `uniqueId`s for the lens galaxies."
   ]
  },
  {
   "cell_type": "code",
   "execution_count": 19,
   "metadata": {
    "collapsed": false
   },
   "outputs": [],
   "source": [
    "#The lens galaxy ids do not have the extra 4 digits at the end so we remove them\n",
    "#and then do the shift back to the `uniqueID`.\n",
    "lens_gal_ids = np.left_shift((np.array(twinkles_nums))/10000, 10) + 26"
   ]
  },
  {
   "cell_type": "code",
   "execution_count": 20,
   "metadata": {
    "collapsed": false
   },
   "outputs": [],
   "source": [
    "sprinkled_agn['lens_galaxy_uID'] = lens_gal_ids"
   ]
  },
  {
   "cell_type": "markdown",
   "metadata": {},
   "source": [
    "We now see that the same system has the same lens galaxy `uniqueId` as we expect."
   ]
  },
  {
   "cell_type": "code",
   "execution_count": 21,
   "metadata": {
    "collapsed": false
   },
   "outputs": [
    {
     "data": {
      "text/html": [
       "<div>\n",
       "<table border=\"1\" class=\"dataframe\">\n",
       "  <thead>\n",
       "    <tr style=\"text-align: right;\">\n",
       "      <th></th>\n",
       "      <th>uniqueId</th>\n",
       "      <th>raPhoSim</th>\n",
       "      <th>decPhoSim</th>\n",
       "      <th>twinkles_system</th>\n",
       "      <th>twinkles_img_num</th>\n",
       "      <th>lens_galaxy_uID</th>\n",
       "    </tr>\n",
       "  </thead>\n",
       "  <tbody>\n",
       "    <tr>\n",
       "      <th>0</th>\n",
       "      <td>213934178332</td>\n",
       "      <td>53.054049</td>\n",
       "      <td>-27.703151</td>\n",
       "      <td>24</td>\n",
       "      <td>0</td>\n",
       "      <td>21393434</td>\n",
       "    </tr>\n",
       "    <tr>\n",
       "      <th>1</th>\n",
       "      <td>213934179356</td>\n",
       "      <td>53.053503</td>\n",
       "      <td>-27.702761</td>\n",
       "      <td>24</td>\n",
       "      <td>1</td>\n",
       "      <td>21393434</td>\n",
       "    </tr>\n",
       "  </tbody>\n",
       "</table>\n",
       "</div>"
      ],
      "text/plain": [
       "       uniqueId   raPhoSim  decPhoSim  twinkles_system  twinkles_img_num  \\\n",
       "0  213934178332  53.054049 -27.703151               24                 0   \n",
       "1  213934179356  53.053503 -27.702761               24                 1   \n",
       "\n",
       "   lens_galaxy_uID  \n",
       "0         21393434  \n",
       "1         21393434  "
      ]
     },
     "execution_count": 21,
     "metadata": {},
     "output_type": "execute_result"
    }
   ],
   "source": [
    "sprinkled_agn.iloc[:2, [1, 2, 3, -3, -2, -1]]"
   ]
  },
  {
   "cell_type": "markdown",
   "metadata": {},
   "source": [
    "#### Lens Galaxies"
   ]
  },
  {
   "cell_type": "markdown",
   "metadata": {},
   "source": [
    "Now we will create a dataframe with the Lens Galaxies."
   ]
  },
  {
   "cell_type": "code",
   "execution_count": 22,
   "metadata": {
    "collapsed": false
   },
   "outputs": [],
   "source": [
    "lens_gal_locs = []\n",
    "for idx in lens_gal_ids:\n",
    "    lens_gal_locs.append(np.where(df_galaxy['uniqueId'] == idx)[0])\n",
    "\n",
    "lens_gals = df_galaxy.iloc[np.unique(lens_gal_locs)]\n",
    "lens_gals = lens_gals.reset_index(drop=True)"
   ]
  },
  {
   "cell_type": "markdown",
   "metadata": {},
   "source": [
    "We now have the lens galaxies in their own dataframe that can be joined on the lensed AGN dataframe by the `uniqueId`."
   ]
  },
  {
   "cell_type": "code",
   "execution_count": 23,
   "metadata": {
    "collapsed": false
   },
   "outputs": [
    {
     "data": {
      "text/html": [
       "<div>\n",
       "<table border=\"1\" class=\"dataframe\">\n",
       "  <thead>\n",
       "    <tr style=\"text-align: right;\">\n",
       "      <th></th>\n",
       "      <th>prefix</th>\n",
       "      <th>uniqueId</th>\n",
       "      <th>raPhoSim</th>\n",
       "      <th>decPhoSim</th>\n",
       "      <th>phoSimMagNorm</th>\n",
       "      <th>sedFilepath</th>\n",
       "      <th>redshift</th>\n",
       "      <th>shear1</th>\n",
       "      <th>shear2</th>\n",
       "      <th>kappa</th>\n",
       "      <th>...</th>\n",
       "      <th>majorAxis</th>\n",
       "      <th>minorAxis</th>\n",
       "      <th>positionAngle</th>\n",
       "      <th>sindex</th>\n",
       "      <th>internalExtinctionModel</th>\n",
       "      <th>internalAv</th>\n",
       "      <th>internalRv</th>\n",
       "      <th>galacticExtinctionModel</th>\n",
       "      <th>galacticAv</th>\n",
       "      <th>galacticRv</th>\n",
       "    </tr>\n",
       "  </thead>\n",
       "  <tbody>\n",
       "    <tr>\n",
       "      <th>0</th>\n",
       "      <td>object</td>\n",
       "      <td>21393434</td>\n",
       "      <td>53.053595</td>\n",
       "      <td>-27.702812</td>\n",
       "      <td>17.830105</td>\n",
       "      <td>galaxySED/Inst.25E09.02Z.spec.gz</td>\n",
       "      <td>0.184</td>\n",
       "      <td>0</td>\n",
       "      <td>0</td>\n",
       "      <td>0</td>\n",
       "      <td>...</td>\n",
       "      <td>0.000008</td>\n",
       "      <td>0.000006</td>\n",
       "      <td>0.992165</td>\n",
       "      <td>4</td>\n",
       "      <td>CCM</td>\n",
       "      <td>0.2</td>\n",
       "      <td>3.1</td>\n",
       "      <td>CCM</td>\n",
       "      <td>0.02979</td>\n",
       "      <td>3.1</td>\n",
       "    </tr>\n",
       "  </tbody>\n",
       "</table>\n",
       "<p>1 rows × 23 columns</p>\n",
       "</div>"
      ],
      "text/plain": [
       "   prefix  uniqueId   raPhoSim  decPhoSim  phoSimMagNorm  \\\n",
       "0  object  21393434  53.053595 -27.702812      17.830105   \n",
       "\n",
       "                        sedFilepath  redshift  shear1  shear2  kappa  \\\n",
       "0  galaxySED/Inst.25E09.02Z.spec.gz     0.184       0       0      0   \n",
       "\n",
       "      ...      majorAxis  minorAxis positionAngle  sindex  \\\n",
       "0     ...       0.000008   0.000006      0.992165       4   \n",
       "\n",
       "   internalExtinctionModel  internalAv  internalRv galacticExtinctionModel  \\\n",
       "0                      CCM         0.2         3.1                     CCM   \n",
       "\n",
       "   galacticAv  galacticRv  \n",
       "0     0.02979         3.1  \n",
       "\n",
       "[1 rows x 23 columns]"
      ]
     },
     "execution_count": 23,
     "metadata": {},
     "output_type": "execute_result"
    }
   ],
   "source": [
    "lens_gals[:1]"
   ]
  },
  {
   "cell_type": "markdown",
   "metadata": {},
   "source": [
    "And we can check how many systems there are by checking the length of this dataframe."
   ]
  },
  {
   "cell_type": "code",
   "execution_count": 24,
   "metadata": {
    "collapsed": false
   },
   "outputs": [
    {
     "data": {
      "text/plain": [
       "198"
      ]
     },
     "execution_count": 24,
     "metadata": {},
     "output_type": "execute_result"
    }
   ],
   "source": [
    "len(lens_gals)"
   ]
  },
  {
   "cell_type": "markdown",
   "metadata": {},
   "source": [
    "Showing that we 198 systems in the Twinkles field!"
   ]
  },
  {
   "cell_type": "markdown",
   "metadata": {},
   "source": [
    "#### Lensed AGN Host Galaxies (Not in Twinkles 1 catalogs)"
   ]
  },
  {
   "cell_type": "markdown",
   "metadata": {},
   "source": [
    "In Twinkles 1 catalogs we do not have host galaxies around our lensed AGN, but in the future we will want to be able to include this. We experimented with this at the [2017 DESC SLAC Collaboration Meeting Hack Day](https://confluence.slac.stanford.edu/display/LSSTDESC/SLAC+2017+-+Friday+Hack+Day) since Nan Li, Matt Wiesner and others are working adding lensed hosts into images.\n",
    "\n",
    "Therefore, I have included the capacity to find the host galaxies here for future use.\n",
    "\n",
    "To start we once again cut based on the `uniqueId` which will be larger than a normal galaxy."
   ]
  },
  {
   "cell_type": "code",
   "execution_count": 25,
   "metadata": {
    "collapsed": true
   },
   "outputs": [],
   "source": [
    "host_gals = df_galaxy[df_galaxy['uniqueId'] > 178465239310]"
   ]
  },
  {
   "cell_type": "code",
   "execution_count": 26,
   "metadata": {
    "collapsed": true
   },
   "outputs": [],
   "source": [
    "host_gals = df_galaxy[df_galaxy['uniqueId'] > 170000000000]"
   ]
  },
  {
   "cell_type": "code",
   "execution_count": 27,
   "metadata": {
    "collapsed": false
   },
   "outputs": [
    {
     "data": {
      "text/html": [
       "<div>\n",
       "<table border=\"1\" class=\"dataframe\">\n",
       "  <thead>\n",
       "    <tr style=\"text-align: right;\">\n",
       "      <th></th>\n",
       "      <th>prefix</th>\n",
       "      <th>uniqueId</th>\n",
       "      <th>raPhoSim</th>\n",
       "      <th>decPhoSim</th>\n",
       "      <th>phoSimMagNorm</th>\n",
       "      <th>sedFilepath</th>\n",
       "      <th>redshift</th>\n",
       "      <th>shear1</th>\n",
       "      <th>shear2</th>\n",
       "      <th>kappa</th>\n",
       "      <th>...</th>\n",
       "      <th>majorAxis</th>\n",
       "      <th>minorAxis</th>\n",
       "      <th>positionAngle</th>\n",
       "      <th>sindex</th>\n",
       "      <th>internalExtinctionModel</th>\n",
       "      <th>internalAv</th>\n",
       "      <th>internalRv</th>\n",
       "      <th>galacticExtinctionModel</th>\n",
       "      <th>galacticAv</th>\n",
       "      <th>galacticRv</th>\n",
       "    </tr>\n",
       "  </thead>\n",
       "  <tbody>\n",
       "    <tr>\n",
       "      <th>8028</th>\n",
       "      <td>object</td>\n",
       "      <td>213934178330</td>\n",
       "      <td>53.054049</td>\n",
       "      <td>-27.703151</td>\n",
       "      <td>19.283377</td>\n",
       "      <td>galaxySED/Inst.50E09.04Z.spec.gz</td>\n",
       "      <td>0.48</td>\n",
       "      <td>0</td>\n",
       "      <td>0</td>\n",
       "      <td>0</td>\n",
       "      <td>...</td>\n",
       "      <td>0.000005</td>\n",
       "      <td>0.000005</td>\n",
       "      <td>5.347467</td>\n",
       "      <td>4</td>\n",
       "      <td>CCM</td>\n",
       "      <td>0.2</td>\n",
       "      <td>3.1</td>\n",
       "      <td>CCM</td>\n",
       "      <td>0.029784</td>\n",
       "      <td>3.1</td>\n",
       "    </tr>\n",
       "    <tr>\n",
       "      <th>8029</th>\n",
       "      <td>object</td>\n",
       "      <td>213934179354</td>\n",
       "      <td>53.053503</td>\n",
       "      <td>-27.702761</td>\n",
       "      <td>20.772730</td>\n",
       "      <td>galaxySED/Inst.50E09.04Z.spec.gz</td>\n",
       "      <td>0.48</td>\n",
       "      <td>0</td>\n",
       "      <td>0</td>\n",
       "      <td>0</td>\n",
       "      <td>...</td>\n",
       "      <td>0.000005</td>\n",
       "      <td>0.000005</td>\n",
       "      <td>5.347467</td>\n",
       "      <td>4</td>\n",
       "      <td>CCM</td>\n",
       "      <td>0.2</td>\n",
       "      <td>3.1</td>\n",
       "      <td>CCM</td>\n",
       "      <td>0.029791</td>\n",
       "      <td>3.1</td>\n",
       "    </tr>\n",
       "  </tbody>\n",
       "</table>\n",
       "<p>2 rows × 23 columns</p>\n",
       "</div>"
      ],
      "text/plain": [
       "      prefix      uniqueId   raPhoSim  decPhoSim  phoSimMagNorm  \\\n",
       "8028  object  213934178330  53.054049 -27.703151      19.283377   \n",
       "8029  object  213934179354  53.053503 -27.702761      20.772730   \n",
       "\n",
       "                           sedFilepath  redshift  shear1  shear2  kappa  \\\n",
       "8028  galaxySED/Inst.50E09.04Z.spec.gz      0.48       0       0      0   \n",
       "8029  galaxySED/Inst.50E09.04Z.spec.gz      0.48       0       0      0   \n",
       "\n",
       "         ...      majorAxis  minorAxis positionAngle  sindex  \\\n",
       "8028     ...       0.000005   0.000005      5.347467       4   \n",
       "8029     ...       0.000005   0.000005      5.347467       4   \n",
       "\n",
       "      internalExtinctionModel  internalAv  internalRv galacticExtinctionModel  \\\n",
       "8028                      CCM         0.2         3.1                     CCM   \n",
       "8029                      CCM         0.2         3.1                     CCM   \n",
       "\n",
       "      galacticAv  galacticRv  \n",
       "8028    0.029784         3.1  \n",
       "8029    0.029791         3.1  \n",
       "\n",
       "[2 rows x 23 columns]"
      ]
     },
     "execution_count": 27,
     "metadata": {},
     "output_type": "execute_result"
    }
   ],
   "source": [
    "host_gals[:2]"
   ]
  },
  {
   "cell_type": "markdown",
   "metadata": {},
   "source": [
    "Then like the lensed AGN we add in the info from the longer Ids and the lens galaxy info along with resetting the index."
   ]
  },
  {
   "cell_type": "code",
   "execution_count": 28,
   "metadata": {
    "collapsed": false
   },
   "outputs": [],
   "source": [
    "twinkles_gal_nums = []\n",
    "for gal_id in host_gals['uniqueId']:\n",
    "    twinkles_ids = np.right_shift(gal_id-26, 10)\n",
    "    twinkles_gal_nums.append(twinkles_ids)"
   ]
  },
  {
   "cell_type": "code",
   "execution_count": 29,
   "metadata": {
    "collapsed": false
   },
   "outputs": [],
   "source": [
    "host_twinkles_system_num = []\n",
    "host_twinkles_img_num = []\n",
    "for host_gal in twinkles_gal_nums:\n",
    "    host_gal = str(host_gal)\n",
    "    host_twinkles_id = host_gal[-4:]\n",
    "    host_twinkles_id = np.int(host_twinkles_id)\n",
    "    host_twinkles_base = np.int(np.floor(host_twinkles_id/4))\n",
    "    host_twinkles_img = host_twinkles_id % 4\n",
    "    host_twinkles_system_num.append(host_twinkles_base)\n",
    "    host_twinkles_img_num.append(host_twinkles_img)"
   ]
  },
  {
   "cell_type": "code",
   "execution_count": 30,
   "metadata": {
    "collapsed": true
   },
   "outputs": [],
   "source": [
    "host_lens_gal_ids = np.left_shift((np.array(twinkles_gal_nums))/10000, 10) + 26"
   ]
  },
  {
   "cell_type": "code",
   "execution_count": 31,
   "metadata": {
    "collapsed": false
   },
   "outputs": [],
   "source": [
    "host_gals = host_gals.reset_index(drop=True)\n",
    "host_gals['twinkles_system'] = host_twinkles_system_num\n",
    "host_gals['twinkles_img_num'] = host_twinkles_img_num\n",
    "host_gals['lens_galaxy_uID'] = host_lens_gal_ids"
   ]
  },
  {
   "cell_type": "code",
   "execution_count": 32,
   "metadata": {
    "collapsed": false
   },
   "outputs": [
    {
     "data": {
      "text/html": [
       "<div>\n",
       "<table border=\"1\" class=\"dataframe\">\n",
       "  <thead>\n",
       "    <tr style=\"text-align: right;\">\n",
       "      <th></th>\n",
       "      <th>uniqueId</th>\n",
       "      <th>raPhoSim</th>\n",
       "      <th>decPhoSim</th>\n",
       "      <th>twinkles_system</th>\n",
       "      <th>twinkles_img_num</th>\n",
       "      <th>lens_galaxy_uID</th>\n",
       "    </tr>\n",
       "  </thead>\n",
       "  <tbody>\n",
       "    <tr>\n",
       "      <th>0</th>\n",
       "      <td>213934178330</td>\n",
       "      <td>53.054049</td>\n",
       "      <td>-27.703151</td>\n",
       "      <td>24</td>\n",
       "      <td>0</td>\n",
       "      <td>21393434</td>\n",
       "    </tr>\n",
       "    <tr>\n",
       "      <th>1</th>\n",
       "      <td>213934179354</td>\n",
       "      <td>53.053503</td>\n",
       "      <td>-27.702761</td>\n",
       "      <td>24</td>\n",
       "      <td>1</td>\n",
       "      <td>21393434</td>\n",
       "    </tr>\n",
       "  </tbody>\n",
       "</table>\n",
       "</div>"
      ],
      "text/plain": [
       "       uniqueId   raPhoSim  decPhoSim  twinkles_system  twinkles_img_num  \\\n",
       "0  213934178330  53.054049 -27.703151               24                 0   \n",
       "1  213934179354  53.053503 -27.702761               24                 1   \n",
       "\n",
       "   lens_galaxy_uID  \n",
       "0         21393434  \n",
       "1         21393434  "
      ]
     },
     "execution_count": 32,
     "metadata": {},
     "output_type": "execute_result"
    }
   ],
   "source": [
    "host_gals.iloc[:2, [1, 2, 3, -3, -2, -1]]"
   ]
  },
  {
   "cell_type": "markdown",
   "metadata": {},
   "source": [
    "Notice that there are different numbers of sprinkled AGN and host galaxy entries."
   ]
  },
  {
   "cell_type": "code",
   "execution_count": 33,
   "metadata": {
    "collapsed": false
   },
   "outputs": [
    {
     "data": {
      "text/plain": [
       "(468, 844)"
      ]
     },
     "execution_count": 33,
     "metadata": {},
     "output_type": "execute_result"
    }
   ],
   "source": [
    "len(sprinkled_agn), len(host_gals)"
   ]
  },
  {
   "cell_type": "markdown",
   "metadata": {},
   "source": [
    "This is because some host galaxies have both bulge and disk components, but not all do. The example we have been using does have both components and thus we have four entries for the doubly lensed system in the host galaxy dataframe."
   ]
  },
  {
   "cell_type": "code",
   "execution_count": 34,
   "metadata": {
    "collapsed": false
   },
   "outputs": [
    {
     "data": {
      "text/html": [
       "<div>\n",
       "<table border=\"1\" class=\"dataframe\">\n",
       "  <thead>\n",
       "    <tr style=\"text-align: right;\">\n",
       "      <th></th>\n",
       "      <th>uniqueId</th>\n",
       "      <th>raPhoSim</th>\n",
       "      <th>decPhoSim</th>\n",
       "      <th>twinkles_system</th>\n",
       "      <th>twinkles_img_num</th>\n",
       "      <th>lens_galaxy_uID</th>\n",
       "    </tr>\n",
       "  </thead>\n",
       "  <tbody>\n",
       "    <tr>\n",
       "      <th>0</th>\n",
       "      <td>213934178330</td>\n",
       "      <td>53.054049</td>\n",
       "      <td>-27.703151</td>\n",
       "      <td>24</td>\n",
       "      <td>0</td>\n",
       "      <td>21393434</td>\n",
       "    </tr>\n",
       "    <tr>\n",
       "      <th>1</th>\n",
       "      <td>213934179354</td>\n",
       "      <td>53.053503</td>\n",
       "      <td>-27.702761</td>\n",
       "      <td>24</td>\n",
       "      <td>1</td>\n",
       "      <td>21393434</td>\n",
       "    </tr>\n",
       "    <tr>\n",
       "      <th>70</th>\n",
       "      <td>213934178331</td>\n",
       "      <td>53.054049</td>\n",
       "      <td>-27.703151</td>\n",
       "      <td>24</td>\n",
       "      <td>0</td>\n",
       "      <td>21393434</td>\n",
       "    </tr>\n",
       "    <tr>\n",
       "      <th>71</th>\n",
       "      <td>213934179355</td>\n",
       "      <td>53.053503</td>\n",
       "      <td>-27.702761</td>\n",
       "      <td>24</td>\n",
       "      <td>1</td>\n",
       "      <td>21393434</td>\n",
       "    </tr>\n",
       "  </tbody>\n",
       "</table>\n",
       "</div>"
      ],
      "text/plain": [
       "        uniqueId   raPhoSim  decPhoSim  twinkles_system  twinkles_img_num  \\\n",
       "0   213934178330  53.054049 -27.703151               24                 0   \n",
       "1   213934179354  53.053503 -27.702761               24                 1   \n",
       "70  213934178331  53.054049 -27.703151               24                 0   \n",
       "71  213934179355  53.053503 -27.702761               24                 1   \n",
       "\n",
       "    lens_galaxy_uID  \n",
       "0          21393434  \n",
       "1          21393434  \n",
       "70         21393434  \n",
       "71         21393434  "
      ]
     },
     "execution_count": 34,
     "metadata": {},
     "output_type": "execute_result"
    }
   ],
   "source": [
    "host_gals[host_gals['lens_galaxy_uID'] == 21393434].iloc[:, [1, 2, 3, -3, -2, -1]]"
   ]
  }
 ],
 "metadata": {
  "anaconda-cloud": {},
  "kernelspec": {
   "display_name": "Python [default]",
   "language": "python",
   "name": "python2"
  },
  "language_info": {
   "codemirror_mode": {
    "name": "ipython",
    "version": 2
   },
   "file_extension": ".py",
   "mimetype": "text/x-python",
   "name": "python",
   "nbconvert_exporter": "python",
   "pygments_lexer": "ipython2",
   "version": "2.7.12"
  }
 },
 "nbformat": 4,
 "nbformat_minor": 2
}
