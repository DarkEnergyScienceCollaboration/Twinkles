{
 "cells": [
  {
   "cell_type": "markdown",
   "metadata": {},
   "source": [
    "# Sky Brightness in LSST"
   ]
  },
  {
   "cell_type": "code",
   "execution_count": 1,
   "metadata": {
    "collapsed": false
   },
   "outputs": [
    {
     "name": "stdout",
     "output_type": "stream",
     "text": [
      "Populating the interactive namespace from numpy and matplotlib\n"
     ]
    }
   ],
   "source": [
    "%pylab inline"
   ]
  },
  {
   "cell_type": "code",
   "execution_count": 14,
   "metadata": {
    "collapsed": true
   },
   "outputs": [],
   "source": [
    "import astropy.units as u"
   ]
  },
  {
   "cell_type": "markdown",
   "metadata": {},
   "source": [
    "## Read Opsim Cadence"
   ]
  },
  {
   "cell_type": "markdown",
   "metadata": {},
   "source": [
    "See opsim db [summary table docs](http://lsst.org/scientists/simulations/opsim/summary-table-column-descriptions-v335)."
   ]
  },
  {
   "cell_type": "code",
   "execution_count": 4,
   "metadata": {
    "collapsed": true
   },
   "outputs": [],
   "source": [
    "import sqlite3"
   ]
  },
  {
   "cell_type": "code",
   "execution_count": 5,
   "metadata": {
    "collapsed": true
   },
   "outputs": [],
   "source": [
    "conn = sqlite3.connect('/Data/DESC/minion_1016_sqlite.db')"
   ]
  },
  {
   "cell_type": "code",
   "execution_count": 6,
   "metadata": {
    "collapsed": true
   },
   "outputs": [],
   "source": [
    "c = conn.cursor()"
   ]
  },
  {
   "cell_type": "markdown",
   "metadata": {},
   "source": [
    "Fetch 100 rows of r-band observations."
   ]
  },
  {
   "cell_type": "code",
   "execution_count": 26,
   "metadata": {
    "collapsed": false
   },
   "outputs": [],
   "source": [
    "c.execute(\"\"\"SELECT airmass,dist2Moon,moonAlt,moonPhase,filtSkyBrightness\n",
    "             FROM summary WHERE filter = 'r' LIMIT 100\"\"\")\n",
    "opsim = c.fetchall()"
   ]
  },
  {
   "cell_type": "code",
   "execution_count": null,
   "metadata": {
    "collapsed": true
   },
   "outputs": [],
   "source": [
    "conn.close()"
   ]
  },
  {
   "cell_type": "markdown",
   "metadata": {},
   "source": [
    "## Predict Sky Brightness"
   ]
  },
  {
   "cell_type": "markdown",
   "metadata": {},
   "source": [
    "See [specsim atmosphere docs](http://specsim.readthedocs.org/en/latest/config.html#atmosphere)\n",
    "and [speclite filter docs](http://speclite.readthedocs.org/en/latest/filters.html). The moon's contribution to the sky brightness is calculated using Based on Krisciunas and Schaefer, “A model of the brightness of moonlight”, PASP, vol. 103, Sept. 1991, p. 1033-1039."
   ]
  },
  {
   "cell_type": "code",
   "execution_count": 3,
   "metadata": {
    "collapsed": true
   },
   "outputs": [],
   "source": [
    "import speclite.filters"
   ]
  },
  {
   "cell_type": "code",
   "execution_count": 8,
   "metadata": {
    "collapsed": true
   },
   "outputs": [],
   "source": [
    "import specsim.atmosphere\n",
    "import specsim.config"
   ]
  },
  {
   "cell_type": "code",
   "execution_count": 9,
   "metadata": {
    "collapsed": true
   },
   "outputs": [],
   "source": [
    "cfg = specsim.config.load_config('desi')\n",
    "atm = specsim.atmosphere.initialize(cfg)"
   ]
  },
  {
   "cell_type": "code",
   "execution_count": 31,
   "metadata": {
    "collapsed": false
   },
   "outputs": [],
   "source": [
    "def predict(airmass, dist_to_moon, moon_altitude, moon_illumination, filter_name='sdss2010-r'):\n",
    "    \"\"\"Predict the sky brightness \n",
    "    \n",
    "    Parameters\n",
    "    ----------\n",
    "    airmass : float\n",
    "        Airmass at the field center of the visit.\n",
    "    dist_to_moon : float\n",
    "        Distance from the field center to the moon's center on the sky, in radians.\n",
    "    moon_altitude : float\n",
    "        Altitude of the Moon taking into account the elevation of the site, in radians.\n",
    "    moon_illumination : float\n",
    "        Percent illumination of the Moon (0=new, 100=full).\n",
    "    filter_name : str\n",
    "        Name of the filter to use for calculating the sky brightness.\n",
    "        \n",
    "    Returns\n",
    "    -------\n",
    "    float\n",
    "        AB magnitude of the sky in the specified filter.\n",
    "    \"\"\"\n",
    "    \n",
    "    atm.airmass = airmass\n",
    "    atm.moon.moon_zenith = (np.pi / 2 - moon_altitude) * u.rad\n",
    "    atm.moon.separation_angle = dist_to_moon * u.rad\n",
    "    # Convert illumination percentage to temporal phase in the range [0,1]\n",
    "    # with 0 = full moon, 1 = new moon.\n",
    "    atm.moon.moon_phase = np.arccos(2 * (moon_illumination / 100.) - 1) / np.pi\n",
    "    \n",
    "    filt = speclite.filters.load_filter(filter_name)\n",
    "    wlen = cfg.wavelength\n",
    "    return filt.get_ab_magnitude(atm.surface_brightness * u.arcsec ** 2, wlen)"
   ]
  },
  {
   "cell_type": "markdown",
   "metadata": {},
   "source": [
    "## Compare OpSim with SpecSim"
   ]
  },
  {
   "cell_type": "code",
   "execution_count": 32,
   "metadata": {
    "collapsed": false
   },
   "outputs": [],
   "source": [
    "r_predicted, r_opsim = [], []\n",
    "for obs in opsim:\n",
    "    airmass, dist_to_moon, moon_altitude, moon_illumination, filtSkyBrightness = obs\n",
    "    r_opsim.append(filtSkyBrightness)\n",
    "    r_predicted.append(predict(airmass, dist_to_moon, moon_altitude, moon_illumination))\n",
    "\n",
    "r_predicted = np.array(r_predicted)\n",
    "r_opsim = np.array(r_opsim)"
   ]
  },
  {
   "cell_type": "code",
   "execution_count": 30,
   "metadata": {
    "collapsed": false
   },
   "outputs": [
    {
     "data": {
      "text/plain": [
       "[<matplotlib.lines.Line2D at 0x111102e90>]"
      ]
     },
     "execution_count": 30,
     "metadata": {},
     "output_type": "execute_result"
    },
    {
     "data": {
      "image/png": "[encoded data removed]",
      "text/plain": [
       "<matplotlib.figure.Figure at 0x111102250>"
      ]
     },
     "metadata": {},
     "output_type": "display_data"
    }
   ],
   "source": [
    "plt.plot(r_opsim, r_predicted, 'x')"
   ]
  },
  {
   "cell_type": "code",
   "execution_count": null,
   "metadata": {
    "collapsed": true
   },
   "outputs": [],
   "source": []
  }
 ],
 "metadata": {
  "kernelspec": {
   "display_name": "Python 2",
   "language": "python",
   "name": "python2"
  },
  "language_info": {
   "codemirror_mode": {
    "name": "ipython",
    "version": 2
   },
   "file_extension": ".py",
   "mimetype": "text/x-python",
   "name": "python",
   "nbconvert_exporter": "python",
   "pygments_lexer": "ipython2",
   "version": "2.7.10"
  }
 },
 "nbformat": 4,
 "nbformat_minor": 0
}
