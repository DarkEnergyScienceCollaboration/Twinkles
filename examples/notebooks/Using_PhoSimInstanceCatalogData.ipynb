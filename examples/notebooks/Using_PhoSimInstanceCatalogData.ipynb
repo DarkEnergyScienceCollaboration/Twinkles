{
 "cells": [
  {
   "cell_type": "code",
   "execution_count": 1,
   "metadata": {
    "collapsed": false
   },
   "outputs": [],
   "source": [
    "from desc.twinkles import PhoSimHeaders, PhoSimInputCatalog"
   ]
  },
  {
   "cell_type": "code",
   "execution_count": 2,
   "metadata": {
    "collapsed": true
   },
   "outputs": [],
   "source": [
    "from lsst.utils import getPackageDir"
   ]
  },
  {
   "cell_type": "code",
   "execution_count": 3,
   "metadata": {
    "collapsed": true
   },
   "outputs": [],
   "source": [
    "import os"
   ]
  },
  {
   "cell_type": "code",
   "execution_count": 4,
   "metadata": {
    "collapsed": true
   },
   "outputs": [],
   "source": [
    "# PhoSim Instance catalog generated for obsHistID = 230 for TwinkSN using Minion_1016_sqlite.db"
   ]
  },
  {
   "cell_type": "code",
   "execution_count": 5,
   "metadata": {
    "collapsed": false
   },
   "outputs": [],
   "source": [
    "fnamePhoSim = os.path.join(getPackageDir('TWINKLES'), 'data', 'phosimcatalog.dat')\n",
    "assert os.path.exists(fnamePhoSim)"
   ]
  },
  {
   "cell_type": "markdown",
   "metadata": {},
   "source": [
    "## Instantiation of the class "
   ]
  },
  {
   "cell_type": "code",
   "execution_count": 6,
   "metadata": {
    "collapsed": false
   },
   "outputs": [],
   "source": [
    "pc = PhoSimInputCatalog(fnamePhoSim)"
   ]
  },
  {
   "cell_type": "markdown",
   "metadata": {},
   "source": [
    "we can look at the metadata"
   ]
  },
  {
   "cell_type": "code",
   "execution_count": 7,
   "metadata": {
    "collapsed": false
   },
   "outputs": [
    {
     "data": {
      "text/html": [
       "<div>\n",
       "<table border=\"1\" class=\"dataframe\">\n",
       "  <thead>\n",
       "    <tr style=\"text-align: right;\">\n",
       "      <th>a</th>\n",
       "      <th>rightascension</th>\n",
       "      <th>declination</th>\n",
       "      <th>mjd</th>\n",
       "      <th>altitude</th>\n",
       "      <th>azimuth</th>\n",
       "      <th>filter</th>\n",
       "      <th>rotskypos</th>\n",
       "      <th>dist2moon</th>\n",
       "      <th>moonalt</th>\n",
       "      <th>moondec</th>\n",
       "      <th>moonphase</th>\n",
       "      <th>moonra</th>\n",
       "      <th>nsnap</th>\n",
       "      <th>obshistid</th>\n",
       "      <th>rottelpos</th>\n",
       "      <th>seed</th>\n",
       "      <th>seeing</th>\n",
       "      <th>sunalt</th>\n",
       "      <th>vistime</th>\n",
       "    </tr>\n",
       "  </thead>\n",
       "  <tbody>\n",
       "    <tr>\n",
       "      <th>b</th>\n",
       "      <td>53.009138</td>\n",
       "      <td>-27.438949</td>\n",
       "      <td>59580.139729</td>\n",
       "      <td>66.341453</td>\n",
       "      <td>270.273513</td>\n",
       "      <td>2</td>\n",
       "      <td>256.750753</td>\n",
       "      <td>124.283828</td>\n",
       "      <td>-36.13238</td>\n",
       "      <td>-23.496025</td>\n",
       "      <td>3.819365</td>\n",
       "      <td>256.403655</td>\n",
       "      <td>1</td>\n",
       "      <td>230</td>\n",
       "      <td>0.0</td>\n",
       "      <td>230</td>\n",
       "      <td>0.866285</td>\n",
       "      <td>-32.735829</td>\n",
       "      <td>30.0</td>\n",
       "    </tr>\n",
       "  </tbody>\n",
       "</table>\n",
       "</div>"
      ],
      "text/plain": [
       "a  rightascension  declination           mjd   altitude     azimuth  filter  \\\n",
       "b       53.009138   -27.438949  59580.139729  66.341453  270.273513       2   \n",
       "\n",
       "a   rotskypos   dist2moon   moonalt    moondec  moonphase      moonra  nsnap  \\\n",
       "b  256.750753  124.283828 -36.13238 -23.496025   3.819365  256.403655      1   \n",
       "\n",
       "a  obshistid  rottelpos  seed    seeing     sunalt  vistime  \n",
       "b        230        0.0   230  0.866285 -32.735829     30.0  "
      ]
     },
     "execution_count": 7,
     "metadata": {},
     "output_type": "execute_result"
    }
   ],
   "source": [
    "pc.metadata"
   ]
  },
  {
   "cell_type": "markdown",
   "metadata": {},
   "source": [
    "Or the data for point sources. All of the 'SOURCE_TYPE' column should be 'point' here"
   ]
  },
  {
   "cell_type": "code",
   "execution_count": 8,
   "metadata": {
    "collapsed": false
   },
   "outputs": [
    {
     "data": {
      "text/html": [
       "<div>\n",
       "<table border=\"1\" class=\"dataframe\">\n",
       "  <thead>\n",
       "    <tr style=\"text-align: right;\">\n",
       "      <th></th>\n",
       "      <th>ObsHistID</th>\n",
       "      <th>uniqueID</th>\n",
       "      <th>RA</th>\n",
       "      <th>DEC</th>\n",
       "      <th>MAG_NORM</th>\n",
       "      <th>SED_NAME</th>\n",
       "      <th>REDSHIFT</th>\n",
       "      <th>GAMMA1</th>\n",
       "      <th>GAMMA2</th>\n",
       "      <th>MU</th>\n",
       "      <th>DELTA_RA</th>\n",
       "      <th>DELTA_DEC</th>\n",
       "      <th>SOURCE_TYPE</th>\n",
       "      <th>DUST_REST_NAME</th>\n",
       "      <th>DUST_LAB_NAME</th>\n",
       "      <th>dust_pars_2a</th>\n",
       "      <th>dust_pars_2b</th>\n",
       "    </tr>\n",
       "  </thead>\n",
       "  <tbody>\n",
       "    <tr>\n",
       "      <th>19</th>\n",
       "      <td>230</td>\n",
       "      <td>992887068676</td>\n",
       "      <td>53.051063</td>\n",
       "      <td>-27.360073</td>\n",
       "      <td>26.720154</td>\n",
       "      <td>starSED/phoSimMLT/lte027-3.0-0.0a+0.0.BT-Settl...</td>\n",
       "      <td>0.0</td>\n",
       "      <td>0.0</td>\n",
       "      <td>0.0</td>\n",
       "      <td>0.0</td>\n",
       "      <td>0.0</td>\n",
       "      <td>0.0</td>\n",
       "      <td>point</td>\n",
       "      <td>CCM</td>\n",
       "      <td>0.023697</td>\n",
       "      <td>3.1</td>\n",
       "      <td>none</td>\n",
       "    </tr>\n",
       "    <tr>\n",
       "      <th>20</th>\n",
       "      <td>230</td>\n",
       "      <td>1605702564868</td>\n",
       "      <td>53.063992</td>\n",
       "      <td>-27.334674</td>\n",
       "      <td>27.764489</td>\n",
       "      <td>starSED/phoSimMLT/lte035-5.0-1.0a+0.4.BT-Settl...</td>\n",
       "      <td>0.0</td>\n",
       "      <td>0.0</td>\n",
       "      <td>0.0</td>\n",
       "      <td>0.0</td>\n",
       "      <td>0.0</td>\n",
       "      <td>0.0</td>\n",
       "      <td>point</td>\n",
       "      <td>CCM</td>\n",
       "      <td>0.022214</td>\n",
       "      <td>3.1</td>\n",
       "      <td>none</td>\n",
       "    </tr>\n",
       "    <tr>\n",
       "      <th>21</th>\n",
       "      <td>230</td>\n",
       "      <td>1277139994628</td>\n",
       "      <td>53.052918</td>\n",
       "      <td>-27.340152</td>\n",
       "      <td>25.148224</td>\n",
       "      <td>starSED/phoSimMLT/lte033-4.5-1.0a+0.4.BT-Settl...</td>\n",
       "      <td>0.0</td>\n",
       "      <td>0.0</td>\n",
       "      <td>0.0</td>\n",
       "      <td>0.0</td>\n",
       "      <td>0.0</td>\n",
       "      <td>0.0</td>\n",
       "      <td>point</td>\n",
       "      <td>CCM</td>\n",
       "      <td>0.023113</td>\n",
       "      <td>3.1</td>\n",
       "      <td>none</td>\n",
       "    </tr>\n",
       "    <tr>\n",
       "      <th>22</th>\n",
       "      <td>230</td>\n",
       "      <td>1605694183428</td>\n",
       "      <td>53.050034</td>\n",
       "      <td>-27.304527</td>\n",
       "      <td>25.339699</td>\n",
       "      <td>starSED/phoSimMLT/lte037-5.5-1.0a+0.4.BT-Settl...</td>\n",
       "      <td>0.0</td>\n",
       "      <td>0.0</td>\n",
       "      <td>0.0</td>\n",
       "      <td>0.0</td>\n",
       "      <td>0.0</td>\n",
       "      <td>0.0</td>\n",
       "      <td>point</td>\n",
       "      <td>CCM</td>\n",
       "      <td>0.022988</td>\n",
       "      <td>3.1</td>\n",
       "      <td>none</td>\n",
       "    </tr>\n",
       "    <tr>\n",
       "      <th>23</th>\n",
       "      <td>230</td>\n",
       "      <td>1277138139140</td>\n",
       "      <td>53.055739</td>\n",
       "      <td>-27.311458</td>\n",
       "      <td>24.511910</td>\n",
       "      <td>starSED/phoSimMLT/lte032-4.5-1.0a+0.4.BT-Settl...</td>\n",
       "      <td>0.0</td>\n",
       "      <td>0.0</td>\n",
       "      <td>0.0</td>\n",
       "      <td>0.0</td>\n",
       "      <td>0.0</td>\n",
       "      <td>0.0</td>\n",
       "      <td>point</td>\n",
       "      <td>CCM</td>\n",
       "      <td>0.022577</td>\n",
       "      <td>3.1</td>\n",
       "      <td>none</td>\n",
       "    </tr>\n",
       "  </tbody>\n",
       "</table>\n",
       "</div>"
      ],
      "text/plain": [
       "    ObsHistID       uniqueID         RA        DEC   MAG_NORM  \\\n",
       "19        230   992887068676  53.051063 -27.360073  26.720154   \n",
       "20        230  1605702564868  53.063992 -27.334674  27.764489   \n",
       "21        230  1277139994628  53.052918 -27.340152  25.148224   \n",
       "22        230  1605694183428  53.050034 -27.304527  25.339699   \n",
       "23        230  1277138139140  53.055739 -27.311458  24.511910   \n",
       "\n",
       "                                             SED_NAME  REDSHIFT  GAMMA1  \\\n",
       "19  starSED/phoSimMLT/lte027-3.0-0.0a+0.0.BT-Settl...       0.0     0.0   \n",
       "20  starSED/phoSimMLT/lte035-5.0-1.0a+0.4.BT-Settl...       0.0     0.0   \n",
       "21  starSED/phoSimMLT/lte033-4.5-1.0a+0.4.BT-Settl...       0.0     0.0   \n",
       "22  starSED/phoSimMLT/lte037-5.5-1.0a+0.4.BT-Settl...       0.0     0.0   \n",
       "23  starSED/phoSimMLT/lte032-4.5-1.0a+0.4.BT-Settl...       0.0     0.0   \n",
       "\n",
       "    GAMMA2   MU  DELTA_RA  DELTA_DEC SOURCE_TYPE DUST_REST_NAME  \\\n",
       "19     0.0  0.0       0.0        0.0       point            CCM   \n",
       "20     0.0  0.0       0.0        0.0       point            CCM   \n",
       "21     0.0  0.0       0.0        0.0       point            CCM   \n",
       "22     0.0  0.0       0.0        0.0       point            CCM   \n",
       "23     0.0  0.0       0.0        0.0       point            CCM   \n",
       "\n",
       "    DUST_LAB_NAME  dust_pars_2a dust_pars_2b  \n",
       "19       0.023697           3.1         none  \n",
       "20       0.022214           3.1         none  \n",
       "21       0.023113           3.1         none  \n",
       "22       0.022988           3.1         none  \n",
       "23       0.022577           3.1         none  "
      ]
     },
     "execution_count": 8,
     "metadata": {},
     "output_type": "execute_result"
    }
   ],
   "source": [
    "pc.pointData.head()"
   ]
  },
  {
   "cell_type": "code",
   "execution_count": 9,
   "metadata": {
    "collapsed": false
   },
   "outputs": [
    {
     "data": {
      "text/plain": [
       "array(['point'], dtype=object)"
      ]
     },
     "execution_count": 9,
     "metadata": {},
     "output_type": "execute_result"
    }
   ],
   "source": [
    "pc.pointData.SOURCE_TYPE.unique()"
   ]
  },
  {
   "cell_type": "markdown",
   "metadata": {
    "collapsed": false
   },
   "source": [
    "Or the data for galaxy sources. All of the 'SOURCE_TYPE' column should be 'SERSIC2D' here"
   ]
  },
  {
   "cell_type": "code",
   "execution_count": 10,
   "metadata": {
    "collapsed": false
   },
   "outputs": [
    {
     "data": {
      "text/html": [
       "<div>\n",
       "<table border=\"1\" class=\"dataframe\">\n",
       "  <thead>\n",
       "    <tr style=\"text-align: right;\">\n",
       "      <th></th>\n",
       "      <th>ObsHistID</th>\n",
       "      <th>uniqueID</th>\n",
       "      <th>RA</th>\n",
       "      <th>DEC</th>\n",
       "      <th>MAG_NORM</th>\n",
       "      <th>SED_NAME</th>\n",
       "      <th>REDSHIFT</th>\n",
       "      <th>GAMMA1</th>\n",
       "      <th>GAMMA2</th>\n",
       "      <th>MU</th>\n",
       "      <th>...</th>\n",
       "      <th>a</th>\n",
       "      <th>b</th>\n",
       "      <th>pa</th>\n",
       "      <th>sindex</th>\n",
       "      <th>DUST_REST_NAME</th>\n",
       "      <th>dust_pars_1a</th>\n",
       "      <th>dust_pars_1b</th>\n",
       "      <th>DUST_LAB_NAME</th>\n",
       "      <th>dust_pars_2a</th>\n",
       "      <th>dust_pars_2b</th>\n",
       "    </tr>\n",
       "  </thead>\n",
       "  <tbody>\n",
       "    <tr>\n",
       "      <th>3166</th>\n",
       "      <td>230</td>\n",
       "      <td>61443696975898</td>\n",
       "      <td>52.746933</td>\n",
       "      <td>-27.302096</td>\n",
       "      <td>29.202030</td>\n",
       "      <td>galaxySED/Inst.20E09.02Z.spec.gz</td>\n",
       "      <td>2.468504</td>\n",
       "      <td>0.0</td>\n",
       "      <td>0.0</td>\n",
       "      <td>0.0</td>\n",
       "      <td>...</td>\n",
       "      <td>0.106550097</td>\n",
       "      <td>0.072628</td>\n",
       "      <td>323.752136</td>\n",
       "      <td>4</td>\n",
       "      <td>CCM</td>\n",
       "      <td>0.034057</td>\n",
       "      <td>3.1</td>\n",
       "      <td>CCM</td>\n",
       "      <td>0.1</td>\n",
       "      <td>3.1</td>\n",
       "    </tr>\n",
       "    <tr>\n",
       "      <th>3167</th>\n",
       "      <td>230</td>\n",
       "      <td>61443837534234</td>\n",
       "      <td>52.741738</td>\n",
       "      <td>-27.303680</td>\n",
       "      <td>26.103180</td>\n",
       "      <td>galaxySED/Burst.32E09.04Z.spec.gz</td>\n",
       "      <td>1.293985</td>\n",
       "      <td>0.0</td>\n",
       "      <td>0.0</td>\n",
       "      <td>0.0</td>\n",
       "      <td>...</td>\n",
       "      <td>0.262710899</td>\n",
       "      <td>0.235271</td>\n",
       "      <td>287.847473</td>\n",
       "      <td>4</td>\n",
       "      <td>CCM</td>\n",
       "      <td>0.033735</td>\n",
       "      <td>3.1</td>\n",
       "      <td>CCM</td>\n",
       "      <td>0.1</td>\n",
       "      <td>3.1</td>\n",
       "    </tr>\n",
       "    <tr>\n",
       "      <th>3168</th>\n",
       "      <td>230</td>\n",
       "      <td>61441086224410</td>\n",
       "      <td>52.732384</td>\n",
       "      <td>-27.298870</td>\n",
       "      <td>25.886740</td>\n",
       "      <td>galaxySED/Inst.20E09.02Z.spec.gz</td>\n",
       "      <td>1.534448</td>\n",
       "      <td>0.0</td>\n",
       "      <td>0.0</td>\n",
       "      <td>0.0</td>\n",
       "      <td>...</td>\n",
       "      <td>0.270949006</td>\n",
       "      <td>0.259721</td>\n",
       "      <td>241.190842</td>\n",
       "      <td>4</td>\n",
       "      <td>CCM</td>\n",
       "      <td>0.033394</td>\n",
       "      <td>3.1</td>\n",
       "      <td>CCM</td>\n",
       "      <td>0.3</td>\n",
       "      <td>3.1</td>\n",
       "    </tr>\n",
       "    <tr>\n",
       "      <th>3169</th>\n",
       "      <td>230</td>\n",
       "      <td>61445489678362</td>\n",
       "      <td>53.138257</td>\n",
       "      <td>-27.213373</td>\n",
       "      <td>30.173220</td>\n",
       "      <td>galaxySED/Burst.25E09.02Z.spec.gz</td>\n",
       "      <td>2.745050</td>\n",
       "      <td>0.0</td>\n",
       "      <td>0.0</td>\n",
       "      <td>0.0</td>\n",
       "      <td>...</td>\n",
       "      <td>0.116678402</td>\n",
       "      <td>0.091445</td>\n",
       "      <td>111.488747</td>\n",
       "      <td>4</td>\n",
       "      <td>CCM</td>\n",
       "      <td>0.020687</td>\n",
       "      <td>3.1</td>\n",
       "      <td>CCM</td>\n",
       "      <td>0.0</td>\n",
       "      <td>3.1</td>\n",
       "    </tr>\n",
       "    <tr>\n",
       "      <th>3170</th>\n",
       "      <td>230</td>\n",
       "      <td>61445870455834</td>\n",
       "      <td>53.146770</td>\n",
       "      <td>-27.218378</td>\n",
       "      <td>25.706829</td>\n",
       "      <td>galaxySED/Burst.32E09.02Z.spec.gz</td>\n",
       "      <td>0.893017</td>\n",
       "      <td>0.0</td>\n",
       "      <td>0.0</td>\n",
       "      <td>0.0</td>\n",
       "      <td>...</td>\n",
       "      <td>0.116741501</td>\n",
       "      <td>0.107004</td>\n",
       "      <td>140.923798</td>\n",
       "      <td>4</td>\n",
       "      <td>CCM</td>\n",
       "      <td>0.020247</td>\n",
       "      <td>3.1</td>\n",
       "      <td>CCM</td>\n",
       "      <td>0.3</td>\n",
       "      <td>3.1</td>\n",
       "    </tr>\n",
       "  </tbody>\n",
       "</table>\n",
       "<p>5 rows × 23 columns</p>\n",
       "</div>"
      ],
      "text/plain": [
       "      ObsHistID        uniqueID         RA        DEC   MAG_NORM  \\\n",
       "3166        230  61443696975898  52.746933 -27.302096  29.202030   \n",
       "3167        230  61443837534234  52.741738 -27.303680  26.103180   \n",
       "3168        230  61441086224410  52.732384 -27.298870  25.886740   \n",
       "3169        230  61445489678362  53.138257 -27.213373  30.173220   \n",
       "3170        230  61445870455834  53.146770 -27.218378  25.706829   \n",
       "\n",
       "                               SED_NAME  REDSHIFT  GAMMA1  GAMMA2   MU  \\\n",
       "3166   galaxySED/Inst.20E09.02Z.spec.gz  2.468504     0.0     0.0  0.0   \n",
       "3167  galaxySED/Burst.32E09.04Z.spec.gz  1.293985     0.0     0.0  0.0   \n",
       "3168   galaxySED/Inst.20E09.02Z.spec.gz  1.534448     0.0     0.0  0.0   \n",
       "3169  galaxySED/Burst.25E09.02Z.spec.gz  2.745050     0.0     0.0  0.0   \n",
       "3170  galaxySED/Burst.32E09.02Z.spec.gz  0.893017     0.0     0.0  0.0   \n",
       "\n",
       "          ...                 a         b          pa sindex  DUST_REST_NAME  \\\n",
       "3166      ...       0.106550097  0.072628  323.752136      4             CCM   \n",
       "3167      ...       0.262710899  0.235271  287.847473      4             CCM   \n",
       "3168      ...       0.270949006  0.259721  241.190842      4             CCM   \n",
       "3169      ...       0.116678402  0.091445  111.488747      4             CCM   \n",
       "3170      ...       0.116741501  0.107004  140.923798      4             CCM   \n",
       "\n",
       "      dust_pars_1a dust_pars_1b DUST_LAB_NAME  dust_pars_2a  dust_pars_2b  \n",
       "3166      0.034057          3.1           CCM           0.1           3.1  \n",
       "3167      0.033735          3.1           CCM           0.1           3.1  \n",
       "3168      0.033394          3.1           CCM           0.3           3.1  \n",
       "3169      0.020687          3.1           CCM           0.0           3.1  \n",
       "3170      0.020247          3.1           CCM           0.3           3.1  \n",
       "\n",
       "[5 rows x 23 columns]"
      ]
     },
     "execution_count": 10,
     "metadata": {},
     "output_type": "execute_result"
    }
   ],
   "source": [
    "pc.galaxyData.head()"
   ]
  },
  {
   "cell_type": "code",
   "execution_count": 11,
   "metadata": {
    "collapsed": false
   },
   "outputs": [
    {
     "data": {
      "text/plain": [
       "array(['sersic2d'], dtype=object)"
      ]
     },
     "execution_count": 11,
     "metadata": {},
     "output_type": "execute_result"
    }
   ],
   "source": [
    "pc.galaxyData.SOURCE_TYPE.unique()"
   ]
  },
  {
   "cell_type": "markdown",
   "metadata": {},
   "source": [
    "We can remove the obsHistID colum by setting `pc.keepObsHistID` == False"
   ]
  },
  {
   "cell_type": "code",
   "execution_count": 12,
   "metadata": {
    "collapsed": false
   },
   "outputs": [
    {
     "data": {
      "text/html": [
       "<div>\n",
       "<table border=\"1\" class=\"dataframe\">\n",
       "  <thead>\n",
       "    <tr style=\"text-align: right;\">\n",
       "      <th></th>\n",
       "      <th>uniqueID</th>\n",
       "      <th>RA</th>\n",
       "      <th>DEC</th>\n",
       "      <th>MAG_NORM</th>\n",
       "      <th>SED_NAME</th>\n",
       "      <th>REDSHIFT</th>\n",
       "      <th>GAMMA1</th>\n",
       "      <th>GAMMA2</th>\n",
       "      <th>MU</th>\n",
       "      <th>DELTA_RA</th>\n",
       "      <th>...</th>\n",
       "      <th>a</th>\n",
       "      <th>b</th>\n",
       "      <th>pa</th>\n",
       "      <th>sindex</th>\n",
       "      <th>DUST_REST_NAME</th>\n",
       "      <th>dust_pars_1a</th>\n",
       "      <th>dust_pars_1b</th>\n",
       "      <th>DUST_LAB_NAME</th>\n",
       "      <th>dust_pars_2a</th>\n",
       "      <th>dust_pars_2b</th>\n",
       "    </tr>\n",
       "  </thead>\n",
       "  <tbody>\n",
       "    <tr>\n",
       "      <th>3166</th>\n",
       "      <td>61443696975898</td>\n",
       "      <td>52.746933</td>\n",
       "      <td>-27.302096</td>\n",
       "      <td>29.202030</td>\n",
       "      <td>galaxySED/Inst.20E09.02Z.spec.gz</td>\n",
       "      <td>2.468504</td>\n",
       "      <td>0.0</td>\n",
       "      <td>0.0</td>\n",
       "      <td>0.0</td>\n",
       "      <td>0.0</td>\n",
       "      <td>...</td>\n",
       "      <td>0.106550097</td>\n",
       "      <td>0.072628</td>\n",
       "      <td>323.752136</td>\n",
       "      <td>4</td>\n",
       "      <td>CCM</td>\n",
       "      <td>0.034057</td>\n",
       "      <td>3.1</td>\n",
       "      <td>CCM</td>\n",
       "      <td>0.1</td>\n",
       "      <td>3.1</td>\n",
       "    </tr>\n",
       "    <tr>\n",
       "      <th>3167</th>\n",
       "      <td>61443837534234</td>\n",
       "      <td>52.741738</td>\n",
       "      <td>-27.303680</td>\n",
       "      <td>26.103180</td>\n",
       "      <td>galaxySED/Burst.32E09.04Z.spec.gz</td>\n",
       "      <td>1.293985</td>\n",
       "      <td>0.0</td>\n",
       "      <td>0.0</td>\n",
       "      <td>0.0</td>\n",
       "      <td>0.0</td>\n",
       "      <td>...</td>\n",
       "      <td>0.262710899</td>\n",
       "      <td>0.235271</td>\n",
       "      <td>287.847473</td>\n",
       "      <td>4</td>\n",
       "      <td>CCM</td>\n",
       "      <td>0.033735</td>\n",
       "      <td>3.1</td>\n",
       "      <td>CCM</td>\n",
       "      <td>0.1</td>\n",
       "      <td>3.1</td>\n",
       "    </tr>\n",
       "    <tr>\n",
       "      <th>3168</th>\n",
       "      <td>61441086224410</td>\n",
       "      <td>52.732384</td>\n",
       "      <td>-27.298870</td>\n",
       "      <td>25.886740</td>\n",
       "      <td>galaxySED/Inst.20E09.02Z.spec.gz</td>\n",
       "      <td>1.534448</td>\n",
       "      <td>0.0</td>\n",
       "      <td>0.0</td>\n",
       "      <td>0.0</td>\n",
       "      <td>0.0</td>\n",
       "      <td>...</td>\n",
       "      <td>0.270949006</td>\n",
       "      <td>0.259721</td>\n",
       "      <td>241.190842</td>\n",
       "      <td>4</td>\n",
       "      <td>CCM</td>\n",
       "      <td>0.033394</td>\n",
       "      <td>3.1</td>\n",
       "      <td>CCM</td>\n",
       "      <td>0.3</td>\n",
       "      <td>3.1</td>\n",
       "    </tr>\n",
       "    <tr>\n",
       "      <th>3169</th>\n",
       "      <td>61445489678362</td>\n",
       "      <td>53.138257</td>\n",
       "      <td>-27.213373</td>\n",
       "      <td>30.173220</td>\n",
       "      <td>galaxySED/Burst.25E09.02Z.spec.gz</td>\n",
       "      <td>2.745050</td>\n",
       "      <td>0.0</td>\n",
       "      <td>0.0</td>\n",
       "      <td>0.0</td>\n",
       "      <td>0.0</td>\n",
       "      <td>...</td>\n",
       "      <td>0.116678402</td>\n",
       "      <td>0.091445</td>\n",
       "      <td>111.488747</td>\n",
       "      <td>4</td>\n",
       "      <td>CCM</td>\n",
       "      <td>0.020687</td>\n",
       "      <td>3.1</td>\n",
       "      <td>CCM</td>\n",
       "      <td>0.0</td>\n",
       "      <td>3.1</td>\n",
       "    </tr>\n",
       "    <tr>\n",
       "      <th>3170</th>\n",
       "      <td>61445870455834</td>\n",
       "      <td>53.146770</td>\n",
       "      <td>-27.218378</td>\n",
       "      <td>25.706829</td>\n",
       "      <td>galaxySED/Burst.32E09.02Z.spec.gz</td>\n",
       "      <td>0.893017</td>\n",
       "      <td>0.0</td>\n",
       "      <td>0.0</td>\n",
       "      <td>0.0</td>\n",
       "      <td>0.0</td>\n",
       "      <td>...</td>\n",
       "      <td>0.116741501</td>\n",
       "      <td>0.107004</td>\n",
       "      <td>140.923798</td>\n",
       "      <td>4</td>\n",
       "      <td>CCM</td>\n",
       "      <td>0.020247</td>\n",
       "      <td>3.1</td>\n",
       "      <td>CCM</td>\n",
       "      <td>0.3</td>\n",
       "      <td>3.1</td>\n",
       "    </tr>\n",
       "  </tbody>\n",
       "</table>\n",
       "<p>5 rows × 22 columns</p>\n",
       "</div>"
      ],
      "text/plain": [
       "            uniqueID         RA        DEC   MAG_NORM  \\\n",
       "3166  61443696975898  52.746933 -27.302096  29.202030   \n",
       "3167  61443837534234  52.741738 -27.303680  26.103180   \n",
       "3168  61441086224410  52.732384 -27.298870  25.886740   \n",
       "3169  61445489678362  53.138257 -27.213373  30.173220   \n",
       "3170  61445870455834  53.146770 -27.218378  25.706829   \n",
       "\n",
       "                               SED_NAME  REDSHIFT  GAMMA1  GAMMA2   MU  \\\n",
       "3166   galaxySED/Inst.20E09.02Z.spec.gz  2.468504     0.0     0.0  0.0   \n",
       "3167  galaxySED/Burst.32E09.04Z.spec.gz  1.293985     0.0     0.0  0.0   \n",
       "3168   galaxySED/Inst.20E09.02Z.spec.gz  1.534448     0.0     0.0  0.0   \n",
       "3169  galaxySED/Burst.25E09.02Z.spec.gz  2.745050     0.0     0.0  0.0   \n",
       "3170  galaxySED/Burst.32E09.02Z.spec.gz  0.893017     0.0     0.0  0.0   \n",
       "\n",
       "      DELTA_RA     ...                 a         b          pa  sindex  \\\n",
       "3166       0.0     ...       0.106550097  0.072628  323.752136       4   \n",
       "3167       0.0     ...       0.262710899  0.235271  287.847473       4   \n",
       "3168       0.0     ...       0.270949006  0.259721  241.190842       4   \n",
       "3169       0.0     ...       0.116678402  0.091445  111.488747       4   \n",
       "3170       0.0     ...       0.116741501  0.107004  140.923798       4   \n",
       "\n",
       "      DUST_REST_NAME dust_pars_1a dust_pars_1b  DUST_LAB_NAME  dust_pars_2a  \\\n",
       "3166             CCM     0.034057          3.1            CCM           0.1   \n",
       "3167             CCM     0.033735          3.1            CCM           0.1   \n",
       "3168             CCM     0.033394          3.1            CCM           0.3   \n",
       "3169             CCM     0.020687          3.1            CCM           0.0   \n",
       "3170             CCM     0.020247          3.1            CCM           0.3   \n",
       "\n",
       "     dust_pars_2b  \n",
       "3166          3.1  \n",
       "3167          3.1  \n",
       "3168          3.1  \n",
       "3169          3.1  \n",
       "3170          3.1  \n",
       "\n",
       "[5 rows x 22 columns]"
      ]
     },
     "execution_count": 12,
     "metadata": {},
     "output_type": "execute_result"
    }
   ],
   "source": [
    "pc.keepObsHistID = False\n",
    "pc.galaxyData.head()"
   ]
  },
  {
   "cell_type": "markdown",
   "metadata": {},
   "source": [
    "## Equality"
   ]
  },
  {
   "cell_type": "code",
   "execution_count": 13,
   "metadata": {
    "collapsed": true
   },
   "outputs": [],
   "source": [
    "ot = PhoSimInputCatalog(fnamePhoSim)"
   ]
  },
  {
   "cell_type": "code",
   "execution_count": 14,
   "metadata": {
    "collapsed": false,
    "scrolled": true
   },
   "outputs": [],
   "source": [
    "assert pc == ot"
   ]
  },
  {
   "cell_type": "markdown",
   "metadata": {},
   "source": [
    "We could also do:\\"
   ]
  },
  {
   "cell_type": "code",
   "execution_count": 15,
   "metadata": {
    "collapsed": true
   },
   "outputs": [],
   "source": [
    "ott = PhoSimInputCatalog(fnamePhoSim, checkSpectralFileNamesForEquality=False)"
   ]
  },
  {
   "cell_type": "code",
   "execution_count": 16,
   "metadata": {
    "collapsed": false
   },
   "outputs": [
    {
     "data": {
      "text/plain": [
       "True"
      ]
     },
     "execution_count": 16,
     "metadata": {},
     "output_type": "execute_result"
    }
   ],
   "source": [
    "ott == pc"
   ]
  }
 ],
 "metadata": {
  "anaconda-cloud": {},
  "kernelspec": {
   "display_name": "Python [default]",
   "language": "python",
   "name": "python2"
  },
  "language_info": {
   "codemirror_mode": {
    "name": "ipython",
    "version": 2
   },
   "file_extension": ".py",
   "mimetype": "text/x-python",
   "name": "python",
   "nbconvert_exporter": "python",
   "pygments_lexer": "ipython2",
   "version": "2.7.12"
  }
 },
 "nbformat": 4,
 "nbformat_minor": 1
}
