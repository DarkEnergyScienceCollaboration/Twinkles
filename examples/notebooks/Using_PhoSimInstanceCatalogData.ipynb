{
 "cells": [
  {
   "cell_type": "code",
   "execution_count": 1,
   "metadata": {
    "collapsed": false
   },
   "outputs": [],
   "source": [
    "from desc.twinkles import PhoSimHeaders, PhoSimInputCatalog"
   ]
  },
  {
   "cell_type": "code",
   "execution_count": 2,
   "metadata": {
    "collapsed": true
   },
   "outputs": [],
   "source": [
    "from lsst.utils import getPackageDir"
   ]
  },
  {
   "cell_type": "code",
   "execution_count": 3,
   "metadata": {
    "collapsed": true
   },
   "outputs": [],
   "source": [
    "import os"
   ]
  },
  {
   "cell_type": "code",
   "execution_count": null,
   "metadata": {
    "collapsed": true
   },
   "outputs": [],
   "source": [
    "# PhoSim Instance catalog generated for obsHistID = 230 for TwinkSN using Minion_1016_sqlite.db"
   ]
  },
  {
   "cell_type": "code",
   "execution_count": 4,
   "metadata": {
    "collapsed": false
   },
   "outputs": [],
   "source": [
    "fnamePhoSim = os.path.join(getPackageDir('TWINKLES'), 'data', 'phosimcatalog.dat')\n",
    "assert os.path.exists(fnamePhoSim)"
   ]
  },
  {
   "cell_type": "markdown",
   "metadata": {},
   "source": [
    "## Instantiation of the class "
   ]
  },
  {
   "cell_type": "code",
   "execution_count": 5,
   "metadata": {
    "collapsed": false
   },
   "outputs": [],
   "source": [
    "pc = PhoSimInputCatalog(fnamePhoSim)"
   ]
  },
  {
   "cell_type": "markdown",
   "metadata": {},
   "source": [
    "we can look at the metadata"
   ]
  },
  {
   "cell_type": "code",
   "execution_count": 6,
   "metadata": {
    "collapsed": false
   },
   "outputs": [
    {
     "data": {
      "text/html": [
       "<div>\n",
       "<table border=\"1\" class=\"dataframe\">\n",
       "  <thead>\n",
       "    <tr style=\"text-align: right;\">\n",
       "      <th>a</th>\n",
       "      <th>rightascension</th>\n",
       "      <th>declination</th>\n",
       "      <th>mjd</th>\n",
       "      <th>altitude</th>\n",
       "      <th>azimuth</th>\n",
       "      <th>filter</th>\n",
       "      <th>rotskypos</th>\n",
       "      <th>dist2moon</th>\n",
       "      <th>moonalt</th>\n",
       "      <th>moondec</th>\n",
       "      <th>moonphase</th>\n",
       "      <th>moonra</th>\n",
       "      <th>nsnap</th>\n",
       "      <th>obshistid</th>\n",
       "      <th>rottelpos</th>\n",
       "      <th>seed</th>\n",
       "      <th>seeing</th>\n",
       "      <th>sunalt</th>\n",
       "      <th>vistime</th>\n",
       "    </tr>\n",
       "  </thead>\n",
       "  <tbody>\n",
       "    <tr>\n",
       "      <th>b</th>\n",
       "      <td>53.009138</td>\n",
       "      <td>-27.438949</td>\n",
       "      <td>59580.135589</td>\n",
       "      <td>67.632416</td>\n",
       "      <td>271.061721</td>\n",
       "      <td>1</td>\n",
       "      <td>256.719412</td>\n",
       "      <td>124.329951</td>\n",
       "      <td>-36.219699</td>\n",
       "      <td>-23.484394</td>\n",
       "      <td>3.838714</td>\n",
       "      <td>256.312326</td>\n",
       "      <td>1</td>\n",
       "      <td>220</td>\n",
       "      <td>0.0</td>\n",
       "      <td>220</td>\n",
       "      <td>0.869226</td>\n",
       "      <td>-32.225324</td>\n",
       "      <td>30.0</td>\n",
       "    </tr>\n",
       "  </tbody>\n",
       "</table>\n",
       "</div>"
      ],
      "text/plain": [
       "a  rightascension  declination           mjd   altitude     azimuth  filter  \\\n",
       "b       53.009138   -27.438949  59580.135589  67.632416  271.061721       1   \n",
       "\n",
       "a   rotskypos   dist2moon    moonalt    moondec  moonphase      moonra  nsnap  \\\n",
       "b  256.719412  124.329951 -36.219699 -23.484394   3.838714  256.312326      1   \n",
       "\n",
       "a  obshistid  rottelpos  seed    seeing     sunalt  vistime  \n",
       "b        220        0.0   220  0.869226 -32.225324     30.0  "
      ]
     },
     "execution_count": 6,
     "metadata": {},
     "output_type": "execute_result"
    }
   ],
   "source": [
    "pc.metadata"
   ]
  },
  {
   "cell_type": "markdown",
   "metadata": {},
   "source": [
    "Or the data for point sources. All of the 'SOURCE_TYPE' column should be 'point' here"
   ]
  },
  {
   "cell_type": "code",
   "execution_count": 7,
   "metadata": {
    "collapsed": false
   },
   "outputs": [
    {
     "data": {
      "text/html": [
       "<div>\n",
       "<table border=\"1\" class=\"dataframe\">\n",
       "  <thead>\n",
       "    <tr style=\"text-align: right;\">\n",
       "      <th></th>\n",
       "      <th>ObsHistID</th>\n",
       "      <th>uniqueID</th>\n",
       "      <th>RA</th>\n",
       "      <th>DEC</th>\n",
       "      <th>MAG_NORM</th>\n",
       "      <th>SED_NAME</th>\n",
       "      <th>REDSHIFT</th>\n",
       "      <th>GAMMA1</th>\n",
       "      <th>GAMMA2</th>\n",
       "      <th>MU</th>\n",
       "      <th>DELTA_RA</th>\n",
       "      <th>DELTA_DEC</th>\n",
       "      <th>SOURCE_TYPE</th>\n",
       "      <th>DUST_REST_NAME</th>\n",
       "      <th>DUST_LAB_NAME</th>\n",
       "      <th>dust_pars_2a</th>\n",
       "      <th>dust_pars_2b</th>\n",
       "    </tr>\n",
       "  </thead>\n",
       "  <tbody>\n",
       "    <tr>\n",
       "      <th>19</th>\n",
       "      <td>220</td>\n",
       "      <td>992887068676</td>\n",
       "      <td>53.051062</td>\n",
       "      <td>-27.360073</td>\n",
       "      <td>26.720154</td>\n",
       "      <td>starSED/phoSimMLT/lte027-3.0-0.0a+0.0.BT-Settl...</td>\n",
       "      <td>0.0</td>\n",
       "      <td>0.0</td>\n",
       "      <td>0.0</td>\n",
       "      <td>0.0</td>\n",
       "      <td>0.0</td>\n",
       "      <td>0.0</td>\n",
       "      <td>point</td>\n",
       "      <td>CCM</td>\n",
       "      <td>0.023697</td>\n",
       "      <td>3.1</td>\n",
       "      <td>none</td>\n",
       "    </tr>\n",
       "    <tr>\n",
       "      <th>20</th>\n",
       "      <td>220</td>\n",
       "      <td>1605702564868</td>\n",
       "      <td>53.063992</td>\n",
       "      <td>-27.334674</td>\n",
       "      <td>27.764489</td>\n",
       "      <td>starSED/phoSimMLT/lte035-5.0-1.0a+0.4.BT-Settl...</td>\n",
       "      <td>0.0</td>\n",
       "      <td>0.0</td>\n",
       "      <td>0.0</td>\n",
       "      <td>0.0</td>\n",
       "      <td>0.0</td>\n",
       "      <td>0.0</td>\n",
       "      <td>point</td>\n",
       "      <td>CCM</td>\n",
       "      <td>0.022214</td>\n",
       "      <td>3.1</td>\n",
       "      <td>none</td>\n",
       "    </tr>\n",
       "    <tr>\n",
       "      <th>21</th>\n",
       "      <td>220</td>\n",
       "      <td>1277139994628</td>\n",
       "      <td>53.052918</td>\n",
       "      <td>-27.340152</td>\n",
       "      <td>25.148224</td>\n",
       "      <td>starSED/phoSimMLT/lte033-4.5-1.0a+0.4.BT-Settl...</td>\n",
       "      <td>0.0</td>\n",
       "      <td>0.0</td>\n",
       "      <td>0.0</td>\n",
       "      <td>0.0</td>\n",
       "      <td>0.0</td>\n",
       "      <td>0.0</td>\n",
       "      <td>point</td>\n",
       "      <td>CCM</td>\n",
       "      <td>0.023113</td>\n",
       "      <td>3.1</td>\n",
       "      <td>none</td>\n",
       "    </tr>\n",
       "    <tr>\n",
       "      <th>22</th>\n",
       "      <td>220</td>\n",
       "      <td>1605694183428</td>\n",
       "      <td>53.050034</td>\n",
       "      <td>-27.304527</td>\n",
       "      <td>25.339699</td>\n",
       "      <td>starSED/phoSimMLT/lte037-5.5-1.0a+0.4.BT-Settl...</td>\n",
       "      <td>0.0</td>\n",
       "      <td>0.0</td>\n",
       "      <td>0.0</td>\n",
       "      <td>0.0</td>\n",
       "      <td>0.0</td>\n",
       "      <td>0.0</td>\n",
       "      <td>point</td>\n",
       "      <td>CCM</td>\n",
       "      <td>0.022988</td>\n",
       "      <td>3.1</td>\n",
       "      <td>none</td>\n",
       "    </tr>\n",
       "    <tr>\n",
       "      <th>23</th>\n",
       "      <td>220</td>\n",
       "      <td>1277138139140</td>\n",
       "      <td>53.055739</td>\n",
       "      <td>-27.311458</td>\n",
       "      <td>24.511910</td>\n",
       "      <td>starSED/phoSimMLT/lte032-4.5-1.0a+0.4.BT-Settl...</td>\n",
       "      <td>0.0</td>\n",
       "      <td>0.0</td>\n",
       "      <td>0.0</td>\n",
       "      <td>0.0</td>\n",
       "      <td>0.0</td>\n",
       "      <td>0.0</td>\n",
       "      <td>point</td>\n",
       "      <td>CCM</td>\n",
       "      <td>0.022577</td>\n",
       "      <td>3.1</td>\n",
       "      <td>none</td>\n",
       "    </tr>\n",
       "  </tbody>\n",
       "</table>\n",
       "</div>"
      ],
      "text/plain": [
       "    ObsHistID       uniqueID         RA        DEC   MAG_NORM  \\\n",
       "19        220   992887068676  53.051062 -27.360073  26.720154   \n",
       "20        220  1605702564868  53.063992 -27.334674  27.764489   \n",
       "21        220  1277139994628  53.052918 -27.340152  25.148224   \n",
       "22        220  1605694183428  53.050034 -27.304527  25.339699   \n",
       "23        220  1277138139140  53.055739 -27.311458  24.511910   \n",
       "\n",
       "                                             SED_NAME  REDSHIFT  GAMMA1  \\\n",
       "19  starSED/phoSimMLT/lte027-3.0-0.0a+0.0.BT-Settl...       0.0     0.0   \n",
       "20  starSED/phoSimMLT/lte035-5.0-1.0a+0.4.BT-Settl...       0.0     0.0   \n",
       "21  starSED/phoSimMLT/lte033-4.5-1.0a+0.4.BT-Settl...       0.0     0.0   \n",
       "22  starSED/phoSimMLT/lte037-5.5-1.0a+0.4.BT-Settl...       0.0     0.0   \n",
       "23  starSED/phoSimMLT/lte032-4.5-1.0a+0.4.BT-Settl...       0.0     0.0   \n",
       "\n",
       "    GAMMA2   MU  DELTA_RA  DELTA_DEC SOURCE_TYPE DUST_REST_NAME  \\\n",
       "19     0.0  0.0       0.0        0.0       point            CCM   \n",
       "20     0.0  0.0       0.0        0.0       point            CCM   \n",
       "21     0.0  0.0       0.0        0.0       point            CCM   \n",
       "22     0.0  0.0       0.0        0.0       point            CCM   \n",
       "23     0.0  0.0       0.0        0.0       point            CCM   \n",
       "\n",
       "    DUST_LAB_NAME  dust_pars_2a dust_pars_2b  \n",
       "19       0.023697           3.1         none  \n",
       "20       0.022214           3.1         none  \n",
       "21       0.023113           3.1         none  \n",
       "22       0.022988           3.1         none  \n",
       "23       0.022577           3.1         none  "
      ]
     },
     "execution_count": 7,
     "metadata": {},
     "output_type": "execute_result"
    }
   ],
   "source": [
    "pc.pointData.head()"
   ]
  },
  {
   "cell_type": "code",
   "execution_count": 8,
   "metadata": {
    "collapsed": false
   },
   "outputs": [
    {
     "data": {
      "text/plain": [
       "array(['point'], dtype=object)"
      ]
     },
     "execution_count": 8,
     "metadata": {},
     "output_type": "execute_result"
    }
   ],
   "source": [
    "pc.pointData.SOURCE_TYPE.unique()"
   ]
  },
  {
   "cell_type": "markdown",
   "metadata": {
    "collapsed": false
   },
   "source": [
    "Or the data for galaxy sources. All of the 'SOURCE_TYPE' column should be 'SERSIC2D' here"
   ]
  },
  {
   "cell_type": "code",
   "execution_count": 9,
   "metadata": {
    "collapsed": false
   },
   "outputs": [
    {
     "data": {
      "text/html": [
       "<div>\n",
       "<table border=\"1\" class=\"dataframe\">\n",
       "  <thead>\n",
       "    <tr style=\"text-align: right;\">\n",
       "      <th></th>\n",
       "      <th>ObsHistID</th>\n",
       "      <th>uniqueID</th>\n",
       "      <th>RA</th>\n",
       "      <th>DEC</th>\n",
       "      <th>MAG_NORM</th>\n",
       "      <th>SED_NAME</th>\n",
       "      <th>REDSHIFT</th>\n",
       "      <th>GAMMA1</th>\n",
       "      <th>GAMMA2</th>\n",
       "      <th>MU</th>\n",
       "      <th>...</th>\n",
       "      <th>a</th>\n",
       "      <th>b</th>\n",
       "      <th>pa</th>\n",
       "      <th>sindex</th>\n",
       "      <th>DUST_REST_NAME</th>\n",
       "      <th>dust_pars_1a</th>\n",
       "      <th>dust_pars_1b</th>\n",
       "      <th>DUST_LAB_NAME</th>\n",
       "      <th>dust_pars_2a</th>\n",
       "      <th>dust_pars_2b</th>\n",
       "    </tr>\n",
       "  </thead>\n",
       "  <tbody>\n",
       "    <tr>\n",
       "      <th>3166</th>\n",
       "      <td>220</td>\n",
       "      <td>61447155724314</td>\n",
       "      <td>53.213400</td>\n",
       "      <td>-27.295145</td>\n",
       "      <td>27.487270</td>\n",
       "      <td>galaxySED/Burst.32E09.04Z.spec.gz</td>\n",
       "      <td>2.600257</td>\n",
       "      <td>0.0</td>\n",
       "      <td>0.0</td>\n",
       "      <td>0.0</td>\n",
       "      <td>...</td>\n",
       "      <td>0.213720098</td>\n",
       "      <td>0.206814</td>\n",
       "      <td>187.113190</td>\n",
       "      <td>4</td>\n",
       "      <td>CCM</td>\n",
       "      <td>0.020344</td>\n",
       "      <td>3.1</td>\n",
       "      <td>CCM</td>\n",
       "      <td>0.0</td>\n",
       "      <td>3.1</td>\n",
       "    </tr>\n",
       "    <tr>\n",
       "      <th>3167</th>\n",
       "      <td>220</td>\n",
       "      <td>61442268237850</td>\n",
       "      <td>53.233759</td>\n",
       "      <td>-27.288280</td>\n",
       "      <td>29.647079</td>\n",
       "      <td>galaxySED/Inst.25E09.02Z.spec.gz</td>\n",
       "      <td>1.677406</td>\n",
       "      <td>0.0</td>\n",
       "      <td>0.0</td>\n",
       "      <td>0.0</td>\n",
       "      <td>...</td>\n",
       "      <td>0.0975518972</td>\n",
       "      <td>0.095104</td>\n",
       "      <td>58.646145</td>\n",
       "      <td>4</td>\n",
       "      <td>CCM</td>\n",
       "      <td>0.022432</td>\n",
       "      <td>3.1</td>\n",
       "      <td>CCM</td>\n",
       "      <td>0.1</td>\n",
       "      <td>3.1</td>\n",
       "    </tr>\n",
       "    <tr>\n",
       "      <th>3168</th>\n",
       "      <td>220</td>\n",
       "      <td>61445302384666</td>\n",
       "      <td>53.224705</td>\n",
       "      <td>-27.293495</td>\n",
       "      <td>26.165541</td>\n",
       "      <td>galaxySED/Inst.25E09.02Z.spec.gz</td>\n",
       "      <td>1.418579</td>\n",
       "      <td>0.0</td>\n",
       "      <td>0.0</td>\n",
       "      <td>0.0</td>\n",
       "      <td>...</td>\n",
       "      <td>0.224151701</td>\n",
       "      <td>0.198573</td>\n",
       "      <td>203.023590</td>\n",
       "      <td>4</td>\n",
       "      <td>CCM</td>\n",
       "      <td>0.020676</td>\n",
       "      <td>3.1</td>\n",
       "      <td>CCM</td>\n",
       "      <td>0.3</td>\n",
       "      <td>3.1</td>\n",
       "    </tr>\n",
       "    <tr>\n",
       "      <th>3169</th>\n",
       "      <td>220</td>\n",
       "      <td>61448294033434</td>\n",
       "      <td>53.229974</td>\n",
       "      <td>-27.282400</td>\n",
       "      <td>27.474911</td>\n",
       "      <td>galaxySED/Inst.25E09.0005Z.spec.gz</td>\n",
       "      <td>1.862989</td>\n",
       "      <td>0.0</td>\n",
       "      <td>0.0</td>\n",
       "      <td>0.0</td>\n",
       "      <td>...</td>\n",
       "      <td>0.239205807</td>\n",
       "      <td>0.235967</td>\n",
       "      <td>128.834778</td>\n",
       "      <td>4</td>\n",
       "      <td>CCM</td>\n",
       "      <td>0.022345</td>\n",
       "      <td>3.1</td>\n",
       "      <td>CCM</td>\n",
       "      <td>0.2</td>\n",
       "      <td>3.1</td>\n",
       "    </tr>\n",
       "    <tr>\n",
       "      <th>3170</th>\n",
       "      <td>220</td>\n",
       "      <td>61444313089050</td>\n",
       "      <td>53.219798</td>\n",
       "      <td>-27.287598</td>\n",
       "      <td>29.812530</td>\n",
       "      <td>galaxySED/Inst.20E09.02Z.spec.gz</td>\n",
       "      <td>1.943299</td>\n",
       "      <td>0.0</td>\n",
       "      <td>0.0</td>\n",
       "      <td>0.0</td>\n",
       "      <td>...</td>\n",
       "      <td>0.107780598</td>\n",
       "      <td>0.097126</td>\n",
       "      <td>47.022808</td>\n",
       "      <td>4</td>\n",
       "      <td>CCM</td>\n",
       "      <td>0.020454</td>\n",
       "      <td>3.1</td>\n",
       "      <td>CCM</td>\n",
       "      <td>0.1</td>\n",
       "      <td>3.1</td>\n",
       "    </tr>\n",
       "  </tbody>\n",
       "</table>\n",
       "<p>5 rows × 23 columns</p>\n",
       "</div>"
      ],
      "text/plain": [
       "      ObsHistID        uniqueID         RA        DEC   MAG_NORM  \\\n",
       "3166        220  61447155724314  53.213400 -27.295145  27.487270   \n",
       "3167        220  61442268237850  53.233759 -27.288280  29.647079   \n",
       "3168        220  61445302384666  53.224705 -27.293495  26.165541   \n",
       "3169        220  61448294033434  53.229974 -27.282400  27.474911   \n",
       "3170        220  61444313089050  53.219798 -27.287598  29.812530   \n",
       "\n",
       "                                SED_NAME  REDSHIFT  GAMMA1  GAMMA2   MU  \\\n",
       "3166   galaxySED/Burst.32E09.04Z.spec.gz  2.600257     0.0     0.0  0.0   \n",
       "3167    galaxySED/Inst.25E09.02Z.spec.gz  1.677406     0.0     0.0  0.0   \n",
       "3168    galaxySED/Inst.25E09.02Z.spec.gz  1.418579     0.0     0.0  0.0   \n",
       "3169  galaxySED/Inst.25E09.0005Z.spec.gz  1.862989     0.0     0.0  0.0   \n",
       "3170    galaxySED/Inst.20E09.02Z.spec.gz  1.943299     0.0     0.0  0.0   \n",
       "\n",
       "          ...                  a         b          pa sindex  DUST_REST_NAME  \\\n",
       "3166      ...        0.213720098  0.206814  187.113190      4             CCM   \n",
       "3167      ...       0.0975518972  0.095104   58.646145      4             CCM   \n",
       "3168      ...        0.224151701  0.198573  203.023590      4             CCM   \n",
       "3169      ...        0.239205807  0.235967  128.834778      4             CCM   \n",
       "3170      ...        0.107780598  0.097126   47.022808      4             CCM   \n",
       "\n",
       "      dust_pars_1a dust_pars_1b DUST_LAB_NAME  dust_pars_2a  dust_pars_2b  \n",
       "3166      0.020344          3.1           CCM           0.0           3.1  \n",
       "3167      0.022432          3.1           CCM           0.1           3.1  \n",
       "3168      0.020676          3.1           CCM           0.3           3.1  \n",
       "3169      0.022345          3.1           CCM           0.2           3.1  \n",
       "3170      0.020454          3.1           CCM           0.1           3.1  \n",
       "\n",
       "[5 rows x 23 columns]"
      ]
     },
     "execution_count": 9,
     "metadata": {},
     "output_type": "execute_result"
    }
   ],
   "source": [
    "pc.galaxyData.head()"
   ]
  },
  {
   "cell_type": "code",
   "execution_count": 10,
   "metadata": {
    "collapsed": false
   },
   "outputs": [
    {
     "data": {
      "text/plain": [
       "array(['sersic2d'], dtype=object)"
      ]
     },
     "execution_count": 10,
     "metadata": {},
     "output_type": "execute_result"
    }
   ],
   "source": [
    "pc.galaxyData.SOURCE_TYPE.unique()"
   ]
  },
  {
   "cell_type": "markdown",
   "metadata": {},
   "source": [
    "We can remove the obsHistID colum by setting `pc.keepObsHistID` == False"
   ]
  },
  {
   "cell_type": "markdown",
   "metadata": {},
   "source": [
    "## Equality"
   ]
  },
  {
   "cell_type": "code",
   "execution_count": 11,
   "metadata": {
    "collapsed": true
   },
   "outputs": [],
   "source": [
    "ot = PhoSimInputCatalog(fnamePhoSim)"
   ]
  },
  {
   "cell_type": "code",
   "execution_count": 12,
   "metadata": {
    "collapsed": false,
    "scrolled": true
   },
   "outputs": [],
   "source": [
    "assert pc == ot"
   ]
  },
  {
   "cell_type": "markdown",
   "metadata": {},
   "source": [
    "We could also do:\\"
   ]
  },
  {
   "cell_type": "code",
   "execution_count": 15,
   "metadata": {
    "collapsed": true
   },
   "outputs": [],
   "source": [
    "ott = PhoSimInputCatalog(fnamePhoSim, checkSpectralFileNamesForEquality=False)"
   ]
  },
  {
   "cell_type": "code",
   "execution_count": 16,
   "metadata": {
    "collapsed": false
   },
   "outputs": [
    {
     "data": {
      "text/plain": [
       "True"
      ]
     },
     "execution_count": 16,
     "metadata": {},
     "output_type": "execute_result"
    }
   ],
   "source": [
    "ott == pc"
   ]
  }
 ],
 "metadata": {
  "anaconda-cloud": {},
  "kernelspec": {
   "display_name": "Python [default]",
   "language": "python",
   "name": "python2"
  },
  "language_info": {
   "codemirror_mode": {
    "name": "ipython",
    "version": 2
   },
   "file_extension": ".py",
   "mimetype": "text/x-python",
   "name": "python",
   "nbconvert_exporter": "python",
   "pygments_lexer": "ipython2",
   "version": "2.7.12"
  }
 },
 "nbformat": 4,
 "nbformat_minor": 1
}
