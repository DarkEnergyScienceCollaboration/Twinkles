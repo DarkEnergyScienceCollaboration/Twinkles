{
 "cells": [
  {
   "cell_type": "code",
   "execution_count": 33,
   "metadata": {
    "collapsed": false
   },
   "outputs": [],
   "source": [
    "import numpy as np\n",
    "%matplotlib inline\n",
    "import matplotlib.pyplot as plt\n",
    "import pandas as pd\n",
    "import seaborn as sns\n",
    "sns.set()"
   ]
  },
  {
   "cell_type": "code",
   "execution_count": 2,
   "metadata": {
    "collapsed": true
   },
   "outputs": [],
   "source": [
    "opSimVisits = pd.read_csv('/Users/rbiswas/doc/projects/LSST/Twinkles/code/SN_sims/SelectedKrakenVisits.csv',\n",
    "                          index_col='obsHistID')"
   ]
  },
  {
   "cell_type": "code",
   "execution_count": 3,
   "metadata": {
    "collapsed": false
   },
   "outputs": [
    {
     "data": {
      "text/html": [
       "<div>\n",
       "<table border=\"1\" class=\"dataframe\">\n",
       "  <thead>\n",
       "    <tr style=\"text-align: right;\">\n",
       "      <th></th>\n",
       "      <th>sessionID</th>\n",
       "      <th>propID</th>\n",
       "      <th>fieldID</th>\n",
       "      <th>fieldRA</th>\n",
       "      <th>fieldDec</th>\n",
       "      <th>filter</th>\n",
       "      <th>expDate</th>\n",
       "      <th>expMJD</th>\n",
       "      <th>night</th>\n",
       "      <th>visitTime</th>\n",
       "      <th>...</th>\n",
       "      <th>darkBright</th>\n",
       "      <th>rawSeeing</th>\n",
       "      <th>wind</th>\n",
       "      <th>humidity</th>\n",
       "      <th>slewDist</th>\n",
       "      <th>slewTime</th>\n",
       "      <th>fiveSigmaDepth</th>\n",
       "      <th>ditheredRA</th>\n",
       "      <th>ditheredDec</th>\n",
       "      <th>obsID</th>\n",
       "    </tr>\n",
       "    <tr>\n",
       "      <th>obsHistID</th>\n",
       "      <th></th>\n",
       "      <th></th>\n",
       "      <th></th>\n",
       "      <th></th>\n",
       "      <th></th>\n",
       "      <th></th>\n",
       "      <th></th>\n",
       "      <th></th>\n",
       "      <th></th>\n",
       "      <th></th>\n",
       "      <th></th>\n",
       "      <th></th>\n",
       "      <th></th>\n",
       "      <th></th>\n",
       "      <th></th>\n",
       "      <th></th>\n",
       "      <th></th>\n",
       "      <th></th>\n",
       "      <th></th>\n",
       "      <th></th>\n",
       "      <th></th>\n",
       "    </tr>\n",
       "  </thead>\n",
       "  <tbody>\n",
       "    <tr>\n",
       "      <th>220</th>\n",
       "      <td>1042</td>\n",
       "      <td>152</td>\n",
       "      <td>1427</td>\n",
       "      <td>0.925184</td>\n",
       "      <td>-0.4789</td>\n",
       "      <td>g</td>\n",
       "      <td>11699</td>\n",
       "      <td>59580.135415</td>\n",
       "      <td>0</td>\n",
       "      <td>34</td>\n",
       "      <td>...</td>\n",
       "      <td>84.048697</td>\n",
       "      <td>0.869226</td>\n",
       "      <td>0</td>\n",
       "      <td>0</td>\n",
       "      <td>0.000000</td>\n",
       "      <td>120</td>\n",
       "      <td>24.357859</td>\n",
       "      <td>0.907976</td>\n",
       "      <td>-0.505351</td>\n",
       "      <td>220</td>\n",
       "    </tr>\n",
       "    <tr>\n",
       "      <th>230</th>\n",
       "      <td>1042</td>\n",
       "      <td>152</td>\n",
       "      <td>1427</td>\n",
       "      <td>0.925184</td>\n",
       "      <td>-0.4789</td>\n",
       "      <td>i</td>\n",
       "      <td>12177</td>\n",
       "      <td>59580.140948</td>\n",
       "      <td>0</td>\n",
       "      <td>34</td>\n",
       "      <td>...</td>\n",
       "      <td>84.905894</td>\n",
       "      <td>0.791241</td>\n",
       "      <td>0</td>\n",
       "      <td>0</td>\n",
       "      <td>0.000000</td>\n",
       "      <td>120</td>\n",
       "      <td>23.529519</td>\n",
       "      <td>0.907976</td>\n",
       "      <td>-0.505351</td>\n",
       "      <td>230</td>\n",
       "    </tr>\n",
       "    <tr>\n",
       "      <th>200</th>\n",
       "      <td>1042</td>\n",
       "      <td>152</td>\n",
       "      <td>1427</td>\n",
       "      <td>0.925184</td>\n",
       "      <td>-0.4789</td>\n",
       "      <td>r</td>\n",
       "      <td>10861</td>\n",
       "      <td>59580.125716</td>\n",
       "      <td>0</td>\n",
       "      <td>34</td>\n",
       "      <td>...</td>\n",
       "      <td>82.698160</td>\n",
       "      <td>0.744120</td>\n",
       "      <td>0</td>\n",
       "      <td>0</td>\n",
       "      <td>0.837387</td>\n",
       "      <td>140</td>\n",
       "      <td>24.234817</td>\n",
       "      <td>0.907976</td>\n",
       "      <td>-0.505351</td>\n",
       "      <td>200</td>\n",
       "    </tr>\n",
       "    <tr>\n",
       "      <th>276</th>\n",
       "      <td>1042</td>\n",
       "      <td>152</td>\n",
       "      <td>1427</td>\n",
       "      <td>0.925184</td>\n",
       "      <td>-0.4789</td>\n",
       "      <td>y</td>\n",
       "      <td>14069</td>\n",
       "      <td>59580.162846</td>\n",
       "      <td>0</td>\n",
       "      <td>34</td>\n",
       "      <td>...</td>\n",
       "      <td>89.102576</td>\n",
       "      <td>1.132846</td>\n",
       "      <td>0</td>\n",
       "      <td>0</td>\n",
       "      <td>0.000000</td>\n",
       "      <td>120</td>\n",
       "      <td>21.187902</td>\n",
       "      <td>0.907976</td>\n",
       "      <td>-0.505351</td>\n",
       "      <td>276</td>\n",
       "    </tr>\n",
       "    <tr>\n",
       "      <th>250</th>\n",
       "      <td>1042</td>\n",
       "      <td>152</td>\n",
       "      <td>1427</td>\n",
       "      <td>0.925184</td>\n",
       "      <td>-0.4789</td>\n",
       "      <td>z</td>\n",
       "      <td>13015</td>\n",
       "      <td>59580.150647</td>\n",
       "      <td>0</td>\n",
       "      <td>34</td>\n",
       "      <td>...</td>\n",
       "      <td>86.600272</td>\n",
       "      <td>0.928894</td>\n",
       "      <td>0</td>\n",
       "      <td>0</td>\n",
       "      <td>0.000000</td>\n",
       "      <td>120</td>\n",
       "      <td>22.841986</td>\n",
       "      <td>0.907976</td>\n",
       "      <td>-0.505351</td>\n",
       "      <td>250</td>\n",
       "    </tr>\n",
       "  </tbody>\n",
       "</table>\n",
       "<p>5 rows × 47 columns</p>\n",
       "</div>"
      ],
      "text/plain": [
       "           sessionID  propID  fieldID   fieldRA  fieldDec filter  expDate  \\\n",
       "obsHistID                                                                   \n",
       "220             1042     152     1427  0.925184   -0.4789      g    11699   \n",
       "230             1042     152     1427  0.925184   -0.4789      i    12177   \n",
       "200             1042     152     1427  0.925184   -0.4789      r    10861   \n",
       "276             1042     152     1427  0.925184   -0.4789      y    14069   \n",
       "250             1042     152     1427  0.925184   -0.4789      z    13015   \n",
       "\n",
       "                 expMJD  night  visitTime  ...    darkBright  rawSeeing  wind  \\\n",
       "obsHistID                                  ...                                  \n",
       "220        59580.135415      0         34  ...     84.048697   0.869226     0   \n",
       "230        59580.140948      0         34  ...     84.905894   0.791241     0   \n",
       "200        59580.125716      0         34  ...     82.698160   0.744120     0   \n",
       "276        59580.162846      0         34  ...     89.102576   1.132846     0   \n",
       "250        59580.150647      0         34  ...     86.600272   0.928894     0   \n",
       "\n",
       "           humidity  slewDist  slewTime  fiveSigmaDepth  ditheredRA  \\\n",
       "obsHistID                                                             \n",
       "220               0  0.000000       120       24.357859    0.907976   \n",
       "230               0  0.000000       120       23.529519    0.907976   \n",
       "200               0  0.837387       140       24.234817    0.907976   \n",
       "276               0  0.000000       120       21.187902    0.907976   \n",
       "250               0  0.000000       120       22.841986    0.907976   \n",
       "\n",
       "           ditheredDec  obsID  \n",
       "obsHistID                      \n",
       "220          -0.505351    220  \n",
       "230          -0.505351    230  \n",
       "200          -0.505351    200  \n",
       "276          -0.505351    276  \n",
       "250          -0.505351    250  \n",
       "\n",
       "[5 rows x 47 columns]"
      ]
     },
     "execution_count": 3,
     "metadata": {},
     "output_type": "execute_result"
    }
   ],
   "source": [
    "opSimVisits.head()"
   ]
  },
  {
   "cell_type": "code",
   "execution_count": 36,
   "metadata": {
    "collapsed": true
   },
   "outputs": [],
   "source": [
    "surveyStartDate = 59580"
   ]
  },
  {
   "cell_type": "code",
   "execution_count": 4,
   "metadata": {
    "collapsed": true
   },
   "outputs": [],
   "source": [
    "krakenObs = pd.read_csv('krakenvists_twinkles.csv', index_col='obsHistID')"
   ]
  },
  {
   "cell_type": "code",
   "execution_count": 5,
   "metadata": {
    "collapsed": false
   },
   "outputs": [
    {
     "data": {
      "text/html": [
       "<div>\n",
       "<table border=\"1\" class=\"dataframe\">\n",
       "  <thead>\n",
       "    <tr style=\"text-align: right;\">\n",
       "      <th></th>\n",
       "      <th>Unnamed: 0</th>\n",
       "      <th>sessionID</th>\n",
       "      <th>propID</th>\n",
       "      <th>fieldID</th>\n",
       "      <th>fieldRA</th>\n",
       "      <th>fieldDec</th>\n",
       "      <th>filter</th>\n",
       "      <th>expDate</th>\n",
       "      <th>expMJD</th>\n",
       "      <th>night</th>\n",
       "      <th>...</th>\n",
       "      <th>mag_6000184645801</th>\n",
       "      <th>mag_6000184408901</th>\n",
       "      <th>mag_6000043638100</th>\n",
       "      <th>mag_6001586473901</th>\n",
       "      <th>mag_6000269054205</th>\n",
       "      <th>mag_6001531895002</th>\n",
       "      <th>mag_6000321245000</th>\n",
       "      <th>mag_6001417557202</th>\n",
       "      <th>mag_6000637885901</th>\n",
       "      <th>mag_6000221385203</th>\n",
       "    </tr>\n",
       "    <tr>\n",
       "      <th>obsHistID</th>\n",
       "      <th></th>\n",
       "      <th></th>\n",
       "      <th></th>\n",
       "      <th></th>\n",
       "      <th></th>\n",
       "      <th></th>\n",
       "      <th></th>\n",
       "      <th></th>\n",
       "      <th></th>\n",
       "      <th></th>\n",
       "      <th></th>\n",
       "      <th></th>\n",
       "      <th></th>\n",
       "      <th></th>\n",
       "      <th></th>\n",
       "      <th></th>\n",
       "      <th></th>\n",
       "      <th></th>\n",
       "      <th></th>\n",
       "      <th></th>\n",
       "      <th></th>\n",
       "    </tr>\n",
       "  </thead>\n",
       "  <tbody>\n",
       "    <tr>\n",
       "      <th>220</th>\n",
       "      <td>0</td>\n",
       "      <td>1042</td>\n",
       "      <td>152</td>\n",
       "      <td>1427</td>\n",
       "      <td>0.925184</td>\n",
       "      <td>-0.4789</td>\n",
       "      <td>g</td>\n",
       "      <td>11699</td>\n",
       "      <td>59580.135415</td>\n",
       "      <td>0</td>\n",
       "      <td>...</td>\n",
       "      <td>28.266336</td>\n",
       "      <td>27.866121</td>\n",
       "      <td>27.697391</td>\n",
       "      <td>28.145976</td>\n",
       "      <td>28.526304</td>\n",
       "      <td>28.404733</td>\n",
       "      <td>28.418325</td>\n",
       "      <td>28.005642</td>\n",
       "      <td>28.323475</td>\n",
       "      <td>27.438158</td>\n",
       "    </tr>\n",
       "    <tr>\n",
       "      <th>230</th>\n",
       "      <td>1</td>\n",
       "      <td>1042</td>\n",
       "      <td>152</td>\n",
       "      <td>1427</td>\n",
       "      <td>0.925184</td>\n",
       "      <td>-0.4789</td>\n",
       "      <td>i</td>\n",
       "      <td>12177</td>\n",
       "      <td>59580.140948</td>\n",
       "      <td>0</td>\n",
       "      <td>...</td>\n",
       "      <td>27.617377</td>\n",
       "      <td>27.784248</td>\n",
       "      <td>27.275260</td>\n",
       "      <td>27.878113</td>\n",
       "      <td>27.823338</td>\n",
       "      <td>28.086856</td>\n",
       "      <td>27.926815</td>\n",
       "      <td>27.864636</td>\n",
       "      <td>27.884126</td>\n",
       "      <td>27.228839</td>\n",
       "    </tr>\n",
       "    <tr>\n",
       "      <th>200</th>\n",
       "      <td>2</td>\n",
       "      <td>1042</td>\n",
       "      <td>152</td>\n",
       "      <td>1427</td>\n",
       "      <td>0.925184</td>\n",
       "      <td>-0.4789</td>\n",
       "      <td>r</td>\n",
       "      <td>10861</td>\n",
       "      <td>59580.125716</td>\n",
       "      <td>0</td>\n",
       "      <td>...</td>\n",
       "      <td>27.536583</td>\n",
       "      <td>27.479861</td>\n",
       "      <td>27.140664</td>\n",
       "      <td>27.601803</td>\n",
       "      <td>27.763960</td>\n",
       "      <td>27.868612</td>\n",
       "      <td>27.766292</td>\n",
       "      <td>27.558418</td>\n",
       "      <td>27.694935</td>\n",
       "      <td>27.015630</td>\n",
       "    </tr>\n",
       "    <tr>\n",
       "      <th>276</th>\n",
       "      <td>3</td>\n",
       "      <td>1042</td>\n",
       "      <td>152</td>\n",
       "      <td>1427</td>\n",
       "      <td>0.925184</td>\n",
       "      <td>-0.4789</td>\n",
       "      <td>y</td>\n",
       "      <td>14069</td>\n",
       "      <td>59580.162846</td>\n",
       "      <td>0</td>\n",
       "      <td>...</td>\n",
       "      <td>27.297952</td>\n",
       "      <td>27.498321</td>\n",
       "      <td>27.244944</td>\n",
       "      <td>27.282763</td>\n",
       "      <td>27.503450</td>\n",
       "      <td>27.734839</td>\n",
       "      <td>27.486826</td>\n",
       "      <td>27.409329</td>\n",
       "      <td>27.393466</td>\n",
       "      <td>27.239481</td>\n",
       "    </tr>\n",
       "    <tr>\n",
       "      <th>250</th>\n",
       "      <td>4</td>\n",
       "      <td>1042</td>\n",
       "      <td>152</td>\n",
       "      <td>1427</td>\n",
       "      <td>0.925184</td>\n",
       "      <td>-0.4789</td>\n",
       "      <td>z</td>\n",
       "      <td>13015</td>\n",
       "      <td>59580.150647</td>\n",
       "      <td>0</td>\n",
       "      <td>...</td>\n",
       "      <td>27.639220</td>\n",
       "      <td>27.791272</td>\n",
       "      <td>27.483809</td>\n",
       "      <td>27.668637</td>\n",
       "      <td>27.848579</td>\n",
       "      <td>28.062127</td>\n",
       "      <td>27.850256</td>\n",
       "      <td>27.750957</td>\n",
       "      <td>27.766323</td>\n",
       "      <td>27.452931</td>\n",
       "    </tr>\n",
       "  </tbody>\n",
       "</table>\n",
       "<p>5 rows × 13931 columns</p>\n",
       "</div>"
      ],
      "text/plain": [
       "           Unnamed: 0  sessionID  propID  fieldID   fieldRA  fieldDec filter  \\\n",
       "obsHistID                                                                      \n",
       "220                 0       1042     152     1427  0.925184   -0.4789      g   \n",
       "230                 1       1042     152     1427  0.925184   -0.4789      i   \n",
       "200                 2       1042     152     1427  0.925184   -0.4789      r   \n",
       "276                 3       1042     152     1427  0.925184   -0.4789      y   \n",
       "250                 4       1042     152     1427  0.925184   -0.4789      z   \n",
       "\n",
       "           expDate        expMJD  night        ...          mag_6000184645801  \\\n",
       "obsHistID                                      ...                              \n",
       "220          11699  59580.135415      0        ...                  28.266336   \n",
       "230          12177  59580.140948      0        ...                  27.617377   \n",
       "200          10861  59580.125716      0        ...                  27.536583   \n",
       "276          14069  59580.162846      0        ...                  27.297952   \n",
       "250          13015  59580.150647      0        ...                  27.639220   \n",
       "\n",
       "           mag_6000184408901  mag_6000043638100  mag_6001586473901  \\\n",
       "obsHistID                                                            \n",
       "220                27.866121          27.697391          28.145976   \n",
       "230                27.784248          27.275260          27.878113   \n",
       "200                27.479861          27.140664          27.601803   \n",
       "276                27.498321          27.244944          27.282763   \n",
       "250                27.791272          27.483809          27.668637   \n",
       "\n",
       "           mag_6000269054205  mag_6001531895002  mag_6000321245000  \\\n",
       "obsHistID                                                            \n",
       "220                28.526304          28.404733          28.418325   \n",
       "230                27.823338          28.086856          27.926815   \n",
       "200                27.763960          27.868612          27.766292   \n",
       "276                27.503450          27.734839          27.486826   \n",
       "250                27.848579          28.062127          27.850256   \n",
       "\n",
       "           mag_6001417557202  mag_6000637885901  mag_6000221385203  \n",
       "obsHistID                                                           \n",
       "220                28.005642          28.323475          27.438158  \n",
       "230                27.864636          27.884126          27.228839  \n",
       "200                27.558418          27.694935          27.015630  \n",
       "276                27.409329          27.393466          27.239481  \n",
       "250                27.750957          27.766323          27.452931  \n",
       "\n",
       "[5 rows x 13931 columns]"
      ]
     },
     "execution_count": 5,
     "metadata": {},
     "output_type": "execute_result"
    }
   ],
   "source": [
    "krakenObs.head()"
   ]
  },
  {
   "cell_type": "code",
   "execution_count": 7,
   "metadata": {
    "collapsed": true
   },
   "outputs": [],
   "source": [
    "krakenObs['fsD'] = opSimVisits['fiveSigmaDepth']"
   ]
  },
  {
   "cell_type": "code",
   "execution_count": 9,
   "metadata": {
    "collapsed": false
   },
   "outputs": [],
   "source": [
    "sncols = [x for x in krakenObs.columns if x.startswith('mag_')]\n",
    "HSNR_sn = [x for x in sncols if (krakenObs[x] - krakenObs['fsD']).min() < 0.]"
   ]
  },
  {
   "cell_type": "code",
   "execution_count": 10,
   "metadata": {
    "collapsed": false
   },
   "outputs": [
    {
     "name": "stdout",
     "output_type": "stream",
     "text": [
      "1077 13883\n"
     ]
    }
   ],
   "source": [
    "print len(HSNR_sn), len(sncols)"
   ]
  },
  {
   "cell_type": "code",
   "execution_count": 19,
   "metadata": {
    "collapsed": true
   },
   "outputs": [],
   "source": [
    "HsnrID = [int(x.split('_')[1]) for x in HSNR_sn]"
   ]
  },
  {
   "cell_type": "code",
   "execution_count": 12,
   "metadata": {
    "collapsed": true
   },
   "outputs": [],
   "source": [
    "twinklesSN = pd.read_csv('kraken_sim.csv', index_col='snid')"
   ]
  },
  {
   "cell_type": "code",
   "execution_count": 17,
   "metadata": {
    "collapsed": false
   },
   "outputs": [
    {
     "data": {
      "text/plain": [
       "Int64Index([6001014685800, 6000001337700, 6000067275900, 6001014687900,\n",
       "            6000635785100, 6000003901100, 6000223131300, 6001014685801,\n",
       "            6000222594300, 6001014700100,\n",
       "            ...\n",
       "            6000639100002, 6000184833700, 6000124769101, 6000453898403,\n",
       "            6000637885901, 6001355552000, 6000639693502, 6000879935200,\n",
       "            6001171318102, 6000221385203],\n",
       "           dtype='int64', name=u'snid', length=307900)"
      ]
     },
     "execution_count": 17,
     "metadata": {},
     "output_type": "execute_result"
    }
   ],
   "source": [
    "twinklesSN.index"
   ]
  },
  {
   "cell_type": "code",
   "execution_count": 122,
   "metadata": {
    "collapsed": true
   },
   "outputs": [],
   "source": [
    "sns.set_context('notebook')"
   ]
  },
  {
   "cell_type": "code",
   "execution_count": 110,
   "metadata": {
    "collapsed": false
   },
   "outputs": [
    {
     "data": {
      "text/plain": [
       "<matplotlib.text.Text at 0x117625a90>"
      ]
     },
     "execution_count": 110,
     "metadata": {},
     "output_type": "execute_result"
    },
    {
     "data": {
      "image/png": "[encoded data removed]",
      "text/plain": [
       "<matplotlib.figure.Figure at 0x117510710>"
      ]
     },
     "metadata": {},
     "output_type": "display_data"
    }
   ],
   "source": [
    "fig, ax = plt.subplots(1, 3, **{'figsize': (15, 5)})\n",
    "sns.distplot(twinklesSN.ix[HsnrID, 'redshift'], rug=False, kde=False,\n",
    "             hist_kws={'histtype':'step', 'alpha':1, 'color':'k', 'lw':2}, ax=ax[0])\n",
    "ax[0].set_ylabel('Num SN with at least one obs with SNR >5')\n",
    "t0hist = sns.distplot(twinklesSN.ix[HsnrID, 't0'] + surveyStartDate, rug=False, kde=False, bins=10,\n",
    "             hist_kws={'histtype':'step', 'alpha':1, 'color':'k', 'lw':2}, ax=ax[1])\n",
    "t0hist.axhline(np.mean(np.histogram(twinklesSN.ix[HsnrID, 't0'] + surveyStartDate, bins=10)[0]), linestyle='dashed')\n",
    "t0hist.figure.autofmt_xdate()\n",
    "#sns.jointplot(x=twinklesSN.ix[HsnrID]['snra'], y=twinklesSN.ix[HsnrID]['sndec'], kind=\"hex\", color=\"k\", ax=ax[2]);\n",
    "ax[2].hexbin(twinklesSN.ix[HsnrID]['snra'], twinklesSN.ix[HsnrID]['sndec'])\n",
    "ax[2].set_xlabel('ra (deg)')\n",
    "ax[2].set_ylabel('dec (deg)')"
   ]
  },
  {
   "cell_type": "code",
   "execution_count": 169,
   "metadata": {
    "collapsed": false
   },
   "outputs": [
    {
     "data": {
      "text/plain": [
       "<matplotlib.legend.Legend at 0x13824a910>"
      ]
     },
     "execution_count": 169,
     "metadata": {},
     "output_type": "execute_result"
    },
    {
     "data": {
      "image/png": "[encoded data removed]",
      "text/plain": [
       "<matplotlib.figure.Figure at 0x11299f1d0>"
      ]
     },
     "metadata": {},
     "output_type": "display_data"
    }
   ],
   "source": [
    "fig, ax = plt.subplots(1, 4, **{'figsize':(20, 4)})\n",
    "sns.distplot(twinklesSN.ix[HsnrID, 'c'], hist_kws={'histtype':'step', 'lw':2, 'color':'k', 'alpha':1},\n",
    "             rug=False, ax=ax[0], norm_hist=True, kde=False, label='selected')\n",
    "sns.distplot(twinklesSN.c, hist_kws={'histtype':'step', 'lw':2, 'color':'r', 'alpha':1}, rug=False, ax=ax[0],\n",
    "            norm_hist=True, kde=False, label='truth')\n",
    "\n",
    "sns.distplot(twinklesSN.ix[HsnrID, 'x1'], hist_kws={'histtype':'step', 'lw':2, 'color':'k', 'alpha':1},\n",
    "             rug=False, ax=ax[1], norm_hist=True, kde=False)\n",
    "sns.distplot(twinklesSN.x1, hist_kws={'histtype':'step', 'lw':2, 'color':'r', 'alpha':1}, rug=False, ax=ax[1],\n",
    "            norm_hist=True, kde=False)\n",
    "\n",
    "sns.distplot(twinklesSN.ix[HsnrID, 'M'], hist_kws={'histtype':'step', 'lw':2, 'color':'k', 'alpha':1},\n",
    "             rug=False, ax=ax[3], kde=False, norm_hist=True)\n",
    "sns.distplot(twinklesSN.M, hist_kws={'histtype':'step', 'lw':2, 'color':'r', 'alpha':1}, rug=False, ax=ax[3], \n",
    "             kde=False, norm_hist=True)\n",
    "\n",
    "sns.distplot(twinklesSN.ix[HsnrID, 'mB'], hist_kws={'histtype':'step', 'lw':2, 'color':'k', 'alpha':1},\n",
    "             rug=False, ax=ax[2], kde=False, norm_hist=True)\n",
    "sns.distplot(twinklesSN.mB, hist_kws={'histtype':'step', 'lw':2, 'color':'r', 'alpha':1}, rug=False, ax=ax[2], \n",
    "             kde=False, norm_hist=True)\n",
    "\n",
    "\n",
    "ax[0].legend(loc='best')"
   ]
  },
  {
   "cell_type": "markdown",
   "metadata": {},
   "source": [
    "## Detections per Image"
   ]
  },
  {
   "cell_type": "code",
   "execution_count": 123,
   "metadata": {
    "collapsed": true
   },
   "outputs": [],
   "source": [
    "mycols = ['fsD'] + HSNR_sn"
   ]
  },
  {
   "cell_type": "code",
   "execution_count": 172,
   "metadata": {
    "collapsed": false
   },
   "outputs": [],
   "source": [
    "obsvals = krakenObs[mycols].copy(deep=True)"
   ]
  },
  {
   "cell_type": "code",
   "execution_count": 173,
   "metadata": {
    "collapsed": true
   },
   "outputs": [],
   "source": [
    "for col in HSNR_sn:\n",
    "    obsvals[col] = np.where(obsvals[col] - obsvals['fsD'] < 0, 1, 0)"
   ]
  },
  {
   "cell_type": "code",
   "execution_count": 215,
   "metadata": {
    "collapsed": true
   },
   "outputs": [],
   "source": [
    "sns.set_context('talk')"
   ]
  },
  {
   "cell_type": "code",
   "execution_count": 216,
   "metadata": {
    "collapsed": false
   },
   "outputs": [
    {
     "data": {
      "image/png": "[encoded data removed]",
      "text/plain": [
       "<matplotlib.figure.Figure at 0x147530350>"
      ]
     },
     "metadata": {},
     "output_type": "display_data"
    }
   ],
   "source": [
    "fig, ax = plt.subplots()\n",
    "_ = ax.hist(obsvals[HSNR_sn].sum(axis=1).values, cumulative=-1, \n",
    "         histtype='step', lw=2., alpha=1., bins=np.arange(0,1200,50), color='k')\n",
    "ax.set_xlabel(\"NumDetections = Number of 5 sigma SN on an image\")\n",
    "#ax.set_yscale('log')\n",
    "_ = ax.set_ylabel(\"Number of images with detections < NumDetections \")\n",
    "_ = ax.set_title('Note: Cumulative Plot')"
   ]
  },
  {
   "cell_type": "code",
   "execution_count": null,
   "metadata": {
    "collapsed": true
   },
   "outputs": [],
   "source": [
    "fig"
   ]
  },
  {
   "cell_type": "code",
   "execution_count": 213,
   "metadata": {
    "collapsed": true
   },
   "outputs": [],
   "source": [
    "fig.savefig('NumberOfDetections.png')"
   ]
  },
  {
   "cell_type": "code",
   "execution_count": 187,
   "metadata": {
    "collapsed": false
   },
   "outputs": [
    {
     "data": {
      "text/plain": [
       "array([317, 180, 543, ..., 401,  22,  79])"
      ]
     },
     "execution_count": 187,
     "metadata": {},
     "output_type": "execute_result"
    }
   ],
   "source": [
    "obsvals[HSNR_sn].sum(axis=1).values"
   ]
  },
  {
   "cell_type": "code",
   "execution_count": 128,
   "metadata": {
    "collapsed": true
   },
   "outputs": [],
   "source": [
    "obsvals = obsvals[HSNR_sn]"
   ]
  },
  {
   "cell_type": "code",
   "execution_count": 171,
   "metadata": {
    "collapsed": false
   },
   "outputs": [
    {
     "data": {
      "text/plain": [
       "2"
      ]
     },
     "execution_count": 171,
     "metadata": {},
     "output_type": "execute_result"
    }
   ],
   "source": [
    "np.where(obsvals[HSNR_sn[-1]] - obsvals['fsD'] < 0 , 1, 0).sum()"
   ]
  },
  {
   "cell_type": "code",
   "execution_count": 157,
   "metadata": {
    "collapsed": false
   },
   "outputs": [
    {
     "data": {
      "text/plain": [
       "snid\n",
       "6000068561600    0.0943\n",
       "6000000563900    0.0806\n",
       "6000000563901    0.0806\n",
       "6000456681900    0.0563\n",
       "6000018388500    0.0993\n",
       "6001298854000    0.0785\n",
       "6000011371600    0.0805\n",
       "6000029190500    0.0808\n",
       "6000011373800    0.0805\n",
       "6000011373801    0.0805\n",
       "6000005864600    0.1362\n",
       "6000732728000    0.1314\n",
       "6000439026600    0.1489\n",
       "6000730813700    0.1267\n",
       "6000257604700    0.1482\n",
       "6000519497500    0.1492\n",
       "6000314620700    0.1445\n",
       "6000257604701    0.1482\n",
       "6000733329900    0.1237\n",
       "6000858772300    0.1435\n",
       "6000147691900    0.1291\n",
       "6000025898000    0.1368\n",
       "6001523857800    0.1327\n",
       "6000858772301    0.1435\n",
       "6000213229800    0.1482\n",
       "6000981572900    0.1499\n",
       "6001524169900    0.1266\n",
       "6000061069800    0.1498\n",
       "6001405450100    0.1289\n",
       "6000858772302    0.1435\n",
       "                  ...  \n",
       "6001310916600    0.5103\n",
       "6001056917201    0.5338\n",
       "6001054937401    0.5054\n",
       "6001053612900    0.5080\n",
       "6000337483000    0.5127\n",
       "6000906864600    0.5131\n",
       "6001310916602    0.5103\n",
       "6001189563801    0.5436\n",
       "6000336839900    0.5169\n",
       "6001493319600    0.5415\n",
       "6001056708501    0.5168\n",
       "6001372612900    0.5048\n",
       "6000193828301    0.5094\n",
       "6000563558300    0.5328\n",
       "6000907248600    0.5238\n",
       "6001547287100    0.5035\n",
       "6000780967500    0.5704\n",
       "6000404974700    0.5521\n",
       "6001058587800    0.5676\n",
       "6000918298000    0.5684\n",
       "6000284172800    0.5515\n",
       "6000478145100    0.5629\n",
       "6000665329102    0.5509\n",
       "6000869524900    0.5811\n",
       "6000236131800    0.5532\n",
       "6000915967801    0.5859\n",
       "6000015128900    0.6389\n",
       "6000433376000    0.6132\n",
       "6000712986300    0.6291\n",
       "6000235498100    0.6045\n",
       "Name: redshift, dtype: float64"
      ]
     },
     "execution_count": 157,
     "metadata": {},
     "output_type": "execute_result"
    }
   ],
   "source": [
    "twinklesSN.ix[HsnrID,'redshift']"
   ]
  },
  {
   "cell_type": "code",
   "execution_count": 158,
   "metadata": {
    "collapsed": false
   },
   "outputs": [
    {
     "data": {
      "text/html": [
       "<div>\n",
       "<table border=\"1\" class=\"dataframe\">\n",
       "  <thead>\n",
       "    <tr style=\"text-align: right;\">\n",
       "      <th></th>\n",
       "      <th>night</th>\n",
       "      <th>mag_6000235498100</th>\n",
       "    </tr>\n",
       "    <tr>\n",
       "      <th>obsHistID</th>\n",
       "      <th></th>\n",
       "      <th></th>\n",
       "    </tr>\n",
       "  </thead>\n",
       "  <tbody>\n",
       "    <tr>\n",
       "      <th>220</th>\n",
       "      <td>0</td>\n",
       "      <td>25.218976</td>\n",
       "    </tr>\n",
       "    <tr>\n",
       "      <th>230</th>\n",
       "      <td>0</td>\n",
       "      <td>24.945321</td>\n",
       "    </tr>\n",
       "    <tr>\n",
       "      <th>200</th>\n",
       "      <td>0</td>\n",
       "      <td>24.775820</td>\n",
       "    </tr>\n",
       "    <tr>\n",
       "      <th>276</th>\n",
       "      <td>0</td>\n",
       "      <td>25.116071</td>\n",
       "    </tr>\n",
       "    <tr>\n",
       "      <th>250</th>\n",
       "      <td>0</td>\n",
       "      <td>25.279574</td>\n",
       "    </tr>\n",
       "    <tr>\n",
       "      <th>1637</th>\n",
       "      <td>2</td>\n",
       "      <td>26.606322</td>\n",
       "    </tr>\n",
       "    <tr>\n",
       "      <th>2226</th>\n",
       "      <td>3</td>\n",
       "      <td>26.606322</td>\n",
       "    </tr>\n",
       "    <tr>\n",
       "      <th>2942</th>\n",
       "      <td>4</td>\n",
       "      <td>26.606322</td>\n",
       "    </tr>\n",
       "    <tr>\n",
       "      <th>3665</th>\n",
       "      <td>5</td>\n",
       "      <td>26.606322</td>\n",
       "    </tr>\n",
       "    <tr>\n",
       "      <th>4571</th>\n",
       "      <td>6</td>\n",
       "      <td>26.606322</td>\n",
       "    </tr>\n",
       "    <tr>\n",
       "      <th>185880</th>\n",
       "      <td>245</td>\n",
       "      <td>25.218976</td>\n",
       "    </tr>\n",
       "    <tr>\n",
       "      <th>185900</th>\n",
       "      <td>245</td>\n",
       "      <td>24.945321</td>\n",
       "    </tr>\n",
       "    <tr>\n",
       "      <th>185870</th>\n",
       "      <td>245</td>\n",
       "      <td>24.775820</td>\n",
       "    </tr>\n",
       "    <tr>\n",
       "      <th>185946</th>\n",
       "      <td>245</td>\n",
       "      <td>25.116071</td>\n",
       "    </tr>\n",
       "    <tr>\n",
       "      <th>185926</th>\n",
       "      <td>245</td>\n",
       "      <td>25.279574</td>\n",
       "    </tr>\n",
       "    <tr>\n",
       "      <th>195066</th>\n",
       "      <td>261</td>\n",
       "      <td>25.218976</td>\n",
       "    </tr>\n",
       "    <tr>\n",
       "      <th>195086</th>\n",
       "      <td>261</td>\n",
       "      <td>24.945321</td>\n",
       "    </tr>\n",
       "    <tr>\n",
       "      <th>195056</th>\n",
       "      <td>261</td>\n",
       "      <td>24.775820</td>\n",
       "    </tr>\n",
       "    <tr>\n",
       "      <th>195132</th>\n",
       "      <td>261</td>\n",
       "      <td>25.116071</td>\n",
       "    </tr>\n",
       "    <tr>\n",
       "      <th>195112</th>\n",
       "      <td>261</td>\n",
       "      <td>25.279574</td>\n",
       "    </tr>\n",
       "    <tr>\n",
       "      <th>201057</th>\n",
       "      <td>271</td>\n",
       "      <td>26.606322</td>\n",
       "    </tr>\n",
       "    <tr>\n",
       "      <th>203015</th>\n",
       "      <td>274</td>\n",
       "      <td>25.218976</td>\n",
       "    </tr>\n",
       "    <tr>\n",
       "      <th>203030</th>\n",
       "      <td>274</td>\n",
       "      <td>24.945321</td>\n",
       "    </tr>\n",
       "    <tr>\n",
       "      <th>203005</th>\n",
       "      <td>274</td>\n",
       "      <td>24.775820</td>\n",
       "    </tr>\n",
       "    <tr>\n",
       "      <th>203062</th>\n",
       "      <td>274</td>\n",
       "      <td>25.116071</td>\n",
       "    </tr>\n",
       "    <tr>\n",
       "      <th>203036</th>\n",
       "      <td>274</td>\n",
       "      <td>25.279574</td>\n",
       "    </tr>\n",
       "    <tr>\n",
       "      <th>204764</th>\n",
       "      <td>277</td>\n",
       "      <td>25.218976</td>\n",
       "    </tr>\n",
       "    <tr>\n",
       "      <th>204784</th>\n",
       "      <td>277</td>\n",
       "      <td>24.945321</td>\n",
       "    </tr>\n",
       "    <tr>\n",
       "      <th>204754</th>\n",
       "      <td>277</td>\n",
       "      <td>24.775820</td>\n",
       "    </tr>\n",
       "    <tr>\n",
       "      <th>204830</th>\n",
       "      <td>277</td>\n",
       "      <td>25.116071</td>\n",
       "    </tr>\n",
       "    <tr>\n",
       "      <th>...</th>\n",
       "      <td>...</td>\n",
       "      <td>...</td>\n",
       "    </tr>\n",
       "    <tr>\n",
       "      <th>2431086</th>\n",
       "      <td>3623</td>\n",
       "      <td>24.945321</td>\n",
       "    </tr>\n",
       "    <tr>\n",
       "      <th>2431056</th>\n",
       "      <td>3623</td>\n",
       "      <td>24.775820</td>\n",
       "    </tr>\n",
       "    <tr>\n",
       "      <th>2431132</th>\n",
       "      <td>3623</td>\n",
       "      <td>25.116071</td>\n",
       "    </tr>\n",
       "    <tr>\n",
       "      <th>2431112</th>\n",
       "      <td>3623</td>\n",
       "      <td>25.279574</td>\n",
       "    </tr>\n",
       "    <tr>\n",
       "      <th>2433151</th>\n",
       "      <td>3626</td>\n",
       "      <td>25.218976</td>\n",
       "    </tr>\n",
       "    <tr>\n",
       "      <th>2433171</th>\n",
       "      <td>3626</td>\n",
       "      <td>24.945321</td>\n",
       "    </tr>\n",
       "    <tr>\n",
       "      <th>2433141</th>\n",
       "      <td>3626</td>\n",
       "      <td>24.775820</td>\n",
       "    </tr>\n",
       "    <tr>\n",
       "      <th>2433217</th>\n",
       "      <td>3626</td>\n",
       "      <td>25.116071</td>\n",
       "    </tr>\n",
       "    <tr>\n",
       "      <th>2433197</th>\n",
       "      <td>3626</td>\n",
       "      <td>25.279574</td>\n",
       "    </tr>\n",
       "    <tr>\n",
       "      <th>2435233</th>\n",
       "      <td>3629</td>\n",
       "      <td>25.218976</td>\n",
       "    </tr>\n",
       "    <tr>\n",
       "      <th>2435253</th>\n",
       "      <td>3629</td>\n",
       "      <td>24.945321</td>\n",
       "    </tr>\n",
       "    <tr>\n",
       "      <th>2435223</th>\n",
       "      <td>3629</td>\n",
       "      <td>24.775820</td>\n",
       "    </tr>\n",
       "    <tr>\n",
       "      <th>2435299</th>\n",
       "      <td>3629</td>\n",
       "      <td>25.116071</td>\n",
       "    </tr>\n",
       "    <tr>\n",
       "      <th>2435279</th>\n",
       "      <td>3629</td>\n",
       "      <td>25.279574</td>\n",
       "    </tr>\n",
       "    <tr>\n",
       "      <th>2435922</th>\n",
       "      <td>3631</td>\n",
       "      <td>26.606322</td>\n",
       "    </tr>\n",
       "    <tr>\n",
       "      <th>2436607</th>\n",
       "      <td>3632</td>\n",
       "      <td>26.606322</td>\n",
       "    </tr>\n",
       "    <tr>\n",
       "      <th>2437301</th>\n",
       "      <td>3633</td>\n",
       "      <td>26.606322</td>\n",
       "    </tr>\n",
       "    <tr>\n",
       "      <th>2438631</th>\n",
       "      <td>3636</td>\n",
       "      <td>26.606322</td>\n",
       "    </tr>\n",
       "    <tr>\n",
       "      <th>2439331</th>\n",
       "      <td>3637</td>\n",
       "      <td>26.606322</td>\n",
       "    </tr>\n",
       "    <tr>\n",
       "      <th>2440036</th>\n",
       "      <td>3638</td>\n",
       "      <td>26.606322</td>\n",
       "    </tr>\n",
       "    <tr>\n",
       "      <th>2440831</th>\n",
       "      <td>3639</td>\n",
       "      <td>25.218976</td>\n",
       "    </tr>\n",
       "    <tr>\n",
       "      <th>2440841</th>\n",
       "      <td>3639</td>\n",
       "      <td>24.945321</td>\n",
       "    </tr>\n",
       "    <tr>\n",
       "      <th>2440811</th>\n",
       "      <td>3639</td>\n",
       "      <td>24.775820</td>\n",
       "    </tr>\n",
       "    <tr>\n",
       "      <th>2440887</th>\n",
       "      <td>3639</td>\n",
       "      <td>25.116071</td>\n",
       "    </tr>\n",
       "    <tr>\n",
       "      <th>2440861</th>\n",
       "      <td>3639</td>\n",
       "      <td>25.279574</td>\n",
       "    </tr>\n",
       "    <tr>\n",
       "      <th>2442752</th>\n",
       "      <td>3642</td>\n",
       "      <td>25.218976</td>\n",
       "    </tr>\n",
       "    <tr>\n",
       "      <th>2442772</th>\n",
       "      <td>3642</td>\n",
       "      <td>24.945321</td>\n",
       "    </tr>\n",
       "    <tr>\n",
       "      <th>2442742</th>\n",
       "      <td>3642</td>\n",
       "      <td>24.775820</td>\n",
       "    </tr>\n",
       "    <tr>\n",
       "      <th>2442799</th>\n",
       "      <td>3642</td>\n",
       "      <td>25.116071</td>\n",
       "    </tr>\n",
       "    <tr>\n",
       "      <th>2442775</th>\n",
       "      <td>3642</td>\n",
       "      <td>25.279574</td>\n",
       "    </tr>\n",
       "  </tbody>\n",
       "</table>\n",
       "<p>1227 rows × 2 columns</p>\n",
       "</div>"
      ],
      "text/plain": [
       "           night  mag_6000235498100\n",
       "obsHistID                          \n",
       "220            0          25.218976\n",
       "230            0          24.945321\n",
       "200            0          24.775820\n",
       "276            0          25.116071\n",
       "250            0          25.279574\n",
       "1637           2          26.606322\n",
       "2226           3          26.606322\n",
       "2942           4          26.606322\n",
       "3665           5          26.606322\n",
       "4571           6          26.606322\n",
       "185880       245          25.218976\n",
       "185900       245          24.945321\n",
       "185870       245          24.775820\n",
       "185946       245          25.116071\n",
       "185926       245          25.279574\n",
       "195066       261          25.218976\n",
       "195086       261          24.945321\n",
       "195056       261          24.775820\n",
       "195132       261          25.116071\n",
       "195112       261          25.279574\n",
       "201057       271          26.606322\n",
       "203015       274          25.218976\n",
       "203030       274          24.945321\n",
       "203005       274          24.775820\n",
       "203062       274          25.116071\n",
       "203036       274          25.279574\n",
       "204764       277          25.218976\n",
       "204784       277          24.945321\n",
       "204754       277          24.775820\n",
       "204830       277          25.116071\n",
       "...          ...                ...\n",
       "2431086     3623          24.945321\n",
       "2431056     3623          24.775820\n",
       "2431132     3623          25.116071\n",
       "2431112     3623          25.279574\n",
       "2433151     3626          25.218976\n",
       "2433171     3626          24.945321\n",
       "2433141     3626          24.775820\n",
       "2433217     3626          25.116071\n",
       "2433197     3626          25.279574\n",
       "2435233     3629          25.218976\n",
       "2435253     3629          24.945321\n",
       "2435223     3629          24.775820\n",
       "2435299     3629          25.116071\n",
       "2435279     3629          25.279574\n",
       "2435922     3631          26.606322\n",
       "2436607     3632          26.606322\n",
       "2437301     3633          26.606322\n",
       "2438631     3636          26.606322\n",
       "2439331     3637          26.606322\n",
       "2440036     3638          26.606322\n",
       "2440831     3639          25.218976\n",
       "2440841     3639          24.945321\n",
       "2440811     3639          24.775820\n",
       "2440887     3639          25.116071\n",
       "2440861     3639          25.279574\n",
       "2442752     3642          25.218976\n",
       "2442772     3642          24.945321\n",
       "2442742     3642          24.775820\n",
       "2442799     3642          25.116071\n",
       "2442775     3642          25.279574\n",
       "\n",
       "[1227 rows x 2 columns]"
      ]
     },
     "execution_count": 158,
     "metadata": {},
     "output_type": "execute_result"
    }
   ],
   "source": [
    "krakenObs[['night', HSNR_sn[-1]]]"
   ]
  },
  {
   "cell_type": "code",
   "execution_count": 135,
   "metadata": {
    "collapsed": false
   },
   "outputs": [
    {
     "data": {
      "text/plain": [
       "'mag_6000068561600'"
      ]
     },
     "execution_count": 135,
     "metadata": {},
     "output_type": "execute_result"
    }
   ],
   "source": [
    "HSNR_sn[0]"
   ]
  },
  {
   "cell_type": "markdown",
   "metadata": {},
   "source": [
    "# Scratch"
   ]
  },
  {
   "cell_type": "code",
   "execution_count": null,
   "metadata": {
    "collapsed": true
   },
   "outputs": [],
   "source": []
  },
  {
   "cell_type": "code",
   "execution_count": 165,
   "metadata": {
    "collapsed": false
   },
   "outputs": [
    {
     "data": {
      "text/plain": [
       "<seaborn.axisgrid.JointGrid at 0x126c5da10>"
      ]
     },
     "execution_count": 165,
     "metadata": {},
     "output_type": "execute_result"
    },
    {
     "data": {
      "image/png": "[encoded data removed]",
      "text/plain": [
       "<matplotlib.figure.Figure at 0x118f4c550>"
      ]
     },
     "metadata": {},
     "output_type": "display_data"
    },
    {
     "data": {
      "image/png": "[encoded data removed]",
      "text/plain": [
       "<matplotlib.figure.Figure at 0x126c52ad0>"
      ]
     },
     "metadata": {},
     "output_type": "display_data"
    }
   ],
   "source": [
    "sns.jointplot(x=twinklesSN.ix[HsnrID, 'c'], y=twinklesSN.ix[HsnrID, 'mB'],kind='kde')\n",
    "sns.jointplot(x=twinklesSN.ix[HsnrID, 'x1'], y=twinklesSN.ix[HsnrID, 'mB'],kind='kde')\n",
    "\n",
    "\n"
   ]
  },
  {
   "cell_type": "code",
   "execution_count": 130,
   "metadata": {
    "collapsed": false
   },
   "outputs": [
    {
     "data": {
      "text/plain": [
       "1123"
      ]
     },
     "execution_count": 130,
     "metadata": {},
     "output_type": "execute_result"
    }
   ],
   "source": [
    "obsvals.mag_6000000563900.sum()"
   ]
  }
 ],
 "metadata": {
  "kernelspec": {
   "display_name": "Python 2",
   "language": "python",
   "name": "python2"
  },
  "language_info": {
   "codemirror_mode": {
    "name": "ipython",
    "version": 2
   },
   "file_extension": ".py",
   "mimetype": "text/x-python",
   "name": "python",
   "nbconvert_exporter": "python",
   "pygments_lexer": "ipython2",
   "version": "2.7.11"
  }
 },
 "nbformat": 4,
 "nbformat_minor": 0
}
